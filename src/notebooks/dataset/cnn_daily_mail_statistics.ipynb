{
 "cells": [
  {
   "cell_type": "code",
   "execution_count": 1,
   "metadata": {},
   "outputs": [],
   "source": [
    "import numpy as np\n",
    "import matplotlib.pyplot as plt\n",
    "%matplotlib inline"
   ]
  },
  {
   "cell_type": "code",
   "execution_count": 2,
   "metadata": {},
   "outputs": [],
   "source": [
    "def read_files(name):\n",
    "    article_path = \"../data/cnn_daily_mail/%s/article\" % name\n",
    "    highlights_path = \"../data/cnn_daily_mail/%s/highlights\" % name\n",
    "    \n",
    "    articles = [x.rstrip() for x in open(article_path).readlines()]\n",
    "    highlights = [x.rstrip() for x in open(highlights_path).readlines()]\n",
    "    \n",
    "    assert len(articles) == len(highlights)\n",
    "    return articles, highlights"
   ]
  },
  {
   "cell_type": "code",
   "execution_count": 3,
   "metadata": {},
   "outputs": [],
   "source": [
    "train_articles, train_highlights = read_files(\"train\")\n",
    "test_articles, test_highlights = read_files(\"test\")\n",
    "val_articles, val_highlights = read_files(\"val\")"
   ]
  },
  {
   "cell_type": "code",
   "execution_count": 4,
   "metadata": {},
   "outputs": [],
   "source": [
    "def count_words_ds(ds):\n",
    "    word_count = np.zeros(len(ds))\n",
    "    for i, sent in enumerate(ds):\n",
    "        word_count[i] = len(sent.split(\" \"))\n",
    "    return word_count     \n",
    "    \n",
    "\n",
    "def count_words(articles, highlights):\n",
    "    word_a = count_words_ds(articles)\n",
    "    word_h = count_words_ds(highlights)\n",
    "    \n",
    "    return word_a, word_h"
   ]
  },
  {
   "cell_type": "code",
   "execution_count": 14,
   "metadata": {},
   "outputs": [
    {
     "data": {
      "text/plain": [
       "(array([8.]), array([11.]))"
      ]
     },
     "execution_count": 14,
     "metadata": {},
     "output_type": "execute_result"
    }
   ],
   "source": [
    "from transformers import T5Tokenizer\n",
    "tokenizer = T5Tokenizer.from_pretrained(\"t5-base\")\n",
    "def count_tokens(articles, highlights):\n",
    "    \n",
    "    word_a = np.zeros(len(articles))\n",
    "    for i, item in enumerate(articles):\n",
    "        word_a[i] = len(tokenizer(item).input_ids)\n",
    "    \n",
    "    word_h = np.zeros(len(articles))\n",
    "    for i, item in enumerate(highlights):\n",
    "        word_h[i] = len(tokenizer(item).input_ids)\n",
    "    \n",
    "    return word_a, word_h\n",
    "\n",
    "count_tokens([\"This is a test sentence.\"], [\"This is a secound test sentence.\"])"
   ]
  },
  {
   "cell_type": "code",
   "execution_count": 6,
   "metadata": {},
   "outputs": [],
   "source": [
    "train_a_count, train_h_count = count_words(train_articles, train_highlights)\n",
    "val_a_count, val_h_count = count_words(val_articles, val_highlights)\n",
    "test_a_count, test_h_count = count_words(test_articles, test_highlights)"
   ]
  },
  {
   "cell_type": "code",
   "execution_count": 7,
   "metadata": {},
   "outputs": [],
   "source": [
    "a_count = np.concatenate([train_a_count, val_a_count, test_a_count])\n",
    "h_count = np.concatenate([train_h_count, val_h_count, test_h_count])"
   ]
  },
  {
   "cell_type": "code",
   "execution_count": 8,
   "metadata": {},
   "outputs": [
    {
     "name": "stdout",
     "output_type": "stream",
     "text": [
      "--- Word Count ---\n"
     ]
    },
    {
     "data": {
      "image/png": "[encoded data removed]",
      "text/plain": [
       "<Figure size 576x288 with 2 Axes>"
      ]
     },
     "metadata": {
      "needs_background": "light"
     },
     "output_type": "display_data"
    },
    {
     "name": "stdout",
     "output_type": "stream",
     "text": [
      "Articles mean: 690.89\tmedian: 630\tstd: 337.37\tmin/max: [8/2347]\n",
      "Highlights mean: 51.89\tmedian: 49\tstd: 21.50\tmin/max: [4/1441]\n"
     ]
    }
   ],
   "source": [
    "def plot_show(name, count_a, count_h):\n",
    "    print(\"--- %s ---\" % name)\n",
    "    fig, axs = plt.subplots(1, 2, figsize=(8,4))\n",
    "    \n",
    "    axs[0].hist(count_a, range(0,2000))\n",
    "    axs[0].set_title(\"Articles\")\n",
    "    axs[1].hist(count_h, range(0,200))\n",
    "    axs[1].set_title(\"Highlights\")\n",
    "    plt.show()\n",
    "    print(\"Articles mean: {:.2f}\\tmedian: {:.0f}\\tstd: {:.2f}\\tmin/max: [{:.0f}/{:.0f}]\".format(np.mean(count_a), np.median(count_a),\\\n",
    "                                                   np.std(count_a), np.min(count_a), np.max(count_a)))\n",
    "    print(\"Highlights mean: {:.2f}\\tmedian: {:.0f}\\tstd: {:.2f}\\tmin/max: [{:.0f}/{:.0f}]\".format(np.mean(count_h), np.median(count_h),\\\n",
    "                                                   np.std(count_h), np.min(count_h), np.max(count_h)))\n",
    " \n",
    "plot_show(\"Word Count\", a_count, h_count)"
   ]
  },
  {
   "cell_type": "code",
   "execution_count": 15,
   "metadata": {},
   "outputs": [
    {
     "name": "stderr",
     "output_type": "stream",
     "text": [
      "Token indices sequence length is longer than the specified maximum sequence length for this model (546 > 512). Running this sequence through the model will result in indexing errors\n"
     ]
    }
   ],
   "source": [
    "train_a_count, train_h_count = count_tokens(train_articles, train_highlights)\n",
    "val_a_count, val_h_count = count_tokens(val_articles, val_highlights)\n",
    "test_a_count, test_h_count = count_tokens(test_articles, test_highlights)"
   ]
  },
  {
   "cell_type": "code",
   "execution_count": 16,
   "metadata": {},
   "outputs": [
    {
     "data": {
      "text/plain": [
       "(array([ 291.,  546., 1179., ..., 1335., 1168., 1308.]),\n",
       " array([ 50.,  59., 107., ...,  79.,  80.,  76.]))"
      ]
     },
     "execution_count": 16,
     "metadata": {},
     "output_type": "execute_result"
    }
   ],
   "source": [
    "train_a_count, train_h_count"
   ]
  },
  {
   "cell_type": "code",
   "execution_count": 17,
   "metadata": {},
   "outputs": [],
   "source": [
    "a_count = np.concatenate([train_a_count, val_a_count, test_a_count])\n",
    "h_count = np.concatenate([train_h_count, val_h_count, test_h_count])"
   ]
  },
  {
   "cell_type": "code",
   "execution_count": 18,
   "metadata": {},
   "outputs": [
    {
     "name": "stdout",
     "output_type": "stream",
     "text": [
      "--- Token Count ---\n"
     ]
    },
    {
     "data": {
      "image/png": "[encoded data removed]",
      "text/plain": [
       "<Figure size 576x288 with 2 Axes>"
      ]
     },
     "metadata": {
      "needs_background": "light"
     },
     "output_type": "display_data"
    },
    {
     "name": "stdout",
     "output_type": "stream",
     "text": [
      "Articles mean: 981.39\tmedian: 893\tstd: 481.61\tmin/max: [18/5267]\n",
      "Highlights mean: 75.22\tmedian: 71\tstd: 31.15\tmin/max: [7/3151]\n"
     ]
    }
   ],
   "source": [
    "plot_show(\"Token Count\", a_count, h_count)"
   ]
  },
  {
   "cell_type": "code",
   "execution_count": null,
   "metadata": {},
   "outputs": [],
   "source": [
    "from spacy.lang.en import English \n",
    "\n",
    "nlp = English()\n",
    "nlp.add_pipe('sentencizer')\n",
    "\n",
    "\n",
    "def split_in_sentences(text):\n",
    "    doc = nlp(text)\n",
    "    return [str(sent).strip() for sent in doc.sents]"
   ]
  },
  {
   "cell_type": "code",
   "execution_count": 19,
   "metadata": {},
   "outputs": [
    {
     "data": {
      "text/plain": [
       "['This is a test.', 'What is that?']"
      ]
     },
     "execution_count": 19,
     "metadata": {},
     "output_type": "execute_result"
    }
   ],
   "source": [
    "split_in_sentences(\"This is a test. What is that?\")"
   ]
  },
  {
   "cell_type": "code",
   "execution_count": 28,
   "metadata": {},
   "outputs": [],
   "source": [
    "def count_sent_ds(ds):\n",
    "    word_count = np.zeros(len(ds))\n",
    "    \n",
    "    for i, line in enumerate(ds):\n",
    "\n",
    "        word_count[i] = len(split_in_sentences(line))\n",
    "    return word_count     \n",
    "    \n",
    "\n",
    "def count_sent(articles, highlights):\n",
    "    word_a = count_sent_ds(articles)\n",
    "    word_h = count_sent_ds(highlights)\n",
    "    \n",
    "    return word_a, word_h\n",
    "\n",
    "def plot_show(name, count_a, count_h):\n",
    "    print(\"--- %s ---\" % name)\n",
    "    fig, axs = plt.subplots(1, 2, figsize=(8,4))\n",
    "    \n",
    "    axs[0].hist(count_a, range(0,150))\n",
    "    axs[0].set_title(\"Articles\")\n",
    "    axs[1].hist(count_h, range(0,15))\n",
    "    axs[1].set_title(\"Highlights\")\n",
    "    plt.show()\n",
    "    print(\"Articles mean: {:.2f}\\tmedian: {:.0f}\\tstd: {:.2f}\\tmin/max: [{:.0f}/{:.0f}]\".format(np.mean(count_a), np.median(count_a),\\\n",
    "                                                   np.std(count_a), np.min(count_a), np.max(count_a)))\n",
    "    print(\"Highlights mean: {:.2f}\\tmedian: {:.0f}\\tstd: {:.2f}\\tmin/max: [{:.0f}/{:.0f}]\".format(np.mean(count_h), np.median(count_h),\\\n",
    "                                                   np.std(count_h), np.min(count_h), np.max(count_h)))"
   ]
  },
  {
   "cell_type": "code",
   "execution_count": 21,
   "metadata": {},
   "outputs": [
    {
     "name": "stdout",
     "output_type": "stream",
     "text": [
      "--- Sentence Count ---\n"
     ]
    },
    {
     "data": {
      "image/png": "[encoded data removed]",
      "text/plain": [
       "<Figure size 576x288 with 2 Axes>"
      ]
     },
     "metadata": {
      "needs_background": "light"
     },
     "output_type": "display_data"
    },
    {
     "name": "stdout",
     "output_type": "stream",
     "text": [
      "Articles mean: 39.05\tmedian: 33\tvariance: 555.49\tmin/max: [1/400]\n",
      "Highlights mean: 3.69\tmedian: 4\tvariance: 1.85\tmin/max: [1/108]\n"
     ]
    }
   ],
   "source": [
    "train_a_count, train_h_count = count_sent(train_articles, train_highlights)\n",
    "val_a_count, val_h_count = count_sent(val_articles, val_highlights)\n",
    "test_a_count, test_h_count = count_sent(test_articles, test_highlights)\n",
    "\n",
    "a_count = np.concatenate([train_a_count, val_a_count, test_a_count])\n",
    "h_count = np.concatenate([train_h_count, val_h_count, test_h_count])\n"
   ]
  },
  {
   "cell_type": "code",
   "execution_count": 29,
   "metadata": {},
   "outputs": [
    {
     "name": "stdout",
     "output_type": "stream",
     "text": [
      "--- Sentence Count ---\n"
     ]
    },
    {
     "data": {
      "image/png": "[encoded data removed]",
      "text/plain": [
       "<Figure size 576x288 with 2 Axes>"
      ]
     },
     "metadata": {
      "needs_background": "light"
     },
     "output_type": "display_data"
    },
    {
     "name": "stdout",
     "output_type": "stream",
     "text": [
      "Articles mean: 39.05\tmedian: 33\tstd: 23.57\tmin/max: [1/400]\n",
      "Highlights mean: 3.69\tmedian: 4\tstd: 1.36\tmin/max: [1/108]\n"
     ]
    }
   ],
   "source": [
    "plot_show(\"Sentence Count\", a_count, h_count)\n"
   ]
  },
  {
   "cell_type": "code",
   "execution_count": null,
   "metadata": {},
   "outputs": [],
   "source": []
  },
  {
   "cell_type": "code",
   "execution_count": null,
   "metadata": {},
   "outputs": [],
   "source": []
  }
 ],
 "metadata": {
  "kernelspec": {
   "display_name": "Python 3",
   "language": "python",
   "name": "python3"
  },
  "language_info": {
   "codemirror_mode": {
    "name": "ipython",
    "version": 3
   },
   "file_extension": ".py",
   "mimetype": "text/x-python",
   "name": "python",
   "nbconvert_exporter": "python",
   "pygments_lexer": "ipython3",
   "version": "3.6.9"
  }
 },
 "nbformat": 4,
 "nbformat_minor": 4
}
