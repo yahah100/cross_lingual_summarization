{
 "cells": [
  {
   "cell_type": "markdown",
   "metadata": {},
   "source": [
    "# This is the Example of Cross-Lingual Summarization in the Introduction"
   ]
  },
  {
   "cell_type": "code",
   "execution_count": 32,
   "metadata": {},
   "outputs": [
    {
     "name": "stdout",
     "output_type": "stream",
     "text": [
      "2.4.1\n"
     ]
    }
   ],
   "source": [
    "import tensorflow as tf\n",
    "print(tf.__version__)\n",
    "\n",
    "import os\n",
    "from transformers import ( \n",
    "    T5Tokenizer, \n",
    "    TFT5Model, \n",
    "    TFT5ForConditionalGeneration\n",
    ")\n",
    "\n",
    "# import python files\n",
    "import sys\n",
    "sys.path.append(\"../..\")\n",
    "\n",
    "from python_files.model_loader import ModelLoader"
   ]
  },
  {
   "cell_type": "code",
   "execution_count": 5,
   "metadata": {},
   "outputs": [],
   "source": [
    "model_size = \"t5-base\"\n",
    "\n",
    "MAX_ARTICLE_LEN = 512\n",
    "\n",
    "MAX_HIGHLIGHT_LEN = 150\n",
    "\n",
    "root_folder = \"../..\""
   ]
  },
  {
   "cell_type": "code",
   "execution_count": 8,
   "metadata": {},
   "outputs": [],
   "source": [
    "tokenizer = T5Tokenizer.from_pretrained(model_size)"
   ]
  },
  {
   "cell_type": "code",
   "execution_count": 25,
   "metadata": {},
   "outputs": [
    {
     "name": "stderr",
     "output_type": "stream",
     "text": [
      "All model checkpoint layers were used when initializing TFT5ForConditionalGeneration.\n",
      "\n",
      "All the layers of TFT5ForConditionalGeneration were initialized from the model checkpoint at t5-base.\n",
      "If your task is similar to the task the model of the checkpoint was trained on, you can already use TFT5ForConditionalGeneration for predictions without further training.\n"
     ]
    }
   ],
   "source": [
    "model_loader = ModelLoader(model_size, root_folder+\"/models\", \"t5_cnn_daily_mail\") \n",
    "model = model_loader.load_epoch(9)"
   ]
  },
  {
   "cell_type": "code",
   "execution_count": 29,
   "metadata": {},
   "outputs": [],
   "source": [
    "input_text = \"summarize English to German: In a world where we have to read and understand many documents, automatic summarization has an evident demand. It could be beneficial to have the option of getting a summary of a text in your language. Furthermore, it would also be helpful to have the option of getting a summary of a text, which is in a language you do not understand in your preferred language. Since only 61% of websites are written in English 1, the rest splits into many different languages, the benefit of summarizing and translating into a specific language becomes evident. That is the case where cross-lingual summarization would be preferred over standard translation. Cross-lingual summariza-tion can provide you with a short overview of a text in a language you do not understand.\"\n",
    "\n",
    "x_input = tokenizer(input_text, max_length=512, truncation=True, padding='max_length',return_tensors=\"tf\")"
   ]
  },
  {
   "cell_type": "code",
   "execution_count": 30,
   "metadata": {},
   "outputs": [],
   "source": [
    "summaries = model.generate(\n",
    "    input_ids=x_input.input_ids,\n",
    "    attention_mask=x_input.attention_mask,\n",
    "    num_beams=4,\n",
    "    length_penalty=0.6,\n",
    "    early_stopping=True,\n",
    "    max_length=150\n",
    ")"
   ]
  },
  {
   "cell_type": "code",
   "execution_count": 31,
   "metadata": {},
   "outputs": [
    {
     "data": {
      "text/plain": [
       "'In einer Welt, in der wir viele Dokumente lesen und verstehen müssen, hat die automatische Zusammenfassung eine offensichtliche Forderung. Es könnte nützlich sein, eine Option zu haben, eine Zusammenfassung eines Textes in Ihrer Sprache zu bekommen.'"
      ]
     },
     "execution_count": 31,
     "metadata": {},
     "output_type": "execute_result"
    }
   ],
   "source": [
    "tokenizer.decode(summaries[0], skip_special_tokens=True)"
   ]
  }
 ],
 "metadata": {
  "kernelspec": {
   "display_name": "Python 3",
   "language": "python",
   "name": "python3"
  },
  "language_info": {
   "codemirror_mode": {
    "name": "ipython",
    "version": 3
   },
   "file_extension": ".py",
   "mimetype": "text/x-python",
   "name": "python",
   "nbconvert_exporter": "python",
   "pygments_lexer": "ipython3",
   "version": "3.6.9"
  }
 },
 "nbformat": 4,
 "nbformat_minor": 2
}
