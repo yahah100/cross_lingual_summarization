{
 "cells": [
  {
   "cell_type": "code",
   "execution_count": 1,
   "metadata": {},
   "outputs": [],
   "source": [
    "import numpy as np\n",
    "import matplotlib.pyplot as plt\n",
    "%matplotlib inline\n",
    "import os.path"
   ]
  },
  {
   "cell_type": "code",
   "execution_count": 2,
   "metadata": {},
   "outputs": [],
   "source": [
    "class LatexTableWriter:\n",
    "    def __init__(self) -> None:\n",
    "        super().__init__()\n",
    "    \n",
    "    def decide_type(self, value):\n",
    "        if type(value) == int or type(value) == np.int32:\n",
    "            return \"{:.0f}\".format(value)\n",
    "        elif type(value) == float or type(value) == np.float64 or type(value) == np.float32:\n",
    "            return \"{:.2f}\".format(value)\n",
    "        elif type(value) == str:\n",
    "            return value\n",
    "        else: \n",
    "            return \"type {}: not known\".format(type(value))\n",
    "        \n",
    "    def write_table(self, caption: str, data: dict, label: str) -> str:\n",
    "        '''\n",
    "        Converts table into latex table string\n",
    "        :param label: latex label to \\ref\n",
    "        :param caption: ccaption of the table\n",
    "        :param data: dict {column_name: [data], ...}\n",
    "        :return: str latex table\n",
    "        '''\n",
    "\n",
    "        n_columns = len(data.keys())\n",
    "        column_names = list(data.keys())\n",
    "        latex_table_str = \"\\\\begin{table}[htb]\\n\\t\\\\begin{center}\\n\\t\\t\\\\begin{tabular}{%s}\\n\" % (\"|l\"*n_columns+\"|\")\n",
    "        latex_table_str += \"\\t\\t\\t\\\\hline\\n\\t\\t\\t%s\\\\\\\\\\n\\t\\t\\t\\\\hline\\\\hline\\n\" % (\" & \".join(column_names))\n",
    "\n",
    "        for i in range(len(data[column_names[0]])):\n",
    "            row = []\n",
    "            for j in range(n_columns):\n",
    "                row.append(self.decide_type(data[column_names[j]][i]))\n",
    "\n",
    "            latex_table_str += \"\\t\\t\\t\" + \" & \".join(row) + \" \\\\\\\\\\n\"\n",
    "        latex_table_str += \"\\t\\t\\t\\\\hline\\n\\t\\t\\\\end{tabular}\\n\"\n",
    "        latex_table_str += \"\\t\\t\\\\caption{%s}\\\\label{tab_%s}\\n\" % (caption, label)\n",
    "        latex_table_str += \"\\t\\\\end{center}\\n\\\\end{table}\"\n",
    "\n",
    "        return latex_table_str\n",
    "    "
   ]
  },
  {
   "cell_type": "code",
   "execution_count": 3,
   "metadata": {},
   "outputs": [],
   "source": [
    "latex_table_writer = LatexTableWriter()"
   ]
  },
  {
   "cell_type": "code",
   "execution_count": 4,
   "metadata": {},
   "outputs": [],
   "source": [
    "def read_files(name):\n",
    "    article_path = \"../../data/sueddeutsche/articles_{}\".format(name)\n",
    "    highlights_path = \"../../data/sueddeutsche/highlights_{}\".format(name)\n",
    "    articles = [x.rstrip() for x in open(article_path).readlines()]\n",
    "    highlights = [x.rstrip() for x in open(highlights_path).readlines()]\n",
    "    \n",
    "    assert len(articles) == len(highlights)\n",
    "    return articles, highlights"
   ]
  },
  {
   "cell_type": "code",
   "execution_count": 5,
   "metadata": {},
   "outputs": [],
   "source": [
    "train_articles, train_highlights = read_files(\"en_train_cleaned\")\n",
    "test_articles, test_highlights = read_files(\"en_test_cleaned\")\n",
    "val_articles, val_highlights = read_files(\"en_val_cleaned\")"
   ]
  },
  {
   "cell_type": "code",
   "execution_count": 6,
   "metadata": {},
   "outputs": [],
   "source": [
    "de_train_articles, de_train_highlights = read_files(\"de_train\")"
   ]
  },
  {
   "cell_type": "code",
   "execution_count": 7,
   "metadata": {},
   "outputs": [
    {
     "name": "stdout",
     "output_type": "stream",
     "text": [
      "\n",
      "-------------------\n",
      "152717; Seit Wochen schaukeln sich in Bautzen Konflikte zwischen jungen Asylbewerbern und Einheimischen auf. Nun soll es ein Alkohol- und Ausgehverbot geben - für Flüchtlinge.\n",
      "152717; Conflicts between young asylum seekers and locals have been brewing in Bautzen for weeks. Now there is to be a ban on alcohol and going out - for refugees.\n",
      "\n",
      "-------------------\n",
      "39317; Die Zugeständnisse an den künftigen Partner trieben die Bremer Sozialdemokraten bis an die Schmerzgrenze. Dennoch billigten sie den Koalitionsvertrag mit den Grünen - mit großer Mehrheit.\n",
      "39317; The concessions to the future partner pushed the Bremen Social Democrats to the limit of pain. Nevertheless, they approved the coalition agreement with the Greens - by a large majority.\n",
      "\n",
      "-------------------\n",
      "30239; Mitverantwortung für Geiselnahmeübungen verkannt: Der BGH kassiert die Freisprüche im Prozess um Misshandlungen von Soldaten in Coesfeld.\n",
      "30239; Co-responsibility for hostage-taking exercises misunderstood: The Federal Court of Justice (BGH) collects the acquittals in the trial over the mistreatment of soldiers in Coesfeld.\n",
      "\n",
      "-------------------\n",
      "74549; Stürmer Aubameyang soll zu Borussia Dortmund wechseln. Gerüchte und Wechsel der Fußball-Bundesliga und der internationalen Ligen im Transferblog.\n",
      "74549; Striker Aubameyang is set to move to Borussia Dortmund. Rumours and changes of the Bundesliga and the international leagues in the transfer blog.\n",
      "\n",
      "-------------------\n",
      "18741; Die Technische Universität Darmstadt sucht seit Monaten nach einem neuen Präsidenten.\n",
      "18741; Darmstadt University of Technology has been searching for a new president for months.\n"
     ]
    }
   ],
   "source": [
    "for i in range(5):\n",
    "    rand_point = np.random.randint(len(train_highlights))\n",
    "    print(\"\\n-------------------\")\n",
    "    print(de_train_highlights[rand_point])\n",
    "    print(train_highlights[rand_point])\n",
    "    "
   ]
  },
  {
   "cell_type": "code",
   "execution_count": 8,
   "metadata": {},
   "outputs": [
    {
     "data": {
      "text/plain": [
       "(220887, 10701, 11394)"
      ]
     },
     "execution_count": 8,
     "metadata": {},
     "output_type": "execute_result"
    }
   ],
   "source": [
    "len(train_articles), len(test_articles), len(val_articles)"
   ]
  },
  {
   "cell_type": "code",
   "execution_count": 9,
   "metadata": {},
   "outputs": [],
   "source": [
    "def count_words_ds(ds):\n",
    "    word_count = np.zeros(len(ds))\n",
    "    for i, sent in enumerate(ds):\n",
    "        word_count[i] = len(sent.split(\" \"))\n",
    "    return word_count     \n",
    "    \n",
    "\n",
    "def count_words(articles, highlights):\n",
    "    word_a = count_words_ds(articles)\n",
    "    word_h = count_words_ds(highlights)\n",
    "    \n",
    "    return word_a, word_h"
   ]
  },
  {
   "cell_type": "code",
   "execution_count": 10,
   "metadata": {},
   "outputs": [
    {
     "data": {
      "text/plain": [
       "(array([8.]), array([11.]))"
      ]
     },
     "execution_count": 10,
     "metadata": {},
     "output_type": "execute_result"
    }
   ],
   "source": [
    "from transformers import T5Tokenizer\n",
    "tokenizer = T5Tokenizer.from_pretrained(\"t5-base\")\n",
    "def count_tokens(articles, highlights):\n",
    "    \n",
    "    word_a = np.zeros(len(articles))\n",
    "    for i, item in enumerate(articles):\n",
    "        word_a[i] = len(tokenizer(item).input_ids)\n",
    "    \n",
    "    word_h = np.zeros(len(articles))\n",
    "    for i, item in enumerate(highlights):\n",
    "        word_h[i] = len(tokenizer(item).input_ids)\n",
    "    \n",
    "    return word_a, word_h\n",
    "\n",
    "count_tokens([\"This is a test sentence.\"], [\"This is a secound test sentence.\"])"
   ]
  },
  {
   "cell_type": "code",
   "execution_count": 11,
   "metadata": {},
   "outputs": [],
   "source": [
    "train_a_count, train_h_count = count_words(train_articles, train_highlights)\n",
    "val_a_count, val_h_count = count_words(val_articles, val_highlights)\n",
    "test_a_count, test_h_count = count_words(test_articles, test_highlights)"
   ]
  },
  {
   "cell_type": "code",
   "execution_count": 12,
   "metadata": {},
   "outputs": [],
   "source": [
    "a_count = np.concatenate([train_a_count, val_a_count, test_a_count])\n",
    "h_count = np.concatenate([train_h_count, val_h_count, test_h_count])"
   ]
  },
  {
   "cell_type": "code",
   "execution_count": 13,
   "metadata": {},
   "outputs": [
    {
     "name": "stdout",
     "output_type": "stream",
     "text": [
      "--- Word count ---\n"
     ]
    },
    {
     "data": {
      "image/png": "[encoded data removed]",
      "text/plain": [
       "<Figure size 576x288 with 2 Axes>"
      ]
     },
     "metadata": {
      "needs_background": "light"
     },
     "output_type": "display_data"
    },
    {
     "name": "stdout",
     "output_type": "stream",
     "text": [
      "\\begin{table}[htb]\n",
      "\t\\begin{center}\n",
      "\t\t\\begin{tabular}{|l|l|l|l|l|l|}\n",
      "\t\t\t\\hline\n",
      "\t\t\tDataset & Mean & Median & Standard Deviation & Min & Max\\\\\n",
      "\t\t\t\\hline\\hline\n",
      "\t\t\tArticles & 534.44 & 495 & 283.47 & 47 & 5786 \\\\\n",
      "\t\t\tHighlights & 30.90 & 30 & 10.08 & 6 & 216 \\\\\n",
      "\t\t\t\\hline\n",
      "\t\t\\end{tabular}\n",
      "\t\t\\caption{Word count of the sueddeutsche dataset}\\label{tab_word_count_suedd}\n",
      "\t\\end{center}\n",
      "\\end{table}\n"
     ]
    }
   ],
   "source": [
    "def plot_show(name, count_a, count_h):\n",
    "    print(\"--- %s ---\" % name)\n",
    "    fig, axs = plt.subplots(1, 2, figsize=(8,4))\n",
    "    \n",
    "    axs[0].hist(count_a, range(0,1500))\n",
    "    axs[0].set_title(\"Articles\")\n",
    "    axs[1].hist(count_h, range(0,150))\n",
    "    axs[1].set_title(\"Highlights\")\n",
    "    plt.show()\n",
    "    table_dict = {\n",
    "        \"Dataset\": [\"Articles\", \"Highlights\"],\n",
    "        \"Mean\": [np.mean(count_a), np.mean(count_h)],\n",
    "        \"Median\": [int(np.median(count_a)), int(np.median(count_h))],\n",
    "        \"Standard Deviation\": [np.std(count_a), np.std(count_h)],\n",
    "        \"Min\": [int(np.min(count_a)), int(np.min(count_h))],\n",
    "        \"Max\": [int(np.max(count_a)), int(np.max(count_h))]\n",
    "    }\n",
    "    print(latex_table_writer.write_table(name + \" of the sueddeutsche dataset\", table_dict, name.replace(\" \", \"_\").lower() + \"_suedd\"))\n",
    "plot_show(\"Word count\", a_count, h_count)\n",
    "# plot_show(\"Word Count\", train_a_count, train_h_count)"
   ]
  },
  {
   "cell_type": "code",
   "execution_count": 14,
   "metadata": {},
   "outputs": [
    {
     "name": "stderr",
     "output_type": "stream",
     "text": [
      "Token indices sequence length is longer than the specified maximum sequence length for this model (872 > 512). Running this sequence through the model will result in indexing errors\n"
     ]
    }
   ],
   "source": [
    "train_a_count, train_h_count = count_tokens(train_articles, train_highlights)\n",
    "val_a_count, val_h_count = count_tokens(val_articles, val_highlights)\n",
    "test_a_count, test_h_count = count_tokens(test_articles, test_highlights)"
   ]
  },
  {
   "cell_type": "code",
   "execution_count": 15,
   "metadata": {},
   "outputs": [],
   "source": [
    "a_count = np.concatenate([train_a_count, val_a_count, test_a_count])\n",
    "h_count = np.concatenate([train_h_count, val_h_count, test_h_count])"
   ]
  },
  {
   "cell_type": "code",
   "execution_count": 16,
   "metadata": {},
   "outputs": [
    {
     "name": "stdout",
     "output_type": "stream",
     "text": [
      "--- Token Count ---\n"
     ]
    },
    {
     "data": {
      "image/png": "[encoded data removed]",
      "text/plain": [
       "<Figure size 576x288 with 2 Axes>"
      ]
     },
     "metadata": {
      "needs_background": "light"
     },
     "output_type": "display_data"
    },
    {
     "name": "stdout",
     "output_type": "stream",
     "text": [
      "\\begin{table}[htb]\n",
      "\t\\begin{center}\n",
      "\t\t\\begin{tabular}{|l|l|l|l|l|l|}\n",
      "\t\t\t\\hline\n",
      "\t\t\tDataset & Mean & Median & Standard Deviation & Min & Max\\\\\n",
      "\t\t\t\\hline\\hline\n",
      "\t\t\tArticles & 741.88 & 685 & 399.35 & 62 & 8158 \\\\\n",
      "\t\t\tHighlights & 45.91 & 44 & 14.22 & 12 & 318 \\\\\n",
      "\t\t\t\\hline\n",
      "\t\t\\end{tabular}\n",
      "\t\t\\caption{Token Count of the sueddeutsche dataset}\\label{tab_token_count_suedd}\n",
      "\t\\end{center}\n",
      "\\end{table}\n"
     ]
    }
   ],
   "source": [
    "plot_show(\"Token Count\", a_count, h_count)\n",
    "# plot_show(\"Token Count\", train_a_count, train_h_count)"
   ]
  },
  {
   "cell_type": "code",
   "execution_count": 17,
   "metadata": {},
   "outputs": [],
   "source": [
    "# from spacy.lang.de import German \n",
    "from spacy.lang.en import English \n",
    "\n",
    "\n",
    "nlp = English()\n",
    "nlp.add_pipe('sentencizer')\n",
    "\n",
    "\n",
    "def split_in_sentences(text):\n",
    "    doc = nlp(text)\n",
    "    return [str(sent).strip() for sent in doc.sents]"
   ]
  },
  {
   "cell_type": "code",
   "execution_count": 18,
   "metadata": {},
   "outputs": [
    {
     "data": {
      "text/plain": [
       "['This is a test.', 'What is that?']"
      ]
     },
     "execution_count": 18,
     "metadata": {},
     "output_type": "execute_result"
    }
   ],
   "source": [
    "split_in_sentences(\"This is a test. What is that?\")"
   ]
  },
  {
   "cell_type": "code",
   "execution_count": 19,
   "metadata": {},
   "outputs": [],
   "source": [
    "def count_sent_ds(ds):\n",
    "    word_count = np.zeros(len(ds))\n",
    "    \n",
    "    for i, line in enumerate(ds):\n",
    "\n",
    "        word_count[i] = len(split_in_sentences(line))\n",
    "    return word_count     \n",
    "    \n",
    "\n",
    "def count_sent(articles, highlights):\n",
    "    word_a = count_sent_ds(articles)\n",
    "    word_h = count_sent_ds(highlights)\n",
    "    \n",
    "    return word_a, word_h\n",
    "\n",
    "def plot_show(name, count_a, count_h):\n",
    "    print(\"--- %s ---\" % name)\n",
    "    fig, axs = plt.subplots(1, 2, figsize=(8,4))\n",
    "    \n",
    "    axs[0].hist(count_a, range(0,150))\n",
    "    axs[0].set_title(\"Articles\")\n",
    "    axs[1].hist(count_h, range(0,15))\n",
    "    axs[1].set_title(\"Highlights\")\n",
    "    plt.show()\n",
    "    table_dict = {\n",
    "        \"Dataset\": [\"Articles\", \"Highlights\"],\n",
    "        \"Mean\": [np.mean(count_a), np.mean(count_h)],\n",
    "        \"Median\": [int(np.median(count_a)), int(np.median(count_h))],\n",
    "        \"Standard Deviation\": [np.std(count_a), np.std(count_h)],\n",
    "        \"Min\": [int(np.min(count_a)), int(np.min(count_h))],\n",
    "        \"Max\": [int(np.max(count_a)), int(np.max(count_h))]\n",
    "    }\n",
    "    print(latex_table_writer.write_table(\"Word count of the sueddeutsche dataset\", table_dict ,\"tab_word_count_suedd\"))\n"
   ]
  },
  {
   "cell_type": "code",
   "execution_count": 20,
   "metadata": {},
   "outputs": [],
   "source": [
    "train_a_count, train_h_count = count_sent(train_articles, train_highlights)\n",
    "val_a_count, val_h_count = count_sent(val_articles, val_highlights)\n",
    "test_a_count, test_h_count = count_sent(test_articles, test_highlights)\n",
    "\n",
    "a_count = np.concatenate([train_a_count, val_a_count, test_a_count])\n",
    "h_count = np.concatenate([train_h_count, val_h_count, test_h_count])\n"
   ]
  },
  {
   "cell_type": "code",
   "execution_count": 21,
   "metadata": {},
   "outputs": [
    {
     "name": "stdout",
     "output_type": "stream",
     "text": [
      "--- Sentence Count ---\n"
     ]
    },
    {
     "data": {
      "image/png": "[encoded data removed]",
      "text/plain": [
       "<Figure size 576x288 with 2 Axes>"
      ]
     },
     "metadata": {
      "needs_background": "light"
     },
     "output_type": "display_data"
    },
    {
     "name": "stdout",
     "output_type": "stream",
     "text": [
      "\\begin{table}[htb]\n",
      "\t\\begin{center}\n",
      "\t\t\\begin{tabular}{|l|l|l|l|l|l|}\n",
      "\t\t\t\\hline\n",
      "\t\t\tDataset & Mean & Median & Standard Deviation & Min & Max\\\\\n",
      "\t\t\t\\hline\\hline\n",
      "\t\t\tArticles & 29.76 & 27 & 16.99 & 1 & 507 \\\\\n",
      "\t\t\tHighlights & 2.11 & 2 & 0.82 & 1 & 12 \\\\\n",
      "\t\t\t\\hline\n",
      "\t\t\\end{tabular}\n",
      "\t\t\\caption{Word count of the sueddeutsche dataset}\\label{tab_tab_word_count_suedd}\n",
      "\t\\end{center}\n",
      "\\end{table}\n"
     ]
    }
   ],
   "source": [
    "plot_show(\"Sentence Count\", a_count, h_count)\n",
    "# plot_show(\"Sentence Count\", train_a_count, train_a_count)\n"
   ]
  },
  {
   "cell_type": "code",
   "execution_count": null,
   "metadata": {},
   "outputs": [],
   "source": []
  },
  {
   "cell_type": "code",
   "execution_count": null,
   "metadata": {},
   "outputs": [],
   "source": []
  },
  {
   "cell_type": "code",
   "execution_count": null,
   "metadata": {},
   "outputs": [],
   "source": []
  }
 ],
 "metadata": {
  "kernelspec": {
   "display_name": "Python 3",
   "language": "python",
   "name": "python3"
  },
  "language_info": {
   "codemirror_mode": {
    "name": "ipython",
    "version": 3
   },
   "file_extension": ".py",
   "mimetype": "text/x-python",
   "name": "python",
   "nbconvert_exporter": "python",
   "pygments_lexer": "ipython3",
   "version": "3.6.9"
  }
 },
 "nbformat": 4,
 "nbformat_minor": 4
}
