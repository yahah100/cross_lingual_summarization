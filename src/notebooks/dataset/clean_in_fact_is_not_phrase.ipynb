{
 "cells": [
  {
   "cell_type": "code",
   "execution_count": 10,
   "metadata": {},
   "outputs": [],
   "source": [
    "from transformers import ( \n",
    "    T5Tokenizer\n",
    ")\n",
    "\n",
    "import re\n",
    "import tensorflow as tf\n",
    "\n",
    "import numpy as np\n",
    "\n",
    "import pickle\n",
    "\n",
    "# import python files\n",
    "import sys\n",
    "sys.path.append(\"../..\")\n",
    "\n",
    "from python_files.language_tokens import LanguageTokens"
   ]
  },
  {
   "cell_type": "code",
   "execution_count": 11,
   "metadata": {},
   "outputs": [
    {
     "data": {
      "text/plain": [
       "[PhysicalDevice(name='/physical_device:GPU:0', device_type='GPU')]"
      ]
     },
     "execution_count": 11,
     "metadata": {},
     "output_type": "execute_result"
    }
   ],
   "source": [
    "tf.config.list_physical_devices('GPU')"
   ]
  },
  {
   "cell_type": "code",
   "execution_count": 12,
   "metadata": {},
   "outputs": [
    {
     "data": {
      "text/plain": [
       "[PhysicalDevice(name='/physical_device:CPU:0', device_type='CPU')]"
      ]
     },
     "execution_count": 12,
     "metadata": {},
     "output_type": "execute_result"
    }
   ],
   "source": [
    "try:\n",
    "    # Disable all GPUS\n",
    "    tf.config.set_visible_devices([], 'GPU')\n",
    "    visible_devices = tf.config.get_visible_devices()\n",
    "    for device in visible_devices:\n",
    "        assert device.device_type != 'GPU'\n",
    "except:\n",
    "    print(\"Invalid device or cannot modify virtual devices once initialized.\")\n",
    "    pass\n",
    "\n",
    "tf.config.get_visible_devices()"
   ]
  },
  {
   "cell_type": "code",
   "execution_count": 13,
   "metadata": {},
   "outputs": [],
   "source": [
    "def transform(x):\n",
    "    x = \" \".join(x.split(\"; \")[1:])\n",
    "    x = re.sub(\"'(.*)'\", r\"\\1\", x)\n",
    "    return x  # + \"</s>\"\n",
    "\n",
    "def get_sueddeutsche_data(name, language):\n",
    "    article_path = \"../../data/sueddeutsche/articles_{}_{}\".format(language, name)\n",
    "    highlights_path = \"../../data/sueddeutsche/highlights_{}_{}\".format(language, name)\n",
    "\n",
    "    articles = [transform(x.rstrip()) for x in open(article_path).readlines()]\n",
    "    highlights = [transform(x.rstrip()) for x in open(highlights_path).readlines()]\n",
    "    assert len(articles) == len(highlights), \"sueddeutsche articles:{} highlights:{}\".format(len(articles),\n",
    "                                                                                             len(highlights))\n",
    "    return articles, highlights"
   ]
  },
  {
   "cell_type": "code",
   "execution_count": 14,
   "metadata": {},
   "outputs": [],
   "source": [
    "de_x, de_y = get_sueddeutsche_data(\"train\", \"de\")\n",
    "en_x, en_y = get_sueddeutsche_data(\"train\", \"en\")"
   ]
  },
  {
   "cell_type": "code",
   "execution_count": 15,
   "metadata": {},
   "outputs": [
    {
     "data": {
      "text/plain": [
       "'Schwarz-Gelb ist noch nicht jene Traumkoalition, die sich die Beteiligten erhofft hatten. Welche Minister aus Merkels Regierungsmannschaft leisten trotzdem gute Arbeit? Und welche sind Fehlbesetzungen? Stimmen Sie ab!'"
      ]
     },
     "execution_count": 15,
     "metadata": {},
     "output_type": "execute_result"
    }
   ],
   "source": [
    "de_y[4]"
   ]
  },
  {
   "cell_type": "code",
   "execution_count": 16,
   "metadata": {},
   "outputs": [
    {
     "data": {
      "text/plain": [
       "'Black and yellow is not yet the dream coalition that those involved had hoped for. Which ministers in Merkels government team are still doing a good job? And what are miscues? Vote! In fact, its not.'"
      ]
     },
     "execution_count": 16,
     "metadata": {},
     "output_type": "execute_result"
    }
   ],
   "source": [
    "en_y[4]"
   ]
  },
  {
   "cell_type": "code",
   "execution_count": 17,
   "metadata": {},
   "outputs": [
    {
     "data": {
      "text/plain": [
       "'Microsoft-Deutschland-Chef Berg über den hiesigen Standort, die Bedeutung der Computer-Messe Cebit - und seine Jogging-Erlebnisse mit Konzernchef Ballmer.'"
      ]
     },
     "execution_count": 17,
     "metadata": {},
     "output_type": "execute_result"
    }
   ],
   "source": [
    "de_y[100]"
   ]
  },
  {
   "cell_type": "code",
   "execution_count": 18,
   "metadata": {},
   "outputs": [
    {
     "data": {
      "text/plain": [
       "\"Microsoft Germany CEO Berg on the local location, the importance of the Cebit computer fair - and his jogging experiences with CEO Ballmer. In fact, it's not.\""
      ]
     },
     "execution_count": 18,
     "metadata": {},
     "output_type": "execute_result"
    }
   ],
   "source": [
    "en_y[100]"
   ]
  },
  {
   "cell_type": "code",
   "execution_count": 19,
   "metadata": {},
   "outputs": [
    {
     "data": {
      "text/plain": [
       "(19, 18)"
      ]
     },
     "execution_count": 19,
     "metadata": {},
     "output_type": "execute_result"
    }
   ],
   "source": [
    "len(\" In fact, it's not.\"), len(\" In fact, its not.\")"
   ]
  },
  {
   "cell_type": "code",
   "execution_count": 20,
   "metadata": {},
   "outputs": [
    {
     "data": {
      "text/plain": [
       "(\" In fact, it's not.\", ' In fact, its not.')"
      ]
     },
     "execution_count": 20,
     "metadata": {},
     "output_type": "execute_result"
    }
   ],
   "source": [
    "en_y[100][-19:], en_y[4][-18:]"
   ]
  },
  {
   "cell_type": "markdown",
   "metadata": {},
   "source": [
    "### Count prahse"
   ]
  },
  {
   "cell_type": "code",
   "execution_count": 21,
   "metadata": {},
   "outputs": [
    {
     "name": "stdout",
     "output_type": "stream",
     "text": [
      "168432 of 220887 highlight end with the phrase \"In fact, it's not.\"\n",
      "46870 of 220887 highlight end with the phrase \"In fact, its not.\"\n"
     ]
    }
   ],
   "source": [
    "count_1 = 0\n",
    "count_2 = 0\n",
    "\n",
    "for i in en_y:\n",
    "    if i[-19:] == \" In fact, it's not.\":\n",
    "        count_1 += 1\n",
    "    if i[-18:] == \" In fact, its not.\":\n",
    "        count_2 += 1\n",
    "        \n",
    "print(\"{} of {} highlight end with the phrase \\\"In fact, it's not.\\\"\".format(count_1, len(en_y)))\n",
    "print(\"{} of {} highlight end with the phrase \\\"In fact, its not.\\\"\".format(count_2, len(en_y)))"
   ]
  },
  {
   "cell_type": "markdown",
   "metadata": {},
   "source": [
    "### Count beginnings in highlights"
   ]
  },
  {
   "cell_type": "code",
   "execution_count": 26,
   "metadata": {},
   "outputs": [
    {
     "data": {
      "text/plain": [
       "29"
      ]
     },
     "execution_count": 26,
     "metadata": {},
     "output_type": "execute_result"
    }
   ],
   "source": [
    "count = 0\n",
    "for i in range(len(en_x)):\n",
    "    two_sents = \". \".join(en_x[i].split(\". \")[:2])\n",
    "    if en_y[i]  == two_sents:\n",
    "        count += 1\n",
    "count"
   ]
  },
  {
   "cell_type": "code",
   "execution_count": 13,
   "metadata": {},
   "outputs": [],
   "source": [
    "data_list = [\"train\", \"val\", \"test\"]\n",
    "def remove_phrase(name):\n",
    "    x, y = get_sueddeutsche_data(name, \"en\")\n",
    "    new_y = []\n",
    "    new_x = []\n",
    "    \n",
    "    for line in y:\n",
    "        if line[-19:] == \" In fact, it's not.\" or line[-18:] == \" In fact, its not.\":\n",
    "            new_y.append(line[:-19])\n",
    "        else:\n",
    "            new_y.append(line)\n",
    "    \n",
    "    for line in x:\n",
    "        if line[-19:] == \" In fact, it's not.\" or line[-18:] == \" In fact, its not.\":\n",
    "            new_x.append(line[:-19])\n",
    "        else:\n",
    "            new_x.append(line)\n",
    "    with open(\"../../data/sueddeutsche/highlights_{}_{}_cleaned\".format(\"en\", name), \"a\") as file:\n",
    "        for i, line in enumerate(new_y):\n",
    "            file.write(str(i) + \"; \" + line + \"\\n\")\n",
    "    with open(\"../../data/sueddeutsche/articles_{}_{}_cleaned\".format(\"en\", name), \"a\") as file:\n",
    "        for i, line in enumerate(new_x):\n",
    "            file.write(str(i) + \"; \" + line + \"\\n\")\n",
    "            \n",
    "for item in data_list:\n",
    "    remove_phrase(item)"
   ]
  },
  {
   "cell_type": "code",
   "execution_count": null,
   "metadata": {},
   "outputs": [],
   "source": []
  },
  {
   "cell_type": "code",
   "execution_count": null,
   "metadata": {},
   "outputs": [],
   "source": []
  },
  {
   "cell_type": "code",
   "execution_count": null,
   "metadata": {},
   "outputs": [],
   "source": []
  }
 ],
 "metadata": {
  "kernelspec": {
   "display_name": "Python 3",
   "language": "python",
   "name": "python3"
  },
  "language_info": {
   "codemirror_mode": {
    "name": "ipython",
    "version": 3
   },
   "file_extension": ".py",
   "mimetype": "text/x-python",
   "name": "python",
   "nbconvert_exporter": "python",
   "pygments_lexer": "ipython3",
   "version": "3.6.9"
  }
 },
 "nbformat": 4,
 "nbformat_minor": 2
}
