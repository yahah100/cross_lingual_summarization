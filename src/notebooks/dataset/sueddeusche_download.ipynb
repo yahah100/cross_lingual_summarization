{
 "cells": [
  {
   "cell_type": "code",
   "execution_count": 4,
   "metadata": {},
   "outputs": [],
   "source": [
    "from datasets import list_datasets, load_dataset, list_metrics, load_metric"
   ]
  },
  {
   "cell_type": "code",
   "execution_count": 5,
   "metadata": {},
   "outputs": [
    {
     "data": {
      "application/vnd.jupyter.widget-view+json": {
       "model_id": "32da8122c13c4133bb73908cb6f30036",
       "version_major": 2,
       "version_minor": 0
      },
      "text/plain": [
       "HBox(children=(FloatProgress(value=0.0, description='Downloading', max=1630.0, style=ProgressStyle(description…"
      ]
     },
     "metadata": {},
     "output_type": "display_data"
    },
    {
     "name": "stdout",
     "output_type": "stream",
     "text": [
      "\n"
     ]
    },
    {
     "data": {
      "application/vnd.jupyter.widget-view+json": {
       "model_id": "6b14c9fdd8ee4c108272fa78cfd851ca",
       "version_major": 2,
       "version_minor": 0
      },
      "text/plain": [
       "HBox(children=(FloatProgress(value=0.0, description='Downloading', max=2199.0, style=ProgressStyle(description…"
      ]
     },
     "metadata": {},
     "output_type": "display_data"
    },
    {
     "name": "stderr",
     "output_type": "stream",
     "text": [
      "Reusing dataset mlsum (/root/.cache/huggingface/datasets/mlsum/de/1.0.0/fa51ffa9847464afce0f114ce70ab956e57905627bb24435851ddb91312a2238)\n"
     ]
    },
    {
     "name": "stdout",
     "output_type": "stream",
     "text": [
      "\n"
     ]
    }
   ],
   "source": [
    "# Load a dataset and print the first examples in the training set\n",
    "mlsum_de_dataset = load_dataset('mlsum', 'de')"
   ]
  },
  {
   "cell_type": "code",
   "execution_count": 38,
   "metadata": {},
   "outputs": [
    {
     "data": {
      "text/plain": [
       "DatasetDict({\n",
       "    train: Dataset({\n",
       "        features: ['text', 'summary', 'topic', 'url', 'title', 'date'],\n",
       "        num_rows: 220887\n",
       "    })\n",
       "    validation: Dataset({\n",
       "        features: ['text', 'summary', 'topic', 'url', 'title', 'date'],\n",
       "        num_rows: 11394\n",
       "    })\n",
       "    test: Dataset({\n",
       "        features: ['text', 'summary', 'topic', 'url', 'title', 'date'],\n",
       "        num_rows: 10701\n",
       "    })\n",
       "})"
      ]
     },
     "execution_count": 38,
     "metadata": {},
     "output_type": "execute_result"
    }
   ],
   "source": [
    "mlsum_de_dataset"
   ]
  },
  {
   "cell_type": "code",
   "execution_count": 13,
   "metadata": {},
   "outputs": [
    {
     "data": {
      "text/plain": [
       "{'text': Value(dtype='string', id=None),\n",
       " 'summary': Value(dtype='string', id=None),\n",
       " 'topic': Value(dtype='string', id=None),\n",
       " 'url': Value(dtype='string', id=None),\n",
       " 'title': Value(dtype='string', id=None),\n",
       " 'date': Value(dtype='string', id=None)}"
      ]
     },
     "execution_count": 13,
     "metadata": {},
     "output_type": "execute_result"
    }
   ],
   "source": [
    "mlsum_de_dataset['train'].features"
   ]
  },
  {
   "cell_type": "code",
   "execution_count": 35,
   "metadata": {},
   "outputs": [
    {
     "name": "stdout",
     "output_type": "stream",
     "text": [
      "Transport im Viehwaggon, Fleischgeruch in der Luft, Selektion mit Doktor Mengele: Holocaust-Überlebende Lisa Miková erinnert sich an das Vernichtungslager Auschwitz-Birkenau. Lisa Miková kam 1922 in Prag zur Welt. In ihrer weitgehend säkularen jüdischen Familie wurde Deutsch und Tschechisch gesprochen. 1942 wurde sie ins KZ Theresienstadt deportiert. Von dort wurden zunächst ihre Eltern, dann, im Herbst 1944, ihr Ehemann František ins Vernichtungslager Auschwitz geschafft. Lisa Miková meldete sich kurz später freiwillig für einen Frauentransport. Detailansicht öffnen Lisa Miková im Jahre 1939. Damals erlebte sie, wie die Wehrmacht in Prag einmarschierte. Die Deutschen enteigneten sofort das Geschäft ihres Vaters. (Foto: oh) Welche Qualen Lisa Miková durchlebte und wie sie überlebte, schildert sie immer wieder tschechischen und deutschen Schülern. Die agile Seniorin engagiert sich unter anderem in der Stiftung Brücke/Most, die sich für die deutsch-tschechische Verständigung einsetzt. Frau Miková lebt bis heute in ihrer Wohnung in der Prager Altstadt. Dort wurde der folgende Bericht aufgezeichnet. Ihre Schilderungen beginnen mit dem Transport vom Konzentrationslager Theresienstadt nach Auschwitz. \"Am 28. September 1944 verließ der Transport, in dem sich mein Mann befand, das Lager Theresienstadt. 5000 Männer wurden damals weggebracht. Zwei Tage später ließ die SS verlauten, dass sich zu diesen 5000 Männern 1000 Frauen melden könnten - Mütter und Gattinnen samt Kindern. Damals ließ ich natürlich sämtliche Versprechen außer Acht, die ich meinen Eltern gegeben hatte, wonach ich unbedingt in Theresienstadt hätte bleiben sollen. Aber ich wollte zu meinem Mann. Also habe ich mich freiwillig gemeldet. Am 2. Oktober fuhren wir los - nicht in Güterwaggons, sondern in einem normalen Personenzug. Wir waren in Hochstimmung. Wohin wir gebracht werden, wussten wir nicht. Nach etwa einem Tag Fahrzeit kamen wir an, es war etwa neun oder zehn Uhr abends. Da war kein Bahnhof, sondern nur viele Gleise auf einem großen Platz, der von Scheinwerfern erhellt war. Eine Menge SS-Leute stand herum. Und Männer, deren Kleidung und Kappen seltsam gestreift waren. Mütter, Kinder, Ältere - sofort ins Gas Diese Männer - es waren Polen - sind in den Zug hereingekommen. Sie schrien: 'Alles raus, alles aussteigen, Gepäck bleibt im Zug!' Und danach: 'Ihr könnt arbeiten, Kinder könnt ihr sowieso nicht retten'. Wir wunderten uns. Diese Männer sprachen Polnisch - wir konnten sie verstehen. Aber wir wussten nicht, was sie meinten - und dachten, wir hätten uns verhört. Wir stiegen aus und stellten uns in einer Fünferreihe auf. Da kamen die SS-Leute an. Einer hatte eine Reitpeitsche dabei, er ging auf und ab. Das war Doktor Mengele, aber das erfuhr ich erst später. Dann wurde sortiert: Die eine nach links, die andere rechts. Ich stand ziemlich weit hinten und konnte sehen, wer zur einen und wer zur anderen Seite ging. Nach links gingen die jungen Frauen, die gutaussehenden. Rechts gingen ältere Frauen und Mütter mit Kindern. Frau mit Brille? Rechts. Ins Gas! \"Wo sind wir eigentlich?\" Ein Hin- und Herlaufen war unmöglich, es wurde gleich geschossen. Es wurde erklärt, diejenigen, die nach rechts gingen, kommen in ein besonderes Lager, wo sie nicht arbeiten müssten. Dort bekämen die Kinder auch Milch. Mindestens ein Viertel der Frauen ging nach rechts. Sie mussten in Lastwagen steigen und wurden weggefahren. Sie kamen sofort ins Gas. Die Selektion an der Rampe ging recht schnell, 1000 Frauen wurden schnell verteilt. Ich musste nach links gehen. Wir wurden stark bewacht abgeführt auf einem Weg, der von Draht gesäumt war - ein Zaun, der unter Hochspannung stand. 'Wo sind wir eigentlich?', haben wir die Polen gefragt. Dann hörte ich zum ersten Mal den Namen des Ortes: Auschwitz.\n",
      "\n",
      "Transport im Viehwaggon, Fleischgeruch in der Luft, Selektion mit Doktor Mengele: Holocaust-Überlebende Lisa Miková erinnert sich an das Vernichtungslager Auschwitz-Birkenau.\n",
      "\n",
      "So war Auschwitz: Erinnerungen einer Holocaust-Überlebenden\n",
      "--------------\n",
      "Marmorner Zebrastreifen, pompöse Gebäude: Sindelfingen galt - auch dank Daimler - einst als reichste Kommune Europas. Gerade deswegen ist die Stadt jetzt klamm. Die Kassen deutscher Städte sind leer - mit zum Teil skurrilen Ideen wollen sie sich aus der Krise kämpfen. sueddeutsche.de stellt in einer Serie besondere Kommunen und kreative Sparpläne vor. Detailansicht öffnen Protest in Sindelfingen: Viele Bürger wollen die geplante Schließung der Klostergartenschule nicht hinnehmen. (Foto: Foto: buergerentscheid-klostergarten.de) 25 statt 26 Grad! Auch die Wassertemperatur in Sindelfingens opulentem Bäderzentrum senkte die Kommune ab, um Geld zu sparen - und die Finanzen der Daimler-Stadt wieder ins Gleichgewicht zu bringen. Der verzweifelte Versuch der Haushaltskonsolidierung vor drei Jahren scheiterte allerdings jämmerlich: \"Das ging in die Hosen - da machten unsere Frühschwimmer nicht mit\", sagt Betriebsleiter Thomas Renz. Die Wassertemperaturen sind inzwischen wieder da, wo sie waren. Die Finanzprobleme der württembergischen 60.000-Einwohner-Stadt bei Stuttgart allerdings auch: An allen Ecken und Enden fehlt das Geld. Ende November des vergangenen Jahres paukte der Gemeinderat daher eine neue Sparmaßnahme durch: Die Klostergartenschule, eine der vier Hauptschulen in Sindelfingen, soll zum Schuljahr 2012/13 geschlossen werden. Geballter Volkszorn Inzwischen formiert sich in Sindelfingen aber so etwas wie geballter Volkszorn - die Bürger haben aus den Erfahrungen der Frühschwimmer gelernt: Sparen, schön und gut - aber nicht mit uns. Und so erlebt die Heimatstadt des erfolgreichen Hollywood-Regisseurs Roland Emmerich derzeit ungewohnte Meutereien: Am Tag bevor der Gemeinderat das Aus für die Klostergartenschule beschloss, zogen 300 Schüler, Eltern, Lehrer und Unterstützer von der Schule durch die Innenstadt zum Rathaus, wo sie eine Kundgebung veranstalteten und 2500 Unterschriften gegen die Schließung an Sindelfingens Oberbürgermeister Bernd Vöhringer übergaben. Nach mehreren Straßenaktionen, einer Lichterkette und einem kämpferischen Weihnachtsgottesdienst hatte die Bürgerbewegung Anfang Januar knapp 5400 Unterschriften gegen die Abwicklung der Schule zusammengetragen, was Bernd Laurer frohlocken ließ: \"Wir haben das Ziel erreicht\", triumphierte der Sprecher der Bürgerbewegung. Denn um einen Bürgerentscheid zu erzwingen, der den Gemeinderatsbeschluss aufheben könnte, wären nach geltendem Recht sogar nur etwa 4200 Stimmen notwendig gewesen. Die Gemeinde gibt sich aber nicht geschlagen. Sie prüft erst noch, wie viele Unterschriften durchs Raster fallen - außerdem hegt sie rechtliche Zweifel, ob die Schließung einer Schule überhaupt durch einen Bürgerentscheid verhindert werden kann. Die finanzielle Not ist schließlich groß in Sindelfingen. Im vergangenen Jahr brachte die Stadt keinen genehmigungsfähigen Haushalt zusammen, weil sich zunächst ein Budgetloch von 38 Millionen Euro auftat. Der Grund: An einen einzelnen Gewerbesteuerzahler der Stadt waren seit 2008 in jedem Jahr enorme Rückzahlungen zu leisten - insgesamt 80 Millionen Euro. \"Ich glaube sie müssen in Deutschland weit gehen, bevor sie einen negativen Gewerbesteueransatz finden\", sagt dazu Albrecht Reusch, Leiter des Amtes für Finanzen. Ausgehöhltes Ergebnis Offiziell dringt aus der Sindelfinger Verwaltung kein Sterbenswörtchen darüber, bei welchem Gewerbesteuerzahler die Kommune so tief in der Kreide steht - das Steuergeheimnis gilt auch in schwierigen Zeiten. Aber jedem ist klar, dass es sich bei dem Gläubiger nur um die Daimler AG handeln kann, die am Ort ihr weltweit größtes Werk mit 27.000 Beschäftigten unterhält. Das Kuriose daran: Wieso ist eine Kommune bei einem bei ihr angesiedelten Weltkonzern verschuldet? Müsste es nicht umgekehrt sein? Die Antwort auf die Frage könnte mit dem Kern der Finanzprobleme zu tun haben, mit denen heute so viele Gemeinden kämpfen: Steuerschlupflöcher in einer globalisierten Welt: \"Deutschlands Unternehmen verstehen es mittlerweile sehr gut, ihr Ergebnis im Inland auszuhöhlen und die Steuerlast in Länder zu verschieben, in denen der Fiskus nicht so hart zuschlägt\", sagt dazu Frank Hechtner, Steuerexperte an der Freien Universität Berlin. Ob Daimler in Sindelfingen diese Möglichkeiten ebenfalls regelmäßig ausreizt, ist offiziell nicht bekannt. Der Konzern selbst macht kein Geheimnis daraus, dass er hinter dem Rückzahlungsanspruch in Sindelfingen steht und verweist auf die Finanzkrise: \"Unser Ergebnis brach 2008 massiv ein. Auf Grund der sprudelnden Gewinne des Geschäftsjahres 2007 hatten wir einen hohen Millionenbetrag als Steuervorauszahlung geleistet, den wir nach dem Ergebniseinbruch des Folgejahres zurückverlangt haben\", sagt eine Sprecherin. Über weitere mögliche Gründe für die enormen Rückzahlungsansprüche wird in Sindelfingen dennoch spekuliert. Unternehmerische Abenteuer der früheren Welt AG oder mögliche Bilanztricks hätten in diesem Fall jedoch keine Rolle gespielt, versichert Daimler - aber bei manchem Sindelfinger bleiben dennoch Zweifel bestehen. Wenn Millionen wenig werden Dabei hat Sindelfingen Daimler auch enorm viel zu verdanken - wegen des Konzerns genoss die Stadt in den achtziger Jahren das Privileg, die reichste Stadt Europas zu sein. Damals sprudelten die Gewerbesteuereinnahmen noch in dreistelliger Millionenhöhe - die Kommune wusste gar nicht, wohin mit dem Geld: Marmorne Zebrastreifen wurden verlegt, Hallenbäder und Sportstätten mit Großstadtniveau aus dem Boden gestampft. Der fiskalische Niedergang Sindelfingens begann in dem Moment, als es den Unternehmen offenbar immer besser gelang, Gestaltungsmöglichkeiten zu nutzen und die Gewerbesteuern in der Konsequenz auszutrocknen: Kam Sindelfingen 1986 noch auf Einnahmen aus diesem Bereich von 136 Millionen Euro, so überstiegen die Einnahmen seit den neunziger Jahren kaum noch die 40-Millionen-Euro-Marke. Für eine Stadt mit einem der größten Badezentren Süddeutschlands, einer Veranstaltungshalle mit 5000 Sitzplätzen und topausgestatteten Schulen ist das wenig Geld.\n",
      "\n",
      "Marmorner Zebrastreifen, pompöse Gebäude: Sindelfingen galt - auch dank Daimler - einst als reichste Kommune Europas. Gerade deswegen ist die Stadt jetzt klamm.\n",
      "\n"
     ]
    },
    {
     "name": "stdout",
     "output_type": "stream",
     "text": [
      "Kommunen in Not (3): Sindelfingen - Jenseits goldener Zeiten\n",
      "--------------\n",
      "Wenn an diesem Montag die Landesvorsitzenden der Linken über die Nachfolger der derzeitigen Chefs Lothar Bisky und Oskar Lafontaine sowie des Bundesgeschäftsführers Dietmar Bartsch beraten, geht es nicht nur darum, wer die Partei führen soll. Es geht auch um die künftige Ausrichtung und Stärke einer Partei, die vor allem von Lafontaine zusammengehalten worden war. Ihm war es schließlich vor fünf Jahren gelungen, aus der ostdeutschen PDS und der westedeutschen WASG eine Partei zu formen. Eine Partei allerdings, die zerrissen ist in Ost und West, in Regierungswillige und ewige Oppositionelle, in Realos und Ideologen, in gemäßigte und radikale Linke. Wir stellen mögliche Kandidaten vor. Stimmen Sie ab: Wen halten Sie für geeignet und wen für unfähig? Kampf um Lafontaines Erbe: Gregor Gysi Sollte überhaupt jemand die Partei alleine führen, wie es sich viele Ostdeutsche wünschen, käme dafür wohl nur der 62-jährige Gregor Gysi in Betracht. Er ist nach Lafontaine einer der bekanntesten Politiker der Linken und derzeit Fraktionsvorsitzender der Partei im Bundestag. Allerdings ist der ehemalige PDS-Vorsitzende und Rechtsanwalt nach drei Herzinfarkten gesundheitlich angeschlagen. Wahrscheinlich wäre deshalb, dass er die zerstrittene Partei nur übergangsweise führt. Doch noch ist nicht klar, ob eine Person allein die Partei führen soll oder eine Doppelspitze. Viele Linke wünschen sich ein Duo aus einem westdeutschen und einem ostdeutschen Politiker, Mann und Frau. Foto: Getty Images\n",
      "\n",
      "Oskar Lafontaine gibt den Parteivorsitz der Linken ab - und seine Kollegen streiten, wer ihn beerben soll. sueddeutsche.de stellt die derzeit aussichtsreichsten Anwärter für Führungsaufgaben vor. Mit Vote.\n",
      "\n",
      "Personaldebatte bei der Linken - Wer kommt nach Lafontaine?\n",
      "--------------\n",
      "Das Portrait von 1791 zeigt Haitis Nationalhelden François-Dominique Toussaint L'Ouverture. Er war einer der Anführer der Revolution in Haiti und Autor der ersten Verfassung. Die Wurzeln des Elends liegen in der Vergangenheit. Haiti bezahlt immer noch für seine Befreiung vor 200 Jahren. Auch damals nahmen die Wichtigen der Welt den Insel-Staat nicht ernst. Am vergangenen Wochenende schickte der britische Architekt und Gründer der Organisation Architecture for Humanity eine atemlose, verzweifelte E-Mail an seine Freunde und Unterstützer. \"Nicht Erdbeben, sondern Gebäude töten Menschen\" schrieb er in die Betreffzeile. Damit brachte er auf den Punkt, was auch der Geologe und Autor Simon Winchester oder der Urbanist Mike Davis immer wieder geschrieben haben - es gibt keine Naturkatastrophen. Es gibt nur gewaltige Naturereignisse, die tödliche Folgen haben. Die Konsequenz aus dieser Schlussfolgerung ist die Schuldfrage. Einfach lässt sie sich beantworten: Gier und Korruption sind fast immer die Auslöser einer Katastrophe. In Haiti aber liegen die Wurzeln der Tragödie tief in der Geschichte des Landes. Diese begann nach europäischer Rechnung im Jahre 1492, als Christopher Kolumbus auf der Insel landete, die ihre Ureinwohner Aytí nannten. Kolumbus benannte die Insel in Hispaniola um und gründete mit den Trümmern der gestrandeten Santa Maria die erste spanische Kolonie in der Neuen Welt. Ende des 17. Jahrhunderts besetzten französische Siedler den Westen der Insel, den Frankreich 1691 zur französischen Kolonie Sainte Domingue erklärte. Ideale der Französischen Revolution Gut hundert Jahre währte die Herrschaft der beiden Kolonialherren über die geteilte Insel. \"Saint Domingue war die reichste europäische Kolonie in den Amerikas\", schrieb der Historiker Hans Schmidt. 1789 kam fast die Hälfte des weltweit produzierten Zuckers aus der französischen Kolonie, die auch in der Produktion von Kaffee, Baumwolle und Indigo Weltmarktführer war. 450000 Sklaven arbeiteten auf den Plantagen, und sie erfuhren bald vom neuen Geist ihrer Herren. Die Französische Revolution brachte die Ideale von Freiheit, Gleichheit und Brüderlichkeit in die Karibik. Im August 1791 war es so weit. Der Voodoo-Priester Dutty Boukman rief während einer Messe zum Aufstand. Einer der erfolgreichsten Kommandeure der Rebellion war der ehemalige Sklave François-Dominique Toussaint L'Ouverture, nach dem heute der Flughafen von Port-au-Prince benannt ist. 1801 gab Toussaint dem Land seine erste Verfassung, die gleichzeitig eine Unabhängigkeitserklärung war. Für Napoleon sollte Haiti eine Schmach bleiben. Daraufhin sandte Napoleon Bonaparte Kriegsschiffe und Soldaten. Toussaint wurde verhaftet und nach Frankreich gebracht, wo er im Kerker starb. Doch als Napoleon im Jahr darauf die Sklaverei wieder einführen wollte, kam es erneut zum Aufstand. Verzweifelt baten die französischen Truppen im Sommer 1803 um Verstärkung. Da aber hatte Napoleon schon das Interesse an der Neuen Welt verloren. Im April hatte er seine Kolonie Louisiana an die Nordamerikaner verkauft, ein Gebiet, das rund ein Viertel des Staatsgebietes der heutigen USA umfasste. Für Napoleon sollte Haiti eine Schmach bleiben. Am 1. Januar 1804 erklärte der Rebellenführer Jean-Jacques Dessalines, die ehemalige Kolonie heiße nun Haiti und sei eine freie Republik. Der erste und bis zur Abschaffung der Sklaverei einzige erfolgreiche Sklavenaufstand der Neuen Welt war ein Schock für die Großmächte der Kolonialära, die ihren Reichtum auf der Sklaverei gegründet hatten. Ein Handel, der die Geschichte Haitis bis heute bestimmt Die Freiheit hatte ihren Preis. Ein Großteil der Plantagen war zerstört, ein Drittel der Bevölkerung Haitis den Kämpfen zum Opfer gefallen. Vor allem aber wollte keine Kolonialmacht die junge Republik anerkennen. Im Gegenteil -die meisten Länder unterstützten das Embargo der Insel und die Forderungen französischer Sklavenherren nach Reparationszahlungen. In der Hoffnung, als freie Nation Zugang zu den Weltmärkten zu erhalten, ließ sich die neue Machtelite Haitis auf einen Handel ein, der die Geschichte der Insel bis heute bestimmt. Mehr als zwei Jahrzehnte nach dem Sieg der Rebellen entsandte König Karl X. seine Kriegsschiffe nach Haiti. Ein Emissär stellte die Regierung vor die Wahl: Haiti sollte für die Anerkennung als Staat 150 Millionen Francs bezahlen. Sonst würde man einmarschieren und die Bevölkerung erneut versklaven. Haiti nahm Schulden auf und bezahlte. Bis zum Jahre 1947 lähmte die Schuldenlast die haitianische Wirtschaft und legte den Grundstein für Armut und Korruption. 2004 ließ der damalige haitianische Präsident Jean-Bertrand Aristide errechnen, was diese \"Reparationszahlungen\" für Haiti bedeuteten. Rund 22 Milliarden amerikanische Dollar Rückzahlung forderten seine Anwälte damals von der französischen Regierung. Vergebens. Lesen Sie auf der nächsten Seite, wie Haiti von den Akteuren der Weltbühne geschnitten wurde.\n",
      "\n",
      "Die Wurzeln des Elends liegen in der Vergangenheit. Haiti bezahlt immer noch für seine Befreiung vor 200 Jahren. Auch damals nahmen die Wichtigen der Welt den Insel-Staat nicht ernst.\n",
      "\n",
      "Geschichte von Haiti - Napoleons Schmach\n",
      "--------------\n",
      "Neue Köpfe und alte Bekannte: Die neue Regierungsmannschaft von Angela Merkel hielt einige Überraschungen parat. Mittlerweile haben sich die Minister in ihrem neuen Job eingefunden - die einen mit mehr, die anderen mit weniger Erfolg. KANZLERIN: Angela Merkel (55, CDU) Angela Merkel ist jetzt da, wo sie schon 2005 hin wollte: Sie ist Kanzlerin einer schwarz-gelben Koalition. Allerdings gehört sie auch zu denen in der Union, die die große Koalition mit der SPD in den vergangenen vier Jahren schätzen gelernt haben. Am Ende wurde spekuliert, sie hätte lieber mit der SPD weiterregiert, als mit der FDP einen unwägbaren Neuanfang zu starten. Wie unwägbar dieser Neuanfang werden sollte, hätte aber wohl auch die weitsichtigste Kanzlerin nicht erahnen können. An Streit und Meinungsverschiedenheiten zwischen CDU, CSU und FDP mangelt es nicht. Vermisst wird: eine Kanzlerin mit Mut zum Machtwort. Foto: ddp\n",
      "\n",
      "Schwarz-Gelb ist noch nicht jene Traumkoalition, die sich die Beteiligten erhofft hatten. Welche Minister aus Merkels Regierungsmannschaft leisten trotzdem gute Arbeit? Und welche sind Fehlbesetzungen? Stimmen Sie ab!\n",
      "\n",
      "Schwarz-gelbes Kabinett - Merkels Mannschaft im Test\n",
      "--------------\n"
     ]
    },
    {
     "name": "stdout",
     "output_type": "stream",
     "text": [
      "Es knirscht in der schwarz-gelben Koalition. Obwohl dem Koalitionsvertrag intensive Verhandlungen vorausgegangen sind, obwohl die Parteien inzwischen drei Monate Zeit hatten, sich zusammenzuraufen. Es knirscht so sehr, dass sich die Parteichefs von CDU, CSU und FDP noch Mitte Januar treffen wollen, um den Motor wieder zum Laufen zu kriegen. Die fünf größten Konflikte im Überblick: Steuersenkung Der Konflikt: Um 24 Milliarden Euro pro Jahr sollen die Bürger entlastet werden. So steht es im Koalitionsvertrag. Spätestens zum Ende der Legislaturperiode soll das Ziel erreicht sein. Das umstrittene \"Wachstumsbeschleunigungsgesetz\" - seit Jahresanfang in Kraft - ist der erste Schritt. Weitere sollen folgen. Die CSU aber will davon plötzlich nichts mehr wissen. 24 Milliarden seien zu viel. Sie sieht noch maximal Spielraum für 15 Milliarden, wovon gut die Hälfte mit dem Wachstumsbeschleunigungsgesetz schon abgedeckt sei. Die Lösung: Entlastungen wird es geben, auch wenn sich der Staat das eigentlich nicht leisten kann. Aber womöglich werden die Entlastungsschritte gestreckt werden. Die angestrebte Gesamtjahresentlastung von 24 Milliarden könnte dann erst 2012 oder 2013 erreicht werden und vielleicht auch um die ein oder andere Milliarde geringer ausfallen. Wenn die Konjunktur nicht spürbar anzieht, das weiß auch die FDP, steht ohnehin alles in Frage. Foto: dpa\n",
      "\n",
      "Die Koalitionäre zoffen im neuen Jahr munter weiter. Bald treffen sich die Parteichefs zum Krisengipfel. sueddeutsche.de zeigt die größten Konflikte - und mögliche Lösungen.\n",
      "\n",
      "Schwarz-gelber Koalitionskrach - Die fünf dicksten Brocken\n",
      "--------------\n",
      "Sind deutsche Politiker käuflich? Die Debatte um Parteispenden ist im vollen Gange - ausgelöst durch die Spende des Hotel-Unternehmers August Baron von Finck (hier mit seiner Frau Francine), der der FDP zwischen 2008 und 2009 ingesamt 1,1 Millionen Euro überwiesen hatte. Und der sich nach der Wahl freuen durfte, dass die schwarz-gelbe Regierung den Mehrwertsteuersatz auf Hotelübernachtungen senkte. Die Grünen fordern nun, Parteispenden zu begrenzen. Die Linkspartei will sie gleich ganz verbieten. Beide Parteien sehen allerdings auch kaum etwas von dem Geldregen - CDU und FDP hingegen käme ein Verbot teuer zu stehen. Sie profitieren ganz wesentlich von der finanziellen Zuwendungen von Industriellen, Verbänden und Einzelpersonen. Wer sind die Menschen, die der Politik Hunderttausende Euro schenken? Ein Überblick in Bildern. Foto: dpa\n",
      "\n",
      "Sind deutsche Politiker käuflich? Der Streit um Parteispenden ist entfacht, die Finck-Affäre belastet die FDP. Doch der Hotelunternehmer ist nicht der Einzige, der kräftig Geld in die Politik steckt. Ein Überblick in Bildern.\n",
      "\n",
      "Umstrittene Parteispenden - Deutschland, deine Spender\n",
      "--------------\n",
      "Das Projekt A400M steht auf der Kippe - wieder einmal. Der Hersteller Airbus möchte von den Käufern Geld sehen, sonst - so die Drohung - wird der Militärflieger aufgegeben. Nun treffen sich die Staatssekretäre der Abnehmerstaaten, um ihr weiteres Vorgehen zu beraten. Hinter allen Beteiligten liegt ein jahrelanger Kampf um Geld, Macht und Technik. Die Geschichte eines Pannenfliegers. 1991 Am Anfang steht ein Problem - und das heißt Transall C-160 (Foto). Der von Franzosen und Deutschen gemeinsam entwickelte Militärtransporter entstand bereits Ende der fünfziger Jahre und war entsprechend veraltet. Im Rahmen des aktuellen Afghanistan-Einsatzes fliegen 40 Jahre alte Maschinen an den Hindukusch, lästert die Zeit - weil die Reichweite der Transporter zu gering ist, geht das nur mit Zwischenstopp. Ein neuer Flieger muss her - und um den zu entwickeln, wird im Jahr 1991 der europäische Herstellerverbund Euroflag gegründet. Jahre später setzt London eine Ausschreibung durch, zu der die Hersteller Airbus, Boeing, Lockheed und später Iljuschin zugelassen werden. Transall-Maschinen auf dem Fliegerhorst Wunstorf bei Hannover; Foto: AP\n",
      "\n",
      "Der A400M steht auf der Kippe - wieder mal. In London beraten die Käuferstaaten, ob sie Hersteller Airbus entgegenkommen. Endet das Projekt in einem Fiasko? In Bildern.\n",
      "\n",
      "Airbus: Pannenflieger A400M - Pleiten, Pech und Peinlichkeiten\n",
      "--------------\n",
      "Die Weltspitze spielt ohne Deutschland: Nur vier deutsche Firmen haben es in die Top 100 der wertvollsten Unternehmen geschafft. Asiatische Firmen sind die Gewinner. Die Wirtschaftsprüfer von Ernst & Young haben die teuersten Unternehmen der Welt ermittelt: In den Top 100 finden sich nur noch vier deutsche Konzerne. Im vergangenen Jahr waren es acht Unternehmen. In anderen Ländern sei die Erhohlung der Aktienmärkte stärker gewesen, heißt es in der Studie. Das schwache Abschneiden der deutschen Konzerne wundert selbst die Herausgeber. Anführer der Hitparade und damit das wertvollste Unternehmen der Welt ist der chinesische Ölkonzern Petrochina, dessen Marktkapitalisierung mit etwa 353 Milliarden Dollar angegeben wird. Diese Zahl spiegelt wider, was ein Konzern an der Börse wert ist. Foto: AFP\n",
      "\n",
      "Die Weltspitze spielt ohne Deutschland: Nur vier deutsche Firmen haben es in die Top 100 der wertvollsten Unternehmen geschafft. Asiatische Firmen sind die Gewinner. Ein Überblick in Bildern.\n",
      "\n",
      "Die wertvollsten Unternehmen der Welt - Deutschland stürzt ab\n",
      "--------------\n",
      "Bei der Hilfe für die Erdbebenopfer in Haiti sind die Anfangsprobleme nach Worten von UN-Generalsekretär Ban Ki Moon überwunden. \"Ich weiß, dass es in den ersten Tagen gewisse Verzögerungen gab. Aber mittlerweile haben wir ein sehr effektives System aufgebaut, um Engpässe zu umgehen\", sagte Ban in New York nach einem Gottesdienst für die Zehntausenden Toten in Haiti. Haitianer warten in der zerstörten Stadt Leogane vor den Toren der Hilfsorganisationen auf Hilfe. \"Die Haitianer sind nicht gewaltsam ­- sie sind nur hungrig. Wir sind hierhergekommen, um ihnen Essen zu bringen\", sagte ein Rettungsarbeiter aus den USA. Quelle: dpa, Foto: getty\n",
      "\n",
      "Die Hoffnung, Überlebende zu finden, schwindet mit jedem Tag - doch die Suche hört nicht auf. Und manchmal geschehen kleine Wunder im zerstörten Haiti.\n",
      "\n",
      "Haiti nach dem Beben - Wunder inmitten der Katastrophe\n",
      "--------------\n"
     ]
    }
   ],
   "source": [
    "for i in range(10):\n",
    "    print(mlsum_de_dataset['train']['text'][i])\n",
    "    print()\n",
    "    print(mlsum_de_dataset['train']['summary'][i])\n",
    "    print()\n",
    "    print(mlsum_de_dataset['train']['title'][i])\n",
    "    \n",
    "    print(\"--------------\")"
   ]
  },
  {
   "cell_type": "code",
   "execution_count": 6,
   "metadata": {},
   "outputs": [],
   "source": [
    "x_1 = mlsum_de_dataset['train']['text'][0]"
   ]
  },
  {
   "cell_type": "code",
   "execution_count": 45,
   "metadata": {},
   "outputs": [],
   "source": [
    "def write_to_file(ds):\n",
    "    ds_parts = ['validation', 'test', 'train']\n",
    "    for ds_part in ds_parts:\n",
    "        article_path = \"../data/sueddeutsche/articles_de_{}\".format(ds_part)\n",
    "        with open(article_path, \"a\") as file:\n",
    "            for i, data in enumerate(ds[ds_part]):\n",
    "                file.write(\"{}; {}\\n\".format(i, data['text']))\n",
    "        highlights_path = \"../data/sueddeutsche/highlights_de_{}\".format(ds_part)     \n",
    "        with open(highlights_path, \"a\") as file:\n",
    "            for i, data in enumerate(ds[ds_part]):\n",
    "                file.write(\"{}; {}\\n\".format(i, data['summary']))\n",
    "\n",
    "    \n",
    "\n",
    "write_to_file(mlsum_de_dataset)"
   ]
  },
  {
   "cell_type": "code",
   "execution_count": null,
   "metadata": {},
   "outputs": [],
   "source": []
  },
  {
   "cell_type": "code",
   "execution_count": null,
   "metadata": {},
   "outputs": [],
   "source": []
  }
 ],
 "metadata": {
  "kernelspec": {
   "display_name": "Python 3",
   "language": "python",
   "name": "python3"
  },
  "language_info": {
   "codemirror_mode": {
    "name": "ipython",
    "version": 3
   },
   "file_extension": ".py",
   "mimetype": "text/x-python",
   "name": "python",
   "nbconvert_exporter": "python",
   "pygments_lexer": "ipython3",
   "version": "3.6.9"
  }
 },
 "nbformat": 4,
 "nbformat_minor": 2
}
