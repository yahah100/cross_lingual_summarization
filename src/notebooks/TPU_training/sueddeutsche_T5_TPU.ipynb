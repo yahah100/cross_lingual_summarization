{
 "cells": [
  {
   "cell_type": "markdown",
   "metadata": {
    "id": "MGqVkG2-7qfu"
   },
   "source": [
    "# T5 TPU Tensorflow "
   ]
  },
  {
   "cell_type": "code",
   "execution_count": 1,
   "metadata": {
    "colab": {
     "base_uri": "https://localhost:8080/"
    },
    "id": "nZIeAC0_tGXj",
    "outputId": "051749f8-06a6-402f-9ed8-f5ef3747139e"
   },
   "outputs": [
    {
     "name": "stdout",
     "output_type": "stream",
     "text": [
      "Collecting transformers\n",
      "\u001b[?25l  Downloading https://files.pythonhosted.org/packages/ed/d5/f4157a376b8a79489a76ce6cfe147f4f3be1e029b7144fa7b8432e8acb26/transformers-4.4.2-py3-none-any.whl (2.0MB)\n",
      "\u001b[K     |████████████████████████████████| 2.0MB 6.9MB/s \n",
      "\u001b[?25hRequirement already satisfied: importlib-metadata; python_version < \"3.8\" in /usr/local/lib/python3.7/dist-packages (from transformers) (3.8.1)\n",
      "Requirement already satisfied: regex!=2019.12.17 in /usr/local/lib/python3.7/dist-packages (from transformers) (2019.12.20)\n",
      "Requirement already satisfied: filelock in /usr/local/lib/python3.7/dist-packages (from transformers) (3.0.12)\n",
      "Collecting tokenizers<0.11,>=0.10.1\n",
      "\u001b[?25l  Downloading https://files.pythonhosted.org/packages/ae/04/5b870f26a858552025a62f1649c20d29d2672c02ff3c3fb4c688ca46467a/tokenizers-0.10.2-cp37-cp37m-manylinux2010_x86_64.whl (3.3MB)\n",
      "\u001b[K     |████████████████████████████████| 3.3MB 20.5MB/s \n",
      "\u001b[?25hCollecting sacremoses\n",
      "\u001b[?25l  Downloading https://files.pythonhosted.org/packages/08/cd/342e584ee544d044fb573ae697404ce22ede086c9e87ce5960772084cad0/sacremoses-0.0.44.tar.gz (862kB)\n",
      "\u001b[K     |████████████████████████████████| 870kB 39.7MB/s \n",
      "\u001b[?25hRequirement already satisfied: tqdm>=4.27 in /usr/local/lib/python3.7/dist-packages (from transformers) (4.41.1)\n",
      "Requirement already satisfied: packaging in /usr/local/lib/python3.7/dist-packages (from transformers) (20.9)\n",
      "Requirement already satisfied: numpy>=1.17 in /usr/local/lib/python3.7/dist-packages (from transformers) (1.19.5)\n",
      "Requirement already satisfied: requests in /usr/local/lib/python3.7/dist-packages (from transformers) (2.23.0)\n",
      "Requirement already satisfied: typing-extensions>=3.6.4; python_version < \"3.8\" in /usr/local/lib/python3.7/dist-packages (from importlib-metadata; python_version < \"3.8\"->transformers) (3.7.4.3)\n",
      "Requirement already satisfied: zipp>=0.5 in /usr/local/lib/python3.7/dist-packages (from importlib-metadata; python_version < \"3.8\"->transformers) (3.4.1)\n",
      "Requirement already satisfied: six in /usr/local/lib/python3.7/dist-packages (from sacremoses->transformers) (1.15.0)\n",
      "Requirement already satisfied: click in /usr/local/lib/python3.7/dist-packages (from sacremoses->transformers) (7.1.2)\n",
      "Requirement already satisfied: joblib in /usr/local/lib/python3.7/dist-packages (from sacremoses->transformers) (1.0.1)\n",
      "Requirement already satisfied: pyparsing>=2.0.2 in /usr/local/lib/python3.7/dist-packages (from packaging->transformers) (2.4.7)\n",
      "Requirement already satisfied: idna<3,>=2.5 in /usr/local/lib/python3.7/dist-packages (from requests->transformers) (2.10)\n",
      "Requirement already satisfied: certifi>=2017.4.17 in /usr/local/lib/python3.7/dist-packages (from requests->transformers) (2020.12.5)\n",
      "Requirement already satisfied: chardet<4,>=3.0.2 in /usr/local/lib/python3.7/dist-packages (from requests->transformers) (3.0.4)\n",
      "Requirement already satisfied: urllib3!=1.25.0,!=1.25.1,<1.26,>=1.21.1 in /usr/local/lib/python3.7/dist-packages (from requests->transformers) (1.24.3)\n",
      "Building wheels for collected packages: sacremoses\n",
      "  Building wheel for sacremoses (setup.py) ... \u001b[?25l\u001b[?25hdone\n",
      "  Created wheel for sacremoses: filename=sacremoses-0.0.44-cp37-none-any.whl size=886084 sha256=7cea5fbfddb8c5d8d9c99c33b3f45add9d0c7770ea41d6a9a947542e3fc4cc60\n",
      "  Stored in directory: /root/.cache/pip/wheels/3e/fb/c0/13ab4d63d537658f448366744654323077c4d90069b6512f3c\n",
      "Successfully built sacremoses\n",
      "Installing collected packages: tokenizers, sacremoses, transformers\n",
      "Successfully installed sacremoses-0.0.44 tokenizers-0.10.2 transformers-4.4.2\n",
      "Collecting sentencepiece\n",
      "\u001b[?25l  Downloading https://files.pythonhosted.org/packages/f5/99/e0808cb947ba10f575839c43e8fafc9cc44e4a7a2c8f79c60db48220a577/sentencepiece-0.1.95-cp37-cp37m-manylinux2014_x86_64.whl (1.2MB)\n",
      "\u001b[K     |████████████████████████████████| 1.2MB 6.8MB/s \n",
      "\u001b[?25hInstalling collected packages: sentencepiece\n",
      "Successfully installed sentencepiece-0.1.95\n"
     ]
    }
   ],
   "source": [
    "%tensorflow_version 2.x\n",
    "!pip install transformers\n",
    "!pip install sentencepiece"
   ]
  },
  {
   "cell_type": "markdown",
   "metadata": {
    "id": "GFkyo148RDH_"
   },
   "source": [
    "### Imports\n",
    "\n",
    "We'll only be importing the components that we'll use during this tutorial: the TensorFlow model alongside the model specific tokenizer. The last two imports will manage the pre-processing of our data."
   ]
  },
  {
   "cell_type": "code",
   "execution_count": 2,
   "metadata": {
    "colab": {
     "base_uri": "https://localhost:8080/"
    },
    "id": "EhpauvOIJzzf",
    "outputId": "fe5e8a09-9748-48a2-cffd-1c3a9c1825ac"
   },
   "outputs": [
    {
     "name": "stdout",
     "output_type": "stream",
     "text": [
      "2.4.1\n"
     ]
    }
   ],
   "source": [
    "import tensorflow as tf\n",
    "print(tf.__version__)\n",
    "\n",
    "import os\n",
    "from transformers import ( \n",
    "    T5Tokenizer, \n",
    "    TFT5Model, \n",
    "    TFT5ForConditionalGeneration\n",
    ")"
   ]
  },
  {
   "cell_type": "code",
   "execution_count": 3,
   "metadata": {
    "id": "qB9CLi1ovDxc"
   },
   "outputs": [],
   "source": [
    "learning_rate = 3e-5\n",
    "\n",
    "model_size = \"t5-base\"\n",
    "\n",
    "BATCH_SIZE_PER_REPLICA = 6\n",
    "\n",
    "EPOCHS = 10\n",
    "\n",
    "MAX_ARTICLE_LEN = 512\n",
    "\n",
    "MAX_HIGHLIGHT_LEN = 150"
   ]
  },
  {
   "cell_type": "markdown",
   "metadata": {
    "id": "jShcjelNEFq0"
   },
   "source": [
    "# Building the training system"
   ]
  },
  {
   "cell_type": "markdown",
   "metadata": {
    "id": "IX4SPt3mHf0L"
   },
   "source": [
    "## Strategy\n",
    "\n",
    "We make use of TensorFlow's strategies, which handle the data distribution as well as the distributed training that happens on the devices available. In this example we'll be using a `MirroredStrategy` which can be used to train on a multiple GPUs in a distributed manner. "
   ]
  },
  {
   "cell_type": "code",
   "execution_count": 4,
   "metadata": {
    "colab": {
     "base_uri": "https://localhost:8080/"
    },
    "id": "17Bnz94tuBFX",
    "outputId": "6fc5200f-f68d-42a5-8c20-d66af9f0b7af"
   },
   "outputs": [
    {
     "name": "stderr",
     "output_type": "stream",
     "text": [
      "INFO:absl:Entering into master device scope: /job:worker/replica:0/task:0/device:CPU:0\n"
     ]
    },
    {
     "name": "stdout",
     "output_type": "stream",
     "text": [
      "INFO:tensorflow:Initializing the TPU system: grpc://10.30.221.10:8470\n"
     ]
    },
    {
     "name": "stderr",
     "output_type": "stream",
     "text": [
      "INFO:tensorflow:Initializing the TPU system: grpc://10.30.221.10:8470\n"
     ]
    },
    {
     "name": "stdout",
     "output_type": "stream",
     "text": [
      "INFO:tensorflow:Clearing out eager caches\n"
     ]
    },
    {
     "name": "stderr",
     "output_type": "stream",
     "text": [
      "INFO:tensorflow:Clearing out eager caches\n"
     ]
    },
    {
     "name": "stdout",
     "output_type": "stream",
     "text": [
      "INFO:tensorflow:Finished initializing TPU system.\n"
     ]
    },
    {
     "name": "stderr",
     "output_type": "stream",
     "text": [
      "INFO:tensorflow:Finished initializing TPU system.\n"
     ]
    },
    {
     "data": {
      "text/plain": [
       "<tensorflow.python.tpu.topology.Topology at 0x7f4434d33310>"
      ]
     },
     "execution_count": 4,
     "metadata": {
      "tags": []
     },
     "output_type": "execute_result"
    }
   ],
   "source": [
    "tpu = tf.distribute.cluster_resolver.TPUClusterResolver()\n",
    "tf.config.experimental_connect_to_cluster(tpu)\n",
    "tf.tpu.experimental.initialize_tpu_system(tpu)"
   ]
  },
  {
   "cell_type": "code",
   "execution_count": 5,
   "metadata": {
    "colab": {
     "base_uri": "https://localhost:8080/"
    },
    "id": "1mIc_Ue7HWBm",
    "outputId": "29e06189-d1b8-45a3-f696-829c72558b9c"
   },
   "outputs": [
    {
     "name": "stderr",
     "output_type": "stream",
     "text": [
      "WARNING:absl:`tf.distribute.experimental.TPUStrategy` is deprecated, please use  the non experimental symbol `tf.distribute.TPUStrategy` instead.\n"
     ]
    },
    {
     "name": "stdout",
     "output_type": "stream",
     "text": [
      "INFO:tensorflow:Found TPU system:\n"
     ]
    },
    {
     "name": "stderr",
     "output_type": "stream",
     "text": [
      "INFO:tensorflow:Found TPU system:\n"
     ]
    },
    {
     "name": "stdout",
     "output_type": "stream",
     "text": [
      "INFO:tensorflow:*** Num TPU Cores: 8\n"
     ]
    },
    {
     "name": "stderr",
     "output_type": "stream",
     "text": [
      "INFO:tensorflow:*** Num TPU Cores: 8\n"
     ]
    },
    {
     "name": "stdout",
     "output_type": "stream",
     "text": [
      "INFO:tensorflow:*** Num TPU Workers: 1\n"
     ]
    },
    {
     "name": "stderr",
     "output_type": "stream",
     "text": [
      "INFO:tensorflow:*** Num TPU Workers: 1\n"
     ]
    },
    {
     "name": "stdout",
     "output_type": "stream",
     "text": [
      "INFO:tensorflow:*** Num TPU Cores Per Worker: 8\n"
     ]
    },
    {
     "name": "stderr",
     "output_type": "stream",
     "text": [
      "INFO:tensorflow:*** Num TPU Cores Per Worker: 8\n"
     ]
    },
    {
     "name": "stdout",
     "output_type": "stream",
     "text": [
      "INFO:tensorflow:*** Available Device: _DeviceAttributes(/job:localhost/replica:0/task:0/device:CPU:0, CPU, 0, 0)\n"
     ]
    },
    {
     "name": "stderr",
     "output_type": "stream",
     "text": [
      "INFO:tensorflow:*** Available Device: _DeviceAttributes(/job:localhost/replica:0/task:0/device:CPU:0, CPU, 0, 0)\n"
     ]
    },
    {
     "name": "stdout",
     "output_type": "stream",
     "text": [
      "INFO:tensorflow:*** Available Device: _DeviceAttributes(/job:worker/replica:0/task:0/device:CPU:0, CPU, 0, 0)\n"
     ]
    },
    {
     "name": "stderr",
     "output_type": "stream",
     "text": [
      "INFO:tensorflow:*** Available Device: _DeviceAttributes(/job:worker/replica:0/task:0/device:CPU:0, CPU, 0, 0)\n"
     ]
    },
    {
     "name": "stdout",
     "output_type": "stream",
     "text": [
      "INFO:tensorflow:*** Available Device: _DeviceAttributes(/job:worker/replica:0/task:0/device:TPU:0, TPU, 0, 0)\n"
     ]
    },
    {
     "name": "stderr",
     "output_type": "stream",
     "text": [
      "INFO:tensorflow:*** Available Device: _DeviceAttributes(/job:worker/replica:0/task:0/device:TPU:0, TPU, 0, 0)\n"
     ]
    },
    {
     "name": "stdout",
     "output_type": "stream",
     "text": [
      "INFO:tensorflow:*** Available Device: _DeviceAttributes(/job:worker/replica:0/task:0/device:TPU:1, TPU, 0, 0)\n"
     ]
    },
    {
     "name": "stderr",
     "output_type": "stream",
     "text": [
      "INFO:tensorflow:*** Available Device: _DeviceAttributes(/job:worker/replica:0/task:0/device:TPU:1, TPU, 0, 0)\n"
     ]
    },
    {
     "name": "stdout",
     "output_type": "stream",
     "text": [
      "INFO:tensorflow:*** Available Device: _DeviceAttributes(/job:worker/replica:0/task:0/device:TPU:2, TPU, 0, 0)\n"
     ]
    },
    {
     "name": "stderr",
     "output_type": "stream",
     "text": [
      "INFO:tensorflow:*** Available Device: _DeviceAttributes(/job:worker/replica:0/task:0/device:TPU:2, TPU, 0, 0)\n"
     ]
    },
    {
     "name": "stdout",
     "output_type": "stream",
     "text": [
      "INFO:tensorflow:*** Available Device: _DeviceAttributes(/job:worker/replica:0/task:0/device:TPU:3, TPU, 0, 0)\n"
     ]
    },
    {
     "name": "stderr",
     "output_type": "stream",
     "text": [
      "INFO:tensorflow:*** Available Device: _DeviceAttributes(/job:worker/replica:0/task:0/device:TPU:3, TPU, 0, 0)\n"
     ]
    },
    {
     "name": "stdout",
     "output_type": "stream",
     "text": [
      "INFO:tensorflow:*** Available Device: _DeviceAttributes(/job:worker/replica:0/task:0/device:TPU:4, TPU, 0, 0)\n"
     ]
    },
    {
     "name": "stderr",
     "output_type": "stream",
     "text": [
      "INFO:tensorflow:*** Available Device: _DeviceAttributes(/job:worker/replica:0/task:0/device:TPU:4, TPU, 0, 0)\n"
     ]
    },
    {
     "name": "stdout",
     "output_type": "stream",
     "text": [
      "INFO:tensorflow:*** Available Device: _DeviceAttributes(/job:worker/replica:0/task:0/device:TPU:5, TPU, 0, 0)\n"
     ]
    },
    {
     "name": "stderr",
     "output_type": "stream",
     "text": [
      "INFO:tensorflow:*** Available Device: _DeviceAttributes(/job:worker/replica:0/task:0/device:TPU:5, TPU, 0, 0)\n"
     ]
    },
    {
     "name": "stdout",
     "output_type": "stream",
     "text": [
      "INFO:tensorflow:*** Available Device: _DeviceAttributes(/job:worker/replica:0/task:0/device:TPU:6, TPU, 0, 0)\n"
     ]
    },
    {
     "name": "stderr",
     "output_type": "stream",
     "text": [
      "INFO:tensorflow:*** Available Device: _DeviceAttributes(/job:worker/replica:0/task:0/device:TPU:6, TPU, 0, 0)\n"
     ]
    },
    {
     "name": "stdout",
     "output_type": "stream",
     "text": [
      "INFO:tensorflow:*** Available Device: _DeviceAttributes(/job:worker/replica:0/task:0/device:TPU:7, TPU, 0, 0)\n"
     ]
    },
    {
     "name": "stderr",
     "output_type": "stream",
     "text": [
      "INFO:tensorflow:*** Available Device: _DeviceAttributes(/job:worker/replica:0/task:0/device:TPU:7, TPU, 0, 0)\n"
     ]
    },
    {
     "name": "stdout",
     "output_type": "stream",
     "text": [
      "INFO:tensorflow:*** Available Device: _DeviceAttributes(/job:worker/replica:0/task:0/device:TPU_SYSTEM:0, TPU_SYSTEM, 0, 0)\n"
     ]
    },
    {
     "name": "stderr",
     "output_type": "stream",
     "text": [
      "INFO:tensorflow:*** Available Device: _DeviceAttributes(/job:worker/replica:0/task:0/device:TPU_SYSTEM:0, TPU_SYSTEM, 0, 0)\n"
     ]
    },
    {
     "name": "stdout",
     "output_type": "stream",
     "text": [
      "INFO:tensorflow:*** Available Device: _DeviceAttributes(/job:worker/replica:0/task:0/device:XLA_CPU:0, XLA_CPU, 0, 0)\n"
     ]
    },
    {
     "name": "stderr",
     "output_type": "stream",
     "text": [
      "INFO:tensorflow:*** Available Device: _DeviceAttributes(/job:worker/replica:0/task:0/device:XLA_CPU:0, XLA_CPU, 0, 0)\n"
     ]
    },
    {
     "name": "stdout",
     "output_type": "stream",
     "text": [
      "Number of accelerators:  8\n"
     ]
    }
   ],
   "source": [
    "strategy = tf.distribute.experimental.TPUStrategy(tpu)\n",
    "print(\"Number of accelerators: \", strategy.num_replicas_in_sync)"
   ]
  },
  {
   "cell_type": "markdown",
   "metadata": {
    "id": "1t6ihoFbKoOB"
   },
   "source": [
    "## Loading the Dataset with the strategy\n",
    "\n",
    "Here we define a batch size for each replica. We set it to be a multiple of 8 to best leverage the systolic array as defined in the [Google TPU performance guide](https://cloud.google.com/tpu/docs/performance-guide#rule_of_thumb_pick_efficient_values_for_batch_and_feature_dimensions)."
   ]
  },
  {
   "cell_type": "code",
   "execution_count": 6,
   "metadata": {
    "colab": {
     "base_uri": "https://localhost:8080/"
    },
    "id": "3d4j3dIqUbXZ",
    "outputId": "8cb6be6b-f65c-4b12-de9a-516e2628ee36"
   },
   "outputs": [
    {
     "data": {
      "text/plain": [
       "48"
      ]
     },
     "execution_count": 6,
     "metadata": {
      "tags": []
     },
     "output_type": "execute_result"
    }
   ],
   "source": [
    "GLOBAL_BATCH_SIZE = BATCH_SIZE_PER_REPLICA * strategy.num_replicas_in_sync\n",
    "GLOBAL_BATCH_SIZE"
   ]
  },
  {
   "cell_type": "markdown",
   "metadata": {
    "id": "_TBaFqenUXq8"
   },
   "source": [
    "### Retrieving the TFRecord dataset\n",
    "\n",
    "The TFRecord dataset is now entirely processed and ready to be used as input by our training loop. We load it, shuffle it and batch it."
   ]
  },
  {
   "cell_type": "code",
   "execution_count": 7,
   "metadata": {
    "colab": {
     "base_uri": "https://localhost:8080/",
     "height": 115,
     "referenced_widgets": [
      "5f6ba2934eb34e36b4f1963b20b1ec8e",
      "749f756d88c64ff38cda4e0b670e6cf8",
      "7d5624a2bfa8451e927f549071033cd6",
      "fa1b40e8c2c04d8aa3222bad4e6cd007",
      "7e143d836eb34399982217becaa0a718",
      "80ba6d3e601d46b1963768bf643cb7c3",
      "1eebd4cd76bb4603b020aa6cbbd4bd3d",
      "c0798860f98f4f51a2a35a0205f7b453",
      "1138bdb647a8402fa6fb46a9f4e39e20",
      "fd0656f90ebe48fc90ab101fe70d338e",
      "665203de66314919bffda7ea8098ce42",
      "79d8d6788a2a421ca2c8978681761389",
      "d063174d29104957bafcbf303682c958",
      "2b715387606f4b05b5e9d11ce64a5401",
      "49588997a1e345c0a82be91fb1f9d741",
      "3c57437884244158a3fc332e7c717613"
     ]
    },
    "id": "qElWBW3rGrkG",
    "outputId": "894894dd-8a4e-4d82-e1c5-e66f1f758df8"
   },
   "outputs": [
    {
     "data": {
      "application/vnd.jupyter.widget-view+json": {
       "model_id": "5f6ba2934eb34e36b4f1963b20b1ec8e",
       "version_major": 2,
       "version_minor": 0
      },
      "text/plain": [
       "HBox(children=(FloatProgress(value=0.0, description='Downloading', max=791656.0, style=ProgressStyle(descripti…"
      ]
     },
     "metadata": {
      "tags": []
     },
     "output_type": "display_data"
    },
    {
     "name": "stdout",
     "output_type": "stream",
     "text": [
      "\n"
     ]
    },
    {
     "data": {
      "application/vnd.jupyter.widget-view+json": {
       "model_id": "1138bdb647a8402fa6fb46a9f4e39e20",
       "version_major": 2,
       "version_minor": 0
      },
      "text/plain": [
       "HBox(children=(FloatProgress(value=0.0, description='Downloading', max=1389353.0, style=ProgressStyle(descript…"
      ]
     },
     "metadata": {
      "tags": []
     },
     "output_type": "display_data"
    },
    {
     "name": "stdout",
     "output_type": "stream",
     "text": [
      "\n"
     ]
    }
   ],
   "source": [
    "tokenizer = T5Tokenizer.from_pretrained(model_size)\n",
    "en_de_prefix = tf.reshape(tokenizer(\"summarize English to German:\", return_tensors=\"tf\").input_ids, (-1,))\n",
    "de_en_prefix = tf.reshape(tokenizer(\"summarize German to English: \", return_tensors=\"tf\").input_ids, (-1,))\n",
    "en_en_prefix = tf.reshape(tokenizer(\"summarize English to English: \", return_tensors=\"tf\").input_ids, (-1,))\n",
    "de_de_prefix = tf.reshape(tokenizer(\"summarize German to German: \", return_tensors=\"tf\").input_ids, (-1,))\n",
    "trans_en_de_prefix = tf.reshape(tokenizer(\"translate English to German: \", return_tensors=\"tf\").input_ids, (-1,))\n",
    "trans_de_en_prefix = tf.reshape(tokenizer(\"translate German to English: \", return_tensors=\"tf\").input_ids, (-1,))"
   ]
  },
  {
   "cell_type": "code",
   "execution_count": 8,
   "metadata": {
    "id": "9v8hUx_WbYX1"
   },
   "outputs": [],
   "source": [
    "if en_de_prefix[-1] == 1: \n",
    "    en_de_prefix = en_de_prefix[:-1]\n",
    "    de_en_prefix = de_en_prefix[:-1]\n",
    "    en_en_prefix = en_en_prefix[:-1]\n",
    "    de_de_prefix = de_de_prefix[:-1]\n"
   ]
  },
  {
   "cell_type": "code",
   "execution_count": 9,
   "metadata": {
    "colab": {
     "base_uri": "https://localhost:8080/"
    },
    "id": "2xHN4yqvJx27",
    "outputId": "81cee2ad-8a5e-4531-9cd4-e48a50165069"
   },
   "outputs": [
    {
     "data": {
      "text/plain": [
       "5"
      ]
     },
     "execution_count": 9,
     "metadata": {
      "tags": []
     },
     "output_type": "execute_result"
    }
   ],
   "source": [
    "prefix_size = en_de_prefix.shape[0]\n",
    "assert en_de_prefix.shape[0] == de_en_prefix.shape[0] == en_en_prefix.shape[0] == de_de_prefix.shape[0] == 5\n",
    "prefix_size"
   ]
  },
  {
   "cell_type": "code",
   "execution_count": 10,
   "metadata": {
    "colab": {
     "base_uri": "https://localhost:8080/"
    },
    "id": "JL-mV85MZPI4",
    "outputId": "69d5908b-4430-409c-fa76-be6a25508da6"
   },
   "outputs": [
    {
     "data": {
      "text/plain": [
       "array([21603,  1566,    12,  2968,    10], dtype=int32)"
      ]
     },
     "execution_count": 10,
     "metadata": {
      "tags": []
     },
     "output_type": "execute_result"
    }
   ],
   "source": [
    "en_de_prefix.numpy()"
   ]
  },
  {
   "cell_type": "code",
   "execution_count": 12,
   "metadata": {
    "colab": {
     "base_uri": "https://localhost:8080/"
    },
    "id": "4P6RtkHKaElt",
    "outputId": "7f9e5a61-8551-4b0b-a35d-5d0123a5962c"
   },
   "outputs": [
    {
     "name": "stdout",
     "output_type": "stream",
     "text": [
      "Updated property [core/project].\n"
     ]
    }
   ],
   "source": [
    "from google.colab import auth\n",
    "auth.authenticate_user()\n",
    "\n",
    "# https://cloud.google.com/resource-manager/docs/creating-managing-projects\n",
    "project_id = 'theta-strata-260123'\n",
    "!gcloud config set project {project_id}"
   ]
  },
  {
   "cell_type": "code",
   "execution_count": 13,
   "metadata": {
    "colab": {
     "base_uri": "https://localhost:8080/"
    },
    "id": "3vwQ9gMS1eL9",
    "outputId": "d6c49c93-1c0f-46cb-91e5-288b8a0b23b2"
   },
   "outputs": [
    {
     "name": "stdout",
     "output_type": "stream",
     "text": [
      "['gs://tpu-bucket-cnn-daily-mail/data/sueddeutsche_train/sueddeutsche_multilingual-0.tfrecord', 'gs://tpu-bucket-cnn-daily-mail/data/sueddeutsche_train/sueddeutsche_multilingual-1.tfrecord', 'gs://tpu-bucket-cnn-daily-mail/data/sueddeutsche_train/sueddeutsche_multilingual-10.tfrecord', 'gs://tpu-bucket-cnn-daily-mail/data/sueddeutsche_train/sueddeutsche_multilingual-11.tfrecord', 'gs://tpu-bucket-cnn-daily-mail/data/sueddeutsche_train/sueddeutsche_multilingual-12.tfrecord', 'gs://tpu-bucket-cnn-daily-mail/data/sueddeutsche_train/sueddeutsche_multilingual-13.tfrecord', 'gs://tpu-bucket-cnn-daily-mail/data/sueddeutsche_train/sueddeutsche_multilingual-14.tfrecord', 'gs://tpu-bucket-cnn-daily-mail/data/sueddeutsche_train/sueddeutsche_multilingual-15.tfrecord', 'gs://tpu-bucket-cnn-daily-mail/data/sueddeutsche_train/sueddeutsche_multilingual-2.tfrecord', 'gs://tpu-bucket-cnn-daily-mail/data/sueddeutsche_train/sueddeutsche_multilingual-3.tfrecord', 'gs://tpu-bucket-cnn-daily-mail/data/sueddeutsche_train/sueddeutsche_multilingual-4.tfrecord', 'gs://tpu-bucket-cnn-daily-mail/data/sueddeutsche_train/sueddeutsche_multilingual-5.tfrecord', 'gs://tpu-bucket-cnn-daily-mail/data/sueddeutsche_train/sueddeutsche_multilingual-6.tfrecord', 'gs://tpu-bucket-cnn-daily-mail/data/sueddeutsche_train/sueddeutsche_multilingual-7.tfrecord', 'gs://tpu-bucket-cnn-daily-mail/data/sueddeutsche_train/sueddeutsche_multilingual-8.tfrecord', 'gs://tpu-bucket-cnn-daily-mail/data/sueddeutsche_train/sueddeutsche_multilingual-9.tfrecord']\n",
      "['gs://tpu-bucket-cnn-daily-mail/data/sueddeutsche_val/sueddeutsche_multilingual-0.tfrecord', 'gs://tpu-bucket-cnn-daily-mail/data/sueddeutsche_val/sueddeutsche_multilingual-1.tfrecord', 'gs://tpu-bucket-cnn-daily-mail/data/sueddeutsche_val/sueddeutsche_multilingual-10.tfrecord', 'gs://tpu-bucket-cnn-daily-mail/data/sueddeutsche_val/sueddeutsche_multilingual-11.tfrecord', 'gs://tpu-bucket-cnn-daily-mail/data/sueddeutsche_val/sueddeutsche_multilingual-12.tfrecord', 'gs://tpu-bucket-cnn-daily-mail/data/sueddeutsche_val/sueddeutsche_multilingual-13.tfrecord', 'gs://tpu-bucket-cnn-daily-mail/data/sueddeutsche_val/sueddeutsche_multilingual-14.tfrecord', 'gs://tpu-bucket-cnn-daily-mail/data/sueddeutsche_val/sueddeutsche_multilingual-15.tfrecord', 'gs://tpu-bucket-cnn-daily-mail/data/sueddeutsche_val/sueddeutsche_multilingual-16.tfrecord', 'gs://tpu-bucket-cnn-daily-mail/data/sueddeutsche_val/sueddeutsche_multilingual-17.tfrecord', 'gs://tpu-bucket-cnn-daily-mail/data/sueddeutsche_val/sueddeutsche_multilingual-18.tfrecord', 'gs://tpu-bucket-cnn-daily-mail/data/sueddeutsche_val/sueddeutsche_multilingual-19.tfrecord', 'gs://tpu-bucket-cnn-daily-mail/data/sueddeutsche_val/sueddeutsche_multilingual-2.tfrecord', 'gs://tpu-bucket-cnn-daily-mail/data/sueddeutsche_val/sueddeutsche_multilingual-3.tfrecord', 'gs://tpu-bucket-cnn-daily-mail/data/sueddeutsche_val/sueddeutsche_multilingual-4.tfrecord', 'gs://tpu-bucket-cnn-daily-mail/data/sueddeutsche_val/sueddeutsche_multilingual-5.tfrecord', 'gs://tpu-bucket-cnn-daily-mail/data/sueddeutsche_val/sueddeutsche_multilingual-6.tfrecord', 'gs://tpu-bucket-cnn-daily-mail/data/sueddeutsche_val/sueddeutsche_multilingual-7.tfrecord', 'gs://tpu-bucket-cnn-daily-mail/data/sueddeutsche_val/sueddeutsche_multilingual-8.tfrecord', 'gs://tpu-bucket-cnn-daily-mail/data/sueddeutsche_val/sueddeutsche_multilingual-9.tfrecord']\n"
     ]
    }
   ],
   "source": [
    "import numpy as np\n",
    "\n",
    "bucket = \"gs://tpu-bucket-cnn-daily-mail\"\n",
    "\n",
    "def listdir_gcp(directory):\n",
    "    list_dir = !gsutil ls -r {directory}\n",
    "    return list_dir\n",
    "\n",
    "def get_tf_record_files(directory):\n",
    "    file_list = []\n",
    "    for item in listdir_gcp(directory):\n",
    "        if item.split(\".\")[-1] == \"tfrecord\":\n",
    "            file_list.append(str(item))\n",
    "    return file_list\n",
    "\n",
    "def get_tfrecord_dataset(directory):\n",
    "    features = {\n",
    "        'ger_x': tf.io.FixedLenFeature([MAX_ARTICLE_LEN-prefix_size], tf.int64),\n",
    "        'ger_x_mask': tf.io.FixedLenFeature([MAX_ARTICLE_LEN-prefix_size], tf.int64),\n",
    "        'ger_y': tf.io.FixedLenFeature([MAX_HIGHLIGHT_LEN], tf.int64),\n",
    "        'ger_y_ids': tf.io.FixedLenFeature([MAX_HIGHLIGHT_LEN], tf.int64),\n",
    "\n",
    "        'en_x': tf.io.FixedLenFeature([MAX_ARTICLE_LEN-prefix_size], tf.int64),\n",
    "        'en_x_mask': tf.io.FixedLenFeature([MAX_ARTICLE_LEN-prefix_size], tf.int64),\n",
    "        'en_y': tf.io.FixedLenFeature([MAX_HIGHLIGHT_LEN], tf.int64),\n",
    "        'en_y_ids': tf.io.FixedLenFeature([MAX_HIGHLIGHT_LEN], tf.int64),\n",
    "    }\n",
    "\n",
    "    tf_records_list = get_tf_record_files(directory)\n",
    "    print(tf_records_list)\n",
    "    dataset = tf.data.TFRecordDataset(tf_records_list)\n",
    "\n",
    "    # Taken from the TensorFlow models repository: https://github.com/tensorflow/models/blob/befbe0f9fe02d6bc1efb1c462689d069dae23af1/official/nlp/bert/input_pipeline.py#L24\n",
    "    def decode_record(record, features):\n",
    "        \"\"\"Decodes a record to a TensorFlow example.\"\"\"\n",
    "        example = tf.io.parse_single_example(record, features)\n",
    "\n",
    "        # tf.Example only supports tf.int64, but the TPU only supports tf.int32.\n",
    "        # So cast all int64 to int32.\n",
    "        for name in list(example.keys()):\n",
    "            t = example[name]\n",
    "            if t.dtype == tf.int64:\n",
    "                t = tf.cast(t, tf.int32)\n",
    "            example[name] = t\n",
    "        return example\n",
    "\n",
    "\n",
    "    def select_data_from_record(record):\n",
    "        i  = tf.random.uniform((1,),0,4,dtype=tf.int32)[0]\n",
    "        \n",
    "        if i == 0:\n",
    "            return tf.concat([de_de_prefix, record['ger_x']], axis=0), tf.concat([tf.ones(prefix_size, dtype=tf.int32), record['ger_x_mask']], axis=0), record['ger_y'], record['ger_y_ids']\n",
    "        elif i == 1:\n",
    "            return tf.concat([en_de_prefix, record['en_x']], axis=0), tf.concat([tf.ones(prefix_size, dtype=tf.int32), record['en_x_mask']], axis=0), record['ger_y'], record['ger_y_ids']\n",
    "        elif i == 2:\n",
    "            return tf.concat([de_en_prefix, record['ger_x']], axis=0), tf.concat([tf.ones(prefix_size, dtype=tf.int32), record['ger_x_mask']], axis=0), record['en_y'], record['en_y_ids']\n",
    "        else:\n",
    "            return tf.concat([en_en_prefix, record['en_x']], axis=0), tf.concat([tf.ones(prefix_size, dtype=tf.int32), record['en_x_mask']], axis=0), record['en_y'], record['en_y_ids']\n",
    "\n",
    "    dataset = dataset.map(lambda record: decode_record(record, features))\n",
    "    dataset = dataset.map(select_data_from_record)\n",
    "    dataset = dataset.shuffle(500000)\n",
    "    return dataset.batch(GLOBAL_BATCH_SIZE)\n",
    "\n",
    "\n",
    "\n",
    "train_dataset = get_tfrecord_dataset(bucket + \"/data/sueddeutsche_train/\")\n",
    "train_dataset.prefetch(1024)\n",
    "\n",
    "validation_dataset = get_tfrecord_dataset(bucket + \"/data/sueddeutsche_val/\")\n",
    "# test_dataset = get_tfrecord_dataset(bucket + \"/data/sueddeutsche_val/\")\n"
   ]
  },
  {
   "cell_type": "code",
   "execution_count": 14,
   "metadata": {
    "colab": {
     "base_uri": "https://localhost:8080/"
    },
    "id": "cGCkwUN12ppW",
    "outputId": "32e7ba00-cf81-40ef-9486-fd932960e0eb"
   },
   "outputs": [
    {
     "data": {
      "text/plain": [
       "<TakeDataset shapes: ((None, 512), (None, 512), (None, 150), (None, 150)), types: (tf.int32, tf.int32, tf.int32, tf.int32)>"
      ]
     },
     "execution_count": 14,
     "metadata": {
      "tags": []
     },
     "output_type": "execute_result"
    }
   ],
   "source": [
    "train_dataset.take(1)"
   ]
  },
  {
   "cell_type": "markdown",
   "metadata": {
    "id": "pkXR1MK0J7Zp"
   },
   "source": [
    "There is an additional step here to distribute the dataset among the different TPU cores. We make use of a strategy method to do so.\n",
    "\n",
    "Every item held in the dataset (which is a batched dataset) will now be split over the TPU workers. As the TPU we're using has 8 workers and our batch is of size 64, every example will be evenly split in batches of (64 / 8 =) 8 and distributed across workers."
   ]
  },
  {
   "cell_type": "code",
   "execution_count": 15,
   "metadata": {
    "id": "Lv2zz8vYJ7vh"
   },
   "outputs": [],
   "source": [
    "train_dist_dataset = strategy.experimental_distribute_dataset(train_dataset)\n",
    "validation_dist_dataset = strategy.experimental_distribute_dataset(validation_dataset)"
   ]
  },
  {
   "cell_type": "markdown",
   "metadata": {
    "id": "QmC9J6brHN0B"
   },
   "source": [
    "## Model creation\n",
    "\n",
    "We create a function that will instantiate a new model when called."
   ]
  },
  {
   "cell_type": "code",
   "execution_count": 16,
   "metadata": {
    "id": "a1C-9yTS2GTj"
   },
   "outputs": [],
   "source": [
    "def model_fn():\n",
    "    return TFT5ForConditionalGeneration.from_pretrained(model_size, output_attentions=True)"
   ]
  },
  {
   "cell_type": "markdown",
   "metadata": {
    "id": "wS1dc5mvHXNa"
   },
   "source": [
    "## Hyperparameters initialization\n",
    "\n",
    "While in the strategy's scope, we define a sparse categorical crossentropy loss. We define a method `compute_loss` which will be called to compute the loss between the model's prediction and the expected result (or label).\n",
    "\n",
    "In order to measure the accuracy during training and evaluation, we define two metrics which are both sparse categorical accuracy.\n",
    "\n",
    "Finally, we initialize a model and create an optimizer object using the Adam optimizer.\n"
   ]
  },
  {
   "cell_type": "code",
   "execution_count": 17,
   "metadata": {
    "colab": {
     "base_uri": "https://localhost:8080/",
     "height": 183,
     "referenced_widgets": [
      "15b64db1819141ae97c5e30e3d37b969",
      "8ba9bb3f763c40cb8dd194ae665543de",
      "58e018864c2e4b8989d779473c48f097",
      "8f3744077eee404296900866fef935b0",
      "440732c73cef4361b3ef16207782fe12",
      "cb90e4a1683f458aabce59c6c9e1823d",
      "39be9ea8e27b4542923b7e7ea660c067",
      "99daf465e4a74ea29874b092f2bd730c",
      "ee8c09e98a744a5fbb2867b5ac39c040",
      "5f08d41b908946c7814286d7db775fbe",
      "9bef33063b47436cb741cfdfd228f35a",
      "9779dbc8908c4e03876e0191e2a9a4d1",
      "b2c8af5414f547ff8a4e091b9b279546",
      "4618c73c15fb4639aa5d50bcace156ff",
      "608aedb386534d9996f1f39cd31c84d5",
      "d4f2be3fdb3e4fdc8bc65b5dbe4943b0"
     ]
    },
    "id": "rItpKUam2JSb",
    "outputId": "e83a982b-f479-478b-93b5-f843967098e2"
   },
   "outputs": [
    {
     "data": {
      "application/vnd.jupyter.widget-view+json": {
       "model_id": "15b64db1819141ae97c5e30e3d37b969",
       "version_major": 2,
       "version_minor": 0
      },
      "text/plain": [
       "HBox(children=(FloatProgress(value=0.0, description='Downloading', max=1199.0, style=ProgressStyle(description…"
      ]
     },
     "metadata": {
      "tags": []
     },
     "output_type": "display_data"
    },
    {
     "name": "stdout",
     "output_type": "stream",
     "text": [
      "\n"
     ]
    },
    {
     "data": {
      "application/vnd.jupyter.widget-view+json": {
       "model_id": "ee8c09e98a744a5fbb2867b5ac39c040",
       "version_major": 2,
       "version_minor": 0
      },
      "text/plain": [
       "HBox(children=(FloatProgress(value=0.0, description='Downloading', max=892146080.0, style=ProgressStyle(descri…"
      ]
     },
     "metadata": {
      "tags": []
     },
     "output_type": "display_data"
    },
    {
     "name": "stdout",
     "output_type": "stream",
     "text": [
      "\n"
     ]
    },
    {
     "name": "stderr",
     "output_type": "stream",
     "text": [
      "All model checkpoint layers were used when initializing TFT5ForConditionalGeneration.\n",
      "\n",
      "All the layers of TFT5ForConditionalGeneration were initialized from the model checkpoint at t5-base.\n",
      "If your task is similar to the task the model of the checkpoint was trained on, you can already use TFT5ForConditionalGeneration for predictions without further training.\n"
     ]
    }
   ],
   "source": [
    "with strategy.scope():\n",
    "    loss_object = tf.keras.losses.SparseCategoricalCrossentropy(reduction=tf.keras.losses.Reduction.NONE, from_logits=True)\n",
    "\n",
    "    def compute_loss(labels, predictions):\n",
    "        per_example_loss = loss_object(labels, predictions)\n",
    "        return tf.nn.compute_average_loss(per_example_loss, global_batch_size=GLOBAL_BATCH_SIZE)\n",
    "\n",
    "    test_loss_metric = tf.keras.metrics.Mean(name='test_loss')\n",
    "    test_accuracy_metric = tf.keras.metrics.SparseCategoricalAccuracy(name='test_accuracy')\n",
    "\n",
    "    train_loss_metric = tf.keras.metrics.Mean('training_loss', dtype=tf.float32)\n",
    "    train_accuracy_metric = tf.keras.metrics.SparseCategoricalAccuracy('training_accuracy')\n",
    "    \n",
    "    model = model_fn()\n",
    "    optimizer = tf.keras.optimizers.Adam(learning_rate=3e-5, epsilon=1e-08)"
   ]
  },
  {
   "cell_type": "markdown",
   "metadata": {
    "id": "bIzuZKDMIuft"
   },
   "source": [
    "## Steps\n",
    "\n",
    "We create two functions that will be called during the training and test steps. "
   ]
  },
  {
   "cell_type": "code",
   "execution_count": 18,
   "metadata": {
    "id": "SZIqCzhL2R6z"
   },
   "outputs": [],
   "source": [
    "with strategy.scope():\n",
    "    def train_step(inputs):\n",
    "        input_ids, input_mask, y, y_ids = inputs\n",
    "\n",
    "        with tf.GradientTape() as tape:\n",
    "            logits = model(input_ids, attention_mask=input_mask, decoder_input_ids=y_ids, training=True)[0]             \n",
    "            loss = compute_loss(y, logits)\n",
    "\n",
    "        gradients = tape.gradient(loss, model.trainable_variables)\n",
    "\n",
    "        optimizer.apply_gradients(zip(gradients, model.trainable_variables))\n",
    "        train_loss_metric.update_state(loss)\n",
    "        train_accuracy_metric.update_state(y, logits)\n",
    "\n",
    "    def test_step(inputs):\n",
    "        input_ids, input_mask, y, y_ids = inputs\n",
    "\n",
    "        logits = model(input_ids, attention_mask=input_mask, decoder_input_ids=y_ids, training=False)[0]  \n",
    "        t_loss = compute_loss(y, logits)\n",
    "\n",
    "        test_loss_metric.update_state(t_loss)\n",
    "        test_accuracy_metric.update_state(y, logits)"
   ]
  },
  {
   "cell_type": "markdown",
   "metadata": {
    "id": "oqhnTfbEJ9fa"
   },
   "source": [
    "## Training & Evaluation\n",
    "\n",
    "Finally, using all the previously defined attributes, we create two traced tf.function which will execute the training and test steps in a distributed manner. There is no need for them to return anything as the metrics will directly be updated in the steps described beforehand.\n",
    "\n",
    "We loop over the number of epochs, training the model and evaluating it at the end of each epoch."
   ]
  },
  {
   "cell_type": "code",
   "execution_count": 19,
   "metadata": {
    "colab": {
     "base_uri": "https://localhost:8080/",
     "height": 1000,
     "referenced_widgets": [
      "37aee92faaf741308a9531fabf2c51f0",
      "fe0705ea49f54db281885d45dae92aa3",
      "06f0413c7c3e4ec6964f8ff9939cff00",
      "2eb26e05a27b4b14b4e6b97b29ea1afe",
      "aa13873a0b324a02b4230600531cd580",
      "246c0dfb94a84785bfa464c06e24f17c",
      "f826e56ac69a4bc293cb0acc6808761b",
      "7b08ec2ad90b413babf8896007873952",
      "7afb6c52b00945249dbaac6ae589c847",
      "38fc1a4ef78a4dbe8c1072f5da79c289",
      "b9e0ae534c9a427e8c4539387f4a5a47",
      "265c0db54f7b4c1a971ad44543704c6d",
      "b001cfadd170464f947ecf0f930a7108",
      "cf73f4eac6df4caa8fcf7df68a0006ac",
      "7ce5507e9bd9429b9db39d8decc969e9",
      "a6aa2deb412c4c3fa00737f0b6fce8aa",
      "4fc967a9f7b64d34afc9349b734bc9fd",
      "cbc20cae1f634d5980f9e98ee441894e",
      "8da1fd0274234d93ab8e65be5b1e8991",
      "70c8629c11974ee7a382d5f95106c8ff",
      "6f88bcbe34a24a4b8e3e77936d304208",
      "03c11990b6dc4a039e20920aaafeacaf",
      "6e2e98327167433c8d87bab39deb1bd7",
      "e4d35f9b50c643a485cbc92ebb632449",
      "fc9e7584976c49069df790e0b7e8e256",
      "8aa5e2fd699a4724b2ea5b491b578aeb",
      "39851a1e154a43ecb6f163c9230718a8",
      "4dc2a7e7101f4095aa0d5e5181c43f01",
      "0518961a1917422f85b64747a15eaf1f",
      "06b00010ca4a4fbf8ac84f0f38490529",
      "e7e88d68c279400789519720bb93904f",
      "5c0f8db8990445f39aef602ac30459a3",
      "bc6feb2f5c5a472092e9907e1d1457c5",
      "f546d5556b7b4fc093ace359339d3082",
      "8ed529b9290044429d07d9e10de40f9e",
      "076e8c67aa9d4abaa03e28e10bab9a10",
      "378e0e90c87a433ebf1099c17a5cf9ce",
      "74aff11befe4428dae1972631dcd6436",
      "ce814715cf1f4522b6b9a8b1f77eb0ca",
      "ebdd079725d44c9e929c24133eafc17a",
      "e0855bfc56f74b1ea9682978603a1546",
      "3ede9b077aa24e08a62fb032f08e56cd",
      "c5cbfa98ef3d4cb78d7b3f7d71b18298",
      "d2068a28cb034548a6e0dd02b9e47458",
      "66e1801d21e345d2bb509cb12210f07d",
      "19bca659cf2c4d7a960ac8e55af3645c",
      "8c07c1932690426a9cf9f4776937a086",
      "4bbbce5a847b431d9bf17d0f46eb92a8",
      "b112aabde12f496e8d4c7e390e663b7d",
      "3e29b93b447946309cf567b83222a1fd",
      "73508b14d272485c95cab434d2185877",
      "acc7351d1332485d97e56757e05013c0",
      "1439a0b049554619bfb752d626702672",
      "98c067077f51488e82b566159e31718a",
      "77f36a20d3cf465e94789b743ce2bc9e",
      "5bb6faf0cf594c2e8f9f98bbe31eb9b8",
      "cde3ff89c49f4da3bf2b840a13ce022b",
      "9f987abcc977490aab3e9b6fc872264e",
      "548c68b089bf4e56a7d84fd9aa6c0e3a",
      "b6395a00cc874dfe850cbf90536b413b",
      "3934753f35e64d7aac350454e73a498e",
      "c703481e88c34435a35b1dfea383a240",
      "8962ea2c3cff45b2841f5859760aa186",
      "9e54f8b8af3a46268bb5295c6cce82a7",
      "2ae49a8abbfe491bbf2eeeb2b44b72f4",
      "79cb4d349ebe4e279d8cd771330a4826",
      "af07bd05722f40f5aff9f773238947b0",
      "afd956b3b06c491980ebc2f18cafffed",
      "a3abdd4afd7240b1afe30a31aba10116",
      "6fd86e604e0a4f07a3f2b32822bcba5d",
      "bafdb79307894d93972b2e4eef029b3f",
      "142b1b3db88043c1b210796aacd5d145",
      "c09d8eb15bf14cdd8b205d936890c269",
      "8d1f11b55de74d0ab1e0a01cb2868998",
      "29776b2a18ef4452b6085ce27b6f1b4c",
      "c5a923896b0f4ea8b5b60359ee359cf1",
      "614e4b4e85fe4beab96d094e61f9b0de",
      "2841c8739afe4772a0798e98b19ef3a2",
      "924a32c074514827ac6f1ddc2a75abdc",
      "80ec372f7e5046939a601d765a055eae",
      "8d8e9c8dfeeb47d9afd6aa5c991e0d43",
      "0d7df561e128438ba00e5de50cc05aaf",
      "bc2d17d0310341da87df37df1ed126ef",
      "06be356d8e6742d38fc1232c7efcda6f",
      "a7b624bcd821433ca49e5b51438c49eb",
      "645faa79b1ad4264a531bfaa2b704f95",
      "aa5cff08816c4b4e982350f353b1c169",
      "a734529d129a4b5eba73b73a442a077b",
      "7dcf79f9d70648188d2a2a666d6bac20",
      "42dc00269b92451ea6691ff97ddd280f",
      "042f4c39ee144ef9b5343b9263414c85",
      "54cbc07a0ea84ef6b104cfe72622a50d",
      "0197f9510f5341f59b651ecc9db6c778",
      "742dbb1c15d8496992691f607370af0c",
      "ce4142dd9cd04bb1a01a950a37bc8f9e",
      "8b9a208bd2a1410491b6390f2fd0be60",
      "fe695d79600e4c9b834dc692d920aa58",
      "66f05cb4c5dd42318c21db667643ef9b",
      "a21548a0ca784cae9cfd15230daaad6c",
      "8c3e0554bc0e4d059996218c0cef8014",
      "fc9ac6c7ec0d4770b718ab1601e95e98",
      "ead4c99375c84146971285b3b1ecdb05",
      "f1e18ebbad6948dd8ac99e981ff85c27",
      "50758cc490bb4c85a40bd883b363f102",
      "320515281e34402ea1b30df0d3114f45",
      "5ceeeefd10a84265b65e914f10c4ed8a",
      "9d403ea216e74d13b58420ddc497474a",
      "b0603c82392547cc9073bcd7dfccf00c",
      "fcfce4d91c0f4d4aba725ca74307969e",
      "ec3ed7a570a3490fba72b33ae23ea637",
      "7b358a3d88f94f43860ad64f65bdf903",
      "ceb3d1b301254373947306547cabea0a",
      "8f2d2a8a3b8d4f1c8552d5173ba248c3",
      "76f992bc156549edb2502828804b3639",
      "741f67bd267444b09d7d8d3190f54d98",
      "fb7b6712addd4b5584a9eb37435a773c",
      "05be7d67b3854eceb987f26ec46f06bd",
      "9f7ae33f5b0a4ab7bf482a81448fcd36",
      "9a0e41a5af0e49a1bde9e33bd48477e4",
      "015f362dda18438f88b17c2fcd35c6d1",
      "2587b21b59264bb882e9e30118669dba",
      "02026c7f844641849fcd2419cece5df8",
      "6133b810da4c484f9e9ced0b7d665864",
      "267d2f0957d74414aa89bf2ad710ead1",
      "af924e18a51842be93e963e72a97fc9a",
      "064c7fa6a2264b199651e20293981374",
      "3b627db82d4c477eaa98ca1c088b17ca",
      "a58b2f18025d4330ba48096095cfba0e",
      "e10dc7c055594898a9f2d0d1aeaaa7ce",
      "1b460add7afe47bf9ad513173621fac7",
      "7a72c602adc24f8291ef050f73131f4b",
      "5f45f28ae5874da2ba83e4ec7db9f2b7",
      "7d08a549996943e89d454d271935a667",
      "dc4aca0d66154664ac98a0a98a36560a",
      "3535b21437e14db8bae035c3a9eed8e8",
      "eac349c517ff451eaf900f304fbc260c",
      "5d9b2660b6a7438cb683a559b1174cb2",
      "da5ea4b7da6e48d596a45aa3f023d9e1",
      "ec18e12e5e1b473b9841fa3150300e6a",
      "63bf20d4d3a24fafa4e28492179e15c2",
      "caa5c4d0b5a445bd9ba323c2a32a6822",
      "ac47251ee9de49dbba87b1f7ac49e2af",
      "4c05faf822a649c59103f44e57a7ebee",
      "40d5a5c72525408faaa222f3f546462d",
      "36ccb77ccb9d48c2b96a22ea64c7afc0",
      "f3bef6ca15694f76aee7e6735b40a049",
      "a4a7c284a2c347bc9169f3657b8006fd",
      "7a516413a10d49288d020b9cbc6d3af4",
      "c558f86237924d52856b05cedea6e4a2",
      "3762fb07ed794a22a790b1dd24e5679b",
      "2efe9504c16048b9a90dc11a52a933c2",
      "ff69d5924ea64856a4bd2774794aacba",
      "c838618303f94b4abe15d09aff86a2d5",
      "eeb955e136854c84b5986eaedad5b9e6",
      "16e74b6d22174480bddef9f0cbc85233",
      "40ecdf8e1725412b9cae838c9e6e955b",
      "bb22997a6d844593a3d3b9025ab17902",
      "631a379b2fc64087869de258153c3a08",
      "679aa022f97a4930834ca40da4e3c93e",
      "c37cd947751b45389101aabb87a1a043"
     ]
    },
    "id": "G_chN1Sy3IXn",
    "outputId": "2bc2184d-6827-4756-bde9-bcc93ec3b126"
   },
   "outputs": [
    {
     "data": {
      "application/vnd.jupyter.widget-view+json": {
       "model_id": "37aee92faaf741308a9531fabf2c51f0",
       "version_major": 2,
       "version_minor": 0
      },
      "text/plain": [
       "HBox(children=(FloatProgress(value=1.0, bar_style='info', description='Training', max=1.0, style=ProgressStyle…"
      ]
     },
     "metadata": {
      "tags": []
     },
     "output_type": "display_data"
    },
    {
     "name": "stdout",
     "output_type": "stream",
     "text": [
      "WARNING:tensorflow:The parameters `output_attentions`, `output_hidden_states` and `use_cache` cannot be updated when calling a model.They have to be set to True/False in the config object (i.e.: `config=XConfig.from_pretrained('name', output_attentions=True)`).\n",
      "WARNING:tensorflow:AutoGraph could not transform <bound method Socket.send of <zmq.sugar.socket.Socket object at 0x7f4475053d70>> and will run it as-is.\n",
      "Please report this to the TensorFlow team. When filing the bug, set the verbosity to 10 (on Linux, `export AUTOGRAPH_VERBOSITY=10`) and attach the full output.\n",
      "Cause: module, class, method, function, traceback, frame, or code object was expected, got cython_function_or_method\n",
      "To silence this warning, decorate the function with @tf.autograph.experimental.do_not_convert\n"
     ]
    },
    {
     "name": "stderr",
     "output_type": "stream",
     "text": [
      "WARNING:tensorflow:AutoGraph could not transform <bound method Socket.send of <zmq.sugar.socket.Socket object at 0x7f4475053d70>> and will run it as-is.\n",
      "Please report this to the TensorFlow team. When filing the bug, set the verbosity to 10 (on Linux, `export AUTOGRAPH_VERBOSITY=10`) and attach the full output.\n",
      "Cause: module, class, method, function, traceback, frame, or code object was expected, got cython_function_or_method\n",
      "To silence this warning, decorate the function with @tf.autograph.experimental.do_not_convert\n"
     ]
    },
    {
     "name": "stdout",
     "output_type": "stream",
     "text": [
      "WARNING: AutoGraph could not transform <bound method Socket.send of <zmq.sugar.socket.Socket object at 0x7f4475053d70>> and will run it as-is.\n",
      "Please report this to the TensorFlow team. When filing the bug, set the verbosity to 10 (on Linux, `export AUTOGRAPH_VERBOSITY=10`) and attach the full output.\n",
      "Cause: module, class, method, function, traceback, frame, or code object was expected, got cython_function_or_method\n",
      "To silence this warning, decorate the function with @tf.autograph.experimental.do_not_convert\n",
      "WARNING:tensorflow:AutoGraph could not transform <function wrap at 0x7f4490900c20> and will run it as-is.\n",
      "Cause: while/else statement not yet supported\n",
      "To silence this warning, decorate the function with @tf.autograph.experimental.do_not_convert\n"
     ]
    },
    {
     "name": "stderr",
     "output_type": "stream",
     "text": [
      "WARNING:tensorflow:The parameters `output_attentions`, `output_hidden_states` and `use_cache` cannot be updated when calling a model.They have to be set to True/False in the config object (i.e.: `config=XConfig.from_pretrained('name', output_attentions=True)`).\n",
      "WARNING:tensorflow:AutoGraph could not transform <function wrap at 0x7f4490900c20> and will run it as-is.\n",
      "Cause: while/else statement not yet supported\n",
      "To silence this warning, decorate the function with @tf.autograph.experimental.do_not_convert\n"
     ]
    },
    {
     "name": "stdout",
     "output_type": "stream",
     "text": [
      "WARNING:tensorflow:The parameter `return_dict` cannot be set in graph mode and will always be set to `True`.\n",
      "WARNING: AutoGraph could not transform <function wrap at 0x7f4490900c20> and will run it as-is.\n",
      "Cause: while/else statement not yet supported\n",
      "To silence this warning, decorate the function with @tf.autograph.experimental.do_not_convert\n"
     ]
    },
    {
     "name": "stderr",
     "output_type": "stream",
     "text": [
      "WARNING:tensorflow:The parameter `return_dict` cannot be set in graph mode and will always be set to `True`.\n"
     ]
    },
    {
     "name": "stdout",
     "output_type": "stream",
     "text": [
      "WARNING:tensorflow:The parameters `output_attentions`, `output_hidden_states` and `use_cache` cannot be updated when calling a model.They have to be set to True/False in the config object (i.e.: `config=XConfig.from_pretrained('name', output_attentions=True)`).\n"
     ]
    },
    {
     "name": "stderr",
     "output_type": "stream",
     "text": [
      "WARNING:tensorflow:The parameters `output_attentions`, `output_hidden_states` and `use_cache` cannot be updated when calling a model.They have to be set to True/False in the config object (i.e.: `config=XConfig.from_pretrained('name', output_attentions=True)`).\n"
     ]
    },
    {
     "name": "stdout",
     "output_type": "stream",
     "text": [
      "WARNING:tensorflow:The parameter `return_dict` cannot be set in graph mode and will always be set to `True`.\n"
     ]
    },
    {
     "name": "stderr",
     "output_type": "stream",
     "text": [
      "WARNING:tensorflow:The parameter `return_dict` cannot be set in graph mode and will always be set to `True`.\n"
     ]
    },
    {
     "name": "stdout",
     "output_type": "stream",
     "text": [
      "WARNING:tensorflow:The parameters `output_attentions`, `output_hidden_states` and `use_cache` cannot be updated when calling a model.They have to be set to True/False in the config object (i.e.: `config=XConfig.from_pretrained('name', output_attentions=True)`).\n"
     ]
    },
    {
     "name": "stderr",
     "output_type": "stream",
     "text": [
      "WARNING:tensorflow:The parameters `output_attentions`, `output_hidden_states` and `use_cache` cannot be updated when calling a model.They have to be set to True/False in the config object (i.e.: `config=XConfig.from_pretrained('name', output_attentions=True)`).\n"
     ]
    },
    {
     "name": "stdout",
     "output_type": "stream",
     "text": [
      "WARNING:tensorflow:The parameter `return_dict` cannot be set in graph mode and will always be set to `True`.\n"
     ]
    },
    {
     "name": "stderr",
     "output_type": "stream",
     "text": [
      "WARNING:tensorflow:The parameter `return_dict` cannot be set in graph mode and will always be set to `True`.\n"
     ]
    },
    {
     "name": "stdout",
     "output_type": "stream",
     "text": [
      "WARNING:tensorflow:The parameters `output_attentions`, `output_hidden_states` and `use_cache` cannot be updated when calling a model.They have to be set to True/False in the config object (i.e.: `config=XConfig.from_pretrained('name', output_attentions=True)`).\n"
     ]
    },
    {
     "name": "stderr",
     "output_type": "stream",
     "text": [
      "WARNING:tensorflow:The parameters `output_attentions`, `output_hidden_states` and `use_cache` cannot be updated when calling a model.They have to be set to True/False in the config object (i.e.: `config=XConfig.from_pretrained('name', output_attentions=True)`).\n"
     ]
    },
    {
     "name": "stdout",
     "output_type": "stream",
     "text": [
      "WARNING:tensorflow:The parameter `return_dict` cannot be set in graph mode and will always be set to `True`.\n"
     ]
    },
    {
     "name": "stderr",
     "output_type": "stream",
     "text": [
      "WARNING:tensorflow:The parameter `return_dict` cannot be set in graph mode and will always be set to `True`.\n"
     ]
    },
    {
     "name": "stdout",
     "output_type": "stream",
     "text": [
      "Training step 1000 Training loss: 13.289100646972656\n",
      "Training step 2000 Training loss: 10.99670124053955\n",
      "Training step 3000 Training loss: 10.092193603515625\n",
      "Training step 4000 Training loss: 9.572710037231445\n",
      "WARNING:tensorflow:The parameters `output_attentions`, `output_hidden_states` and `use_cache` cannot be updated when calling a model.They have to be set to True/False in the config object (i.e.: `config=XConfig.from_pretrained('name', output_attentions=True)`).\n"
     ]
    },
    {
     "name": "stderr",
     "output_type": "stream",
     "text": [
      "WARNING:tensorflow:The parameters `output_attentions`, `output_hidden_states` and `use_cache` cannot be updated when calling a model.They have to be set to True/False in the config object (i.e.: `config=XConfig.from_pretrained('name', output_attentions=True)`).\n"
     ]
    },
    {
     "name": "stdout",
     "output_type": "stream",
     "text": [
      "WARNING:tensorflow:The parameter `return_dict` cannot be set in graph mode and will always be set to `True`.\n"
     ]
    },
    {
     "name": "stderr",
     "output_type": "stream",
     "text": [
      "WARNING:tensorflow:The parameter `return_dict` cannot be set in graph mode and will always be set to `True`.\n"
     ]
    },
    {
     "name": "stdout",
     "output_type": "stream",
     "text": [
      "WARNING:tensorflow:The parameters `output_attentions`, `output_hidden_states` and `use_cache` cannot be updated when calling a model.They have to be set to True/False in the config object (i.e.: `config=XConfig.from_pretrained('name', output_attentions=True)`).\n"
     ]
    },
    {
     "name": "stderr",
     "output_type": "stream",
     "text": [
      "WARNING:tensorflow:The parameters `output_attentions`, `output_hidden_states` and `use_cache` cannot be updated when calling a model.They have to be set to True/False in the config object (i.e.: `config=XConfig.from_pretrained('name', output_attentions=True)`).\n"
     ]
    },
    {
     "name": "stdout",
     "output_type": "stream",
     "text": [
      "WARNING:tensorflow:The parameter `return_dict` cannot be set in graph mode and will always be set to `True`.\n"
     ]
    },
    {
     "name": "stderr",
     "output_type": "stream",
     "text": [
      "WARNING:tensorflow:The parameter `return_dict` cannot be set in graph mode and will always be set to `True`.\n"
     ]
    },
    {
     "name": "stdout",
     "output_type": "stream",
     "text": [
      "\n"
     ]
    },
    {
     "data": {
      "application/vnd.jupyter.widget-view+json": {
       "model_id": "7afb6c52b00945249dbaac6ae589c847",
       "version_major": 2,
       "version_minor": 0
      },
      "text/plain": [
       "HBox(children=(FloatProgress(value=1.0, bar_style='info', description='Evaluating', max=1.0, style=ProgressSty…"
      ]
     },
     "metadata": {
      "tags": []
     },
     "output_type": "display_data"
    },
    {
     "name": "stdout",
     "output_type": "stream",
     "text": [
      "WARNING:tensorflow:The parameters `output_attentions`, `output_hidden_states` and `use_cache` cannot be updated when calling a model.They have to be set to True/False in the config object (i.e.: `config=XConfig.from_pretrained('name', output_attentions=True)`).\n"
     ]
    },
    {
     "name": "stderr",
     "output_type": "stream",
     "text": [
      "WARNING:tensorflow:The parameters `output_attentions`, `output_hidden_states` and `use_cache` cannot be updated when calling a model.They have to be set to True/False in the config object (i.e.: `config=XConfig.from_pretrained('name', output_attentions=True)`).\n"
     ]
    },
    {
     "name": "stdout",
     "output_type": "stream",
     "text": [
      "WARNING:tensorflow:The parameter `return_dict` cannot be set in graph mode and will always be set to `True`.\n"
     ]
    },
    {
     "name": "stderr",
     "output_type": "stream",
     "text": [
      "WARNING:tensorflow:The parameter `return_dict` cannot be set in graph mode and will always be set to `True`.\n"
     ]
    },
    {
     "name": "stdout",
     "output_type": "stream",
     "text": [
      "WARNING:tensorflow:The parameters `output_attentions`, `output_hidden_states` and `use_cache` cannot be updated when calling a model.They have to be set to True/False in the config object (i.e.: `config=XConfig.from_pretrained('name', output_attentions=True)`).\n"
     ]
    },
    {
     "name": "stderr",
     "output_type": "stream",
     "text": [
      "WARNING:tensorflow:The parameters `output_attentions`, `output_hidden_states` and `use_cache` cannot be updated when calling a model.They have to be set to True/False in the config object (i.e.: `config=XConfig.from_pretrained('name', output_attentions=True)`).\n"
     ]
    },
    {
     "name": "stdout",
     "output_type": "stream",
     "text": [
      "WARNING:tensorflow:The parameter `return_dict` cannot be set in graph mode and will always be set to `True`.\n"
     ]
    },
    {
     "name": "stderr",
     "output_type": "stream",
     "text": [
      "WARNING:tensorflow:The parameter `return_dict` cannot be set in graph mode and will always be set to `True`.\n"
     ]
    },
    {
     "name": "stdout",
     "output_type": "stream",
     "text": [
      "WARNING:tensorflow:The parameters `output_attentions`, `output_hidden_states` and `use_cache` cannot be updated when calling a model.They have to be set to True/False in the config object (i.e.: `config=XConfig.from_pretrained('name', output_attentions=True)`).\n"
     ]
    },
    {
     "name": "stderr",
     "output_type": "stream",
     "text": [
      "WARNING:tensorflow:The parameters `output_attentions`, `output_hidden_states` and `use_cache` cannot be updated when calling a model.They have to be set to True/False in the config object (i.e.: `config=XConfig.from_pretrained('name', output_attentions=True)`).\n"
     ]
    },
    {
     "name": "stdout",
     "output_type": "stream",
     "text": [
      "WARNING:tensorflow:The parameter `return_dict` cannot be set in graph mode and will always be set to `True`.\n"
     ]
    },
    {
     "name": "stderr",
     "output_type": "stream",
     "text": [
      "WARNING:tensorflow:The parameter `return_dict` cannot be set in graph mode and will always be set to `True`.\n"
     ]
    },
    {
     "name": "stdout",
     "output_type": "stream",
     "text": [
      "WARNING:tensorflow:The parameters `output_attentions`, `output_hidden_states` and `use_cache` cannot be updated when calling a model.They have to be set to True/False in the config object (i.e.: `config=XConfig.from_pretrained('name', output_attentions=True)`).\n"
     ]
    },
    {
     "name": "stderr",
     "output_type": "stream",
     "text": [
      "WARNING:tensorflow:The parameters `output_attentions`, `output_hidden_states` and `use_cache` cannot be updated when calling a model.They have to be set to True/False in the config object (i.e.: `config=XConfig.from_pretrained('name', output_attentions=True)`).\n"
     ]
    },
    {
     "name": "stdout",
     "output_type": "stream",
     "text": [
      "WARNING:tensorflow:The parameter `return_dict` cannot be set in graph mode and will always be set to `True`.\n"
     ]
    },
    {
     "name": "stderr",
     "output_type": "stream",
     "text": [
      "WARNING:tensorflow:The parameter `return_dict` cannot be set in graph mode and will always be set to `True`.\n"
     ]
    },
    {
     "name": "stdout",
     "output_type": "stream",
     "text": [
      "\n",
      "Epoch: [0] Validation loss = 9.136810302734375\n"
     ]
    },
    {
     "data": {
      "application/vnd.jupyter.widget-view+json": {
       "model_id": "4fc967a9f7b64d34afc9349b734bc9fd",
       "version_major": 2,
       "version_minor": 0
      },
      "text/plain": [
       "HBox(children=(FloatProgress(value=1.0, bar_style='info', description='Training', max=1.0, style=ProgressStyle…"
      ]
     },
     "metadata": {
      "tags": []
     },
     "output_type": "display_data"
    },
    {
     "name": "stdout",
     "output_type": "stream",
     "text": [
      "Training step 1000 Training loss: 7.760985851287842\n",
      "Training step 2000 Training loss: 7.726761341094971\n",
      "Training step 3000 Training loss: 7.66487455368042\n",
      "Training step 4000 Training loss: 7.613144874572754\n",
      "\n"
     ]
    },
    {
     "data": {
      "application/vnd.jupyter.widget-view+json": {
       "model_id": "fc9e7584976c49069df790e0b7e8e256",
       "version_major": 2,
       "version_minor": 0
      },
      "text/plain": [
       "HBox(children=(FloatProgress(value=1.0, bar_style='info', description='Evaluating', max=1.0, style=ProgressSty…"
      ]
     },
     "metadata": {
      "tags": []
     },
     "output_type": "display_data"
    },
    {
     "name": "stdout",
     "output_type": "stream",
     "text": [
      "\n",
      "Epoch: [1] Validation loss = 8.721479415893555\n"
     ]
    },
    {
     "data": {
      "application/vnd.jupyter.widget-view+json": {
       "model_id": "bc6feb2f5c5a472092e9907e1d1457c5",
       "version_major": 2,
       "version_minor": 0
      },
      "text/plain": [
       "HBox(children=(FloatProgress(value=1.0, bar_style='info', description='Training', max=1.0, style=ProgressStyle…"
      ]
     },
     "metadata": {
      "tags": []
     },
     "output_type": "display_data"
    },
    {
     "name": "stdout",
     "output_type": "stream",
     "text": [
      "Training step 1000 Training loss: 7.318554878234863\n",
      "Training step 2000 Training loss: 7.312159538269043\n",
      "Training step 3000 Training loss: 7.285826683044434\n",
      "Training step 4000 Training loss: 7.265405654907227\n",
      "\n"
     ]
    },
    {
     "data": {
      "application/vnd.jupyter.widget-view+json": {
       "model_id": "e0855bfc56f74b1ea9682978603a1546",
       "version_major": 2,
       "version_minor": 0
      },
      "text/plain": [
       "HBox(children=(FloatProgress(value=1.0, bar_style='info', description='Evaluating', max=1.0, style=ProgressSty…"
      ]
     },
     "metadata": {
      "tags": []
     },
     "output_type": "display_data"
    },
    {
     "name": "stdout",
     "output_type": "stream",
     "text": [
      "\n",
      "Epoch: [2] Validation loss = 8.586605072021484\n"
     ]
    },
    {
     "data": {
      "application/vnd.jupyter.widget-view+json": {
       "model_id": "b112aabde12f496e8d4c7e390e663b7d",
       "version_major": 2,
       "version_minor": 0
      },
      "text/plain": [
       "HBox(children=(FloatProgress(value=1.0, bar_style='info', description='Training', max=1.0, style=ProgressStyle…"
      ]
     },
     "metadata": {
      "tags": []
     },
     "output_type": "display_data"
    },
    {
     "name": "stdout",
     "output_type": "stream",
     "text": [
      "Training step 1000 Training loss: 7.087429523468018\n",
      "Training step 2000 Training loss: 7.0728631019592285\n",
      "Training step 3000 Training loss: 7.0662407875061035\n",
      "Training step 4000 Training loss: 7.05480432510376\n",
      "\n"
     ]
    },
    {
     "data": {
      "application/vnd.jupyter.widget-view+json": {
       "model_id": "cde3ff89c49f4da3bf2b840a13ce022b",
       "version_major": 2,
       "version_minor": 0
      },
      "text/plain": [
       "HBox(children=(FloatProgress(value=1.0, bar_style='info', description='Evaluating', max=1.0, style=ProgressSty…"
      ]
     },
     "metadata": {
      "tags": []
     },
     "output_type": "display_data"
    },
    {
     "name": "stdout",
     "output_type": "stream",
     "text": [
      "\n",
      "Epoch: [3] Validation loss = 8.47606372833252\n"
     ]
    },
    {
     "data": {
      "application/vnd.jupyter.widget-view+json": {
       "model_id": "2ae49a8abbfe491bbf2eeeb2b44b72f4",
       "version_major": 2,
       "version_minor": 0
      },
      "text/plain": [
       "HBox(children=(FloatProgress(value=1.0, bar_style='info', description='Training', max=1.0, style=ProgressStyle…"
      ]
     },
     "metadata": {
      "tags": []
     },
     "output_type": "display_data"
    },
    {
     "name": "stdout",
     "output_type": "stream",
     "text": [
      "Training step 1000 Training loss: 6.97245454788208\n",
      "Training step 2000 Training loss: 6.952075004577637\n",
      "Training step 3000 Training loss: 6.930178165435791\n",
      "Training step 4000 Training loss: 6.908130645751953\n",
      "\n"
     ]
    },
    {
     "data": {
      "application/vnd.jupyter.widget-view+json": {
       "model_id": "c09d8eb15bf14cdd8b205d936890c269",
       "version_major": 2,
       "version_minor": 0
      },
      "text/plain": [
       "HBox(children=(FloatProgress(value=1.0, bar_style='info', description='Evaluating', max=1.0, style=ProgressSty…"
      ]
     },
     "metadata": {
      "tags": []
     },
     "output_type": "display_data"
    },
    {
     "name": "stdout",
     "output_type": "stream",
     "text": [
      "\n",
      "Epoch: [4] Validation loss = 8.338327407836914\n"
     ]
    },
    {
     "data": {
      "application/vnd.jupyter.widget-view+json": {
       "model_id": "8d8e9c8dfeeb47d9afd6aa5c991e0d43",
       "version_major": 2,
       "version_minor": 0
      },
      "text/plain": [
       "HBox(children=(FloatProgress(value=1.0, bar_style='info', description='Training', max=1.0, style=ProgressStyle…"
      ]
     },
     "metadata": {
      "tags": []
     },
     "output_type": "display_data"
    },
    {
     "name": "stdout",
     "output_type": "stream",
     "text": [
      "Training step 1000 Training loss: 6.832931041717529\n",
      "Training step 2000 Training loss: 6.7847371101379395\n",
      "Training step 3000 Training loss: 6.78145170211792\n",
      "Training step 4000 Training loss: 6.770649433135986\n",
      "\n"
     ]
    },
    {
     "data": {
      "application/vnd.jupyter.widget-view+json": {
       "model_id": "7dcf79f9d70648188d2a2a666d6bac20",
       "version_major": 2,
       "version_minor": 0
      },
      "text/plain": [
       "HBox(children=(FloatProgress(value=1.0, bar_style='info', description='Evaluating', max=1.0, style=ProgressSty…"
      ]
     },
     "metadata": {
      "tags": []
     },
     "output_type": "display_data"
    },
    {
     "name": "stdout",
     "output_type": "stream",
     "text": [
      "\n",
      "Epoch: [5] Validation loss = 8.25474739074707\n"
     ]
    },
    {
     "data": {
      "application/vnd.jupyter.widget-view+json": {
       "model_id": "fe695d79600e4c9b834dc692d920aa58",
       "version_major": 2,
       "version_minor": 0
      },
      "text/plain": [
       "HBox(children=(FloatProgress(value=1.0, bar_style='info', description='Training', max=1.0, style=ProgressStyle…"
      ]
     },
     "metadata": {
      "tags": []
     },
     "output_type": "display_data"
    },
    {
     "name": "stdout",
     "output_type": "stream",
     "text": [
      "Training step 1000 Training loss: 6.700423240661621\n",
      "Training step 2000 Training loss: 6.700794696807861\n",
      "Training step 3000 Training loss: 6.681453227996826\n",
      "Training step 4000 Training loss: 6.673819065093994\n",
      "\n"
     ]
    },
    {
     "data": {
      "application/vnd.jupyter.widget-view+json": {
       "model_id": "320515281e34402ea1b30df0d3114f45",
       "version_major": 2,
       "version_minor": 0
      },
      "text/plain": [
       "HBox(children=(FloatProgress(value=1.0, bar_style='info', description='Evaluating', max=1.0, style=ProgressSty…"
      ]
     },
     "metadata": {
      "tags": []
     },
     "output_type": "display_data"
    },
    {
     "name": "stdout",
     "output_type": "stream",
     "text": [
      "\n",
      "Epoch: [6] Validation loss = 8.234540939331055\n"
     ]
    },
    {
     "data": {
      "application/vnd.jupyter.widget-view+json": {
       "model_id": "8f2d2a8a3b8d4f1c8552d5173ba248c3",
       "version_major": 2,
       "version_minor": 0
      },
      "text/plain": [
       "HBox(children=(FloatProgress(value=1.0, bar_style='info', description='Training', max=1.0, style=ProgressStyle…"
      ]
     },
     "metadata": {
      "tags": []
     },
     "output_type": "display_data"
    },
    {
     "name": "stdout",
     "output_type": "stream",
     "text": [
      "Training step 1000 Training loss: 6.594395637512207\n",
      "Training step 2000 Training loss: 6.595091819763184\n",
      "Training step 3000 Training loss: 6.5738677978515625\n",
      "Training step 4000 Training loss: 6.568502426147461\n",
      "\n"
     ]
    },
    {
     "data": {
      "application/vnd.jupyter.widget-view+json": {
       "model_id": "2587b21b59264bb882e9e30118669dba",
       "version_major": 2,
       "version_minor": 0
      },
      "text/plain": [
       "HBox(children=(FloatProgress(value=1.0, bar_style='info', description='Evaluating', max=1.0, style=ProgressSty…"
      ]
     },
     "metadata": {
      "tags": []
     },
     "output_type": "display_data"
    },
    {
     "name": "stdout",
     "output_type": "stream",
     "text": [
      "\n",
      "Epoch: [7] Validation loss = 8.15027141571045\n"
     ]
    },
    {
     "data": {
      "application/vnd.jupyter.widget-view+json": {
       "model_id": "e10dc7c055594898a9f2d0d1aeaaa7ce",
       "version_major": 2,
       "version_minor": 0
      },
      "text/plain": [
       "HBox(children=(FloatProgress(value=1.0, bar_style='info', description='Training', max=1.0, style=ProgressStyle…"
      ]
     },
     "metadata": {
      "tags": []
     },
     "output_type": "display_data"
    },
    {
     "name": "stdout",
     "output_type": "stream",
     "text": [
      "Training step 1000 Training loss: 6.505455493927002\n",
      "Training step 2000 Training loss: 6.486947059631348\n",
      "Training step 3000 Training loss: 6.491954326629639\n",
      "Training step 4000 Training loss: 6.48913049697876\n",
      "\n"
     ]
    },
    {
     "data": {
      "application/vnd.jupyter.widget-view+json": {
       "model_id": "5d9b2660b6a7438cb683a559b1174cb2",
       "version_major": 2,
       "version_minor": 0
      },
      "text/plain": [
       "HBox(children=(FloatProgress(value=1.0, bar_style='info', description='Evaluating', max=1.0, style=ProgressSty…"
      ]
     },
     "metadata": {
      "tags": []
     },
     "output_type": "display_data"
    },
    {
     "name": "stdout",
     "output_type": "stream",
     "text": [
      "\n",
      "Epoch: [8] Validation loss = 8.081644058227539\n"
     ]
    },
    {
     "data": {
      "application/vnd.jupyter.widget-view+json": {
       "model_id": "36ccb77ccb9d48c2b96a22ea64c7afc0",
       "version_major": 2,
       "version_minor": 0
      },
      "text/plain": [
       "HBox(children=(FloatProgress(value=1.0, bar_style='info', description='Training', max=1.0, style=ProgressStyle…"
      ]
     },
     "metadata": {
      "tags": []
     },
     "output_type": "display_data"
    },
    {
     "name": "stdout",
     "output_type": "stream",
     "text": [
      "Training step 1000 Training loss: 6.396988391876221\n",
      "Training step 2000 Training loss: 6.4026031494140625\n",
      "Training step 3000 Training loss: 6.410921096801758\n",
      "Training step 4000 Training loss: 6.4133100509643555\n",
      "\n"
     ]
    },
    {
     "data": {
      "application/vnd.jupyter.widget-view+json": {
       "model_id": "c838618303f94b4abe15d09aff86a2d5",
       "version_major": 2,
       "version_minor": 0
      },
      "text/plain": [
       "HBox(children=(FloatProgress(value=1.0, bar_style='info', description='Evaluating', max=1.0, style=ProgressSty…"
      ]
     },
     "metadata": {
      "tags": []
     },
     "output_type": "display_data"
    },
    {
     "name": "stdout",
     "output_type": "stream",
     "text": [
      "\n",
      "Epoch: [9] Validation loss = 8.0833158493042\n"
     ]
    }
   ],
   "source": [
    "from tqdm.notebook import tqdm\n",
    "\n",
    "def save_checkpoint(filename, epoch):\n",
    "    ckpt_file = os.path.join(bucket, \"{}/t5_base-{}.ckpt\".format(filename, epoch))\n",
    "    model.save_weights(ckpt_file) \n",
    "\n",
    "training_loss_list = []\n",
    "validation_loss_list = []\n",
    "\n",
    "\n",
    "with strategy.scope():\n",
    "    @tf.function\n",
    "    def distributed_train_step(dataset):\n",
    "        strategy.run(train_step, args=(dataset,))\n",
    " \n",
    "\n",
    "    @tf.function\n",
    "    def distributed_test_step(dataset):\n",
    "        strategy.run(test_step, args=(dataset,))\n",
    "\n",
    "\n",
    "    global_step = 0\n",
    "    for epoch in range(EPOCHS):\n",
    "        total_loss = 0.0\n",
    "        training_steps = 10\n",
    "        epoch_step = 0\n",
    "        print_every = 1000\n",
    "\n",
    "        ### Training loop ###\n",
    "        for tensor in tqdm(train_dist_dataset, desc=\"Training\"):\n",
    "            distributed_train_step(tensor)  \n",
    "\n",
    "            train_loss = train_loss_metric.result().numpy().astype(float)\n",
    "            train_accuracy = train_accuracy_metric.result().numpy()\n",
    "\n",
    "            global_step += 1\n",
    "            epoch_step += 1\n",
    "            training_loss_list.append(train_loss)\n",
    "            if epoch_step % print_every == 0:\n",
    "                print(f\"Training step {epoch_step} Training loss: {train_loss}\")\n",
    "\n",
    "\n",
    "        ### Test loop ###\n",
    "        for tensor in tqdm(validation_dist_dataset, desc=\"Evaluating\"):\n",
    "            distributed_test_step(tensor)\n",
    "            \n",
    "        \n",
    "        ### Output results ###\n",
    "        val_accuracy = test_accuracy_metric.result().numpy()\n",
    "        val_loss = test_loss_metric.result().numpy().astype(float)\n",
    "        print(f'Epoch: [{epoch}] Validation loss = {val_loss}')\n",
    "        validation_loss_list.append(val_loss)\n",
    "\n",
    "        ### Reset metrics ###\n",
    "        test_loss_metric.reset_states()\n",
    "        train_accuracy_metric.reset_states()\n",
    "        train_loss_metric.reset_states()\n",
    "        test_accuracy_metric.reset_states()\n",
    "        epoch_step = 0\n",
    "\n",
    "        ### savecheckpoint ###\n",
    "        save_checkpoint(\"t5_sueddeutsche\", epoch)\n",
    "        \n"
   ]
  },
  {
   "cell_type": "code",
   "execution_count": 20,
   "metadata": {
    "colab": {
     "base_uri": "https://localhost:8080/"
    },
    "id": "Ap2-FMqd3mN5",
    "outputId": "134d25d0-fdcd-483c-b1c8-52d502760ec3"
   },
   "outputs": [
    {
     "data": {
      "text/plain": [
       "[200.6690673828125,\n",
       " 197.35317993164062,\n",
       " 194.8758544921875,\n",
       " 194.87457275390625,\n",
       " 192.47267150878906,\n",
       " 186.6013946533203,\n",
       " 181.30691528320312,\n",
       " 178.071044921875,\n",
       " 174.40939331054688,\n",
       " 169.17141723632812,\n",
       " 165.34107971191406,\n",
       " 160.35719299316406,\n",
       " 156.24307250976562,\n",
       " 152.34071350097656,\n",
       " 148.55406188964844,\n",
       " 145.39418029785156,\n",
       " 141.6829376220703,\n",
       " 137.37725830078125,\n",
       " 133.2572021484375,\n",
       " 129.18984985351562,\n",
       " 125.2111587524414,\n",
       " 121.45809936523438,\n",
       " 117.76074981689453,\n",
       " 114.48902130126953,\n",
       " 111.3329849243164,\n",
       " 108.42251586914062,\n",
       " 105.62059783935547,\n",
       " 103.074462890625,\n",
       " 100.55789184570312,\n",
       " 98.1622085571289,\n",
       " 95.98434448242188,\n",
       " 93.7862548828125,\n",
       " 91.7550048828125,\n",
       " 89.7953109741211,\n",
       " 87.96795654296875,\n",
       " 86.21463012695312,\n",
       " 84.57120513916016,\n",
       " 82.99853515625,\n",
       " 81.52886199951172,\n",
       " 80.02687072753906,\n",
       " 78.62852478027344,\n",
       " 77.24340057373047,\n",
       " 75.92950439453125,\n",
       " 74.61556243896484,\n",
       " 73.43251037597656,\n",
       " 72.2052993774414,\n",
       " 71.08552551269531,\n",
       " 70.05320739746094,\n",
       " 69.01477813720703,\n",
       " 67.98672485351562,\n",
       " 67.02057647705078,\n",
       " 66.1147689819336,\n",
       " 65.18283081054688,\n",
       " 64.33101654052734,\n",
       " 63.467613220214844,\n",
       " 62.642818450927734,\n",
       " 61.88292694091797,\n",
       " 61.14282989501953,\n",
       " 60.40873718261719,\n",
       " 59.684627532958984,\n",
       " 59.00579833984375,\n",
       " 58.33918762207031,\n",
       " 57.72163009643555,\n",
       " 57.070648193359375,\n",
       " 56.48798370361328,\n",
       " 55.876033782958984,\n",
       " 55.27582931518555,\n",
       " 54.72690200805664,\n",
       " 54.154052734375,\n",
       " 53.64767074584961,\n",
       " 53.09453582763672,\n",
       " 52.595558166503906,\n",
       " 52.09165954589844,\n",
       " 51.584712982177734,\n",
       " 51.14645767211914,\n",
       " 50.65709686279297,\n",
       " 50.2280158996582,\n",
       " 49.78075408935547,\n",
       " 49.33740997314453,\n",
       " 48.90878677368164,\n",
       " 48.49457931518555,\n",
       " 48.07432174682617,\n",
       " 47.70153045654297,\n",
       " 47.31369400024414,\n",
       " 46.935359954833984,\n",
       " 46.55067825317383,\n",
       " 46.185489654541016,\n",
       " 45.83155822753906,\n",
       " 45.51945114135742,\n",
       " 45.176368713378906,\n",
       " 44.845733642578125,\n",
       " 44.51251983642578,\n",
       " 44.191890716552734,\n",
       " 43.87883377075195,\n",
       " 43.58457946777344,\n",
       " 43.264495849609375,\n",
       " 42.963191986083984,\n",
       " 42.6686897277832,\n",
       " 42.36793899536133,\n",
       " 42.08586883544922,\n",
       " 41.79473876953125,\n",
       " 41.5132942199707,\n",
       " 41.24974060058594,\n",
       " 40.994815826416016,\n",
       " 40.72840118408203,\n",
       " 40.4752311706543,\n",
       " 40.2474479675293,\n",
       " 40.02036666870117,\n",
       " 39.774356842041016,\n",
       " 39.535160064697266,\n",
       " 39.31257629394531,\n",
       " 39.09897232055664,\n",
       " 38.87189483642578,\n",
       " 38.634674072265625,\n",
       " 38.41801071166992,\n",
       " 38.20130157470703,\n",
       " 37.98728942871094,\n",
       " 37.775936126708984,\n",
       " 37.59360122680664,\n",
       " 37.38631820678711,\n",
       " 37.206478118896484,\n",
       " 37.01112365722656,\n",
       " 36.820106506347656,\n",
       " 36.6346321105957,\n",
       " 36.44694519042969,\n",
       " 36.262306213378906,\n",
       " 36.07191848754883,\n",
       " 35.899986267089844,\n",
       " 35.732269287109375,\n",
       " 35.55991744995117,\n",
       " 35.39402770996094,\n",
       " 35.21894454956055,\n",
       " 35.05023193359375,\n",
       " 34.89496612548828,\n",
       " 34.74689865112305,\n",
       " 34.59295654296875,\n",
       " 34.42881393432617,\n",
       " 34.258811950683594,\n",
       " 34.10673904418945,\n",
       " 33.95287322998047,\n",
       " 33.796260833740234,\n",
       " 33.64230728149414,\n",
       " 33.50792694091797,\n",
       " 33.37258529663086,\n",
       " 33.24767303466797,\n",
       " 33.104427337646484,\n",
       " 32.965919494628906,\n",
       " 32.8387451171875,\n",
       " 32.705413818359375,\n",
       " 32.570499420166016,\n",
       " 32.444061279296875,\n",
       " 32.32225036621094,\n",
       " 32.2075080871582,\n",
       " 32.0886344909668,\n",
       " 31.977977752685547,\n",
       " 31.859233856201172,\n",
       " 31.729063034057617,\n",
       " 31.602458953857422,\n",
       " 31.501842498779297,\n",
       " 31.375564575195312,\n",
       " 31.271902084350586,\n",
       " 31.159090042114258,\n",
       " 31.04150390625,\n",
       " 30.928918838500977,\n",
       " 30.813953399658203,\n",
       " 30.713871002197266,\n",
       " 30.609582901000977,\n",
       " 30.49664306640625,\n",
       " 30.379741668701172,\n",
       " 30.26443099975586,\n",
       " 30.159868240356445,\n",
       " 30.052112579345703,\n",
       " 29.95974349975586,\n",
       " 29.875141143798828,\n",
       " 29.78321647644043,\n",
       " 29.685888290405273,\n",
       " 29.59153938293457,\n",
       " 29.49496078491211,\n",
       " 29.387439727783203,\n",
       " 29.287092208862305,\n",
       " 29.201810836791992,\n",
       " 29.096464157104492,\n",
       " 29.006240844726562,\n",
       " 28.909072875976562,\n",
       " 28.817893981933594,\n",
       " 28.730079650878906,\n",
       " 28.642223358154297,\n",
       " 28.555585861206055,\n",
       " 28.468408584594727,\n",
       " 28.376489639282227,\n",
       " 28.286273956298828,\n",
       " 28.197158813476562,\n",
       " 28.109352111816406,\n",
       " 28.02663230895996,\n",
       " 27.94747543334961,\n",
       " 27.867847442626953,\n",
       " 27.78590202331543,\n",
       " 27.699005126953125,\n",
       " 27.6160831451416,\n",
       " 27.541059494018555,\n",
       " 27.462608337402344,\n",
       " 27.393945693969727,\n",
       " 27.32411003112793,\n",
       " 27.24811363220215,\n",
       " 27.17635726928711,\n",
       " 27.105953216552734,\n",
       " 27.029687881469727,\n",
       " 26.95710563659668,\n",
       " 26.885122299194336,\n",
       " 26.813871383666992,\n",
       " 26.741615295410156,\n",
       " 26.668344497680664,\n",
       " 26.609695434570312,\n",
       " 26.53522300720215,\n",
       " 26.46902847290039,\n",
       " 26.39339828491211,\n",
       " 26.318201065063477,\n",
       " 26.251577377319336,\n",
       " 26.1794490814209,\n",
       " 26.107717514038086,\n",
       " 26.04294204711914,\n",
       " 25.972116470336914,\n",
       " 25.90517234802246,\n",
       " 25.841402053833008,\n",
       " 25.78138542175293,\n",
       " 25.72101402282715,\n",
       " 25.660715103149414,\n",
       " 25.604961395263672,\n",
       " 25.548664093017578,\n",
       " 25.491193771362305,\n",
       " 25.43117904663086,\n",
       " 25.367387771606445,\n",
       " 25.304798126220703,\n",
       " 25.24424934387207,\n",
       " 25.18295669555664,\n",
       " 25.12933921813965,\n",
       " 25.0609130859375,\n",
       " 25.002946853637695,\n",
       " 24.95166015625,\n",
       " 24.898012161254883,\n",
       " 24.849292755126953,\n",
       " 24.79709815979004,\n",
       " 24.738264083862305,\n",
       " 24.684682846069336,\n",
       " 24.641437530517578,\n",
       " 24.60222625732422,\n",
       " 24.550180435180664,\n",
       " 24.493247985839844,\n",
       " 24.42984390258789,\n",
       " 24.373001098632812,\n",
       " 24.322917938232422,\n",
       " 24.273107528686523,\n",
       " 24.228172302246094,\n",
       " 24.188365936279297,\n",
       " 24.134424209594727,\n",
       " 24.093059539794922,\n",
       " 24.044328689575195,\n",
       " 23.99582290649414,\n",
       " 23.94101905822754,\n",
       " 23.904451370239258,\n",
       " 23.862552642822266,\n",
       " 23.820903778076172,\n",
       " 23.771509170532227,\n",
       " 23.731599807739258,\n",
       " 23.679584503173828,\n",
       " 23.63446044921875,\n",
       " 23.582578659057617,\n",
       " 23.538686752319336,\n",
       " 23.491947174072266,\n",
       " 23.444660186767578,\n",
       " 23.39386749267578,\n",
       " 23.357046127319336,\n",
       " 23.31751251220703,\n",
       " 23.27717399597168,\n",
       " 23.226343154907227,\n",
       " 23.17842674255371,\n",
       " 23.131399154663086,\n",
       " 23.086511611938477,\n",
       " 23.046371459960938,\n",
       " 22.9980411529541,\n",
       " 22.95408821105957,\n",
       " 22.911090850830078,\n",
       " 22.86717414855957,\n",
       " 22.821643829345703,\n",
       " 22.779848098754883,\n",
       " 22.7432918548584,\n",
       " 22.69997215270996,\n",
       " 22.662378311157227,\n",
       " 22.621822357177734,\n",
       " 22.582063674926758,\n",
       " 22.539730072021484,\n",
       " 22.50413703918457,\n",
       " 22.463794708251953,\n",
       " 22.424367904663086,\n",
       " 22.381345748901367,\n",
       " 22.337339401245117,\n",
       " 22.301820755004883,\n",
       " 22.261642456054688,\n",
       " 22.22038459777832,\n",
       " 22.176729202270508,\n",
       " 22.129627227783203,\n",
       " 22.08584213256836,\n",
       " 22.051645278930664,\n",
       " 22.016271591186523,\n",
       " 21.9799747467041,\n",
       " 21.940641403198242,\n",
       " 21.89986228942871,\n",
       " 21.859121322631836,\n",
       " 21.81917381286621,\n",
       " 21.781028747558594,\n",
       " 21.742223739624023,\n",
       " 21.70644187927246,\n",
       " 21.676925659179688,\n",
       " 21.65064811706543,\n",
       " 21.61891746520996,\n",
       " 21.58454132080078,\n",
       " 21.552568435668945,\n",
       " 21.515222549438477,\n",
       " 21.483060836791992,\n",
       " 21.452810287475586,\n",
       " 21.414953231811523,\n",
       " 21.37911033630371,\n",
       " 21.3453426361084,\n",
       " 21.318418502807617,\n",
       " 21.281076431274414,\n",
       " 21.246795654296875,\n",
       " 21.21277618408203,\n",
       " 21.18351936340332,\n",
       " 21.147953033447266,\n",
       " 21.115924835205078,\n",
       " 21.08741569519043,\n",
       " 21.050621032714844,\n",
       " 21.02589988708496,\n",
       " 20.989742279052734,\n",
       " 20.962045669555664,\n",
       " 20.932228088378906,\n",
       " 20.907447814941406,\n",
       " 20.877485275268555,\n",
       " 20.850788116455078,\n",
       " 20.81986427307129,\n",
       " 20.78549575805664,\n",
       " 20.754392623901367,\n",
       " 20.7220516204834,\n",
       " 20.68927764892578,\n",
       " 20.65913200378418,\n",
       " 20.63309097290039,\n",
       " 20.601289749145508,\n",
       " 20.571428298950195,\n",
       " 20.538631439208984,\n",
       " 20.51311492919922,\n",
       " 20.4851131439209,\n",
       " 20.458770751953125,\n",
       " 20.4306697845459,\n",
       " 20.407014846801758,\n",
       " 20.3802490234375,\n",
       " 20.358156204223633,\n",
       " 20.324317932128906,\n",
       " 20.2999267578125,\n",
       " 20.274795532226562,\n",
       " 20.246448516845703,\n",
       " 20.222198486328125,\n",
       " 20.189682006835938,\n",
       " 20.16337776184082,\n",
       " 20.138938903808594,\n",
       " 20.117267608642578,\n",
       " 20.091764450073242,\n",
       " 20.0649356842041,\n",
       " 20.036771774291992,\n",
       " 20.011573791503906,\n",
       " 19.98531150817871,\n",
       " 19.957794189453125,\n",
       " 19.932598114013672,\n",
       " 19.90761375427246,\n",
       " 19.879810333251953,\n",
       " 19.85620880126953,\n",
       " 19.829750061035156,\n",
       " 19.80925941467285,\n",
       " 19.7836856842041,\n",
       " 19.75528335571289,\n",
       " 19.729604721069336,\n",
       " 19.707733154296875,\n",
       " 19.680789947509766,\n",
       " 19.658639907836914,\n",
       " 19.6334171295166,\n",
       " 19.611034393310547,\n",
       " 19.583955764770508,\n",
       " 19.555912017822266,\n",
       " 19.5292911529541,\n",
       " 19.501863479614258,\n",
       " 19.475784301757812,\n",
       " 19.447662353515625,\n",
       " 19.4276180267334,\n",
       " 19.40213394165039,\n",
       " 19.377490997314453,\n",
       " 19.356555938720703,\n",
       " 19.326250076293945,\n",
       " 19.30314826965332,\n",
       " 19.279531478881836,\n",
       " 19.260860443115234,\n",
       " 19.241392135620117,\n",
       " 19.219144821166992,\n",
       " 19.205589294433594,\n",
       " 19.1857852935791,\n",
       " 19.161903381347656,\n",
       " 19.141216278076172,\n",
       " 19.11227035522461,\n",
       " 19.08859634399414,\n",
       " 19.06900978088379,\n",
       " 19.045673370361328,\n",
       " 19.022275924682617,\n",
       " 18.99953269958496,\n",
       " 18.986961364746094,\n",
       " 18.963390350341797,\n",
       " 18.941652297973633,\n",
       " 18.919862747192383,\n",
       " 18.898902893066406,\n",
       " 18.879817962646484,\n",
       " 18.857318878173828,\n",
       " 18.834985733032227,\n",
       " 18.814868927001953,\n",
       " 18.78972625732422,\n",
       " 18.76850700378418,\n",
       " 18.746665954589844,\n",
       " 18.72662353515625,\n",
       " 18.70600128173828,\n",
       " 18.68988609313965,\n",
       " 18.673179626464844,\n",
       " 18.651437759399414,\n",
       " 18.633638381958008,\n",
       " 18.608673095703125,\n",
       " 18.58803939819336,\n",
       " 18.56681251525879,\n",
       " 18.542877197265625,\n",
       " 18.52593231201172,\n",
       " 18.5039005279541,\n",
       " 18.485076904296875,\n",
       " 18.464628219604492,\n",
       " 18.447803497314453,\n",
       " 18.425912857055664,\n",
       " 18.406518936157227,\n",
       " 18.38582992553711,\n",
       " 18.36349105834961,\n",
       " 18.34430694580078,\n",
       " 18.320858001708984,\n",
       " 18.300189971923828,\n",
       " 18.276586532592773,\n",
       " 18.26012420654297,\n",
       " 18.239768981933594,\n",
       " 18.21881866455078,\n",
       " 18.19455337524414,\n",
       " 18.17743492126465,\n",
       " 18.159133911132812,\n",
       " 18.142393112182617,\n",
       " 18.128313064575195,\n",
       " 18.110618591308594,\n",
       " 18.09300994873047,\n",
       " 18.07798194885254,\n",
       " 18.06081771850586,\n",
       " 18.044893264770508,\n",
       " 18.025760650634766,\n",
       " 18.006465911865234,\n",
       " 17.987323760986328,\n",
       " 17.968093872070312,\n",
       " 17.949138641357422,\n",
       " 17.93180274963379,\n",
       " 17.915668487548828,\n",
       " 17.901782989501953,\n",
       " 17.888988494873047,\n",
       " 17.87166976928711,\n",
       " 17.852359771728516,\n",
       " 17.838056564331055,\n",
       " 17.822956085205078,\n",
       " 17.806089401245117,\n",
       " 17.789241790771484,\n",
       " 17.7753849029541,\n",
       " 17.762948989868164,\n",
       " 17.746259689331055,\n",
       " 17.727649688720703,\n",
       " 17.709360122680664,\n",
       " 17.693878173828125,\n",
       " 17.678760528564453,\n",
       " 17.663808822631836,\n",
       " 17.648754119873047,\n",
       " 17.631078720092773,\n",
       " 17.616613388061523,\n",
       " 17.602325439453125,\n",
       " 17.582847595214844,\n",
       " 17.56705665588379,\n",
       " 17.549949645996094,\n",
       " 17.529022216796875,\n",
       " 17.510936737060547,\n",
       " 17.492979049682617,\n",
       " 17.47525978088379,\n",
       " 17.463308334350586,\n",
       " 17.446691513061523,\n",
       " 17.432939529418945,\n",
       " 17.418222427368164,\n",
       " 17.399494171142578,\n",
       " 17.382171630859375,\n",
       " 17.368614196777344,\n",
       " 17.352121353149414,\n",
       " 17.33808135986328,\n",
       " 17.32268714904785,\n",
       " 17.30830192565918,\n",
       " 17.29453468322754,\n",
       " 17.279325485229492,\n",
       " 17.26161766052246,\n",
       " 17.247737884521484,\n",
       " 17.234580993652344,\n",
       " 17.21762466430664,\n",
       " 17.201061248779297,\n",
       " 17.187267303466797,\n",
       " 17.170204162597656,\n",
       " 17.154268264770508,\n",
       " 17.142127990722656,\n",
       " 17.126325607299805,\n",
       " 17.11168670654297,\n",
       " 17.09581184387207,\n",
       " 17.0793514251709,\n",
       " 17.066082000732422,\n",
       " 17.051536560058594,\n",
       " 17.037527084350586,\n",
       " 17.022510528564453,\n",
       " 17.007488250732422,\n",
       " 16.993206024169922,\n",
       " 16.980371475219727,\n",
       " 16.96415138244629,\n",
       " 16.948144912719727,\n",
       " 16.931922912597656,\n",
       " 16.917980194091797,\n",
       " 16.901899337768555,\n",
       " 16.890270233154297,\n",
       " 16.876768112182617,\n",
       " 16.862957000732422,\n",
       " 16.85122299194336,\n",
       " 16.841232299804688,\n",
       " 16.828754425048828,\n",
       " 16.811424255371094,\n",
       " 16.79823112487793,\n",
       " 16.781370162963867,\n",
       " 16.769777297973633,\n",
       " 16.756248474121094,\n",
       " 16.742435455322266,\n",
       " 16.72650718688965,\n",
       " 16.71348762512207,\n",
       " 16.701839447021484,\n",
       " 16.69001007080078,\n",
       " 16.674591064453125,\n",
       " 16.666847229003906,\n",
       " 16.65574836730957,\n",
       " 16.649494171142578,\n",
       " 16.637372970581055,\n",
       " 16.621675491333008,\n",
       " 16.607017517089844,\n",
       " 16.594266891479492,\n",
       " 16.582958221435547,\n",
       " 16.571678161621094,\n",
       " 16.55750846862793,\n",
       " 16.54467010498047,\n",
       " 16.533061981201172,\n",
       " 16.52005958557129,\n",
       " 16.507097244262695,\n",
       " 16.49490737915039,\n",
       " 16.483949661254883,\n",
       " 16.470945358276367,\n",
       " 16.456205368041992,\n",
       " 16.440902709960938,\n",
       " 16.431894302368164,\n",
       " 16.420696258544922,\n",
       " 16.40892219543457,\n",
       " 16.394939422607422,\n",
       " 16.385828018188477,\n",
       " 16.374025344848633,\n",
       " 16.361286163330078,\n",
       " 16.35106086730957,\n",
       " 16.33880615234375,\n",
       " 16.326976776123047,\n",
       " 16.314136505126953,\n",
       " 16.303667068481445,\n",
       " 16.29231834411621,\n",
       " 16.280725479125977,\n",
       " 16.26658821105957,\n",
       " 16.256017684936523,\n",
       " 16.241395950317383,\n",
       " 16.230314254760742,\n",
       " 16.221097946166992,\n",
       " 16.207124710083008,\n",
       " 16.195314407348633,\n",
       " 16.181703567504883,\n",
       " 16.167137145996094,\n",
       " 16.157133102416992,\n",
       " 16.1481876373291,\n",
       " 16.136314392089844,\n",
       " 16.12295913696289,\n",
       " 16.114303588867188,\n",
       " 16.103498458862305,\n",
       " 16.094215393066406,\n",
       " 16.08241844177246,\n",
       " 16.072446823120117,\n",
       " 16.061176300048828,\n",
       " 16.05074691772461,\n",
       " 16.039072036743164,\n",
       " 16.03069496154785,\n",
       " 16.01881217956543,\n",
       " 16.00841522216797,\n",
       " 15.995691299438477,\n",
       " 15.983302116394043,\n",
       " 15.973759651184082,\n",
       " 15.962000846862793,\n",
       " 15.949615478515625,\n",
       " 15.938055992126465,\n",
       " 15.927978515625,\n",
       " 15.916474342346191,\n",
       " 15.905778884887695,\n",
       " 15.895917892456055,\n",
       " 15.88442325592041,\n",
       " 15.873108863830566,\n",
       " 15.859625816345215,\n",
       " 15.849946975708008,\n",
       " 15.839276313781738,\n",
       " 15.829533576965332,\n",
       " 15.819500923156738,\n",
       " 15.808725357055664,\n",
       " 15.797832489013672,\n",
       " 15.78575325012207,\n",
       " 15.776740074157715,\n",
       " 15.765480041503906,\n",
       " 15.754755020141602,\n",
       " 15.745677947998047,\n",
       " 15.732297897338867,\n",
       " 15.721813201904297,\n",
       " 15.712711334228516,\n",
       " 15.70345687866211,\n",
       " 15.69429874420166,\n",
       " 15.684319496154785,\n",
       " 15.673961639404297,\n",
       " 15.662267684936523,\n",
       " 15.65243911743164,\n",
       " 15.640692710876465,\n",
       " 15.63133430480957,\n",
       " 15.619836807250977,\n",
       " 15.611002922058105,\n",
       " 15.5999174118042,\n",
       " 15.59048080444336,\n",
       " 15.578447341918945,\n",
       " 15.570147514343262,\n",
       " 15.56076431274414,\n",
       " 15.551407814025879,\n",
       " 15.541555404663086,\n",
       " 15.532462120056152,\n",
       " 15.524067878723145,\n",
       " 15.513671875,\n",
       " 15.504996299743652,\n",
       " 15.497068405151367,\n",
       " 15.487030029296875,\n",
       " 15.4790620803833,\n",
       " 15.469231605529785,\n",
       " 15.457698822021484,\n",
       " 15.447104454040527,\n",
       " 15.439214706420898,\n",
       " 15.430383682250977,\n",
       " 15.420150756835938,\n",
       " 15.412455558776855,\n",
       " 15.405420303344727,\n",
       " 15.396021842956543,\n",
       " 15.386510848999023,\n",
       " 15.378922462463379,\n",
       " 15.369244575500488,\n",
       " 15.360275268554688,\n",
       " 15.35262393951416,\n",
       " 15.344563484191895,\n",
       " 15.333882331848145,\n",
       " 15.32514476776123,\n",
       " 15.31760025024414,\n",
       " 15.308466911315918,\n",
       " 15.29790210723877,\n",
       " 15.289329528808594,\n",
       " 15.282633781433105,\n",
       " 15.272367477416992,\n",
       " 15.266326904296875,\n",
       " 15.260113716125488,\n",
       " 15.252352714538574,\n",
       " 15.243999481201172,\n",
       " 15.235527038574219,\n",
       " 15.225580215454102,\n",
       " 15.218560218811035,\n",
       " 15.209624290466309,\n",
       " 15.20143985748291,\n",
       " 15.192364692687988,\n",
       " 15.182657241821289,\n",
       " 15.173593521118164,\n",
       " 15.166824340820312,\n",
       " 15.158482551574707,\n",
       " 15.153284072875977,\n",
       " 15.143311500549316,\n",
       " 15.135793685913086,\n",
       " 15.127643585205078,\n",
       " 15.119939804077148,\n",
       " 15.11028003692627,\n",
       " 15.101057052612305,\n",
       " 15.09333324432373,\n",
       " 15.085709571838379,\n",
       " 15.075881958007812,\n",
       " 15.066181182861328,\n",
       " 15.057378768920898,\n",
       " 15.048331260681152,\n",
       " 15.040849685668945,\n",
       " 15.030208587646484,\n",
       " 15.020236015319824,\n",
       " 15.012882232666016,\n",
       " 15.007646560668945,\n",
       " 15.004315376281738,\n",
       " 14.995537757873535,\n",
       " 14.985031127929688,\n",
       " 14.977725982666016,\n",
       " 14.968565940856934,\n",
       " 14.961596488952637,\n",
       " 14.952764511108398,\n",
       " 14.944130897521973,\n",
       " 14.939485549926758,\n",
       " 14.931361198425293,\n",
       " 14.92088794708252,\n",
       " 14.913174629211426,\n",
       " 14.906919479370117,\n",
       " 14.898894309997559,\n",
       " 14.892208099365234,\n",
       " 14.887853622436523,\n",
       " 14.879941940307617,\n",
       " 14.875142097473145,\n",
       " 14.867595672607422,\n",
       " 14.860467910766602,\n",
       " 14.853334426879883,\n",
       " 14.8443603515625,\n",
       " 14.837692260742188,\n",
       " 14.829269409179688,\n",
       " 14.82219409942627,\n",
       " 14.814727783203125,\n",
       " 14.807419776916504,\n",
       " 14.799355506896973,\n",
       " 14.788567543029785,\n",
       " 14.778303146362305,\n",
       " 14.770933151245117,\n",
       " 14.761787414550781,\n",
       " 14.756099700927734,\n",
       " 14.749192237854004,\n",
       " 14.74219036102295,\n",
       " 14.73453140258789,\n",
       " 14.725650787353516,\n",
       " 14.715361595153809,\n",
       " 14.70927906036377,\n",
       " 14.703736305236816,\n",
       " 14.697969436645508,\n",
       " 14.688109397888184,\n",
       " 14.682284355163574,\n",
       " 14.677534103393555,\n",
       " 14.670416831970215,\n",
       " 14.663138389587402,\n",
       " 14.656557083129883,\n",
       " 14.65103816986084,\n",
       " 14.644198417663574,\n",
       " 14.637580871582031,\n",
       " 14.632930755615234,\n",
       " 14.626306533813477,\n",
       " 14.618536949157715,\n",
       " 14.611200332641602,\n",
       " 14.601410865783691,\n",
       " 14.593133926391602,\n",
       " 14.58596134185791,\n",
       " 14.57949161529541,\n",
       " 14.572816848754883,\n",
       " 14.565698623657227,\n",
       " 14.556984901428223,\n",
       " 14.54967212677002,\n",
       " 14.543051719665527,\n",
       " 14.536410331726074,\n",
       " 14.529825210571289,\n",
       " 14.524066925048828,\n",
       " 14.518712043762207,\n",
       " 14.511962890625,\n",
       " 14.506388664245605,\n",
       " 14.49925708770752,\n",
       " 14.49437427520752,\n",
       " 14.487001419067383,\n",
       " 14.481559753417969,\n",
       " 14.473273277282715,\n",
       " 14.46599292755127,\n",
       " 14.457656860351562,\n",
       " 14.450905799865723,\n",
       " 14.443603515625,\n",
       " 14.43543815612793,\n",
       " 14.430346488952637,\n",
       " 14.423035621643066,\n",
       " 14.416265487670898,\n",
       " 14.409635543823242,\n",
       " 14.404240608215332,\n",
       " 14.399399757385254,\n",
       " 14.391571044921875,\n",
       " 14.385551452636719,\n",
       " 14.375204086303711,\n",
       " 14.365230560302734,\n",
       " 14.355201721191406,\n",
       " 14.350065231323242,\n",
       " 14.34327220916748,\n",
       " 14.336854934692383,\n",
       " 14.333300590515137,\n",
       " 14.327067375183105,\n",
       " 14.318072319030762,\n",
       " 14.312735557556152,\n",
       " 14.306404113769531,\n",
       " 14.300894737243652,\n",
       " 14.295679092407227,\n",
       " 14.289198875427246,\n",
       " 14.283318519592285,\n",
       " 14.278255462646484,\n",
       " 14.27177906036377,\n",
       " 14.264253616333008,\n",
       " 14.25761890411377,\n",
       " 14.248705863952637,\n",
       " 14.243902206420898,\n",
       " 14.234776496887207,\n",
       " 14.227860450744629,\n",
       " 14.222564697265625,\n",
       " 14.215669631958008,\n",
       " 14.2103271484375,\n",
       " 14.203493118286133,\n",
       " 14.195158004760742,\n",
       " 14.189940452575684,\n",
       " 14.181609153747559,\n",
       " 14.176190376281738,\n",
       " 14.169210433959961,\n",
       " 14.162837028503418,\n",
       " 14.15559196472168,\n",
       " 14.152117729187012,\n",
       " 14.145856857299805,\n",
       " 14.138814926147461,\n",
       " 14.132277488708496,\n",
       " 14.126144409179688,\n",
       " 14.121562004089355,\n",
       " 14.116796493530273,\n",
       " 14.11055850982666,\n",
       " 14.105320930480957,\n",
       " 14.099674224853516,\n",
       " 14.09421443939209,\n",
       " 14.087570190429688,\n",
       " 14.082545280456543,\n",
       " 14.074974060058594,\n",
       " 14.068511962890625,\n",
       " 14.061583518981934,\n",
       " 14.054951667785645,\n",
       " 14.049088478088379,\n",
       " 14.045186042785645,\n",
       " 14.039237022399902,\n",
       " 14.030848503112793,\n",
       " 14.026693344116211,\n",
       " 14.020971298217773,\n",
       " 14.015700340270996,\n",
       " 14.010013580322266,\n",
       " 14.005346298217773,\n",
       " 13.999784469604492,\n",
       " 13.994789123535156,\n",
       " 13.987839698791504,\n",
       " 13.981138229370117,\n",
       " 13.974039077758789,\n",
       " 13.96737289428711,\n",
       " 13.963508605957031,\n",
       " 13.957542419433594,\n",
       " 13.953093528747559,\n",
       " 13.950325012207031,\n",
       " 13.942512512207031,\n",
       " 13.935995101928711,\n",
       " 13.932182312011719,\n",
       " 13.926711082458496,\n",
       " 13.92154312133789,\n",
       " 13.917332649230957,\n",
       " 13.912104606628418,\n",
       " 13.907066345214844,\n",
       " 13.901796340942383,\n",
       " 13.896567344665527,\n",
       " 13.890273094177246,\n",
       " 13.885165214538574,\n",
       " 13.882308959960938,\n",
       " 13.877456665039062,\n",
       " 13.87304401397705,\n",
       " 13.866888999938965,\n",
       " 13.861397743225098,\n",
       " 13.856461524963379,\n",
       " 13.85062313079834,\n",
       " 13.845782279968262,\n",
       " 13.841343879699707,\n",
       " 13.83539867401123,\n",
       " 13.829362869262695,\n",
       " 13.824460983276367,\n",
       " 13.82158088684082,\n",
       " 13.814020156860352,\n",
       " 13.808517456054688,\n",
       " 13.802431106567383,\n",
       " 13.79682445526123,\n",
       " 13.79170036315918,\n",
       " 13.786860466003418,\n",
       " 13.781462669372559,\n",
       " 13.776737213134766,\n",
       " 13.770052909851074,\n",
       " 13.7679443359375,\n",
       " 13.763206481933594,\n",
       " 13.75811767578125,\n",
       " 13.752223014831543,\n",
       " 13.745922088623047,\n",
       " 13.741168022155762,\n",
       " 13.735608100891113,\n",
       " 13.730978965759277,\n",
       " 13.725133895874023,\n",
       " 13.720121383666992,\n",
       " 13.7134428024292,\n",
       " 13.707748413085938,\n",
       " 13.703307151794434,\n",
       " 13.698868751525879,\n",
       " 13.694755554199219,\n",
       " 13.690058708190918,\n",
       " 13.682554244995117,\n",
       " 13.680685997009277,\n",
       " 13.673579216003418,\n",
       " 13.668532371520996,\n",
       " 13.66301441192627,\n",
       " 13.656620025634766,\n",
       " 13.650565147399902,\n",
       " 13.645694732666016,\n",
       " 13.641217231750488,\n",
       " 13.635703086853027,\n",
       " 13.630537986755371,\n",
       " 13.623892784118652,\n",
       " 13.617345809936523,\n",
       " 13.608850479125977,\n",
       " 13.60403823852539,\n",
       " 13.601136207580566,\n",
       " 13.597373962402344,\n",
       " 13.591256141662598,\n",
       " 13.58698558807373,\n",
       " 13.582823753356934,\n",
       " 13.578798294067383,\n",
       " 13.572319030761719,\n",
       " 13.565784454345703,\n",
       " 13.561596870422363,\n",
       " 13.556395530700684,\n",
       " 13.551508903503418,\n",
       " 13.546586036682129,\n",
       " 13.542450904846191,\n",
       " 13.53835678100586,\n",
       " 13.534037590026855,\n",
       " 13.529885292053223,\n",
       " 13.524704933166504,\n",
       " 13.5194091796875,\n",
       " 13.5145902633667,\n",
       " 13.508635520935059,\n",
       " 13.504692077636719,\n",
       " 13.49848461151123,\n",
       " 13.493826866149902,\n",
       " 13.490598678588867,\n",
       " 13.486680030822754,\n",
       " 13.481328964233398,\n",
       " 13.4762601852417,\n",
       " 13.470873832702637,\n",
       " 13.4649658203125,\n",
       " 13.460412979125977,\n",
       " 13.455106735229492,\n",
       " 13.44899845123291,\n",
       " 13.445006370544434,\n",
       " 13.441841125488281,\n",
       " 13.437027931213379,\n",
       " 13.431615829467773,\n",
       " 13.427338600158691,\n",
       " 13.423110961914062,\n",
       " 13.417733192443848,\n",
       " 13.412860870361328,\n",
       " 13.408638000488281,\n",
       " 13.403702735900879,\n",
       " 13.399453163146973,\n",
       " 13.393325805664062,\n",
       " 13.389402389526367,\n",
       " 13.383231163024902,\n",
       " 13.380850791931152,\n",
       " 13.375423431396484,\n",
       " 13.370075225830078,\n",
       " 13.364514350891113,\n",
       " 13.360702514648438,\n",
       " 13.357063293457031,\n",
       " 13.351978302001953,\n",
       " 13.346611022949219,\n",
       " 13.342642784118652,\n",
       " 13.336905479431152,\n",
       " 13.33256721496582,\n",
       " 13.329261779785156,\n",
       " 13.325143814086914,\n",
       " 13.320976257324219,\n",
       " 13.31584644317627,\n",
       " 13.311880111694336,\n",
       " 13.307053565979004,\n",
       " 13.304794311523438,\n",
       " 13.300006866455078,\n",
       " 13.294549942016602,\n",
       " 13.289100646972656,\n",
       " ...]"
      ]
     },
     "execution_count": 20,
     "metadata": {
      "tags": []
     },
     "output_type": "execute_result"
    }
   ],
   "source": [
    "training_loss_list"
   ]
  },
  {
   "cell_type": "code",
   "execution_count": 21,
   "metadata": {
    "colab": {
     "base_uri": "https://localhost:8080/"
    },
    "id": "Z_vUWvXn5rzr",
    "outputId": "4693c407-4c36-4dcf-8f11-ec679927eb7b"
   },
   "outputs": [
    {
     "data": {
      "text/plain": [
       "[9.136810302734375,\n",
       " 8.721479415893555,\n",
       " 8.586605072021484,\n",
       " 8.47606372833252,\n",
       " 8.338327407836914,\n",
       " 8.25474739074707,\n",
       " 8.234540939331055,\n",
       " 8.15027141571045,\n",
       " 8.081644058227539,\n",
       " 8.0833158493042]"
      ]
     },
     "execution_count": 21,
     "metadata": {
      "tags": []
     },
     "output_type": "execute_result"
    }
   ],
   "source": [
    "validation_loss_list"
   ]
  },
  {
   "cell_type": "code",
   "execution_count": 22,
   "metadata": {
    "colab": {
     "base_uri": "https://localhost:8080/"
    },
    "id": "He94OJ9je0MC",
    "outputId": "b48438dd-b7b0-4d57-cbee-520d6e0fc64f"
   },
   "outputs": [
    {
     "data": {
      "text/plain": [
       "46020"
      ]
     },
     "execution_count": 22,
     "metadata": {
      "tags": []
     },
     "output_type": "execute_result"
    }
   ],
   "source": [
    "len(training_loss_list)"
   ]
  },
  {
   "cell_type": "code",
   "execution_count": 23,
   "metadata": {
    "colab": {
     "base_uri": "https://localhost:8080/"
    },
    "id": "Cs56bDcleeVz",
    "outputId": "673b654d-25f9-46e3-efc0-edd620e0d131"
   },
   "outputs": [
    {
     "data": {
      "text/plain": [
       "array([ 4602,  9204, 13806, 18408, 23010, 27612, 32214, 36816, 41418,\n",
       "       46020])"
      ]
     },
     "execution_count": 23,
     "metadata": {
      "tags": []
     },
     "output_type": "execute_result"
    }
   ],
   "source": [
    "np.arange(int(len(training_loss_list)/len(validation_loss_list)), len(training_loss_list)+1, int(len(training_loss_list)/len(validation_loss_list)))"
   ]
  },
  {
   "cell_type": "code",
   "execution_count": 24,
   "metadata": {
    "colab": {
     "base_uri": "https://localhost:8080/",
     "height": 281
    },
    "id": "D8anM3B07kG1",
    "outputId": "d98fb618-77c0-4dbe-89d7-87b48a7e15ed"
   },
   "outputs": [
    {
     "data": {
      "image/png": "[encoded data removed]",
      "text/plain": [
       "<Figure size 432x288 with 1 Axes>"
      ]
     },
     "metadata": {
      "needs_background": "light",
      "tags": []
     },
     "output_type": "display_data"
    }
   ],
   "source": [
    "import matplotlib.pyplot as plt\n",
    "%matplotlib inline\n",
    "\n",
    "plt.title(\"Loss\")\n",
    "plt.plot(training_loss_list, label = \"training loss\")\n",
    "plt.plot(np.arange(int(len(training_loss_list)/len(validation_loss_list)), len(training_loss_list)+1, int(len(training_loss_list)/len(validation_loss_list))), validation_loss_list, label = \"validation loss\")\n",
    "plt.ylim(0,50)\n",
    "plt.legend()\n",
    "plt.show()"
   ]
  },
  {
   "cell_type": "code",
   "execution_count": null,
   "metadata": {
    "id": "EQLmMhjBTg4J"
   },
   "outputs": [],
   "source": []
  }
 ],
 "metadata": {
  "accelerator": "TPU",
  "colab": {
   "collapsed_sections": [],
   "name": "sueddeutsche_T5_TPU",
   "provenance": [],
   "toc_visible": true
  },
  "kernelspec": {
   "display_name": "Python 3",
   "language": "python",
   "name": "python3"
  },
  "language_info": {
   "codemirror_mode": {
    "name": "ipython",
    "version": 3
   },
   "file_extension": ".py",
   "mimetype": "text/x-python",
   "name": "python",
   "nbconvert_exporter": "python",
   "pygments_lexer": "ipython3",
   "version": "3.6.9"
  },
  "widgets": {
   "application/vnd.jupyter.widget-state+json": {
    "015f362dda18438f88b17c2fcd35c6d1": {
     "model_module": "@jupyter-widgets/base",
     "model_name": "LayoutModel",
     "state": {
      "_model_module": "@jupyter-widgets/base",
      "_model_module_version": "1.2.0",
      "_model_name": "LayoutModel",
      "_view_count": null,
      "_view_module": "@jupyter-widgets/base",
      "_view_module_version": "1.2.0",
      "_view_name": "LayoutView",
      "align_content": null,
      "align_items": null,
      "align_self": null,
      "border": null,
      "bottom": null,
      "display": null,
      "flex": null,
      "flex_flow": null,
      "grid_area": null,
      "grid_auto_columns": null,
      "grid_auto_flow": null,
      "grid_auto_rows": null,
      "grid_column": null,
      "grid_gap": null,
      "grid_row": null,
      "grid_template_areas": null,
      "grid_template_columns": null,
      "grid_template_rows": null,
      "height": null,
      "justify_content": null,
      "justify_items": null,
      "left": null,
      "margin": null,
      "max_height": null,
      "max_width": null,
      "min_height": null,
      "min_width": null,
      "object_fit": null,
      "object_position": null,
      "order": null,
      "overflow": null,
      "overflow_x": null,
      "overflow_y": null,
      "padding": null,
      "right": null,
      "top": null,
      "visibility": null,
      "width": null
     }
    },
    "0197f9510f5341f59b651ecc9db6c778": {
     "model_module": "@jupyter-widgets/controls",
     "model_name": "ProgressStyleModel",
     "state": {
      "_model_module": "@jupyter-widgets/controls",
      "_model_module_version": "1.5.0",
      "_model_name": "ProgressStyleModel",
      "_view_count": null,
      "_view_module": "@jupyter-widgets/base",
      "_view_module_version": "1.2.0",
      "_view_name": "StyleView",
      "bar_color": null,
      "description_width": "initial"
     }
    },
    "02026c7f844641849fcd2419cece5df8": {
     "model_module": "@jupyter-widgets/base",
     "model_name": "LayoutModel",
     "state": {
      "_model_module": "@jupyter-widgets/base",
      "_model_module_version": "1.2.0",
      "_model_name": "LayoutModel",
      "_view_count": null,
      "_view_module": "@jupyter-widgets/base",
      "_view_module_version": "1.2.0",
      "_view_name": "LayoutView",
      "align_content": null,
      "align_items": null,
      "align_self": null,
      "border": null,
      "bottom": null,
      "display": null,
      "flex": null,
      "flex_flow": null,
      "grid_area": null,
      "grid_auto_columns": null,
      "grid_auto_flow": null,
      "grid_auto_rows": null,
      "grid_column": null,
      "grid_gap": null,
      "grid_row": null,
      "grid_template_areas": null,
      "grid_template_columns": null,
      "grid_template_rows": null,
      "height": null,
      "justify_content": null,
      "justify_items": null,
      "left": null,
      "margin": null,
      "max_height": null,
      "max_width": null,
      "min_height": null,
      "min_width": null,
      "object_fit": null,
      "object_position": null,
      "order": null,
      "overflow": null,
      "overflow_x": null,
      "overflow_y": null,
      "padding": null,
      "right": null,
      "top": null,
      "visibility": null,
      "width": null
     }
    },
    "03c11990b6dc4a039e20920aaafeacaf": {
     "model_module": "@jupyter-widgets/base",
     "model_name": "LayoutModel",
     "state": {
      "_model_module": "@jupyter-widgets/base",
      "_model_module_version": "1.2.0",
      "_model_name": "LayoutModel",
      "_view_count": null,
      "_view_module": "@jupyter-widgets/base",
      "_view_module_version": "1.2.0",
      "_view_name": "LayoutView",
      "align_content": null,
      "align_items": null,
      "align_self": null,
      "border": null,
      "bottom": null,
      "display": null,
      "flex": null,
      "flex_flow": null,
      "grid_area": null,
      "grid_auto_columns": null,
      "grid_auto_flow": null,
      "grid_auto_rows": null,
      "grid_column": null,
      "grid_gap": null,
      "grid_row": null,
      "grid_template_areas": null,
      "grid_template_columns": null,
      "grid_template_rows": null,
      "height": null,
      "justify_content": null,
      "justify_items": null,
      "left": null,
      "margin": null,
      "max_height": null,
      "max_width": null,
      "min_height": null,
      "min_width": null,
      "object_fit": null,
      "object_position": null,
      "order": null,
      "overflow": null,
      "overflow_x": null,
      "overflow_y": null,
      "padding": null,
      "right": null,
      "top": null,
      "visibility": null,
      "width": null
     }
    },
    "042f4c39ee144ef9b5343b9263414c85": {
     "model_module": "@jupyter-widgets/controls",
     "model_name": "FloatProgressModel",
     "state": {
      "_dom_classes": [],
      "_model_module": "@jupyter-widgets/controls",
      "_model_module_version": "1.5.0",
      "_model_name": "FloatProgressModel",
      "_view_count": null,
      "_view_module": "@jupyter-widgets/controls",
      "_view_module_version": "1.5.0",
      "_view_name": "ProgressView",
      "bar_style": "success",
      "description": "Evaluating: ",
      "description_tooltip": null,
      "layout": "IPY_MODEL_742dbb1c15d8496992691f607370af0c",
      "max": 1,
      "min": 0,
      "orientation": "horizontal",
      "style": "IPY_MODEL_0197f9510f5341f59b651ecc9db6c778",
      "value": 1
     }
    },
    "0518961a1917422f85b64747a15eaf1f": {
     "model_module": "@jupyter-widgets/controls",
     "model_name": "ProgressStyleModel",
     "state": {
      "_model_module": "@jupyter-widgets/controls",
      "_model_module_version": "1.5.0",
      "_model_name": "ProgressStyleModel",
      "_view_count": null,
      "_view_module": "@jupyter-widgets/base",
      "_view_module_version": "1.2.0",
      "_view_name": "StyleView",
      "bar_color": null,
      "description_width": "initial"
     }
    },
    "05be7d67b3854eceb987f26ec46f06bd": {
     "model_module": "@jupyter-widgets/controls",
     "model_name": "ProgressStyleModel",
     "state": {
      "_model_module": "@jupyter-widgets/controls",
      "_model_module_version": "1.5.0",
      "_model_name": "ProgressStyleModel",
      "_view_count": null,
      "_view_module": "@jupyter-widgets/base",
      "_view_module_version": "1.2.0",
      "_view_name": "StyleView",
      "bar_color": null,
      "description_width": "initial"
     }
    },
    "064c7fa6a2264b199651e20293981374": {
     "model_module": "@jupyter-widgets/base",
     "model_name": "LayoutModel",
     "state": {
      "_model_module": "@jupyter-widgets/base",
      "_model_module_version": "1.2.0",
      "_model_name": "LayoutModel",
      "_view_count": null,
      "_view_module": "@jupyter-widgets/base",
      "_view_module_version": "1.2.0",
      "_view_name": "LayoutView",
      "align_content": null,
      "align_items": null,
      "align_self": null,
      "border": null,
      "bottom": null,
      "display": null,
      "flex": null,
      "flex_flow": null,
      "grid_area": null,
      "grid_auto_columns": null,
      "grid_auto_flow": null,
      "grid_auto_rows": null,
      "grid_column": null,
      "grid_gap": null,
      "grid_row": null,
      "grid_template_areas": null,
      "grid_template_columns": null,
      "grid_template_rows": null,
      "height": null,
      "justify_content": null,
      "justify_items": null,
      "left": null,
      "margin": null,
      "max_height": null,
      "max_width": null,
      "min_height": null,
      "min_width": null,
      "object_fit": null,
      "object_position": null,
      "order": null,
      "overflow": null,
      "overflow_x": null,
      "overflow_y": null,
      "padding": null,
      "right": null,
      "top": null,
      "visibility": null,
      "width": null
     }
    },
    "06b00010ca4a4fbf8ac84f0f38490529": {
     "model_module": "@jupyter-widgets/base",
     "model_name": "LayoutModel",
     "state": {
      "_model_module": "@jupyter-widgets/base",
      "_model_module_version": "1.2.0",
      "_model_name": "LayoutModel",
      "_view_count": null,
      "_view_module": "@jupyter-widgets/base",
      "_view_module_version": "1.2.0",
      "_view_name": "LayoutView",
      "align_content": null,
      "align_items": null,
      "align_self": null,
      "border": null,
      "bottom": null,
      "display": null,
      "flex": null,
      "flex_flow": null,
      "grid_area": null,
      "grid_auto_columns": null,
      "grid_auto_flow": null,
      "grid_auto_rows": null,
      "grid_column": null,
      "grid_gap": null,
      "grid_row": null,
      "grid_template_areas": null,
      "grid_template_columns": null,
      "grid_template_rows": null,
      "height": null,
      "justify_content": null,
      "justify_items": null,
      "left": null,
      "margin": null,
      "max_height": null,
      "max_width": null,
      "min_height": null,
      "min_width": null,
      "object_fit": null,
      "object_position": null,
      "order": null,
      "overflow": null,
      "overflow_x": null,
      "overflow_y": null,
      "padding": null,
      "right": null,
      "top": null,
      "visibility": null,
      "width": null
     }
    },
    "06be356d8e6742d38fc1232c7efcda6f": {
     "model_module": "@jupyter-widgets/controls",
     "model_name": "HTMLModel",
     "state": {
      "_dom_classes": [],
      "_model_module": "@jupyter-widgets/controls",
      "_model_module_version": "1.5.0",
      "_model_name": "HTMLModel",
      "_view_count": null,
      "_view_module": "@jupyter-widgets/controls",
      "_view_module_version": "1.5.0",
      "_view_name": "HTMLView",
      "description": "",
      "description_tooltip": null,
      "layout": "IPY_MODEL_a734529d129a4b5eba73b73a442a077b",
      "placeholder": "​",
      "style": "IPY_MODEL_aa5cff08816c4b4e982350f353b1c169",
      "value": " 4602/? [28:13&lt;00:00,  2.72it/s]"
     }
    },
    "06f0413c7c3e4ec6964f8ff9939cff00": {
     "model_module": "@jupyter-widgets/controls",
     "model_name": "FloatProgressModel",
     "state": {
      "_dom_classes": [],
      "_model_module": "@jupyter-widgets/controls",
      "_model_module_version": "1.5.0",
      "_model_name": "FloatProgressModel",
      "_view_count": null,
      "_view_module": "@jupyter-widgets/controls",
      "_view_module_version": "1.5.0",
      "_view_name": "ProgressView",
      "bar_style": "success",
      "description": "Training: ",
      "description_tooltip": null,
      "layout": "IPY_MODEL_246c0dfb94a84785bfa464c06e24f17c",
      "max": 1,
      "min": 0,
      "orientation": "horizontal",
      "style": "IPY_MODEL_aa13873a0b324a02b4230600531cd580",
      "value": 1
     }
    },
    "076e8c67aa9d4abaa03e28e10bab9a10": {
     "model_module": "@jupyter-widgets/controls",
     "model_name": "HTMLModel",
     "state": {
      "_dom_classes": [],
      "_model_module": "@jupyter-widgets/controls",
      "_model_module_version": "1.5.0",
      "_model_name": "HTMLModel",
      "_view_count": null,
      "_view_module": "@jupyter-widgets/controls",
      "_view_module_version": "1.5.0",
      "_view_name": "HTMLView",
      "description": "",
      "description_tooltip": null,
      "layout": "IPY_MODEL_ebdd079725d44c9e929c24133eafc17a",
      "placeholder": "​",
      "style": "IPY_MODEL_ce814715cf1f4522b6b9a8b1f77eb0ca",
      "value": " 4602/? [28:06&lt;00:00,  2.73it/s]"
     }
    },
    "0d7df561e128438ba00e5de50cc05aaf": {
     "model_module": "@jupyter-widgets/base",
     "model_name": "LayoutModel",
     "state": {
      "_model_module": "@jupyter-widgets/base",
      "_model_module_version": "1.2.0",
      "_model_name": "LayoutModel",
      "_view_count": null,
      "_view_module": "@jupyter-widgets/base",
      "_view_module_version": "1.2.0",
      "_view_name": "LayoutView",
      "align_content": null,
      "align_items": null,
      "align_self": null,
      "border": null,
      "bottom": null,
      "display": null,
      "flex": null,
      "flex_flow": null,
      "grid_area": null,
      "grid_auto_columns": null,
      "grid_auto_flow": null,
      "grid_auto_rows": null,
      "grid_column": null,
      "grid_gap": null,
      "grid_row": null,
      "grid_template_areas": null,
      "grid_template_columns": null,
      "grid_template_rows": null,
      "height": null,
      "justify_content": null,
      "justify_items": null,
      "left": null,
      "margin": null,
      "max_height": null,
      "max_width": null,
      "min_height": null,
      "min_width": null,
      "object_fit": null,
      "object_position": null,
      "order": null,
      "overflow": null,
      "overflow_x": null,
      "overflow_y": null,
      "padding": null,
      "right": null,
      "top": null,
      "visibility": null,
      "width": null
     }
    },
    "1138bdb647a8402fa6fb46a9f4e39e20": {
     "model_module": "@jupyter-widgets/controls",
     "model_name": "HBoxModel",
     "state": {
      "_dom_classes": [],
      "_model_module": "@jupyter-widgets/controls",
      "_model_module_version": "1.5.0",
      "_model_name": "HBoxModel",
      "_view_count": null,
      "_view_module": "@jupyter-widgets/controls",
      "_view_module_version": "1.5.0",
      "_view_name": "HBoxView",
      "box_style": "",
      "children": [
       "IPY_MODEL_665203de66314919bffda7ea8098ce42",
       "IPY_MODEL_79d8d6788a2a421ca2c8978681761389"
      ],
      "layout": "IPY_MODEL_fd0656f90ebe48fc90ab101fe70d338e"
     }
    },
    "142b1b3db88043c1b210796aacd5d145": {
     "model_module": "@jupyter-widgets/base",
     "model_name": "LayoutModel",
     "state": {
      "_model_module": "@jupyter-widgets/base",
      "_model_module_version": "1.2.0",
      "_model_name": "LayoutModel",
      "_view_count": null,
      "_view_module": "@jupyter-widgets/base",
      "_view_module_version": "1.2.0",
      "_view_name": "LayoutView",
      "align_content": null,
      "align_items": null,
      "align_self": null,
      "border": null,
      "bottom": null,
      "display": null,
      "flex": null,
      "flex_flow": null,
      "grid_area": null,
      "grid_auto_columns": null,
      "grid_auto_flow": null,
      "grid_auto_rows": null,
      "grid_column": null,
      "grid_gap": null,
      "grid_row": null,
      "grid_template_areas": null,
      "grid_template_columns": null,
      "grid_template_rows": null,
      "height": null,
      "justify_content": null,
      "justify_items": null,
      "left": null,
      "margin": null,
      "max_height": null,
      "max_width": null,
      "min_height": null,
      "min_width": null,
      "object_fit": null,
      "object_position": null,
      "order": null,
      "overflow": null,
      "overflow_x": null,
      "overflow_y": null,
      "padding": null,
      "right": null,
      "top": null,
      "visibility": null,
      "width": null
     }
    },
    "1439a0b049554619bfb752d626702672": {
     "model_module": "@jupyter-widgets/controls",
     "model_name": "ProgressStyleModel",
     "state": {
      "_model_module": "@jupyter-widgets/controls",
      "_model_module_version": "1.5.0",
      "_model_name": "ProgressStyleModel",
      "_view_count": null,
      "_view_module": "@jupyter-widgets/base",
      "_view_module_version": "1.2.0",
      "_view_name": "StyleView",
      "bar_color": null,
      "description_width": "initial"
     }
    },
    "15b64db1819141ae97c5e30e3d37b969": {
     "model_module": "@jupyter-widgets/controls",
     "model_name": "HBoxModel",
     "state": {
      "_dom_classes": [],
      "_model_module": "@jupyter-widgets/controls",
      "_model_module_version": "1.5.0",
      "_model_name": "HBoxModel",
      "_view_count": null,
      "_view_module": "@jupyter-widgets/controls",
      "_view_module_version": "1.5.0",
      "_view_name": "HBoxView",
      "box_style": "",
      "children": [
       "IPY_MODEL_58e018864c2e4b8989d779473c48f097",
       "IPY_MODEL_8f3744077eee404296900866fef935b0"
      ],
      "layout": "IPY_MODEL_8ba9bb3f763c40cb8dd194ae665543de"
     }
    },
    "16e74b6d22174480bddef9f0cbc85233": {
     "model_module": "@jupyter-widgets/controls",
     "model_name": "FloatProgressModel",
     "state": {
      "_dom_classes": [],
      "_model_module": "@jupyter-widgets/controls",
      "_model_module_version": "1.5.0",
      "_model_name": "FloatProgressModel",
      "_view_count": null,
      "_view_module": "@jupyter-widgets/controls",
      "_view_module_version": "1.5.0",
      "_view_name": "ProgressView",
      "bar_style": "success",
      "description": "Evaluating: ",
      "description_tooltip": null,
      "layout": "IPY_MODEL_631a379b2fc64087869de258153c3a08",
      "max": 1,
      "min": 0,
      "orientation": "horizontal",
      "style": "IPY_MODEL_bb22997a6d844593a3d3b9025ab17902",
      "value": 1
     }
    },
    "19bca659cf2c4d7a960ac8e55af3645c": {
     "model_module": "@jupyter-widgets/base",
     "model_name": "LayoutModel",
     "state": {
      "_model_module": "@jupyter-widgets/base",
      "_model_module_version": "1.2.0",
      "_model_name": "LayoutModel",
      "_view_count": null,
      "_view_module": "@jupyter-widgets/base",
      "_view_module_version": "1.2.0",
      "_view_name": "LayoutView",
      "align_content": null,
      "align_items": null,
      "align_self": null,
      "border": null,
      "bottom": null,
      "display": null,
      "flex": null,
      "flex_flow": null,
      "grid_area": null,
      "grid_auto_columns": null,
      "grid_auto_flow": null,
      "grid_auto_rows": null,
      "grid_column": null,
      "grid_gap": null,
      "grid_row": null,
      "grid_template_areas": null,
      "grid_template_columns": null,
      "grid_template_rows": null,
      "height": null,
      "justify_content": null,
      "justify_items": null,
      "left": null,
      "margin": null,
      "max_height": null,
      "max_width": null,
      "min_height": null,
      "min_width": null,
      "object_fit": null,
      "object_position": null,
      "order": null,
      "overflow": null,
      "overflow_x": null,
      "overflow_y": null,
      "padding": null,
      "right": null,
      "top": null,
      "visibility": null,
      "width": null
     }
    },
    "1b460add7afe47bf9ad513173621fac7": {
     "model_module": "@jupyter-widgets/base",
     "model_name": "LayoutModel",
     "state": {
      "_model_module": "@jupyter-widgets/base",
      "_model_module_version": "1.2.0",
      "_model_name": "LayoutModel",
      "_view_count": null,
      "_view_module": "@jupyter-widgets/base",
      "_view_module_version": "1.2.0",
      "_view_name": "LayoutView",
      "align_content": null,
      "align_items": null,
      "align_self": null,
      "border": null,
      "bottom": null,
      "display": null,
      "flex": null,
      "flex_flow": null,
      "grid_area": null,
      "grid_auto_columns": null,
      "grid_auto_flow": null,
      "grid_auto_rows": null,
      "grid_column": null,
      "grid_gap": null,
      "grid_row": null,
      "grid_template_areas": null,
      "grid_template_columns": null,
      "grid_template_rows": null,
      "height": null,
      "justify_content": null,
      "justify_items": null,
      "left": null,
      "margin": null,
      "max_height": null,
      "max_width": null,
      "min_height": null,
      "min_width": null,
      "object_fit": null,
      "object_position": null,
      "order": null,
      "overflow": null,
      "overflow_x": null,
      "overflow_y": null,
      "padding": null,
      "right": null,
      "top": null,
      "visibility": null,
      "width": null
     }
    },
    "1eebd4cd76bb4603b020aa6cbbd4bd3d": {
     "model_module": "@jupyter-widgets/controls",
     "model_name": "DescriptionStyleModel",
     "state": {
      "_model_module": "@jupyter-widgets/controls",
      "_model_module_version": "1.5.0",
      "_model_name": "DescriptionStyleModel",
      "_view_count": null,
      "_view_module": "@jupyter-widgets/base",
      "_view_module_version": "1.2.0",
      "_view_name": "StyleView",
      "description_width": ""
     }
    },
    "246c0dfb94a84785bfa464c06e24f17c": {
     "model_module": "@jupyter-widgets/base",
     "model_name": "LayoutModel",
     "state": {
      "_model_module": "@jupyter-widgets/base",
      "_model_module_version": "1.2.0",
      "_model_name": "LayoutModel",
      "_view_count": null,
      "_view_module": "@jupyter-widgets/base",
      "_view_module_version": "1.2.0",
      "_view_name": "LayoutView",
      "align_content": null,
      "align_items": null,
      "align_self": null,
      "border": null,
      "bottom": null,
      "display": null,
      "flex": null,
      "flex_flow": null,
      "grid_area": null,
      "grid_auto_columns": null,
      "grid_auto_flow": null,
      "grid_auto_rows": null,
      "grid_column": null,
      "grid_gap": null,
      "grid_row": null,
      "grid_template_areas": null,
      "grid_template_columns": null,
      "grid_template_rows": null,
      "height": null,
      "justify_content": null,
      "justify_items": null,
      "left": null,
      "margin": null,
      "max_height": null,
      "max_width": null,
      "min_height": null,
      "min_width": null,
      "object_fit": null,
      "object_position": null,
      "order": null,
      "overflow": null,
      "overflow_x": null,
      "overflow_y": null,
      "padding": null,
      "right": null,
      "top": null,
      "visibility": null,
      "width": null
     }
    },
    "2587b21b59264bb882e9e30118669dba": {
     "model_module": "@jupyter-widgets/controls",
     "model_name": "HBoxModel",
     "state": {
      "_dom_classes": [],
      "_model_module": "@jupyter-widgets/controls",
      "_model_module_version": "1.5.0",
      "_model_name": "HBoxModel",
      "_view_count": null,
      "_view_module": "@jupyter-widgets/controls",
      "_view_module_version": "1.5.0",
      "_view_name": "HBoxView",
      "box_style": "",
      "children": [
       "IPY_MODEL_6133b810da4c484f9e9ced0b7d665864",
       "IPY_MODEL_267d2f0957d74414aa89bf2ad710ead1"
      ],
      "layout": "IPY_MODEL_02026c7f844641849fcd2419cece5df8"
     }
    },
    "265c0db54f7b4c1a971ad44543704c6d": {
     "model_module": "@jupyter-widgets/controls",
     "model_name": "HTMLModel",
     "state": {
      "_dom_classes": [],
      "_model_module": "@jupyter-widgets/controls",
      "_model_module_version": "1.5.0",
      "_model_name": "HTMLModel",
      "_view_count": null,
      "_view_module": "@jupyter-widgets/controls",
      "_view_module_version": "1.5.0",
      "_view_name": "HTMLView",
      "description": "",
      "description_tooltip": null,
      "layout": "IPY_MODEL_a6aa2deb412c4c3fa00737f0b6fce8aa",
      "placeholder": "​",
      "style": "IPY_MODEL_7ce5507e9bd9429b9db39d8decc969e9",
      "value": " 238/? [01:30&lt;00:00,  2.64it/s]"
     }
    },
    "267d2f0957d74414aa89bf2ad710ead1": {
     "model_module": "@jupyter-widgets/controls",
     "model_name": "HTMLModel",
     "state": {
      "_dom_classes": [],
      "_model_module": "@jupyter-widgets/controls",
      "_model_module_version": "1.5.0",
      "_model_name": "HTMLModel",
      "_view_count": null,
      "_view_module": "@jupyter-widgets/controls",
      "_view_module_version": "1.5.0",
      "_view_name": "HTMLView",
      "description": "",
      "description_tooltip": null,
      "layout": "IPY_MODEL_a58b2f18025d4330ba48096095cfba0e",
      "placeholder": "​",
      "style": "IPY_MODEL_3b627db82d4c477eaa98ca1c088b17ca",
      "value": " 238/? [00:32&lt;00:00,  7.22it/s]"
     }
    },
    "2841c8739afe4772a0798e98b19ef3a2": {
     "model_module": "@jupyter-widgets/base",
     "model_name": "LayoutModel",
     "state": {
      "_model_module": "@jupyter-widgets/base",
      "_model_module_version": "1.2.0",
      "_model_name": "LayoutModel",
      "_view_count": null,
      "_view_module": "@jupyter-widgets/base",
      "_view_module_version": "1.2.0",
      "_view_name": "LayoutView",
      "align_content": null,
      "align_items": null,
      "align_self": null,
      "border": null,
      "bottom": null,
      "display": null,
      "flex": null,
      "flex_flow": null,
      "grid_area": null,
      "grid_auto_columns": null,
      "grid_auto_flow": null,
      "grid_auto_rows": null,
      "grid_column": null,
      "grid_gap": null,
      "grid_row": null,
      "grid_template_areas": null,
      "grid_template_columns": null,
      "grid_template_rows": null,
      "height": null,
      "justify_content": null,
      "justify_items": null,
      "left": null,
      "margin": null,
      "max_height": null,
      "max_width": null,
      "min_height": null,
      "min_width": null,
      "object_fit": null,
      "object_position": null,
      "order": null,
      "overflow": null,
      "overflow_x": null,
      "overflow_y": null,
      "padding": null,
      "right": null,
      "top": null,
      "visibility": null,
      "width": null
     }
    },
    "29776b2a18ef4452b6085ce27b6f1b4c": {
     "model_module": "@jupyter-widgets/controls",
     "model_name": "FloatProgressModel",
     "state": {
      "_dom_classes": [],
      "_model_module": "@jupyter-widgets/controls",
      "_model_module_version": "1.5.0",
      "_model_name": "FloatProgressModel",
      "_view_count": null,
      "_view_module": "@jupyter-widgets/controls",
      "_view_module_version": "1.5.0",
      "_view_name": "ProgressView",
      "bar_style": "success",
      "description": "Evaluating: ",
      "description_tooltip": null,
      "layout": "IPY_MODEL_2841c8739afe4772a0798e98b19ef3a2",
      "max": 1,
      "min": 0,
      "orientation": "horizontal",
      "style": "IPY_MODEL_614e4b4e85fe4beab96d094e61f9b0de",
      "value": 1
     }
    },
    "2ae49a8abbfe491bbf2eeeb2b44b72f4": {
     "model_module": "@jupyter-widgets/controls",
     "model_name": "HBoxModel",
     "state": {
      "_dom_classes": [],
      "_model_module": "@jupyter-widgets/controls",
      "_model_module_version": "1.5.0",
      "_model_name": "HBoxModel",
      "_view_count": null,
      "_view_module": "@jupyter-widgets/controls",
      "_view_module_version": "1.5.0",
      "_view_name": "HBoxView",
      "box_style": "",
      "children": [
       "IPY_MODEL_af07bd05722f40f5aff9f773238947b0",
       "IPY_MODEL_afd956b3b06c491980ebc2f18cafffed"
      ],
      "layout": "IPY_MODEL_79cb4d349ebe4e279d8cd771330a4826"
     }
    },
    "2b715387606f4b05b5e9d11ce64a5401": {
     "model_module": "@jupyter-widgets/base",
     "model_name": "LayoutModel",
     "state": {
      "_model_module": "@jupyter-widgets/base",
      "_model_module_version": "1.2.0",
      "_model_name": "LayoutModel",
      "_view_count": null,
      "_view_module": "@jupyter-widgets/base",
      "_view_module_version": "1.2.0",
      "_view_name": "LayoutView",
      "align_content": null,
      "align_items": null,
      "align_self": null,
      "border": null,
      "bottom": null,
      "display": null,
      "flex": null,
      "flex_flow": null,
      "grid_area": null,
      "grid_auto_columns": null,
      "grid_auto_flow": null,
      "grid_auto_rows": null,
      "grid_column": null,
      "grid_gap": null,
      "grid_row": null,
      "grid_template_areas": null,
      "grid_template_columns": null,
      "grid_template_rows": null,
      "height": null,
      "justify_content": null,
      "justify_items": null,
      "left": null,
      "margin": null,
      "max_height": null,
      "max_width": null,
      "min_height": null,
      "min_width": null,
      "object_fit": null,
      "object_position": null,
      "order": null,
      "overflow": null,
      "overflow_x": null,
      "overflow_y": null,
      "padding": null,
      "right": null,
      "top": null,
      "visibility": null,
      "width": null
     }
    },
    "2eb26e05a27b4b14b4e6b97b29ea1afe": {
     "model_module": "@jupyter-widgets/controls",
     "model_name": "HTMLModel",
     "state": {
      "_dom_classes": [],
      "_model_module": "@jupyter-widgets/controls",
      "_model_module_version": "1.5.0",
      "_model_name": "HTMLModel",
      "_view_count": null,
      "_view_module": "@jupyter-widgets/controls",
      "_view_module_version": "1.5.0",
      "_view_name": "HTMLView",
      "description": "",
      "description_tooltip": null,
      "layout": "IPY_MODEL_7b08ec2ad90b413babf8896007873952",
      "placeholder": "​",
      "style": "IPY_MODEL_f826e56ac69a4bc293cb0acc6808761b",
      "value": " 4602/? [33:47&lt;00:00,  2.27it/s]"
     }
    },
    "2efe9504c16048b9a90dc11a52a933c2": {
     "model_module": "@jupyter-widgets/controls",
     "model_name": "DescriptionStyleModel",
     "state": {
      "_model_module": "@jupyter-widgets/controls",
      "_model_module_version": "1.5.0",
      "_model_name": "DescriptionStyleModel",
      "_view_count": null,
      "_view_module": "@jupyter-widgets/base",
      "_view_module_version": "1.2.0",
      "_view_name": "StyleView",
      "description_width": ""
     }
    },
    "320515281e34402ea1b30df0d3114f45": {
     "model_module": "@jupyter-widgets/controls",
     "model_name": "HBoxModel",
     "state": {
      "_dom_classes": [],
      "_model_module": "@jupyter-widgets/controls",
      "_model_module_version": "1.5.0",
      "_model_name": "HBoxModel",
      "_view_count": null,
      "_view_module": "@jupyter-widgets/controls",
      "_view_module_version": "1.5.0",
      "_view_name": "HBoxView",
      "box_style": "",
      "children": [
       "IPY_MODEL_9d403ea216e74d13b58420ddc497474a",
       "IPY_MODEL_b0603c82392547cc9073bcd7dfccf00c"
      ],
      "layout": "IPY_MODEL_5ceeeefd10a84265b65e914f10c4ed8a"
     }
    },
    "3535b21437e14db8bae035c3a9eed8e8": {
     "model_module": "@jupyter-widgets/controls",
     "model_name": "DescriptionStyleModel",
     "state": {
      "_model_module": "@jupyter-widgets/controls",
      "_model_module_version": "1.5.0",
      "_model_name": "DescriptionStyleModel",
      "_view_count": null,
      "_view_module": "@jupyter-widgets/base",
      "_view_module_version": "1.2.0",
      "_view_name": "StyleView",
      "description_width": ""
     }
    },
    "36ccb77ccb9d48c2b96a22ea64c7afc0": {
     "model_module": "@jupyter-widgets/controls",
     "model_name": "HBoxModel",
     "state": {
      "_dom_classes": [],
      "_model_module": "@jupyter-widgets/controls",
      "_model_module_version": "1.5.0",
      "_model_name": "HBoxModel",
      "_view_count": null,
      "_view_module": "@jupyter-widgets/controls",
      "_view_module_version": "1.5.0",
      "_view_name": "HBoxView",
      "box_style": "",
      "children": [
       "IPY_MODEL_a4a7c284a2c347bc9169f3657b8006fd",
       "IPY_MODEL_7a516413a10d49288d020b9cbc6d3af4"
      ],
      "layout": "IPY_MODEL_f3bef6ca15694f76aee7e6735b40a049"
     }
    },
    "3762fb07ed794a22a790b1dd24e5679b": {
     "model_module": "@jupyter-widgets/base",
     "model_name": "LayoutModel",
     "state": {
      "_model_module": "@jupyter-widgets/base",
      "_model_module_version": "1.2.0",
      "_model_name": "LayoutModel",
      "_view_count": null,
      "_view_module": "@jupyter-widgets/base",
      "_view_module_version": "1.2.0",
      "_view_name": "LayoutView",
      "align_content": null,
      "align_items": null,
      "align_self": null,
      "border": null,
      "bottom": null,
      "display": null,
      "flex": null,
      "flex_flow": null,
      "grid_area": null,
      "grid_auto_columns": null,
      "grid_auto_flow": null,
      "grid_auto_rows": null,
      "grid_column": null,
      "grid_gap": null,
      "grid_row": null,
      "grid_template_areas": null,
      "grid_template_columns": null,
      "grid_template_rows": null,
      "height": null,
      "justify_content": null,
      "justify_items": null,
      "left": null,
      "margin": null,
      "max_height": null,
      "max_width": null,
      "min_height": null,
      "min_width": null,
      "object_fit": null,
      "object_position": null,
      "order": null,
      "overflow": null,
      "overflow_x": null,
      "overflow_y": null,
      "padding": null,
      "right": null,
      "top": null,
      "visibility": null,
      "width": null
     }
    },
    "378e0e90c87a433ebf1099c17a5cf9ce": {
     "model_module": "@jupyter-widgets/controls",
     "model_name": "ProgressStyleModel",
     "state": {
      "_model_module": "@jupyter-widgets/controls",
      "_model_module_version": "1.5.0",
      "_model_name": "ProgressStyleModel",
      "_view_count": null,
      "_view_module": "@jupyter-widgets/base",
      "_view_module_version": "1.2.0",
      "_view_name": "StyleView",
      "bar_color": null,
      "description_width": "initial"
     }
    },
    "37aee92faaf741308a9531fabf2c51f0": {
     "model_module": "@jupyter-widgets/controls",
     "model_name": "HBoxModel",
     "state": {
      "_dom_classes": [],
      "_model_module": "@jupyter-widgets/controls",
      "_model_module_version": "1.5.0",
      "_model_name": "HBoxModel",
      "_view_count": null,
      "_view_module": "@jupyter-widgets/controls",
      "_view_module_version": "1.5.0",
      "_view_name": "HBoxView",
      "box_style": "",
      "children": [
       "IPY_MODEL_06f0413c7c3e4ec6964f8ff9939cff00",
       "IPY_MODEL_2eb26e05a27b4b14b4e6b97b29ea1afe"
      ],
      "layout": "IPY_MODEL_fe0705ea49f54db281885d45dae92aa3"
     }
    },
    "38fc1a4ef78a4dbe8c1072f5da79c289": {
     "model_module": "@jupyter-widgets/base",
     "model_name": "LayoutModel",
     "state": {
      "_model_module": "@jupyter-widgets/base",
      "_model_module_version": "1.2.0",
      "_model_name": "LayoutModel",
      "_view_count": null,
      "_view_module": "@jupyter-widgets/base",
      "_view_module_version": "1.2.0",
      "_view_name": "LayoutView",
      "align_content": null,
      "align_items": null,
      "align_self": null,
      "border": null,
      "bottom": null,
      "display": null,
      "flex": null,
      "flex_flow": null,
      "grid_area": null,
      "grid_auto_columns": null,
      "grid_auto_flow": null,
      "grid_auto_rows": null,
      "grid_column": null,
      "grid_gap": null,
      "grid_row": null,
      "grid_template_areas": null,
      "grid_template_columns": null,
      "grid_template_rows": null,
      "height": null,
      "justify_content": null,
      "justify_items": null,
      "left": null,
      "margin": null,
      "max_height": null,
      "max_width": null,
      "min_height": null,
      "min_width": null,
      "object_fit": null,
      "object_position": null,
      "order": null,
      "overflow": null,
      "overflow_x": null,
      "overflow_y": null,
      "padding": null,
      "right": null,
      "top": null,
      "visibility": null,
      "width": null
     }
    },
    "3934753f35e64d7aac350454e73a498e": {
     "model_module": "@jupyter-widgets/controls",
     "model_name": "ProgressStyleModel",
     "state": {
      "_model_module": "@jupyter-widgets/controls",
      "_model_module_version": "1.5.0",
      "_model_name": "ProgressStyleModel",
      "_view_count": null,
      "_view_module": "@jupyter-widgets/base",
      "_view_module_version": "1.2.0",
      "_view_name": "StyleView",
      "bar_color": null,
      "description_width": "initial"
     }
    },
    "39851a1e154a43ecb6f163c9230718a8": {
     "model_module": "@jupyter-widgets/controls",
     "model_name": "FloatProgressModel",
     "state": {
      "_dom_classes": [],
      "_model_module": "@jupyter-widgets/controls",
      "_model_module_version": "1.5.0",
      "_model_name": "FloatProgressModel",
      "_view_count": null,
      "_view_module": "@jupyter-widgets/controls",
      "_view_module_version": "1.5.0",
      "_view_name": "ProgressView",
      "bar_style": "success",
      "description": "Evaluating: ",
      "description_tooltip": null,
      "layout": "IPY_MODEL_06b00010ca4a4fbf8ac84f0f38490529",
      "max": 1,
      "min": 0,
      "orientation": "horizontal",
      "style": "IPY_MODEL_0518961a1917422f85b64747a15eaf1f",
      "value": 1
     }
    },
    "39be9ea8e27b4542923b7e7ea660c067": {
     "model_module": "@jupyter-widgets/controls",
     "model_name": "DescriptionStyleModel",
     "state": {
      "_model_module": "@jupyter-widgets/controls",
      "_model_module_version": "1.5.0",
      "_model_name": "DescriptionStyleModel",
      "_view_count": null,
      "_view_module": "@jupyter-widgets/base",
      "_view_module_version": "1.2.0",
      "_view_name": "StyleView",
      "description_width": ""
     }
    },
    "3b627db82d4c477eaa98ca1c088b17ca": {
     "model_module": "@jupyter-widgets/controls",
     "model_name": "DescriptionStyleModel",
     "state": {
      "_model_module": "@jupyter-widgets/controls",
      "_model_module_version": "1.5.0",
      "_model_name": "DescriptionStyleModel",
      "_view_count": null,
      "_view_module": "@jupyter-widgets/base",
      "_view_module_version": "1.2.0",
      "_view_name": "StyleView",
      "description_width": ""
     }
    },
    "3c57437884244158a3fc332e7c717613": {
     "model_module": "@jupyter-widgets/base",
     "model_name": "LayoutModel",
     "state": {
      "_model_module": "@jupyter-widgets/base",
      "_model_module_version": "1.2.0",
      "_model_name": "LayoutModel",
      "_view_count": null,
      "_view_module": "@jupyter-widgets/base",
      "_view_module_version": "1.2.0",
      "_view_name": "LayoutView",
      "align_content": null,
      "align_items": null,
      "align_self": null,
      "border": null,
      "bottom": null,
      "display": null,
      "flex": null,
      "flex_flow": null,
      "grid_area": null,
      "grid_auto_columns": null,
      "grid_auto_flow": null,
      "grid_auto_rows": null,
      "grid_column": null,
      "grid_gap": null,
      "grid_row": null,
      "grid_template_areas": null,
      "grid_template_columns": null,
      "grid_template_rows": null,
      "height": null,
      "justify_content": null,
      "justify_items": null,
      "left": null,
      "margin": null,
      "max_height": null,
      "max_width": null,
      "min_height": null,
      "min_width": null,
      "object_fit": null,
      "object_position": null,
      "order": null,
      "overflow": null,
      "overflow_x": null,
      "overflow_y": null,
      "padding": null,
      "right": null,
      "top": null,
      "visibility": null,
      "width": null
     }
    },
    "3e29b93b447946309cf567b83222a1fd": {
     "model_module": "@jupyter-widgets/base",
     "model_name": "LayoutModel",
     "state": {
      "_model_module": "@jupyter-widgets/base",
      "_model_module_version": "1.2.0",
      "_model_name": "LayoutModel",
      "_view_count": null,
      "_view_module": "@jupyter-widgets/base",
      "_view_module_version": "1.2.0",
      "_view_name": "LayoutView",
      "align_content": null,
      "align_items": null,
      "align_self": null,
      "border": null,
      "bottom": null,
      "display": null,
      "flex": null,
      "flex_flow": null,
      "grid_area": null,
      "grid_auto_columns": null,
      "grid_auto_flow": null,
      "grid_auto_rows": null,
      "grid_column": null,
      "grid_gap": null,
      "grid_row": null,
      "grid_template_areas": null,
      "grid_template_columns": null,
      "grid_template_rows": null,
      "height": null,
      "justify_content": null,
      "justify_items": null,
      "left": null,
      "margin": null,
      "max_height": null,
      "max_width": null,
      "min_height": null,
      "min_width": null,
      "object_fit": null,
      "object_position": null,
      "order": null,
      "overflow": null,
      "overflow_x": null,
      "overflow_y": null,
      "padding": null,
      "right": null,
      "top": null,
      "visibility": null,
      "width": null
     }
    },
    "3ede9b077aa24e08a62fb032f08e56cd": {
     "model_module": "@jupyter-widgets/base",
     "model_name": "LayoutModel",
     "state": {
      "_model_module": "@jupyter-widgets/base",
      "_model_module_version": "1.2.0",
      "_model_name": "LayoutModel",
      "_view_count": null,
      "_view_module": "@jupyter-widgets/base",
      "_view_module_version": "1.2.0",
      "_view_name": "LayoutView",
      "align_content": null,
      "align_items": null,
      "align_self": null,
      "border": null,
      "bottom": null,
      "display": null,
      "flex": null,
      "flex_flow": null,
      "grid_area": null,
      "grid_auto_columns": null,
      "grid_auto_flow": null,
      "grid_auto_rows": null,
      "grid_column": null,
      "grid_gap": null,
      "grid_row": null,
      "grid_template_areas": null,
      "grid_template_columns": null,
      "grid_template_rows": null,
      "height": null,
      "justify_content": null,
      "justify_items": null,
      "left": null,
      "margin": null,
      "max_height": null,
      "max_width": null,
      "min_height": null,
      "min_width": null,
      "object_fit": null,
      "object_position": null,
      "order": null,
      "overflow": null,
      "overflow_x": null,
      "overflow_y": null,
      "padding": null,
      "right": null,
      "top": null,
      "visibility": null,
      "width": null
     }
    },
    "40d5a5c72525408faaa222f3f546462d": {
     "model_module": "@jupyter-widgets/base",
     "model_name": "LayoutModel",
     "state": {
      "_model_module": "@jupyter-widgets/base",
      "_model_module_version": "1.2.0",
      "_model_name": "LayoutModel",
      "_view_count": null,
      "_view_module": "@jupyter-widgets/base",
      "_view_module_version": "1.2.0",
      "_view_name": "LayoutView",
      "align_content": null,
      "align_items": null,
      "align_self": null,
      "border": null,
      "bottom": null,
      "display": null,
      "flex": null,
      "flex_flow": null,
      "grid_area": null,
      "grid_auto_columns": null,
      "grid_auto_flow": null,
      "grid_auto_rows": null,
      "grid_column": null,
      "grid_gap": null,
      "grid_row": null,
      "grid_template_areas": null,
      "grid_template_columns": null,
      "grid_template_rows": null,
      "height": null,
      "justify_content": null,
      "justify_items": null,
      "left": null,
      "margin": null,
      "max_height": null,
      "max_width": null,
      "min_height": null,
      "min_width": null,
      "object_fit": null,
      "object_position": null,
      "order": null,
      "overflow": null,
      "overflow_x": null,
      "overflow_y": null,
      "padding": null,
      "right": null,
      "top": null,
      "visibility": null,
      "width": null
     }
    },
    "40ecdf8e1725412b9cae838c9e6e955b": {
     "model_module": "@jupyter-widgets/controls",
     "model_name": "HTMLModel",
     "state": {
      "_dom_classes": [],
      "_model_module": "@jupyter-widgets/controls",
      "_model_module_version": "1.5.0",
      "_model_name": "HTMLModel",
      "_view_count": null,
      "_view_module": "@jupyter-widgets/controls",
      "_view_module_version": "1.5.0",
      "_view_name": "HTMLView",
      "description": "",
      "description_tooltip": null,
      "layout": "IPY_MODEL_c37cd947751b45389101aabb87a1a043",
      "placeholder": "​",
      "style": "IPY_MODEL_679aa022f97a4930834ca40da4e3c93e",
      "value": " 238/? [00:32&lt;00:00,  7.39it/s]"
     }
    },
    "42dc00269b92451ea6691ff97ddd280f": {
     "model_module": "@jupyter-widgets/base",
     "model_name": "LayoutModel",
     "state": {
      "_model_module": "@jupyter-widgets/base",
      "_model_module_version": "1.2.0",
      "_model_name": "LayoutModel",
      "_view_count": null,
      "_view_module": "@jupyter-widgets/base",
      "_view_module_version": "1.2.0",
      "_view_name": "LayoutView",
      "align_content": null,
      "align_items": null,
      "align_self": null,
      "border": null,
      "bottom": null,
      "display": null,
      "flex": null,
      "flex_flow": null,
      "grid_area": null,
      "grid_auto_columns": null,
      "grid_auto_flow": null,
      "grid_auto_rows": null,
      "grid_column": null,
      "grid_gap": null,
      "grid_row": null,
      "grid_template_areas": null,
      "grid_template_columns": null,
      "grid_template_rows": null,
      "height": null,
      "justify_content": null,
      "justify_items": null,
      "left": null,
      "margin": null,
      "max_height": null,
      "max_width": null,
      "min_height": null,
      "min_width": null,
      "object_fit": null,
      "object_position": null,
      "order": null,
      "overflow": null,
      "overflow_x": null,
      "overflow_y": null,
      "padding": null,
      "right": null,
      "top": null,
      "visibility": null,
      "width": null
     }
    },
    "440732c73cef4361b3ef16207782fe12": {
     "model_module": "@jupyter-widgets/controls",
     "model_name": "ProgressStyleModel",
     "state": {
      "_model_module": "@jupyter-widgets/controls",
      "_model_module_version": "1.5.0",
      "_model_name": "ProgressStyleModel",
      "_view_count": null,
      "_view_module": "@jupyter-widgets/base",
      "_view_module_version": "1.2.0",
      "_view_name": "StyleView",
      "bar_color": null,
      "description_width": "initial"
     }
    },
    "4618c73c15fb4639aa5d50bcace156ff": {
     "model_module": "@jupyter-widgets/base",
     "model_name": "LayoutModel",
     "state": {
      "_model_module": "@jupyter-widgets/base",
      "_model_module_version": "1.2.0",
      "_model_name": "LayoutModel",
      "_view_count": null,
      "_view_module": "@jupyter-widgets/base",
      "_view_module_version": "1.2.0",
      "_view_name": "LayoutView",
      "align_content": null,
      "align_items": null,
      "align_self": null,
      "border": null,
      "bottom": null,
      "display": null,
      "flex": null,
      "flex_flow": null,
      "grid_area": null,
      "grid_auto_columns": null,
      "grid_auto_flow": null,
      "grid_auto_rows": null,
      "grid_column": null,
      "grid_gap": null,
      "grid_row": null,
      "grid_template_areas": null,
      "grid_template_columns": null,
      "grid_template_rows": null,
      "height": null,
      "justify_content": null,
      "justify_items": null,
      "left": null,
      "margin": null,
      "max_height": null,
      "max_width": null,
      "min_height": null,
      "min_width": null,
      "object_fit": null,
      "object_position": null,
      "order": null,
      "overflow": null,
      "overflow_x": null,
      "overflow_y": null,
      "padding": null,
      "right": null,
      "top": null,
      "visibility": null,
      "width": null
     }
    },
    "49588997a1e345c0a82be91fb1f9d741": {
     "model_module": "@jupyter-widgets/controls",
     "model_name": "DescriptionStyleModel",
     "state": {
      "_model_module": "@jupyter-widgets/controls",
      "_model_module_version": "1.5.0",
      "_model_name": "DescriptionStyleModel",
      "_view_count": null,
      "_view_module": "@jupyter-widgets/base",
      "_view_module_version": "1.2.0",
      "_view_name": "StyleView",
      "description_width": ""
     }
    },
    "4bbbce5a847b431d9bf17d0f46eb92a8": {
     "model_module": "@jupyter-widgets/base",
     "model_name": "LayoutModel",
     "state": {
      "_model_module": "@jupyter-widgets/base",
      "_model_module_version": "1.2.0",
      "_model_name": "LayoutModel",
      "_view_count": null,
      "_view_module": "@jupyter-widgets/base",
      "_view_module_version": "1.2.0",
      "_view_name": "LayoutView",
      "align_content": null,
      "align_items": null,
      "align_self": null,
      "border": null,
      "bottom": null,
      "display": null,
      "flex": null,
      "flex_flow": null,
      "grid_area": null,
      "grid_auto_columns": null,
      "grid_auto_flow": null,
      "grid_auto_rows": null,
      "grid_column": null,
      "grid_gap": null,
      "grid_row": null,
      "grid_template_areas": null,
      "grid_template_columns": null,
      "grid_template_rows": null,
      "height": null,
      "justify_content": null,
      "justify_items": null,
      "left": null,
      "margin": null,
      "max_height": null,
      "max_width": null,
      "min_height": null,
      "min_width": null,
      "object_fit": null,
      "object_position": null,
      "order": null,
      "overflow": null,
      "overflow_x": null,
      "overflow_y": null,
      "padding": null,
      "right": null,
      "top": null,
      "visibility": null,
      "width": null
     }
    },
    "4c05faf822a649c59103f44e57a7ebee": {
     "model_module": "@jupyter-widgets/controls",
     "model_name": "DescriptionStyleModel",
     "state": {
      "_model_module": "@jupyter-widgets/controls",
      "_model_module_version": "1.5.0",
      "_model_name": "DescriptionStyleModel",
      "_view_count": null,
      "_view_module": "@jupyter-widgets/base",
      "_view_module_version": "1.2.0",
      "_view_name": "StyleView",
      "description_width": ""
     }
    },
    "4dc2a7e7101f4095aa0d5e5181c43f01": {
     "model_module": "@jupyter-widgets/controls",
     "model_name": "HTMLModel",
     "state": {
      "_dom_classes": [],
      "_model_module": "@jupyter-widgets/controls",
      "_model_module_version": "1.5.0",
      "_model_name": "HTMLModel",
      "_view_count": null,
      "_view_module": "@jupyter-widgets/controls",
      "_view_module_version": "1.5.0",
      "_view_name": "HTMLView",
      "description": "",
      "description_tooltip": null,
      "layout": "IPY_MODEL_5c0f8db8990445f39aef602ac30459a3",
      "placeholder": "​",
      "style": "IPY_MODEL_e7e88d68c279400789519720bb93904f",
      "value": " 238/? [00:32&lt;00:00,  7.36it/s]"
     }
    },
    "4fc967a9f7b64d34afc9349b734bc9fd": {
     "model_module": "@jupyter-widgets/controls",
     "model_name": "HBoxModel",
     "state": {
      "_dom_classes": [],
      "_model_module": "@jupyter-widgets/controls",
      "_model_module_version": "1.5.0",
      "_model_name": "HBoxModel",
      "_view_count": null,
      "_view_module": "@jupyter-widgets/controls",
      "_view_module_version": "1.5.0",
      "_view_name": "HBoxView",
      "box_style": "",
      "children": [
       "IPY_MODEL_8da1fd0274234d93ab8e65be5b1e8991",
       "IPY_MODEL_70c8629c11974ee7a382d5f95106c8ff"
      ],
      "layout": "IPY_MODEL_cbc20cae1f634d5980f9e98ee441894e"
     }
    },
    "50758cc490bb4c85a40bd883b363f102": {
     "model_module": "@jupyter-widgets/base",
     "model_name": "LayoutModel",
     "state": {
      "_model_module": "@jupyter-widgets/base",
      "_model_module_version": "1.2.0",
      "_model_name": "LayoutModel",
      "_view_count": null,
      "_view_module": "@jupyter-widgets/base",
      "_view_module_version": "1.2.0",
      "_view_name": "LayoutView",
      "align_content": null,
      "align_items": null,
      "align_self": null,
      "border": null,
      "bottom": null,
      "display": null,
      "flex": null,
      "flex_flow": null,
      "grid_area": null,
      "grid_auto_columns": null,
      "grid_auto_flow": null,
      "grid_auto_rows": null,
      "grid_column": null,
      "grid_gap": null,
      "grid_row": null,
      "grid_template_areas": null,
      "grid_template_columns": null,
      "grid_template_rows": null,
      "height": null,
      "justify_content": null,
      "justify_items": null,
      "left": null,
      "margin": null,
      "max_height": null,
      "max_width": null,
      "min_height": null,
      "min_width": null,
      "object_fit": null,
      "object_position": null,
      "order": null,
      "overflow": null,
      "overflow_x": null,
      "overflow_y": null,
      "padding": null,
      "right": null,
      "top": null,
      "visibility": null,
      "width": null
     }
    },
    "548c68b089bf4e56a7d84fd9aa6c0e3a": {
     "model_module": "@jupyter-widgets/controls",
     "model_name": "FloatProgressModel",
     "state": {
      "_dom_classes": [],
      "_model_module": "@jupyter-widgets/controls",
      "_model_module_version": "1.5.0",
      "_model_name": "FloatProgressModel",
      "_view_count": null,
      "_view_module": "@jupyter-widgets/controls",
      "_view_module_version": "1.5.0",
      "_view_name": "ProgressView",
      "bar_style": "success",
      "description": "Evaluating: ",
      "description_tooltip": null,
      "layout": "IPY_MODEL_c703481e88c34435a35b1dfea383a240",
      "max": 1,
      "min": 0,
      "orientation": "horizontal",
      "style": "IPY_MODEL_3934753f35e64d7aac350454e73a498e",
      "value": 1
     }
    },
    "54cbc07a0ea84ef6b104cfe72622a50d": {
     "model_module": "@jupyter-widgets/controls",
     "model_name": "HTMLModel",
     "state": {
      "_dom_classes": [],
      "_model_module": "@jupyter-widgets/controls",
      "_model_module_version": "1.5.0",
      "_model_name": "HTMLModel",
      "_view_count": null,
      "_view_module": "@jupyter-widgets/controls",
      "_view_module_version": "1.5.0",
      "_view_name": "HTMLView",
      "description": "",
      "description_tooltip": null,
      "layout": "IPY_MODEL_8b9a208bd2a1410491b6390f2fd0be60",
      "placeholder": "​",
      "style": "IPY_MODEL_ce4142dd9cd04bb1a01a950a37bc8f9e",
      "value": " 238/? [00:31&lt;00:00,  7.60it/s]"
     }
    },
    "58e018864c2e4b8989d779473c48f097": {
     "model_module": "@jupyter-widgets/controls",
     "model_name": "FloatProgressModel",
     "state": {
      "_dom_classes": [],
      "_model_module": "@jupyter-widgets/controls",
      "_model_module_version": "1.5.0",
      "_model_name": "FloatProgressModel",
      "_view_count": null,
      "_view_module": "@jupyter-widgets/controls",
      "_view_module_version": "1.5.0",
      "_view_name": "ProgressView",
      "bar_style": "success",
      "description": "Downloading: 100%",
      "description_tooltip": null,
      "layout": "IPY_MODEL_cb90e4a1683f458aabce59c6c9e1823d",
      "max": 1199,
      "min": 0,
      "orientation": "horizontal",
      "style": "IPY_MODEL_440732c73cef4361b3ef16207782fe12",
      "value": 1199
     }
    },
    "5bb6faf0cf594c2e8f9f98bbe31eb9b8": {
     "model_module": "@jupyter-widgets/base",
     "model_name": "LayoutModel",
     "state": {
      "_model_module": "@jupyter-widgets/base",
      "_model_module_version": "1.2.0",
      "_model_name": "LayoutModel",
      "_view_count": null,
      "_view_module": "@jupyter-widgets/base",
      "_view_module_version": "1.2.0",
      "_view_name": "LayoutView",
      "align_content": null,
      "align_items": null,
      "align_self": null,
      "border": null,
      "bottom": null,
      "display": null,
      "flex": null,
      "flex_flow": null,
      "grid_area": null,
      "grid_auto_columns": null,
      "grid_auto_flow": null,
      "grid_auto_rows": null,
      "grid_column": null,
      "grid_gap": null,
      "grid_row": null,
      "grid_template_areas": null,
      "grid_template_columns": null,
      "grid_template_rows": null,
      "height": null,
      "justify_content": null,
      "justify_items": null,
      "left": null,
      "margin": null,
      "max_height": null,
      "max_width": null,
      "min_height": null,
      "min_width": null,
      "object_fit": null,
      "object_position": null,
      "order": null,
      "overflow": null,
      "overflow_x": null,
      "overflow_y": null,
      "padding": null,
      "right": null,
      "top": null,
      "visibility": null,
      "width": null
     }
    },
    "5c0f8db8990445f39aef602ac30459a3": {
     "model_module": "@jupyter-widgets/base",
     "model_name": "LayoutModel",
     "state": {
      "_model_module": "@jupyter-widgets/base",
      "_model_module_version": "1.2.0",
      "_model_name": "LayoutModel",
      "_view_count": null,
      "_view_module": "@jupyter-widgets/base",
      "_view_module_version": "1.2.0",
      "_view_name": "LayoutView",
      "align_content": null,
      "align_items": null,
      "align_self": null,
      "border": null,
      "bottom": null,
      "display": null,
      "flex": null,
      "flex_flow": null,
      "grid_area": null,
      "grid_auto_columns": null,
      "grid_auto_flow": null,
      "grid_auto_rows": null,
      "grid_column": null,
      "grid_gap": null,
      "grid_row": null,
      "grid_template_areas": null,
      "grid_template_columns": null,
      "grid_template_rows": null,
      "height": null,
      "justify_content": null,
      "justify_items": null,
      "left": null,
      "margin": null,
      "max_height": null,
      "max_width": null,
      "min_height": null,
      "min_width": null,
      "object_fit": null,
      "object_position": null,
      "order": null,
      "overflow": null,
      "overflow_x": null,
      "overflow_y": null,
      "padding": null,
      "right": null,
      "top": null,
      "visibility": null,
      "width": null
     }
    },
    "5ceeeefd10a84265b65e914f10c4ed8a": {
     "model_module": "@jupyter-widgets/base",
     "model_name": "LayoutModel",
     "state": {
      "_model_module": "@jupyter-widgets/base",
      "_model_module_version": "1.2.0",
      "_model_name": "LayoutModel",
      "_view_count": null,
      "_view_module": "@jupyter-widgets/base",
      "_view_module_version": "1.2.0",
      "_view_name": "LayoutView",
      "align_content": null,
      "align_items": null,
      "align_self": null,
      "border": null,
      "bottom": null,
      "display": null,
      "flex": null,
      "flex_flow": null,
      "grid_area": null,
      "grid_auto_columns": null,
      "grid_auto_flow": null,
      "grid_auto_rows": null,
      "grid_column": null,
      "grid_gap": null,
      "grid_row": null,
      "grid_template_areas": null,
      "grid_template_columns": null,
      "grid_template_rows": null,
      "height": null,
      "justify_content": null,
      "justify_items": null,
      "left": null,
      "margin": null,
      "max_height": null,
      "max_width": null,
      "min_height": null,
      "min_width": null,
      "object_fit": null,
      "object_position": null,
      "order": null,
      "overflow": null,
      "overflow_x": null,
      "overflow_y": null,
      "padding": null,
      "right": null,
      "top": null,
      "visibility": null,
      "width": null
     }
    },
    "5d9b2660b6a7438cb683a559b1174cb2": {
     "model_module": "@jupyter-widgets/controls",
     "model_name": "HBoxModel",
     "state": {
      "_dom_classes": [],
      "_model_module": "@jupyter-widgets/controls",
      "_model_module_version": "1.5.0",
      "_model_name": "HBoxModel",
      "_view_count": null,
      "_view_module": "@jupyter-widgets/controls",
      "_view_module_version": "1.5.0",
      "_view_name": "HBoxView",
      "box_style": "",
      "children": [
       "IPY_MODEL_ec18e12e5e1b473b9841fa3150300e6a",
       "IPY_MODEL_63bf20d4d3a24fafa4e28492179e15c2"
      ],
      "layout": "IPY_MODEL_da5ea4b7da6e48d596a45aa3f023d9e1"
     }
    },
    "5f08d41b908946c7814286d7db775fbe": {
     "model_module": "@jupyter-widgets/base",
     "model_name": "LayoutModel",
     "state": {
      "_model_module": "@jupyter-widgets/base",
      "_model_module_version": "1.2.0",
      "_model_name": "LayoutModel",
      "_view_count": null,
      "_view_module": "@jupyter-widgets/base",
      "_view_module_version": "1.2.0",
      "_view_name": "LayoutView",
      "align_content": null,
      "align_items": null,
      "align_self": null,
      "border": null,
      "bottom": null,
      "display": null,
      "flex": null,
      "flex_flow": null,
      "grid_area": null,
      "grid_auto_columns": null,
      "grid_auto_flow": null,
      "grid_auto_rows": null,
      "grid_column": null,
      "grid_gap": null,
      "grid_row": null,
      "grid_template_areas": null,
      "grid_template_columns": null,
      "grid_template_rows": null,
      "height": null,
      "justify_content": null,
      "justify_items": null,
      "left": null,
      "margin": null,
      "max_height": null,
      "max_width": null,
      "min_height": null,
      "min_width": null,
      "object_fit": null,
      "object_position": null,
      "order": null,
      "overflow": null,
      "overflow_x": null,
      "overflow_y": null,
      "padding": null,
      "right": null,
      "top": null,
      "visibility": null,
      "width": null
     }
    },
    "5f45f28ae5874da2ba83e4ec7db9f2b7": {
     "model_module": "@jupyter-widgets/controls",
     "model_name": "HTMLModel",
     "state": {
      "_dom_classes": [],
      "_model_module": "@jupyter-widgets/controls",
      "_model_module_version": "1.5.0",
      "_model_name": "HTMLModel",
      "_view_count": null,
      "_view_module": "@jupyter-widgets/controls",
      "_view_module_version": "1.5.0",
      "_view_name": "HTMLView",
      "description": "",
      "description_tooltip": null,
      "layout": "IPY_MODEL_eac349c517ff451eaf900f304fbc260c",
      "placeholder": "​",
      "style": "IPY_MODEL_3535b21437e14db8bae035c3a9eed8e8",
      "value": " 4602/? [28:15&lt;00:00,  2.71it/s]"
     }
    },
    "5f6ba2934eb34e36b4f1963b20b1ec8e": {
     "model_module": "@jupyter-widgets/controls",
     "model_name": "HBoxModel",
     "state": {
      "_dom_classes": [],
      "_model_module": "@jupyter-widgets/controls",
      "_model_module_version": "1.5.0",
      "_model_name": "HBoxModel",
      "_view_count": null,
      "_view_module": "@jupyter-widgets/controls",
      "_view_module_version": "1.5.0",
      "_view_name": "HBoxView",
      "box_style": "",
      "children": [
       "IPY_MODEL_7d5624a2bfa8451e927f549071033cd6",
       "IPY_MODEL_fa1b40e8c2c04d8aa3222bad4e6cd007"
      ],
      "layout": "IPY_MODEL_749f756d88c64ff38cda4e0b670e6cf8"
     }
    },
    "608aedb386534d9996f1f39cd31c84d5": {
     "model_module": "@jupyter-widgets/controls",
     "model_name": "DescriptionStyleModel",
     "state": {
      "_model_module": "@jupyter-widgets/controls",
      "_model_module_version": "1.5.0",
      "_model_name": "DescriptionStyleModel",
      "_view_count": null,
      "_view_module": "@jupyter-widgets/base",
      "_view_module_version": "1.2.0",
      "_view_name": "StyleView",
      "description_width": ""
     }
    },
    "6133b810da4c484f9e9ced0b7d665864": {
     "model_module": "@jupyter-widgets/controls",
     "model_name": "FloatProgressModel",
     "state": {
      "_dom_classes": [],
      "_model_module": "@jupyter-widgets/controls",
      "_model_module_version": "1.5.0",
      "_model_name": "FloatProgressModel",
      "_view_count": null,
      "_view_module": "@jupyter-widgets/controls",
      "_view_module_version": "1.5.0",
      "_view_name": "ProgressView",
      "bar_style": "success",
      "description": "Evaluating: ",
      "description_tooltip": null,
      "layout": "IPY_MODEL_064c7fa6a2264b199651e20293981374",
      "max": 1,
      "min": 0,
      "orientation": "horizontal",
      "style": "IPY_MODEL_af924e18a51842be93e963e72a97fc9a",
      "value": 1
     }
    },
    "614e4b4e85fe4beab96d094e61f9b0de": {
     "model_module": "@jupyter-widgets/controls",
     "model_name": "ProgressStyleModel",
     "state": {
      "_model_module": "@jupyter-widgets/controls",
      "_model_module_version": "1.5.0",
      "_model_name": "ProgressStyleModel",
      "_view_count": null,
      "_view_module": "@jupyter-widgets/base",
      "_view_module_version": "1.2.0",
      "_view_name": "StyleView",
      "bar_color": null,
      "description_width": "initial"
     }
    },
    "631a379b2fc64087869de258153c3a08": {
     "model_module": "@jupyter-widgets/base",
     "model_name": "LayoutModel",
     "state": {
      "_model_module": "@jupyter-widgets/base",
      "_model_module_version": "1.2.0",
      "_model_name": "LayoutModel",
      "_view_count": null,
      "_view_module": "@jupyter-widgets/base",
      "_view_module_version": "1.2.0",
      "_view_name": "LayoutView",
      "align_content": null,
      "align_items": null,
      "align_self": null,
      "border": null,
      "bottom": null,
      "display": null,
      "flex": null,
      "flex_flow": null,
      "grid_area": null,
      "grid_auto_columns": null,
      "grid_auto_flow": null,
      "grid_auto_rows": null,
      "grid_column": null,
      "grid_gap": null,
      "grid_row": null,
      "grid_template_areas": null,
      "grid_template_columns": null,
      "grid_template_rows": null,
      "height": null,
      "justify_content": null,
      "justify_items": null,
      "left": null,
      "margin": null,
      "max_height": null,
      "max_width": null,
      "min_height": null,
      "min_width": null,
      "object_fit": null,
      "object_position": null,
      "order": null,
      "overflow": null,
      "overflow_x": null,
      "overflow_y": null,
      "padding": null,
      "right": null,
      "top": null,
      "visibility": null,
      "width": null
     }
    },
    "63bf20d4d3a24fafa4e28492179e15c2": {
     "model_module": "@jupyter-widgets/controls",
     "model_name": "HTMLModel",
     "state": {
      "_dom_classes": [],
      "_model_module": "@jupyter-widgets/controls",
      "_model_module_version": "1.5.0",
      "_model_name": "HTMLModel",
      "_view_count": null,
      "_view_module": "@jupyter-widgets/controls",
      "_view_module_version": "1.5.0",
      "_view_name": "HTMLView",
      "description": "",
      "description_tooltip": null,
      "layout": "IPY_MODEL_40d5a5c72525408faaa222f3f546462d",
      "placeholder": "​",
      "style": "IPY_MODEL_4c05faf822a649c59103f44e57a7ebee",
      "value": " 238/? [00:31&lt;00:00,  7.49it/s]"
     }
    },
    "645faa79b1ad4264a531bfaa2b704f95": {
     "model_module": "@jupyter-widgets/base",
     "model_name": "LayoutModel",
     "state": {
      "_model_module": "@jupyter-widgets/base",
      "_model_module_version": "1.2.0",
      "_model_name": "LayoutModel",
      "_view_count": null,
      "_view_module": "@jupyter-widgets/base",
      "_view_module_version": "1.2.0",
      "_view_name": "LayoutView",
      "align_content": null,
      "align_items": null,
      "align_self": null,
      "border": null,
      "bottom": null,
      "display": null,
      "flex": null,
      "flex_flow": null,
      "grid_area": null,
      "grid_auto_columns": null,
      "grid_auto_flow": null,
      "grid_auto_rows": null,
      "grid_column": null,
      "grid_gap": null,
      "grid_row": null,
      "grid_template_areas": null,
      "grid_template_columns": null,
      "grid_template_rows": null,
      "height": null,
      "justify_content": null,
      "justify_items": null,
      "left": null,
      "margin": null,
      "max_height": null,
      "max_width": null,
      "min_height": null,
      "min_width": null,
      "object_fit": null,
      "object_position": null,
      "order": null,
      "overflow": null,
      "overflow_x": null,
      "overflow_y": null,
      "padding": null,
      "right": null,
      "top": null,
      "visibility": null,
      "width": null
     }
    },
    "665203de66314919bffda7ea8098ce42": {
     "model_module": "@jupyter-widgets/controls",
     "model_name": "FloatProgressModel",
     "state": {
      "_dom_classes": [],
      "_model_module": "@jupyter-widgets/controls",
      "_model_module_version": "1.5.0",
      "_model_name": "FloatProgressModel",
      "_view_count": null,
      "_view_module": "@jupyter-widgets/controls",
      "_view_module_version": "1.5.0",
      "_view_name": "ProgressView",
      "bar_style": "success",
      "description": "Downloading: 100%",
      "description_tooltip": null,
      "layout": "IPY_MODEL_2b715387606f4b05b5e9d11ce64a5401",
      "max": 1389353,
      "min": 0,
      "orientation": "horizontal",
      "style": "IPY_MODEL_d063174d29104957bafcbf303682c958",
      "value": 1389353
     }
    },
    "66e1801d21e345d2bb509cb12210f07d": {
     "model_module": "@jupyter-widgets/controls",
     "model_name": "ProgressStyleModel",
     "state": {
      "_model_module": "@jupyter-widgets/controls",
      "_model_module_version": "1.5.0",
      "_model_name": "ProgressStyleModel",
      "_view_count": null,
      "_view_module": "@jupyter-widgets/base",
      "_view_module_version": "1.2.0",
      "_view_name": "StyleView",
      "bar_color": null,
      "description_width": "initial"
     }
    },
    "66f05cb4c5dd42318c21db667643ef9b": {
     "model_module": "@jupyter-widgets/base",
     "model_name": "LayoutModel",
     "state": {
      "_model_module": "@jupyter-widgets/base",
      "_model_module_version": "1.2.0",
      "_model_name": "LayoutModel",
      "_view_count": null,
      "_view_module": "@jupyter-widgets/base",
      "_view_module_version": "1.2.0",
      "_view_name": "LayoutView",
      "align_content": null,
      "align_items": null,
      "align_self": null,
      "border": null,
      "bottom": null,
      "display": null,
      "flex": null,
      "flex_flow": null,
      "grid_area": null,
      "grid_auto_columns": null,
      "grid_auto_flow": null,
      "grid_auto_rows": null,
      "grid_column": null,
      "grid_gap": null,
      "grid_row": null,
      "grid_template_areas": null,
      "grid_template_columns": null,
      "grid_template_rows": null,
      "height": null,
      "justify_content": null,
      "justify_items": null,
      "left": null,
      "margin": null,
      "max_height": null,
      "max_width": null,
      "min_height": null,
      "min_width": null,
      "object_fit": null,
      "object_position": null,
      "order": null,
      "overflow": null,
      "overflow_x": null,
      "overflow_y": null,
      "padding": null,
      "right": null,
      "top": null,
      "visibility": null,
      "width": null
     }
    },
    "679aa022f97a4930834ca40da4e3c93e": {
     "model_module": "@jupyter-widgets/controls",
     "model_name": "DescriptionStyleModel",
     "state": {
      "_model_module": "@jupyter-widgets/controls",
      "_model_module_version": "1.5.0",
      "_model_name": "DescriptionStyleModel",
      "_view_count": null,
      "_view_module": "@jupyter-widgets/base",
      "_view_module_version": "1.2.0",
      "_view_name": "StyleView",
      "description_width": ""
     }
    },
    "6e2e98327167433c8d87bab39deb1bd7": {
     "model_module": "@jupyter-widgets/controls",
     "model_name": "DescriptionStyleModel",
     "state": {
      "_model_module": "@jupyter-widgets/controls",
      "_model_module_version": "1.5.0",
      "_model_name": "DescriptionStyleModel",
      "_view_count": null,
      "_view_module": "@jupyter-widgets/base",
      "_view_module_version": "1.2.0",
      "_view_name": "StyleView",
      "description_width": ""
     }
    },
    "6f88bcbe34a24a4b8e3e77936d304208": {
     "model_module": "@jupyter-widgets/controls",
     "model_name": "ProgressStyleModel",
     "state": {
      "_model_module": "@jupyter-widgets/controls",
      "_model_module_version": "1.5.0",
      "_model_name": "ProgressStyleModel",
      "_view_count": null,
      "_view_module": "@jupyter-widgets/base",
      "_view_module_version": "1.2.0",
      "_view_name": "StyleView",
      "bar_color": null,
      "description_width": "initial"
     }
    },
    "6fd86e604e0a4f07a3f2b32822bcba5d": {
     "model_module": "@jupyter-widgets/base",
     "model_name": "LayoutModel",
     "state": {
      "_model_module": "@jupyter-widgets/base",
      "_model_module_version": "1.2.0",
      "_model_name": "LayoutModel",
      "_view_count": null,
      "_view_module": "@jupyter-widgets/base",
      "_view_module_version": "1.2.0",
      "_view_name": "LayoutView",
      "align_content": null,
      "align_items": null,
      "align_self": null,
      "border": null,
      "bottom": null,
      "display": null,
      "flex": null,
      "flex_flow": null,
      "grid_area": null,
      "grid_auto_columns": null,
      "grid_auto_flow": null,
      "grid_auto_rows": null,
      "grid_column": null,
      "grid_gap": null,
      "grid_row": null,
      "grid_template_areas": null,
      "grid_template_columns": null,
      "grid_template_rows": null,
      "height": null,
      "justify_content": null,
      "justify_items": null,
      "left": null,
      "margin": null,
      "max_height": null,
      "max_width": null,
      "min_height": null,
      "min_width": null,
      "object_fit": null,
      "object_position": null,
      "order": null,
      "overflow": null,
      "overflow_x": null,
      "overflow_y": null,
      "padding": null,
      "right": null,
      "top": null,
      "visibility": null,
      "width": null
     }
    },
    "70c8629c11974ee7a382d5f95106c8ff": {
     "model_module": "@jupyter-widgets/controls",
     "model_name": "HTMLModel",
     "state": {
      "_dom_classes": [],
      "_model_module": "@jupyter-widgets/controls",
      "_model_module_version": "1.5.0",
      "_model_name": "HTMLModel",
      "_view_count": null,
      "_view_module": "@jupyter-widgets/controls",
      "_view_module_version": "1.5.0",
      "_view_name": "HTMLView",
      "description": "",
      "description_tooltip": null,
      "layout": "IPY_MODEL_e4d35f9b50c643a485cbc92ebb632449",
      "placeholder": "​",
      "style": "IPY_MODEL_6e2e98327167433c8d87bab39deb1bd7",
      "value": " 4602/? [28:06&lt;00:00,  2.73it/s]"
     }
    },
    "73508b14d272485c95cab434d2185877": {
     "model_module": "@jupyter-widgets/controls",
     "model_name": "FloatProgressModel",
     "state": {
      "_dom_classes": [],
      "_model_module": "@jupyter-widgets/controls",
      "_model_module_version": "1.5.0",
      "_model_name": "FloatProgressModel",
      "_view_count": null,
      "_view_module": "@jupyter-widgets/controls",
      "_view_module_version": "1.5.0",
      "_view_name": "ProgressView",
      "bar_style": "success",
      "description": "Training: ",
      "description_tooltip": null,
      "layout": "IPY_MODEL_98c067077f51488e82b566159e31718a",
      "max": 1,
      "min": 0,
      "orientation": "horizontal",
      "style": "IPY_MODEL_1439a0b049554619bfb752d626702672",
      "value": 1
     }
    },
    "741f67bd267444b09d7d8d3190f54d98": {
     "model_module": "@jupyter-widgets/controls",
     "model_name": "FloatProgressModel",
     "state": {
      "_dom_classes": [],
      "_model_module": "@jupyter-widgets/controls",
      "_model_module_version": "1.5.0",
      "_model_name": "FloatProgressModel",
      "_view_count": null,
      "_view_module": "@jupyter-widgets/controls",
      "_view_module_version": "1.5.0",
      "_view_name": "ProgressView",
      "bar_style": "success",
      "description": "Training: ",
      "description_tooltip": null,
      "layout": "IPY_MODEL_9f7ae33f5b0a4ab7bf482a81448fcd36",
      "max": 1,
      "min": 0,
      "orientation": "horizontal",
      "style": "IPY_MODEL_05be7d67b3854eceb987f26ec46f06bd",
      "value": 1
     }
    },
    "742dbb1c15d8496992691f607370af0c": {
     "model_module": "@jupyter-widgets/base",
     "model_name": "LayoutModel",
     "state": {
      "_model_module": "@jupyter-widgets/base",
      "_model_module_version": "1.2.0",
      "_model_name": "LayoutModel",
      "_view_count": null,
      "_view_module": "@jupyter-widgets/base",
      "_view_module_version": "1.2.0",
      "_view_name": "LayoutView",
      "align_content": null,
      "align_items": null,
      "align_self": null,
      "border": null,
      "bottom": null,
      "display": null,
      "flex": null,
      "flex_flow": null,
      "grid_area": null,
      "grid_auto_columns": null,
      "grid_auto_flow": null,
      "grid_auto_rows": null,
      "grid_column": null,
      "grid_gap": null,
      "grid_row": null,
      "grid_template_areas": null,
      "grid_template_columns": null,
      "grid_template_rows": null,
      "height": null,
      "justify_content": null,
      "justify_items": null,
      "left": null,
      "margin": null,
      "max_height": null,
      "max_width": null,
      "min_height": null,
      "min_width": null,
      "object_fit": null,
      "object_position": null,
      "order": null,
      "overflow": null,
      "overflow_x": null,
      "overflow_y": null,
      "padding": null,
      "right": null,
      "top": null,
      "visibility": null,
      "width": null
     }
    },
    "749f756d88c64ff38cda4e0b670e6cf8": {
     "model_module": "@jupyter-widgets/base",
     "model_name": "LayoutModel",
     "state": {
      "_model_module": "@jupyter-widgets/base",
      "_model_module_version": "1.2.0",
      "_model_name": "LayoutModel",
      "_view_count": null,
      "_view_module": "@jupyter-widgets/base",
      "_view_module_version": "1.2.0",
      "_view_name": "LayoutView",
      "align_content": null,
      "align_items": null,
      "align_self": null,
      "border": null,
      "bottom": null,
      "display": null,
      "flex": null,
      "flex_flow": null,
      "grid_area": null,
      "grid_auto_columns": null,
      "grid_auto_flow": null,
      "grid_auto_rows": null,
      "grid_column": null,
      "grid_gap": null,
      "grid_row": null,
      "grid_template_areas": null,
      "grid_template_columns": null,
      "grid_template_rows": null,
      "height": null,
      "justify_content": null,
      "justify_items": null,
      "left": null,
      "margin": null,
      "max_height": null,
      "max_width": null,
      "min_height": null,
      "min_width": null,
      "object_fit": null,
      "object_position": null,
      "order": null,
      "overflow": null,
      "overflow_x": null,
      "overflow_y": null,
      "padding": null,
      "right": null,
      "top": null,
      "visibility": null,
      "width": null
     }
    },
    "74aff11befe4428dae1972631dcd6436": {
     "model_module": "@jupyter-widgets/base",
     "model_name": "LayoutModel",
     "state": {
      "_model_module": "@jupyter-widgets/base",
      "_model_module_version": "1.2.0",
      "_model_name": "LayoutModel",
      "_view_count": null,
      "_view_module": "@jupyter-widgets/base",
      "_view_module_version": "1.2.0",
      "_view_name": "LayoutView",
      "align_content": null,
      "align_items": null,
      "align_self": null,
      "border": null,
      "bottom": null,
      "display": null,
      "flex": null,
      "flex_flow": null,
      "grid_area": null,
      "grid_auto_columns": null,
      "grid_auto_flow": null,
      "grid_auto_rows": null,
      "grid_column": null,
      "grid_gap": null,
      "grid_row": null,
      "grid_template_areas": null,
      "grid_template_columns": null,
      "grid_template_rows": null,
      "height": null,
      "justify_content": null,
      "justify_items": null,
      "left": null,
      "margin": null,
      "max_height": null,
      "max_width": null,
      "min_height": null,
      "min_width": null,
      "object_fit": null,
      "object_position": null,
      "order": null,
      "overflow": null,
      "overflow_x": null,
      "overflow_y": null,
      "padding": null,
      "right": null,
      "top": null,
      "visibility": null,
      "width": null
     }
    },
    "76f992bc156549edb2502828804b3639": {
     "model_module": "@jupyter-widgets/base",
     "model_name": "LayoutModel",
     "state": {
      "_model_module": "@jupyter-widgets/base",
      "_model_module_version": "1.2.0",
      "_model_name": "LayoutModel",
      "_view_count": null,
      "_view_module": "@jupyter-widgets/base",
      "_view_module_version": "1.2.0",
      "_view_name": "LayoutView",
      "align_content": null,
      "align_items": null,
      "align_self": null,
      "border": null,
      "bottom": null,
      "display": null,
      "flex": null,
      "flex_flow": null,
      "grid_area": null,
      "grid_auto_columns": null,
      "grid_auto_flow": null,
      "grid_auto_rows": null,
      "grid_column": null,
      "grid_gap": null,
      "grid_row": null,
      "grid_template_areas": null,
      "grid_template_columns": null,
      "grid_template_rows": null,
      "height": null,
      "justify_content": null,
      "justify_items": null,
      "left": null,
      "margin": null,
      "max_height": null,
      "max_width": null,
      "min_height": null,
      "min_width": null,
      "object_fit": null,
      "object_position": null,
      "order": null,
      "overflow": null,
      "overflow_x": null,
      "overflow_y": null,
      "padding": null,
      "right": null,
      "top": null,
      "visibility": null,
      "width": null
     }
    },
    "77f36a20d3cf465e94789b743ce2bc9e": {
     "model_module": "@jupyter-widgets/controls",
     "model_name": "DescriptionStyleModel",
     "state": {
      "_model_module": "@jupyter-widgets/controls",
      "_model_module_version": "1.5.0",
      "_model_name": "DescriptionStyleModel",
      "_view_count": null,
      "_view_module": "@jupyter-widgets/base",
      "_view_module_version": "1.2.0",
      "_view_name": "StyleView",
      "description_width": ""
     }
    },
    "79cb4d349ebe4e279d8cd771330a4826": {
     "model_module": "@jupyter-widgets/base",
     "model_name": "LayoutModel",
     "state": {
      "_model_module": "@jupyter-widgets/base",
      "_model_module_version": "1.2.0",
      "_model_name": "LayoutModel",
      "_view_count": null,
      "_view_module": "@jupyter-widgets/base",
      "_view_module_version": "1.2.0",
      "_view_name": "LayoutView",
      "align_content": null,
      "align_items": null,
      "align_self": null,
      "border": null,
      "bottom": null,
      "display": null,
      "flex": null,
      "flex_flow": null,
      "grid_area": null,
      "grid_auto_columns": null,
      "grid_auto_flow": null,
      "grid_auto_rows": null,
      "grid_column": null,
      "grid_gap": null,
      "grid_row": null,
      "grid_template_areas": null,
      "grid_template_columns": null,
      "grid_template_rows": null,
      "height": null,
      "justify_content": null,
      "justify_items": null,
      "left": null,
      "margin": null,
      "max_height": null,
      "max_width": null,
      "min_height": null,
      "min_width": null,
      "object_fit": null,
      "object_position": null,
      "order": null,
      "overflow": null,
      "overflow_x": null,
      "overflow_y": null,
      "padding": null,
      "right": null,
      "top": null,
      "visibility": null,
      "width": null
     }
    },
    "79d8d6788a2a421ca2c8978681761389": {
     "model_module": "@jupyter-widgets/controls",
     "model_name": "HTMLModel",
     "state": {
      "_dom_classes": [],
      "_model_module": "@jupyter-widgets/controls",
      "_model_module_version": "1.5.0",
      "_model_name": "HTMLModel",
      "_view_count": null,
      "_view_module": "@jupyter-widgets/controls",
      "_view_module_version": "1.5.0",
      "_view_name": "HTMLView",
      "description": "",
      "description_tooltip": null,
      "layout": "IPY_MODEL_3c57437884244158a3fc332e7c717613",
      "placeholder": "​",
      "style": "IPY_MODEL_49588997a1e345c0a82be91fb1f9d741",
      "value": " 1.39M/1.39M [00:00&lt;00:00, 3.42MB/s]"
     }
    },
    "7a516413a10d49288d020b9cbc6d3af4": {
     "model_module": "@jupyter-widgets/controls",
     "model_name": "HTMLModel",
     "state": {
      "_dom_classes": [],
      "_model_module": "@jupyter-widgets/controls",
      "_model_module_version": "1.5.0",
      "_model_name": "HTMLModel",
      "_view_count": null,
      "_view_module": "@jupyter-widgets/controls",
      "_view_module_version": "1.5.0",
      "_view_name": "HTMLView",
      "description": "",
      "description_tooltip": null,
      "layout": "IPY_MODEL_ff69d5924ea64856a4bd2774794aacba",
      "placeholder": "​",
      "style": "IPY_MODEL_2efe9504c16048b9a90dc11a52a933c2",
      "value": " 4602/? [28:22&lt;00:00,  2.70it/s]"
     }
    },
    "7a72c602adc24f8291ef050f73131f4b": {
     "model_module": "@jupyter-widgets/controls",
     "model_name": "FloatProgressModel",
     "state": {
      "_dom_classes": [],
      "_model_module": "@jupyter-widgets/controls",
      "_model_module_version": "1.5.0",
      "_model_name": "FloatProgressModel",
      "_view_count": null,
      "_view_module": "@jupyter-widgets/controls",
      "_view_module_version": "1.5.0",
      "_view_name": "ProgressView",
      "bar_style": "success",
      "description": "Training: ",
      "description_tooltip": null,
      "layout": "IPY_MODEL_dc4aca0d66154664ac98a0a98a36560a",
      "max": 1,
      "min": 0,
      "orientation": "horizontal",
      "style": "IPY_MODEL_7d08a549996943e89d454d271935a667",
      "value": 1
     }
    },
    "7afb6c52b00945249dbaac6ae589c847": {
     "model_module": "@jupyter-widgets/controls",
     "model_name": "HBoxModel",
     "state": {
      "_dom_classes": [],
      "_model_module": "@jupyter-widgets/controls",
      "_model_module_version": "1.5.0",
      "_model_name": "HBoxModel",
      "_view_count": null,
      "_view_module": "@jupyter-widgets/controls",
      "_view_module_version": "1.5.0",
      "_view_name": "HBoxView",
      "box_style": "",
      "children": [
       "IPY_MODEL_b9e0ae534c9a427e8c4539387f4a5a47",
       "IPY_MODEL_265c0db54f7b4c1a971ad44543704c6d"
      ],
      "layout": "IPY_MODEL_38fc1a4ef78a4dbe8c1072f5da79c289"
     }
    },
    "7b08ec2ad90b413babf8896007873952": {
     "model_module": "@jupyter-widgets/base",
     "model_name": "LayoutModel",
     "state": {
      "_model_module": "@jupyter-widgets/base",
      "_model_module_version": "1.2.0",
      "_model_name": "LayoutModel",
      "_view_count": null,
      "_view_module": "@jupyter-widgets/base",
      "_view_module_version": "1.2.0",
      "_view_name": "LayoutView",
      "align_content": null,
      "align_items": null,
      "align_self": null,
      "border": null,
      "bottom": null,
      "display": null,
      "flex": null,
      "flex_flow": null,
      "grid_area": null,
      "grid_auto_columns": null,
      "grid_auto_flow": null,
      "grid_auto_rows": null,
      "grid_column": null,
      "grid_gap": null,
      "grid_row": null,
      "grid_template_areas": null,
      "grid_template_columns": null,
      "grid_template_rows": null,
      "height": null,
      "justify_content": null,
      "justify_items": null,
      "left": null,
      "margin": null,
      "max_height": null,
      "max_width": null,
      "min_height": null,
      "min_width": null,
      "object_fit": null,
      "object_position": null,
      "order": null,
      "overflow": null,
      "overflow_x": null,
      "overflow_y": null,
      "padding": null,
      "right": null,
      "top": null,
      "visibility": null,
      "width": null
     }
    },
    "7b358a3d88f94f43860ad64f65bdf903": {
     "model_module": "@jupyter-widgets/controls",
     "model_name": "DescriptionStyleModel",
     "state": {
      "_model_module": "@jupyter-widgets/controls",
      "_model_module_version": "1.5.0",
      "_model_name": "DescriptionStyleModel",
      "_view_count": null,
      "_view_module": "@jupyter-widgets/base",
      "_view_module_version": "1.2.0",
      "_view_name": "StyleView",
      "description_width": ""
     }
    },
    "7ce5507e9bd9429b9db39d8decc969e9": {
     "model_module": "@jupyter-widgets/controls",
     "model_name": "DescriptionStyleModel",
     "state": {
      "_model_module": "@jupyter-widgets/controls",
      "_model_module_version": "1.5.0",
      "_model_name": "DescriptionStyleModel",
      "_view_count": null,
      "_view_module": "@jupyter-widgets/base",
      "_view_module_version": "1.2.0",
      "_view_name": "StyleView",
      "description_width": ""
     }
    },
    "7d08a549996943e89d454d271935a667": {
     "model_module": "@jupyter-widgets/controls",
     "model_name": "ProgressStyleModel",
     "state": {
      "_model_module": "@jupyter-widgets/controls",
      "_model_module_version": "1.5.0",
      "_model_name": "ProgressStyleModel",
      "_view_count": null,
      "_view_module": "@jupyter-widgets/base",
      "_view_module_version": "1.2.0",
      "_view_name": "StyleView",
      "bar_color": null,
      "description_width": "initial"
     }
    },
    "7d5624a2bfa8451e927f549071033cd6": {
     "model_module": "@jupyter-widgets/controls",
     "model_name": "FloatProgressModel",
     "state": {
      "_dom_classes": [],
      "_model_module": "@jupyter-widgets/controls",
      "_model_module_version": "1.5.0",
      "_model_name": "FloatProgressModel",
      "_view_count": null,
      "_view_module": "@jupyter-widgets/controls",
      "_view_module_version": "1.5.0",
      "_view_name": "ProgressView",
      "bar_style": "success",
      "description": "Downloading: 100%",
      "description_tooltip": null,
      "layout": "IPY_MODEL_80ba6d3e601d46b1963768bf643cb7c3",
      "max": 791656,
      "min": 0,
      "orientation": "horizontal",
      "style": "IPY_MODEL_7e143d836eb34399982217becaa0a718",
      "value": 791656
     }
    },
    "7dcf79f9d70648188d2a2a666d6bac20": {
     "model_module": "@jupyter-widgets/controls",
     "model_name": "HBoxModel",
     "state": {
      "_dom_classes": [],
      "_model_module": "@jupyter-widgets/controls",
      "_model_module_version": "1.5.0",
      "_model_name": "HBoxModel",
      "_view_count": null,
      "_view_module": "@jupyter-widgets/controls",
      "_view_module_version": "1.5.0",
      "_view_name": "HBoxView",
      "box_style": "",
      "children": [
       "IPY_MODEL_042f4c39ee144ef9b5343b9263414c85",
       "IPY_MODEL_54cbc07a0ea84ef6b104cfe72622a50d"
      ],
      "layout": "IPY_MODEL_42dc00269b92451ea6691ff97ddd280f"
     }
    },
    "7e143d836eb34399982217becaa0a718": {
     "model_module": "@jupyter-widgets/controls",
     "model_name": "ProgressStyleModel",
     "state": {
      "_model_module": "@jupyter-widgets/controls",
      "_model_module_version": "1.5.0",
      "_model_name": "ProgressStyleModel",
      "_view_count": null,
      "_view_module": "@jupyter-widgets/base",
      "_view_module_version": "1.2.0",
      "_view_name": "StyleView",
      "bar_color": null,
      "description_width": "initial"
     }
    },
    "80ba6d3e601d46b1963768bf643cb7c3": {
     "model_module": "@jupyter-widgets/base",
     "model_name": "LayoutModel",
     "state": {
      "_model_module": "@jupyter-widgets/base",
      "_model_module_version": "1.2.0",
      "_model_name": "LayoutModel",
      "_view_count": null,
      "_view_module": "@jupyter-widgets/base",
      "_view_module_version": "1.2.0",
      "_view_name": "LayoutView",
      "align_content": null,
      "align_items": null,
      "align_self": null,
      "border": null,
      "bottom": null,
      "display": null,
      "flex": null,
      "flex_flow": null,
      "grid_area": null,
      "grid_auto_columns": null,
      "grid_auto_flow": null,
      "grid_auto_rows": null,
      "grid_column": null,
      "grid_gap": null,
      "grid_row": null,
      "grid_template_areas": null,
      "grid_template_columns": null,
      "grid_template_rows": null,
      "height": null,
      "justify_content": null,
      "justify_items": null,
      "left": null,
      "margin": null,
      "max_height": null,
      "max_width": null,
      "min_height": null,
      "min_width": null,
      "object_fit": null,
      "object_position": null,
      "order": null,
      "overflow": null,
      "overflow_x": null,
      "overflow_y": null,
      "padding": null,
      "right": null,
      "top": null,
      "visibility": null,
      "width": null
     }
    },
    "80ec372f7e5046939a601d765a055eae": {
     "model_module": "@jupyter-widgets/base",
     "model_name": "LayoutModel",
     "state": {
      "_model_module": "@jupyter-widgets/base",
      "_model_module_version": "1.2.0",
      "_model_name": "LayoutModel",
      "_view_count": null,
      "_view_module": "@jupyter-widgets/base",
      "_view_module_version": "1.2.0",
      "_view_name": "LayoutView",
      "align_content": null,
      "align_items": null,
      "align_self": null,
      "border": null,
      "bottom": null,
      "display": null,
      "flex": null,
      "flex_flow": null,
      "grid_area": null,
      "grid_auto_columns": null,
      "grid_auto_flow": null,
      "grid_auto_rows": null,
      "grid_column": null,
      "grid_gap": null,
      "grid_row": null,
      "grid_template_areas": null,
      "grid_template_columns": null,
      "grid_template_rows": null,
      "height": null,
      "justify_content": null,
      "justify_items": null,
      "left": null,
      "margin": null,
      "max_height": null,
      "max_width": null,
      "min_height": null,
      "min_width": null,
      "object_fit": null,
      "object_position": null,
      "order": null,
      "overflow": null,
      "overflow_x": null,
      "overflow_y": null,
      "padding": null,
      "right": null,
      "top": null,
      "visibility": null,
      "width": null
     }
    },
    "8962ea2c3cff45b2841f5859760aa186": {
     "model_module": "@jupyter-widgets/controls",
     "model_name": "DescriptionStyleModel",
     "state": {
      "_model_module": "@jupyter-widgets/controls",
      "_model_module_version": "1.5.0",
      "_model_name": "DescriptionStyleModel",
      "_view_count": null,
      "_view_module": "@jupyter-widgets/base",
      "_view_module_version": "1.2.0",
      "_view_name": "StyleView",
      "description_width": ""
     }
    },
    "8aa5e2fd699a4724b2ea5b491b578aeb": {
     "model_module": "@jupyter-widgets/base",
     "model_name": "LayoutModel",
     "state": {
      "_model_module": "@jupyter-widgets/base",
      "_model_module_version": "1.2.0",
      "_model_name": "LayoutModel",
      "_view_count": null,
      "_view_module": "@jupyter-widgets/base",
      "_view_module_version": "1.2.0",
      "_view_name": "LayoutView",
      "align_content": null,
      "align_items": null,
      "align_self": null,
      "border": null,
      "bottom": null,
      "display": null,
      "flex": null,
      "flex_flow": null,
      "grid_area": null,
      "grid_auto_columns": null,
      "grid_auto_flow": null,
      "grid_auto_rows": null,
      "grid_column": null,
      "grid_gap": null,
      "grid_row": null,
      "grid_template_areas": null,
      "grid_template_columns": null,
      "grid_template_rows": null,
      "height": null,
      "justify_content": null,
      "justify_items": null,
      "left": null,
      "margin": null,
      "max_height": null,
      "max_width": null,
      "min_height": null,
      "min_width": null,
      "object_fit": null,
      "object_position": null,
      "order": null,
      "overflow": null,
      "overflow_x": null,
      "overflow_y": null,
      "padding": null,
      "right": null,
      "top": null,
      "visibility": null,
      "width": null
     }
    },
    "8b9a208bd2a1410491b6390f2fd0be60": {
     "model_module": "@jupyter-widgets/base",
     "model_name": "LayoutModel",
     "state": {
      "_model_module": "@jupyter-widgets/base",
      "_model_module_version": "1.2.0",
      "_model_name": "LayoutModel",
      "_view_count": null,
      "_view_module": "@jupyter-widgets/base",
      "_view_module_version": "1.2.0",
      "_view_name": "LayoutView",
      "align_content": null,
      "align_items": null,
      "align_self": null,
      "border": null,
      "bottom": null,
      "display": null,
      "flex": null,
      "flex_flow": null,
      "grid_area": null,
      "grid_auto_columns": null,
      "grid_auto_flow": null,
      "grid_auto_rows": null,
      "grid_column": null,
      "grid_gap": null,
      "grid_row": null,
      "grid_template_areas": null,
      "grid_template_columns": null,
      "grid_template_rows": null,
      "height": null,
      "justify_content": null,
      "justify_items": null,
      "left": null,
      "margin": null,
      "max_height": null,
      "max_width": null,
      "min_height": null,
      "min_width": null,
      "object_fit": null,
      "object_position": null,
      "order": null,
      "overflow": null,
      "overflow_x": null,
      "overflow_y": null,
      "padding": null,
      "right": null,
      "top": null,
      "visibility": null,
      "width": null
     }
    },
    "8ba9bb3f763c40cb8dd194ae665543de": {
     "model_module": "@jupyter-widgets/base",
     "model_name": "LayoutModel",
     "state": {
      "_model_module": "@jupyter-widgets/base",
      "_model_module_version": "1.2.0",
      "_model_name": "LayoutModel",
      "_view_count": null,
      "_view_module": "@jupyter-widgets/base",
      "_view_module_version": "1.2.0",
      "_view_name": "LayoutView",
      "align_content": null,
      "align_items": null,
      "align_self": null,
      "border": null,
      "bottom": null,
      "display": null,
      "flex": null,
      "flex_flow": null,
      "grid_area": null,
      "grid_auto_columns": null,
      "grid_auto_flow": null,
      "grid_auto_rows": null,
      "grid_column": null,
      "grid_gap": null,
      "grid_row": null,
      "grid_template_areas": null,
      "grid_template_columns": null,
      "grid_template_rows": null,
      "height": null,
      "justify_content": null,
      "justify_items": null,
      "left": null,
      "margin": null,
      "max_height": null,
      "max_width": null,
      "min_height": null,
      "min_width": null,
      "object_fit": null,
      "object_position": null,
      "order": null,
      "overflow": null,
      "overflow_x": null,
      "overflow_y": null,
      "padding": null,
      "right": null,
      "top": null,
      "visibility": null,
      "width": null
     }
    },
    "8c07c1932690426a9cf9f4776937a086": {
     "model_module": "@jupyter-widgets/controls",
     "model_name": "DescriptionStyleModel",
     "state": {
      "_model_module": "@jupyter-widgets/controls",
      "_model_module_version": "1.5.0",
      "_model_name": "DescriptionStyleModel",
      "_view_count": null,
      "_view_module": "@jupyter-widgets/base",
      "_view_module_version": "1.2.0",
      "_view_name": "StyleView",
      "description_width": ""
     }
    },
    "8c3e0554bc0e4d059996218c0cef8014": {
     "model_module": "@jupyter-widgets/controls",
     "model_name": "HTMLModel",
     "state": {
      "_dom_classes": [],
      "_model_module": "@jupyter-widgets/controls",
      "_model_module_version": "1.5.0",
      "_model_name": "HTMLModel",
      "_view_count": null,
      "_view_module": "@jupyter-widgets/controls",
      "_view_module_version": "1.5.0",
      "_view_name": "HTMLView",
      "description": "",
      "description_tooltip": null,
      "layout": "IPY_MODEL_50758cc490bb4c85a40bd883b363f102",
      "placeholder": "​",
      "style": "IPY_MODEL_f1e18ebbad6948dd8ac99e981ff85c27",
      "value": " 4602/? [28:18&lt;00:00,  2.71it/s]"
     }
    },
    "8d1f11b55de74d0ab1e0a01cb2868998": {
     "model_module": "@jupyter-widgets/base",
     "model_name": "LayoutModel",
     "state": {
      "_model_module": "@jupyter-widgets/base",
      "_model_module_version": "1.2.0",
      "_model_name": "LayoutModel",
      "_view_count": null,
      "_view_module": "@jupyter-widgets/base",
      "_view_module_version": "1.2.0",
      "_view_name": "LayoutView",
      "align_content": null,
      "align_items": null,
      "align_self": null,
      "border": null,
      "bottom": null,
      "display": null,
      "flex": null,
      "flex_flow": null,
      "grid_area": null,
      "grid_auto_columns": null,
      "grid_auto_flow": null,
      "grid_auto_rows": null,
      "grid_column": null,
      "grid_gap": null,
      "grid_row": null,
      "grid_template_areas": null,
      "grid_template_columns": null,
      "grid_template_rows": null,
      "height": null,
      "justify_content": null,
      "justify_items": null,
      "left": null,
      "margin": null,
      "max_height": null,
      "max_width": null,
      "min_height": null,
      "min_width": null,
      "object_fit": null,
      "object_position": null,
      "order": null,
      "overflow": null,
      "overflow_x": null,
      "overflow_y": null,
      "padding": null,
      "right": null,
      "top": null,
      "visibility": null,
      "width": null
     }
    },
    "8d8e9c8dfeeb47d9afd6aa5c991e0d43": {
     "model_module": "@jupyter-widgets/controls",
     "model_name": "HBoxModel",
     "state": {
      "_dom_classes": [],
      "_model_module": "@jupyter-widgets/controls",
      "_model_module_version": "1.5.0",
      "_model_name": "HBoxModel",
      "_view_count": null,
      "_view_module": "@jupyter-widgets/controls",
      "_view_module_version": "1.5.0",
      "_view_name": "HBoxView",
      "box_style": "",
      "children": [
       "IPY_MODEL_bc2d17d0310341da87df37df1ed126ef",
       "IPY_MODEL_06be356d8e6742d38fc1232c7efcda6f"
      ],
      "layout": "IPY_MODEL_0d7df561e128438ba00e5de50cc05aaf"
     }
    },
    "8da1fd0274234d93ab8e65be5b1e8991": {
     "model_module": "@jupyter-widgets/controls",
     "model_name": "FloatProgressModel",
     "state": {
      "_dom_classes": [],
      "_model_module": "@jupyter-widgets/controls",
      "_model_module_version": "1.5.0",
      "_model_name": "FloatProgressModel",
      "_view_count": null,
      "_view_module": "@jupyter-widgets/controls",
      "_view_module_version": "1.5.0",
      "_view_name": "ProgressView",
      "bar_style": "success",
      "description": "Training: ",
      "description_tooltip": null,
      "layout": "IPY_MODEL_03c11990b6dc4a039e20920aaafeacaf",
      "max": 1,
      "min": 0,
      "orientation": "horizontal",
      "style": "IPY_MODEL_6f88bcbe34a24a4b8e3e77936d304208",
      "value": 1
     }
    },
    "8ed529b9290044429d07d9e10de40f9e": {
     "model_module": "@jupyter-widgets/controls",
     "model_name": "FloatProgressModel",
     "state": {
      "_dom_classes": [],
      "_model_module": "@jupyter-widgets/controls",
      "_model_module_version": "1.5.0",
      "_model_name": "FloatProgressModel",
      "_view_count": null,
      "_view_module": "@jupyter-widgets/controls",
      "_view_module_version": "1.5.0",
      "_view_name": "ProgressView",
      "bar_style": "success",
      "description": "Training: ",
      "description_tooltip": null,
      "layout": "IPY_MODEL_74aff11befe4428dae1972631dcd6436",
      "max": 1,
      "min": 0,
      "orientation": "horizontal",
      "style": "IPY_MODEL_378e0e90c87a433ebf1099c17a5cf9ce",
      "value": 1
     }
    },
    "8f2d2a8a3b8d4f1c8552d5173ba248c3": {
     "model_module": "@jupyter-widgets/controls",
     "model_name": "HBoxModel",
     "state": {
      "_dom_classes": [],
      "_model_module": "@jupyter-widgets/controls",
      "_model_module_version": "1.5.0",
      "_model_name": "HBoxModel",
      "_view_count": null,
      "_view_module": "@jupyter-widgets/controls",
      "_view_module_version": "1.5.0",
      "_view_name": "HBoxView",
      "box_style": "",
      "children": [
       "IPY_MODEL_741f67bd267444b09d7d8d3190f54d98",
       "IPY_MODEL_fb7b6712addd4b5584a9eb37435a773c"
      ],
      "layout": "IPY_MODEL_76f992bc156549edb2502828804b3639"
     }
    },
    "8f3744077eee404296900866fef935b0": {
     "model_module": "@jupyter-widgets/controls",
     "model_name": "HTMLModel",
     "state": {
      "_dom_classes": [],
      "_model_module": "@jupyter-widgets/controls",
      "_model_module_version": "1.5.0",
      "_model_name": "HTMLModel",
      "_view_count": null,
      "_view_module": "@jupyter-widgets/controls",
      "_view_module_version": "1.5.0",
      "_view_name": "HTMLView",
      "description": "",
      "description_tooltip": null,
      "layout": "IPY_MODEL_99daf465e4a74ea29874b092f2bd730c",
      "placeholder": "​",
      "style": "IPY_MODEL_39be9ea8e27b4542923b7e7ea660c067",
      "value": " 1.20k/1.20k [00:20&lt;00:00, 59.6B/s]"
     }
    },
    "924a32c074514827ac6f1ddc2a75abdc": {
     "model_module": "@jupyter-widgets/controls",
     "model_name": "DescriptionStyleModel",
     "state": {
      "_model_module": "@jupyter-widgets/controls",
      "_model_module_version": "1.5.0",
      "_model_name": "DescriptionStyleModel",
      "_view_count": null,
      "_view_module": "@jupyter-widgets/base",
      "_view_module_version": "1.2.0",
      "_view_name": "StyleView",
      "description_width": ""
     }
    },
    "9779dbc8908c4e03876e0191e2a9a4d1": {
     "model_module": "@jupyter-widgets/controls",
     "model_name": "HTMLModel",
     "state": {
      "_dom_classes": [],
      "_model_module": "@jupyter-widgets/controls",
      "_model_module_version": "1.5.0",
      "_model_name": "HTMLModel",
      "_view_count": null,
      "_view_module": "@jupyter-widgets/controls",
      "_view_module_version": "1.5.0",
      "_view_name": "HTMLView",
      "description": "",
      "description_tooltip": null,
      "layout": "IPY_MODEL_d4f2be3fdb3e4fdc8bc65b5dbe4943b0",
      "placeholder": "​",
      "style": "IPY_MODEL_608aedb386534d9996f1f39cd31c84d5",
      "value": " 892M/892M [00:19&lt;00:00, 45.2MB/s]"
     }
    },
    "98c067077f51488e82b566159e31718a": {
     "model_module": "@jupyter-widgets/base",
     "model_name": "LayoutModel",
     "state": {
      "_model_module": "@jupyter-widgets/base",
      "_model_module_version": "1.2.0",
      "_model_name": "LayoutModel",
      "_view_count": null,
      "_view_module": "@jupyter-widgets/base",
      "_view_module_version": "1.2.0",
      "_view_name": "LayoutView",
      "align_content": null,
      "align_items": null,
      "align_self": null,
      "border": null,
      "bottom": null,
      "display": null,
      "flex": null,
      "flex_flow": null,
      "grid_area": null,
      "grid_auto_columns": null,
      "grid_auto_flow": null,
      "grid_auto_rows": null,
      "grid_column": null,
      "grid_gap": null,
      "grid_row": null,
      "grid_template_areas": null,
      "grid_template_columns": null,
      "grid_template_rows": null,
      "height": null,
      "justify_content": null,
      "justify_items": null,
      "left": null,
      "margin": null,
      "max_height": null,
      "max_width": null,
      "min_height": null,
      "min_width": null,
      "object_fit": null,
      "object_position": null,
      "order": null,
      "overflow": null,
      "overflow_x": null,
      "overflow_y": null,
      "padding": null,
      "right": null,
      "top": null,
      "visibility": null,
      "width": null
     }
    },
    "99daf465e4a74ea29874b092f2bd730c": {
     "model_module": "@jupyter-widgets/base",
     "model_name": "LayoutModel",
     "state": {
      "_model_module": "@jupyter-widgets/base",
      "_model_module_version": "1.2.0",
      "_model_name": "LayoutModel",
      "_view_count": null,
      "_view_module": "@jupyter-widgets/base",
      "_view_module_version": "1.2.0",
      "_view_name": "LayoutView",
      "align_content": null,
      "align_items": null,
      "align_self": null,
      "border": null,
      "bottom": null,
      "display": null,
      "flex": null,
      "flex_flow": null,
      "grid_area": null,
      "grid_auto_columns": null,
      "grid_auto_flow": null,
      "grid_auto_rows": null,
      "grid_column": null,
      "grid_gap": null,
      "grid_row": null,
      "grid_template_areas": null,
      "grid_template_columns": null,
      "grid_template_rows": null,
      "height": null,
      "justify_content": null,
      "justify_items": null,
      "left": null,
      "margin": null,
      "max_height": null,
      "max_width": null,
      "min_height": null,
      "min_width": null,
      "object_fit": null,
      "object_position": null,
      "order": null,
      "overflow": null,
      "overflow_x": null,
      "overflow_y": null,
      "padding": null,
      "right": null,
      "top": null,
      "visibility": null,
      "width": null
     }
    },
    "9a0e41a5af0e49a1bde9e33bd48477e4": {
     "model_module": "@jupyter-widgets/controls",
     "model_name": "DescriptionStyleModel",
     "state": {
      "_model_module": "@jupyter-widgets/controls",
      "_model_module_version": "1.5.0",
      "_model_name": "DescriptionStyleModel",
      "_view_count": null,
      "_view_module": "@jupyter-widgets/base",
      "_view_module_version": "1.2.0",
      "_view_name": "StyleView",
      "description_width": ""
     }
    },
    "9bef33063b47436cb741cfdfd228f35a": {
     "model_module": "@jupyter-widgets/controls",
     "model_name": "FloatProgressModel",
     "state": {
      "_dom_classes": [],
      "_model_module": "@jupyter-widgets/controls",
      "_model_module_version": "1.5.0",
      "_model_name": "FloatProgressModel",
      "_view_count": null,
      "_view_module": "@jupyter-widgets/controls",
      "_view_module_version": "1.5.0",
      "_view_name": "ProgressView",
      "bar_style": "success",
      "description": "Downloading: 100%",
      "description_tooltip": null,
      "layout": "IPY_MODEL_4618c73c15fb4639aa5d50bcace156ff",
      "max": 892146080,
      "min": 0,
      "orientation": "horizontal",
      "style": "IPY_MODEL_b2c8af5414f547ff8a4e091b9b279546",
      "value": 892146080
     }
    },
    "9d403ea216e74d13b58420ddc497474a": {
     "model_module": "@jupyter-widgets/controls",
     "model_name": "FloatProgressModel",
     "state": {
      "_dom_classes": [],
      "_model_module": "@jupyter-widgets/controls",
      "_model_module_version": "1.5.0",
      "_model_name": "FloatProgressModel",
      "_view_count": null,
      "_view_module": "@jupyter-widgets/controls",
      "_view_module_version": "1.5.0",
      "_view_name": "ProgressView",
      "bar_style": "success",
      "description": "Evaluating: ",
      "description_tooltip": null,
      "layout": "IPY_MODEL_ec3ed7a570a3490fba72b33ae23ea637",
      "max": 1,
      "min": 0,
      "orientation": "horizontal",
      "style": "IPY_MODEL_fcfce4d91c0f4d4aba725ca74307969e",
      "value": 1
     }
    },
    "9e54f8b8af3a46268bb5295c6cce82a7": {
     "model_module": "@jupyter-widgets/base",
     "model_name": "LayoutModel",
     "state": {
      "_model_module": "@jupyter-widgets/base",
      "_model_module_version": "1.2.0",
      "_model_name": "LayoutModel",
      "_view_count": null,
      "_view_module": "@jupyter-widgets/base",
      "_view_module_version": "1.2.0",
      "_view_name": "LayoutView",
      "align_content": null,
      "align_items": null,
      "align_self": null,
      "border": null,
      "bottom": null,
      "display": null,
      "flex": null,
      "flex_flow": null,
      "grid_area": null,
      "grid_auto_columns": null,
      "grid_auto_flow": null,
      "grid_auto_rows": null,
      "grid_column": null,
      "grid_gap": null,
      "grid_row": null,
      "grid_template_areas": null,
      "grid_template_columns": null,
      "grid_template_rows": null,
      "height": null,
      "justify_content": null,
      "justify_items": null,
      "left": null,
      "margin": null,
      "max_height": null,
      "max_width": null,
      "min_height": null,
      "min_width": null,
      "object_fit": null,
      "object_position": null,
      "order": null,
      "overflow": null,
      "overflow_x": null,
      "overflow_y": null,
      "padding": null,
      "right": null,
      "top": null,
      "visibility": null,
      "width": null
     }
    },
    "9f7ae33f5b0a4ab7bf482a81448fcd36": {
     "model_module": "@jupyter-widgets/base",
     "model_name": "LayoutModel",
     "state": {
      "_model_module": "@jupyter-widgets/base",
      "_model_module_version": "1.2.0",
      "_model_name": "LayoutModel",
      "_view_count": null,
      "_view_module": "@jupyter-widgets/base",
      "_view_module_version": "1.2.0",
      "_view_name": "LayoutView",
      "align_content": null,
      "align_items": null,
      "align_self": null,
      "border": null,
      "bottom": null,
      "display": null,
      "flex": null,
      "flex_flow": null,
      "grid_area": null,
      "grid_auto_columns": null,
      "grid_auto_flow": null,
      "grid_auto_rows": null,
      "grid_column": null,
      "grid_gap": null,
      "grid_row": null,
      "grid_template_areas": null,
      "grid_template_columns": null,
      "grid_template_rows": null,
      "height": null,
      "justify_content": null,
      "justify_items": null,
      "left": null,
      "margin": null,
      "max_height": null,
      "max_width": null,
      "min_height": null,
      "min_width": null,
      "object_fit": null,
      "object_position": null,
      "order": null,
      "overflow": null,
      "overflow_x": null,
      "overflow_y": null,
      "padding": null,
      "right": null,
      "top": null,
      "visibility": null,
      "width": null
     }
    },
    "9f987abcc977490aab3e9b6fc872264e": {
     "model_module": "@jupyter-widgets/base",
     "model_name": "LayoutModel",
     "state": {
      "_model_module": "@jupyter-widgets/base",
      "_model_module_version": "1.2.0",
      "_model_name": "LayoutModel",
      "_view_count": null,
      "_view_module": "@jupyter-widgets/base",
      "_view_module_version": "1.2.0",
      "_view_name": "LayoutView",
      "align_content": null,
      "align_items": null,
      "align_self": null,
      "border": null,
      "bottom": null,
      "display": null,
      "flex": null,
      "flex_flow": null,
      "grid_area": null,
      "grid_auto_columns": null,
      "grid_auto_flow": null,
      "grid_auto_rows": null,
      "grid_column": null,
      "grid_gap": null,
      "grid_row": null,
      "grid_template_areas": null,
      "grid_template_columns": null,
      "grid_template_rows": null,
      "height": null,
      "justify_content": null,
      "justify_items": null,
      "left": null,
      "margin": null,
      "max_height": null,
      "max_width": null,
      "min_height": null,
      "min_width": null,
      "object_fit": null,
      "object_position": null,
      "order": null,
      "overflow": null,
      "overflow_x": null,
      "overflow_y": null,
      "padding": null,
      "right": null,
      "top": null,
      "visibility": null,
      "width": null
     }
    },
    "a21548a0ca784cae9cfd15230daaad6c": {
     "model_module": "@jupyter-widgets/controls",
     "model_name": "FloatProgressModel",
     "state": {
      "_dom_classes": [],
      "_model_module": "@jupyter-widgets/controls",
      "_model_module_version": "1.5.0",
      "_model_name": "FloatProgressModel",
      "_view_count": null,
      "_view_module": "@jupyter-widgets/controls",
      "_view_module_version": "1.5.0",
      "_view_name": "ProgressView",
      "bar_style": "success",
      "description": "Training: ",
      "description_tooltip": null,
      "layout": "IPY_MODEL_ead4c99375c84146971285b3b1ecdb05",
      "max": 1,
      "min": 0,
      "orientation": "horizontal",
      "style": "IPY_MODEL_fc9ac6c7ec0d4770b718ab1601e95e98",
      "value": 1
     }
    },
    "a3abdd4afd7240b1afe30a31aba10116": {
     "model_module": "@jupyter-widgets/controls",
     "model_name": "ProgressStyleModel",
     "state": {
      "_model_module": "@jupyter-widgets/controls",
      "_model_module_version": "1.5.0",
      "_model_name": "ProgressStyleModel",
      "_view_count": null,
      "_view_module": "@jupyter-widgets/base",
      "_view_module_version": "1.2.0",
      "_view_name": "StyleView",
      "bar_color": null,
      "description_width": "initial"
     }
    },
    "a4a7c284a2c347bc9169f3657b8006fd": {
     "model_module": "@jupyter-widgets/controls",
     "model_name": "FloatProgressModel",
     "state": {
      "_dom_classes": [],
      "_model_module": "@jupyter-widgets/controls",
      "_model_module_version": "1.5.0",
      "_model_name": "FloatProgressModel",
      "_view_count": null,
      "_view_module": "@jupyter-widgets/controls",
      "_view_module_version": "1.5.0",
      "_view_name": "ProgressView",
      "bar_style": "success",
      "description": "Training: ",
      "description_tooltip": null,
      "layout": "IPY_MODEL_3762fb07ed794a22a790b1dd24e5679b",
      "max": 1,
      "min": 0,
      "orientation": "horizontal",
      "style": "IPY_MODEL_c558f86237924d52856b05cedea6e4a2",
      "value": 1
     }
    },
    "a58b2f18025d4330ba48096095cfba0e": {
     "model_module": "@jupyter-widgets/base",
     "model_name": "LayoutModel",
     "state": {
      "_model_module": "@jupyter-widgets/base",
      "_model_module_version": "1.2.0",
      "_model_name": "LayoutModel",
      "_view_count": null,
      "_view_module": "@jupyter-widgets/base",
      "_view_module_version": "1.2.0",
      "_view_name": "LayoutView",
      "align_content": null,
      "align_items": null,
      "align_self": null,
      "border": null,
      "bottom": null,
      "display": null,
      "flex": null,
      "flex_flow": null,
      "grid_area": null,
      "grid_auto_columns": null,
      "grid_auto_flow": null,
      "grid_auto_rows": null,
      "grid_column": null,
      "grid_gap": null,
      "grid_row": null,
      "grid_template_areas": null,
      "grid_template_columns": null,
      "grid_template_rows": null,
      "height": null,
      "justify_content": null,
      "justify_items": null,
      "left": null,
      "margin": null,
      "max_height": null,
      "max_width": null,
      "min_height": null,
      "min_width": null,
      "object_fit": null,
      "object_position": null,
      "order": null,
      "overflow": null,
      "overflow_x": null,
      "overflow_y": null,
      "padding": null,
      "right": null,
      "top": null,
      "visibility": null,
      "width": null
     }
    },
    "a6aa2deb412c4c3fa00737f0b6fce8aa": {
     "model_module": "@jupyter-widgets/base",
     "model_name": "LayoutModel",
     "state": {
      "_model_module": "@jupyter-widgets/base",
      "_model_module_version": "1.2.0",
      "_model_name": "LayoutModel",
      "_view_count": null,
      "_view_module": "@jupyter-widgets/base",
      "_view_module_version": "1.2.0",
      "_view_name": "LayoutView",
      "align_content": null,
      "align_items": null,
      "align_self": null,
      "border": null,
      "bottom": null,
      "display": null,
      "flex": null,
      "flex_flow": null,
      "grid_area": null,
      "grid_auto_columns": null,
      "grid_auto_flow": null,
      "grid_auto_rows": null,
      "grid_column": null,
      "grid_gap": null,
      "grid_row": null,
      "grid_template_areas": null,
      "grid_template_columns": null,
      "grid_template_rows": null,
      "height": null,
      "justify_content": null,
      "justify_items": null,
      "left": null,
      "margin": null,
      "max_height": null,
      "max_width": null,
      "min_height": null,
      "min_width": null,
      "object_fit": null,
      "object_position": null,
      "order": null,
      "overflow": null,
      "overflow_x": null,
      "overflow_y": null,
      "padding": null,
      "right": null,
      "top": null,
      "visibility": null,
      "width": null
     }
    },
    "a734529d129a4b5eba73b73a442a077b": {
     "model_module": "@jupyter-widgets/base",
     "model_name": "LayoutModel",
     "state": {
      "_model_module": "@jupyter-widgets/base",
      "_model_module_version": "1.2.0",
      "_model_name": "LayoutModel",
      "_view_count": null,
      "_view_module": "@jupyter-widgets/base",
      "_view_module_version": "1.2.0",
      "_view_name": "LayoutView",
      "align_content": null,
      "align_items": null,
      "align_self": null,
      "border": null,
      "bottom": null,
      "display": null,
      "flex": null,
      "flex_flow": null,
      "grid_area": null,
      "grid_auto_columns": null,
      "grid_auto_flow": null,
      "grid_auto_rows": null,
      "grid_column": null,
      "grid_gap": null,
      "grid_row": null,
      "grid_template_areas": null,
      "grid_template_columns": null,
      "grid_template_rows": null,
      "height": null,
      "justify_content": null,
      "justify_items": null,
      "left": null,
      "margin": null,
      "max_height": null,
      "max_width": null,
      "min_height": null,
      "min_width": null,
      "object_fit": null,
      "object_position": null,
      "order": null,
      "overflow": null,
      "overflow_x": null,
      "overflow_y": null,
      "padding": null,
      "right": null,
      "top": null,
      "visibility": null,
      "width": null
     }
    },
    "a7b624bcd821433ca49e5b51438c49eb": {
     "model_module": "@jupyter-widgets/controls",
     "model_name": "ProgressStyleModel",
     "state": {
      "_model_module": "@jupyter-widgets/controls",
      "_model_module_version": "1.5.0",
      "_model_name": "ProgressStyleModel",
      "_view_count": null,
      "_view_module": "@jupyter-widgets/base",
      "_view_module_version": "1.2.0",
      "_view_name": "StyleView",
      "bar_color": null,
      "description_width": "initial"
     }
    },
    "aa13873a0b324a02b4230600531cd580": {
     "model_module": "@jupyter-widgets/controls",
     "model_name": "ProgressStyleModel",
     "state": {
      "_model_module": "@jupyter-widgets/controls",
      "_model_module_version": "1.5.0",
      "_model_name": "ProgressStyleModel",
      "_view_count": null,
      "_view_module": "@jupyter-widgets/base",
      "_view_module_version": "1.2.0",
      "_view_name": "StyleView",
      "bar_color": null,
      "description_width": "initial"
     }
    },
    "aa5cff08816c4b4e982350f353b1c169": {
     "model_module": "@jupyter-widgets/controls",
     "model_name": "DescriptionStyleModel",
     "state": {
      "_model_module": "@jupyter-widgets/controls",
      "_model_module_version": "1.5.0",
      "_model_name": "DescriptionStyleModel",
      "_view_count": null,
      "_view_module": "@jupyter-widgets/base",
      "_view_module_version": "1.2.0",
      "_view_name": "StyleView",
      "description_width": ""
     }
    },
    "ac47251ee9de49dbba87b1f7ac49e2af": {
     "model_module": "@jupyter-widgets/base",
     "model_name": "LayoutModel",
     "state": {
      "_model_module": "@jupyter-widgets/base",
      "_model_module_version": "1.2.0",
      "_model_name": "LayoutModel",
      "_view_count": null,
      "_view_module": "@jupyter-widgets/base",
      "_view_module_version": "1.2.0",
      "_view_name": "LayoutView",
      "align_content": null,
      "align_items": null,
      "align_self": null,
      "border": null,
      "bottom": null,
      "display": null,
      "flex": null,
      "flex_flow": null,
      "grid_area": null,
      "grid_auto_columns": null,
      "grid_auto_flow": null,
      "grid_auto_rows": null,
      "grid_column": null,
      "grid_gap": null,
      "grid_row": null,
      "grid_template_areas": null,
      "grid_template_columns": null,
      "grid_template_rows": null,
      "height": null,
      "justify_content": null,
      "justify_items": null,
      "left": null,
      "margin": null,
      "max_height": null,
      "max_width": null,
      "min_height": null,
      "min_width": null,
      "object_fit": null,
      "object_position": null,
      "order": null,
      "overflow": null,
      "overflow_x": null,
      "overflow_y": null,
      "padding": null,
      "right": null,
      "top": null,
      "visibility": null,
      "width": null
     }
    },
    "acc7351d1332485d97e56757e05013c0": {
     "model_module": "@jupyter-widgets/controls",
     "model_name": "HTMLModel",
     "state": {
      "_dom_classes": [],
      "_model_module": "@jupyter-widgets/controls",
      "_model_module_version": "1.5.0",
      "_model_name": "HTMLModel",
      "_view_count": null,
      "_view_module": "@jupyter-widgets/controls",
      "_view_module_version": "1.5.0",
      "_view_name": "HTMLView",
      "description": "",
      "description_tooltip": null,
      "layout": "IPY_MODEL_5bb6faf0cf594c2e8f9f98bbe31eb9b8",
      "placeholder": "​",
      "style": "IPY_MODEL_77f36a20d3cf465e94789b743ce2bc9e",
      "value": " 4602/? [27:58&lt;00:00,  2.74it/s]"
     }
    },
    "af07bd05722f40f5aff9f773238947b0": {
     "model_module": "@jupyter-widgets/controls",
     "model_name": "FloatProgressModel",
     "state": {
      "_dom_classes": [],
      "_model_module": "@jupyter-widgets/controls",
      "_model_module_version": "1.5.0",
      "_model_name": "FloatProgressModel",
      "_view_count": null,
      "_view_module": "@jupyter-widgets/controls",
      "_view_module_version": "1.5.0",
      "_view_name": "ProgressView",
      "bar_style": "success",
      "description": "Training: ",
      "description_tooltip": null,
      "layout": "IPY_MODEL_6fd86e604e0a4f07a3f2b32822bcba5d",
      "max": 1,
      "min": 0,
      "orientation": "horizontal",
      "style": "IPY_MODEL_a3abdd4afd7240b1afe30a31aba10116",
      "value": 1
     }
    },
    "af924e18a51842be93e963e72a97fc9a": {
     "model_module": "@jupyter-widgets/controls",
     "model_name": "ProgressStyleModel",
     "state": {
      "_model_module": "@jupyter-widgets/controls",
      "_model_module_version": "1.5.0",
      "_model_name": "ProgressStyleModel",
      "_view_count": null,
      "_view_module": "@jupyter-widgets/base",
      "_view_module_version": "1.2.0",
      "_view_name": "StyleView",
      "bar_color": null,
      "description_width": "initial"
     }
    },
    "afd956b3b06c491980ebc2f18cafffed": {
     "model_module": "@jupyter-widgets/controls",
     "model_name": "HTMLModel",
     "state": {
      "_dom_classes": [],
      "_model_module": "@jupyter-widgets/controls",
      "_model_module_version": "1.5.0",
      "_model_name": "HTMLModel",
      "_view_count": null,
      "_view_module": "@jupyter-widgets/controls",
      "_view_module_version": "1.5.0",
      "_view_name": "HTMLView",
      "description": "",
      "description_tooltip": null,
      "layout": "IPY_MODEL_142b1b3db88043c1b210796aacd5d145",
      "placeholder": "​",
      "style": "IPY_MODEL_bafdb79307894d93972b2e4eef029b3f",
      "value": " 4602/? [28:04&lt;00:00,  2.73it/s]"
     }
    },
    "b001cfadd170464f947ecf0f930a7108": {
     "model_module": "@jupyter-widgets/controls",
     "model_name": "ProgressStyleModel",
     "state": {
      "_model_module": "@jupyter-widgets/controls",
      "_model_module_version": "1.5.0",
      "_model_name": "ProgressStyleModel",
      "_view_count": null,
      "_view_module": "@jupyter-widgets/base",
      "_view_module_version": "1.2.0",
      "_view_name": "StyleView",
      "bar_color": null,
      "description_width": "initial"
     }
    },
    "b0603c82392547cc9073bcd7dfccf00c": {
     "model_module": "@jupyter-widgets/controls",
     "model_name": "HTMLModel",
     "state": {
      "_dom_classes": [],
      "_model_module": "@jupyter-widgets/controls",
      "_model_module_version": "1.5.0",
      "_model_name": "HTMLModel",
      "_view_count": null,
      "_view_module": "@jupyter-widgets/controls",
      "_view_module_version": "1.5.0",
      "_view_name": "HTMLView",
      "description": "",
      "description_tooltip": null,
      "layout": "IPY_MODEL_ceb3d1b301254373947306547cabea0a",
      "placeholder": "​",
      "style": "IPY_MODEL_7b358a3d88f94f43860ad64f65bdf903",
      "value": " 238/? [00:31&lt;00:00,  7.52it/s]"
     }
    },
    "b112aabde12f496e8d4c7e390e663b7d": {
     "model_module": "@jupyter-widgets/controls",
     "model_name": "HBoxModel",
     "state": {
      "_dom_classes": [],
      "_model_module": "@jupyter-widgets/controls",
      "_model_module_version": "1.5.0",
      "_model_name": "HBoxModel",
      "_view_count": null,
      "_view_module": "@jupyter-widgets/controls",
      "_view_module_version": "1.5.0",
      "_view_name": "HBoxView",
      "box_style": "",
      "children": [
       "IPY_MODEL_73508b14d272485c95cab434d2185877",
       "IPY_MODEL_acc7351d1332485d97e56757e05013c0"
      ],
      "layout": "IPY_MODEL_3e29b93b447946309cf567b83222a1fd"
     }
    },
    "b2c8af5414f547ff8a4e091b9b279546": {
     "model_module": "@jupyter-widgets/controls",
     "model_name": "ProgressStyleModel",
     "state": {
      "_model_module": "@jupyter-widgets/controls",
      "_model_module_version": "1.5.0",
      "_model_name": "ProgressStyleModel",
      "_view_count": null,
      "_view_module": "@jupyter-widgets/base",
      "_view_module_version": "1.2.0",
      "_view_name": "StyleView",
      "bar_color": null,
      "description_width": "initial"
     }
    },
    "b6395a00cc874dfe850cbf90536b413b": {
     "model_module": "@jupyter-widgets/controls",
     "model_name": "HTMLModel",
     "state": {
      "_dom_classes": [],
      "_model_module": "@jupyter-widgets/controls",
      "_model_module_version": "1.5.0",
      "_model_name": "HTMLModel",
      "_view_count": null,
      "_view_module": "@jupyter-widgets/controls",
      "_view_module_version": "1.5.0",
      "_view_name": "HTMLView",
      "description": "",
      "description_tooltip": null,
      "layout": "IPY_MODEL_9e54f8b8af3a46268bb5295c6cce82a7",
      "placeholder": "​",
      "style": "IPY_MODEL_8962ea2c3cff45b2841f5859760aa186",
      "value": " 238/? [00:31&lt;00:00,  7.60it/s]"
     }
    },
    "b9e0ae534c9a427e8c4539387f4a5a47": {
     "model_module": "@jupyter-widgets/controls",
     "model_name": "FloatProgressModel",
     "state": {
      "_dom_classes": [],
      "_model_module": "@jupyter-widgets/controls",
      "_model_module_version": "1.5.0",
      "_model_name": "FloatProgressModel",
      "_view_count": null,
      "_view_module": "@jupyter-widgets/controls",
      "_view_module_version": "1.5.0",
      "_view_name": "ProgressView",
      "bar_style": "success",
      "description": "Evaluating: ",
      "description_tooltip": null,
      "layout": "IPY_MODEL_cf73f4eac6df4caa8fcf7df68a0006ac",
      "max": 1,
      "min": 0,
      "orientation": "horizontal",
      "style": "IPY_MODEL_b001cfadd170464f947ecf0f930a7108",
      "value": 1
     }
    },
    "bafdb79307894d93972b2e4eef029b3f": {
     "model_module": "@jupyter-widgets/controls",
     "model_name": "DescriptionStyleModel",
     "state": {
      "_model_module": "@jupyter-widgets/controls",
      "_model_module_version": "1.5.0",
      "_model_name": "DescriptionStyleModel",
      "_view_count": null,
      "_view_module": "@jupyter-widgets/base",
      "_view_module_version": "1.2.0",
      "_view_name": "StyleView",
      "description_width": ""
     }
    },
    "bb22997a6d844593a3d3b9025ab17902": {
     "model_module": "@jupyter-widgets/controls",
     "model_name": "ProgressStyleModel",
     "state": {
      "_model_module": "@jupyter-widgets/controls",
      "_model_module_version": "1.5.0",
      "_model_name": "ProgressStyleModel",
      "_view_count": null,
      "_view_module": "@jupyter-widgets/base",
      "_view_module_version": "1.2.0",
      "_view_name": "StyleView",
      "bar_color": null,
      "description_width": "initial"
     }
    },
    "bc2d17d0310341da87df37df1ed126ef": {
     "model_module": "@jupyter-widgets/controls",
     "model_name": "FloatProgressModel",
     "state": {
      "_dom_classes": [],
      "_model_module": "@jupyter-widgets/controls",
      "_model_module_version": "1.5.0",
      "_model_name": "FloatProgressModel",
      "_view_count": null,
      "_view_module": "@jupyter-widgets/controls",
      "_view_module_version": "1.5.0",
      "_view_name": "ProgressView",
      "bar_style": "success",
      "description": "Training: ",
      "description_tooltip": null,
      "layout": "IPY_MODEL_645faa79b1ad4264a531bfaa2b704f95",
      "max": 1,
      "min": 0,
      "orientation": "horizontal",
      "style": "IPY_MODEL_a7b624bcd821433ca49e5b51438c49eb",
      "value": 1
     }
    },
    "bc6feb2f5c5a472092e9907e1d1457c5": {
     "model_module": "@jupyter-widgets/controls",
     "model_name": "HBoxModel",
     "state": {
      "_dom_classes": [],
      "_model_module": "@jupyter-widgets/controls",
      "_model_module_version": "1.5.0",
      "_model_name": "HBoxModel",
      "_view_count": null,
      "_view_module": "@jupyter-widgets/controls",
      "_view_module_version": "1.5.0",
      "_view_name": "HBoxView",
      "box_style": "",
      "children": [
       "IPY_MODEL_8ed529b9290044429d07d9e10de40f9e",
       "IPY_MODEL_076e8c67aa9d4abaa03e28e10bab9a10"
      ],
      "layout": "IPY_MODEL_f546d5556b7b4fc093ace359339d3082"
     }
    },
    "c0798860f98f4f51a2a35a0205f7b453": {
     "model_module": "@jupyter-widgets/base",
     "model_name": "LayoutModel",
     "state": {
      "_model_module": "@jupyter-widgets/base",
      "_model_module_version": "1.2.0",
      "_model_name": "LayoutModel",
      "_view_count": null,
      "_view_module": "@jupyter-widgets/base",
      "_view_module_version": "1.2.0",
      "_view_name": "LayoutView",
      "align_content": null,
      "align_items": null,
      "align_self": null,
      "border": null,
      "bottom": null,
      "display": null,
      "flex": null,
      "flex_flow": null,
      "grid_area": null,
      "grid_auto_columns": null,
      "grid_auto_flow": null,
      "grid_auto_rows": null,
      "grid_column": null,
      "grid_gap": null,
      "grid_row": null,
      "grid_template_areas": null,
      "grid_template_columns": null,
      "grid_template_rows": null,
      "height": null,
      "justify_content": null,
      "justify_items": null,
      "left": null,
      "margin": null,
      "max_height": null,
      "max_width": null,
      "min_height": null,
      "min_width": null,
      "object_fit": null,
      "object_position": null,
      "order": null,
      "overflow": null,
      "overflow_x": null,
      "overflow_y": null,
      "padding": null,
      "right": null,
      "top": null,
      "visibility": null,
      "width": null
     }
    },
    "c09d8eb15bf14cdd8b205d936890c269": {
     "model_module": "@jupyter-widgets/controls",
     "model_name": "HBoxModel",
     "state": {
      "_dom_classes": [],
      "_model_module": "@jupyter-widgets/controls",
      "_model_module_version": "1.5.0",
      "_model_name": "HBoxModel",
      "_view_count": null,
      "_view_module": "@jupyter-widgets/controls",
      "_view_module_version": "1.5.0",
      "_view_name": "HBoxView",
      "box_style": "",
      "children": [
       "IPY_MODEL_29776b2a18ef4452b6085ce27b6f1b4c",
       "IPY_MODEL_c5a923896b0f4ea8b5b60359ee359cf1"
      ],
      "layout": "IPY_MODEL_8d1f11b55de74d0ab1e0a01cb2868998"
     }
    },
    "c37cd947751b45389101aabb87a1a043": {
     "model_module": "@jupyter-widgets/base",
     "model_name": "LayoutModel",
     "state": {
      "_model_module": "@jupyter-widgets/base",
      "_model_module_version": "1.2.0",
      "_model_name": "LayoutModel",
      "_view_count": null,
      "_view_module": "@jupyter-widgets/base",
      "_view_module_version": "1.2.0",
      "_view_name": "LayoutView",
      "align_content": null,
      "align_items": null,
      "align_self": null,
      "border": null,
      "bottom": null,
      "display": null,
      "flex": null,
      "flex_flow": null,
      "grid_area": null,
      "grid_auto_columns": null,
      "grid_auto_flow": null,
      "grid_auto_rows": null,
      "grid_column": null,
      "grid_gap": null,
      "grid_row": null,
      "grid_template_areas": null,
      "grid_template_columns": null,
      "grid_template_rows": null,
      "height": null,
      "justify_content": null,
      "justify_items": null,
      "left": null,
      "margin": null,
      "max_height": null,
      "max_width": null,
      "min_height": null,
      "min_width": null,
      "object_fit": null,
      "object_position": null,
      "order": null,
      "overflow": null,
      "overflow_x": null,
      "overflow_y": null,
      "padding": null,
      "right": null,
      "top": null,
      "visibility": null,
      "width": null
     }
    },
    "c558f86237924d52856b05cedea6e4a2": {
     "model_module": "@jupyter-widgets/controls",
     "model_name": "ProgressStyleModel",
     "state": {
      "_model_module": "@jupyter-widgets/controls",
      "_model_module_version": "1.5.0",
      "_model_name": "ProgressStyleModel",
      "_view_count": null,
      "_view_module": "@jupyter-widgets/base",
      "_view_module_version": "1.2.0",
      "_view_name": "StyleView",
      "bar_color": null,
      "description_width": "initial"
     }
    },
    "c5a923896b0f4ea8b5b60359ee359cf1": {
     "model_module": "@jupyter-widgets/controls",
     "model_name": "HTMLModel",
     "state": {
      "_dom_classes": [],
      "_model_module": "@jupyter-widgets/controls",
      "_model_module_version": "1.5.0",
      "_model_name": "HTMLModel",
      "_view_count": null,
      "_view_module": "@jupyter-widgets/controls",
      "_view_module_version": "1.5.0",
      "_view_name": "HTMLView",
      "description": "",
      "description_tooltip": null,
      "layout": "IPY_MODEL_80ec372f7e5046939a601d765a055eae",
      "placeholder": "​",
      "style": "IPY_MODEL_924a32c074514827ac6f1ddc2a75abdc",
      "value": " 238/? [00:32&lt;00:00,  7.41it/s]"
     }
    },
    "c5cbfa98ef3d4cb78d7b3f7d71b18298": {
     "model_module": "@jupyter-widgets/controls",
     "model_name": "FloatProgressModel",
     "state": {
      "_dom_classes": [],
      "_model_module": "@jupyter-widgets/controls",
      "_model_module_version": "1.5.0",
      "_model_name": "FloatProgressModel",
      "_view_count": null,
      "_view_module": "@jupyter-widgets/controls",
      "_view_module_version": "1.5.0",
      "_view_name": "ProgressView",
      "bar_style": "success",
      "description": "Evaluating: ",
      "description_tooltip": null,
      "layout": "IPY_MODEL_19bca659cf2c4d7a960ac8e55af3645c",
      "max": 1,
      "min": 0,
      "orientation": "horizontal",
      "style": "IPY_MODEL_66e1801d21e345d2bb509cb12210f07d",
      "value": 1
     }
    },
    "c703481e88c34435a35b1dfea383a240": {
     "model_module": "@jupyter-widgets/base",
     "model_name": "LayoutModel",
     "state": {
      "_model_module": "@jupyter-widgets/base",
      "_model_module_version": "1.2.0",
      "_model_name": "LayoutModel",
      "_view_count": null,
      "_view_module": "@jupyter-widgets/base",
      "_view_module_version": "1.2.0",
      "_view_name": "LayoutView",
      "align_content": null,
      "align_items": null,
      "align_self": null,
      "border": null,
      "bottom": null,
      "display": null,
      "flex": null,
      "flex_flow": null,
      "grid_area": null,
      "grid_auto_columns": null,
      "grid_auto_flow": null,
      "grid_auto_rows": null,
      "grid_column": null,
      "grid_gap": null,
      "grid_row": null,
      "grid_template_areas": null,
      "grid_template_columns": null,
      "grid_template_rows": null,
      "height": null,
      "justify_content": null,
      "justify_items": null,
      "left": null,
      "margin": null,
      "max_height": null,
      "max_width": null,
      "min_height": null,
      "min_width": null,
      "object_fit": null,
      "object_position": null,
      "order": null,
      "overflow": null,
      "overflow_x": null,
      "overflow_y": null,
      "padding": null,
      "right": null,
      "top": null,
      "visibility": null,
      "width": null
     }
    },
    "c838618303f94b4abe15d09aff86a2d5": {
     "model_module": "@jupyter-widgets/controls",
     "model_name": "HBoxModel",
     "state": {
      "_dom_classes": [],
      "_model_module": "@jupyter-widgets/controls",
      "_model_module_version": "1.5.0",
      "_model_name": "HBoxModel",
      "_view_count": null,
      "_view_module": "@jupyter-widgets/controls",
      "_view_module_version": "1.5.0",
      "_view_name": "HBoxView",
      "box_style": "",
      "children": [
       "IPY_MODEL_16e74b6d22174480bddef9f0cbc85233",
       "IPY_MODEL_40ecdf8e1725412b9cae838c9e6e955b"
      ],
      "layout": "IPY_MODEL_eeb955e136854c84b5986eaedad5b9e6"
     }
    },
    "caa5c4d0b5a445bd9ba323c2a32a6822": {
     "model_module": "@jupyter-widgets/controls",
     "model_name": "ProgressStyleModel",
     "state": {
      "_model_module": "@jupyter-widgets/controls",
      "_model_module_version": "1.5.0",
      "_model_name": "ProgressStyleModel",
      "_view_count": null,
      "_view_module": "@jupyter-widgets/base",
      "_view_module_version": "1.2.0",
      "_view_name": "StyleView",
      "bar_color": null,
      "description_width": "initial"
     }
    },
    "cb90e4a1683f458aabce59c6c9e1823d": {
     "model_module": "@jupyter-widgets/base",
     "model_name": "LayoutModel",
     "state": {
      "_model_module": "@jupyter-widgets/base",
      "_model_module_version": "1.2.0",
      "_model_name": "LayoutModel",
      "_view_count": null,
      "_view_module": "@jupyter-widgets/base",
      "_view_module_version": "1.2.0",
      "_view_name": "LayoutView",
      "align_content": null,
      "align_items": null,
      "align_self": null,
      "border": null,
      "bottom": null,
      "display": null,
      "flex": null,
      "flex_flow": null,
      "grid_area": null,
      "grid_auto_columns": null,
      "grid_auto_flow": null,
      "grid_auto_rows": null,
      "grid_column": null,
      "grid_gap": null,
      "grid_row": null,
      "grid_template_areas": null,
      "grid_template_columns": null,
      "grid_template_rows": null,
      "height": null,
      "justify_content": null,
      "justify_items": null,
      "left": null,
      "margin": null,
      "max_height": null,
      "max_width": null,
      "min_height": null,
      "min_width": null,
      "object_fit": null,
      "object_position": null,
      "order": null,
      "overflow": null,
      "overflow_x": null,
      "overflow_y": null,
      "padding": null,
      "right": null,
      "top": null,
      "visibility": null,
      "width": null
     }
    },
    "cbc20cae1f634d5980f9e98ee441894e": {
     "model_module": "@jupyter-widgets/base",
     "model_name": "LayoutModel",
     "state": {
      "_model_module": "@jupyter-widgets/base",
      "_model_module_version": "1.2.0",
      "_model_name": "LayoutModel",
      "_view_count": null,
      "_view_module": "@jupyter-widgets/base",
      "_view_module_version": "1.2.0",
      "_view_name": "LayoutView",
      "align_content": null,
      "align_items": null,
      "align_self": null,
      "border": null,
      "bottom": null,
      "display": null,
      "flex": null,
      "flex_flow": null,
      "grid_area": null,
      "grid_auto_columns": null,
      "grid_auto_flow": null,
      "grid_auto_rows": null,
      "grid_column": null,
      "grid_gap": null,
      "grid_row": null,
      "grid_template_areas": null,
      "grid_template_columns": null,
      "grid_template_rows": null,
      "height": null,
      "justify_content": null,
      "justify_items": null,
      "left": null,
      "margin": null,
      "max_height": null,
      "max_width": null,
      "min_height": null,
      "min_width": null,
      "object_fit": null,
      "object_position": null,
      "order": null,
      "overflow": null,
      "overflow_x": null,
      "overflow_y": null,
      "padding": null,
      "right": null,
      "top": null,
      "visibility": null,
      "width": null
     }
    },
    "cde3ff89c49f4da3bf2b840a13ce022b": {
     "model_module": "@jupyter-widgets/controls",
     "model_name": "HBoxModel",
     "state": {
      "_dom_classes": [],
      "_model_module": "@jupyter-widgets/controls",
      "_model_module_version": "1.5.0",
      "_model_name": "HBoxModel",
      "_view_count": null,
      "_view_module": "@jupyter-widgets/controls",
      "_view_module_version": "1.5.0",
      "_view_name": "HBoxView",
      "box_style": "",
      "children": [
       "IPY_MODEL_548c68b089bf4e56a7d84fd9aa6c0e3a",
       "IPY_MODEL_b6395a00cc874dfe850cbf90536b413b"
      ],
      "layout": "IPY_MODEL_9f987abcc977490aab3e9b6fc872264e"
     }
    },
    "ce4142dd9cd04bb1a01a950a37bc8f9e": {
     "model_module": "@jupyter-widgets/controls",
     "model_name": "DescriptionStyleModel",
     "state": {
      "_model_module": "@jupyter-widgets/controls",
      "_model_module_version": "1.5.0",
      "_model_name": "DescriptionStyleModel",
      "_view_count": null,
      "_view_module": "@jupyter-widgets/base",
      "_view_module_version": "1.2.0",
      "_view_name": "StyleView",
      "description_width": ""
     }
    },
    "ce814715cf1f4522b6b9a8b1f77eb0ca": {
     "model_module": "@jupyter-widgets/controls",
     "model_name": "DescriptionStyleModel",
     "state": {
      "_model_module": "@jupyter-widgets/controls",
      "_model_module_version": "1.5.0",
      "_model_name": "DescriptionStyleModel",
      "_view_count": null,
      "_view_module": "@jupyter-widgets/base",
      "_view_module_version": "1.2.0",
      "_view_name": "StyleView",
      "description_width": ""
     }
    },
    "ceb3d1b301254373947306547cabea0a": {
     "model_module": "@jupyter-widgets/base",
     "model_name": "LayoutModel",
     "state": {
      "_model_module": "@jupyter-widgets/base",
      "_model_module_version": "1.2.0",
      "_model_name": "LayoutModel",
      "_view_count": null,
      "_view_module": "@jupyter-widgets/base",
      "_view_module_version": "1.2.0",
      "_view_name": "LayoutView",
      "align_content": null,
      "align_items": null,
      "align_self": null,
      "border": null,
      "bottom": null,
      "display": null,
      "flex": null,
      "flex_flow": null,
      "grid_area": null,
      "grid_auto_columns": null,
      "grid_auto_flow": null,
      "grid_auto_rows": null,
      "grid_column": null,
      "grid_gap": null,
      "grid_row": null,
      "grid_template_areas": null,
      "grid_template_columns": null,
      "grid_template_rows": null,
      "height": null,
      "justify_content": null,
      "justify_items": null,
      "left": null,
      "margin": null,
      "max_height": null,
      "max_width": null,
      "min_height": null,
      "min_width": null,
      "object_fit": null,
      "object_position": null,
      "order": null,
      "overflow": null,
      "overflow_x": null,
      "overflow_y": null,
      "padding": null,
      "right": null,
      "top": null,
      "visibility": null,
      "width": null
     }
    },
    "cf73f4eac6df4caa8fcf7df68a0006ac": {
     "model_module": "@jupyter-widgets/base",
     "model_name": "LayoutModel",
     "state": {
      "_model_module": "@jupyter-widgets/base",
      "_model_module_version": "1.2.0",
      "_model_name": "LayoutModel",
      "_view_count": null,
      "_view_module": "@jupyter-widgets/base",
      "_view_module_version": "1.2.0",
      "_view_name": "LayoutView",
      "align_content": null,
      "align_items": null,
      "align_self": null,
      "border": null,
      "bottom": null,
      "display": null,
      "flex": null,
      "flex_flow": null,
      "grid_area": null,
      "grid_auto_columns": null,
      "grid_auto_flow": null,
      "grid_auto_rows": null,
      "grid_column": null,
      "grid_gap": null,
      "grid_row": null,
      "grid_template_areas": null,
      "grid_template_columns": null,
      "grid_template_rows": null,
      "height": null,
      "justify_content": null,
      "justify_items": null,
      "left": null,
      "margin": null,
      "max_height": null,
      "max_width": null,
      "min_height": null,
      "min_width": null,
      "object_fit": null,
      "object_position": null,
      "order": null,
      "overflow": null,
      "overflow_x": null,
      "overflow_y": null,
      "padding": null,
      "right": null,
      "top": null,
      "visibility": null,
      "width": null
     }
    },
    "d063174d29104957bafcbf303682c958": {
     "model_module": "@jupyter-widgets/controls",
     "model_name": "ProgressStyleModel",
     "state": {
      "_model_module": "@jupyter-widgets/controls",
      "_model_module_version": "1.5.0",
      "_model_name": "ProgressStyleModel",
      "_view_count": null,
      "_view_module": "@jupyter-widgets/base",
      "_view_module_version": "1.2.0",
      "_view_name": "StyleView",
      "bar_color": null,
      "description_width": "initial"
     }
    },
    "d2068a28cb034548a6e0dd02b9e47458": {
     "model_module": "@jupyter-widgets/controls",
     "model_name": "HTMLModel",
     "state": {
      "_dom_classes": [],
      "_model_module": "@jupyter-widgets/controls",
      "_model_module_version": "1.5.0",
      "_model_name": "HTMLModel",
      "_view_count": null,
      "_view_module": "@jupyter-widgets/controls",
      "_view_module_version": "1.5.0",
      "_view_name": "HTMLView",
      "description": "",
      "description_tooltip": null,
      "layout": "IPY_MODEL_4bbbce5a847b431d9bf17d0f46eb92a8",
      "placeholder": "​",
      "style": "IPY_MODEL_8c07c1932690426a9cf9f4776937a086",
      "value": " 238/? [00:31&lt;00:00,  7.54it/s]"
     }
    },
    "d4f2be3fdb3e4fdc8bc65b5dbe4943b0": {
     "model_module": "@jupyter-widgets/base",
     "model_name": "LayoutModel",
     "state": {
      "_model_module": "@jupyter-widgets/base",
      "_model_module_version": "1.2.0",
      "_model_name": "LayoutModel",
      "_view_count": null,
      "_view_module": "@jupyter-widgets/base",
      "_view_module_version": "1.2.0",
      "_view_name": "LayoutView",
      "align_content": null,
      "align_items": null,
      "align_self": null,
      "border": null,
      "bottom": null,
      "display": null,
      "flex": null,
      "flex_flow": null,
      "grid_area": null,
      "grid_auto_columns": null,
      "grid_auto_flow": null,
      "grid_auto_rows": null,
      "grid_column": null,
      "grid_gap": null,
      "grid_row": null,
      "grid_template_areas": null,
      "grid_template_columns": null,
      "grid_template_rows": null,
      "height": null,
      "justify_content": null,
      "justify_items": null,
      "left": null,
      "margin": null,
      "max_height": null,
      "max_width": null,
      "min_height": null,
      "min_width": null,
      "object_fit": null,
      "object_position": null,
      "order": null,
      "overflow": null,
      "overflow_x": null,
      "overflow_y": null,
      "padding": null,
      "right": null,
      "top": null,
      "visibility": null,
      "width": null
     }
    },
    "da5ea4b7da6e48d596a45aa3f023d9e1": {
     "model_module": "@jupyter-widgets/base",
     "model_name": "LayoutModel",
     "state": {
      "_model_module": "@jupyter-widgets/base",
      "_model_module_version": "1.2.0",
      "_model_name": "LayoutModel",
      "_view_count": null,
      "_view_module": "@jupyter-widgets/base",
      "_view_module_version": "1.2.0",
      "_view_name": "LayoutView",
      "align_content": null,
      "align_items": null,
      "align_self": null,
      "border": null,
      "bottom": null,
      "display": null,
      "flex": null,
      "flex_flow": null,
      "grid_area": null,
      "grid_auto_columns": null,
      "grid_auto_flow": null,
      "grid_auto_rows": null,
      "grid_column": null,
      "grid_gap": null,
      "grid_row": null,
      "grid_template_areas": null,
      "grid_template_columns": null,
      "grid_template_rows": null,
      "height": null,
      "justify_content": null,
      "justify_items": null,
      "left": null,
      "margin": null,
      "max_height": null,
      "max_width": null,
      "min_height": null,
      "min_width": null,
      "object_fit": null,
      "object_position": null,
      "order": null,
      "overflow": null,
      "overflow_x": null,
      "overflow_y": null,
      "padding": null,
      "right": null,
      "top": null,
      "visibility": null,
      "width": null
     }
    },
    "dc4aca0d66154664ac98a0a98a36560a": {
     "model_module": "@jupyter-widgets/base",
     "model_name": "LayoutModel",
     "state": {
      "_model_module": "@jupyter-widgets/base",
      "_model_module_version": "1.2.0",
      "_model_name": "LayoutModel",
      "_view_count": null,
      "_view_module": "@jupyter-widgets/base",
      "_view_module_version": "1.2.0",
      "_view_name": "LayoutView",
      "align_content": null,
      "align_items": null,
      "align_self": null,
      "border": null,
      "bottom": null,
      "display": null,
      "flex": null,
      "flex_flow": null,
      "grid_area": null,
      "grid_auto_columns": null,
      "grid_auto_flow": null,
      "grid_auto_rows": null,
      "grid_column": null,
      "grid_gap": null,
      "grid_row": null,
      "grid_template_areas": null,
      "grid_template_columns": null,
      "grid_template_rows": null,
      "height": null,
      "justify_content": null,
      "justify_items": null,
      "left": null,
      "margin": null,
      "max_height": null,
      "max_width": null,
      "min_height": null,
      "min_width": null,
      "object_fit": null,
      "object_position": null,
      "order": null,
      "overflow": null,
      "overflow_x": null,
      "overflow_y": null,
      "padding": null,
      "right": null,
      "top": null,
      "visibility": null,
      "width": null
     }
    },
    "e0855bfc56f74b1ea9682978603a1546": {
     "model_module": "@jupyter-widgets/controls",
     "model_name": "HBoxModel",
     "state": {
      "_dom_classes": [],
      "_model_module": "@jupyter-widgets/controls",
      "_model_module_version": "1.5.0",
      "_model_name": "HBoxModel",
      "_view_count": null,
      "_view_module": "@jupyter-widgets/controls",
      "_view_module_version": "1.5.0",
      "_view_name": "HBoxView",
      "box_style": "",
      "children": [
       "IPY_MODEL_c5cbfa98ef3d4cb78d7b3f7d71b18298",
       "IPY_MODEL_d2068a28cb034548a6e0dd02b9e47458"
      ],
      "layout": "IPY_MODEL_3ede9b077aa24e08a62fb032f08e56cd"
     }
    },
    "e10dc7c055594898a9f2d0d1aeaaa7ce": {
     "model_module": "@jupyter-widgets/controls",
     "model_name": "HBoxModel",
     "state": {
      "_dom_classes": [],
      "_model_module": "@jupyter-widgets/controls",
      "_model_module_version": "1.5.0",
      "_model_name": "HBoxModel",
      "_view_count": null,
      "_view_module": "@jupyter-widgets/controls",
      "_view_module_version": "1.5.0",
      "_view_name": "HBoxView",
      "box_style": "",
      "children": [
       "IPY_MODEL_7a72c602adc24f8291ef050f73131f4b",
       "IPY_MODEL_5f45f28ae5874da2ba83e4ec7db9f2b7"
      ],
      "layout": "IPY_MODEL_1b460add7afe47bf9ad513173621fac7"
     }
    },
    "e4d35f9b50c643a485cbc92ebb632449": {
     "model_module": "@jupyter-widgets/base",
     "model_name": "LayoutModel",
     "state": {
      "_model_module": "@jupyter-widgets/base",
      "_model_module_version": "1.2.0",
      "_model_name": "LayoutModel",
      "_view_count": null,
      "_view_module": "@jupyter-widgets/base",
      "_view_module_version": "1.2.0",
      "_view_name": "LayoutView",
      "align_content": null,
      "align_items": null,
      "align_self": null,
      "border": null,
      "bottom": null,
      "display": null,
      "flex": null,
      "flex_flow": null,
      "grid_area": null,
      "grid_auto_columns": null,
      "grid_auto_flow": null,
      "grid_auto_rows": null,
      "grid_column": null,
      "grid_gap": null,
      "grid_row": null,
      "grid_template_areas": null,
      "grid_template_columns": null,
      "grid_template_rows": null,
      "height": null,
      "justify_content": null,
      "justify_items": null,
      "left": null,
      "margin": null,
      "max_height": null,
      "max_width": null,
      "min_height": null,
      "min_width": null,
      "object_fit": null,
      "object_position": null,
      "order": null,
      "overflow": null,
      "overflow_x": null,
      "overflow_y": null,
      "padding": null,
      "right": null,
      "top": null,
      "visibility": null,
      "width": null
     }
    },
    "e7e88d68c279400789519720bb93904f": {
     "model_module": "@jupyter-widgets/controls",
     "model_name": "DescriptionStyleModel",
     "state": {
      "_model_module": "@jupyter-widgets/controls",
      "_model_module_version": "1.5.0",
      "_model_name": "DescriptionStyleModel",
      "_view_count": null,
      "_view_module": "@jupyter-widgets/base",
      "_view_module_version": "1.2.0",
      "_view_name": "StyleView",
      "description_width": ""
     }
    },
    "eac349c517ff451eaf900f304fbc260c": {
     "model_module": "@jupyter-widgets/base",
     "model_name": "LayoutModel",
     "state": {
      "_model_module": "@jupyter-widgets/base",
      "_model_module_version": "1.2.0",
      "_model_name": "LayoutModel",
      "_view_count": null,
      "_view_module": "@jupyter-widgets/base",
      "_view_module_version": "1.2.0",
      "_view_name": "LayoutView",
      "align_content": null,
      "align_items": null,
      "align_self": null,
      "border": null,
      "bottom": null,
      "display": null,
      "flex": null,
      "flex_flow": null,
      "grid_area": null,
      "grid_auto_columns": null,
      "grid_auto_flow": null,
      "grid_auto_rows": null,
      "grid_column": null,
      "grid_gap": null,
      "grid_row": null,
      "grid_template_areas": null,
      "grid_template_columns": null,
      "grid_template_rows": null,
      "height": null,
      "justify_content": null,
      "justify_items": null,
      "left": null,
      "margin": null,
      "max_height": null,
      "max_width": null,
      "min_height": null,
      "min_width": null,
      "object_fit": null,
      "object_position": null,
      "order": null,
      "overflow": null,
      "overflow_x": null,
      "overflow_y": null,
      "padding": null,
      "right": null,
      "top": null,
      "visibility": null,
      "width": null
     }
    },
    "ead4c99375c84146971285b3b1ecdb05": {
     "model_module": "@jupyter-widgets/base",
     "model_name": "LayoutModel",
     "state": {
      "_model_module": "@jupyter-widgets/base",
      "_model_module_version": "1.2.0",
      "_model_name": "LayoutModel",
      "_view_count": null,
      "_view_module": "@jupyter-widgets/base",
      "_view_module_version": "1.2.0",
      "_view_name": "LayoutView",
      "align_content": null,
      "align_items": null,
      "align_self": null,
      "border": null,
      "bottom": null,
      "display": null,
      "flex": null,
      "flex_flow": null,
      "grid_area": null,
      "grid_auto_columns": null,
      "grid_auto_flow": null,
      "grid_auto_rows": null,
      "grid_column": null,
      "grid_gap": null,
      "grid_row": null,
      "grid_template_areas": null,
      "grid_template_columns": null,
      "grid_template_rows": null,
      "height": null,
      "justify_content": null,
      "justify_items": null,
      "left": null,
      "margin": null,
      "max_height": null,
      "max_width": null,
      "min_height": null,
      "min_width": null,
      "object_fit": null,
      "object_position": null,
      "order": null,
      "overflow": null,
      "overflow_x": null,
      "overflow_y": null,
      "padding": null,
      "right": null,
      "top": null,
      "visibility": null,
      "width": null
     }
    },
    "ebdd079725d44c9e929c24133eafc17a": {
     "model_module": "@jupyter-widgets/base",
     "model_name": "LayoutModel",
     "state": {
      "_model_module": "@jupyter-widgets/base",
      "_model_module_version": "1.2.0",
      "_model_name": "LayoutModel",
      "_view_count": null,
      "_view_module": "@jupyter-widgets/base",
      "_view_module_version": "1.2.0",
      "_view_name": "LayoutView",
      "align_content": null,
      "align_items": null,
      "align_self": null,
      "border": null,
      "bottom": null,
      "display": null,
      "flex": null,
      "flex_flow": null,
      "grid_area": null,
      "grid_auto_columns": null,
      "grid_auto_flow": null,
      "grid_auto_rows": null,
      "grid_column": null,
      "grid_gap": null,
      "grid_row": null,
      "grid_template_areas": null,
      "grid_template_columns": null,
      "grid_template_rows": null,
      "height": null,
      "justify_content": null,
      "justify_items": null,
      "left": null,
      "margin": null,
      "max_height": null,
      "max_width": null,
      "min_height": null,
      "min_width": null,
      "object_fit": null,
      "object_position": null,
      "order": null,
      "overflow": null,
      "overflow_x": null,
      "overflow_y": null,
      "padding": null,
      "right": null,
      "top": null,
      "visibility": null,
      "width": null
     }
    },
    "ec18e12e5e1b473b9841fa3150300e6a": {
     "model_module": "@jupyter-widgets/controls",
     "model_name": "FloatProgressModel",
     "state": {
      "_dom_classes": [],
      "_model_module": "@jupyter-widgets/controls",
      "_model_module_version": "1.5.0",
      "_model_name": "FloatProgressModel",
      "_view_count": null,
      "_view_module": "@jupyter-widgets/controls",
      "_view_module_version": "1.5.0",
      "_view_name": "ProgressView",
      "bar_style": "success",
      "description": "Evaluating: ",
      "description_tooltip": null,
      "layout": "IPY_MODEL_ac47251ee9de49dbba87b1f7ac49e2af",
      "max": 1,
      "min": 0,
      "orientation": "horizontal",
      "style": "IPY_MODEL_caa5c4d0b5a445bd9ba323c2a32a6822",
      "value": 1
     }
    },
    "ec3ed7a570a3490fba72b33ae23ea637": {
     "model_module": "@jupyter-widgets/base",
     "model_name": "LayoutModel",
     "state": {
      "_model_module": "@jupyter-widgets/base",
      "_model_module_version": "1.2.0",
      "_model_name": "LayoutModel",
      "_view_count": null,
      "_view_module": "@jupyter-widgets/base",
      "_view_module_version": "1.2.0",
      "_view_name": "LayoutView",
      "align_content": null,
      "align_items": null,
      "align_self": null,
      "border": null,
      "bottom": null,
      "display": null,
      "flex": null,
      "flex_flow": null,
      "grid_area": null,
      "grid_auto_columns": null,
      "grid_auto_flow": null,
      "grid_auto_rows": null,
      "grid_column": null,
      "grid_gap": null,
      "grid_row": null,
      "grid_template_areas": null,
      "grid_template_columns": null,
      "grid_template_rows": null,
      "height": null,
      "justify_content": null,
      "justify_items": null,
      "left": null,
      "margin": null,
      "max_height": null,
      "max_width": null,
      "min_height": null,
      "min_width": null,
      "object_fit": null,
      "object_position": null,
      "order": null,
      "overflow": null,
      "overflow_x": null,
      "overflow_y": null,
      "padding": null,
      "right": null,
      "top": null,
      "visibility": null,
      "width": null
     }
    },
    "ee8c09e98a744a5fbb2867b5ac39c040": {
     "model_module": "@jupyter-widgets/controls",
     "model_name": "HBoxModel",
     "state": {
      "_dom_classes": [],
      "_model_module": "@jupyter-widgets/controls",
      "_model_module_version": "1.5.0",
      "_model_name": "HBoxModel",
      "_view_count": null,
      "_view_module": "@jupyter-widgets/controls",
      "_view_module_version": "1.5.0",
      "_view_name": "HBoxView",
      "box_style": "",
      "children": [
       "IPY_MODEL_9bef33063b47436cb741cfdfd228f35a",
       "IPY_MODEL_9779dbc8908c4e03876e0191e2a9a4d1"
      ],
      "layout": "IPY_MODEL_5f08d41b908946c7814286d7db775fbe"
     }
    },
    "eeb955e136854c84b5986eaedad5b9e6": {
     "model_module": "@jupyter-widgets/base",
     "model_name": "LayoutModel",
     "state": {
      "_model_module": "@jupyter-widgets/base",
      "_model_module_version": "1.2.0",
      "_model_name": "LayoutModel",
      "_view_count": null,
      "_view_module": "@jupyter-widgets/base",
      "_view_module_version": "1.2.0",
      "_view_name": "LayoutView",
      "align_content": null,
      "align_items": null,
      "align_self": null,
      "border": null,
      "bottom": null,
      "display": null,
      "flex": null,
      "flex_flow": null,
      "grid_area": null,
      "grid_auto_columns": null,
      "grid_auto_flow": null,
      "grid_auto_rows": null,
      "grid_column": null,
      "grid_gap": null,
      "grid_row": null,
      "grid_template_areas": null,
      "grid_template_columns": null,
      "grid_template_rows": null,
      "height": null,
      "justify_content": null,
      "justify_items": null,
      "left": null,
      "margin": null,
      "max_height": null,
      "max_width": null,
      "min_height": null,
      "min_width": null,
      "object_fit": null,
      "object_position": null,
      "order": null,
      "overflow": null,
      "overflow_x": null,
      "overflow_y": null,
      "padding": null,
      "right": null,
      "top": null,
      "visibility": null,
      "width": null
     }
    },
    "f1e18ebbad6948dd8ac99e981ff85c27": {
     "model_module": "@jupyter-widgets/controls",
     "model_name": "DescriptionStyleModel",
     "state": {
      "_model_module": "@jupyter-widgets/controls",
      "_model_module_version": "1.5.0",
      "_model_name": "DescriptionStyleModel",
      "_view_count": null,
      "_view_module": "@jupyter-widgets/base",
      "_view_module_version": "1.2.0",
      "_view_name": "StyleView",
      "description_width": ""
     }
    },
    "f3bef6ca15694f76aee7e6735b40a049": {
     "model_module": "@jupyter-widgets/base",
     "model_name": "LayoutModel",
     "state": {
      "_model_module": "@jupyter-widgets/base",
      "_model_module_version": "1.2.0",
      "_model_name": "LayoutModel",
      "_view_count": null,
      "_view_module": "@jupyter-widgets/base",
      "_view_module_version": "1.2.0",
      "_view_name": "LayoutView",
      "align_content": null,
      "align_items": null,
      "align_self": null,
      "border": null,
      "bottom": null,
      "display": null,
      "flex": null,
      "flex_flow": null,
      "grid_area": null,
      "grid_auto_columns": null,
      "grid_auto_flow": null,
      "grid_auto_rows": null,
      "grid_column": null,
      "grid_gap": null,
      "grid_row": null,
      "grid_template_areas": null,
      "grid_template_columns": null,
      "grid_template_rows": null,
      "height": null,
      "justify_content": null,
      "justify_items": null,
      "left": null,
      "margin": null,
      "max_height": null,
      "max_width": null,
      "min_height": null,
      "min_width": null,
      "object_fit": null,
      "object_position": null,
      "order": null,
      "overflow": null,
      "overflow_x": null,
      "overflow_y": null,
      "padding": null,
      "right": null,
      "top": null,
      "visibility": null,
      "width": null
     }
    },
    "f546d5556b7b4fc093ace359339d3082": {
     "model_module": "@jupyter-widgets/base",
     "model_name": "LayoutModel",
     "state": {
      "_model_module": "@jupyter-widgets/base",
      "_model_module_version": "1.2.0",
      "_model_name": "LayoutModel",
      "_view_count": null,
      "_view_module": "@jupyter-widgets/base",
      "_view_module_version": "1.2.0",
      "_view_name": "LayoutView",
      "align_content": null,
      "align_items": null,
      "align_self": null,
      "border": null,
      "bottom": null,
      "display": null,
      "flex": null,
      "flex_flow": null,
      "grid_area": null,
      "grid_auto_columns": null,
      "grid_auto_flow": null,
      "grid_auto_rows": null,
      "grid_column": null,
      "grid_gap": null,
      "grid_row": null,
      "grid_template_areas": null,
      "grid_template_columns": null,
      "grid_template_rows": null,
      "height": null,
      "justify_content": null,
      "justify_items": null,
      "left": null,
      "margin": null,
      "max_height": null,
      "max_width": null,
      "min_height": null,
      "min_width": null,
      "object_fit": null,
      "object_position": null,
      "order": null,
      "overflow": null,
      "overflow_x": null,
      "overflow_y": null,
      "padding": null,
      "right": null,
      "top": null,
      "visibility": null,
      "width": null
     }
    },
    "f826e56ac69a4bc293cb0acc6808761b": {
     "model_module": "@jupyter-widgets/controls",
     "model_name": "DescriptionStyleModel",
     "state": {
      "_model_module": "@jupyter-widgets/controls",
      "_model_module_version": "1.5.0",
      "_model_name": "DescriptionStyleModel",
      "_view_count": null,
      "_view_module": "@jupyter-widgets/base",
      "_view_module_version": "1.2.0",
      "_view_name": "StyleView",
      "description_width": ""
     }
    },
    "fa1b40e8c2c04d8aa3222bad4e6cd007": {
     "model_module": "@jupyter-widgets/controls",
     "model_name": "HTMLModel",
     "state": {
      "_dom_classes": [],
      "_model_module": "@jupyter-widgets/controls",
      "_model_module_version": "1.5.0",
      "_model_name": "HTMLModel",
      "_view_count": null,
      "_view_module": "@jupyter-widgets/controls",
      "_view_module_version": "1.5.0",
      "_view_name": "HTMLView",
      "description": "",
      "description_tooltip": null,
      "layout": "IPY_MODEL_c0798860f98f4f51a2a35a0205f7b453",
      "placeholder": "​",
      "style": "IPY_MODEL_1eebd4cd76bb4603b020aa6cbbd4bd3d",
      "value": " 792k/792k [01:14&lt;00:00, 10.6kB/s]"
     }
    },
    "fb7b6712addd4b5584a9eb37435a773c": {
     "model_module": "@jupyter-widgets/controls",
     "model_name": "HTMLModel",
     "state": {
      "_dom_classes": [],
      "_model_module": "@jupyter-widgets/controls",
      "_model_module_version": "1.5.0",
      "_model_name": "HTMLModel",
      "_view_count": null,
      "_view_module": "@jupyter-widgets/controls",
      "_view_module_version": "1.5.0",
      "_view_name": "HTMLView",
      "description": "",
      "description_tooltip": null,
      "layout": "IPY_MODEL_015f362dda18438f88b17c2fcd35c6d1",
      "placeholder": "​",
      "style": "IPY_MODEL_9a0e41a5af0e49a1bde9e33bd48477e4",
      "value": " 4602/? [28:14&lt;00:00,  2.72it/s]"
     }
    },
    "fc9ac6c7ec0d4770b718ab1601e95e98": {
     "model_module": "@jupyter-widgets/controls",
     "model_name": "ProgressStyleModel",
     "state": {
      "_model_module": "@jupyter-widgets/controls",
      "_model_module_version": "1.5.0",
      "_model_name": "ProgressStyleModel",
      "_view_count": null,
      "_view_module": "@jupyter-widgets/base",
      "_view_module_version": "1.2.0",
      "_view_name": "StyleView",
      "bar_color": null,
      "description_width": "initial"
     }
    },
    "fc9e7584976c49069df790e0b7e8e256": {
     "model_module": "@jupyter-widgets/controls",
     "model_name": "HBoxModel",
     "state": {
      "_dom_classes": [],
      "_model_module": "@jupyter-widgets/controls",
      "_model_module_version": "1.5.0",
      "_model_name": "HBoxModel",
      "_view_count": null,
      "_view_module": "@jupyter-widgets/controls",
      "_view_module_version": "1.5.0",
      "_view_name": "HBoxView",
      "box_style": "",
      "children": [
       "IPY_MODEL_39851a1e154a43ecb6f163c9230718a8",
       "IPY_MODEL_4dc2a7e7101f4095aa0d5e5181c43f01"
      ],
      "layout": "IPY_MODEL_8aa5e2fd699a4724b2ea5b491b578aeb"
     }
    },
    "fcfce4d91c0f4d4aba725ca74307969e": {
     "model_module": "@jupyter-widgets/controls",
     "model_name": "ProgressStyleModel",
     "state": {
      "_model_module": "@jupyter-widgets/controls",
      "_model_module_version": "1.5.0",
      "_model_name": "ProgressStyleModel",
      "_view_count": null,
      "_view_module": "@jupyter-widgets/base",
      "_view_module_version": "1.2.0",
      "_view_name": "StyleView",
      "bar_color": null,
      "description_width": "initial"
     }
    },
    "fd0656f90ebe48fc90ab101fe70d338e": {
     "model_module": "@jupyter-widgets/base",
     "model_name": "LayoutModel",
     "state": {
      "_model_module": "@jupyter-widgets/base",
      "_model_module_version": "1.2.0",
      "_model_name": "LayoutModel",
      "_view_count": null,
      "_view_module": "@jupyter-widgets/base",
      "_view_module_version": "1.2.0",
      "_view_name": "LayoutView",
      "align_content": null,
      "align_items": null,
      "align_self": null,
      "border": null,
      "bottom": null,
      "display": null,
      "flex": null,
      "flex_flow": null,
      "grid_area": null,
      "grid_auto_columns": null,
      "grid_auto_flow": null,
      "grid_auto_rows": null,
      "grid_column": null,
      "grid_gap": null,
      "grid_row": null,
      "grid_template_areas": null,
      "grid_template_columns": null,
      "grid_template_rows": null,
      "height": null,
      "justify_content": null,
      "justify_items": null,
      "left": null,
      "margin": null,
      "max_height": null,
      "max_width": null,
      "min_height": null,
      "min_width": null,
      "object_fit": null,
      "object_position": null,
      "order": null,
      "overflow": null,
      "overflow_x": null,
      "overflow_y": null,
      "padding": null,
      "right": null,
      "top": null,
      "visibility": null,
      "width": null
     }
    },
    "fe0705ea49f54db281885d45dae92aa3": {
     "model_module": "@jupyter-widgets/base",
     "model_name": "LayoutModel",
     "state": {
      "_model_module": "@jupyter-widgets/base",
      "_model_module_version": "1.2.0",
      "_model_name": "LayoutModel",
      "_view_count": null,
      "_view_module": "@jupyter-widgets/base",
      "_view_module_version": "1.2.0",
      "_view_name": "LayoutView",
      "align_content": null,
      "align_items": null,
      "align_self": null,
      "border": null,
      "bottom": null,
      "display": null,
      "flex": null,
      "flex_flow": null,
      "grid_area": null,
      "grid_auto_columns": null,
      "grid_auto_flow": null,
      "grid_auto_rows": null,
      "grid_column": null,
      "grid_gap": null,
      "grid_row": null,
      "grid_template_areas": null,
      "grid_template_columns": null,
      "grid_template_rows": null,
      "height": null,
      "justify_content": null,
      "justify_items": null,
      "left": null,
      "margin": null,
      "max_height": null,
      "max_width": null,
      "min_height": null,
      "min_width": null,
      "object_fit": null,
      "object_position": null,
      "order": null,
      "overflow": null,
      "overflow_x": null,
      "overflow_y": null,
      "padding": null,
      "right": null,
      "top": null,
      "visibility": null,
      "width": null
     }
    },
    "fe695d79600e4c9b834dc692d920aa58": {
     "model_module": "@jupyter-widgets/controls",
     "model_name": "HBoxModel",
     "state": {
      "_dom_classes": [],
      "_model_module": "@jupyter-widgets/controls",
      "_model_module_version": "1.5.0",
      "_model_name": "HBoxModel",
      "_view_count": null,
      "_view_module": "@jupyter-widgets/controls",
      "_view_module_version": "1.5.0",
      "_view_name": "HBoxView",
      "box_style": "",
      "children": [
       "IPY_MODEL_a21548a0ca784cae9cfd15230daaad6c",
       "IPY_MODEL_8c3e0554bc0e4d059996218c0cef8014"
      ],
      "layout": "IPY_MODEL_66f05cb4c5dd42318c21db667643ef9b"
     }
    },
    "ff69d5924ea64856a4bd2774794aacba": {
     "model_module": "@jupyter-widgets/base",
     "model_name": "LayoutModel",
     "state": {
      "_model_module": "@jupyter-widgets/base",
      "_model_module_version": "1.2.0",
      "_model_name": "LayoutModel",
      "_view_count": null,
      "_view_module": "@jupyter-widgets/base",
      "_view_module_version": "1.2.0",
      "_view_name": "LayoutView",
      "align_content": null,
      "align_items": null,
      "align_self": null,
      "border": null,
      "bottom": null,
      "display": null,
      "flex": null,
      "flex_flow": null,
      "grid_area": null,
      "grid_auto_columns": null,
      "grid_auto_flow": null,
      "grid_auto_rows": null,
      "grid_column": null,
      "grid_gap": null,
      "grid_row": null,
      "grid_template_areas": null,
      "grid_template_columns": null,
      "grid_template_rows": null,
      "height": null,
      "justify_content": null,
      "justify_items": null,
      "left": null,
      "margin": null,
      "max_height": null,
      "max_width": null,
      "min_height": null,
      "min_width": null,
      "object_fit": null,
      "object_position": null,
      "order": null,
      "overflow": null,
      "overflow_x": null,
      "overflow_y": null,
      "padding": null,
      "right": null,
      "top": null,
      "visibility": null,
      "width": null
     }
    }
   }
  }
 },
 "nbformat": 4,
 "nbformat_minor": 1
}
