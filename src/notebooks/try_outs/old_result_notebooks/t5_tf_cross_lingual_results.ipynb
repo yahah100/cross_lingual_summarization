{
 "cells": [
  {
   "cell_type": "markdown",
   "metadata": {},
   "source": [
    "# Cross Lingual summarization CNN Daily Mail Results\n",
    "We will try out the trained t5 network from the tpu"
   ]
  },
  {
   "cell_type": "code",
   "execution_count": 1,
   "metadata": {},
   "outputs": [],
   "source": [
    "import tensorflow as tf\n",
    "import pandas as pd\n",
    "from transformers import T5Tokenizer, TFT5ForConditionalGeneration\n",
    "import time\n",
    "from rouge_score import rouge_scorer\n",
    "from rouge_score import scoring"
   ]
  },
  {
   "cell_type": "code",
   "execution_count": 2,
   "metadata": {},
   "outputs": [],
   "source": [
    "if not tf.config.list_physical_devices('GPU'):\n",
    "    print(\"Change runtime to \\\"GPU runtime\\\" for faster computations\")"
   ]
  },
  {
   "cell_type": "code",
   "execution_count": 3,
   "metadata": {},
   "outputs": [
    {
     "name": "stdout",
     "output_type": "stream",
     "text": [
      "WARNING:tensorflow:From <ipython-input-3-17bb7203622b>:1: is_gpu_available (from tensorflow.python.framework.test_util) is deprecated and will be removed in a future version.\n",
      "Instructions for updating:\n",
      "Use `tf.config.list_physical_devices('GPU')` instead.\n"
     ]
    },
    {
     "data": {
      "text/plain": [
       "True"
      ]
     },
     "execution_count": 3,
     "metadata": {},
     "output_type": "execute_result"
    }
   ],
   "source": [
    "tf.test.is_gpu_available()"
   ]
  },
  {
   "cell_type": "markdown",
   "metadata": {},
   "source": [
    "## Params"
   ]
  },
  {
   "cell_type": "code",
   "execution_count": 4,
   "metadata": {},
   "outputs": [],
   "source": [
    "BATCH_SIZE = 8\n",
    "\n",
    "SHUFFEL_SIZE = 1024\n",
    "\n",
    "learning_rate = 3e-5\n",
    "\n",
    "model_size = \"t5-base\"\n",
    "\n",
    "MAX_ARTICLE_LEN = 512\n",
    "\n",
    "MAX_HIGHLIGHT_LEN = 150"
   ]
  },
  {
   "cell_type": "markdown",
   "metadata": {},
   "source": [
    "## Model"
   ]
  },
  {
   "cell_type": "code",
   "execution_count": 5,
   "metadata": {},
   "outputs": [
    {
     "data": {
      "application/vnd.jupyter.widget-view+json": {
       "model_id": "9f70dea051d34d2faea8e90150c7f439",
       "version_major": 2,
       "version_minor": 0
      },
      "text/plain": [
       "Downloading:   0%|          | 0.00/792k [00:00<?, ?B/s]"
      ]
     },
     "metadata": {},
     "output_type": "display_data"
    },
    {
     "data": {
      "application/vnd.jupyter.widget-view+json": {
       "model_id": "dae49498edb0424197faf4e7b7528341",
       "version_major": 2,
       "version_minor": 0
      },
      "text/plain": [
       "Downloading:   0%|          | 0.00/1.20k [00:00<?, ?B/s]"
      ]
     },
     "metadata": {},
     "output_type": "display_data"
    },
    {
     "data": {
      "application/vnd.jupyter.widget-view+json": {
       "model_id": "5183ca37898f4a75978c9efc85db7bd7",
       "version_major": 2,
       "version_minor": 0
      },
      "text/plain": [
       "Downloading:   0%|          | 0.00/892M [00:00<?, ?B/s]"
      ]
     },
     "metadata": {},
     "output_type": "display_data"
    },
    {
     "name": "stderr",
     "output_type": "stream",
     "text": [
      "All model checkpoint layers were used when initializing TFT5ForConditionalGeneration.\n",
      "\n",
      "All the layers of TFT5ForConditionalGeneration were initialized from the model checkpoint at t5-base.\n",
      "If your task is similar to the task the model of the checkpoint was trained on, you can already use TFT5ForConditionalGeneration for predictions without further training.\n"
     ]
    }
   ],
   "source": [
    "tokenizer = T5Tokenizer.from_pretrained(model_size)\n",
    "model = TFT5ForConditionalGeneration.from_pretrained(model_size)\n",
    "\n",
    "task_specific_params = model.config.task_specific_params\n",
    "if task_specific_params is not None:\n",
    "    model.config.update(task_specific_params.get(\"summarization\", {}))\n",
    "    \n",
    "pad_token_id = tokenizer.pad_token_id"
   ]
  },
  {
   "cell_type": "code",
   "execution_count": 6,
   "metadata": {},
   "outputs": [
    {
     "name": "stdout",
     "output_type": "stream",
     "text": [
      "Model: \"tf_t5for_conditional_generation\"\n",
      "_________________________________________________________________\n",
      "Layer (type)                 Output Shape              Param #   \n",
      "=================================================================\n",
      "shared (TFSharedEmbeddings)  multiple                  24674304  \n",
      "_________________________________________________________________\n",
      "encoder (TFT5MainLayer)      multiple                  84954240  \n",
      "_________________________________________________________________\n",
      "decoder (TFT5MainLayer)      multiple                  113275008 \n",
      "=================================================================\n",
      "Total params: 222,903,552\n",
      "Trainable params: 222,903,552\n",
      "Non-trainable params: 0\n",
      "_________________________________________________________________\n"
     ]
    }
   ],
   "source": [
    "val_loss = tf.keras.metrics.Mean(name='val_loss')\n",
    "val_accuracy = tf.keras.metrics.SparseCategoricalAccuracy(name='val_accuracy')\n",
    "\n",
    "model.summary()"
   ]
  },
  {
   "cell_type": "code",
   "execution_count": 7,
   "metadata": {},
   "outputs": [
    {
     "data": {
      "text/plain": [
       "<tensorflow.python.training.tracking.util.CheckpointLoadStatus at 0x7f34b56c4320>"
      ]
     },
     "execution_count": 7,
     "metadata": {},
     "output_type": "execute_result"
    }
   ],
   "source": [
    "ckpt_file = \"../models/checkpoint_cross_lingual.ckpt\"\n",
    "model.load_weights(ckpt_file)"
   ]
  },
  {
   "cell_type": "markdown",
   "metadata": {},
   "source": [
    "## Dataset\n",
    "We will load the translated CNN Daily Mail dataset from the tfrecords files"
   ]
  },
  {
   "cell_type": "code",
   "execution_count": 8,
   "metadata": {},
   "outputs": [],
   "source": [
    "en_de_prefix = tf.reshape(tokenizer.encode(\"summarize: en_to_ger \", return_tensors=\"tf\"), (-1,))\n",
    "de_en_prefix = tf.reshape(tokenizer.encode(\"summarize: ger_to_en \", return_tensors=\"tf\"), (-1,))\n",
    "en_en_prefix = tf.reshape(tokenizer.encode(\"summarize: en_to_en \", return_tensors=\"tf\"), (-1,))\n",
    "de_de_prefix = tf.reshape(tokenizer.encode(\"summarize: ger_to_ger \", return_tensors=\"tf\"), (-1,))"
   ]
  },
  {
   "cell_type": "code",
   "execution_count": 9,
   "metadata": {},
   "outputs": [
    {
     "data": {
      "text/plain": [
       "9"
      ]
     },
     "execution_count": 9,
     "metadata": {},
     "output_type": "execute_result"
    }
   ],
   "source": [
    "prefix_length = de_de_prefix.shape[0]\n",
    "prefix_length"
   ]
  },
  {
   "cell_type": "code",
   "execution_count": 10,
   "metadata": {},
   "outputs": [],
   "source": [
    "import numpy as np\n",
    "MAX_ARTICLE_LEN = 512\n",
    "MAX_HIGHLIGHT_LEN = 150\n",
    "GLOBAL_BATCH_SIZE = 8\n",
    "\n",
    "def get_tfrecord_dataset(file_name):\n",
    "    features = {\n",
    "        'ger_x': tf.io.FixedLenFeature([MAX_ARTICLE_LEN-8], tf.int64),\n",
    "        'ger_x_mask': tf.io.FixedLenFeature([MAX_ARTICLE_LEN-8], tf.int64),\n",
    "        'ger_y': tf.io.FixedLenFeature([MAX_HIGHLIGHT_LEN], tf.int64),\n",
    "        'ger_y_ids': tf.io.FixedLenFeature([MAX_HIGHLIGHT_LEN], tf.int64),\n",
    "\n",
    "        'en_x': tf.io.FixedLenFeature([MAX_ARTICLE_LEN-8], tf.int64),\n",
    "        'en_x_mask': tf.io.FixedLenFeature([MAX_ARTICLE_LEN-8], tf.int64),\n",
    "        'en_y': tf.io.FixedLenFeature([MAX_HIGHLIGHT_LEN], tf.int64),\n",
    "        'en_y_ids': tf.io.FixedLenFeature([MAX_HIGHLIGHT_LEN], tf.int64),\n",
    "    }\n",
    "\n",
    "    dataset = tf.data.TFRecordDataset(f\"../data/{file_name}.tfrecord\")\n",
    "\n",
    "    # Taken from the TensorFlow models repository: https://github.com/tensorflow/models/blob/befbe0f9fe02d6bc1efb1c462689d069dae23af1/official/nlp/bert/input_pipeline.py#L24\n",
    "    def decode_record(record, features):\n",
    "        \"\"\"Decodes a record to a TensorFlow example.\"\"\"\n",
    "        example = tf.io.parse_single_example(record, features)\n",
    "\n",
    "        # tf.Example only supports tf.int64, but the TPU only supports tf.int32.\n",
    "        # So cast all int64 to int32.\n",
    "        for name in list(example.keys()):\n",
    "            t = example[name]\n",
    "            if t.dtype == tf.int64:\n",
    "                t = tf.cast(t, tf.int32)\n",
    "            example[name] = t\n",
    "        return example\n",
    "\n",
    "\n",
    "    def select_data_from_record(record):\n",
    "        return [\n",
    "            tf.strided_slice(tf.concat([de_de_prefix, record['ger_x']], axis=0), [0], [-1]), tf.concat([tf.ones(8, dtype=tf.int32), record['ger_x_mask']], axis=0), record['ger_y'], record['ger_y_ids'],\n",
    "            tf.strided_slice(tf.concat([en_de_prefix, record['en_x']], axis=0), [0], [-1]), tf.concat([tf.ones(8, dtype=tf.int32), record['en_x_mask']], axis=0), record['ger_y'], record['ger_y_ids'],\n",
    "            tf.strided_slice(tf.concat([de_en_prefix, record['ger_x']], axis=0), [0], [-1]), tf.concat([tf.ones(8, dtype=tf.int32), record['ger_x_mask']], axis=0), record['en_y'], record['en_y_ids'],\n",
    "            tf.strided_slice(tf.concat([en_en_prefix, record['en_x']], axis=0), [0], [-1]), tf.concat([tf.ones(8, dtype=tf.int32), record['en_x_mask']], axis=0), record['en_y'], record['en_y_ids'],\n",
    "        ]\n",
    "    \n",
    "    dataset = dataset.map(lambda record: decode_record(record, features))\n",
    "    dataset = dataset.map(select_data_from_record)\n",
    "    dataset = dataset.shuffle(100)\n",
    "    return dataset.batch(GLOBAL_BATCH_SIZE)\n",
    "\n",
    "test_ds = get_tfrecord_dataset(\"corss_lingual_test_cnn_daily_mail\")"
   ]
  },
  {
   "cell_type": "code",
   "execution_count": 11,
   "metadata": {},
   "outputs": [
    {
     "name": "stdout",
     "output_type": "stream",
     "text": [
      "(8, 512) (8, 512) (8, 150) (8, 150)\n",
      "(8, 512) (8, 512) (8, 150) (8, 150)\n",
      "(8, 512) (8, 512) (8, 150) (8, 150)\n",
      "(8, 512) (8, 512) (8, 150) (8, 150)\n"
     ]
    }
   ],
   "source": [
    "def get_summaries(ds):\n",
    "    for i in range(1,5):\n",
    "        yield ds[(i-1)*4], ds[i*4-3], ds[i*4-2], ds[i*4-1]\n",
    "\n",
    "\n",
    "for ds in test_ds.take(1):\n",
    "    for i in get_summaries(ds):\n",
    "        print(i[0].shape, i[1].shape, i[2].shape, i[3].shape)"
   ]
  },
  {
   "cell_type": "markdown",
   "metadata": {},
   "source": [
    "## Evaluation\n",
    "### Define Rouge Score"
   ]
  },
  {
   "cell_type": "code",
   "execution_count": 22,
   "metadata": {},
   "outputs": [],
   "source": [
    "class RougeScore:\n",
    "    '''\n",
    "    mostly from https://github.com/google-research/text-to-text-transfer-transformer/blob/master/t5/evaluation/metrics.py \n",
    "    '''\n",
    "    \n",
    "    def __init__(self, score_keys=None)-> None:\n",
    "        super().__init__()\n",
    "        if score_keys is None:  \n",
    "            self.score_keys = [\"rouge1\", \"rouge2\", \"rougeLsum\"]\n",
    "        \n",
    "        self.scorer = rouge_scorer.RougeScorer(self.score_keys)\n",
    "        self.aggregator = scoring.BootstrapAggregator()\n",
    "        \n",
    "        \n",
    "    @staticmethod\n",
    "    def prepare_summary(summary):\n",
    "            # Make sure the summary is not bytes-type\n",
    "            # Add newlines between sentences so that rougeLsum is computed correctly.\n",
    "            summary = summary.replace(\" . \", \" .\\n\")\n",
    "            return summary\n",
    "    \n",
    "    def __call__(self, target, prediction):\n",
    "        \"\"\"Computes rouge score.''\n",
    "        Args:\n",
    "        targets: string\n",
    "        predictions: string\n",
    "        \"\"\"\n",
    "\n",
    "        target = self.prepare_summary(target)\n",
    "        prediction = self.prepare_summary(prediction)\n",
    "        \n",
    "        self.aggregator.add_scores(self.scorer.score(target=target, prediction=prediction))\n",
    "\n",
    "        return \n",
    "    \n",
    "    def reset_states(self):\n",
    "        self.rouge_list = []\n",
    "\n",
    "    def result(self):\n",
    "        result = self.aggregator.aggregate()\n",
    "        \n",
    "        for key in self.score_keys:\n",
    "            score_text = \"%s = %.2f, 95%% confidence [%.2f, %.2f]\"%(\n",
    "                key,\n",
    "                result[key].mid.fmeasure*100,\n",
    "                result[key].low.fmeasure*100,\n",
    "                result[key].high.fmeasure*100\n",
    "            )\n",
    "            print(score_text)\n",
    "        \n",
    "        return {key: result[key].mid.fmeasure*100 for key in self.score_keys}"
   ]
  },
  {
   "cell_type": "markdown",
   "metadata": {},
   "source": [
    "### Compute Summaries"
   ]
  },
  {
   "cell_type": "code",
   "execution_count": 13,
   "metadata": {},
   "outputs": [
    {
     "name": "stdout",
     "output_type": "stream",
     "text": [
      "0 : time genreate batch: 13.171508717536927\n",
      "10 : time genreate batch: 151.7758148908615\n",
      "20 : time genreate batch: 149.52904710769653\n",
      "30 : time genreate batch: 148.9606782436371\n",
      "40 : time genreate batch: 162.86957681179047\n",
      "50 : time genreate batch: 161.67399640083312\n",
      "60 : time genreate batch: 154.9133793592453\n",
      "70 : time genreate batch: 150.52307457923888\n",
      "80 : time genreate batch: 157.7699389219284\n",
      "90 : time genreate batch: 160.59141280651093\n",
      "100 : time genreate batch: 161.19146971702577\n"
     ]
    }
   ],
   "source": [
    "predictions = []\n",
    "start_time = time.time()\n",
    "\n",
    "for i, ds_item in enumerate(test_ds): \n",
    "    for (input_ids, input_mask, y, y_ids) in get_summaries(ds_item):\n",
    "        summaries = model.generate(\n",
    "            input_ids=input_ids, \n",
    "            attention_mask=input_mask, \n",
    "            early_stopping=True, \n",
    "            max_length=150\n",
    "        )\n",
    "\n",
    "        articles = [tokenizer.decode(g, skip_special_tokens=True, clean_up_tokenization_spaces=False) for g in input_ids]\n",
    "\n",
    "        pred = [tokenizer.decode(g, skip_special_tokens=True, clean_up_tokenization_spaces=False) for g in summaries]\n",
    "        real = [tokenizer.decode(g, skip_special_tokens=True, clean_up_tokenization_spaces=False) for g in y]\n",
    "    \n",
    "        for pred_sent, real_sent, article_sent in zip(pred, real, articles):\n",
    "            predictions.append(str(\"article: \" + article_sent + \"\\n\\npred sentence: \" + pred_sent + \"\\n\\nreal sentence: \" + real_sent))\n",
    "    \n",
    "    if (i % 10) == 0:\n",
    "        elapsed = (time.time() - start_time) / 10\n",
    "        print(i,\": time genreate batch:\", elapsed)\n",
    "        start_time = time.time()\n",
    "    if i > 100:\n",
    "        # otherwise it will take ages\n",
    "        break\n",
    "\n",
    "\n",
    "# rouge_score.result()"
   ]
  },
  {
   "cell_type": "markdown",
   "metadata": {},
   "source": [
    "### Lets have a look at some of these predicted summaries"
   ]
  },
  {
   "cell_type": "code",
   "execution_count": 14,
   "metadata": {},
   "outputs": [],
   "source": [
    "import numpy as np\n",
    "len_predictions = len(predictions)\n",
    "\n",
    "def get_random_prediction():\n",
    "    return predictions[np.random.randint(len_predictions)]"
   ]
  },
  {
   "cell_type": "code",
   "execution_count": 15,
   "metadata": {
    "scrolled": true
   },
   "outputs": [
    {
     "name": "stdout",
     "output_type": "stream",
     "text": [
      "article: summarize: en_to_ger Lazio replaced their fierce city rivals Roma as the leading challengers in the battle to chase down Serie A leaders Juventus by hammering Empoli 4-0 at the Stadio Olimpico. The Biancocelesti took a fourth-minute lead through captain Stefano Mauri with Miroslav Klose adding a second just after the half-hour mark. Antonio Candreva and Felipe Anderson plundered further goals to ensure an eighth straight league win for the Coppa Italia finalists, who now lead Roma by a single point. Miroslav Klose celebrates as he grabs Lazios second goal of the game in the win against Empoli . Lazio midfielder Stefano Mauri celebrates with teammate Antonio Candreva after scoring . The Giallorossi are now 13 points behind Juve after struggling to draw 1-1 at Torino on Sunday. Rudi Garcia's men needed an Alessandro Florenzi penalty to take the lead on 57 minutes, but Maxi Lopez promptly equalised to send Roma towards their ninth draw from 13 games. Napoli's Belgium forward Dries Mertens celebrates after scoring during their win against Fiorentina . Napoli shrugged off the disappointment of a disallowed ghost goal to push on and beat Fiorentina 3-0 to retake fourth place. The Azzurri returned to the race for a Champions League place when Dries Mertens opened the scoring midway through the first half. Gonzalo Higuain's thunderous drive appeared to cross the line before the break, only for the officials to rule otherwise, meaning Marek Hamsik and Jose Callejon had to make the points safe. Slovakian midfielder Marek Hamsik celebrates his goal as Napoli thumped Fiorentina at home . Palermo's long wait for a second away win came to an end with a 3-1 win at Udinese. Achraaf Lazaar put the visitors on their way in the 15th minute before Luca Rigoni doubled Palermo's lead six minutes later and Ivaylo Chochev made it 3-0 in the 66th minute. U\n",
      "\n",
      "pred sentence: Lazio besiegte Empoli im Stadio Olimpico mit 4: 4. Stefano Mauri und Miroslav Klose erzielten die beiden Tore. Die Giallorossi sind nun 13 Punkte hinter Juve, nachdem sie am Sonntag gegen Torino 1: 1 gezogen hatten. Napoli besiegten Fiorentina mit 3: 1 und holten sich den vierten Platz in der Champions League.\n",
      "\n",
      "real sentence: Lazio schloss mit einem 4: 0-Kantersieg über Empoli zu Spitzenreiter Juventus auf. Durch den Sieg übersprang Lazio Verfolger Roma mit 12 Punkten Rückstand auf Juve auf den zweiten Platz. Napoli zertrümmerte drei Punkte Rückstand auf die Fiorentina und eroberte bequem Platz vier zurück. Palermo feierte mit dem Sieg bei Udinese erst den zweiten Auswärtssieg der Saison.\n"
     ]
    }
   ],
   "source": [
    "print(get_random_prediction())"
   ]
  },
  {
   "cell_type": "code",
   "execution_count": 16,
   "metadata": {},
   "outputs": [
    {
     "name": "stdout",
     "output_type": "stream",
     "text": [
      "article: summarize: ger_to_ger Chelsea trifft im Juli in einem Freundschaftsspiel auf Paris Saint-Germain, das französische Team, das Jose Mourinho in dieser Saison aus der Champions League warf. Die Blues, die in der Runde der letzten 16 nach einem 2: 2-Unentschieden an der Stamford Bridge auf Auswärtstore gedrängt wurden, spielen am 25. Juli in North Carolina gegen PSG. Es ist eines von drei Spielen, die Mourinhos Mannschaft auf dem Weg zur wahrscheinlichen Titelverteidigung in der Premier League bestreiten wird. John Terry führt die Feierlichkeiten an, als Chelsea dem Premier-League-Titel mit einem 0: 0-Unentschieden bei Arsenal näherkommt. Eden Hazard, der Fußballer des Jahres, wird für Chelsea auflaufen, wenn sie im Sommer in die USA reisen. New York Red Bulls - 22. Juli - New Jersey. Paris Saint-Germain - 25. Juli - Charlotte, North Carolina. Barcelona - 28. Juli - Washington D.C. Fiorentina - 5. August - Stamford Bridge: Chelsea, bei nur noch vier ausstehenden Spielen zehn Punkte vor Arsenal, trifft am 22. Juli in Washington ebenfalls auf die New York Red Bulls und sechs Tage später auf den spanischen Giganten Barcelona. Die Chelsea-Fans bekommen dann ihre Mannschaft zu sehen, bevor die Premier-League-Kampagne am 5. August mit einem Freundschaftsspiel gegen Fiorentina an der Stamford Bridge beginnt. Alle vier Spiele markieren die Teilnahme von Chelsea am International Champions Cup in diesem Sommer s Vorsaison mit Manchester United, gegen das Mourinhos Mannschaft nicht antreten wird, sowie LA Galaxy, Porto und San Jose Earthquakes. \"Ich freue mich, dass wir unsere Spielpläne für einen aufregenden Sommer bekanntgeben können\", sagte Chelsea-Aufsichtsratschef Bruce Buck. Wie versprochen, treffen wir auf einige hervorragende Gegner an verschiedenen ikonischen Orten in den Vereinigten Staaten und zu allem Überfluss freuen wir uns, die Fiorentina an der Stamford Bridge vor unseren treuen Fans zu empfangen. \"Die Tour ermöglicht es uns, uns umfassend\n",
      "\n",
      "pred sentence: Chelsea trifft am 25. Juli in North Carolina auf PSG, das französische Team, das Jose Mourinho in dieser Saison aus der Champions League warf. Die Blues treffen am 22. Juli ebenfalls auf die New York Red Bulls und sechs Tage später auf die spanischen Giganten Barcelona. Die Premier-League-Kampagne beginnt am 5. August mit einem Freundschaftsspiel gegen Fiorentina an der Stamford Bridge.\n",
      "\n",
      "real sentence: Chelsea bestreitet drei Spiele innerhalb von sechs Tagen in den Vereinigten Staaten. Sie treffen auf New York Red Bulls, Paris Saint-Germain und Barcelona. Die Fiorentina reist dann am 5. August zu einem Freundschaftsspiel an die Stamford Bridge. Vier Spiele machen Chelseas Teilnahme am Champions Cup perfekt.\n"
     ]
    }
   ],
   "source": [
    "print(get_random_prediction())"
   ]
  },
  {
   "cell_type": "code",
   "execution_count": 17,
   "metadata": {},
   "outputs": [
    {
     "name": "stdout",
     "output_type": "stream",
     "text": [
      "article: summarize: en_to_ger Kell Brook could have had the blockbuster fight he craves against Amir Khan instead of treading water against Frankie Gavin, if only his promoter had minded his words. Now that Battle of Britain – potentially at Wembley Stadium – may never take place. So says Khans father Shah as his son gets ready to finally confirm the over-criticised Chris Algieri as his opponent in New York on the same night when Brook will be defending his world welterweight title against Gavin at London's O2 Arena on May 20 . Promoter Eddie Hearn (centre) stands behind Kell Brook (left) and Frankie Gavin at the O2 Arena . Amir Khan celebrates his victory over Devon Alexander at the MGM Grand in Las Vegas last year . Shah Khan, who also supervises affairs, says: 'Kell could have had his chance against Amir right now if Eddie Hearn had toned it down. But instead of being patient he's been so disrespectful. 'If he carries on like that the Brook fight will not take place. He keeps shouting about how much the fight is worth but I don't care about the money. For Amir it's more about the big fights and his status in boxing. 'Amir's told Kell he will be happy to box him in the next year but Eddie's jeopardising that. He carries on calling us out and insulting us. Any more of that and it will be all over. 'Kell has said plenty, too. But we don't think this is his fault. He seems a good lad. It's Eddie putting the words in his mouth.' Initially, Hearn's provocative manoeuvres came as a surprise to the rival camp. Khan Snr says: 'Eddie will talk reasonably in the negotiating room. Pleasant with us. But as soon as he gets outside he starts with the nonsense.' Hearn (centre) speaks during a press conference to announce the fight between Brook and Gavin . Khan (right) poses for a photo alongside father Shah (centre) and brother Haroon in Sheffield in 2013 . The Khans\n",
      "\n",
      "pred sentence: Kell Brook könnte gegen Amir Khan gegen Frankie Gavin in New York kämpfen. Der Kampf könnte am 20. Mai in der Londoner O2 Arena stattfinden. Khans Vater Shah sagt, dass es nicht seine Schuld sei, dass Eddie Hearn die Worte in seinen Mund setzt.\n",
      "\n",
      "real sentence: Kell Brook wollte diesen Sommer unbedingt im Wembley Stadium gegen Amir Khan antreten, stattdessen tritt Brook am 20. Mai in der O2 Arena gegen Frankie Gavin an. Amir Khans Vater Shah sagt, Brook hätte den Kampf haben können, den er wollte, aber Khan Snr behauptet, Promoter Eddie Hearn sei \"respektlos\" gewesen. Andre Ward sieht Paul Smith vor einem Kampf gegen Carl Froch als idealen Gegner.\n"
     ]
    }
   ],
   "source": [
    "print(get_random_prediction())"
   ]
  },
  {
   "cell_type": "code",
   "execution_count": 18,
   "metadata": {},
   "outputs": [
    {
     "name": "stdout",
     "output_type": "stream",
     "text": [
      "article: summarize: en_to_ger After Tony Blair’s speech in his former constituency of Sedgefield last week, the former PM made an appearance at a low-key private fundraising dinner for 15 Labour target seats. But despite the fact that Blair has a record of three general election victories, only one Shadow Cabinet minister, Chuka Umunna, could be bothered to attend. During a dinner held in an Indian banquet hall in Morden, Blair (pictured last week in Newton Aycliffe, County Durham) name-checked Ed Miliband only once, devoting his speech instead to his own achievements . The dashing Shadow Business Secretary is being mentored by Lord Mandelson, the former Blairite Cabinet minister, who wants to see him as the next Labour leader. The programme for the dinner, held in an Indian banquet hall in less-than-glamorous Morden High Street, South London, was littered with errors and even misspelt Umunna’s name. A clearly uncomfortable Blair name-checked Ed Miliband only once, devoting his speech instead to his own achievements. Bizarrely, Blair shared a stage with musician Steve Brookstein, who won the first X Factor ten years ago but whose career sank even faster than Blair’s popularity. Brookstein’s last record (he had a box full of them to give away) is an apt metaphor for Blair in the eyes of the current Labour Party. It’s called The Forgotten Man. One of many critics of Blair’s appearance on the election trail was George Galloway, who is fighting to retain Bradford West for the Respect party. He said: ‘Blair dripping with blood, pockets stuffed with gold beyond dreams of avarice, comes out fighting for New Labour.’ Galloway is one to talk. Last year he earned £303,000 in addition to his MP’s salary, mostly from £1,600-an-hour appearances on Iran’s Press TV and Russia Today. The national treasure that is Andrew Marr gets to the heart of what is wrong with the election campaign. ‘There’s this thing called the deficit sitting there like a great stinking ordure in the middle of public life. To deal with it, big taxes have to go up. The Tories seem\n",
      "\n",
      "pred sentence: Tony Blair nahm letzte Woche an einem privaten Fundraising-Dinner für 15 Labour-Ziele teil. Während des Abendessens in einem indischen Bankettsaal in Morden namentlich überprüfte er Ed Miliband nur ein Mal. Der ehemalige PM teilte eine Bühne mit Musiker Steve Brookstein, der vor zehn Jahren den ersten X Factor gewann.\n",
      "\n",
      "real sentence: Eine frühere Version dieses Artikels bezog sich fälschlicherweise auf Erith und Thamesmeads konservative Parlamentskandidatin Anna Firth, die Bilder von Abfällen in Bromley postete, um ihren politischen Gegner zu beschämen. Wir freuen uns, klarstellen zu können, dass die Fotos tatsächlich im von den Konservativen kontrollierten Bexley aufgenommen wurden und es nicht die Absicht gab, zu unterstellen, dass Frau Firth sich der Wahlkreisgrenzen nicht bewusst war.\n"
     ]
    }
   ],
   "source": [
    "print(get_random_prediction())"
   ]
  },
  {
   "cell_type": "code",
   "execution_count": 19,
   "metadata": {},
   "outputs": [
    {
     "name": "stdout",
     "output_type": "stream",
     "text": [
      "article: summarize: ger_to_en Muster, die sowohl im sehr großen als auch im sehr kleinen Maßstab auftreten, sind in der Natur selten. Doch Forscher haben ein derartiges Muster an zwei scheinbar unzusammenhängenden Orten gefunden - Zellen in der menschlichen Haut und die geheimnisvollen Feenkreise in Namibia. Während die Verteilung der Wüstenelfenkreise zufällig aussehen mag, als ob die Landschaft mit Sommersprossen markiert wäre, entspricht das Muster dem Verteilungsmuster der Hautzellen. Forscher haben ein ähnliches Muster an zwei scheinbar voneinander unabhängigen Orten gefunden - Hautzellen und geheimnisvolle Feenkreise in der namibischen Wüste. Die Abbildung auf der linken Seite zeigt die Verteilung der Hautzellen, und die auf der rechten Seite zeigt Feenkreise, die ebenfalls in Polygonen angeordnet sind. \"Es ist eine völlig erstaunliche, seltsame Übereinstimmung\", sagte Professor Robert Sinclair, Leiter der Abteilung für Mathematische Biologie am Okinawa Institute of Science and Technology Graduate University (OIST) in Japan. Wüstenelfenkreise gelten als eines der größten Rätsel der Natur, weil niemand weiß, wie sie entstehen. Gefunden in Namibia, handelt es sich um große unfruchtbare Flecken Erde mit einem Durchmesser zwischen drei Metern und 20 Metern, die von kurzem Gras beringt werden, das das Gestrüpp wie Krater auf dem Mond oder große Sommersprossen befleckt. Mehrere Teams von Wissenschaftlern versuchen, die bizarren Markierungen zu erklären, und Vorschläge umfassen Termiten, die Gras naschen, Zebras, die sich im Kreis drehen, Konkurrenz um Ressourcen, Kohlenwasserstoffe, die aus den Tiefen der Erde ausströmen, um Vegetationsteile und sogar Außerirdische zu töten. Wüstenfeenkreise (im Bild) gelten als eines der größten Rätsel der Natur, weil inzwischen bekannt ist, wie sie entstehen. In Namibia gefunden, handelt es sich\n",
      "\n",
      "pred sentence: Scientists in Japan have found a similar pattern in Namibia . They have found cells in the human skin and feces in the desert . The pattern is similar to the pattern of the skin cells . Scientists say it is a 'completely astonishing, seltsame interpretation\n",
      "\n",
      "real sentence: It is not known how fairy circles in the Namibian desert are made . Clue may lie in the distribution of the barren circles of Earth in grassland . Researchers in Japan discovered their distribution is similar to skin cells . Like human cells, the mysterious circles typically have six neighbours\n"
     ]
    }
   ],
   "source": [
    "print(get_random_prediction())"
   ]
  },
  {
   "cell_type": "code",
   "execution_count": 20,
   "metadata": {},
   "outputs": [
    {
     "name": "stdout",
     "output_type": "stream",
     "text": [
      "article: summarize: ger_to_en Inter Mailand ist bereit, Yaya Toure einen Fünfjahresvertrag anzubieten, um ihn im Sommer von Manchester City wegzulocken. Trotz der Tatsache, dass Toure im nächsten Monat 32 Jahre alt wird, ist Roberto Mancini so verzweifelt, den starken Mittelfeldspieler zu verpflichten, dass er bereit ist, dem Mittelfeldspieler der Elfenbeinküste einen Vertrag zu geben, der ihn über seinen 37. Geburtstag hinaus spielen lässt. Mancini, der Toure 2010 für Manchester City unter Vertrag nahm, arbeitet hinter den Kulissen hart daran, Toure in der kommenden Saison in die Serie A zu holen. Manchester Citys Mittelfeldakteur Yaya Toure bleibt ein Top-Kandidat für den Serie-A-Giganten Inter Mailand. Toure, im Bild mit Vincent Kompany, erhält im Sommer ein neues Angebot von Manchester City. Der ehemalige Manchester-City-Manager Roberto Mancini möchte Toure unbedingt ins San Siro holen. Der Italiener glaubt, dass Toure die Fähigkeit besitzt, Spiele in der Serie A bis weit in die Mitte der 30er Jahre zu dominieren, wie es Juventus-Mittelfeldspieler Andrea Pirlo getan hat. Die Vertreter des Mittelfeldspielers sind sich des Interesses von Inter bewusst und halten sich Optionen bis in den Sommer hinein offen. City will Toure, der derzeit 220.000 Pfund pro Woche verdient, halten und wird ihm am Ende der Saison einen neuen Vertrag anbieten, der auch die Möglichkeit beinhaltet, eine Botschafterrolle beim Club zu übernehmen, wenn seine Spieltage vorbei sind. Aber Inter wird Citys Entschlossenheit, Toure in diesem Sommer zu halten, auf die Probe stellen und hoffen, dass die Aussicht auf einen langfristigen Vertrag ausreicht, um den ehemaligen Barcelona-Spieler zum Verlassen Englands zu bewegen. Der 31-Jährige erzielte beim überraschenden 2: 1-Sieg von Manchester City gegen Crystal Palace ein Trosttor. Toure verlässt nach der Premier-League-Niederlage seiner Mannschaft im Selhurst Park den Platz.\n",
      "\n",
      "pred sentence: Manchester City midfielder Yaya Toure is set to join Inter Milan in the summer . The 31-year-old is 32 years old but Roberto Mancini is keen to sign him . Inter are willing to offer him a new contract at the end of the season . Toure scored a stunning goal against Crystal Palace on Saturday .\n",
      "\n",
      "real sentence: Serie A giants Inter Milan are stepping up their efforts to sign Yaya Toure . Roberto Mancini is keen on working with the midfielder once again . Manchester City will offer Toure new deal at the end of the season . Toure scored in Manchester Citys 2-1 defeat at Selhurst Park . READ: Toure accused by Carragher of ducking out of the way of Puncheons free-kick . CLICK HERE for all the latest Manchester City news .\n",
      "article: summarize: en_to_en German air traffic control officials today called for technology that ground staff could use in an emergency to take remote command of a plane. Klaus-Dieter Scheurle, head of the Deutsche Flugsicherung authority, urged the aviation industry to develop the system which could help prevent a repeat of the Germanwings crash last month. Investigators believe co-pilot Andreas Lubitz locked his captain out of the cockpit and deliberately crashed the plane into a French mountainside on March 24, killing all 150 people on board. Disaster: Rescue workers and debris from the Germanwings jet at the crash site near Seyne-les-Alpes, France . Call: Klaus-Dieter Scheurle (above), head of the Deutsche Flugsicherung authority, urged the aviation industry to develop the system which could help prevent a repeat of the Germanwings crash last month . Mr Scheurle said in Frankfurt: ‘Such an event might cause us to reconsider systems which would allow the control of aircraft to be taken over by personnel on the ground in emergency situations.’ He added that it was important to ‘think past todays technology’, explaining that such a system could be used in an emergency on the ground to take remote control of a plane and safely land it. Mr Scheurle said that it was not the ‘simplest solution’, adding that similar technology is already available for piloting drones - but it could take a decade to develop it for passenger jets. Pilots associations are sceptical of the plans, with German pilots' union Vereinigung Cockpit saying the idea of remote control from the ground could be open to abuse. In charge: Investigators believe co-pilot Andreas Lubitz (pictured) locked his captain out of the cockpit and deliberately flew the plane into a French mountainside on March 24, killing all 150 people on board . Tribute: Flowers in front of the monument in homage to the victims of the Germanwings flight in Le Vernet . A spokesman said: ‘We also have to ask whether such a solution would really be an improvement. After all, it's the pilots who are sitting in the cockpit and they're the ones with all the information.’ The British Airline Pilots' Association also urged caution. ‘We must act with careful consideration to ensure new safety risks or concerns are not created, such as\n",
      "\n",
      "pred sentence: Klaus-Dieter Scheurle, head of Deutsche Flugsicherung authority, urged aviation industry to develop system . Investigators believe co-pilot Andreas Lubitz deliberately crashed plane into French mountainside on March 24 . He said such a system could be used in emergency on the ground to take remote control of a plane .\n",
      "\n",
      "real sentence: Deutsche Flugsicherung urges aviation industry to develop safety system . Similar technology is already available for piloting drones, but not planes . Co-pilot deliberately crashed jet last month in Alps killing all 150 on board . Separate report says passengers could hack planes using in-flight TVs .\n",
      "article: summarize: en_to_en A year after he launched his own app and made headlines, Leo Grand is still homeless . On the night he launched his first app, a homeless man predicted that his life was going to change. I can work at Google, I can work at SpaceX,' Leo Grand gleefully stated minutes after his carpooling app Trees for Cars went live. 'This will change my life in a magnificent way.' It's been a year and a half since that moment led to Grand and his mentor, Patrick McConlogue, becoming media sensations. But Trees for Cars is no longer available, and Grand is still homeless, Mashable reported. In August 2013 McConlogue offered Grand, the homeless man he saw every day on his walk to work in New York City, a deal: He would either give him $100, or he would teach him how to code. Grand realized he could go through '$100 in a few days' and instead jumped at the opportunity to learn something new that he could then 'turn into something more,' he told Business Insider in 2013. McConlogue provided Grand with daily lessons, as well as a laptop, wireless hot spot, coding books, a solar charger and office space at the start-up where he worked once it got too cold to type outside. Grand, who once said he wasn't 'the average homeless person' and that he considered himself 'eco-friendly', came up with an app designed to get more cars off the road. 'When I first launched my app it was good,' Grand told Mashable this week. 'I was excited, the press was excited, it was just a great moment.' Grand and McConlogue appeared on TV shows, and he says people loved him everywhere and gave him free coffee at restaurants. Being on NBC, he said, was the highlight of his year. 'We got to stay in a nice hotel at Rockefeller Plaza. A nice, swanky hotel. We got the red carpet rolled out in front of us!' he said. But Grand is still living on the streets, and he said the number one question people ask him is why he's still homeless. Grand created Trees and Car\n",
      "\n",
      "pred sentence: Leo Grand and his mentor Patrick McConlogue became media sensations when they launched their carpooling app Trees for Cars in August 2013 . Grand realized he could go through '$100 in a few days' and instead jumped at the opportunity to learn something new . He provided Grand with daily lessons, as well as a laptop, wireless hot spot, coding books, a solar charger and office space at the start-up where he worked once it got too cold to type outside .\n",
      "\n",
      "real sentence: Leo Grand was offered a deal: either $100 or lessons in coding from Patrick McConlogue, who passed him on the street every day . After daily coding lessons Grand launched carpooling app Trees for Cars . Grand said he made $15,000 from the app, which is no longer in stores because he does not want to pay for the server space . He said he hasn't found the time to code every day anymore . Grand insists he likes living outdoors, but said he should have come up with an idea that made more money .\n",
      "article: summarize: ger_to_en (CNN) Die meisten Kinder wollen ausgehen und spielen, wenn sie ihre Hausaufgaben früh erledigen. Aber Zuriel Oduwole ist nicht \"die meisten Kinder\". Wenn sie ihrer Arbeit nachgeht, packt sie Kamera und Mikrofone ein, steigt ins Flugzeug und interviewt stattdessen Präsidenten. Als Sohn eines nigerianischen Vaters und einer mauritischen Mutter in Kalifornien geboren, wird Oduwole oft als \"der jüngste Filmemacher der Welt\" beschrieben. Mit 12 Jahren hat sie bereits vier Dokumentarfilme auf dem Buckel, die sich allesamt mit afrikanischen Themen befassen. Alles begann vor drei Jahren, als Oduwole beschloss, sich mit einem Film über die Revolution in Ghana an einem Dokumentarfilm-Wettbewerb für Schulen zu beteiligen. Jerry John Rawlings (Ghana) John Kufour (Ghana) Joyce Banda (Malawi) Jakaya Kikwete (Tansania) Rajkeswur Purryag (Mauritius) Uhuru Kenyatta (Kenia) Goodluck Johnathan (Nigeria) Salva Kirr Mayardit (Südsudan) Ellen Johnson Sirleaf (Liberia) Jorge Fonseco (Kap Verde) Portia Simpson Miller (Jamaika) Thomas Thabane (Lesotho) Ralph Gonsalves (St. Vincent & Grenadinen) Denzil Douglas (St. Kitts & Nevis) Nach diesem ersten Ausflug ins Filmemachen wurde Oduwole vom Käfer des Regisseurs gebissen und wollte schnell weitere Filme drehen. Sie wandte sich dem Internet zu, um die Werkzeuge zu finden, die sie brauchte, und ließ sich auf den gesamten Prozess des Filmemachens ein. \"Wenn ich die Drehbücher für meine Dokumentarfilme schneide, produziere, einrichte und schreibe, muss ich eine Menge lernen\", sagt Oduwole, der Autodidakt ist und Online-Schnitt- und\n",
      "\n",
      "pred sentence: Zuriel Oduwole is the youngest filmmaker in the world . She has made four docs on the Buckel, all dealing with African topics . The filmmakers use the Internet to find the tools they need to make their films .\n",
      "\n",
      "real sentence: Zuriel Oduwole is a 12-year-old filmmaker . To date, she has interviewed 14 heads of state .\n",
      "article: summarize: en_to_en The Irish challenge for next week’s £1million Crabbie’s Grand National looks like being eight strong after trainer Robbie Hennessy confirmed Rubi Light a definite runner. The grade one winner over two and a half miles schooled over Aintree-style fences on Saturday under big race jockey Andrew Lynch. Rubi Light had the option of running Friday’s shorter Topham Chase but Hennessy said: ‘He is going to run. There is only one National. One of his runs over three miles was when he was second in the Lexus Chase to Synchronised and he went on to win the Gold Cup that season. Irish trainer Robbie Hennessy confirmed Rubi Light is a definite runner in the Grand National . ‘Rubi Light is not as fast as he used to be but his jumping has been fantastic this year and he is in great form.’ The Irish challenge also includes Jim Culloty’s Lord Windermere (Robbie McNamara) and Spring Heeled (Nick Scholfield), Willie Mullins-trained Ballycasey (Ruby Walsh), Mouse Morris’s First Lieutenant (Nina Carberry) and Gordon Elliott’s Cause Of Causes (Paul Carberry). On Saturday Maurice Phelan confirmed Portrait King (Davy Condon) an intended starter while Peter Fahey said Owega Star (Robert Power) also runs. Ruby Walsh riding Mon Parrain clear the last to win Handicap Steeple Chase at Sandown . Meanwhile, Richie McLernon has been confirmed for the mount on Emma Lavelle’s Court By Surprise while condition jockey Sean Bowen has a chance to pick up the one steeplechase win he still requires to be qualified to partner Paul Nicholls-trained Mon Parrain at Aintree when he rides Virak in the 888sport.com Handicap Chase at Haydock on Sunday afternoon. But Nicholls denied he had deliberately identified the opportunity to put Bowen up. The trainer said: ‘I am not thinking about the Grand National, just that Virak has top weight and I am taking five pounds off. The 2014 Gold Cup winning Lord Windermere has been confirmed as\n",
      "\n",
      "pred sentence: Rubi Light was schooled over Aintree-style fences on Saturday under big race jockey Andrew Lynch . Irish challenge for next week’s Grand National looks like being eight strong . Richie McLernon has been confirmed for the mount on Emma Lavelle’s Court By Surprise .\n",
      "\n",
      "real sentence: Rubi Light has been confirmed as a definite runner for the Grand National . Grade one winner had the option of running in the shorter Topham Chase . Rubi Light schooled over some Aintree-style fences on Saturday afternoon . Hennessy's horse is one of eight Irish-trained horses targeting the race .\n",
      "article: summarize: en_to_ger A New York college has provoked anger after postponing its screening of movie American Sniper in response to complaints from Muslim students. The Rensselaer Polytechnic Institute in New York has pushed back its planned screening of the controversial Iraq war film which was set for last Friday. It said it will still show the Oscar-nominated movie but with an educational forum follow-up to allow students to discuss the film. Bradley Cooper in his Oscar Nominated role as Chris Kyle, the most deadly sniper in US military history . The Rensselaer Polytechnic Institute (pictured) in New York has pushed back its planned screening of the controversial Iraq war film which was set for last Friday . The film was postponed because senior management at the college did not want to create animosity or tension among its students. However they appear to have done just the opposite. Following complaints from the RPI’s Muslim Students’ Association a number of students have said the postponement was an act of censorship and an attack on free speech, Fox News reported. While the film grossed a total of $540 million it also drew criticism for its depiction of Iraqis . A statement from the university explained the aim of the screening, coupled with the now scheduled educational forum, was to allow students in the campus community to ‘participate in an intellectual discourse about the film and current world events’. American Sniper, a film by Clint Eastwood about US Navy Seal sharp-shooter Chris Kyle the most deadly sniper in US history, has courted controversy since it was first shown in the US in November. While the film grossed an international total of $540 million it also drew criticism for its depiction of Iraqis. It was also accused of stoking racial hatred after screenings of the film led to a rise in threats against Americans of Middle Eastern origin and even some attacks on Muslims outside movie theaters. Earlier this month the University of Michigan flip-flopped over whether or not it would show the film on its campus. The college pulled a screening over student complaints but quickly did an about-face after news of the cancellation sparked a firestorm on campus. The school released statement saying the decision to cancel had not been consistent with the high value it placed\n",
      "\n",
      "pred sentence: Das Rensselaer Polytechnic Institute in New York verzögerte die geplante Vorführung des umstrittenen Irak-Kriegsfilms. Der Film wurde verschoben, weil die Leitung des College keine Feindseligkeit oder Spannungen unter seinen Studenten schaffen wollte. Einige Studenten sagten, die Verschiebung sei ein Akt der Zensur und ein Angriff auf die Redefreiheit gewesen.\n",
      "\n",
      "real sentence: Rensselaer Polytechnic Institute verschob die Vorführung nach einer Beschwerde. College Muslim Association war mit dem Plan, American Sniper zu zeigen, nicht einverstanden. Andere Studenten sagen, die Verschiebung sei Zensur und Angriff auf die Redefreiheit. Film wird gezeigt, aber mit Diskussionsforum, um die Vorführung zu verfolgen.\n",
      "article: summarize: ger_to_en Danniella Westbrooks im Käfig kämpfender Ex-Verlobter wurde verhaftet, weil er sie angegriffen und belästigt haben soll. Tom Richards, 25, wurde gestern Morgen in seiner Heimatstadt Swansea festgenommen. Nachdem er elf Stunden in einer Zelle festgehalten worden war, wurde der Käfigkämpfer gegen 19 Uhr befreit, während die Polizei ihre Ermittlungen fortsetzte. Zuvor hatte Westbrook, 41, in den sozialen Medien behauptet, ihr jüngerer Ex-Lover sei ihr gegenüber gewalttätig gewesen und auf Twitter ein Foto von ihrer verletzten Hand gepostet. Das Paar wurde zuletzt im vergangenen Monat (oben) nach der Trennung im November in einem Pub in Essex gesehen, nachdem die 41-Jährige ihren jüngeren Ex-Freund online der Gewalt bezichtigt hatte. Letzten Monat wurde sie mit einem blauen Auge gesehen. Richards bestreitet die Anschuldigungen vehement und wurde nicht angeklagt. Richards, der ein MMA-Kämpfer ist, hat die Anschuldigungen gegen ihn vehement bestritten. Das Paar trennte sich im November vergangenen Jahres, nachdem es monatelang zusammen in Kalifornien verbracht hatte, während Westbrook versuchte, sich der Drogen zu entledigen. Ein Sprecher Richards sagte gestern zu seiner Verhaftung, dass \"keine Wahrheit\" hinter den Vorwürfen stecke. \"An diesen Anschuldigungen ist nichts dran, und wir werden sie anfechten\". Das Paar trennte sich im November nach monatelangem gemeinsamen Aufenthalt in Kalifornien. Die Polizei nahm Richards gestern Morgen in Swansea unter dem Verdacht fest, seine ehemalige Freundin in Essex körperlich angegriffen zu haben. Ein Sprecher bestritt zwar, seine Ex-Freundin jemals belästigt oder geschädigt zu haben, fügte aber hinzu, dass die Festnahme für Richards \"beunruhigend\" gewesen sei. \"Er trainiert für den Kampf und könnte\n",
      "\n",
      "pred sentence: Tom Richards, 25, was arrested in Swansea on suspicion of assaulting his ex-girlfriend Danniella Westbrook, 41 . The pair were last seen in a pub in Essex last month after Westbrook posted a photo of her injured hand on social media . Richards denies the allegations and says the truth behind the allegations is not 'dran' The pair split in November last year after spending time together in California .\n",
      "\n",
      "real sentence: Tom Richards was arrested in Swansea over allegedly assaulting actress . He was released after being held for 11 hours pending further inquiries . Westbrook previously accused him of physically assaulting her on Twitter . The 25-year-old cage fighter has strenuously denied the allegations .\n",
      "article: summarize: ger_to_ger Eden Hazard steht offenbar kurz davor, mit Chelsea das Double aus Barclays Premier League und FA Player of the Year zu holen, und der belgische Star zeigte mit einer Reihe von Tricks am Trainingsstützpunkt in Cobham, warum das so ist. Hazard, der im Rahmen eines Features für das Magazin \"5\" des Queens Park Rangers-Verteidigers Rio Ferdinand gefilmt wurde, ließ einen Verteidiger mit seiner ausgefallenen Beinarbeit hängen, als er eine Lektion in Ballkontrolle erteilte. Hazard gibt eine vollständige Kostprobe aus seiner Trickkiste und täuscht seinen Gegner mit Step-Overs, einer schnellen Drehung und indem er den Ball hinter sein stehendes Bein steckt, um einen Mann viermal hintereinander zu schlagen. Eden Hazard ließ einen Verteidiger mit seiner fantasievollen Beinarbeit stehen, als er ihm eine Lektion in Ballkontrolle erteilte. Hazard trickst seine Markierung mit Step-over, einer schnellen Drehung und indem er den Ball hinter sein stehendes Bein steckt. Der belgische Star feiert mit den Chelsea-Fans nach dem Siegtor gegen Manchester United. Doch nicht alles war gut für Hazard, der nach Perfektion strebt. Nach seinem vierten erfolgreichen Angriff knallt er den Ball mit einem offenen Tor über die Latte. Der 24-Jährige wird ein Schlüsselmann für die Mannschaft von Jose Mourinho sein, wenn sie am Sonntag ins Emirates Stadium reist, um einen Sieg einzufahren, der sie in die Nähe von drei Punkten des Titels bringen würde. Und Stunden später wird er im Londoner Grosvenor House Hotel sein, in der Hoffnung, Harry Kane und David de Gea um die Krone des Weltfußballers des Jahres schlagen zu können. Hazard wurde im Rahmen eines Features für das Magazin \"5\" des Queens Park Rangers-Verteidigers Rio Ferdinand gefilmt. Wieder einmal kommt der trickreiche Flügelspieler des FC Chelsea an der Markierung vorbei und findet den Weg zum Tor in Cobham. Chelsea-Star Hazard steckt den Ball\n",
      "\n",
      "pred sentence: Eden Hazard wurde im Rahmen eines Features für das Magazin \"5\" des Queens Park Rangers-Verteidigers Rio Ferdinand gefilmt. Der belgische Star täuscht seinen Gegner mit Step-Overs, einer schnellen Drehung und indem er den Ball hinter sein stehendes Bein steckt, um einen Mann viermal hintereinander zu schlagen. Hazard wird ein Schlüsselmann für die Mannschaft von Jose Mourinho sein, wenn sie am Sonntag ins Emirates Stadium reist.\n",
      "\n",
      "real sentence: Eden Hazard zeigte seine Tricks für das Magazin \"5\" von Rio Ferdinand. Viermal hinterließ der Chelsea-Star in einem Video seine Markierung in Knoten. Hazards Überschläge, Drehungen und seine scharfe Kontrolle sind voll zur Schau gestellt. Der belgische Star trifft am Sonntag im Emirates Stadium auf Arsenal. LESEN: Chelsea-Fans stürmen das Emirates Stadium, um einen praktischen Witz zu spielen.\n",
      "article: summarize: en_to_en While pounding on the treadmill day in and day out may work for some people, for others it is a torturous task that makes exercise nearly impossible to enjoy, let alone commit to. Enter Retrosweat'. Founded by former NIDA graduate Shannon Dooley, 30, the aerobics classes with a twist are all about 'making fitness fabulous'. Described as 'freestyle aerobic workout,' Retrosweat is inspired by the era of old-school VHS workouts made famous by Jane Fonda, and involves choreography to match the Eighties soundtrack. Scroll down for video . Getting physical: Shannon Dooley has founded 'Retrosweat' - an Eighties-inspired aerobics class in the style of Jane Fonda's iconic workouts . Skin and pins: Typical Retrosweat attire is all about showing off your legs in skimpy Eighties leotards . Pop it like it's hot: A Retrosweat class will have you popping, squatting and grinding to a retro soundtrack . A 50-minute workout, it has 12 dance tracks and Dooley regularly mixes up the soundtrack to keep people excited each week - and on their toes. 'There's a fusion of jogging, jumping, athletic movement and dance - and a lot of huffing and puffing' says Dooley. 'Basically there's a warm up, warm down, both high and medium impact movement that targets all areas of the body. 'There will be a leg track with squats and lunges and an arm track with push ups.' Eighties alter ego: Dooley says class goers tend to adopt a complete alter ego as their costume collection grows . Iconic: Olivia Newton-John's aerobic anthem Let's Get Physical inspired many a skimpy lycra ensemble . 'Being freestyle though, I like to change up the tracks and let people request songs, but also give people the structure of the same key moves each week.' It also promises to have you 'sweating litres, laughing loads and getting buns of steel and a core to die for.' And according\n",
      "\n",
      "pred sentence: Shannon Dooley, 30, has created Retrosweat - an aerobics class inspired by Jane Fonda's workouts . The 50-minute class has 12 dance tracks and Doley mixes up the soundtrack to keep people excited each week . It also promises to have you sweating litres, laughing loads and getting buns of steel and a core to die for\n",
      "\n",
      "real sentence: Retrosweat' aerobics classes allow attendees to 'forget 2015 for an hour' Classes dress up in skimpy leotards and work up a sweat to Eighties hits . Classes currently run in Sydney's Alexandria and Surry Hills . Founder Shannon Dooley also offers 'Dial-A-Sweat class for hens parties .\n",
      "article: summarize: en_to_ger As the bright, smiling face of morning TV in the Noughties Fern Britton shocked fans when she admitted to struggling with crippling depression. The mother-of-four had her first experience of depression as a child and has suffered attacks throughout her adult life. Things were so difficult at one point that she planned to crash her car into a brick wall. And in an interview with The Telegraph on Saturday the 57-year-old revealed how close she came to suicide one day after her divorce from first husband Clive Jones. Scroll down for video . Presenter Fern Britton, who suffers from depression, has revealed how close she came to suicide following her divorce from first husband Clive Jones . The presenter and author, who has been married to her second husband TV chef Phil Vickery, 53, for fifteen years, claims she knew the marriage was never right, but remembers the time after the divorce being particularly bleak. Fern, who had three children with Clive, twins Harry and Jack, 21, and Grace, 18, and has another daughter, Winifred, 13, with Phil, said: I remember very clearly, when they were all little and sitting around the table, all shiny-faced and having their supper, and I'd think: \"Right, you've got everything you want. Lovely! Now I'm just going to pop upstairs and kill myself.\" ' Meeting Phil whilst working on Ready, Steady, Cook was something of a salvation for the blonde, who finally came off anti-depressants last year but admits she is fully expecting to go back on them when she has another episode. Fern and husband Phil Vickery will celebrate their 15th wedding anniversary next month . The couple met on the TV food show Ready, Steady, Cook . At least now she has learned to recognise the signs, telling Good Housekeeping this month: 'I haven’t had an episode for a long time. I’m cross that it’s been there and that it lurks around, but I’ve started to understand it more. I reached a stage where I knew when it was coming, hurtling towards me, and I thought, don’t run away, just stand there, brace yourself, and let it happen. Because I knew it would pass. People who are going through their first\n",
      "\n",
      "pred sentence: Die vierfache Mutter hatte ihre erste Depression als Kind und erlitt während ihres gesamten Erwachsenenlebens Anschläge. Fern, 57, enthüllte, wie nahe sie dem Selbstmord kam, nachdem sie von ihrem ersten Ehemann Clive Jones getrennt worden war. Sie behauptet, sie habe nie gewusst, dass die Ehe nie richtig war, aber sie erinnert sich an die Zeit nach der Scheidung besonders düster.\n",
      "\n",
      "real sentence: Der TV-Star leidet seit seiner Kindheit an Depressionen. Nachdenklicher Selbstmord nach der Scheidung vom ersten Ehemann. Feier des 15. Hochzeitstages mit Ehemann Phil Vickery im Mai. Hat gerade einen sechsten Roman geschrieben, A Good Catch. Sagt, dass sie sich selbst aus Botox ausgeplaudert hat, glücklich ist, wie eine 57-Jährige auszusehen. Für vertrauliche Unterstützung rufen Sie die National Suicide Prevention Lifeline unter 1-800-273-TALK (8255) in Großbritannien an, oder rufen Sie die Samariter unter 08457 90 90 90 an, besuchen Sie eine\n"
     ]
    }
   ],
   "source": [
    "for i in range(10):\n",
    "    print(get_random_prediction())"
   ]
  },
  {
   "cell_type": "markdown",
   "metadata": {},
   "source": [
    "## Save results to text file"
   ]
  },
  {
   "cell_type": "code",
   "execution_count": 21,
   "metadata": {},
   "outputs": [],
   "source": [
    "result_path = \"../results/t5_cross_lingual_result.txt\"\n",
    "open(result_path, \"w\")\n",
    "for pred in predictions:\n",
    "    with open(result_path, \"a\") as file:\n",
    "        file.write(pred + \"\\n\")"
   ]
  },
  {
   "cell_type": "markdown",
   "metadata": {},
   "source": [
    "## Load save File"
   ]
  },
  {
   "cell_type": "code",
   "execution_count": 23,
   "metadata": {},
   "outputs": [],
   "source": [
    "data_points = []\n",
    "result_path = \"../results/t5_cross_lingual_result.txt\"\n",
    "file = open(result_path, \"r\")\n",
    "for line in file:\n",
    "    data_points.append(line)"
   ]
  },
  {
   "cell_type": "code",
   "execution_count": 24,
   "metadata": {},
   "outputs": [
    {
     "data": {
      "text/plain": [
       "'real sentence: Beatrice sah Rennen auf der Terrasse mit dem Kronprinzen des Golfstaates. Mark 13. Urlaub seit November letzten Jahres, und vierte in einem Monat. Prinzessin kündigte ihren Job bei Sony Pictures in New York vor Weihnachten. Trotzdem wird sie als Vollzeit-Arbeiterin auf der Website ihres Vaters beschrieben.\\n'"
      ]
     },
     "execution_count": 24,
     "metadata": {},
     "output_type": "execute_result"
    }
   ],
   "source": [
    "data_points[4]"
   ]
  },
  {
   "cell_type": "code",
   "execution_count": 25,
   "metadata": {},
   "outputs": [],
   "source": [
    "class SummaryData():\n",
    "    \n",
    "    def __init__(self):\n",
    "        self.language_tag = ''\n",
    "        self.real_data = ''\n",
    "        self.pred_data = ''        "
   ]
  },
  {
   "cell_type": "code",
   "execution_count": 26,
   "metadata": {},
   "outputs": [
    {
     "data": {
      "text/plain": [
       "{'language_tag': 'ger_to_ger',\n",
       " 'real_data': ' Beatrice sah Rennen auf der Terrasse mit dem Kronprinzen des Golfstaates. Mark 13. Urlaub seit November letzten Jahres, und vierte in einem Monat. Prinzessin kündigte ihren Job bei Sony Pictures in New York vor Weihnachten. Trotzdem wird sie als Vollzeit-Arbeiterin auf der Website ihres Vaters beschrieben.\\n',\n",
       " 'pred_data': ' Prinzessin Beatrice wurde beim Großen Preis von Bahrain gesehen. Die 26-Jährige war mit ihrem langjährigen Freund Dave Clark im Golfstaat gesichtet. Beatrice befand sich in der Startaufstellung hinter dem Kronprinzen von Bahrain. Es wird vermutet, dass auch Formel-1-Legende Sir Jackie Stewart und Komiker Rory Bremner im Turm waren.\\n'}"
      ]
     },
     "execution_count": 26,
     "metadata": {},
     "output_type": "execute_result"
    }
   ],
   "source": [
    "count = 0\n",
    "summary_data = SummaryData()\n",
    "summary_data_list = []\n",
    "for point in data_points:\n",
    "    count += 1\n",
    "    \n",
    "    if count == 1:\n",
    "        summary_data.language_tag = point.split(\" \")[2]\n",
    "    elif count == 3:\n",
    "        summary_data.pred_data = \": \".join(point.split(\":\")[1:])\n",
    "    elif count == 5:\n",
    "        summary_data.real_data = \": \".join(point.split(\":\")[1:])\n",
    "        summary_data_list.append(summary_data)\n",
    "        summary_data = SummaryData()\n",
    "        count = 0\n",
    "summary_data_list[0].__dict__"
   ]
  },
  {
   "cell_type": "code",
   "execution_count": 38,
   "metadata": {},
   "outputs": [],
   "source": [
    "from ast import literal_eval\n",
    "\n",
    "results_en_trans = []\n",
    "results_en_path = \"../results/en_en_results\"\n",
    "file = open(results_en_path, \"r\")\n",
    "for i, line in enumerate(file):\n",
    "    results_en_trans.append(literal_eval(line))\n",
    "    \n",
    "results_ger_trans = []\n",
    "results_ger_path = \"../results/en_en_results\"\n",
    "file = open(results_ger_path, \"r\")\n",
    "for i, line in enumerate(file):\n",
    "    results_ger_trans.append(literal_eval(line))"
   ]
  },
  {
   "cell_type": "code",
   "execution_count": 39,
   "metadata": {},
   "outputs": [
    {
     "data": {
      "text/plain": [
       "{'en_to_en': <__main__.RougeScore at 0x7fca21ce73c8>,\n",
       " 'en_to_en_trans': <__main__.RougeScore at 0x7fca22360b00>,\n",
       " 'en_to_ger': <__main__.RougeScore at 0x7fca2160eba8>,\n",
       " 'ger_to_en': <__main__.RougeScore at 0x7fca2160efd0>,\n",
       " 'ger_to_ger': <__main__.RougeScore at 0x7fca2160ef60>,\n",
       " 'ger_to_ger_trans': <__main__.RougeScore at 0x7fca21621080>}"
      ]
     },
     "execution_count": 39,
     "metadata": {},
     "output_type": "execute_result"
    }
   ],
   "source": [
    "rouge_scores_dict = dict()\n",
    "rouge_scores_dict['en_to_en'] = RougeScore()\n",
    "rouge_scores_dict['en_to_en_trans'] = RougeScore()\n",
    "\n",
    "rouge_scores_dict['en_to_ger'] = RougeScore()\n",
    "rouge_scores_dict['ger_to_en'] = RougeScore()\n",
    "rouge_scores_dict['ger_to_ger'] = RougeScore()\n",
    "rouge_scores_dict['ger_to_ger_trans'] = RougeScore()\n",
    "\n",
    "rouge_scores_dict"
   ]
  },
  {
   "cell_type": "code",
   "execution_count": 40,
   "metadata": {},
   "outputs": [],
   "source": [
    "for summary_data in summary_data_list:\n",
    "    rouge_scores_dict[summary_data.language_tag](summary_data.real_data, summary_data.pred_data)\n",
    "    "
   ]
  },
  {
   "cell_type": "code",
   "execution_count": 41,
   "metadata": {},
   "outputs": [
    {
     "data": {
      "text/plain": [
       "{'id': 24,\n",
       " 'item_id': 1,\n",
       " 'language_tag': 'en_to_en',\n",
       " 'real_data': 'Beatrice seen watching race on terrace with the Gulf states Crown Prince . Marks 13th holiday since November last year, and fourth in a month . Princess quit her job at Sony Pictures in New York before Christmas . Despite that she is described as working full-time on her fathers website .\\n',\n",
       " 'pred_data': 'Princess Beatrice spotted at Bahrain Grand Prix with long-term boyfriend Dave Clark . Onlooker said 26-year-old was walking behind the Crown Prince of Bahrain . Princes regime accused of violently repressing pro-democracy protests . Sir Jackie Stewart and comedian Rory Bremner watched race from the tower .\\n',\n",
       " 'translated': 'Prinzessin Beatrice beim Großen Preis von Bahrain mit ihrem langjährigen Freund Dave Clark.Beobachter sagten, der 26-Jährige sei hinter dem Kronprinzen von Bahrain hergelaufen.Prinzen-Regime beschuldigt, prodemokratische Proteste gewaltsam zu unterdrücken.Sir Jackie Stewart und Komiker Rory Bremner verfolgten das Rennen vom Tower aus.Es geht um die Frage, wer die Verantwortung trägt.',\n",
       " 'translated_real': 'Beatrice sah Rennen auf der Terrasse mit dem Kronprinzen des Golfstaates. Mark 13. Urlaub seit November letzten Jahres, und vierte in einem Monat. Prinzessin kündigte ihren Job bei Sony Pictures in New York vor Weihnachten. Trotzdem wird sie als Vollzeit-Arbeiterin auf der Website ihres Vaters beschrieben.\\n'}"
      ]
     },
     "execution_count": 41,
     "metadata": {},
     "output_type": "execute_result"
    }
   ],
   "source": [
    "results_ger_trans[0]"
   ]
  },
  {
   "cell_type": "code",
   "execution_count": 42,
   "metadata": {},
   "outputs": [],
   "source": [
    "for item in results_en_trans:\n",
    "    rouge_scores_dict['en_to_en_trans'](item['translated_real'], item['translated'])"
   ]
  },
  {
   "cell_type": "code",
   "execution_count": 43,
   "metadata": {},
   "outputs": [],
   "source": [
    "for item in results_ger_trans:\n",
    "    rouge_scores_dict['ger_to_ger_trans'](item['translated_real'], item['translated'])"
   ]
  },
  {
   "cell_type": "code",
   "execution_count": 44,
   "metadata": {},
   "outputs": [
    {
     "name": "stdout",
     "output_type": "stream",
     "text": [
      "rouge1 = 41.29, 95% confidence [40.42, 42.07]\n",
      "rouge2 = 19.44, 95% confidence [18.52, 20.30]\n",
      "rougeLsum = 38.37, 95% confidence [37.53, 39.24]\n",
      "en_to_en {'rouge1': 41.28645093377612, 'rouge2': 19.437642045211796, 'rougeLsum': 38.36625534486865}\n",
      "\n",
      "rouge1 = 33.22, 95% confidence [32.48, 33.98]\n",
      "rouge2 = 14.29, 95% confidence [13.49, 15.03]\n",
      "rougeLsum = 23.23, 95% confidence [22.55, 23.90]\n",
      "en_to_en_trans {'rouge1': 33.22236762439636, 'rouge2': 14.289592087685248, 'rougeLsum': 23.233025232530125}\n",
      "\n",
      "rouge1 = 32.92, 95% confidence [32.19, 33.60]\n",
      "rouge2 = 12.93, 95% confidence [12.32, 13.56]\n",
      "rougeLsum = 22.69, 95% confidence [22.03, 23.32]\n",
      "en_to_ger {'rouge1': 32.91827353738891, 'rouge2': 12.92944828942739, 'rougeLsum': 22.690616445971596}\n",
      "\n",
      "rouge1 = 36.06, 95% confidence [35.36, 36.78]\n",
      "rouge2 = 13.08, 95% confidence [12.48, 13.62]\n",
      "rougeLsum = 33.49, 95% confidence [32.84, 34.18]\n",
      "ger_to_en {'rouge1': 36.05542655889138, 'rouge2': 13.076510809934835, 'rougeLsum': 33.491016005290255}\n",
      "\n",
      "rouge1 = 33.86, 95% confidence [33.10, 34.76]\n",
      "rouge2 = 14.57, 95% confidence [13.87, 15.26]\n",
      "rougeLsum = 23.89, 95% confidence [23.19, 24.59]\n",
      "ger_to_ger {'rouge1': 33.860678649396924, 'rouge2': 14.571861089918745, 'rougeLsum': 23.887299490905185}\n",
      "\n",
      "rouge1 = 33.27, 95% confidence [32.51, 33.97]\n",
      "rouge2 = 14.31, 95% confidence [13.63, 15.03]\n",
      "rougeLsum = 23.21, 95% confidence [22.50, 23.93]\n",
      "ger_to_ger_trans {'rouge1': 33.27034102331014, 'rouge2': 14.31198432727092, 'rougeLsum': 23.213669799754573}\n",
      "\n"
     ]
    }
   ],
   "source": [
    "for key, rouge_score_item in rouge_scores_dict.items():\n",
    "    print(key, rouge_score_item.result())\n",
    "    print()"
   ]
  },
  {
   "cell_type": "code",
   "execution_count": null,
   "metadata": {},
   "outputs": [],
   "source": []
  },
  {
   "cell_type": "markdown",
   "metadata": {},
   "source": [
    "# Special Example"
   ]
  },
  {
   "cell_type": "code",
   "execution_count": 29,
   "metadata": {},
   "outputs": [],
   "source": [
    "input_text = \"In a world where we have to read and understand a lot of documents automatic text summarization has an obvious demand. To have the option to get a brief summary of a text in your language can be very useful. But would it not be even more useful, if you could have the option to get a summary of a text in a language, you do not understand, in your wished language? Sometimes we don’t want an exact translation, sometimes we just want to know a brief overview of a text in a language we don’t understand. That is the case where Cross-Lingual summarization would be prefered over normal translation. Cross-Lingual summarization can give you a short overview of a text in a language you do not understand.\""
   ]
  },
  {
   "cell_type": "code",
   "execution_count": 30,
   "metadata": {},
   "outputs": [],
   "source": [
    "input_text_test = \"The dramatic growth of data on the internet leads to the need to automatically process and understand the data. A big part of the data is text data in many languages. This overwhelming amount of information causes a demand for automatic text summarization and other Natural Language Processing (NLP) taks.\\n The Field of NLP had some high points in the last couple of years, when the field got revolutionized by Neural Language Models. With publications like Attention is all you need \\cite{vaswani2017attention} or GPT3\\cite{brown2020language} the limits of the field are pushed even further. Because of large data corpuses, scraped from the internet, and advanced models which contain up to 175 Billion parameters like the GPT3 it is possible to generate text, answer questions, summarize text, translate or many other things.\\n In this master thesis we will take a deeper look into summarization. There are extractive and abstractive techniques to summarization. The extractive summary technique tries to find subsets of sentences, which representante the original text well and uses them to summarize the original text \\cite{allahyari2017text}. The abstractive technique uses advanced language models to generate a new text, which should be much shorter than the original one, contain all the key information and preserve the overall meaning.\\n In this master thesis we will use the abstractive technique, because it is closer to a human-like interpretation. It combines the ability to understand what the context of a given text is and the ability to generate fluent and grammatically correct text to that given context.\\n The summarization in one language is an interesting topic but cross lingual approach is even more interesting. The goal of Cross Lingual Summarization is to summarize a text from one language into another language. It combines the ability to summarize and the ability to translate. Where state of the art models perform well on normal summarization, it will be interesting to see how well they perform doing Cross-Lingual Summarization.\""
   ]
  },
  {
   "cell_type": "code",
   "execution_count": 31,
   "metadata": {},
   "outputs": [],
   "source": [
    "x = tokenizer.encode_plus(\"summarize: en_to_ger \" + input_text, max_length=512, return_tensors=\"tf\", padding='max_length', truncation=True)\n",
    "input_ids = tf.reshape(x['input_ids'], (1,-1))\n",
    "attention_mask = tf.reshape(x['attention_mask'], (1,-1))"
   ]
  },
  {
   "cell_type": "code",
   "execution_count": 32,
   "metadata": {},
   "outputs": [
    {
     "name": "stdout",
     "output_type": "stream",
     "text": [
      "(1, 512) (1, 512)\n"
     ]
    }
   ],
   "source": [
    "print(input_ids.shape, attention_mask.shape)"
   ]
  },
  {
   "cell_type": "code",
   "execution_count": 33,
   "metadata": {},
   "outputs": [],
   "source": [
    "summaries = model.generate( \n",
    "    input_ids=input_ids, \n",
    "    attention_mask=attention_mask\n",
    ")"
   ]
  },
  {
   "cell_type": "code",
   "execution_count": 34,
   "metadata": {},
   "outputs": [
    {
     "data": {
      "text/plain": [
       "<tf.Tensor: shape=(1, 74), dtype=int32, numpy=\n",
       "array([[    0,    86,   645,  3779,     6,    16,    74,   558,  2584,\n",
       "            3, 20127,    15,   110,    35,    64, 19163,  3766,     6,\n",
       "          229, 15820,    15,  5027,     7,    63,    29, 19712,   266,\n",
       "        30410,    15,  5222,  6367,     5,  4098,  6199,     3,    15,\n",
       "            7,   311, 30001,    49,     6,  1301,   292,    67,  7251,\n",
       "         8219,    29,     6,   266, 11068, 14449,   266,     7,  5027,\n",
       "           15,     7,    16,   645, 16933,   170,  8837,     6,    67,\n",
       "          292,   311, 19163,     6,    16,  1197,    52, 24054,    29,\n",
       "        16933,    58]], dtype=int32)>"
      ]
     },
     "execution_count": 34,
     "metadata": {},
     "output_type": "execute_result"
    }
   ],
   "source": [
    "summaries"
   ]
  },
  {
   "cell_type": "code",
   "execution_count": 35,
   "metadata": {},
   "outputs": [
    {
     "data": {
      "text/plain": [
       "'<pad> In einer Welt, in der wir viele Dokumente lesen und verstehen müssen, ist automatische Textsynthese eine offensichtliche Forderung. Aber wäre es nicht nützlicher, wenn Sie die Möglichkeit hätten, eine Zusammenfassung eines Textes in einer Sprache zu bekommen, die Sie nicht verstehen, in Ihrer gewünschten Sprache?'"
      ]
     },
     "execution_count": 35,
     "metadata": {},
     "output_type": "execute_result"
    }
   ],
   "source": [
    "tokenizer.decode(summaries[0])"
   ]
  },
  {
   "cell_type": "code",
   "execution_count": null,
   "metadata": {},
   "outputs": [],
   "source": []
  }
 ],
 "metadata": {
  "kernelspec": {
   "display_name": "Python 3",
   "language": "python",
   "name": "python3"
  },
  "language_info": {
   "codemirror_mode": {
    "name": "ipython",
    "version": 3
   },
   "file_extension": ".py",
   "mimetype": "text/x-python",
   "name": "python",
   "nbconvert_exporter": "python",
   "pygments_lexer": "ipython3",
   "version": "3.6.9"
  }
 },
 "nbformat": 4,
 "nbformat_minor": 4
}
