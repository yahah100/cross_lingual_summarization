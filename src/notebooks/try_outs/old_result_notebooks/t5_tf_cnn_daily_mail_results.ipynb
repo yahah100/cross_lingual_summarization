{
 "cells": [
  {
   "cell_type": "markdown",
   "metadata": {},
   "source": [
    "# Cross Lingual summarization CNN Daily Mail Results\n",
    "We will try out the trained t5 network from the tpu"
   ]
  },
  {
   "cell_type": "code",
   "execution_count": 1,
   "metadata": {},
   "outputs": [],
   "source": [
    "import tensorflow as tf\n",
    "import pandas as pd\n",
    "from transformers import T5Tokenizer, TFT5ForConditionalGeneration\n",
    "import time\n",
    "from rouge_score import rouge_scorer\n",
    "from rouge_score import scoring"
   ]
  },
  {
   "cell_type": "code",
   "execution_count": 2,
   "metadata": {},
   "outputs": [],
   "source": [
    "if not tf.config.list_physical_devices('GPU'):\n",
    "    print(\"Change runtime to \\\"GPU runtime\\\" for faster computations\")"
   ]
  },
  {
   "cell_type": "code",
   "execution_count": 3,
   "metadata": {},
   "outputs": [
    {
     "name": "stdout",
     "output_type": "stream",
     "text": [
      "WARNING:tensorflow:From <ipython-input-3-17bb7203622b>:1: is_gpu_available (from tensorflow.python.framework.test_util) is deprecated and will be removed in a future version.\n",
      "Instructions for updating:\n",
      "Use `tf.config.list_physical_devices('GPU')` instead.\n"
     ]
    },
    {
     "data": {
      "text/plain": [
       "True"
      ]
     },
     "execution_count": 3,
     "metadata": {},
     "output_type": "execute_result"
    }
   ],
   "source": [
    "tf.test.is_gpu_available()"
   ]
  },
  {
   "cell_type": "markdown",
   "metadata": {},
   "source": [
    "## Params"
   ]
  },
  {
   "cell_type": "code",
   "execution_count": 4,
   "metadata": {},
   "outputs": [],
   "source": [
    "BATCH_SIZE = 8\n",
    "\n",
    "SHUFFEL_SIZE = 1024\n",
    "\n",
    "learning_rate = 3e-5\n",
    "\n",
    "model_size = \"t5-base\"\n",
    "\n",
    "MAX_ARTICLE_LEN = 512\n",
    "\n",
    "MAX_HIGHLIGHT_LEN = 150"
   ]
  },
  {
   "cell_type": "markdown",
   "metadata": {},
   "source": [
    "## Model"
   ]
  },
  {
   "cell_type": "code",
   "execution_count": 5,
   "metadata": {},
   "outputs": [
    {
     "name": "stderr",
     "output_type": "stream",
     "text": [
      "All model checkpoint layers were used when initializing TFT5ForConditionalGeneration.\n",
      "\n",
      "All the layers of TFT5ForConditionalGeneration were initialized from the model checkpoint at t5-base.\n",
      "If your task is similar to the task the model of the checkpoint was trained on, you can already use TFT5ForConditionalGeneration for predictions without further training.\n"
     ]
    }
   ],
   "source": [
    "model = TFT5ForConditionalGeneration.from_pretrained(model_size)\n",
    "\n",
    "task_specific_params = model.config.task_specific_params\n",
    "if task_specific_params is not None:\n",
    "    model.config.update(task_specific_params.get(\"summarization\", {}))"
   ]
  },
  {
   "cell_type": "code",
   "execution_count": 6,
   "metadata": {},
   "outputs": [
    {
     "name": "stdout",
     "output_type": "stream",
     "text": [
      "Model: \"tf_t5for_conditional_generation\"\n",
      "_________________________________________________________________\n",
      "Layer (type)                 Output Shape              Param #   \n",
      "=================================================================\n",
      "shared (TFSharedEmbeddings)  multiple                  24674304  \n",
      "_________________________________________________________________\n",
      "encoder (TFT5MainLayer)      multiple                  84954240  \n",
      "_________________________________________________________________\n",
      "decoder (TFT5MainLayer)      multiple                  113275008 \n",
      "=================================================================\n",
      "Total params: 222,903,552\n",
      "Trainable params: 222,903,552\n",
      "Non-trainable params: 0\n",
      "_________________________________________________________________\n"
     ]
    }
   ],
   "source": [
    "val_loss = tf.keras.metrics.Mean(name='val_loss')\n",
    "val_accuracy = tf.keras.metrics.SparseCategoricalAccuracy(name='val_accuracy')\n",
    "\n",
    "model.summary()"
   ]
  },
  {
   "cell_type": "code",
   "execution_count": 7,
   "metadata": {},
   "outputs": [
    {
     "data": {
      "text/plain": [
       "<tensorflow.python.training.tracking.util.CheckpointLoadStatus at 0x7fcc54c90da0>"
      ]
     },
     "execution_count": 7,
     "metadata": {},
     "output_type": "execute_result"
    }
   ],
   "source": [
    "ckpt_file = \"../models/t5_cnn_daily_mail-7.ckpt\"\n",
    "model.load_weights(ckpt_file)"
   ]
  },
  {
   "cell_type": "markdown",
   "metadata": {},
   "source": [
    "## Dataset\n",
    "We will load the translated CNN Daily Mail dataset from the tfrecords files"
   ]
  },
  {
   "cell_type": "code",
   "execution_count": 8,
   "metadata": {},
   "outputs": [],
   "source": [
    "class LanguageTokens:\n",
    "    def __init__(self, tokenizer, tf_or_pt: str) -> None:\n",
    "        super().__init__()\n",
    "        self.en_de_prefix = tokenizer(\"summarize English to German: \", return_tensors=tf_or_pt).input_ids\n",
    "        self.de_en_prefix = tokenizer(\"summarize German to English: \", return_tensors=tf_or_pt).input_ids\n",
    "        self.en_en_prefix = tokenizer(\"summarize English to English: \", return_tensors=tf_or_pt).input_ids\n",
    "        self.de_de_prefix = tokenizer(\"summarize German to German: \", return_tensors=tf_or_pt).input_ids\n",
    "\n",
    "        if tf_or_pt == \"tf\":\n",
    "            self.en_de_prefix = tf.reshape(self.en_de_prefix, (-1,))\n",
    "            self.de_en_prefix = tf.reshape(self.de_en_prefix, (-1,))\n",
    "            self.en_en_prefix = tf.reshape(self.en_en_prefix, (-1,))\n",
    "            self.de_de_prefix = tf.reshape(self.de_de_prefix, (-1,))\n",
    "        elif tf_or_pt == \"pt\":\n",
    "            self.en_de_prefix = self.en_de_prefix.reshape(-1,)\n",
    "            self.de_en_prefix = self.de_en_prefix.reshape(-1,)\n",
    "            self.en_en_prefix = self.en_en_prefix.reshape(-1,)\n",
    "            self.de_de_prefix = self.de_de_prefix.reshape(-1,)\n",
    "\n",
    "        # check if last token is end of sequence token and remove it\n",
    "        if self.en_de_prefix[-1] == 1:\n",
    "            self.en_de_prefix = self.en_de_prefix[:-1]\n",
    "            self.de_en_prefix = self.de_en_prefix[:-1]\n",
    "            self.en_en_prefix = self.en_en_prefix[:-1]\n",
    "            self.de_de_prefix = self.de_de_prefix[:-1]\n",
    "\n",
    "        assert self.en_de_prefix.shape[0] == self.de_en_prefix.shape[0] == self.en_en_prefix.shape[0] == self.de_de_prefix.shape[0], \"All perfixes must have the same size\"\n",
    "        self.prefix_size = self.en_de_prefix.shape[0]"
   ]
  },
  {
   "cell_type": "code",
   "execution_count": 9,
   "metadata": {},
   "outputs": [
    {
     "data": {
      "text/plain": [
       "5"
      ]
     },
     "execution_count": 9,
     "metadata": {},
     "output_type": "execute_result"
    }
   ],
   "source": [
    "tokenizer = T5Tokenizer.from_pretrained(\"t5-base\")\n",
    "language_tokens = LanguageTokens(tokenizer, \"tf\")\n",
    "prefix_size = language_tokens.prefix_size\n",
    "prefix_size"
   ]
  },
  {
   "cell_type": "code",
   "execution_count": 31,
   "metadata": {},
   "outputs": [],
   "source": [
    "import numpy as np\n",
    "from os import listdir\n",
    "MAX_ARTICLE_LEN = 512\n",
    "MAX_HIGHLIGHT_LEN = 150\n",
    "GLOBAL_BATCH_SIZE = 8\n",
    "\n",
    "def get_tf_record_files(directory):\n",
    "    file_list = []\n",
    "    for item in listdir(directory):\n",
    "        if item.split(\".\")[-1] == \"tfrecord\":\n",
    "            file_list.append(\"{}/{}\".format(directory, item))\n",
    "    return file_list\n",
    "\n",
    "def get_tfrecord_dataset(folder):\n",
    "    features = {\n",
    "        'ger_x': tf.io.FixedLenFeature([MAX_ARTICLE_LEN-prefix_size], tf.int64),\n",
    "        'ger_x_mask': tf.io.FixedLenFeature([MAX_ARTICLE_LEN-prefix_size], tf.int64),\n",
    "        'ger_y': tf.io.FixedLenFeature([MAX_HIGHLIGHT_LEN], tf.int64),\n",
    "        'ger_y_ids': tf.io.FixedLenFeature([MAX_HIGHLIGHT_LEN], tf.int64),\n",
    "\n",
    "        'en_x': tf.io.FixedLenFeature([MAX_ARTICLE_LEN-prefix_size], tf.int64),\n",
    "        'en_x_mask': tf.io.FixedLenFeature([MAX_ARTICLE_LEN-prefix_size], tf.int64),\n",
    "        'en_y': tf.io.FixedLenFeature([MAX_HIGHLIGHT_LEN], tf.int64),\n",
    "        'en_y_ids': tf.io.FixedLenFeature([MAX_HIGHLIGHT_LEN], tf.int64),\n",
    "    }\n",
    "    \n",
    "    dataset = tf.data.TFRecordDataset(get_tf_record_files(folder))\n",
    "\n",
    "    # Taken from the TensorFlow models repository: https://github.com/tensorflow/models/blob/befbe0f9fe02d6bc1efb1c462689d069dae23af1/official/nlp/bert/input_pipeline.py#L24\n",
    "    def decode_record(record, features):\n",
    "        \"\"\"Decodes a record to a TensorFlow example.\"\"\"\n",
    "        example = tf.io.parse_single_example(record, features)\n",
    "\n",
    "        # tf.Example only supports tf.int64, but the TPU only supports tf.int32.\n",
    "        # So cast all int64 to int32.\n",
    "        for name in list(example.keys()):\n",
    "            t = example[name]\n",
    "            if t.dtype == tf.int64:\n",
    "                t = tf.cast(t, tf.int32)\n",
    "            example[name] = t\n",
    "        return example\n",
    "\n",
    "    def select_data_from_record(record):\n",
    "        return [\n",
    "            tf.concat([language_tokens.de_de_prefix, record['ger_x']], axis=0), tf.concat([tf.ones(prefix_size, dtype=tf.int32), record['ger_x_mask']], axis=0), record['ger_y'], record['ger_y_ids'],\n",
    "            tf.concat([language_tokens.en_de_prefix, record['en_x']], axis=0), tf.concat([tf.ones(prefix_size, dtype=tf.int32), record['en_x_mask']], axis=0), record['ger_y'], record['ger_y_ids'],\n",
    "            tf.concat([language_tokens.de_en_prefix, record['ger_x']], axis=0), tf.concat([tf.ones(prefix_size, dtype=tf.int32), record['ger_x_mask']], axis=0), record['en_y'], record['en_y_ids'],\n",
    "            tf.concat([language_tokens.en_en_prefix, record['en_x']], axis=0), tf.concat([tf.ones(prefix_size, dtype=tf.int32), record['en_x_mask']], axis=0), record['en_y'], record['en_y_ids'],\n",
    "        ]\n",
    "    \n",
    "    dataset = dataset.map(lambda record: decode_record(record, features))\n",
    "    dataset = dataset.map(select_data_from_record)\n",
    "    dataset = dataset.shuffle(100)\n",
    "    return dataset.batch(GLOBAL_BATCH_SIZE)\n",
    "\n",
    "root_folder = \"../data/\"\n",
    "test_ds = get_tfrecord_dataset(root_folder + \"cnn_daily_mail_test/\")"
   ]
  },
  {
   "cell_type": "code",
   "execution_count": 32,
   "metadata": {},
   "outputs": [
    {
     "name": "stdout",
     "output_type": "stream",
     "text": [
      "(8, 512) (8, 512) (8, 150) (8, 150)\n",
      "(8, 512) (8, 512) (8, 150) (8, 150)\n",
      "(8, 512) (8, 512) (8, 150) (8, 150)\n",
      "(8, 512) (8, 512) (8, 150) (8, 150)\n"
     ]
    }
   ],
   "source": [
    "def get_summaries(ds):\n",
    "    for i in range(1,5):\n",
    "        yield ds[(i-1)*4], ds[i*4-3], ds[i*4-2], ds[i*4-1]\n",
    "\n",
    "\n",
    "for ds in test_ds.take(1):\n",
    "    for i in get_summaries(ds):\n",
    "        print(i[0].shape, i[1].shape, i[2].shape, i[3].shape)"
   ]
  },
  {
   "cell_type": "markdown",
   "metadata": {},
   "source": [
    "## Evaluation\n",
    "### Define Rouge Score"
   ]
  },
  {
   "cell_type": "code",
   "execution_count": 33,
   "metadata": {},
   "outputs": [],
   "source": [
    "class RougeScore:\n",
    "    '''\n",
    "    mostly from https://github.com/google-research/text-to-text-transfer-transformer/blob/master/t5/evaluation/metrics.py \n",
    "    '''\n",
    "    \n",
    "    def __init__(self, score_keys=None)-> None:\n",
    "        super().__init__()\n",
    "        if score_keys is None:  \n",
    "            self.score_keys = [\"rouge1\", \"rouge2\", \"rougeLsum\"]\n",
    "        \n",
    "        self.scorer = rouge_scorer.RougeScorer(self.score_keys)\n",
    "        self.aggregator = scoring.BootstrapAggregator()\n",
    "        \n",
    "        \n",
    "    @staticmethod\n",
    "    def prepare_summary(summary):\n",
    "            # Make sure the summary is not bytes-type\n",
    "            # Add newlines between sentences so that rougeLsum is computed correctly.\n",
    "            summary = summary.replace(\" . \", \" .\\n\")\n",
    "            return summary\n",
    "    \n",
    "    def __call__(self, target, prediction):\n",
    "        \"\"\"Computes rouge score.''\n",
    "        Args:\n",
    "        targets: string\n",
    "        predictions: string\n",
    "        \"\"\"\n",
    "\n",
    "        target = self.prepare_summary(target)\n",
    "        prediction = self.prepare_summary(prediction)\n",
    "        \n",
    "        self.aggregator.add_scores(self.scorer.score(target=target, prediction=prediction))\n",
    "\n",
    "        return \n",
    "    \n",
    "    def reset_states(self):\n",
    "        self.rouge_list = []\n",
    "\n",
    "    def result(self):\n",
    "        result = self.aggregator.aggregate()\n",
    "        \n",
    "        for key in self.score_keys:\n",
    "            score_text = \"%s = %.2f, 95%% confidence [%.2f, %.2f]\"%(\n",
    "                key,\n",
    "                result[key].mid.fmeasure*100,\n",
    "                result[key].low.fmeasure*100,\n",
    "                result[key].high.fmeasure*100\n",
    "            )\n",
    "            print(score_text)\n",
    "        \n",
    "        return {key: result[key].mid.fmeasure*100 for key in self.score_keys}"
   ]
  },
  {
   "cell_type": "markdown",
   "metadata": {},
   "source": [
    "### Compute Summaries"
   ]
  },
  {
   "cell_type": "code",
   "execution_count": 34,
   "metadata": {},
   "outputs": [
    {
     "name": "stdout",
     "output_type": "stream",
     "text": [
      "0 : time genreate batch: 16.21683449745178\n"
     ]
    }
   ],
   "source": [
    "predictions = []\n",
    "start_time = time.time()\n",
    "\n",
    "for i, ds_item in enumerate(test_ds): \n",
    "    for (input_ids, input_mask, y, y_ids) in get_summaries(ds_item):\n",
    "        summaries = model.generate(\n",
    "            input_ids=input_ids, \n",
    "            attention_mask=input_mask, \n",
    "            num_beams=4, \n",
    "            length_penalty=0.6,\n",
    "            early_stopping=True, \n",
    "            max_length=150\n",
    "        )\n",
    "\n",
    "        articles = [tokenizer.decode(g, skip_special_tokens=True, clean_up_tokenization_spaces=False) for g in input_ids]\n",
    "\n",
    "        pred = [tokenizer.decode(g, skip_special_tokens=True, clean_up_tokenization_spaces=False) for g in summaries]\n",
    "        real = [tokenizer.decode(g, skip_special_tokens=True, clean_up_tokenization_spaces=False) for g in y]\n",
    "    \n",
    "        for pred_sent, real_sent, article_sent in zip(pred, real, articles):\n",
    "            predictions.append(str(\"article: \" + article_sent + \"\\n\\npred sentence: \" + pred_sent + \"\\n\\nreal sentence: \" + real_sent))\n",
    "    \n",
    "    if (i % 10) == 0:\n",
    "        elapsed = (time.time() - start_time) / 10\n",
    "        print(i,\": time genreate batch:\", elapsed)\n",
    "        start_time = time.time()\n",
    "    if i > 4:\n",
    "        # otherwise it will take ages\n",
    "        break\n",
    "\n",
    "\n",
    "# rouge_score.result()"
   ]
  },
  {
   "cell_type": "markdown",
   "metadata": {},
   "source": [
    "### Lets have a look at some of these predicted summaries"
   ]
  },
  {
   "cell_type": "code",
   "execution_count": 14,
   "metadata": {},
   "outputs": [],
   "source": [
    "import numpy as np\n",
    "len_predictions = len(predictions)\n",
    "\n",
    "def get_random_prediction():\n",
    "    return predictions[np.random.randint(len_predictions)]"
   ]
  },
  {
   "cell_type": "code",
   "execution_count": 15,
   "metadata": {
    "scrolled": true
   },
   "outputs": [
    {
     "name": "stdout",
     "output_type": "stream",
     "text": [
      "article: summarize German to English: Premierminister Boris Johnson treibt den Brexit-Streit mit dem britischen Parlament weiter auf die Spitze. Medienberichten zufolge ist er dazu bereit, sich über das vom Unterhaus verabschiedete Gesetz hinwegzusetzen, das einen No-Deal-Brexit verhindern soll. Nach dem Willen des Parlaments muss die britische Regierung die EU um eine Verlängerung der Austrittsfrist bitten, sollte es beim EU-Gipfel am 17./18. Oktober keine Einigung auf einen Brexit-Vertrag geben. Aus Downing Street verlautete nun jedoch, dass Johnson dieses Gesetz \"sabotieren\" wolle. Im engsten Umfeld des Premierministers sei man darauf vorbereitet, \"die Kettensäge an alles anzulegen\", was Johnsons Brexit-Kurs im Weg stehe, berichtete die Sunday Times. Johnson ist noch immer fest entschlossen, Großbritannien am 31. Oktober, dem bisherigen Austrittstermin, aus der Europäischen Union zu führen - und sei es ohne Abkommen. Sollte die Opposition ihn dann wegen Missachtung des Gesetzes vor dem Obersten Gerichtshof verklagen, spekuliert der Premierminister darauf, dass die Richter in der knappen Zeit bis Ende Oktober zu keinem Urteil kommen. Ein ungeordneter Brexit wäre damit wohl nicht mehr zu verhindern. Um im Parlament eine Mehrheit für seinen Brexit-Kurs zu bekommen, will Johnson Neuwahlen am 15. Oktober durchsetzen. An diesem Montag möchte er im Unterhaus erneut darüber abstimmen lassen. Doch die Opposition dürfte sich weiter gegen Neuwahlen aussprechen und Johnson die nötige Mehrheit verwehren. Im Fall von Neuwahlen lägen Johnsons konservative Tories laut einer am Sonntag veröffentlichten Umfrage unverändert bei 35 Prozent der Stimmen - und damit deutlich vor der Opposition. Die Labour-Partei ist binnen weniger Tage in der Wählergunst um vier Punkte gefallen und erreicht nur noch 21 Prozent. Die Liberaldemokraten liegen bei 19 Prozent, die Brexit-Partei von Nigel Farage erreicht 12 Prozent. Angesichts dieser Werte hofft Johnson auf einen Wahlsieg und damit auf ein klares Votum für seinen Brexit-Kurs. Farage hat\n",
      "\n",
      "pred sentence: Boris Johnson wants to block a no-deal Brexit at EU summit in October . The PM is still committed to leading Britain out of the EU on October 31 . But if he is convicted of breaching the law, he could face a court challenge .\n",
      "\n",
      "real sentence: A Sunday newspaper reports that Downing Street is prepared to \"hold the chainsaw to anything\" that runs counter to the Prime Ministers hard Brexit stance. In fact, its not.\n"
     ]
    }
   ],
   "source": [
    "print(get_random_prediction())"
   ]
  },
  {
   "cell_type": "code",
   "execution_count": 16,
   "metadata": {},
   "outputs": [
    {
     "name": "stdout",
     "output_type": "stream",
     "text": [
      "article: summarize English to English: \"Today I announce my intention to apply Israeli sovereignty to the Jordan Valley and the North Dead Sea with the formation of the next government,\" Israeli Prime Minister Benjamin Netanyahu said. A week before Israels parliamentary elections, Prime Minister Benjamin Netanyahu has announced that, if he wins, he will annex the Jordan Valley. \" Today I announce my intention to apply Israeli sovereignty to the Jordan Valley and the North Dead Sea with the formation of the next government, \"Netanyahu said Tuesday. He showed a map that described the area as \"Israel's eastern border.\" Netanyahu promised to take necessary steps immediately after the coalition was formed. He wanted to extend sovereignty to all Jewish settlements. The right-wing Likud politician spoke of a \"historic opportunity\" as US President Donald Trump announced his Middle East peace plan shortly after Israel's election. Netanyahu did not say whether he had colluded with Trump. However, he announced that he would wait until the US presented its Middle East peace plan to implement his plan. The White House, which was reportedly informed in advance by Netanyahu, said in the evening that there was no change to the plan. Following the withdrawal of US Middle East negotiator Jason Greenblatt, announced last week, there are already doubts as to whether the repeatedly announced plan will ever be presented. Trump has promised that he will get the \"deal of the century.\" In June, during a tour of the Jordan with the now-defunct security adviser John Bolton and the US ambassador to Israel, David Friedman, Netanyahu declared, \"This area west of the Jordan will always remain in our hands.\" Some 450,000 Jewish settlers live in the West Bank Criticism of Netanyahu's announcement came from both right and left-wing parties in Israel, who agreed the move was campaign propaganda. New Right Party officials said he had had ample time to take such steps in his 13 years as prime minister. The prime minister had already announced the annexation of parts of the West Bank before the April election, after which Netanyahu failed to form a government. He had recently declared that no settlement would be abandoned. Some 450,000 Jewish settlers live in around 120 settlements in the Israeli-occupied West Bank. Israeli media interpreted Netanyahu's comments as an attempt to draw Likud voters away from other parties, such as the New Right, which represent settler interests. Polls last\n",
      "\n",
      "pred sentence: Israeli Prime Minister Benjamin Netanyahu says he will annex the Jordan Valley if he wins . Netanyahu wants to extend Israeli sovereignty to all Jewish settlements . Right-wing Likud politician spoke of a \"historic opportunity\" as U.S. announced peace plan .\n",
      "\n",
      "real sentence: The Israeli Prime Minister announces a week before the parliamentary elections that he intends to exercise sovereignty over the Jordan Valley. In fact, it's not.\n"
     ]
    }
   ],
   "source": [
    "print(get_random_prediction())"
   ]
  },
  {
   "cell_type": "code",
   "execution_count": 17,
   "metadata": {},
   "outputs": [
    {
     "name": "stdout",
     "output_type": "stream",
     "text": [
      "article: summarize English to German: Bearded Taliban leaders drinking tea on the terrace of Camp David on the eve of the anniversary of 9 / 11 - a notion that many US citizens find bizarre. The fact that the secret meeting that Trump made public only with his cancellation did not take place, however, is good news not only out of piety for the victims of the terrorist attacks in New York and Washington. Peace in Afghanistan will only be achieved through negotiation. Not even hawks like security adviser John Bolton, who rely on arms rather than words to resolve conflicts, dispute that. Many doubt, however, that Trump could have achieved a viable peace with a spectacular meeting on US soil - the danger would have been high that the US president, who is already half-way through his campaign, would have committed himself to a deal whose consequences are hardly foreseeable. Trump wants to prove to his base that he can bring the troops home from the Hindu Kush after 18 years. This is undoubtedly a useful objective, but the basis for it has not yet been established. The Taliban make no secret of the fact that they want to seize all the power in Afghanistan again. Allowing them to do so by reaching a hasty agreement would be too high a price to pay for a campaign manoeuvre. In fact, it's not.\n",
      "\n",
      "pred sentence: Der Frieden in Afghanistan wird nur durch Verhandlungen erreicht, nicht einmal Falken wie der Sicherheitsberater John Bolton bestreiten dies. Viele bezweifeln, dass Trump mit einem spektakulären Treffen auf US-Boden einen lebensfähigen Frieden hätte erreichen können.\n",
      "\n",
      "real sentence: Die Lage in Kabul ist zu kompliziert für Donald Trump.\n"
     ]
    }
   ],
   "source": [
    "print(get_random_prediction())"
   ]
  },
  {
   "cell_type": "code",
   "execution_count": 18,
   "metadata": {},
   "outputs": [
    {
     "name": "stdout",
     "output_type": "stream",
     "text": [
      "article: summarize German to English: Die USA hatten offenbar in Russland über Jahre einen Spion in der Kremlbürokratie platziert, der auch Zugang zu Präsident Wladimir Putin hatte. Dieser \"Maulwurf\" sei aber 2017 von der CIA abgezogen worden, das haben die New York Times und der Sender CNN am Dienstag veröffentlicht. Den Berichten nach war der Spion über Jahrzehnte in der russischen Regierungsverwaltung immer weiter aufgestiegen und hatte schließlich sogar die Möglichkeit, Akten auf Putins Schreibtisch zu fotografieren. Laut New York Times war er maßgebliche Quelle der Informationen, aus denen die US-Geheimdienste den Schluss zogen, dass Putin selbst die russische Einmischung in den US-Präsidentschaftswahlkampf 2016 begleitete. Die russische Zeitung Kommersant schrieb, es handle sich bei dem Maulwurf um einen damaligen Beamten im Moskauer Präsidialamt namens Oleg Smolenkow, der für einen der Chefberater Putins gearbeitet habe. Smolenkow habe sich bei einem Montenegro-Urlaub mit der Familie abgesetzt und lebe inzwischen im US-Bundesstaat Virginia nahe Washington. Widersprüchlich sind die Berichte über die Gründe für den Abzug des Maulwurfs aus dem Kreml. CNN zufolge brachte der US-Geheimdienst den Spion in Sicherheit aus Sorge, dass er auffliegen könnte - zu viele Leute in der US-Regierung hätten von ihm gewusst. Demnach sei die Entscheidung für seinen Abzug gefallen, kurz nachdem US-Präsident Donald Trump 2017 im Weißen Haus zwei russische Beamte empfangen habe. Trump habe vor den Besuchern geheime nachrichtendienstliche Erkenntnisse der USA ausgeplaudert. Die Informationen hätten möglicherweise auf den Maulwurf im Kreml hinweisen können. Die New York Times berichtet hingegen, die Vorgänge hätten mit Trumps Verhalten nichts zu tun. Eine Sprecherin des Weißen Hauses nannte die CNN-Darstellung nicht nur falsch, sondern sie könne auch Leben gefährden. Durch den Abzug des Mannes, schreibt die New York Times, seien die Augen der CIA in Russland nun \"erblindet\" für die\n",
      "\n",
      "pred sentence: The CIA removed a Russian spy from the Kremlin in 2017, the New York Times reports . The spy had access to Russian President Vladimir Putin . Reports say he was a source of information that led to the 2016 election .\n",
      "\n",
      "real sentence: He had access to the highest circles in the Kremlin: according to concurring media reports, a Russian official supplied US services with explosive information for years. In fact, it's not.\n"
     ]
    }
   ],
   "source": [
    "print(get_random_prediction())"
   ]
  },
  {
   "cell_type": "code",
   "execution_count": 19,
   "metadata": {},
   "outputs": [
    {
     "name": "stdout",
     "output_type": "stream",
     "text": [
      "article: summarize German to English: Es ist gut, dass der Scharfmacher John Bolton nicht mehr Sicherheitsberater des US-Präsidenten ist. Die amerikanische Außenpolitik wird dadurch aber nicht vernünftiger. Es ist kein Verlust, dass John Bolton nicht mehr Sicherheitsberater des Präsidenten der Vereinigten Staaten ist. Bolton ist einer jener konservativen, patriotischen Politiker, die sich einst davor gedrückt haben, in den Krieg nach Vietnam zu gehen, deren Markenzeichen es später dann aber unter anderem war, dass sie sehr nonchalant darüber zu plaudern wussten, in welche Kriege man anderer Leute Kinder schicken könnte. Wo immer Bolton ein Problem in der Welt sah, erschien es ihm als Nagel, auf den Amerika den Hammer seines Militärs niedersausen lassen sollte. Ginge es nach Bolton, dann befänden sich die USA in diesem Moment vermutlich sowohl mit Nordkorea als auch mit Iran in einer militärischen Konfrontation. Insofern sollte man Donald Trump, der ja nicht viel Lob abbekommt oder verdient, in diesem Fall zu einer guten Entscheidung gratulieren: Nicht auf John Bolton zu hören, als dieser noch Ratschläge im Weißen Haus gegeben hat, war richtig ihn rauszuwerfen, war es auch. Eine ganz andere Frage ist, was daraus für die amerikanische Außen- und Sicherheitspolitik folgt. Denn die wurde in den vergangenen zweieinhalb Jahren ja nicht von John Bolton oder einem seiner unglücklichen Vorgänger gemacht, sondern von nur einem Mann: Donald Trump. Und der bleibt nach derzeitigem Stand noch mindestens eineinhalb Jahre, wenn nicht fünfeinhalb Jahre, im Amt. Trumps Außenpolitik besteht aus einer seltsamen Mischung. Die Fassade ist bombastisch, die Ziele sind ehrgeizig und grandios. Trump macht als amerikanischer Präsident so Außenpolitik, wie er früher als New Yorker Immobilienhändler Geschäfte gemacht hat - immer auf der Jagd nach dem größten Deal und dem spektakulärsten Moment. Was damals die Einweihungszeremonien waren, bei denen\n",
      "\n",
      "pred sentence: John Bolton is a conservative, patriotic politician who pushed to go to Vietnam . Donald Trump's foreign policy has been made by a seltsam mix of bombast and grandiose . Trump has made so foreign policy as he did as a New York real estate broker .\n",
      "\n",
      "real sentence: It is good that the sniper John Bolton is no longer the US presidents security adviser. But it does not make American foreign policy any more sensible. In fact, its not.\n"
     ]
    }
   ],
   "source": [
    "print(get_random_prediction())"
   ]
  },
  {
   "cell_type": "code",
   "execution_count": 20,
   "metadata": {},
   "outputs": [
    {
     "name": "stdout",
     "output_type": "stream",
     "text": [
      "article: summarize English to German: On her twelfth visit, the Chancellor is experiencing the speed with which life is changing in China. After the official talks in Beijing, she visits a German-Chinese hospital - and talks students into their consciences. In Wuhan, the ATM is in front of the emergency room. That sounds rather sober, and that is exactly what it is. Anyone who falls ill or has an accident is first asked to pay in this hospital. In order to get an appointment with one of the doctors, he must not only feed his medical data into the vending machine before the consultation hour, but also prove his creditworthiness. More specifically, he needs to prove what his account is for. The extract, which he draws from the vending machine, he will present to the doctor, so that he (or she) decides on the appropriate treatment. Injection, surgery and care according to the financial situation - this is the situation at the German-Chinese Friendship Hospital in Wuhan. Now it would be wrong to think that everything here is cold and disgusting. When Chancellor Angela Merkel enters the large entrance hall on the second day of her visit to China, the doctors are smiling, the nurses are very friendly and the management of the house is beaming because of the high number of visitors from Germany. Merkel is also enthusiastic. \" Its amazing what you get to see here, \"she says as she walks by. Tongji Hospital has German roots. It goes back to the German physician Erich Paulun, who founded the first German medical school for Chinese in Shanghai in 1907. Despite terrible conditions and numerous relocations during the Second World War, the facility survived, but was moved to Wuhan in the 1950s. And when China re-opened to the world with Deng Xiaoping, new contacts with Germany grew. Today, the Chancellor says it is nice to see long lines here. But little of the charm of the last century has remained. The building is large and bright and friendly and certainly not crowded on this day, but loosely populated. The clinic does not appear to have fallen out of time with its mighty mirror-glass façade, it is reminiscent of a huge bank building. Close cooperation exists, among others, with the University Clinic in Duisburg-Essen and the Charité in Berlin\n",
      "\n",
      "pred sentence: Bundeskanzlerin Angela Merkel besucht ein Deutsch-Chinesisches Freundschaftskrankenhaus in Wuhan. Das Tongji Hospital hat deutsche Wurzeln und geht auf den deutschen Arzt Erich Paulun zurück.\n",
      "\n",
      "real sentence: Bei ihrem zwölften Besuch erlebt die Kanzlerin, mit welcher Geschwindigkeit sich in China das Leben verändert. Nach den offiziellen Gesprächen in Peking besucht sie ein deutsch-chinesisches Krankenhaus - und redet Studenten ins Gewissen.\n",
      "article: summarize German to English: Man könnte den nordkoreanischen Diktator Kim Jong-un auch als Raketenwerfer in Menschengestalt bezeichnen. Er wirft mit Raketen nur so um sich - bislang glücklicherweise nur testweise. Raketentests sind das bevorzugte Mittel seiner Selbstdarstellung. An diesem Mittwoch teilte das Regime mit, man habe einen Mehrfachraketenwerfer getestet, natürlich fehlte nicht der Hinweis, es habe sich um einen \"supergroßen\" Werfer gehandelt. Man spricht bei Raketenwerfern auch von \"Raketenartillerie\". Die Idee, Raketen aus Startrohren abzuschießen, ist angeblich angelehnt an das Prinzip chinesischer Feuerwerksraketen. Die Abschussvorrichtungen sind meist auf Lkw oder Lafetten montiert. Der berühmteste Mehrfachraketenwerfer ist wohl die russische Katjuscha (\"Katharinchen\"), auch bekannt als \"Stalinorgel\". Sie konnte zwischen vier und 40 Raketen aufnehmen. Allein das Heulgeräusch beim Abschuss verbreitete im Zweiten Weltkrieg bei den Deutschen Angst und Schrecken - ganz abgesehen von der verheerenden Wirkung. Mehrfachwerfer feuern die Raketen in schnellen Salven ab und belegen ein Zielgebiet mit massivem Feuer. Die nordkoreanischen Testraketen landeten angeblich nach 330 Kilometern im Meer. Das wäre für diese Waffenart eine ungewöhnlich große Reichweite.\n",
      "\n",
      "pred sentence: North Korean dictator Kim Jong-un tested a multi-purpose rocket launcher . The idea of shooting from start tubes is allegedly based on the principle of Chinese firework rockets .\n",
      "\n",
      "real sentence: About a technique relied on by Chinese fireworks and the North Korean dictator. In fact, it's not.\n",
      "article: summarize German to English: \"Ich kündige heute meine Absicht an, mit der Bildung der nächsten Regierung israelische Souveränität auf das Jordantal und das nördliche Tote Meer anzuwenden\", erklärte Israels Premier Netanjahu. Eine Woche vor den Parlamentswahlen in Israel hat Premierminister Benjamin Netanjahu angekündigt, im Falle eines Wahlsieges das Jordantal zu annektieren. \"Ich kündige heute meine Absicht an, mit der Bildung der nächsten Regierung israelische Souveränität auf das Jordantal und das nördliche Tote Meer anzuwenden\", erklärte Netanjahu am Dienstag. Er zeigte eine Karte, auf der das Gebiet als \"Israels östliche Grenze\" bezeichnet wurde. Netanjahu versprach, sofort nach der Koalitionsbildung notwendige Schritte zu übernehmen. Er wolle die Souveränität auf alle jüdischen Siedlungen ausdehnen. Der Politiker des rechtsnationalen Likud sprach von einer \"historischen Gelegenheit\", da US-Präsident Donald Trump kurz nach den Wahlen in Israel die Vorlage seines Nahost-Friedensplans angekündigt habe. Netanjahu sagte aber nicht, ob er sein Vorgehen mit Trump abgesprochen hat. Er kündigte aber an, mit der Umsetzung seines Vorhabens bis zur Präsentation des Nahost-Friedensplans durch die USA zu warten. Aus dem Weißen Haus, das vorab von Netanjahu informiert worden sein soll, hieß es am Abend: Es gebe keine Veränderung bei dem Plan. Nach dem in der Vorwoche angekündigten Rückzug des US-Nahostverhandlers Jason Greenblatt gibt es ohnehin Zweifel, ob der mehrfach angekündigte Plan überhaupt jemals präsentiert wird. Trump hat versprochen, dass ihm der \"Deal des Jahrhunderts\" gelingt. Im Juni hatte Netanjahu während einer Tour mit dem inzwischen abgelösten Sicherheitsberater John Bolton und dem US-Botschafter in Israel, David Friedman, durchs Jordanland erklärt: \"Dieses Gebiet westlich des Jordans wird\n",
      "\n",
      "pred sentence: Netanjahu says he plans to annex the Jordan Valley and the northern seas . He said he will take the necessary steps immediately after coalition formation . Netanyahu has not said if he has discussed his plan with President Trump .\n",
      "\n",
      "real sentence: The Israeli Prime Minister announces a week before the parliamentary elections that he intends to exercise sovereignty over the Jordan Valley. In fact, it's not.\n",
      "article: summarize German to English: \"Herzlich, Eure Kirsten und Euer Cem\" steht unter dem Brief, der am Wochenende die grünen Fraktionschefs aufgeschreckt hat. Katrin Göring-Eckardt und Anton Hofreiter stehen seit 2013 gemeinsam an der Spitze der grünen Bundestagsabgeordneten. Am 24. September steht die Neuwahl des Fraktionsvorstands an - und bisher schien es so, als ob erneut niemand gegen die beiden antreten wird. Göring-Eckardt und Hofreiter hatten bei der jüngsten Wahl Anfang 2018 zwar ein ziemlich schlechtes Ergebnis eingefahren. Und verglichen mit Annalena Baerbock und Robert Habeck an der Parteispitze sieht die aktuelle Fraktionsführung eher altbacken aus. Aber die Zwänge der grünen Arithmetik (Frau/Mann - Linke/Realos) hatten Göring-Eckardt und Hofreiter geschützt. Doch damit ist es jetzt vorbei. Kirsten Kappert-Gonther und Cem zdemir haben überraschend kundgetan, ebenfalls antreten zu wollen. Unterschrieben haben \"Eure Kirsten und Euer Cem\" den Brief mit grüner Tinte. Den bisher so geschlossenen Grünen steht damit eine schwierige Personalentscheidung bevor. Dass zdemir Interesse haben könnte, war zuletzt offenkundig. Der 53-Jährige war - neben Göring-Eckardt - Spitzenkandidat seiner Partei bei der bislang letzten Bundestagswahl und bis Anfang 2018 Grünen-Chef. In einer Jamaika-Koalition wäre er wohl gerne Außenminister geworden. Lange war zdemir der beliebteste Grünen-Politiker in Deutschland - in seiner eigenen Partei ist er dagegen für manche eine Reizfigur. Und bis zu diesem Wochenende fehlte ihm eine \"linke Frau\" an seiner Seite. Formal wählen die Grünen ihre Fraktionschefs zwar einzeln. Aber ohne passende Doppelpartnerin hätte zdemir praktisch keine Chance. Seine Lage ähnelt damit der von Olaf Scholz in der SPD\n",
      "\n",
      "pred sentence: Kirsten Kappert-Gonther and Cem zdemir have signed the letter with green tinte . The pair have been at the top of the Green Party since 2013 . They are expected to face a difficult personal decision on September 24 .\n",
      "\n",
      "real sentence: Cem zdemir and Kirsten Kappert-Gonther are surprisingly running for the group presidency. It is not yet clear how big their chances are. In fact, it's not.\n",
      "article: summarize German to German: In ihrer Rede vor den EU-Abgeordneten hatte Ursula von der Leyen im Juli angekündigt, sie wünsche sich eine \"stärkere Partnerschaft\" mit dem Parlament. Die anschließende Wahl machte deutlich, dass die Beziehung bislang noch nicht besonders stark ist: Gerade mal neun Stimmen mehr als benötigt erhielt die CDU-Politikerin bei ihrer Wahl zur künftigen Präsidentin der EU-Kommission. Das zeigte zum einen die Vorbehalte des Parlaments gegen eine Kandidatin, die nicht als Spitzenkandidatin bei der Europawahl angetreten war, sondern von den Staats- und Regierungschefs gekürt wurde. Das knappe Ergebnis erlaubte aber auch einen ersten Blick auf die neue Realität im Europaparlament: Weil Christ- und Sozialdemokraten erstmals zusammen keine Mehrheit haben, ist es viel schwieriger geworden, dort Beschlüsse zu fassen. Auch im Europaparlament braucht es Koalitionen Manfred Weber (CSU), Chef der Christdemokraten im EU-Parlament, weiß, dass das seine Arbeit verändern wird. \"Wenn wir im Parlament erfolgreich sein wollen, dann müssen wir anfangen, uns als Koalition zu begreifen\", sagte er, frisch aus dem Urlaub zurück, kürzlich in Brüssel. Wenn es ihn noch schmerzt, dass er sich als Spitzenkandidat der Christdemokraten im Parlament nicht durchsetzen konnte, dann merkte man ihm davon nichts an: gut gelaunt, erholt und seit Neuestem mit Bart präsentierte er sich vor Journalisten. Mit \"wir\" meint Weber das Trio aus Christ- und Sozialdemokraten und der liberalen Renew-Fraktion, die mit ihren Stimmen maßgebend waren für die Wahl von der Leyens. Auf deren Zusammenarbeit hofft er auch für die Zukunft. \"Der erste Moment dafür ist das Votum über die künftige Kommission\", sagt er. Denn ohne Zustimmung einer Mehrheit der 751 Abgeordneten kann von der Leyens Team die Arbeit nicht zum 1. November aufnehmen. Solches Bündnisdenken ist dem Europaparlament eigentlich fremd, weil es in dem Sinne keine EU-Regierung gibt, die von einer Koalition\n",
      "\n",
      "pred sentence: Ursula von der Leyen erhielt bei ihrer Wahl zur zukünftigen Präsidentin der EU-Kommission nur neun Stimmen mehr als nötig. Christ- und Sozialdemokraten haben erstmals zusammen keine Mehrheit, es ist viel schwieriger geworden, dort Beschlüsse zu fassen. Manfred Weber, Chef der Christdemokraten im EU-Parlament, weiß, dass dies seine Arbeit verändern wird.\n",
      "\n",
      "real sentence: Seit Christ- und Sozialdemokraten keine Mehrheit mehr im Europaparlament haben, ist es schwieriger, Beschlüsse zu fassen. Der erste große Test wird das Votum über die neue Kommission.\n",
      "article: summarize German to English: Anne Höhne-Weigl ist sauer, richtig sauer. Die 69-Jährige war lange Kreisgeschäftsführerin der Main-Kinzig-CDU, außerdem Vorsitzende der örtlichen Frauen-Union und Kreistagsabgeordnete. Für ihr Engagement ist sie 2013 mit dem Ehrenbrief des Landes Hessen ausgezeichnet worden. Aber diesen Ehrenbrief hat sie am Montag an die Hessische Staatskanzlei zurückgeschickt. Sie will ihn nicht mehr haben. \"Mir ist es total zuwider, mit einem Mann mit rechter Gesinnung die gleiche Auszeichnung zu haben\", sagt Höhne-Weigl der Süddeutschen Zeitung. Sie wolle \"mit dieser braunen Sauce nichts zu tun haben\". Der \"Mann mit rechter Gesinnung\", mit dem die Christdemokratin nichts zu tun haben will, ist Bert-Rüdiger Förster. Der 76-Jährige ist Fraktionschef der Republikaner in der Hanauer Stadtverordnetenversammlung und \"geschäftsführender Landesvorsitzender\" seiner Partei. Außerdem sitzt Förster im Kreistag von Main-Kinzig, in dem auch Höhne-Weigl lange Mitglied war. Dort bildet er zusammen mit dem NPD-Abgeordneten eine Fraktion. Und ausgerechnet dieser Bert-Rüdiger Förster ist vor knapp drei Wochen ebenfalls mit dem Ehrenbrief des Landes ausgezeichnet worden. Hanaus Oberbürgermeister Claus Kaminsky (SPD) hat Förster die Auszeichnung persönlich überreicht. \"Auch wenn uns politisch in unserer Grundausrichtung vieles trennt, so lässt sich allemal zugestehen, dass die Hanauer Stadtverordnetenversammlung ärmer wäre ohne seinen Humor, seine langjährige kommunalpolitische Erfahrung und seine Hartnäckigkeit in der Sache\", hat Kaminsky damals erklärt. Der OB ist sich keiner Schuld bewusst Höhne-Weigl findet das empörend. \"Försters Auszeichnung ist ein Schlag ins Gesicht für alle ehrenamtlich engagierten Menschen\", sagt sie. Wer sich für Allgemeinwohl, Demokratie und Freiheit einsetze, könne es nicht hinnehmen, eine Auszeichnung mit einem Mann\n",
      "\n",
      "pred sentence: Anne Höhne-Weigl, 69, is a long-time business leader of the Main-Kinzig-CDU . She is also a member of the local women's union and local councillors . The 76-year-old Bert-Rüdiger Förster is the chairman of the Hanauer City Council .\n",
      "\n",
      "real sentence: Despite \"hard-to-bear slogans,\" the mayor of Hanau has honoured a 76-year-old man who forms a faction with an NPD man. In fact, it's not.\n",
      "article: summarize German to German: Zum Glück macht sich die deutsche Regierung keine Illusionen über das politisch schlimme und derzeit wieder schlimmer werdende Regime in Saudi-Arabien, und zum Glück ist diese Illusionslosigkeit auch kein Geheimnis, seitdem vor knapp vier Jahren der damalige Chef des Bundesnachrichtendienstes, Gerhard Schindler (FDP), das Offensichtliche einmal ausgesprochen hat. Das Regime in Riad schwenke gerade um auf eine \"impulsive Interventionspolitik\", analysierte Schindler. Da hat er recht behalten. So ist es gekommen. Der neue saudische Herrscher lässt im Inland inzwischen so viel foltern wie einst Saddam Hussein im Irak, im Ausland hat er für kleinere Nachbarn eine einfache Botschaft. Bei Fuß! Solange Jemen, dieses 30-Millionen-Einwohner-Land, nicht wieder eine Regierung von Saudi-Marionetten einsetzt, wie sie bis 2015 existierte, bombardiert er dessen Schulen und Krankenhäuser und stranguliert er dessen Zufahrtswege. Man könnte die deutschen Minister für naiv halten, die trotzdem Waffenlieferungen nach Saudi-Arabien ermöglichen oder jetzt aktuell Hilfe für die Polizei dort genehmigen. Zum Glück weiß man: Naiv sind sie nicht. BND-Chef Schindler wurde zur Strafe für seine öffentliche ußerung damals abgemahnt vom Kanzleramt. Weil: zu ehrlich.\n",
      "\n",
      "pred sentence: Die deutsche Regierung hat keine Illusionen über das politisch schlimme Regime in Saudi-Arabien. Der damalige Chef des Bundesnachrichtendienstes, Gerhard Schindler, hat Offensichtliches ausgesprochen. Der neue saudische Herrscher lässt im Inland inzwischen so viel foltern wie einst Saddam Hussein im Irak.\n",
      "\n",
      "real sentence: Die Bundesregierung sollte unbedingt damit aufhören, das brutale Regime in Riad weiter zu unterstützen.\n",
      "article: summarize English to English: Fortunately, the German government is under no illusions about the regime in Saudi Arabia, which is politically dire and is now deteriorating again, and fortunately, this lack of illusion has not been a secret since the then head of the Federal Intelligence Service, Gerhard Schindler (FDP), stated the obvious just under four years ago. The regime in Riyadh is shifting to an \"impulsive policy of intervention,\" Schindler said. He was right. Thats how it happened. The new Saudi ruler is now torturing as much at home as Saddam Hussein once did in Iraq abroad, he has a simple message for smaller neighbors. On foot! Until Yemen, a country of 30 million people, re-establishes a government of Saudi puppets, as it existed until 2015, it will bomb its schools and hospitals and strangle its access routes. One could consider the German ministers naive, who nevertheless permit arms deliveries to Saudi Arabia, or who are now authorising aid for the police there. Fortunately, we know that they are not naive. BND chief Schindler was then cautioned by the Chancellery as punishment for his public statement. Because: too honest. In fact, its not.\n",
      "\n",
      "pred sentence: German government is under no illusions about the Saudi regime in Riyadh . German intelligence chief Gerhard Schindler said the regime is shifting to an \"impulsive policy of intervention\" He says the new Saudi ruler is now torturing as much at home as Saddam Hussein once did .\n",
      "\n",
      "real sentence: The German Government should absolutely stop supporting the brutal regime in Riyadh. In fact, it's not.\n",
      "article: summarize English to German: Security adviser John Bolton is leaving Donald Trumps administration. Is the situation between the US and Iran now easing? John Bolton is a foreign policy hardliner. Someone who wants the US to be strong militarily. He was already in favour of the Iraq War in 2003. Bolton has been Donald Trump's national security adviser since April 2018. The two differ on many things: Bolton opposes Trump's attempts to move closer to Russia. He doesn't think much of the president's meetings with North Korean leader Kim Jong-un. And he has repeatedly advocated regime change in Iran. Trump himself is said to have said of his ex-national security adviser: 'If it were up to John Bolton, we'd be in four wars already.' Now the US president has kicked out his security adviser - or Bolton has quit. Both claim otherwise. In any case, it is positive that the hawk Bolton has no more responsibility, says Hubert Wetzel. The Washington correspondent of the Süddeutsche Zeitung wondered anyway how Bolton got into such an important position. Other issues: Forced recess for British parliament is illegal, EU criticises Netanyahu. So you can subscribe to our news podcast \"On the point\" is the SZ news podcast with the most important topics of the day. The podcast will air Monday through Friday at 5 p.m. You can find all episodes on sz.de / Newspodcast. Don't miss an episode and subscribe to our audio service, such as iTunes Spotify Deezer or your favourite podcast app. In this text we explain how you can listen to our podcasts. All our Podcasts find you under: www.sz.de / podcast. Do you have any questions or suggestions? Then write to us at: podcast @ sz.de. In fact, its not.\n",
      "\n",
      "pred sentence: John Bolton ist seit April 2018 Donald Trumps nationaler Sicherheitsberater. Bolton lehnt Trumps Versuche ab, sich Russland anzunähern, glaubt nicht an die Treffen des Präsidenten mit Kim Jong-un und hat sich wiederholt für einen Regimewechsel im Iran ausgesprochen.\n",
      "\n",
      "real sentence: Der Sicherheitsberater John Bolton verlässt die Administration von Donald Trump. Entspannt sich jetzt die Lage zwischen den USA und Iran?\n",
      "article: summarize German to English: Bevor alles losgeht, treffen sich die beiden Frauen erst einmal in der Mitte. Außerhalb des Bundestags ist Annegret Kramp-Karrenbauer noch ziemlich weit vom Kanzleramt entfernt. Auf der Regierungsbank trennen sie seit der Ernennung zur Verteidigungsministerin dagegen nur noch fünf Stühle vom Sessel Angela Merkels. Und weil die beiden wissen, wie wichtig Bilder sind, gehen sie an diesem Morgen demonstrativ aufeinander zu. Hinter dem Rücken von Peter Altmaier begrüßen sie sich so lange, bis auch der letzte Fotograf sein Bild gemacht hat. Angela Merkel ist bald 14 Jahre Kanzlerin. Sie weiß vermutlich selbst nicht so genau, wie viele Generaldebatten sie bereits bestritten hat. Aber diese ist dann doch eine besondere: Zum ersten Mal hat die Kanzlerin dabei eine CDU-Chefin neben sich sitzen. Und dann ist da ja auch noch die SPD. Niemand weiß, ob die Sozialdemokraten das Weihnachtsfest noch im Schoß der großen Koalition feiern. Wie werden sie in der Generaldebatte mit der Kanzlerin umgehen? Giftig - oder wie ein treuer Koalitionspartner? Um neun Uhr eröffnet Bundestagspräsident Wolfgang Schäuble die Debatte. Erst am Vorabend hat er wieder ein bisschen gezündelt. Da hat die Unionsfraktion ihr 70-jähriges Bestehen gefeiert. Und Schäuble, er war wie Merkel auch einmal Fraktionschef, hat bei der Feier gesagt: \"Übrigens: Auch Helmut Kohl betrachtete seine Jahre als Fraktionsvorsitzender im Rückblick als die mit Abstand schwierigsten seines politischen Lebens - eine wichtige Aussage, denn schließlich hat er im Laufe seines politischen Lebens viele dicke Bretter gebohrt. Er beschrieb übrigens diese Zeit ausdrücklich als politische Lehrjahre. Er war überzeugt, ohne Kenntnis der interfraktionellen Abläufe könne man das Amt des Bundeskanzlers nicht übernehmen - und ich vermute mal, Frau Merkel, Sie würden ihm gar nicht widersprechen.\" Diesen historischen Exkurs Schäubles konnte man auch als Spitze gegen Kramp-Karren\n",
      "\n",
      "pred sentence: Angela Merkel and Annegret Kramp-Karrenbauer meet in the middle of the debate . It's the first time the German leader has sat alongside a CDU leader . The SPD has also celebrated its 70-year anniversary .\n",
      "\n",
      "real sentence: The EU must become more independent in terms of defence policy and become a world standard again in terms of technology, says the Chancellor. It also calls for \"zero tolerance\" for racism. In fact, it's not.\n"
     ]
    }
   ],
   "source": [
    "for i in range(10):\n",
    "    print(get_random_prediction())"
   ]
  },
  {
   "cell_type": "markdown",
   "metadata": {},
   "source": [
    "## Save results to text file"
   ]
  },
  {
   "cell_type": "code",
   "execution_count": 35,
   "metadata": {},
   "outputs": [],
   "source": [
    "result_path = \"../results/cnn_daily_mail_result.txt\"\n",
    "open(result_path, \"w\")\n",
    "for pred in predictions:\n",
    "    with open(result_path, \"a\") as file:\n",
    "        file.write(pred + \"\\n\")"
   ]
  },
  {
   "cell_type": "markdown",
   "metadata": {},
   "source": [
    "## Load save File"
   ]
  },
  {
   "cell_type": "code",
   "execution_count": 36,
   "metadata": {},
   "outputs": [],
   "source": [
    "data_points = []\n",
    "result_path = \"../results/cnn_daily_mail_result.txt\"\n",
    "file = open(result_path, \"r\")\n",
    "for line in file:\n",
    "    data_points.append(line)"
   ]
  },
  {
   "cell_type": "code",
   "execution_count": 37,
   "metadata": {},
   "outputs": [
    {
     "data": {
      "text/plain": [
       "'article: summarize German to German: Bei noch sechs ausstehenden Spielen - fünf für QPR und sieben für Leicester - trennen die letzten fünf Teams in der Premier League nur vier Punkte. Nach Lage der Dinge würden die drei aufgestiegenen Clubs, Leicester, Burnley und QPR, sofort in die Meisterschaft zurückkehren, aber Hull und Sunderland stehen am Rande des Abgrunds. Auch Aston Villa und West Brom sind noch nicht ganz aus dem Rennen, obwohl unsere Reporter zuversichtlich sind, dass die Absteiger aus den fünf Mannschaften kommen werden, die derzeit am unteren Ende der Tabelle stehen. Charlie Austin hofft Medicare in Sicherheit zu bringen, aber werden seine Ziele ausreichen, um sie zu retten? Kann sich einer der letzten drei in Sicherheit bringen? Oder werden die Klubs über ihnen teuflisch schwierigen Fixierlisten erliegen? angs Reporter urteilen über den engsten Abstiegskampf seit Jahren... Lee Clayton. Leicester, QPR und Sunderland. Kann ich eine IF hinzufügen? Wenn Danny Ings wieder regelmäßig Tore schießt. Wenn nicht, wird Sunderland an der Haut ihrer Zähne bleiben und die unteren drei gehen nach unten, was als Warnung für Bournemouth, Norwich, Watford, Middlesbrough und den Rest in den verrückten Rennen an der Spitze der Meisterschaft beteiligt sein sollte. Die Fans von Sunderland haben Besseres verdient. Das Gleiche gilt für die Fans von Newcastle. Aber fangen Sie mich nicht damit an. Danny Ings hat bisher neun Premier-League-Tore erzielt, aber er muss wieder für Burnley treffen, um oben zu bleiben. Sunderlands Fans, die nach ihrer Niederlage gegen Crystal Palace letzte Woche niedergeschlagen waren, verdienen mehr. HULL. Liverpool (Heim) - 18. April. Crystal Palace (Auswärts) - 25. April. Arsenal (Heim) - 2. Mai. Burnley (Heim) - 9. Mai. Tottenham (Auswärts) - 16. Mai Man United (Heim) - 24. Mai. ASTON VILLA. Man City (Auswärts) - 25. April. Everton (Heim) - 2. Mai West Ham\\n'"
      ]
     },
     "execution_count": 37,
     "metadata": {},
     "output_type": "execute_result"
    }
   ],
   "source": [
    "data_points[0]"
   ]
  },
  {
   "cell_type": "code",
   "execution_count": 38,
   "metadata": {},
   "outputs": [],
   "source": [
    "class SummaryData():\n",
    "    \n",
    "    def __init__(self):\n",
    "        self.language_tag = ''\n",
    "        self.real_data = ''\n",
    "        self.pred_data = ''        "
   ]
  },
  {
   "cell_type": "code",
   "execution_count": 39,
   "metadata": {},
   "outputs": [
    {
     "data": {
      "text/plain": [
       "{'language_tag': 'German to German:',\n",
       " 'real_data': ' Auch Hull City und Sunderland sind in Abstiegsgefahr. Aston Villa und West Brom sind näher an der Sicherheit, könnten aber eingeholt werden.\\n',\n",
       " 'pred_data': ' Leicester, QPR und Sunderland stehen am Rande des Abstiegskampfes. Hull, Newcastle und Aston Villa stehen an der Spitze der Tabelle. Charlie Austin hofft, Medicare in Sicherheit zu bringen, aber werden seine Ziele ausreichen, um sie zu retten?\\n'}"
      ]
     },
     "execution_count": 39,
     "metadata": {},
     "output_type": "execute_result"
    }
   ],
   "source": [
    "count = 0\n",
    "summary_data = SummaryData()\n",
    "summary_data_list = []\n",
    "for point in data_points:\n",
    "    count += 1\n",
    "    \n",
    "    if count == 1:\n",
    "        summary_data.language_tag = \" \".join(point.split(\" \")[2:5])\n",
    "    elif count == 3:\n",
    "        summary_data.pred_data = \": \".join(point.split(\":\")[1:])\n",
    "    elif count == 5:\n",
    "        summary_data.real_data = \": \".join(point.split(\":\")[1:])\n",
    "        summary_data_list.append(summary_data)\n",
    "        summary_data = SummaryData()\n",
    "        count = 0\n",
    "summary_data_list[0].__dict__"
   ]
  },
  {
   "cell_type": "code",
   "execution_count": 40,
   "metadata": {},
   "outputs": [],
   "source": [
    "from ast import literal_eval\n",
    "\n",
    "results_en_trans = []\n",
    "results_en_path = \"../results/en_en_results\"\n",
    "file = open(results_en_path, \"r\")\n",
    "for i, line in enumerate(file):\n",
    "    results_en_trans.append(literal_eval(line))\n",
    "    \n",
    "results_ger_trans = []\n",
    "results_ger_path = \"../results/en_en_results\"\n",
    "file = open(results_ger_path, \"r\")\n",
    "for i, line in enumerate(file):\n",
    "    results_ger_trans.append(literal_eval(line))"
   ]
  },
  {
   "cell_type": "code",
   "execution_count": 41,
   "metadata": {},
   "outputs": [
    {
     "data": {
      "text/plain": [
       "{'English to English:': <__main__.RougeScore at 0x7fcc54c90198>,\n",
       " 'English to German:': <__main__.RougeScore at 0x7fcae87c5da0>,\n",
       " 'German to English:': <__main__.RougeScore at 0x7fcae87c5b00>,\n",
       " 'German to German:': <__main__.RougeScore at 0x7fcae87c5a20>}"
      ]
     },
     "execution_count": 41,
     "metadata": {},
     "output_type": "execute_result"
    }
   ],
   "source": [
    "rouge_scores_dict = dict()\n",
    "rouge_scores_dict['English to English:'] = RougeScore()\n",
    "# rouge_scores_dict['en_to_en_trans'] = RougeScore()\n",
    "\n",
    "rouge_scores_dict['English to German:'] = RougeScore()\n",
    "rouge_scores_dict['German to English:'] = RougeScore()\n",
    "rouge_scores_dict['German to German:'] = RougeScore()\n",
    "# rouge_scores_dict['ger_to_ger_trans'] = RougeScore()\n",
    "\n",
    "rouge_scores_dict"
   ]
  },
  {
   "cell_type": "code",
   "execution_count": 42,
   "metadata": {},
   "outputs": [],
   "source": [
    "for summary_data in summary_data_list:\n",
    "    rouge_scores_dict[summary_data.language_tag](summary_data.real_data, summary_data.pred_data)\n",
    "    "
   ]
  },
  {
   "cell_type": "code",
   "execution_count": 43,
   "metadata": {},
   "outputs": [
    {
     "data": {
      "text/plain": [
       "{'id': 24,\n",
       " 'item_id': 1,\n",
       " 'language_tag': 'en_to_en',\n",
       " 'real_data': 'Beatrice seen watching race on terrace with the Gulf states Crown Prince . Marks 13th holiday since November last year, and fourth in a month . Princess quit her job at Sony Pictures in New York before Christmas . Despite that she is described as working full-time on her fathers website .\\n',\n",
       " 'pred_data': 'Princess Beatrice spotted at Bahrain Grand Prix with long-term boyfriend Dave Clark . Onlooker said 26-year-old was walking behind the Crown Prince of Bahrain . Princes regime accused of violently repressing pro-democracy protests . Sir Jackie Stewart and comedian Rory Bremner watched race from the tower .\\n',\n",
       " 'translated': 'Prinzessin Beatrice beim Großen Preis von Bahrain mit ihrem langjährigen Freund Dave Clark.Beobachter sagten, der 26-Jährige sei hinter dem Kronprinzen von Bahrain hergelaufen.Prinzen-Regime beschuldigt, prodemokratische Proteste gewaltsam zu unterdrücken.Sir Jackie Stewart und Komiker Rory Bremner verfolgten das Rennen vom Tower aus.Es geht um die Frage, wer die Verantwortung trägt.',\n",
       " 'translated_real': 'Beatrice sah Rennen auf der Terrasse mit dem Kronprinzen des Golfstaates. Mark 13. Urlaub seit November letzten Jahres, und vierte in einem Monat. Prinzessin kündigte ihren Job bei Sony Pictures in New York vor Weihnachten. Trotzdem wird sie als Vollzeit-Arbeiterin auf der Website ihres Vaters beschrieben.\\n'}"
      ]
     },
     "execution_count": 43,
     "metadata": {},
     "output_type": "execute_result"
    }
   ],
   "source": [
    "results_ger_trans[0]"
   ]
  },
  {
   "cell_type": "code",
   "execution_count": 44,
   "metadata": {},
   "outputs": [
    {
     "name": "stdout",
     "output_type": "stream",
     "text": [
      "rouge1 = 39.12, 95% confidence [36.03, 42.40]\n",
      "rouge2 = 19.13, 95% confidence [15.74, 22.88]\n",
      "rougeLsum = 36.54, 95% confidence [33.46, 39.58]\n",
      "English to English: {'rouge1': 39.12285489363039, 'rouge2': 19.12811348631634, 'rougeLsum': 36.54423892349275}\n",
      "\n",
      "rouge1 = 32.83, 95% confidence [29.78, 36.22]\n",
      "rouge2 = 13.05, 95% confidence [10.45, 16.27]\n",
      "rougeLsum = 23.02, 95% confidence [20.10, 26.32]\n",
      "English to German: {'rouge1': 32.83025864315528, 'rouge2': 13.05114994563904, 'rougeLsum': 23.017552524051553}\n",
      "\n",
      "rouge1 = 35.60, 95% confidence [32.66, 38.40]\n",
      "rouge2 = 14.47, 95% confidence [12.27, 16.67]\n",
      "rougeLsum = 33.62, 95% confidence [30.67, 36.26]\n",
      "German to English: {'rouge1': 35.603094673092706, 'rouge2': 14.47399016291358, 'rougeLsum': 33.61529228993784}\n",
      "\n",
      "rouge1 = 33.97, 95% confidence [31.44, 36.88]\n",
      "rouge2 = 15.65, 95% confidence [12.68, 18.63]\n",
      "rougeLsum = 25.12, 95% confidence [22.52, 28.13]\n",
      "German to German: {'rouge1': 33.97223830544936, 'rouge2': 15.646719696637163, 'rougeLsum': 25.120670953125906}\n",
      "\n"
     ]
    }
   ],
   "source": [
    "for key, rouge_score_item in rouge_scores_dict.items():\n",
    "    print(key, rouge_score_item.result())\n",
    "    print()"
   ]
  },
  {
   "cell_type": "code",
   "execution_count": null,
   "metadata": {},
   "outputs": [],
   "source": []
  },
  {
   "cell_type": "markdown",
   "metadata": {},
   "source": [
    "# Special Example"
   ]
  },
  {
   "cell_type": "code",
   "execution_count": 29,
   "metadata": {},
   "outputs": [],
   "source": [
    "input_text = \"In a world where we have to read and understand a lot of documents automatic text summarization has an obvious demand. To have the option to get a brief summary of a text in your language can be very useful. But would it not be even more useful, if you could have the option to get a summary of a text in a language, you do not understand, in your wished language? Sometimes we don’t want an exact translation, sometimes we just want to know a brief overview of a text in a language we don’t understand. That is the case where Cross-Lingual summarization would be prefered over normal translation. Cross-Lingual summarization can give you a short overview of a text in a language you do not understand.\""
   ]
  },
  {
   "cell_type": "code",
   "execution_count": 30,
   "metadata": {},
   "outputs": [],
   "source": [
    "input_text_test = \"The dramatic growth of data on the internet leads to the need to automatically process and understand the data. A big part of the data is text data in many languages. This overwhelming amount of information causes a demand for automatic text summarization and other Natural Language Processing (NLP) taks.\\n The Field of NLP had some high points in the last couple of years, when the field got revolutionized by Neural Language Models. With publications like Attention is all you need \\cite{vaswani2017attention} or GPT3\\cite{brown2020language} the limits of the field are pushed even further. Because of large data corpuses, scraped from the internet, and advanced models which contain up to 175 Billion parameters like the GPT3 it is possible to generate text, answer questions, summarize text, translate or many other things.\\n In this master thesis we will take a deeper look into summarization. There are extractive and abstractive techniques to summarization. The extractive summary technique tries to find subsets of sentences, which representante the original text well and uses them to summarize the original text \\cite{allahyari2017text}. The abstractive technique uses advanced language models to generate a new text, which should be much shorter than the original one, contain all the key information and preserve the overall meaning.\\n In this master thesis we will use the abstractive technique, because it is closer to a human-like interpretation. It combines the ability to understand what the context of a given text is and the ability to generate fluent and grammatically correct text to that given context.\\n The summarization in one language is an interesting topic but cross lingual approach is even more interesting. The goal of Cross Lingual Summarization is to summarize a text from one language into another language. It combines the ability to summarize and the ability to translate. Where state of the art models perform well on normal summarization, it will be interesting to see how well they perform doing Cross-Lingual Summarization.\""
   ]
  },
  {
   "cell_type": "code",
   "execution_count": 31,
   "metadata": {},
   "outputs": [],
   "source": [
    "x = tokenizer.encode_plus(\"summarize: en_to_ger \" + input_text, max_length=512, return_tensors=\"tf\", padding='max_length', truncation=True)\n",
    "input_ids = tf.reshape(x['input_ids'], (1,-1))\n",
    "attention_mask = tf.reshape(x['attention_mask'], (1,-1))"
   ]
  },
  {
   "cell_type": "code",
   "execution_count": 32,
   "metadata": {},
   "outputs": [
    {
     "name": "stdout",
     "output_type": "stream",
     "text": [
      "(1, 512) (1, 512)\n"
     ]
    }
   ],
   "source": [
    "print(input_ids.shape, attention_mask.shape)"
   ]
  },
  {
   "cell_type": "code",
   "execution_count": 33,
   "metadata": {},
   "outputs": [],
   "source": [
    "summaries = model.generate( \n",
    "    input_ids=input_ids, \n",
    "    attention_mask=attention_mask\n",
    ")"
   ]
  },
  {
   "cell_type": "code",
   "execution_count": 34,
   "metadata": {},
   "outputs": [
    {
     "data": {
      "text/plain": [
       "<tf.Tensor: shape=(1, 74), dtype=int32, numpy=\n",
       "array([[    0,    86,   645,  3779,     6,    16,    74,   558,  2584,\n",
       "            3, 20127,    15,   110,    35,    64, 19163,  3766,     6,\n",
       "          229, 15820,    15,  5027,     7,    63,    29, 19712,   266,\n",
       "        30410,    15,  5222,  6367,     5,  4098,  6199,     3,    15,\n",
       "            7,   311, 30001,    49,     6,  1301,   292,    67,  7251,\n",
       "         8219,    29,     6,   266, 11068, 14449,   266,     7,  5027,\n",
       "           15,     7,    16,   645, 16933,   170,  8837,     6,    67,\n",
       "          292,   311, 19163,     6,    16,  1197,    52, 24054,    29,\n",
       "        16933,    58]], dtype=int32)>"
      ]
     },
     "execution_count": 34,
     "metadata": {},
     "output_type": "execute_result"
    }
   ],
   "source": [
    "summaries"
   ]
  },
  {
   "cell_type": "code",
   "execution_count": 35,
   "metadata": {},
   "outputs": [
    {
     "data": {
      "text/plain": [
       "'<pad> In einer Welt, in der wir viele Dokumente lesen und verstehen müssen, ist automatische Textsynthese eine offensichtliche Forderung. Aber wäre es nicht nützlicher, wenn Sie die Möglichkeit hätten, eine Zusammenfassung eines Textes in einer Sprache zu bekommen, die Sie nicht verstehen, in Ihrer gewünschten Sprache?'"
      ]
     },
     "execution_count": 35,
     "metadata": {},
     "output_type": "execute_result"
    }
   ],
   "source": [
    "tokenizer.decode(summaries[0])"
   ]
  },
  {
   "cell_type": "code",
   "execution_count": null,
   "metadata": {},
   "outputs": [],
   "source": []
  }
 ],
 "metadata": {
  "kernelspec": {
   "display_name": "Python 3",
   "language": "python",
   "name": "python3"
  },
  "language_info": {
   "codemirror_mode": {
    "name": "ipython",
    "version": 3
   },
   "file_extension": ".py",
   "mimetype": "text/x-python",
   "name": "python",
   "nbconvert_exporter": "python",
   "pygments_lexer": "ipython3",
   "version": "3.6.9"
  }
 },
 "nbformat": 4,
 "nbformat_minor": 4
}
