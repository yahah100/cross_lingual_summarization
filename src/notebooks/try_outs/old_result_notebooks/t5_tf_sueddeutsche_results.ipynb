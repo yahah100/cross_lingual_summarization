{
 "cells": [
  {
   "cell_type": "markdown",
   "metadata": {},
   "source": [
    "# Cross Lingual summarization CNN Daily Mail Results\n",
    "We will try out the trained t5 network from the tpu"
   ]
  },
  {
   "cell_type": "code",
   "execution_count": 1,
   "metadata": {},
   "outputs": [],
   "source": [
    "import tensorflow as tf\n",
    "import pandas as pd\n",
    "from transformers import T5Tokenizer, TFT5ForConditionalGeneration\n",
    "import time\n",
    "from rouge_score import rouge_scorer\n",
    "from rouge_score import scoring"
   ]
  },
  {
   "cell_type": "code",
   "execution_count": 2,
   "metadata": {},
   "outputs": [],
   "source": [
    "if not tf.config.list_physical_devices('GPU'):\n",
    "    print(\"Change runtime to \\\"GPU runtime\\\" for faster computations\")"
   ]
  },
  {
   "cell_type": "code",
   "execution_count": 3,
   "metadata": {},
   "outputs": [
    {
     "name": "stdout",
     "output_type": "stream",
     "text": [
      "WARNING:tensorflow:From <ipython-input-3-17bb7203622b>:1: is_gpu_available (from tensorflow.python.framework.test_util) is deprecated and will be removed in a future version.\n",
      "Instructions for updating:\n",
      "Use `tf.config.list_physical_devices('GPU')` instead.\n"
     ]
    },
    {
     "data": {
      "text/plain": [
       "True"
      ]
     },
     "execution_count": 3,
     "metadata": {},
     "output_type": "execute_result"
    }
   ],
   "source": [
    "tf.test.is_gpu_available()"
   ]
  },
  {
   "cell_type": "markdown",
   "metadata": {},
   "source": [
    "## Params"
   ]
  },
  {
   "cell_type": "code",
   "execution_count": 4,
   "metadata": {},
   "outputs": [],
   "source": [
    "BATCH_SIZE = 8\n",
    "\n",
    "SHUFFEL_SIZE = 1024\n",
    "\n",
    "learning_rate = 3e-5\n",
    "\n",
    "model_size = \"t5-base\"\n",
    "\n",
    "MAX_ARTICLE_LEN = 512\n",
    "\n",
    "MAX_HIGHLIGHT_LEN = 150"
   ]
  },
  {
   "cell_type": "markdown",
   "metadata": {},
   "source": [
    "## Model"
   ]
  },
  {
   "cell_type": "code",
   "execution_count": 5,
   "metadata": {},
   "outputs": [
    {
     "name": "stderr",
     "output_type": "stream",
     "text": [
      "All model checkpoint layers were used when initializing TFT5ForConditionalGeneration.\n",
      "\n",
      "All the layers of TFT5ForConditionalGeneration were initialized from the model checkpoint at t5-base.\n",
      "If your task is similar to the task the model of the checkpoint was trained on, you can already use TFT5ForConditionalGeneration for predictions without further training.\n"
     ]
    }
   ],
   "source": [
    "model = TFT5ForConditionalGeneration.from_pretrained(model_size)\n",
    "\n",
    "task_specific_params = model.config.task_specific_params\n",
    "if task_specific_params is not None:\n",
    "    model.config.update(task_specific_params.get(\"summarization\", {}))"
   ]
  },
  {
   "cell_type": "code",
   "execution_count": 6,
   "metadata": {},
   "outputs": [
    {
     "name": "stdout",
     "output_type": "stream",
     "text": [
      "Model: \"tf_t5for_conditional_generation\"\n",
      "_________________________________________________________________\n",
      "Layer (type)                 Output Shape              Param #   \n",
      "=================================================================\n",
      "shared (TFSharedEmbeddings)  multiple                  24674304  \n",
      "_________________________________________________________________\n",
      "encoder (TFT5MainLayer)      multiple                  84954240  \n",
      "_________________________________________________________________\n",
      "decoder (TFT5MainLayer)      multiple                  113275008 \n",
      "=================================================================\n",
      "Total params: 222,903,552\n",
      "Trainable params: 222,903,552\n",
      "Non-trainable params: 0\n",
      "_________________________________________________________________\n"
     ]
    }
   ],
   "source": [
    "val_loss = tf.keras.metrics.Mean(name='val_loss')\n",
    "val_accuracy = tf.keras.metrics.SparseCategoricalAccuracy(name='val_accuracy')\n",
    "\n",
    "model.summary()"
   ]
  },
  {
   "cell_type": "code",
   "execution_count": 9,
   "metadata": {},
   "outputs": [
    {
     "data": {
      "text/plain": [
       "<tensorflow.python.training.tracking.util.CheckpointLoadStatus at 0x7f616c5f0860>"
      ]
     },
     "execution_count": 9,
     "metadata": {},
     "output_type": "execute_result"
    }
   ],
   "source": [
    "ckpt_file = \"../models/sueddeutsche_t5.ckpt\"\n",
    "model.load_weights(ckpt_file)"
   ]
  },
  {
   "cell_type": "markdown",
   "metadata": {},
   "source": [
    "## Dataset\n",
    "We will load the translated CNN Daily Mail dataset from the tfrecords files"
   ]
  },
  {
   "cell_type": "code",
   "execution_count": 10,
   "metadata": {},
   "outputs": [],
   "source": [
    "class LanguageTokens:\n",
    "    def __init__(self, tokenizer, tf_or_pt: str) -> None:\n",
    "        super().__init__()\n",
    "        self.en_de_prefix = tokenizer(\"summarize English to German: \", return_tensors=tf_or_pt).input_ids\n",
    "        self.de_en_prefix = tokenizer(\"summarize German to English: \", return_tensors=tf_or_pt).input_ids\n",
    "        self.en_en_prefix = tokenizer(\"summarize English to English: \", return_tensors=tf_or_pt).input_ids\n",
    "        self.de_de_prefix = tokenizer(\"summarize German to German: \", return_tensors=tf_or_pt).input_ids\n",
    "\n",
    "        if tf_or_pt == \"tf\":\n",
    "            self.en_de_prefix = tf.reshape(self.en_de_prefix, (-1,))\n",
    "            self.de_en_prefix = tf.reshape(self.de_en_prefix, (-1,))\n",
    "            self.en_en_prefix = tf.reshape(self.en_en_prefix, (-1,))\n",
    "            self.de_de_prefix = tf.reshape(self.de_de_prefix, (-1,))\n",
    "        elif tf_or_pt == \"pt\":\n",
    "            self.en_de_prefix = self.en_de_prefix.reshape(-1,)\n",
    "            self.de_en_prefix = self.de_en_prefix.reshape(-1,)\n",
    "            self.en_en_prefix = self.en_en_prefix.reshape(-1,)\n",
    "            self.de_de_prefix = self.de_de_prefix.reshape(-1,)\n",
    "\n",
    "        # check if last token is end of sequence token and remove it\n",
    "        if self.en_de_prefix[-1] == 1:\n",
    "            self.en_de_prefix = self.en_de_prefix[:-1]\n",
    "            self.de_en_prefix = self.de_en_prefix[:-1]\n",
    "            self.en_en_prefix = self.en_en_prefix[:-1]\n",
    "            self.de_de_prefix = self.de_de_prefix[:-1]\n",
    "\n",
    "        assert self.en_de_prefix.shape[0] == self.de_en_prefix.shape[0] == self.en_en_prefix.shape[0] == self.de_de_prefix.shape[0], \"All perfixes must have the same size\"\n",
    "        self.prefix_size = self.en_de_prefix.shape[0]"
   ]
  },
  {
   "cell_type": "code",
   "execution_count": 11,
   "metadata": {},
   "outputs": [
    {
     "data": {
      "text/plain": [
       "5"
      ]
     },
     "execution_count": 11,
     "metadata": {},
     "output_type": "execute_result"
    }
   ],
   "source": [
    "tokenizer = T5Tokenizer.from_pretrained(\"t5-base\")\n",
    "language_tokens = LanguageTokens(tokenizer, \"tf\")\n",
    "prefix_size = language_tokens.prefix_size\n",
    "prefix_size"
   ]
  },
  {
   "cell_type": "code",
   "execution_count": 12,
   "metadata": {},
   "outputs": [],
   "source": [
    "import numpy as np\n",
    "from os import listdir\n",
    "MAX_ARTICLE_LEN = 512\n",
    "MAX_HIGHLIGHT_LEN = 150\n",
    "GLOBAL_BATCH_SIZE = 8\n",
    "\n",
    "def get_tf_record_files(directory):\n",
    "    file_list = []\n",
    "    for item in listdir(directory):\n",
    "        if item.split(\".\")[-1] == \"tfrecord\":\n",
    "            file_list.append(\"{}/{}\".format(directory, item))\n",
    "    return file_list\n",
    "\n",
    "def get_tfrecord_dataset(folder):\n",
    "    features = {\n",
    "        'ger_x': tf.io.FixedLenFeature([MAX_ARTICLE_LEN-prefix_size], tf.int64),\n",
    "        'ger_x_mask': tf.io.FixedLenFeature([MAX_ARTICLE_LEN-prefix_size], tf.int64),\n",
    "        'ger_y': tf.io.FixedLenFeature([MAX_HIGHLIGHT_LEN], tf.int64),\n",
    "        'ger_y_ids': tf.io.FixedLenFeature([MAX_HIGHLIGHT_LEN], tf.int64),\n",
    "\n",
    "        'en_x': tf.io.FixedLenFeature([MAX_ARTICLE_LEN-prefix_size], tf.int64),\n",
    "        'en_x_mask': tf.io.FixedLenFeature([MAX_ARTICLE_LEN-prefix_size], tf.int64),\n",
    "        'en_y': tf.io.FixedLenFeature([MAX_HIGHLIGHT_LEN], tf.int64),\n",
    "        'en_y_ids': tf.io.FixedLenFeature([MAX_HIGHLIGHT_LEN], tf.int64),\n",
    "    }\n",
    "    \n",
    "    dataset = tf.data.TFRecordDataset(get_tf_record_files(folder))\n",
    "\n",
    "    # Taken from the TensorFlow models repository: https://github.com/tensorflow/models/blob/befbe0f9fe02d6bc1efb1c462689d069dae23af1/official/nlp/bert/input_pipeline.py#L24\n",
    "    def decode_record(record, features):\n",
    "        \"\"\"Decodes a record to a TensorFlow example.\"\"\"\n",
    "        example = tf.io.parse_single_example(record, features)\n",
    "\n",
    "        # tf.Example only supports tf.int64, but the TPU only supports tf.int32.\n",
    "        # So cast all int64 to int32.\n",
    "        for name in list(example.keys()):\n",
    "            t = example[name]\n",
    "            if t.dtype == tf.int64:\n",
    "                t = tf.cast(t, tf.int32)\n",
    "            example[name] = t\n",
    "        return example\n",
    "\n",
    "    def select_data_from_record(record):\n",
    "        return [\n",
    "            tf.concat([language_tokens.de_de_prefix, record['ger_x']], axis=0), tf.concat([tf.ones(prefix_size, dtype=tf.int32), record['ger_x_mask']], axis=0), record['ger_y'], record['ger_y_ids'],\n",
    "            tf.concat([language_tokens.en_de_prefix, record['en_x']], axis=0), tf.concat([tf.ones(prefix_size, dtype=tf.int32), record['en_x_mask']], axis=0), record['ger_y'], record['ger_y_ids'],\n",
    "            tf.concat([language_tokens.de_en_prefix, record['ger_x']], axis=0), tf.concat([tf.ones(prefix_size, dtype=tf.int32), record['ger_x_mask']], axis=0), record['en_y'], record['en_y_ids'],\n",
    "            tf.concat([language_tokens.en_en_prefix, record['en_x']], axis=0), tf.concat([tf.ones(prefix_size, dtype=tf.int32), record['en_x_mask']], axis=0), record['en_y'], record['en_y_ids'],\n",
    "        ]\n",
    "    \n",
    "    dataset = dataset.map(lambda record: decode_record(record, features))\n",
    "    dataset = dataset.map(select_data_from_record)\n",
    "    dataset = dataset.shuffle(100)\n",
    "    return dataset.batch(GLOBAL_BATCH_SIZE)\n",
    "\n",
    "root_folder = \"../data/\"\n",
    "test_ds = get_tfrecord_dataset(root_folder + \"sueddeutsche_test/\")"
   ]
  },
  {
   "cell_type": "code",
   "execution_count": 13,
   "metadata": {},
   "outputs": [
    {
     "name": "stdout",
     "output_type": "stream",
     "text": [
      "(8, 512) (8, 512) (8, 150) (8, 150)\n",
      "(8, 512) (8, 512) (8, 150) (8, 150)\n",
      "(8, 512) (8, 512) (8, 150) (8, 150)\n",
      "(8, 512) (8, 512) (8, 150) (8, 150)\n"
     ]
    }
   ],
   "source": [
    "def get_summaries(ds):\n",
    "    for i in range(1,5):\n",
    "        yield ds[(i-1)*4], ds[i*4-3], ds[i*4-2], ds[i*4-1]\n",
    "\n",
    "\n",
    "for ds in test_ds.take(1):\n",
    "    for i in get_summaries(ds):\n",
    "        print(i[0].shape, i[1].shape, i[2].shape, i[3].shape)"
   ]
  },
  {
   "cell_type": "markdown",
   "metadata": {},
   "source": [
    "## Evaluation\n",
    "### Define Rouge Score"
   ]
  },
  {
   "cell_type": "code",
   "execution_count": 14,
   "metadata": {},
   "outputs": [],
   "source": [
    "class RougeScore:\n",
    "    '''\n",
    "    mostly from https://github.com/google-research/text-to-text-transfer-transformer/blob/master/t5/evaluation/metrics.py \n",
    "    '''\n",
    "    \n",
    "    def __init__(self, score_keys=None)-> None:\n",
    "        super().__init__()\n",
    "        if score_keys is None:  \n",
    "            self.score_keys = [\"rouge1\", \"rouge2\", \"rougeLsum\"]\n",
    "        \n",
    "        self.scorer = rouge_scorer.RougeScorer(self.score_keys)\n",
    "        self.aggregator = scoring.BootstrapAggregator()\n",
    "        \n",
    "        \n",
    "    @staticmethod\n",
    "    def prepare_summary(summary):\n",
    "            # Make sure the summary is not bytes-type\n",
    "            # Add newlines between sentences so that rougeLsum is computed correctly.\n",
    "            summary = summary.replace(\" . \", \" .\\n\")\n",
    "            return summary\n",
    "    \n",
    "    def __call__(self, target, prediction):\n",
    "        \"\"\"Computes rouge score.''\n",
    "        Args:\n",
    "        targets: string\n",
    "        predictions: string\n",
    "        \"\"\"\n",
    "\n",
    "        target = self.prepare_summary(target)\n",
    "        prediction = self.prepare_summary(prediction)\n",
    "        \n",
    "        self.aggregator.add_scores(self.scorer.score(target=target, prediction=prediction))\n",
    "\n",
    "        return \n",
    "    \n",
    "    def reset_states(self):\n",
    "        self.rouge_list = []\n",
    "\n",
    "    def result(self):\n",
    "        result = self.aggregator.aggregate()\n",
    "        \n",
    "        for key in self.score_keys:\n",
    "            score_text = \"%s = %.2f, 95%% confidence [%.2f, %.2f]\"%(\n",
    "                key,\n",
    "                result[key].mid.fmeasure*100,\n",
    "                result[key].low.fmeasure*100,\n",
    "                result[key].high.fmeasure*100\n",
    "            )\n",
    "            print(score_text)\n",
    "        \n",
    "        return {key: result[key].mid.fmeasure*100 for key in self.score_keys}"
   ]
  },
  {
   "cell_type": "markdown",
   "metadata": {},
   "source": [
    "### Compute Summaries"
   ]
  },
  {
   "cell_type": "code",
   "execution_count": 23,
   "metadata": {},
   "outputs": [
    {
     "name": "stdout",
     "output_type": "stream",
     "text": [
      "0 : time genreate batch: 13.699205684661866\n",
      "10 : time genreate batch: 104.2082646369934\n",
      "20 : time genreate batch: 106.95739471912384\n"
     ]
    }
   ],
   "source": [
    "predictions = []\n",
    "start_time = time.time()\n",
    "\n",
    "for i, ds_item in enumerate(test_ds): \n",
    "    for (input_ids, input_mask, y, y_ids) in get_summaries(ds_item):\n",
    "        summaries = model.generate(\n",
    "            input_ids=input_ids, \n",
    "            attention_mask=input_mask, \n",
    "            num_beams=4, \n",
    "            length_penalty=0.6,\n",
    "            early_stopping=True, \n",
    "            max_length=150\n",
    "        )\n",
    "\n",
    "        articles = [tokenizer.decode(g, skip_special_tokens=True, clean_up_tokenization_spaces=False) for g in input_ids]\n",
    "\n",
    "        pred = [tokenizer.decode(g, skip_special_tokens=True, clean_up_tokenization_spaces=False) for g in summaries]\n",
    "        real = [tokenizer.decode(g, skip_special_tokens=True, clean_up_tokenization_spaces=False) for g in y]\n",
    "    \n",
    "        for pred_sent, real_sent, article_sent in zip(pred, real, articles):\n",
    "            predictions.append(str(\"article: \" + article_sent + \"\\n\\npred sentence: \" + pred_sent + \"\\n\\nreal sentence: \" + real_sent))\n",
    "    \n",
    "    if (i % 10) == 0:\n",
    "        elapsed = (time.time() - start_time) / 10\n",
    "        print(i,\": time genreate batch:\", elapsed)\n",
    "        start_time = time.time()\n",
    "    if i > 20:\n",
    "        # otherwise it will take ages\n",
    "        break\n",
    "\n",
    "\n",
    "# rouge_score.result()"
   ]
  },
  {
   "cell_type": "markdown",
   "metadata": {},
   "source": [
    "### Lets have a look at some of these predicted summaries"
   ]
  },
  {
   "cell_type": "code",
   "execution_count": 32,
   "metadata": {},
   "outputs": [],
   "source": [
    "import numpy as np\n",
    "len_predictions = len(predictions)\n",
    "\n",
    "def get_random_prediction():\n",
    "    return predictions[np.random.randint(len_predictions)]"
   ]
  },
  {
   "cell_type": "code",
   "execution_count": 33,
   "metadata": {
    "scrolled": true
   },
   "outputs": [
    {
     "name": "stdout",
     "output_type": "stream",
     "text": [
      "article: summarize English to German: Bodo Hechelhammer has meticulously investigated the career of multiple agent Heinz Felfe. The fact that someone was able to work for the BND and at the same time for the Soviets has mainly to do with the Nazi era. Bodo Hechelhammer spent eight years dealing with Heinz Felfe, namely \"as a BND employee to understand why a former colleague committed treason and secrecy. Self-critically, \"he writes in his acceptance speech,\" I have to admit that eight years was too many. \" That is true, and again not true, because someone had to do the job, and no one is better equipped to do it than the former BND agent Hechelhammer, who now serves his agency as chief historian. As such, he has exclusive access to the BND archive, from which he was able to reconstruct how Felfe, a trained precision mechanic, worked first for the Reichssicherheitshauptamt (RSHA), then for the British secret service, then for the Soviet, finally for the West German foreign intelligence service and the East German state security. \" Above all, he always worked for himself, \"is the anticipated conclusion. But it doesnt take eight years to realize that. With almost superhuman patience, Hechelhammer has analysed the BNP and Stasi files (but not the Soviet documents), spoken to the last eyewitnesses, not only has he recorded every holiday that Felfe allowed himself, but he also knows the exact date of departure, who he took with him or met at the holiday resort, or when exactly he interrupted his holiday prematurely, and why. Heinz Felfe nevertheless remains a mouse-gray figure who, in the best German tradition, could work in any system as long as he was guaranteed a regular income and livelihood. Hechelhammer is a medieval historian and therefore familiar with source work, but not a particularly elegant scribe. Felfe saw the famous \"light of day\" in 1918 in an unconventional manner, then became \"little Heinz,\" and at one point \"the wedding bells rang.\" Dresden cannot be Dresden, but is the \"beloved hometown,\" Felfe the \"nature lover\" and the \"family man,\" for whom\n",
      "\n",
      "pred sentence: Bodo Hechelhammer hat die Karriere des mehrfachen Agenten Heinz Felfe gründlich untersucht. Dass jemand für den BND und gleichzeitig für die Sowjets arbeiten konnte, hat vor allem mit der Nazi-ra zu tun.\n",
      "\n",
      "real sentence: Bodo Hechelhammer hat die Karriere des Mehrfach-Agenten Heinz Felfe akribisch untersucht. Dass einer für den BND und gleichzeitig für die Sowjets arbeiten konnte, hat vor allem mit der NS-Zeit zu tun.\n"
     ]
    }
   ],
   "source": [
    "print(get_random_prediction())"
   ]
  },
  {
   "cell_type": "code",
   "execution_count": 34,
   "metadata": {},
   "outputs": [
    {
     "name": "stdout",
     "output_type": "stream",
     "text": [
      "article: summarize German to German: Norbert Walter-Borjans, 66 Jahre alt, hatte sich schon im Ruhestand eingerichtet. Der frühere Finanzminister aus Nordrhein-Westfalen fährt gerne Rad, er schreibt seiner Partei Steuerkonzepte. Er hat nach seinem Ende als Minister, 2017, ein Buch über seinen Kampf gegen Steuerhinterziehung geschrieben: \"Steuern - Der große Bluff.\" Damit ist er durchs Land getourt. Es hätte so weitergehen können. Er war auf angenehme Art noch dabei und doch nicht mehr mittendrin. Dann aber kam mit dem Rückzug von Andrea Nahles von der Parteispitze alles in der SPD ins Rutschen. Jetzt ist Walter-Borjans zurück - voll und ganz. Er macht Wahlkampf für sich und seine Tandempartnerin Saskia Esken, 58, Digitalpolitikerin und Bundestagsabgeordnete aus dem Nordschwarzwald. Sie wollen an die Spitze. Sie haben gute Chancen, wie ihre Vorstellungsrunden bei den ersten Regionalkonferenzen zeigen. Sie kommen an bei den Mitgliedern, die diesmal über die Spitze entscheiden werden. Die ersten Konkurrenten, die Oberbürgermeister Simone Lange und Alexander Ahrens, haben zu ihren Gunsten verzichtet. Norbert Walter-Borjans trat erst kurz vor Ende der Bewerbungsfrist an. Doch wer die vergangenen Tage verfolgt hat bekommt nicht den Eindruck, dass hier jemand zufällig in den Kampf um die Zukunft der SPD hineingestolpert ist. Ausgerechnet der Groko-Befürworter hatte plötzlich gute Karten Es gibt einen Plan. Bevor Walter-Borjans ins Rennen ging, war die Lage in der SPD so: Erst meldete sich niemand. Dann kamen Teams aus der Deckung, die kaum Euphorie auslösten. Europa-Staatsminister Michael Roth etwa bewarb sich mit der NRW-Landespolitikerin und früheren Familienministerin Christina Kampmann. Parteivize Ralf Stegner fand sich mit Gesine Schwan, 76, der Politikwissenschaftlerin und früheren Kandidatin für das Amt der Bundespräsidentin, zusammen. Die Lage änderte sich erst maßgeblich, als Finanzminister und Vizekanzler\n",
      "\n",
      "pred sentence: Der frühere Finanzminister Norbert Walter-Borjans macht Wahlkampf für sich und Saskia Esken, 58, Digitalpolitikerin und Bundestagsabgeordnete aus dem Nordschwarzwald. Sie haben gute Chancen, wie ihre Vorstellungsrunden zeigen.\n",
      "\n",
      "real sentence: Wer den Vizekanzler an der SPD-Spitze verhindern will, der braucht einen Gegenkandidaten. Viele wünschen sich den 66 Jahre alten Walter-Borjans als Erneuerer - vor allem die Jusos.\n"
     ]
    }
   ],
   "source": [
    "print(get_random_prediction())"
   ]
  },
  {
   "cell_type": "code",
   "execution_count": 35,
   "metadata": {},
   "outputs": [
    {
     "name": "stdout",
     "output_type": "stream",
     "text": [
      "article: summarize German to German: Nachdem US-Präsident Donald Trump im Februar dieses Jahres seine Absicht verkündet hatte, Kelly Craft als Botschafterin bei den Vereinten Nationen zu nominieren, dauerte es nicht lange, bis ein Fernsehinterview vom Oktober 2017 auftauchte, in dem Craft gefragt wurde, ob sie an den Klimawandel glaube. Sie sagte, dass sie \"beide Seiten der Wissenschaft\" respektiere, was insbesondere die Demokraten sehr erregte. Im Juli wurde sie dennoch vom Senat als künftige Botschafterin bestätigt, an diesem Dienstag wird sie vereidigt, gerade rechtzeitig vor der UN-Vollversammlung, die in der zweiten Septemberhälfte stattfindet. Was das Klima angeht, hat Craft ihre Aussage später modifiziert. Sie glaube durchaus, dass der Mensch Einfluss auf das Klima habe. Damit ging sie zumindest ein wenig auf Distanz zum Präsidenten, der öfter angemerkt hat, dass zwar das Klima sich wandele, das aber nicht notwendigerweise vom Menschen verursacht werde. In Crafts Fall wurde diese Aussage auch deshalb mit Interesse zur Kenntnis genommen, weil sie seit 2016 in dritter Ehe mit dem Milliardär Joe Craft verheiratet ist, der für einen der größten Kohleproduzenten der USA arbeitet. Die Crafts gehören zu den größeren Geldgebern der Republikaner. Nach Angaben der New York Times spendeten sie 2016 mehr als zwei Millionen Dollar für Trumps Wahlkampf und für dessen Amtseinführung. Im Gegenzug nominierte Trump Kelly Craft im Juni 2017 als Botschafterin in Kanada. Es ist sowohl bei Demokraten als auch bei Republikanern durchaus üblich, dass großzügige Spender mit Botschafterposten belohnt werden. Ungewöhnlich ist hingegen, dass ein so bedeutender Posten wie der bei den Vereinten Nationen an jemanden vergeben wird, der nicht über langjährige Erfahrung in der Politik verfügt. Die 57-jährige Craft stammt aus Kentucky, wo sie zur Schule ging, studierte und eine Unternehmensberatung leitete. 2004 engagierte sie sich als Spendensammlerin für den damaligen Präsidenten George W. Bush. Dieser ernannte sie 2007 zur De\n",
      "\n",
      "pred sentence: Kelly Craft soll Botschafterin bei den Vereinten Nationen werden. Sie verteidigt ihre Aussage vor der UN-Vollversammlung, die in der zweiten Septemberhälfte stattfindet.\n",
      "\n",
      "real sentence: Kelly Craft und ihr Mann haben Trump im Wahlkampf sehr viel Geld gespendet. Nun bekommt sie das zweitwichtigste außenpolitische Amt in der US-Regierung - obwohl sie recht wenig Erfahrung in der Politik hat.\n"
     ]
    }
   ],
   "source": [
    "print(get_random_prediction())"
   ]
  },
  {
   "cell_type": "code",
   "execution_count": 36,
   "metadata": {},
   "outputs": [
    {
     "name": "stdout",
     "output_type": "stream",
     "text": [
      "article: summarize English to German: The insolvent travel company Thomas Cook is warning its customers in Germany about an email scam. Customers are increasingly being asked to disclose sensitive information such as passport or credit card details. The emails sent look like official messages from the travel company, offering recipients a refund for their Thomas Cook trip. In a statement, the company said: \"Thomas Cook has never sent emails of this nature to customers. Please ignore these mails and delete them. \" All customers of the Thomas Cook organizers (Thomas Cook Signature, Thomas Cook Signature Finest Selection, Neckermann Reisen, ger Tours, Bucher Reisen and Air Marin) who wanted to travel up to and including 31 October could not travel due to insolvency law. Claims for reimbursement should be addressed to the insolvency administrator. For customers who are currently on vacation, hotel stays, as well as transfers and return flights as part of a package holiday are secured, the company continues. For travel dates after 31 October, a decision has yet to be taken on whether these trips can be carried out. Following the insolvency of the British parent company, the German Thomas Cook also had to file for bankruptcy on Wednesday. However, the aircraft of the German airline Condor, which is also part of Thomas Cook, can continue to fly for the time being. The company receives a loan guarantee of around 400 million euros from the federal government and the state of Hesse. The loan is to run for six months, thereby safeguarding the airlines liquidity until summer 2020. According to reports in Bild am Sonntag, it could be a worthwhile deal for the lenders. Should Condor be saved, the federal government and the state of Hesse will earn at least 13 million euros. The processing fee for the 380 million loan alone amounts to 3.8 million euros. Interest is also charged at between five and ten per cent. This would allow lenders to earn between €9.5 million and €19 million in interest. In fact, its not.\n",
      "\n",
      "pred sentence: Der insolvente Reisekonzern Thomas Cook warnt seine Kunden in Deutschland vor einem E-Mail-Betrug. Kunden werden zunehmend gebeten, sensible Daten wie Pass- oder Kreditkartendaten offenzulegen.\n",
      "\n",
      "real sentence: In authentisch anmutenden Nachrichten werde Kunden eine Erstattung in Aussicht gestellt. Die Betrüger haben es auf sensible Daten abgesehen.\n"
     ]
    }
   ],
   "source": [
    "print(get_random_prediction())"
   ]
  },
  {
   "cell_type": "code",
   "execution_count": 37,
   "metadata": {},
   "outputs": [
    {
     "name": "stdout",
     "output_type": "stream",
     "text": [
      "article: summarize German to English: Vorgänger mit Nachfolgerin: Jean-Claude Juncker ging mit Ursula von der Leyen am Montag in Brüssel gemeinsam Mittagessen. Knapp zwei Monate, nachdem Ursula von der Leyen mit denkbar knapper Mehrheit vom Europaparlament zur ersten Präsidentin der EU-Kommission gewählt wurde, wird sie an diesem Dienstag mitteilen, wer in ihrem Team welches Portfolio übernehmen soll. Ihre politischen Leitlinien für die Zeit bis 2024 hat die CDU-Politikerin mit \"Eine Union, die mehr erreichen will\" überschrieben. Die Aufgabenverteilung im Kollegium wird andeuten, welche Prioritäten sie setzt und wer ihre Stützen sein werden. Völlig freie Hand hatte von der Leyen, die keine Spitzenkandidatin bei der Europawahl war, jedoch nicht. Im Juli bestimmten die Staats- und Regierungschefs nicht nur den Spanier Josep Borrell zum nächsten EU-Außenbeauftragten, sondern wiesen dem Sozialdemokraten Frans Timmermans und der dänischen Liberalen Margrethe Vestager herausgehobene Rollen als Vizepräsidenten zu. Seit Tagen machen in Brüssel viele Gerüchte die Runde, doch es gilt als sicher, dass der Niederländer für das Großthema Klima verantwortlich sein soll, während sich die bisherige Wettbewerbskommissarin Vestager um digitale Wirtschaft kümmert. Bis von der Leyen um zwölf Uhr im Pressesaal der Kommission ihre Personalentscheidungen erläutert, sind noch nderungen möglich, doch vieles scheint unstrittig. Demnach soll Sylvie Goulard, Vertraute von Frankreichs Präsident Emmanuel Macron, das begehrte Ressort Wettbewerb erhalten, und der Italiener Paolo Gentiloni wird als Nachfolger von Währungskommissar Pierre Moscovici gehandelt. Demnach wären vor allem Südeuropäer für Wirtschaftspolitik zuständig - die Euro-Gruppe führt der Portugiese Mário Centeno. Nachfolger von Haushaltskommissar Günther Oettinger dürfte Johannes Hahn aus sterreich werden um Rechtsstaatlichkeit soll sich die Tsche\n",
      "\n",
      "pred sentence: Ursula von der Leyen is to become the first President of the European Commission in two months. In fact, it's not.\n",
      "\n",
      "real sentence: Commission head Ursula von der Leyen presents her team. She narrowly misses her goal of presiding over a college \"made up of as many women as men.\" But some of the candidates are not sure of their jobs. In fact, it's not.\n"
     ]
    }
   ],
   "source": [
    "print(get_random_prediction())"
   ]
  },
  {
   "cell_type": "code",
   "execution_count": 38,
   "metadata": {},
   "outputs": [
    {
     "name": "stdout",
     "output_type": "stream",
     "text": [
      "article: summarize German to German: Der Tag der Preisverleihung war mit Bedacht gewählt: der Vorabend des katalanischen Nationalfestes, der Diada, zu dem sich auch an diesem Mittwoch wieder Hunderttausende zu einer Großkundgebung in Barcelona versammelt haben. Carola Rackete, Kapitänin des Rettungsschiffs Sea Watch 3, und scar Camps, der Gründer der spanischen Hilfsorganisation Proactiva Open Arms, wurden für ihren Einsatz zur Rettung von Migranten aus dem Mittelmeer vom katalanischen Regionalparlament geehrt. Die Laudatio hielt der berühmteste aller lebenden Katalanen, der Fußballtrainer Pep Guardiola, derzeit in Diensten des englischen Meisters Manchester City. Die Ehrenmedaillen verlieh kein geringerer als Parlamentspräsident Roger Torrent, führendes Mitglied der katalanischen Linksrepublikaner. Auch der rechtsliberale Regionalpräsident Quim Torra war anwesend. Es war also eine Veranstaltung erster Güte. Guardiola sagte: \"Eine Welt, die nicht rettet, ist eine Welt, die untergeht, in der die Gesellschaften ertrinken.\" Er forderte die beiden Geehrten auf, in ihrem Bemühen nicht nachzulassen und sich von Rückschlägen nicht entmutigen zu lassen. Scharfe Kritik richtete der Fußballlehrer, der mit dem FC Barcelona seine größten Erfolge gefeiert hat und mit dem FC Bayern dreimal deutscher Meister wurde, an die Regierung in Madrid, da diese den Rettern ihr Handwerk systematisch erschwere. Der sozialistische Premierminister Pedro Sánchez hatte unmittelbar nach seinem Amtsantritt im Juni 2018 noch erklärt, dass die restriktive Einwanderungspolitik seines konservativen Vorgängers Mariano Rajoy nicht fortgesetzt werde. Eine Regierungsdelegation aus Madrid begrüßte Tage später das Flüchtlingsschiff Aquarius in Valencia. Doch schon zwei Wochen später machte Sánchez eine Kehrtwende und kehrte zum Kurs Rajoys zurück. Experten hatten ihm klargemacht, dass Spanien andernfalls das Hauptziel für Migran\n",
      "\n",
      "pred sentence: Der katalanische Fußballtrainer Pep Guardiola lobt die Rettung von Migranten aus dem Mittelmeer.\n",
      "\n",
      "real sentence: In Barcelona hält Fußballtrainer Pep Guardiola eine Laudatio auf Carola Rackete, Kapitänin des Rettungsschiffes Sea Watch 3. Kritiker werfen ihr vor, sich für \"Unabhängigkeitspropaganda\" einspannen zu lassen.\n",
      "article: summarize German to English: Vielleicht hatte Evan Spiegel diesen Moment schon lange kommen sehen. Oder aber es war eine plötzliche Eingebung, als er die Juristen seines Foto- und Mitteilungsdienstes Snapchat vor Jahren anwies, alle tatsächlichen und vermeintlichen Missetaten des großen Rivalen Facebook festzuhalten und zu archivieren. So oder so: Heute erweist sich die Idee als cleverer Schachzug, denn die US-Kartellbehörde FTC zeigt seit Tagen großes Interesse an der Datensammlung. Sie könnte aus Sicht der Wettbewerbshüter bei der Aufklärung helfen, ob Facebook seine Position als Nummer eins unter den sozialen Netzwerken missbraucht hat. Einen Hinweis darauf, wie Snapchat selbst die Sache sieht, liefert schon der Name, unter dem die Gegnerbeobachtung lief: \"Projekt Voldemort\". Spiegel ist wohl nicht der einzige Tech-Chef, dem beim Gedanken an Facebook-Gründer Mark Zuckerberg jener finstere Magier in den Sinn kommt, der in Büchern und Filmen dem Zauberlehrling Harry Potter das Leben schwermacht. Denn tatsächlich, so zeigt ein Bericht des Wall Street Journal, ging Zuckerberg oft alles andere als zimperlich vor, um sich Rivalen vom Hals zu halten: Er spionierte sie aus, setzte sie unter Druck, kupferte ab - oder kaufte sie einfach auf. Binnen 15 Jahren stieg Facebook so von einer Kommunikationsplattform für ein paar Hundert Studenten zu einem globalen Netzwerk auf, das heute jeder vierte Erdenbürger nutzt. In dem Artikel wird ein Treffen Zuckerbergs mit Jungunternehmern vor einigen Jahren beschrieben, bei dem er die Gründer sinngemäß vor die Wahl gestellt haben soll: Entweder ihr verkauft mir euer Start-up zu dem Preis, den ich nenne, oder aber Facebook wird eure Angebote kopieren und euch vom Markt verdrängen. Dass das keine leere Drohung war, stellten etwa Spiegel und Dennis Crowley, der Chef des Restaurant-Empfehlungsdienstes Foursquare, schon bald fest: Kurz nachdem beide Zuckerbergs Kaufofferte zurückgewiesen hatten, bot Facebook seinen Nutzern plötzlich Spielere\n",
      "\n",
      "pred sentence: Facebook founder Mark Zuckerberg is said to have spied on rivals - and bought them out. In fact, it's not.\n",
      "\n",
      "real sentence: The US antitrust authorities are getting help with their Facebook investigations: many competitors are willing to testify. In fact, it's not.\n",
      "article: summarize German to English: In den USA dauert der Sommer vom letzten Montag im Mai bis zum ersten Montag im September. Am Memorial Day, dem Gedenktag für die Kriegstoten, machen die Freibäder auf. Am Labor Day, dem Tag der Arbeit, machen sie wieder zu. In dieser Zeit wird es ruhig in Washington, der Kongress geht in die Sitzungspause. Und manchmal ist die Welt, in welche die Parlamentarier zurückkehren, eine andere als jene, die sie verlassen haben. Das gilt ganz sicher für Nancy Pelosi, die Anführerin der Demokraten im Abgeordnetenhaus, und das Dauerstreitthema Impeachment. Vor dem Sommer hatte die mächtige Demokratin ihre Truppen gut im Griff. Pelosi ist dagegen, dass die Demokraten ihre Mehrheit im Repräsentantenhaus dazu nutzen, ein Amtsenthebungsverfahren gegen Präsident Donald Trump zu beginnen, egal wie verhasst der im linken Lager ist. Sie mag Trump zwar auch nicht, aber sie kann Umfragen lesen. Und diese sind klar: Die Mehrheit der Bürger will kein Impeachment. Bis zum Sommer schienen die allermeisten demokratischen Abgeordneten Pelosis Ansicht zu teilen. Ein Impeachment? Zu unbeliebt, zu riskant, zu spalterisch und vor allem ziemlich aussichtslos, denn im Senat, der Trump verurteilen müsste, herrschen die Republikaner. Am Memorial Day, der dieses Jahr auf den 27. Mai fiel, waren daher gerade einmal 44 der 235 Demokraten im Repräsentantenhaus für ein Amtsenthebungsverfahren. Es gibt drei Gründe: Trumps Verhalten, die Ungeduld der Basis, und 2020 wäre zu spät Doch jetzt, nach der Sommerpause, ist die Welt eine andere: Am Labor Day, in diesem Jahr der 2. September, lag die Zahl der Impeachment-Befürworter schon bei 133 Demokraten. Anders gesagt: Mehr als die Hälfte der demokratischen Fraktion im Abgeordnetenhaus will, dass Pelosi ein Amtsenthebungsverfahren anstrengt. Für diesen Meinungsumschwung gibt es drei Gründe, an denen auch Pelosi nicht vorbei\n",
      "\n",
      "pred sentence: Nancy Pelosi, the leader of the Democrats in the House of Representatives, wants to start a re-election process against President Donald Trump. In fact, it's not.\n",
      "\n",
      "real sentence: The Democratic leader in the US House of Representatives is opposed to impeachment, and many in her party have taken a similar view. But that is changing. In fact, it's not.\n",
      "article: summarize English to English: EU Commission President Ursula von der Leyen will leave her key policy projects for the next five years in the hands of her \"executive vice-presidents\": Social Democrat Frans Timmermans will be responsible for climate protection, Liberal Margrethe Vestager for digital issues and Christian Democrat Valdis Dombrovskis for financial services, bringing together the market and social issues. Von der Leyen made the announcement at the presentation of the candidates for her Commission in Brussels on Tuesday. After the European elections, Timmermans and Vestager themselves ran for the head of the European Commission. Instead, the heads of state and government surprisingly nominated Christian Democrat von der Leyen as president. In her quest for a majority in the European Parliament, von der Leyen had promised the top candidates from the other two major political groups a prominent role as vice-presidents \"on an equal footing.\" Timmermans has been First Vice-President of the Commission under Jean-Claude Juncker in charge of sustainability and the rule of law since 2014. Vestager had made a name for herself as the competition watchdog in the Juncker Commission. Dombrovskis has been one of the Commissions Vice-Presidents responsible for the euro since 2014. He previously served as Latvian head of government from 2009 to 2013. Italy sends Social Democrat Gentiloni to the Commission Former Italian Prime Minister Paolo Gentiloni is to be responsible for economic issues in the new EU Commission. The authority responsible for budgetary surveillance in EU countries has been at odds in recent months with the government of the populist Five Star Movement and the right-wing League over its high public debt and planned new spending. The Social Democrat Gentiloni was nominated by the recently sworn-in new government of the Star Movement and the Social Democratic PD. Gentiloni has served as a minister in Italy on several occasions and as prime minister from late 2016 to 2018. The Roman studied political science and is fluent in English. The European Commission, with more than 30,000 staff, proposes laws for the international community and monitors compliance. The new Commission is due to start work on 1 November. In fact, its not.\n",
      "\n",
      "pred sentence: EU Commission President Ursula von der Leyen will leave key policy projects for the next five years in the hands of her \"executive vice-presidents\": Social Democrat Frans Timmermans will be responsible for climate protection, Liberal Margrethe Vestager for digital issues and Christian Democrat Valdis Dombrovskis for financial services, bringing together the market and social issues. In fact, it's not.\n",
      "\n",
      "real sentence: She has promised the liberal Vestager and the social democrat Timmermans cooperation \"on an equal footing.\" A Christian Democrat also becomes \"executive vice-president.\" In fact, it's not.\n",
      "article: summarize German to English: Die Grünen am Montag nach der Bewerbung, das ist ein ziemlich unruhiger Haufen. Schaffen die das? Muss das sein? Welche Chancen haben Cem zdemir und Kirsten Kappert-Gonther, wenn sie in zwei Wochen nach dem Fraktionsvorsitz im Bundestag greifen? Und wäre es nicht auch mal Zeit für frische Luft an der Spitze der Grünen-Fraktion? Solche Fragen stellten sich Bundestagsabgeordnete und Parteiobere der Grünen am Montag zuhauf, beantworten mochte sie vorläufig keiner, schon gar nicht öffentlich. Nachdem der frühere Grünen-Chef zdemir am Samstag angekündigt hatte, zusammen mit der Bremer Abgeordneten Kirsten Kappert-Gonther für den Fraktionsvorsitz im Bundestag zu kandidieren, wirkten viele Parteifreunde zunächst überrumpelt. Vor allem im linken Spektrum der Partei löste die Ankündigung wenig Begeisterung aus. Aber auch bei den grünen Realos war zunächst kein Jubel zu hören, sie wollten sich am Montagabend erst einmal beim Strömungstreffen beraten. Garstige Töne oder gar ein grüner Flügelstreit sollen unbedingt vermieden werden. \"Erst mal ist es ein Wettbewerb, und das ist gut\", sagte betont unbekümmert die Fraktionschefin Katrin Göring-Eckardt am Montag im Bundestag. Und ja, sie sei \"überrascht\" worden von der Ankündigung, dass Cem zdemir und Kirsten Kappert-Gonther sich um den Fraktionsvorsitz bewerben. zdemir, einst Parteivorsitzender, hatte sich nach den Jamaika-Sondierungen in die zweite Reihe der Grünen zurückgezogen. Dass er ein Comeback anstrebte, war keine Überraschung. Allerdings fehlte dem Schwaben lange eine Frau vom linken Flügel, die für eine grüne Doppelspitze unerlässlich ist. Die Verteidigungsexpertin Agnieszka Brugger stammt wie zdemir\n",
      "\n",
      "pred sentence: The Greens announced their candidacy on Monday. Is that true? Must it be? What are the chances for Cem zdemir and Kirsten Kappert-Gonther if they take over the group presidency in the Bundestag in two weeks? And would it not be time for fresh air at the top of the Greens group? In fact, it's not.\n",
      "\n",
      "real sentence: The candidacy of Kirsten Kappert-Gonther and Cem zdemir for the group presidency does not inspire enthusiasm among the Greens. On the contrary, many feel caught off guard. In fact, it's not.\n",
      "article: summarize German to German: In Israel wird der Aufstieg der rechten Parteien in Europa genau registriert. Jede Wahl - auch auf regionaler Ebene - wird analysiert, über antisemitische Vorfälle wird ausführlich berichtet. Insbesondere Deutschland steht im Fokus. Die deutsche Bundeskanzlerin Angela Merkel genießt große Wertschätzung. Die Stabilität Deutschlands wird mit ihr in Verbindung gebracht, sie gilt als Bollwerk gegen den Rechtspopulismus in Europa. Fast seismografisch wird in Israel die Alternative für Deutschland (AfD) beobachtet, ihre führenden Politiker und ihre Positionen werden vorgestellt. Die Times of Israel berichtet etwa über den Ausschluss von Doris von Sayn-Wittgenstein wegen parteischädigenden Verhaltens. Die Leserinnen und Leser erfahren auch, dass der Spitzenkandidat in Brandenburg, Andreas Kalbitz, 2007 bei einem Neonazi-Treffen in Griechenland war. Die Partei wird als \"rechts stehend, euroskeptisch und gegen Migration gerichtet\" beschrieben. Über den Ausgang der Landtagswahlen in Brandenburg und Sachsen heißt es, die AfD habe \"in den ehemaligen kommunistischen Gebieten\" zugelegt. Damit könnte die \"fragile Koalition von Angela Merkel mit den Sozialdemokraten destabilisiert werden\". Immerhin habe die AfD die \"Mainstream-Parteien\" dann doch nicht überholt, konstatiert die Zeitung. In der Jerusalem Post wird daran erinnert, dass die AfD die Ansicht vertrete, dass Deutschland vom Holocaust geradezu besessen sei. In der Zeitung kommt ausführlich der Präsident des Zentralrats der Juden in Deutschland, Josef Schuster, zu Wort. Sie zitiert Aussagen von ihm aus einem Interview mit der Jüdischen Allgemeinen, in dem es um die Konsequenzen aus den Landtagswahlen geht. Auch wenn die AfD nicht stimmenstärkste Partei geworden sei, könne man sich \"nicht entspannt zurücklehnen und weitermachen wie bisher\". Die Jerusalem Post gibt auch die Forderung Schusters wieder, es müsse bei einer klaren Abgrenzung zur AfD bleiben. Man dürfe nicht auf die Anbiederung herein\n",
      "\n",
      "pred sentence: In Israel wird der Aufstieg der rechten Parteien in Europa genau registriert. Jede Wahl - auch auf regionaler Ebene - wird analysiert, über antisemitische Vorfälle wird ausführlich berichtet. Insbesondere Deutschland steht im Fokus.\n",
      "\n",
      "real sentence: In Israel blicken die Zeitungen kritisch auf den Wahlerfolg der AfD im Osten Deutschlands.\n",
      "article: summarize English to English: There are 709 members of the 19th German Bundestag and the number could rise if the parliament does not bring itself to reform the electoral law. The German Bundestag held its first constituent session on 7 September 1949 in the Federal Parliament building in Bonn. The ultimate goal of post-war politicians was to establish a stable democracy. Over the next four years, MPs met in 282 plenary sessions - many of which never happened again - and passed 545 laws. Today, Germans live in a prosperous and economically successful country. Nevertheless, many citizens are dissatisfied with the work of their Parliament, as a recent study by the European Commission shows. Heinrich Oberreuter, political scientist from Passau and deputy chairman of the German Association for Parliamentary Questions, has been researching German parliamentarism for decades. SZ: Mr. Oberreuter, retired president Paul Löbe opened the first session of the new Bundestag with the words: \"What does the German people hope for from the work of the Bundestag? That we build a stable government, a healthy economy, a new social order in a secure private life, that we lead our fatherland towards a new prosperity and prosperity. \" Are we allowed to say, 70 years later, \"Mission accomplished?\" Heinrich Oberreuter: That can be said without reservation from todays point of view. At that time it was a question of building a republic and economic and social order. This was a success story that could neither be expected nor hoped for during the founding period of the Federal Republic of Germany. One consequence of this construction success, however, was the pluralization of interests in society. Eventually, not all the interests of the welfare state could be perfectly satisfied. The country was no longer in need and the needs of the people differed. And so the Bundestag also faces new challenges. What challenges do you think? The first is to regain confidence. Seventy years ago, we were in a very bad situation when it came to public assessments of Members' abilities. This has developed later demoscopically pleasing upwards. Today, it is back to the low levels of the 1950s. Trust is needed. Parliament must show that it can satisfy social and economic interests. The second challenge is to provide answers to complex international developments. Some developments even exceed the competence of experts. In addition to the\n",
      "\n",
      "pred sentence: There are 709 members of the 19th German Bundestag and the number could rise if the parliament does not bring itself to reform the electoral law. In fact, it's not.\n",
      "\n",
      "real sentence: The Bundestag is facing great challenges in the anniversary year. Political scientist Heinrich Oberreuter on record size, loss of confidence and a dominant government. In fact, it's not.\n",
      "article: summarize German to German: Alterspräsident Paul Löbe (Mitte), spricht während der konstituierenden Sitzung des Deutschen Bundestages in der einstigen Turnhalle der Pädagogischen Akademie in Bonn, die zuvor zum Plenarsaal umgebaut worden war. Am 7. September vor 70 Jahren konstituiert sich der Deutsche Bundestag. Die ersten Jahre der zweiten deutschen Parlamentsdemokratie waren rüpelhaft - aber auch unerreicht produktiv. Die Geschichte der zweiten deutschen Parlamentsdemokratie beginnt vor 70 Jahren mit einer Brüskierung. Am Vormittag des 7. September 1949 treffen sich die Ministerpräsidenten der jungen Bundesrepublik in Bonn, um dem Bundesrat feierlich Leben einzuhauchen. Die Politiker sind festlich gekleidet, ein Kölner Orchester spielt eine Ouvertüre von Bach. Mit der Harmonie ist es jedoch vorbei, als die Landeschefs den nordrhein-westfälischen Ministerpräsidenten Karl Arnold zum Bundesratspräsidenten ernennen. Bayern enthält sich als einziges Bundesland seiner Stimme. Ministerpräsident Hans Ehard fühlt sich übergangen. In einer Erklärung, die die Süddeutsche Zeitung am Tag darauf abdruckt, beklagt er die \"Konzentration von Einfluß und Macht\" zugunsten Nordrhein-Westfalens. Arnold wirft er einen \"diktatorisch erhobenen Anspruch\" auf das Amt vor. Ehard hätte sich gerne selbst an der Spitze des Bundesrates gesehen. Der Vorfall belastet die neue Fraktionsgemeinschaft aus CDU und CSU. Konrad Adenauer, der die bayerischen Stimmen braucht, um sich wenige Tage später zum Kanzler wählen zu lassen, gesteht den Bayern in seiner Regierung drei wichtige Ministerien zu. Für die CSU gerät die politische Niederlage zum taktischen Triumph. Harmonisch geht es im Bundestag nicht zu, der sich am Nachmittag des 7. September 1949 konstituiert. Bereits im Wahlkampf hat der SPD-Vorsitzende Kurt Schumacher seinen Kontrahenten Adenauer \"Lügenauer\" genannt der wiederum hat den Sozialdemokraten vorgewor\n",
      "\n",
      "pred sentence: Am 7. September vor 70 Jahren konstituiert sich der Deutsche Bundestag. Die ersten Jahre der zweiten deutschen Parlamentsdemokratie waren rüpelhaft - aber auch unerreicht produktiv.\n",
      "\n",
      "real sentence: Am 7. September vor 70 Jahren konstituiert sich der Deutsche Bundestag. Die ersten Jahre der zweiten deutschen Parlamentsdemokratie waren rüpelhaft - aber auch unerreicht produktiv.\n",
      "article: summarize English to English: The Dax gains at the close of the week and reduces its weekly decline. Investors are hoping for a rapprochement between China and the US in the trade dispute. A weaker euro also supports rates. In anticipation of a rapprochement in the US-China tariff dispute, Europes investors rallied on stocks at the close of the week. A weaker euro also provided a tailwind. The Dax gained 0.8 per cent to 12,381 points, narrowing its weekly decline to 0.7 per cent. Further talks on the trade dispute are scheduled for mid-October. In the run-up, US President Donald Trump and China have recently been stoking optimism. Analyst Christian Henke, of brokerage IG, says this is only partly supporting prices. Trump could suddenly and unexpectedly send financial markets into a frenzy with one of his dreaded tweets. ' Infineon was hit by a disappointing outlook from US rival Micron. Shares in the chip maker led the few Dax losers with a fall of 1.9 per cent. Micron is particularly troubled by the trade dispute and the dispute over Chinese telecoms equipment supplier Huawei, Micron's main customer. Micron shares fell 11 percent in New York. BASF was up 2.5 percent. The chemicals giant reported no improvement for the third quarter. However, the company stands by its forecast and also announced an annual dividend increase in the medium term. Other chemical stocks also gained, with Covestro shares gaining three per cent. In the M-Dax, Rheinmetall shares fell 1.1 percent. According to the company, a hacker attack on the defence and automotive supplier has severely affected production in North and South America. The bidding war for the Munich-based lighting company Osram entered a new round. The Austrian semiconductor manufacturer AMS has increased its offer from €38.50 per share certificate to €41, thereby outperforming the financial investors Advent and Bain. Osram shares rose 5.4 percent to 40.77 euros. Commerzbank lowered its full-year forecast and also announced a radical restructuring. Commerzbank shares rose 0.6 percent. In the S-Dax, Ado Properties was up 1.7 percent at times. The real estate company completed the sale of almost 6,000 apartments in Berlin. U.S. stock markets\n",
      "\n",
      "pred sentence: The Dax gains at the close of the week and reduces its weekly decline. Investors are hoping for a rapprochement between China and the US in the trade dispute. A weaker euro also supports rates. In fact, its not.\n",
      "\n",
      "real sentence: The Dax gains at the close of the week and reduces its weekly decline. Investors are hoping for a rapprochement between China and the US in the trade dispute. A weaker euro also supports rates. In fact, it's not.\n",
      "article: summarize German to German: Die Grünen am Montag nach der Bewerbung, das ist ein ziemlich unruhiger Haufen. Schaffen die das? Muss das sein? Welche Chancen haben Cem zdemir und Kirsten Kappert-Gonther, wenn sie in zwei Wochen nach dem Fraktionsvorsitz im Bundestag greifen? Und wäre es nicht auch mal Zeit für frische Luft an der Spitze der Grünen-Fraktion? Solche Fragen stellten sich Bundestagsabgeordnete und Parteiobere der Grünen am Montag zuhauf, beantworten mochte sie vorläufig keiner, schon gar nicht öffentlich. Nachdem der frühere Grünen-Chef zdemir am Samstag angekündigt hatte, zusammen mit der Bremer Abgeordneten Kirsten Kappert-Gonther für den Fraktionsvorsitz im Bundestag zu kandidieren, wirkten viele Parteifreunde zunächst überrumpelt. Vor allem im linken Spektrum der Partei löste die Ankündigung wenig Begeisterung aus. Aber auch bei den grünen Realos war zunächst kein Jubel zu hören, sie wollten sich am Montagabend erst einmal beim Strömungstreffen beraten. Garstige Töne oder gar ein grüner Flügelstreit sollen unbedingt vermieden werden. \"Erst mal ist es ein Wettbewerb, und das ist gut\", sagte betont unbekümmert die Fraktionschefin Katrin Göring-Eckardt am Montag im Bundestag. Und ja, sie sei \"überrascht\" worden von der Ankündigung, dass Cem zdemir und Kirsten Kappert-Gonther sich um den Fraktionsvorsitz bewerben. zdemir, einst Parteivorsitzender, hatte sich nach den Jamaika-Sondierungen in die zweite Reihe der Grünen zurückgezogen. Dass er ein Comeback anstrebte, war keine Überraschung. Allerdings fehlte dem Schwaben lange eine Frau vom linken Flügel, die für eine grüne Doppelspitze unerlässlich ist. Die Verteidigungsexpertin Agnieszka Brugger stammt wie zdemir\n",
      "\n",
      "pred sentence: Die Grünen am Montag nach der Bewerbung, das ist ein ziemlich unruhiger Haufen. Schaffen die das? Muss das sein? Welche Chancen haben Cem zdemir und Kirsten Kappert-Gonther, wenn sie in zwei Wochen nach dem Fraktionsvorsitz im Bundestag greifen?\n",
      "\n",
      "real sentence: Die Bewerbung von Kirsten Kappert-Gonther und Cem zdemir für den Fraktionsvorsitz löst bei den Grünen keine Begeisterung aus. Im Gegenteil: Viele fühlen sich überrumpelt.\n"
     ]
    }
   ],
   "source": [
    "for i in range(10):\n",
    "    print(get_random_prediction())"
   ]
  },
  {
   "cell_type": "markdown",
   "metadata": {},
   "source": [
    "## Save results to text file"
   ]
  },
  {
   "cell_type": "code",
   "execution_count": 39,
   "metadata": {},
   "outputs": [],
   "source": [
    "result_path = \"../results/sueddeutsche_result.txt\"\n",
    "open(result_path, \"w\")\n",
    "for pred in predictions:\n",
    "    with open(result_path, \"a\") as file:\n",
    "        file.write(pred + \"\\n\")"
   ]
  },
  {
   "cell_type": "markdown",
   "metadata": {},
   "source": [
    "## Load save File"
   ]
  },
  {
   "cell_type": "code",
   "execution_count": 40,
   "metadata": {},
   "outputs": [],
   "source": [
    "data_points = []\n",
    "result_path = \"../results/sueddeutsche_result.txt\"\n",
    "file = open(result_path, \"r\")\n",
    "for line in file:\n",
    "    data_points.append(line)"
   ]
  },
  {
   "cell_type": "code",
   "execution_count": 49,
   "metadata": {},
   "outputs": [
    {
     "data": {
      "text/plain": [
       "'article: summarize German to German: Was heute wichtig war - und was Sie auf SZ.de am meisten interessiert hat. Der Tag kompakt Britischer Parlamentspräsident Bercow kündigt Rücktritt an. Er werde spätestens am 31. Oktober aus privaten Gründen von seinem Amt zurücktreten. Premier Johnson will das Parlament am späten Montagabend nochmal über Neuwahlen abstimmen lassen. Danach will die britische Regierung das Unterhaus in eine fünfwöchige Zwangspause schicken, um eine Blockade von Johnsons Brexit-Plänen zu verhindern. Die aktuellen Entwicklungen im Live-Blog EXKLUSIV Ex-VW-Chef Winterkorn will Prozess verhindern. Winterkorn wie auch andere Angeschuldigte werfen der Staatsanwaltschaft schlampige Ermittlungen in der Abgasaffäre vor. Das Landgericht Braunschweig solle die Betrugsanklage zurückgeben. Von Klaus Ott Denkzettel für Kreml-Partei bei russischen Kommunalwahlen. Die Regierungspartei verliert teilweise dramatisch. Die ganz große Blamage für den Kreml bleibt jedoch aus - weil die meisten echten Oppositionellen gar nicht antreten durften. Von Silke Bigalke NPD-Ortsvorsteher in Hessen soll abgewählt werden. Ortsbeiräte aus CDU, SPD und FDP hatten Stefan Jagsch in der vergangenen Woche gewählt. Nach heftiger Kritik will man den Rechtsextremen nun wieder loswerden. Von Thomas Balbierer, Max Gilbert und Rainer Stadler British Airways streicht Hunderte Flüge. Am Montag und Dienstag sind jeweils etwa 850 Flüge betroffen, da 4000 Piloten die Arbeit niederlegen. Sie fordern mehr Lohn, nachdem die britische Fluggesellschaft deutliche Gewinne verzeichnet hat. Zur Meldung Neue EU-Kommission steht fest. Die designierte Präsidentin von der Leyen hat ihre Liste der Mitglieder der EU-Kommission vorgelegt - so viele Frauen hat es darin noch nie gegeben. Wer welche Aufgaben übernimmt, ist noch weitgehend offen. Matthias Kolb und Markus C. Schulte von Drach stellen die Kommissionsmitglieder vor. Koalition will Meisterpflicht\\n'"
      ]
     },
     "execution_count": 49,
     "metadata": {},
     "output_type": "execute_result"
    }
   ],
   "source": [
    "data_points[0]"
   ]
  },
  {
   "cell_type": "code",
   "execution_count": 42,
   "metadata": {},
   "outputs": [],
   "source": [
    "class SummaryData():\n",
    "    \n",
    "    def __init__(self):\n",
    "        self.language_tag = ''\n",
    "        self.real_data = ''\n",
    "        self.pred_data = ''        "
   ]
  },
  {
   "cell_type": "code",
   "execution_count": 52,
   "metadata": {},
   "outputs": [
    {
     "data": {
      "text/plain": [
       "{'language_tag': 'German to German:',\n",
       " 'real_data': ' Was heute wichtig war - und was Sie auf SZ.de am meisten interessiert hat.\\n',\n",
       " 'pred_data': ' Was heute wichtig war - und was Sie auf SZ.de am meisten interessiert hat. Der Tag kompakt Britischer Parlamentspräsident Bercow kündigt Rücktritt an.\\n'}"
      ]
     },
     "execution_count": 52,
     "metadata": {},
     "output_type": "execute_result"
    }
   ],
   "source": [
    "count = 0\n",
    "summary_data = SummaryData()\n",
    "summary_data_list = []\n",
    "for point in data_points:\n",
    "    count += 1\n",
    "    \n",
    "    if count == 1:\n",
    "        summary_data.language_tag = \" \".join(point.split(\" \")[2:5])\n",
    "    elif count == 3:\n",
    "        summary_data.pred_data = \": \".join(point.split(\":\")[1:])\n",
    "    elif count == 5:\n",
    "        summary_data.real_data = \": \".join(point.split(\":\")[1:])\n",
    "        summary_data_list.append(summary_data)\n",
    "        summary_data = SummaryData()\n",
    "        count = 0\n",
    "summary_data_list[0].__dict__"
   ]
  },
  {
   "cell_type": "code",
   "execution_count": 44,
   "metadata": {},
   "outputs": [],
   "source": [
    "from ast import literal_eval\n",
    "\n",
    "results_en_trans = []\n",
    "results_en_path = \"../results/en_en_results\"\n",
    "file = open(results_en_path, \"r\")\n",
    "for i, line in enumerate(file):\n",
    "    results_en_trans.append(literal_eval(line))\n",
    "    \n",
    "results_ger_trans = []\n",
    "results_ger_path = \"../results/en_en_results\"\n",
    "file = open(results_ger_path, \"r\")\n",
    "for i, line in enumerate(file):\n",
    "    results_ger_trans.append(literal_eval(line))"
   ]
  },
  {
   "cell_type": "code",
   "execution_count": 58,
   "metadata": {},
   "outputs": [
    {
     "data": {
      "text/plain": [
       "{'English to English:': <__main__.RougeScore at 0x7f616c4b1278>,\n",
       " 'English to German:': <__main__.RougeScore at 0x7f616c4b1e80>,\n",
       " 'German to English:': <__main__.RougeScore at 0x7f616c4b15c0>,\n",
       " 'German to German:': <__main__.RougeScore at 0x7f616c4b1588>}"
      ]
     },
     "execution_count": 58,
     "metadata": {},
     "output_type": "execute_result"
    }
   ],
   "source": [
    "rouge_scores_dict = dict()\n",
    "rouge_scores_dict['English to English:'] = RougeScore()\n",
    "# rouge_scores_dict['en_to_en_trans'] = RougeScore()\n",
    "\n",
    "rouge_scores_dict['English to German:'] = RougeScore()\n",
    "rouge_scores_dict['German to English:'] = RougeScore()\n",
    "rouge_scores_dict['German to German:'] = RougeScore()\n",
    "# rouge_scores_dict['ger_to_ger_trans'] = RougeScore()\n",
    "\n",
    "rouge_scores_dict"
   ]
  },
  {
   "cell_type": "code",
   "execution_count": 59,
   "metadata": {},
   "outputs": [],
   "source": [
    "for summary_data in summary_data_list:\n",
    "    rouge_scores_dict[summary_data.language_tag](summary_data.real_data, summary_data.pred_data)\n",
    "    "
   ]
  },
  {
   "cell_type": "code",
   "execution_count": 60,
   "metadata": {},
   "outputs": [
    {
     "data": {
      "text/plain": [
       "{'id': 24,\n",
       " 'item_id': 1,\n",
       " 'language_tag': 'en_to_en',\n",
       " 'real_data': 'Beatrice seen watching race on terrace with the Gulf states Crown Prince . Marks 13th holiday since November last year, and fourth in a month . Princess quit her job at Sony Pictures in New York before Christmas . Despite that she is described as working full-time on her fathers website .\\n',\n",
       " 'pred_data': 'Princess Beatrice spotted at Bahrain Grand Prix with long-term boyfriend Dave Clark . Onlooker said 26-year-old was walking behind the Crown Prince of Bahrain . Princes regime accused of violently repressing pro-democracy protests . Sir Jackie Stewart and comedian Rory Bremner watched race from the tower .\\n',\n",
       " 'translated': 'Prinzessin Beatrice beim Großen Preis von Bahrain mit ihrem langjährigen Freund Dave Clark.Beobachter sagten, der 26-Jährige sei hinter dem Kronprinzen von Bahrain hergelaufen.Prinzen-Regime beschuldigt, prodemokratische Proteste gewaltsam zu unterdrücken.Sir Jackie Stewart und Komiker Rory Bremner verfolgten das Rennen vom Tower aus.Es geht um die Frage, wer die Verantwortung trägt.',\n",
       " 'translated_real': 'Beatrice sah Rennen auf der Terrasse mit dem Kronprinzen des Golfstaates. Mark 13. Urlaub seit November letzten Jahres, und vierte in einem Monat. Prinzessin kündigte ihren Job bei Sony Pictures in New York vor Weihnachten. Trotzdem wird sie als Vollzeit-Arbeiterin auf der Website ihres Vaters beschrieben.\\n'}"
      ]
     },
     "execution_count": 60,
     "metadata": {},
     "output_type": "execute_result"
    }
   ],
   "source": [
    "results_ger_trans[0]"
   ]
  },
  {
   "cell_type": "code",
   "execution_count": 61,
   "metadata": {},
   "outputs": [
    {
     "name": "stdout",
     "output_type": "stream",
     "text": [
      "rouge1 = 53.72, 95% confidence [49.52, 58.19]\n",
      "rouge2 = 39.75, 95% confidence [34.36, 45.30]\n",
      "rougeLsum = 49.07, 95% confidence [44.59, 53.65]\n",
      "English to English: {'rouge1': 53.721893810948714, 'rouge2': 39.74677978368468, 'rougeLsum': 49.06511063004578}\n",
      "\n",
      "rouge1 = 33.73, 95% confidence [29.77, 37.71]\n",
      "rouge2 = 18.80, 95% confidence [15.47, 22.33]\n",
      "rougeLsum = 29.32, 95% confidence [25.38, 33.12]\n",
      "English to German: {'rouge1': 33.72740943495188, 'rouge2': 18.802521727543457, 'rougeLsum': 29.320106813110165}\n",
      "\n",
      "rouge1 = 48.19, 95% confidence [45.15, 51.24]\n",
      "rouge2 = 29.66, 95% confidence [26.75, 32.96]\n",
      "rougeLsum = 43.08, 95% confidence [39.95, 46.24]\n",
      "German to English: {'rouge1': 48.19478204878956, 'rouge2': 29.658696858972462, 'rougeLsum': 43.0783713149098}\n",
      "\n",
      "rouge1 = 41.07, 95% confidence [35.64, 46.22]\n",
      "rouge2 = 30.95, 95% confidence [25.01, 36.99]\n",
      "rougeLsum = 37.47, 95% confidence [31.87, 43.37]\n",
      "German to German: {'rouge1': 41.06746208280935, 'rouge2': 30.94555875619524, 'rougeLsum': 37.46586244036219}\n",
      "\n"
     ]
    }
   ],
   "source": [
    "for key, rouge_score_item in rouge_scores_dict.items():\n",
    "    print(key, rouge_score_item.result())\n",
    "    print()"
   ]
  },
  {
   "cell_type": "code",
   "execution_count": null,
   "metadata": {},
   "outputs": [],
   "source": []
  },
  {
   "cell_type": "markdown",
   "metadata": {},
   "source": [
    "# Special Example"
   ]
  },
  {
   "cell_type": "code",
   "execution_count": 29,
   "metadata": {},
   "outputs": [],
   "source": [
    "input_text = \"In a world where we have to read and understand a lot of documents automatic text summarization has an obvious demand. To have the option to get a brief summary of a text in your language can be very useful. But would it not be even more useful, if you could have the option to get a summary of a text in a language, you do not understand, in your wished language? Sometimes we don’t want an exact translation, sometimes we just want to know a brief overview of a text in a language we don’t understand. That is the case where Cross-Lingual summarization would be prefered over normal translation. Cross-Lingual summarization can give you a short overview of a text in a language you do not understand.\""
   ]
  },
  {
   "cell_type": "code",
   "execution_count": 30,
   "metadata": {},
   "outputs": [],
   "source": [
    "input_text_test = \"The dramatic growth of data on the internet leads to the need to automatically process and understand the data. A big part of the data is text data in many languages. This overwhelming amount of information causes a demand for automatic text summarization and other Natural Language Processing (NLP) taks.\\n The Field of NLP had some high points in the last couple of years, when the field got revolutionized by Neural Language Models. With publications like Attention is all you need \\cite{vaswani2017attention} or GPT3\\cite{brown2020language} the limits of the field are pushed even further. Because of large data corpuses, scraped from the internet, and advanced models which contain up to 175 Billion parameters like the GPT3 it is possible to generate text, answer questions, summarize text, translate or many other things.\\n In this master thesis we will take a deeper look into summarization. There are extractive and abstractive techniques to summarization. The extractive summary technique tries to find subsets of sentences, which representante the original text well and uses them to summarize the original text \\cite{allahyari2017text}. The abstractive technique uses advanced language models to generate a new text, which should be much shorter than the original one, contain all the key information and preserve the overall meaning.\\n In this master thesis we will use the abstractive technique, because it is closer to a human-like interpretation. It combines the ability to understand what the context of a given text is and the ability to generate fluent and grammatically correct text to that given context.\\n The summarization in one language is an interesting topic but cross lingual approach is even more interesting. The goal of Cross Lingual Summarization is to summarize a text from one language into another language. It combines the ability to summarize and the ability to translate. Where state of the art models perform well on normal summarization, it will be interesting to see how well they perform doing Cross-Lingual Summarization.\""
   ]
  },
  {
   "cell_type": "code",
   "execution_count": 31,
   "metadata": {},
   "outputs": [],
   "source": [
    "x = tokenizer.encode_plus(\"summarize: en_to_ger \" + input_text, max_length=512, return_tensors=\"tf\", padding='max_length', truncation=True)\n",
    "input_ids = tf.reshape(x['input_ids'], (1,-1))\n",
    "attention_mask = tf.reshape(x['attention_mask'], (1,-1))"
   ]
  },
  {
   "cell_type": "code",
   "execution_count": 32,
   "metadata": {},
   "outputs": [
    {
     "name": "stdout",
     "output_type": "stream",
     "text": [
      "(1, 512) (1, 512)\n"
     ]
    }
   ],
   "source": [
    "print(input_ids.shape, attention_mask.shape)"
   ]
  },
  {
   "cell_type": "code",
   "execution_count": 33,
   "metadata": {},
   "outputs": [],
   "source": [
    "summaries = model.generate( \n",
    "    input_ids=input_ids, \n",
    "    attention_mask=attention_mask\n",
    ")"
   ]
  },
  {
   "cell_type": "code",
   "execution_count": 34,
   "metadata": {},
   "outputs": [
    {
     "data": {
      "text/plain": [
       "<tf.Tensor: shape=(1, 74), dtype=int32, numpy=\n",
       "array([[    0,    86,   645,  3779,     6,    16,    74,   558,  2584,\n",
       "            3, 20127,    15,   110,    35,    64, 19163,  3766,     6,\n",
       "          229, 15820,    15,  5027,     7,    63,    29, 19712,   266,\n",
       "        30410,    15,  5222,  6367,     5,  4098,  6199,     3,    15,\n",
       "            7,   311, 30001,    49,     6,  1301,   292,    67,  7251,\n",
       "         8219,    29,     6,   266, 11068, 14449,   266,     7,  5027,\n",
       "           15,     7,    16,   645, 16933,   170,  8837,     6,    67,\n",
       "          292,   311, 19163,     6,    16,  1197,    52, 24054,    29,\n",
       "        16933,    58]], dtype=int32)>"
      ]
     },
     "execution_count": 34,
     "metadata": {},
     "output_type": "execute_result"
    }
   ],
   "source": [
    "summaries"
   ]
  },
  {
   "cell_type": "code",
   "execution_count": 35,
   "metadata": {},
   "outputs": [
    {
     "data": {
      "text/plain": [
       "'<pad> In einer Welt, in der wir viele Dokumente lesen und verstehen müssen, ist automatische Textsynthese eine offensichtliche Forderung. Aber wäre es nicht nützlicher, wenn Sie die Möglichkeit hätten, eine Zusammenfassung eines Textes in einer Sprache zu bekommen, die Sie nicht verstehen, in Ihrer gewünschten Sprache?'"
      ]
     },
     "execution_count": 35,
     "metadata": {},
     "output_type": "execute_result"
    }
   ],
   "source": [
    "tokenizer.decode(summaries[0])"
   ]
  },
  {
   "cell_type": "code",
   "execution_count": null,
   "metadata": {},
   "outputs": [],
   "source": []
  }
 ],
 "metadata": {
  "kernelspec": {
   "display_name": "Python 3",
   "language": "python",
   "name": "python3"
  },
  "language_info": {
   "codemirror_mode": {
    "name": "ipython",
    "version": 3
   },
   "file_extension": ".py",
   "mimetype": "text/x-python",
   "name": "python",
   "nbconvert_exporter": "python",
   "pygments_lexer": "ipython3",
   "version": "3.6.9"
  }
 },
 "nbformat": 4,
 "nbformat_minor": 4
}
