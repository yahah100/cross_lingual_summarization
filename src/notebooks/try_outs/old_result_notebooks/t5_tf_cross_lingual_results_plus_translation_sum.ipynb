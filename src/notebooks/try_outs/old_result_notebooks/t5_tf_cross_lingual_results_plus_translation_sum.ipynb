{
 "cells": [
  {
   "cell_type": "markdown",
   "metadata": {},
   "source": [
    "# Cross Lingual summarization CNN Daily Mail Results\n",
    "We will try out the trained t5 network from the tpu"
   ]
  },
  {
   "cell_type": "code",
   "execution_count": 1,
   "metadata": {},
   "outputs": [],
   "source": [
    "import tensorflow as tf\n",
    "import pandas as pd\n",
    "from transformers import T5Tokenizer, TFT5ForConditionalGeneration\n",
    "import time\n",
    "from rouge_score import rouge_scorer\n",
    "from rouge_score import scoring"
   ]
  },
  {
   "cell_type": "code",
   "execution_count": 2,
   "metadata": {},
   "outputs": [],
   "source": [
    "if not tf.config.list_physical_devices('GPU'):\n",
    "    print(\"Change runtime to \\\"GPU runtime\\\" for faster computations\")"
   ]
  },
  {
   "cell_type": "code",
   "execution_count": 3,
   "metadata": {},
   "outputs": [
    {
     "name": "stdout",
     "output_type": "stream",
     "text": [
      "WARNING:tensorflow:From <ipython-input-3-17bb7203622b>:1: is_gpu_available (from tensorflow.python.framework.test_util) is deprecated and will be removed in a future version.\n",
      "Instructions for updating:\n",
      "Use `tf.config.list_physical_devices('GPU')` instead.\n"
     ]
    },
    {
     "data": {
      "text/plain": [
       "True"
      ]
     },
     "execution_count": 3,
     "metadata": {},
     "output_type": "execute_result"
    }
   ],
   "source": [
    "tf.test.is_gpu_available()"
   ]
  },
  {
   "cell_type": "markdown",
   "metadata": {},
   "source": [
    "## Params"
   ]
  },
  {
   "cell_type": "code",
   "execution_count": 4,
   "metadata": {},
   "outputs": [],
   "source": [
    "BATCH_SIZE = 8\n",
    "\n",
    "SHUFFEL_SIZE = 1024\n",
    "\n",
    "learning_rate = 3e-5\n",
    "\n",
    "model_size = \"t5-base\"\n",
    "\n",
    "MAX_ARTICLE_LEN = 512\n",
    "\n",
    "MAX_HIGHLIGHT_LEN = 150"
   ]
  },
  {
   "cell_type": "markdown",
   "metadata": {},
   "source": [
    "## Model"
   ]
  },
  {
   "cell_type": "code",
   "execution_count": 5,
   "metadata": {},
   "outputs": [
    {
     "name": "stderr",
     "output_type": "stream",
     "text": [
      "All model checkpoint layers were used when initializing TFT5ForConditionalGeneration.\n",
      "\n",
      "All the layers of TFT5ForConditionalGeneration were initialized from the model checkpoint at t5-base.\n",
      "If your task is similar to the task the model of the checkpoint was trained on, you can already use TFT5ForConditionalGeneration for predictions without further training.\n"
     ]
    }
   ],
   "source": [
    "tokenizer = T5Tokenizer.from_pretrained(model_size)\n",
    "model = TFT5ForConditionalGeneration.from_pretrained(model_size)\n",
    "\n",
    "task_specific_params = model.config.task_specific_params\n",
    "if task_specific_params is not None:\n",
    "    model.config.update(task_specific_params.get(\"summarization\", {}))\n",
    "    \n",
    "pad_token_id = tokenizer.pad_token_id"
   ]
  },
  {
   "cell_type": "code",
   "execution_count": 6,
   "metadata": {},
   "outputs": [
    {
     "name": "stdout",
     "output_type": "stream",
     "text": [
      "Model: \"tf_t5for_conditional_generation\"\n",
      "_________________________________________________________________\n",
      "Layer (type)                 Output Shape              Param #   \n",
      "=================================================================\n",
      "shared (TFSharedEmbeddings)  multiple                  24674304  \n",
      "_________________________________________________________________\n",
      "encoder (TFT5MainLayer)      multiple                  84954240  \n",
      "_________________________________________________________________\n",
      "decoder (TFT5MainLayer)      multiple                  113275008 \n",
      "=================================================================\n",
      "Total params: 222,903,552\n",
      "Trainable params: 222,903,552\n",
      "Non-trainable params: 0\n",
      "_________________________________________________________________\n"
     ]
    }
   ],
   "source": [
    "val_loss = tf.keras.metrics.Mean(name='val_loss')\n",
    "val_accuracy = tf.keras.metrics.SparseCategoricalAccuracy(name='val_accuracy')\n",
    "\n",
    "model.summary()"
   ]
  },
  {
   "cell_type": "code",
   "execution_count": 7,
   "metadata": {},
   "outputs": [
    {
     "data": {
      "text/plain": [
       "<tensorflow.python.training.tracking.util.CheckpointLoadStatus at 0x7ff747b25048>"
      ]
     },
     "execution_count": 7,
     "metadata": {},
     "output_type": "execute_result"
    }
   ],
   "source": [
    "ckpt_file = \"../models/checkpoint_cross_lingual_sum.ckpt\"\n",
    "model.load_weights(ckpt_file)"
   ]
  },
  {
   "cell_type": "markdown",
   "metadata": {},
   "source": [
    "## Dataset\n",
    "We will load the translated CNN Daily Mail dataset from the tfrecords files"
   ]
  },
  {
   "cell_type": "code",
   "execution_count": 8,
   "metadata": {},
   "outputs": [],
   "source": [
    "en_de_prefix = tf.reshape(tokenizer.encode(\"summarize: en_to_ger \", return_tensors=\"tf\"), (-1,))\n",
    "de_en_prefix = tf.reshape(tokenizer.encode(\"summarize: ger_to_en \", return_tensors=\"tf\"), (-1,))\n",
    "en_en_prefix = tf.reshape(tokenizer.encode(\"summarize: en_to_en \", return_tensors=\"tf\"), (-1,))\n",
    "de_de_prefix = tf.reshape(tokenizer.encode(\"summarize: ger_to_ger \", return_tensors=\"tf\"), (-1,))"
   ]
  },
  {
   "cell_type": "code",
   "execution_count": 9,
   "metadata": {},
   "outputs": [
    {
     "data": {
      "text/plain": [
       "9"
      ]
     },
     "execution_count": 9,
     "metadata": {},
     "output_type": "execute_result"
    }
   ],
   "source": [
    "prefix_length = de_de_prefix.shape[0]\n",
    "prefix_length"
   ]
  },
  {
   "cell_type": "code",
   "execution_count": 45,
   "metadata": {},
   "outputs": [],
   "source": [
    "import numpy as np\n",
    "MAX_ARTICLE_LEN = 512\n",
    "MAX_HIGHLIGHT_LEN = 150\n",
    "GLOBAL_BATCH_SIZE = 8\n",
    "\n",
    "def get_tfrecord_dataset(file_name):\n",
    "    features = {\n",
    "        'ger_x': tf.io.FixedLenFeature([MAX_ARTICLE_LEN-8], tf.int64),\n",
    "        'ger_x_mask': tf.io.FixedLenFeature([MAX_ARTICLE_LEN-8], tf.int64),\n",
    "        'ger_y': tf.io.FixedLenFeature([MAX_HIGHLIGHT_LEN], tf.int64),\n",
    "        'ger_y_ids': tf.io.FixedLenFeature([MAX_HIGHLIGHT_LEN], tf.int64),\n",
    "\n",
    "        'en_x': tf.io.FixedLenFeature([MAX_ARTICLE_LEN-8], tf.int64),\n",
    "        'en_x_mask': tf.io.FixedLenFeature([MAX_ARTICLE_LEN-8], tf.int64),\n",
    "        'en_y': tf.io.FixedLenFeature([MAX_HIGHLIGHT_LEN], tf.int64),\n",
    "        'en_y_ids': tf.io.FixedLenFeature([MAX_HIGHLIGHT_LEN], tf.int64),\n",
    "    }\n",
    "\n",
    "    dataset = tf.data.TFRecordDataset(f\"../data/{file_name}.tfrecord\")\n",
    "\n",
    "    # Taken from the TensorFlow models repository: https://github.com/tensorflow/models/blob/befbe0f9fe02d6bc1efb1c462689d069dae23af1/official/nlp/bert/input_pipeline.py#L24\n",
    "    def decode_record(record, features):\n",
    "        \"\"\"Decodes a record to a TensorFlow example.\"\"\"\n",
    "        example = tf.io.parse_single_example(record, features)\n",
    "\n",
    "        # tf.Example only supports tf.int64, but the TPU only supports tf.int32.\n",
    "        # So cast all int64 to int32.\n",
    "        for name in list(example.keys()):\n",
    "            t = example[name]\n",
    "            if t.dtype == tf.int64:\n",
    "                t = tf.cast(t, tf.int32)\n",
    "            example[name] = t\n",
    "        return example\n",
    "\n",
    "\n",
    "    def select_data_from_record(record):\n",
    "        return [\n",
    "            tf.strided_slice(tf.concat([de_de_prefix, record['ger_x']], axis=0), [0], [-1]), tf.concat([tf.ones(8, dtype=tf.int32), record['ger_x_mask']], axis=0), record['ger_y'], record['ger_y_ids'],\n",
    "            tf.strided_slice(tf.concat([en_de_prefix, record['en_x']], axis=0), [0], [-1]), tf.concat([tf.ones(8, dtype=tf.int32), record['en_x_mask']], axis=0), record['ger_y'], record['ger_y_ids'],\n",
    "            tf.strided_slice(tf.concat([de_en_prefix, record['ger_x']], axis=0), [0], [-1]), tf.concat([tf.ones(8, dtype=tf.int32), record['ger_x_mask']], axis=0), record['en_y'], record['en_y_ids'],\n",
    "            tf.strided_slice(tf.concat([en_en_prefix, record['en_x']], axis=0), [0], [-1]), tf.concat([tf.ones(8, dtype=tf.int32), record['en_x_mask']], axis=0), record['en_y'], record['en_y_ids'],\n",
    "        ]\n",
    "    \n",
    "    dataset = dataset.map(lambda record: decode_record(record, features))\n",
    "    dataset = dataset.map(select_data_from_record)\n",
    "    dataset = dataset.shuffle(25000)\n",
    "    return dataset.batch(GLOBAL_BATCH_SIZE)\n",
    "\n",
    "test_ds = get_tfrecord_dataset(\"corss_lingual_test_cnn_daily_mail\")"
   ]
  },
  {
   "cell_type": "code",
   "execution_count": 46,
   "metadata": {},
   "outputs": [
    {
     "name": "stdout",
     "output_type": "stream",
     "text": [
      "(8, 512) (8, 512) (8, 150) (8, 150)\n",
      "(8, 512) (8, 512) (8, 150) (8, 150)\n",
      "(8, 512) (8, 512) (8, 150) (8, 150)\n",
      "(8, 512) (8, 512) (8, 150) (8, 150)\n"
     ]
    }
   ],
   "source": [
    "def get_summaries(ds):\n",
    "    for i in range(1,5):\n",
    "        yield ds[(i-1)*4], ds[i*4-3], ds[i*4-2], ds[i*4-1]\n",
    "\n",
    "\n",
    "for ds in test_ds.take(1):\n",
    "    for i in get_summaries(ds):\n",
    "        print(i[0].shape, i[1].shape, i[2].shape, i[3].shape)"
   ]
  },
  {
   "cell_type": "markdown",
   "metadata": {},
   "source": [
    "## Evaluation\n",
    "### Define Rouge Score"
   ]
  },
  {
   "cell_type": "code",
   "execution_count": 47,
   "metadata": {},
   "outputs": [],
   "source": [
    "class RougeScore:\n",
    "    '''\n",
    "    mostly from https://github.com/google-research/text-to-text-transfer-transformer/blob/master/t5/evaluation/metrics.py \n",
    "    '''\n",
    "    \n",
    "    def __init__(self, score_keys=None)-> None:\n",
    "        super().__init__()\n",
    "        if score_keys is None:  \n",
    "            self.score_keys = [\"rouge1\", \"rouge2\", \"rougeLsum\"]\n",
    "        \n",
    "        self.scorer = rouge_scorer.RougeScorer(self.score_keys)\n",
    "        self.aggregator = scoring.BootstrapAggregator()\n",
    "        \n",
    "        \n",
    "    @staticmethod\n",
    "    def prepare_summary(summary):\n",
    "            # Make sure the summary is not bytes-type\n",
    "            # Add newlines between sentences so that rougeLsum is computed correctly.\n",
    "            summary = summary.replace(\" . \", \" .\\n\")\n",
    "            return summary\n",
    "    \n",
    "    def __call__(self, target, prediction):\n",
    "        \"\"\"Computes rouge score.''\n",
    "        Args:\n",
    "        targets: string\n",
    "        predictions: string\n",
    "        \"\"\"\n",
    "\n",
    "        target = self.prepare_summary(target)\n",
    "        prediction = self.prepare_summary(prediction)\n",
    "        \n",
    "        self.aggregator.add_scores(self.scorer.score(target=target, prediction=prediction))\n",
    "\n",
    "        return \n",
    "    \n",
    "    def reset_states(self):\n",
    "        self.rouge_list = []\n",
    "\n",
    "    def result(self):\n",
    "        result = self.aggregator.aggregate()\n",
    "        \n",
    "        for key in self.score_keys:\n",
    "            score_text = \"%s = %.2f, 95%% confidence [%.2f, %.2f]\"%(\n",
    "                key,\n",
    "                result[key].mid.fmeasure*100,\n",
    "                result[key].low.fmeasure*100,\n",
    "                result[key].high.fmeasure*100\n",
    "            )\n",
    "            print(score_text)\n",
    "        \n",
    "        return {key: result[key].mid.fmeasure*100 for key in self.score_keys}"
   ]
  },
  {
   "cell_type": "markdown",
   "metadata": {},
   "source": [
    "### Compute Summaries"
   ]
  },
  {
   "cell_type": "code",
   "execution_count": 48,
   "metadata": {},
   "outputs": [
    {
     "name": "stdout",
     "output_type": "stream",
     "text": [
      "0 : time genreate batch: 15.100758624076843\n",
      "10 : time genreate batch: 169.7196108341217\n",
      "20 : time genreate batch: 171.28110806941987\n"
     ]
    }
   ],
   "source": [
    "predictions = []\n",
    "start_time = time.time()\n",
    "\n",
    "for i, ds_item in enumerate(test_ds): \n",
    "    for (input_ids, input_mask, y, y_ids) in get_summaries(ds_item):\n",
    "        summaries = model.generate(\n",
    "            input_ids=input_ids, \n",
    "            attention_mask=input_mask, \n",
    "            num_beams=4, \n",
    "            length_penalty=0.6,\n",
    "            early_stopping=True, \n",
    "            max_length=150\n",
    "        )\n",
    "\n",
    "        articles = [tokenizer.decode(g, skip_special_tokens=True, clean_up_tokenization_spaces=False) for g in input_ids]\n",
    "\n",
    "        pred = [tokenizer.decode(g, skip_special_tokens=True, clean_up_tokenization_spaces=False) for g in summaries]\n",
    "        real = [tokenizer.decode(g, skip_special_tokens=True, clean_up_tokenization_spaces=False) for g in y]\n",
    "    \n",
    "        for pred_sent, real_sent, article_sent in zip(pred, real, articles):\n",
    "            predictions.append(str(\"article: \" + article_sent + \"\\n\\npred sentence: \" + pred_sent + \"\\n\\nreal sentence: \" + real_sent))\n",
    "    \n",
    "    if (i % 10) == 0:\n",
    "        elapsed = (time.time() - start_time) / 10\n",
    "        print(i,\": time genreate batch:\", elapsed)\n",
    "        start_time = time.time()\n",
    "    if i > 20:\n",
    "        # otherwise it will take ages\n",
    "        break\n",
    "\n",
    "\n",
    "# rouge_score.result()"
   ]
  },
  {
   "cell_type": "markdown",
   "metadata": {},
   "source": [
    "### Lets have a look at some of these predicted summaries"
   ]
  },
  {
   "cell_type": "code",
   "execution_count": 49,
   "metadata": {},
   "outputs": [],
   "source": [
    "import numpy as np\n",
    "len_predictions = len(predictions)\n",
    "\n",
    "def get_random_prediction():\n",
    "    return predictions[np.random.randint(len_predictions)]"
   ]
  },
  {
   "cell_type": "code",
   "execution_count": 50,
   "metadata": {
    "scrolled": true
   },
   "outputs": [
    {
     "name": "stdout",
     "output_type": "stream",
     "text": [
      "article: summarize: ger_to_en Thierry Henry hat mit einem 84-minütigen Video von Michael Laudrups Tod auf Kritiker reagiert, die mit seinen Ansichten über Javier Hernandez \"Feier nicht einverstanden waren. Der ehemalige Arsenal-Stürmer Henry, heute Experte bei Sky Sports, nahm Hernandez, der nach seinem Siegtor für Real Madrid am Mittwochabend gefeiert hatte, \"als hätte er die Weltmeisterschaft gewonnen\", in Schutz und sagte nach dem Spiel, er schulde seinem Teamkollegen Cristiano Ronaldo alles. Der dreimalige Weltfußballer des Jahres hätte im Champions-League-Viertelfinal-Rückspiel von Real Madrid gegen den erbitterten Rivalen Atlético zwei Minuten vor Schluss einschießen können, entschied sich aber stattdessen für Teamkollege Hernandez, der den Ball selbst zum Sieg versenkte. Real Madrids Stürmer Javier Hernandez verdiente sich den Champions-League-Sieg mit einem späten Tor. Der mexikanische Leihstürmer ließ sich nach seinem Führungstreffer von Madrid feiern. Hernandez wird von den verzückten Real-Madrid-Fans nach seinem späten Tor gegen den Stadtrivalen Atlético begrüßt. Henry verteidigte seine Ansichten am Donnerstag auf Twitter: \"Fußball ist ein Mannschaftsspiel. Ja, CH14 _ erzielte das alles entscheidende Tor, aber die Arbeit von @ cristiano machte es möglich. Sie ist nicht zu unterschätzen. \"Ich liebe es, wenn die Spieler feiern und den Spieler anerkennen, der den Assist gemacht hat. Der Pass kann genauso wichtig sein wie das Tor \". Henry postete anschließend ein 84-minütiges Video des ehemaligen Barcelona-Mittelfeldspielers Laudrup, das die Botschaft enthält: \"Schau dir dieses Video an, du hast einen der uneigennützigsten Spieler im Spiel, der die Bedeutung des letzten Balls zeigt. \"Das ist Fußball\". Das ist # michaellaudrup \". UHR: Das Video, das Henry postete, zeigt den ehemaligen Mittelfeldspieler von Juventus und\n",
      "\n",
      "pred sentence: Thierry Henry posted 84-minute video of Michael Laudrup's death on Twitter . The former Arsenal striker defended his team-mate Javier Hernandez . Henry said: Football is a team game. Ja, CH14_ scored the all-important goal, but the work of @ cristiano made it possible. It is not to underestimate\n",
      "\n",
      "real sentence: Javier Hernandez scored a late goal to secure victory for Real Madrid . Thierry Henry says Hernandez owes Cristiano Ronaldo for the assist . Sky Sports pundit Henry responded to those who disagreed with his comments by posting a video of Michael Laudrups passing . He said on Twitter: 'The pass can be just as important as the goal\n"
     ]
    }
   ],
   "source": [
    "print(get_random_prediction())"
   ]
  },
  {
   "cell_type": "code",
   "execution_count": 51,
   "metadata": {},
   "outputs": [
    {
     "name": "stdout",
     "output_type": "stream",
     "text": [
      "article: summarize: ger_to_ger Vergessen Sie ein Daunenkissen - dieser Junge würde lieber den Bauch seiner Katze als Ruheplatz nutzen. Der kalifornische YouTube-Nutzer Lionel Hutz filmte, wie sein kleiner Sohn die Katze der Familie durch den Garten jagte, um sich auszuruhen. Filmaufnahmen zeigen, wie die Katze ihr Fell leckt, bevor sein menschlicher Freund daherkommt und sich obenauf plappert. Nach einem kurzen Moment der Stille steht die Katze sofort auf und huscht an eine andere Stelle. Anschließend folgt der Junge dem Haustier zu seinem neuen Standort. Eifrig, sich auszuruhen, wiederholt der Säugling dieselbe Bewegung und rollt zu Boden. Die Sequenz passiert ein weiteres Mal, bevor die Katze beschließt, dass sie genug davon hat, als Kissen benutzt zu werden und im Haus umherirrt. Auf einem späteren Video ist zu sehen, wie sich das Duo schnell schminkt und der Junge sanft die Katzenhände mit Leckereien füttert. Schläfriger Kopf: YouTube-User Lionel Hutz filmte, wie sein kleiner Sohn die Katze der Familie durch den Garten jagt, um sich auszuruhen. Perfektes Kissen: Aufnahmen zeigen, wie die Katze an seinem Fell leckt, bevor sein menschlicher Freund vorbeikommt und sich auf ihn stürzt. Not amused: Nach einem kurzen Moment der Stille steht die Katze sofort auf und huscht an eine andere Stelle.\n",
      "\n",
      "pred sentence: Der kalifornische YouTube-Nutzer Lionel Hutz filmte, wie sein kleiner Sohn die Katze der Familie durch den Garten jagte.\n",
      "\n",
      "real sentence: YouTube-Nutzer Lionel Hutz filmte, wie sein kleiner Sohn die Katze der Familie durch den Garten jagte, um sich auszuruhen.\n"
     ]
    }
   ],
   "source": [
    "print(get_random_prediction())"
   ]
  },
  {
   "cell_type": "code",
   "execution_count": 52,
   "metadata": {},
   "outputs": [
    {
     "name": "stdout",
     "output_type": "stream",
     "text": [
      "article: summarize: ger_to_ger Es ist eine weit verbreitete Angst, die als Trypanophobie bekannt ist. Bei rund 20 Prozent der Bevölkerung ruft der Gedanke, zur Spritze zum Arzt zu gehen, ein tief verwurzeltes Gefühl der Angst hervor. Viele meiden die Arztpraxis ganz und lassen sich das Risiko verschiedener Krankheiten und Infektionen offen. Doch für diejenigen, die Angst vor Nadeln haben, könnte ein Wissenschaftlerteam der Rice University in Houston die Antwort parat haben. Sie haben ein neues Gerät entwickelt, Comfortably Numb, um die Schmerzen einer Injektion zu lindern. Ihre Erfindung betäubt die Haut vor dem Jab, indem sie eine schnelle chemische Reaktion hervorruft, um die Haut des Patienten zu kühlen. Scrollen Sie nach unten für ein Video. Comfortably Numb ist ein neues Einmalgerät, das die Schmerzen einer Injektion lindert, indem es eine schnelle chemische Reaktion erzeugt, um die Haut des Patienten innerhalb von 60 Sekunden zu kühlen. Drei Studenten im ersten Jahr, (von links) Maschinenbauingenieur Mike Hua, Bioingenieur Andy Zhang und Informatiker Greg Allison, entwickelten die Erfindung, die sie als \"einfach und elegant\" beschreiben. Das Trio, bestehend aus dem Informatiker Greg Allison, Bioingenieur Andy Zhang und Maschinenbauingenieur Mike Hua, verfügt derzeit über einen funktionierenden Prototypen, der in nur 60 Sekunden einen betäubenden Effekt erzielt hat. \"Unser Gerät ist 3D-gedruckt und besteht aus zwei versiegelten Kammern, die die Chemikalie Ammoniumnitrat und Wasser enthalten\", sagte Hua. Eine einfache Drehbewegung bewegt die Kammern in eine Ausrichtung, damit die Chemikalien durch die Kammer fließen können, um eine schnelle endotherme Reaktion zu erzeugen. 'Wir betäuben dann die Haut, indem wir die Metalloberfläche des Geräts mit der Haut des Patienten in Kontakt bringen'. Aktuelle Lösungen seien entweder ineffektiv, weil sie die Haut nicht ausreichend betäuben, oder sie dauerten zu lange, so die Forscher. Sie stellt\n",
      "\n",
      "pred sentence: Drei Studenten der Rice University in Houston haben ein neues Gerät entwickelt, das die Schmerzen einer Injektion lindert. Comfortably Numb erzeugt eine schnelle chemische Reaktion, um die Haut des Patienten innerhalb von 60 Sekunden zu kühlen.\n",
      "\n",
      "real sentence: Comfortably Numb ist ein Einmalgerät aus dem 3D-Druck, das die Haut betäubt. Es erzeugt eine schnelle chemische Reaktion, um die Haut des Patienten in 60 Sekunden zu kühlen. Die Erfindung kostet etwa 2 Dollar und könnte Millionen von Menschen helfen, die Angst vor Schmerzen haben. Drei Studenten im ersten Jahr hinter der Erfindung sagen, dass sie auch für Tätowierungen funktionieren könnte.\n"
     ]
    }
   ],
   "source": [
    "print(get_random_prediction())"
   ]
  },
  {
   "cell_type": "code",
   "execution_count": 53,
   "metadata": {},
   "outputs": [
    {
     "name": "stdout",
     "output_type": "stream",
     "text": [
      "article: summarize: ger_to_ger Im TOWIE am Sonntagabend erklärte sich Dan Edgar bereit, seiner Beziehung zu Jessica Wright eine zweite Chance zu geben - und angesichts der Beweise für ihr neuestes Fotoshooting überrascht es nicht. Die 29-Jährige wurde als Gesicht (und Körper) von Ann Summers Bademoden- und Beachwear-Kampagne Hotel Summers angekündigt. Der TOWIE-Star ist der erste Promi, der jemals vor einer Ann Summers-Kampagne stand und wurde nicht nur aufgrund ihrer atemberaubenden Figur ausgewählt, sondern auch wegen ihrer \"lustigen, furchtlosen Haltung und Referenzen im Modegeschäft\". Jessica Wright von TOWIE ist die erste Berühmtheit, die in einer Kampagne von Ann Summers mitspielt. In der Kampagne präsentiert Jess ihre unglaubliche Figur in der Resort-Kollektion, die 15 Bademoden umfasst, darunter Tauch-, Bandeau- und Boost-Bikinis sowie kurvenverstärkende Monokinis. Neben der Bademode umfasst die Kollektion Bademoden-Accessoires, darunter einen bestickten Kaftan, ein florales Cover-up sowie tiefe Spitzenspielanzüge, die sich ideal zum Faulenzen eignen. Jess Wright sagt, es sei ein echter Nervenkitzel, mit der Marke zusammengearbeitet zu haben, nachdem sie selbst Fan war. Sie sagte: \"Ich bin so aufgeregt und geschmeichelt, mit Ann Summers zusammenzuarbeiten und ihr erstes prominentes Gesicht in Sachen Bademode zu sein - was für ein Kompliment! In der Kampagne mit dem Namen Hotel Summers zeigt Jess ihre unglaubliche Figur in der Bademode der Marke. Jess sagt, sie sei ein großer Fan der Marke und war begeistert, an Bord zu sein. \"Ich war schon immer ein großer Fan der Marke und die Kollektion ist die perfekte Mischung aus Glamour, Sexyness und Verspieltheit\". In Bezug auf die Kollektion sagte Jess, dass sie dachte, die Styles würden zu den meisten Frauen passen. \"Die Bademoden sind schmeichelhaft für alle\n",
      "\n",
      "pred sentence: Jessica Wright ist die erste Promi, die jemals vor einer Ann Summers-Kampagne stand. Die 29-Jährige ist das Gesicht (und Körper) der Bademoden- und Beachwear-Kampagne Hotel Summers.\n",
      "\n",
      "real sentence: Jessica Wright spielt die Hauptrolle in der Resort-Kollektion der Dessous-Marke. Hotel Summers umfasst mehrere farbenfrohe Bademoden. Curvy Jess ist der erste Promi, der eine Ann Summers-Kampagne anführt.\n"
     ]
    }
   ],
   "source": [
    "print(get_random_prediction())"
   ]
  },
  {
   "cell_type": "code",
   "execution_count": 54,
   "metadata": {},
   "outputs": [
    {
     "name": "stdout",
     "output_type": "stream",
     "text": [
      "article: summarize: ger_to_ger Die Jacksonville Jaguars werden im nächsten Monat einen kleinen Teil des NFL-Drafts nach London bringen, indem sie von einem in Großbritannien ansässigen Fan live im Fernsehen ihre Pick-ups der sechsten und siebten Runde verkünden lassen. Die Jaguars, die bis 2015 jedes Jahr ein Heimspiel in London austragen wollen, haben über nfluk.com einen Wettbewerb für Fans aus Großbritannien eröffnet, und der Gewinner wird die Draft Picks live auf Sky Sports in Großbritannien und dem NFL Network in den USA bekanntgeben. Es wird das erste Mal sein, dass ein Teil des NFL-Drafts außerhalb der Vereinigten Staaten stattfindet. Ein in Großbritannien ansässiger Fan wird die sechsten und siebten Draft-Picks der Jacksonville Jaguars live im Fernsehen verkünden. Der britische NFL-Fan könnte der Welt die Antwort auf 2014 No 3 Pick Blake Bortles verkünden. Jaguars-Präsident Mark Lamping sagte: \"Wir sind so aufgeregt, unseren Fans in den USA und im Ausland eine aufregende Gelegenheit zu bieten, am NFL Draft teilzunehmen und jedem unsere neuesten Jacksonville Jaguars vorzustellen. \"Darüber hinaus sind wir ebenso begeistert, das erste Team der Liga zu sein, das den NFL Draft auf den internationalen Markt in London bringt\". Der NFL Draft hat sich in den letzten Jahren zu einem riesigen Fernsehereignis entwickelt, da Fans auf der ganzen Welt einschalten, um herauszufinden, welche Ex-College-Spieler als Nächstes für ihre Teams in Frage kommen. Um die Chance, Teil einer Weltneuheit zu werden, gibt es über nfluk.com einen Wettbewerb für Fans aus Großbritannien. Die Jaguars verpflichten sich bis 2016 jedes Jahr zu einem Heimspiel in London. Der Draft im letzten Jahr lockte nach Angaben der NFL 45,7 Millionen Zuschauer an. Die ersten drei Runden des diesjährigen Drafts finden in Chicago statt, wobei jedes NFL-Team dann seine Auswahl für die Runden vier bis sieben aus seinem eigenen Hauptquartier bekannt gibt. Die Jaguars werden ihre vierten und fünften\n",
      "\n",
      "pred sentence: Die Jaguars verpflichten sich bis 2016 jedes Jahr zu einem Heimspiel in London. Der Gewinner wird die Draft-Picks live auf Sky Sports in Großbritannien und dem NFL Network in den USA bekanntgeben.\n",
      "\n",
      "real sentence: Die Jacksonville Jaguars werden einen britischen Fan dazu bringen, ihre Draft-Picks für die sechste und siebte Runde bekannt zu geben. Es wird das erste Mal sein, dass ein Teil des NFL-Drafts außerhalb der USA stattfindet.\n"
     ]
    }
   ],
   "source": [
    "print(get_random_prediction())"
   ]
  },
  {
   "cell_type": "code",
   "execution_count": 55,
   "metadata": {},
   "outputs": [
    {
     "name": "stdout",
     "output_type": "stream",
     "text": [
      "article: summarize: en_to_en This is the moment a thief fled the scene after stealing the sat nav from a 73-year-old injured pensioners crashed car as she waited for an ambulance. The 73-year-old woman suffered severe bruising to her legs and ribs after her blue Vauxhall Corsa collided with railings on the petrol forecourt of the Asda store in Hulme, Manchester. She was waiting from an ambulance with her husband, who has dementia, when the thief sneaked into her car and stole the black Garmin device from underneath the passenger seat. A member of the public took a photograph of the suspect as he left the scene and walked across the grass with his dog at around 12pm last Thursday. A man wearing purple shorts was photographed leaving the scene after a sat nav was stolen from a 73-year-old injured pensioner's crashed car in Hulme, Manchester . The man is described as being between 30 and 40, with a beard and wearing purple surf-style shorts. Police have issued the photograph of the suspected offender and are appealing to anyone who might know this man to come forward. PC Paul Brunton from Greater Manchester Police said: 'I have spoken to the woman and in her victim impact statement she has described this thief as 'the lowest of the low'. 'As she and her husband waited for an ambulance, injured from the collision moments before, what they needed was help and assistance but instead this thief took advantage of the opportunity, preyed upon their vulnerable state and stole their sat nav. The 73-year-old woman suffered severe bruising to her legs and ribs after her blue Vauxhall Corsa collided with railings on the petrol forecourt of the Asda store in Hulme, Manchester (not pictured) 'It is a sickening, appalling and cruel act and while I doubt the thief is ashamed of himself, I'm sure anyone reading or hearing this appeal will be disgusted. 'I would ask that people use that sense of indignation to help us find this man. 'A member of the public took a\n",
      "\n",
      "pred sentence: Woman suffered severe bruising to her legs and ribs after crash in Hulme, Manchester . She was waiting from an ambulance with her husband, who has dementia . Thief sneaked into her car and stole the black Garmin device from underneath . Police have issued the photograph of the suspected offender .\n",
      "\n",
      "real sentence: Thief stole sat nav from elderly woman's car after she was injured in crash . Woman, 73, was waiting for an ambulance with husband who has dementia . Suspect was photographed as he fled the scene in Hulme, Manchester . Bearded man was wearing purple shorts and is aged between 30 and 40 .\n",
      "article: summarize: ger_to_ger Thierry Henry hat mit einem 84-minütigen Video von Michael Laudrups Tod auf Kritiker reagiert, die mit seinen Ansichten über Javier Hernandez \"Feier nicht einverstanden waren. Der ehemalige Arsenal-Stürmer Henry, heute Experte bei Sky Sports, nahm Hernandez, der nach seinem Siegtor für Real Madrid am Mittwochabend gefeiert hatte, \"als hätte er die Weltmeisterschaft gewonnen\", in Schutz und sagte nach dem Spiel, er schulde seinem Teamkollegen Cristiano Ronaldo alles. Der dreimalige Weltfußballer des Jahres hätte im Champions-League-Viertelfinal-Rückspiel von Real Madrid gegen den erbitterten Rivalen Atlético zwei Minuten vor Schluss einschießen können, entschied sich aber stattdessen für Teamkollege Hernandez, der den Ball selbst zum Sieg versenkte. Real Madrids Stürmer Javier Hernandez verdiente sich den Champions-League-Sieg mit einem späten Tor. Der mexikanische Leihstürmer ließ sich nach seinem Führungstreffer von Madrid feiern. Hernandez wird von den verzückten Real-Madrid-Fans nach seinem späten Tor gegen den Stadtrivalen Atlético begrüßt. Henry verteidigte seine Ansichten am Donnerstag auf Twitter: \"Fußball ist ein Mannschaftsspiel. Ja, CH14 _ erzielte das alles entscheidende Tor, aber die Arbeit von @ cristiano machte es möglich. Sie ist nicht zu unterschätzen. \"Ich liebe es, wenn die Spieler feiern und den Spieler anerkennen, der den Assist gemacht hat. Der Pass kann genauso wichtig sein wie das Tor \". Henry postete anschließend ein 84-minütiges Video des ehemaligen Barcelona-Mittelfeldspielers Laudrup, das die Botschaft enthält: \"Schau dir dieses Video an, du hast einen der uneigennützigsten Spieler im Spiel, der die Bedeutung des letzten Balls zeigt. \"Das ist Fußball\". Das ist # michaellaudrup \". UHR: Das Video, das Henry postete, zeigt den ehemaligen Mittelfeldspieler von Juventus und\n",
      "\n",
      "pred sentence: Thierry Henry postete ein 84-minütiges Video von Michael Laudrups Tod. Der ehemalige Arsenal-Stürmer verteidigte seine Ansichten über Javier Hernandez. Henry sagte, er schulde seinem Teamkollegen Cristiano Ronaldo alles.\n",
      "\n",
      "real sentence: Javier Hernandez erzielte ein spätes Tor zum Sieg für Real Madrid. Thierry Henry sagt, Hernandez schulde Cristiano Ronaldo den Assist. Sky Sports-Experte Henry reagierte auf diejenigen, die mit seinen Kommentaren nicht einverstanden waren, indem er ein Video von Michael Laudrups Abgang postete. Er schrieb auf Twitter: \"Der Pass kann genauso wichtig sein wie das Tor\".\n",
      "article: summarize: ger_to_ger Pläne für einen \"Regenbogen\" -Zebrastreifen zur Unterstützung der Rechte von Homosexuellen könnten aufgegeben werden, weil befürchtet wird, dass er Halluzinationen bei Demenzkranken auslösen könnte. Der farbenfrohe Fußgängerüberweg sollte in Totnes in Devon - dem ersten in Europa - als Zeichen des Stolzes der Stadt auf ihre schwule Gemeinschaft installiert werden. Doch Experten warnen, dass das Bemalen der Straße in unterschiedlichen Farben Nebenwirkungen für Menschen mit Alzheimer haben könnte. Die Pläne für einen \"Regenbogen\" -Zebrastreifen zur Unterstützung der Schwulenrechte in Totnes, Devon, könnten aufgegeben werden, weil befürchtet wird, dass er Halluzinationen bei Demenzkranken verursachen würde. In Totnes in Devon - dem ersten in Europa - sollte der farbenfrohe Zebrastreifen als Zeichen des Stolzes der Stadt für ihre schwule Gemeinschaft installiert werden. Befürchtungen wurden gegenüber Stadträten geäußert, die gebeten worden waren, den Plan zur Errichtung des Zebrastreifens in einem Gebiet namens The Plains zu unterstützen. Stadträte forderten die Proud2Be-Gruppe, die die Kampagne ins Leben gerufen hatte, auf, sich von Experten beraten zu lassen. Carol Wellwood, Stadträtin von Totnes, sagte: \"Jemand, der mit älteren Menschen arbeitet, ist besorgt, dass Menschen mit Alzheimer eine Regenbogenkreuzung als sehr beunruhigend empfinden könnten. \"Die Behauptung ist, dass sie dadurch Halluzinationen bekommen würden\". Mat Price, der die Proud2Be-Gruppe leitet, enthüllte, dass ein ausgebildeter Demenzhelfer die Gruppe kontaktiert hatte, um vor den ernsten gesundheitlichen Auswirkungen zu warnen. Aber er sagte: \"Ich verstehe nicht, warum es etwas anderes ist, als ein regenbogenfarbenes Schaufenster in ein Schaufenster zu stellen oder zu Weihnachten Weihnachtslichter anzuzünden\n",
      "\n",
      "pred sentence: Pläne für einen \"Regenbogen\" -Zebrastreifen zur Unterstützung der Rechte von Homosexuellen in Totnes, Devon, könnten aufgegeben werden, weil befürchtet wird, dass er Halluzinationen bei Demenzkranken auslösen könnte. Experten warnen, dass das Bemalen der Straße in unterschiedlichen Farben Nebenwirkungen für Menschen mit Alzheimer haben könnte.\n",
      "\n",
      "real sentence: Der farbenfrohe Übergang sollte in Totnes in Devon installiert werden. Er sollte Europas erster Regenbogenübergang zur Unterstützung der Rechte von Homosexuellen werden. Experten warnen jedoch, dass er Nebenwirkungen für Alzheimer-Kranke haben könnte.\n",
      "article: summarize: en_to_en Britons spend an astonishing £100 million a year on cough syrup – when a glass of honey and lemon could work just as well, according to a new BBC television investigation. It claims that branded painkillers that say they specifically treat certain types of pain are just using ‘clever marketing’ to make patients spend up to ten times more than they would on unbranded products, and that some manufacturers simply use the same pills in different packaging throughout their ranges. Scroll down for video . Clever marketing: Dr Chris Van Tulleken with a range of packets that, he says, may contain exactly the same pills . The UK over-the-counter medicines market, which also includes painkillers and anti-fungal creams, is worth £2.5 billion, with brands vying for attention with brightly coloured packaging and promises that are questionable under scrutiny, claims Dr Chris Van Tulleken. In The Truth About Medicine, to be broadcast on Thursday, Dr Van Tulleken, an infectious diseases specialist, warns we should think less about convenience and more about the effectiveness of medicines. There are three main types of over-the-counter cough remedies, those that contain suppressants to alleviate symptoms of a dry, tickly cough, syrups that reduce the urge to cough by coating the throat, and products that help to thin sticky mucus, making coughing easier. Some also contain paracetamol or ibuprofen, both of which reduce a temperature, decongestants and antihistamines that can help sleep. Yet an authoritative study from Cardiff University’s Common Cold Centre claimed cough medicines work mostly through a placebo effect, and that just 15 per cent of the effect can be attributed to the medicines in them. PREVENT: Sores on the inside of the mouth or cheeks can be caused by damage to the lining of the mouth from hot foods, biting your cheek or even rubbing dentures. They can also be a sign of an iron or Vitamin B12 deficiency, so a balanced diet can help prevent them. Spicy foods and chocolate can be triggers, so keep a food diary if you have recurrent outbreaks to pinpoint problem foods. It’s also worth checking your toothpaste – formulas that contain a foaming agent called sodium la\n",
      "\n",
      "pred sentence: UK over-the-counter medicines market is worth £2.5 billion, says Dr Chris Van Tulleken . He warns we should think less about convenience and more about effectiveness .\n",
      "\n",
      "real sentence: Clever marketing makes patients spend up to ten times more, say experts . An investigation found Britons spend £100million on cough syrup a year . But some doctors say there is no need to spend so much on remedies . The Truth About Medicine, 9pm BBC1, April 9 .\n",
      "article: summarize: en_to_ger (CNN)Famed cosmologist Stephen Hawking has proved his comedy chops on shows like \"The Big Bang Theory,\" and now hes trying his hand at musicals. Hawking has partnered with the silly lads of Monty Python to recreate the signature \"Galaxy Song\" from their 1983 film \"The Meaning of Life.\" The collabo is in honor of Saturday's Record Store Day, when the 7-inch single will be available for sale. The accompanying video is guaranteed to be the most awesome thing you see today. In it, fellow scientist Brian Cox rails against the inaccuracies in \"Galaxy Song\" when a fed-up Hawking, who has ALS, zooms up in his wheelchair and knocks over Cox. Hawking continues singing the song in his signature computerized voice. Hawking then launches into the stratosphere for a trippy ride and lesson on the cosmos. The scene is derived from a filmed bit that Monty Python uses during its live shows. 40 years of 'Holy Grail': The best of Monty Python . \"Galaxy Song\" song was written by Python member Eric Idle, along with John Du Prez, and is \"an intricate and informative lecture on the enor-mity of the Universe fashioned into a bewitching and, above all, highly amusing pop song,\" according to the comedy troupe's site. Hawking's version is available for download. It's not Hawking's first music gig; he's also featured on the Pink Floyd song \"Talkin' Hawkin.'\" The original version of \"Galaxy Song\" is below. A sampling of the lyrics: \"Just remember that you're standing on a planet that's evolving and revolving at 900 miles an hour. That's orbiting at 19 miles a second so it's reckoned. A sun thats the source of all our power. The sun and you and me and all the stars that we can see are moving at 1 million miles a day. In an outer spiral arm at 40,000 miles an hour of the galaxy we call the Milky Way.\"\n",
      "\n",
      "pred sentence: Stephen Hawking und Monty Python kreieren den \"Galaxy Song\" aus dem Film \"The Meaning of Life\". Die 7-Zoll-Single wird am Samstag zum Verkauf stehen.\n",
      "\n",
      "real sentence: Stephen Hawking ist ein berühmter Kosmologe und Mathematiker, der in einem urkomischen neuen Video Monty Pythons \"Galaxy Song\" singt.\n",
      "article: summarize: en_to_en Jeffrey Williams, 20, is accused of shooting and wounding the officers on during a rally on March 12 . The man accused of shooting two police officers during a demonstration in Ferguson has confessed to the crime in a series of phone calls from jail that were recorded. Jeffrey Williams, 20, is accused of shooting and wounding the officers on March 12, during an early-morning rally sparked by the resignation of Fergusons police chief. All inmates are informed their phone conversations while behind bars are recorded and can be used as evidence against them, but despite the warning Williams spoke freely about the incident in calls made from the St. Louis County Justice Center. In a conversation with his girlfriend, Williams said he was being harassed by a group of people outside Ferguson PD on the night of the shooting . 'Nobody aiming at no police,' Williams said. 'I ran up the hill and he (an unidentified person) shot at the car. ... I shot back,' Williams said in the recordings first obtained by KMOV-TV. In another conversation, Williams expressed concern about a possible lengthy prison sentence. 'Even though I was in the wrong, though, I should have just went the other way,' he said. 'Oh man, now I'm looking at 10 years.' Prosecutors say Williams told investigators he fired a gun but was aiming at someone else. Williams' attorney, Jerryl Christmas, has said Williams told him he never fired during the protest. Despite being warned that phone calls from prison can be used as evidence, Jeffrey Williams, 20, spoke freely about the March 12 incident in calls made from the St. Louis County Justice Center . Christmas told The Associated Press on Wednesday morning he hadn't heard the audio of the phone conversations, but he stood by what Williams told him. 'My client has maintained to me that he never fired a gun that night,' Christmas said. 'So until I'm able to see evidence that I can distinctly talk to him about, I have to maintain my commitment to the statements that he has made to me.' Christmas was also critical of the justice center for releasing audio that provides potential evidence against Williams. Ferguson has been a focal point since a white police officer fatally shot 18-\n",
      "\n",
      "pred sentence: Jeffrey Williams, 20, is accused of shooting and wounding the officers on March 12 during an early-morning rally sparked by the resignation of Fergusons police chief . All inmates are informed their phone conversations while behind bars are recorded and can be used as evidence against them . Williams spoke freely about the incident in calls made from the St. Louis County Justice Center . In another conversation, Williams expressed concern about a possible lengthy prison sentence .\n",
      "\n",
      "real sentence: Jeffrey Williams, 20, is accused of shooting and wounding the officers on during a rally on March 12 . Despite warnings at the start of prison phone calls that they can be used as evidence, he spoke free about the incident to his girlfriend . Williams said he was being harassed by a group of people outside Ferguson PD and wasnt aiming at the cops. He also expressed remorse . 'Even though I was in the wrong, though, I should have just went the other way,' he said. 'Oh man, now I'm looking at 10 years\n",
      "article: summarize: ger_to_en rzte in Kurdistan brechen das Gesetz, indem sie junge jesidische Mädchen abtreiben, die freigelassen wurden, nachdem sie von ISIS-Kämpfern als Sexsklavinnen gehalten wurden. Traumatisiert nach monatelanger Vergewaltigung und Folter durch ISIS-Kämpfer, sind einige der Opfer zurückgekehrt, nachdem sie von ihren Entführern schwanger geworden waren und weiter Gefahr laufen, von ihrer Gemeinschaft geächtet zu werden, die vorehelichen Sex ablehnt. Nun führen einige kurdische rzte angeblich illegale Abtreibungen und geheime Operationen durch, um den \"Verlust der Jungfräulichkeit\" an den Opfern, von denen einige erst acht Jahre alt sind, rückgängig zu machen, berichtet die Sunday Times. Hunderte jesidische Mädchen und Frauen, einige von ihnen erst acht Jahre alt, wurden im vergangenen Jahr vom IS entführt und seitdem als Sexsklavinnen im Islamischen Staat gehalten. Schreckliche Geschichte: Dieses 15-jährige jesidische Mädchen ist eine von Hunderten ehemaligen IS-Sexsklavinnen, denen die Flucht vor dem Islamischen Staat gelang und die nun vor der schwierigen Aufgabe stehen, wieder in die streng religiöse Gemeinschaft einzutreten. Die jungen Mädchen, von denen einige kaum Teenager sind, gehören zu etwa 40.000 Menschen, die mit vorgehaltener Waffe entführt wurden, als Kämpfer des Islamischen Staates im vergangenen Sommer jesidische Dörfer angriffen. Den entflohenen Frauen droht nun, von ihren strengen religiösen Gemeinschaften gemieden zu werden, und viele werden ausgelöscht, um die physischen Beweise ihrer Zeit in Gefangenschaft zu verbergen, schreibt Hala Jaber in der Sunday Times. Einige jesidische Mädchen werden heimlich abgetrieben, sind in Kurdistan sogar bei Vergewaltigungen verboten und suchen eine Hymen-Operation, um \"den Verlust der Jungfräulichkeit umzukehren\". Eine aktuelle Studie von\n",
      "\n",
      "pred sentence: Thousands of girls and women were kidnapped by ISIS fighters last year . Some of the girls are just eight years old and have returned to their communities . Doctors in Kurdistan are now carrying out illegal abductions and secret operations . They are now facing the difficult task of returning to the strict religious community .\n",
      "\n",
      "real sentence: Hundreds of Yazidi girls and women held as sex slaves in Islamic State . Some who have escaped have returned pregnant by their captors . Abortion is illegal in Kurdistan, but some doctors are breaking the law .\n",
      "article: summarize: en_to_en Lovingly tended gardens with their manicured lawns and neat flowerbeds were once the very essence of Englishness. But these days we are increasingly using outdoor space for the occasional barbecue or to relax in a hot tub rather than for tending flowers, according to researchers. As a result, only a handful of traditional flowers still grow in English country gardens, with the average one usually containing a mere four species – daffodils, crocuses, roses and tulips. These days we are increasingly using outdoor space for the occasional barbecue or to relax in a hot tub rather than for tending flowers, according to researchers (file image) Almost 40 per cent of people, including 66 per cent of those aged 18-29, spend more time sunbathing and having barbecues in their garden than tending it, according to the survey of 1,000 adults by the garden furniture retailer Alfresia.co.uk. Sir Roy Strong, the landscape designer and former director of the Victoria and Albert Museum, told the Sunday Times: ‘British people used to take pride in having neat gardens with lots of flowers. ‘Now they are watching lots of gardening shows on television but doing less gardening themselves.’ Typical of the trend is Chris Penn, a 31-year-old council officer from Newport, Gwent, who said: ‘The main purpose of our garden is as a space to unwind with a glass of wine on a warm evening after work.’ As a result, only a handful of traditional flowers still grow in English country gardens, with the average one usually containing a mere four species – daffodils, crocuses, roses and tulips (file image) It comes after another recent study found that more and more people are digging up their flower beds to make way for hot tubs and outdoor spas. Despite the unpredictable climate, one in ten households has a hot tub in the garden – and the British and Irish Spa and Hot Tub Association has said sales actually increase in years of cold weather. A survey of 2,000 homeowners carried out for Lloyds TSB Insurance found that 10 per cent of respondents owned a hot tub, with the equipment in the average UK garden now worth £1,928. And around 57 per cent of householders surveyed\n",
      "\n",
      "pred sentence: Only a handful of traditional flowers still grow in English country gardens . Average one usually contains a mere four species – daffodils, crocuses, roses and tulips . Almost 40 per cent of people spend more time sunbathing and having barbecues .\n",
      "\n",
      "real sentence: Now outdoor space is more commonly used to store hot tubs, say experts . Only traditional flowers still grow in English country gardens as a result . Most only contains four species - daffodils, crocuses, roses and tulips .\n",
      "article: summarize: en_to_ger Flower pattern: Miriam González Durántez wore a particularly colourful ensemble to a fashion show and award gala in central London tonight . Miriam González Durántez is not one to blend into the background. She is known for her bold choices and this exotic look was no exception. The lawyer, wife of the Deputy Prime Minister and mother of three boys, wore a particularly colourful ensemble to a fashion show and award gala in central London tonight. Her bright pink, long-sleeved dress was covered in bright blooms at the LDNY fashion show and WIE (Women: Inspiration and Enterprise) award gala at Goldsmiths Hall celebrating inspirational women and ethical fashion. As if the flower pattern was not enough of a nod to spring, a yellow and pink corsage was pinned to her shoulder. And despite the spring blossoms across the country, this was one of fake flowers. The outfit was accompanied by a £560 pair of Gianvito Rossi Perspex-panelled metallic patent-leather pumps on her feet and a matching thin belt defining her waist. She was pictured tonight with the likes of model Daisy Lowe, designer Kelly Hoppen and Bafta chief executive Amanda Berry. According to The Daily Telegraph, she told an audience: 'Political advisers prefer us to stick to safer ground like kitchens and children. But I much prefer risky ground to political advisers.' And in an article for the Huffington Post written before tonight's event, Miss González Durántez said: 'No matter your age, your skills or your background, every woman has an inner role model and it is the duty of every woman of my generation to stand up for young girls.' She added: 'I decided to support the WIE network (and yes, I am doing this in the middle of a General Election - and no, it is not an oversight).' At the service of thanksgiving for the Queen’s Diamond Jubilee in 2012 the lawyer opted for a pillar-box red dress, with a fabric corsage on the neckline - in contrast to the more sombre colours surrounding her. Scroll down for video . Meeting and greeting\n",
      "\n",
      "pred sentence: Miriam González Durántez trug heute Abend ein besonders farbenfrohes Ensemble. Sie trug ein rosafarbenes, langes rmelkleid, das mit leuchtenden Blüten bedeckt war. Sie wurde heute Abend bei der LDNY Fashion Show und der WIE-Gala in London fotografiert.\n",
      "\n",
      "real sentence: Nick Cleggs Frau trägt heute Abend bei der Zeremonie in London ein farbenfrohes Ensemble. Im Bild mit Stars wie Daisy Lowe und Kelly Hoppen in der Goldsmiths 'Hall. Leuchtend rosafarbenes, langärmeliges Kleid, das bei der LDNY Show mit leuchtenden Blüten bedeckt war.\n",
      "article: summarize: ger_to_en Raheem Sterling gab am Mittwoch einen aufschlussreichen Einblick in seine Zukunft und beharrte darauf, dass er kein geldgieriger 20-Jähriger sei, obwohl er einen Vertrag in Liverpool im Wert von 100.000 Pfund pro Woche abgelehnt habe. Der englische Flügelspieler verwies stattdessen darauf, dass er die Saison beenden wolle, bevor er weitere Angebote in Betracht ziehe und sich vorerst darauf konzentriere, mit seinem Club Trophäen zu gewinnen. Aber wie viel von dem, was Sterling BBC Sport sagte, können wir glauben? angs Riath Al-Samarrai versucht sich am Dolmetschen. Liverpool-Star Raheem Sterling gab einen aufschlussreichen Einblick in seine Liverpool-Gespräche mit BBC Sport. WAS ER SAID: \"Ich würde nie wollen, dass die Fans schlecht über mich denken, denken, dass ich nur so viel Geld für mich haben will. Ich möchte, dass sie verstehen, dass es in dieser Saison ein bisschen viel für mich war, dass alle jede Minute darüber reden. WAS ER meint: Kann ein Typ seinen Vertrag nicht einfach in Ruhe auslaufen lassen? WAS ER HILFE: \"Es ging nie um Geld. Ich spreche davon, während meiner Karriere Trophäen zu gewinnen. Das ist alles, worüber ich spreche. WAS ER damit meint: Die Saison mit leeren Händen zu beenden, wird der Situation nicht helfen. Sterling sagt, es gehe nicht um Geld, sondern nur um Trophäen - kann es sich Liverpool also leisten, in dieser Saison keine zu gewinnen? WAS ER SAID: \"Ich spreche nicht darüber, wie viele Autos ich fahren werde, wie viele Häuser ich habe. Ich will einfach nur das Beste sein, was ich sein kann. WAS ER meint: Wenn Sie sich fragen, fahre ich einen Mercedes C63 und habe auch einen Range Rover 4x4. Beide sind weiß. WAS ER sagt: Du willst wirklich tagein, tagaus mit Weltklassespielern arbeiten. Es hat natürlich eine kleine Delle hinterlassen, diese beiden Welt\n",
      "\n",
      "pred sentence: Raheem Sterling insists he is not a money-spinning 20-year-old . Liverpool winger has rejected a £100,000-a-week contract at the club . Sterling says he wants to finish the season before considering other offers .\n",
      "\n",
      "real sentence: Raheem Sterling rejected contract offer of £100,000-a-week at Liverpool . Young winger gave revealing interview to the BBC on Wednesday . But what did Sterling mean with some of his statements?\n"
     ]
    }
   ],
   "source": [
    "for i in range(10):\n",
    "    print(get_random_prediction())"
   ]
  },
  {
   "cell_type": "markdown",
   "metadata": {},
   "source": [
    "## Save results to text file"
   ]
  },
  {
   "cell_type": "code",
   "execution_count": 66,
   "metadata": {},
   "outputs": [],
   "source": [
    "result_path = \"../results/t5_cross_lingual_plus_translate_sum_result.txt\"\n",
    "open(result_path, \"w\")\n",
    "for pred in predictions:\n",
    "    with open(result_path, \"a\") as file:\n",
    "        file.write(pred + \"\\n\")"
   ]
  },
  {
   "cell_type": "markdown",
   "metadata": {},
   "source": [
    "## Load save File"
   ]
  },
  {
   "cell_type": "code",
   "execution_count": 67,
   "metadata": {},
   "outputs": [],
   "source": [
    "data_points = []\n",
    "result_path = \"../results/t5_cross_lingual_plus_translate_sum_result.txt\"\n",
    "file = open(result_path, \"r\")\n",
    "for line in file:\n",
    "    data_points.append(line)"
   ]
  },
  {
   "cell_type": "code",
   "execution_count": 68,
   "metadata": {},
   "outputs": [
    {
     "data": {
      "text/plain": [
       "'real sentence: Manager des London Ambulance Service besetzen gerade 225 unbesetzte Stellen. Bewerber alle aus Sydney und Melbourne rekrutiert nach einem Tag der Tests. Jüngstes Beispiel dafür, wie NHS Personal im Ausland rekrutiert, weil es in Großbritannien nicht ausgebildet wird. Krankenhausmanager stellen Chargen von 30 Krankenschwestern ein, die auf Reisen nach Spanien sind. Sanitätern werden 4.500 Pfund goldene Hellos angeboten, wenn sie innerhalb von drei Monaten nach Großbritannien ziehen. Die Manager sind so bestrebt, Stellen zu besetzen, dass 91 Prozent derjenigen, die zu Bewertungen erschienen sind,\\n'"
      ]
     },
     "execution_count": 68,
     "metadata": {},
     "output_type": "execute_result"
    }
   ],
   "source": [
    "data_points[4]"
   ]
  },
  {
   "cell_type": "code",
   "execution_count": 69,
   "metadata": {},
   "outputs": [],
   "source": [
    "class SummaryData():\n",
    "    \n",
    "    def __init__(self):\n",
    "        self.language_tag = ''\n",
    "        self.real_data = ''\n",
    "        self.pred_data = ''        "
   ]
  },
  {
   "cell_type": "code",
   "execution_count": 70,
   "metadata": {},
   "outputs": [
    {
     "data": {
      "text/plain": [
       "{'language_tag': 'ger_to_ger',\n",
       " 'real_data': ' Manager des London Ambulance Service besetzen gerade 225 unbesetzte Stellen. Bewerber alle aus Sydney und Melbourne rekrutiert nach einem Tag der Tests. Jüngstes Beispiel dafür, wie NHS Personal im Ausland rekrutiert, weil es in Großbritannien nicht ausgebildet wird. Krankenhausmanager stellen Chargen von 30 Krankenschwestern ein, die auf Reisen nach Spanien sind. Sanitätern werden 4.500 Pfund goldene Hellos angeboten, wenn sie innerhalb von drei Monaten nach Großbritannien ziehen. Die Manager sind so bestrebt, Stellen zu besetzen, dass 91 Prozent derjenigen, die zu Bewertungen erschienen sind,\\n',\n",
       " 'pred_data': ' Die Rekrutierung erfolgte auf der Grundlage einer Reihe praktischer Vorführungen an Attrappen, einer schriftlichen Prüfung und eines Interviews, das insgesamt zwischen vier und sechs Stunden dauerte. Es ist das jüngste Beispiel dafür, wie der NHS im Ausland rekrutiert, weil er es versäumt hat, ausreichend Personal in Großbritannien auszubilden.\\n'}"
      ]
     },
     "execution_count": 70,
     "metadata": {},
     "output_type": "execute_result"
    }
   ],
   "source": [
    "count = 0\n",
    "summary_data = SummaryData()\n",
    "summary_data_list = []\n",
    "for point in data_points:\n",
    "    count += 1\n",
    "    \n",
    "    if count == 1:\n",
    "        summary_data.language_tag = point.split(\" \")[2]\n",
    "    elif count == 3:\n",
    "        summary_data.pred_data = \": \".join(point.split(\":\")[1:])\n",
    "    elif count == 5:\n",
    "        summary_data.real_data = \": \".join(point.split(\":\")[1:])\n",
    "        summary_data_list.append(summary_data)\n",
    "        summary_data = SummaryData()\n",
    "        count = 0\n",
    "summary_data_list[0].__dict__"
   ]
  },
  {
   "cell_type": "code",
   "execution_count": 71,
   "metadata": {},
   "outputs": [
    {
     "data": {
      "text/plain": [
       "{'en_to_en': <__main__.RougeScore at 0x7ff6cc255748>,\n",
       " 'en_to_ger': <__main__.RougeScore at 0x7ff6cc255fd0>,\n",
       " 'ger_to_en': <__main__.RougeScore at 0x7ff6cc255c18>,\n",
       " 'ger_to_ger': <__main__.RougeScore at 0x7ff6cc2553c8>}"
      ]
     },
     "execution_count": 71,
     "metadata": {},
     "output_type": "execute_result"
    }
   ],
   "source": [
    "rouge_scores_dict = dict()\n",
    "rouge_scores_dict['en_to_en'] = RougeScore()\n",
    "# rouge_scores_dict['en_to_en_trans'] = RougeScore()\n",
    "\n",
    "rouge_scores_dict['en_to_ger'] = RougeScore()\n",
    "rouge_scores_dict['ger_to_en'] = RougeScore()\n",
    "rouge_scores_dict['ger_to_ger'] = RougeScore()\n",
    "# rouge_scores_dict['ger_to_ger_trans'] = RougeScore()\n",
    "\n",
    "rouge_scores_dict"
   ]
  },
  {
   "cell_type": "code",
   "execution_count": 72,
   "metadata": {},
   "outputs": [],
   "source": [
    "for summary_data in summary_data_list:\n",
    "    rouge_scores_dict[summary_data.language_tag](summary_data.real_data, summary_data.pred_data)\n",
    "    "
   ]
  },
  {
   "cell_type": "code",
   "execution_count": 73,
   "metadata": {},
   "outputs": [
    {
     "data": {
      "text/plain": [
       "{'id': 24,\n",
       " 'item_id': 1,\n",
       " 'language_tag': 'en_to_en',\n",
       " 'real_data': 'Beatrice seen watching race on terrace with the Gulf states Crown Prince . Marks 13th holiday since November last year, and fourth in a month . Princess quit her job at Sony Pictures in New York before Christmas . Despite that she is described as working full-time on her fathers website .\\n',\n",
       " 'pred_data': 'Princess Beatrice spotted at Bahrain Grand Prix with long-term boyfriend Dave Clark . Onlooker said 26-year-old was walking behind the Crown Prince of Bahrain . Princes regime accused of violently repressing pro-democracy protests . Sir Jackie Stewart and comedian Rory Bremner watched race from the tower .\\n',\n",
       " 'translated': 'Prinzessin Beatrice beim Großen Preis von Bahrain mit ihrem langjährigen Freund Dave Clark.Beobachter sagten, der 26-Jährige sei hinter dem Kronprinzen von Bahrain hergelaufen.Prinzen-Regime beschuldigt, prodemokratische Proteste gewaltsam zu unterdrücken.Sir Jackie Stewart und Komiker Rory Bremner verfolgten das Rennen vom Tower aus.Es geht um die Frage, wer die Verantwortung trägt.',\n",
       " 'translated_real': 'Beatrice sah Rennen auf der Terrasse mit dem Kronprinzen des Golfstaates. Mark 13. Urlaub seit November letzten Jahres, und vierte in einem Monat. Prinzessin kündigte ihren Job bei Sony Pictures in New York vor Weihnachten. Trotzdem wird sie als Vollzeit-Arbeiterin auf der Website ihres Vaters beschrieben.\\n'}"
      ]
     },
     "execution_count": 73,
     "metadata": {},
     "output_type": "execute_result"
    }
   ],
   "source": [
    "results_ger_trans[0]"
   ]
  },
  {
   "cell_type": "code",
   "execution_count": 74,
   "metadata": {},
   "outputs": [
    {
     "name": "stdout",
     "output_type": "stream",
     "text": [
      "rouge1 = 40.15, 95% confidence [37.90, 42.35]\n",
      "rouge2 = 19.72, 95% confidence [17.71, 21.96]\n",
      "rougeLsum = 37.34, 95% confidence [35.21, 39.48]\n",
      "en_to_en {'rouge1': 40.152332466743346, 'rouge2': 19.72039258791332, 'rougeLsum': 37.34013650154572}\n",
      "\n",
      "rouge1 = 33.56, 95% confidence [31.66, 35.56]\n",
      "rouge2 = 13.92, 95% confidence [12.26, 15.46]\n",
      "rougeLsum = 24.33, 95% confidence [22.74, 26.03]\n",
      "en_to_ger {'rouge1': 33.56388151677695, 'rouge2': 13.91534537250046, 'rougeLsum': 24.332827792341384}\n",
      "\n",
      "rouge1 = 36.43, 95% confidence [34.66, 38.18]\n",
      "rouge2 = 14.53, 95% confidence [13.16, 15.88]\n",
      "rougeLsum = 33.73, 95% confidence [32.05, 35.46]\n",
      "ger_to_en {'rouge1': 36.42991955605362, 'rouge2': 14.531216544033743, 'rougeLsum': 33.72602515298565}\n",
      "\n",
      "rouge1 = 33.30, 95% confidence [31.14, 35.54]\n",
      "rouge2 = 14.80, 95% confidence [12.76, 17.14]\n",
      "rougeLsum = 24.27, 95% confidence [22.21, 26.61]\n",
      "ger_to_ger {'rouge1': 33.299454057900256, 'rouge2': 14.80379056363354, 'rougeLsum': 24.270727077520487}\n",
      "\n"
     ]
    }
   ],
   "source": [
    "for key, rouge_score_item in rouge_scores_dict.items():\n",
    "    print(key, rouge_score_item.result())\n",
    "    print()"
   ]
  },
  {
   "cell_type": "markdown",
   "metadata": {},
   "source": [
    "# Special Example"
   ]
  },
  {
   "cell_type": "code",
   "execution_count": 29,
   "metadata": {},
   "outputs": [],
   "source": [
    "input_text = \"In a world where we have to read and understand a lot of documents automatic text summarization has an obvious demand. To have the option to get a brief summary of a text in your language can be very useful. But would it not be even more useful, if you could have the option to get a summary of a text in a language, you do not understand, in your wished language? Sometimes we don’t want an exact translation, sometimes we just want to know a brief overview of a text in a language we don’t understand. That is the case where Cross-Lingual summarization would be prefered over normal translation. Cross-Lingual summarization can give you a short overview of a text in a language you do not understand.\""
   ]
  },
  {
   "cell_type": "code",
   "execution_count": 30,
   "metadata": {},
   "outputs": [],
   "source": [
    "input_text_test = \"The dramatic growth of data on the internet leads to the need to automatically process and understand the data. A big part of the data is text data in many languages. This overwhelming amount of information causes a demand for automatic text summarization and other Natural Language Processing (NLP) taks.\\n The Field of NLP had some high points in the last couple of years, when the field got revolutionized by Neural Language Models. With publications like Attention is all you need \\cite{vaswani2017attention} or GPT3\\cite{brown2020language} the limits of the field are pushed even further. Because of large data corpuses, scraped from the internet, and advanced models which contain up to 175 Billion parameters like the GPT3 it is possible to generate text, answer questions, summarize text, translate or many other things.\\n In this master thesis we will take a deeper look into summarization. There are extractive and abstractive techniques to summarization. The extractive summary technique tries to find subsets of sentences, which representante the original text well and uses them to summarize the original text \\cite{allahyari2017text}. The abstractive technique uses advanced language models to generate a new text, which should be much shorter than the original one, contain all the key information and preserve the overall meaning.\\n In this master thesis we will use the abstractive technique, because it is closer to a human-like interpretation. It combines the ability to understand what the context of a given text is and the ability to generate fluent and grammatically correct text to that given context.\\n The summarization in one language is an interesting topic but cross lingual approach is even more interesting. The goal of Cross Lingual Summarization is to summarize a text from one language into another language. It combines the ability to summarize and the ability to translate. Where state of the art models perform well on normal summarization, it will be interesting to see how well they perform doing Cross-Lingual Summarization.\""
   ]
  },
  {
   "cell_type": "code",
   "execution_count": 31,
   "metadata": {},
   "outputs": [],
   "source": [
    "x = tokenizer.encode_plus(\"summarize: en_to_ger \" + input_text, max_length=512, return_tensors=\"tf\", padding='max_length', truncation=True)\n",
    "input_ids = tf.reshape(x['input_ids'], (1,-1))\n",
    "attention_mask = tf.reshape(x['attention_mask'], (1,-1))"
   ]
  },
  {
   "cell_type": "code",
   "execution_count": 32,
   "metadata": {},
   "outputs": [
    {
     "name": "stdout",
     "output_type": "stream",
     "text": [
      "(1, 512) (1, 512)\n"
     ]
    }
   ],
   "source": [
    "print(input_ids.shape, attention_mask.shape)"
   ]
  },
  {
   "cell_type": "code",
   "execution_count": 33,
   "metadata": {},
   "outputs": [],
   "source": [
    "summaries = model.generate( \n",
    "    input_ids=input_ids, \n",
    "    attention_mask=attention_mask\n",
    ")"
   ]
  },
  {
   "cell_type": "code",
   "execution_count": 34,
   "metadata": {},
   "outputs": [
    {
     "data": {
      "text/plain": [
       "<tf.Tensor: shape=(1, 74), dtype=int32, numpy=\n",
       "array([[    0,    86,   645,  3779,     6,    16,    74,   558,  2584,\n",
       "            3, 20127,    15,   110,    35,    64, 19163,  3766,     6,\n",
       "          229, 15820,    15,  5027,     7,    63,    29, 19712,   266,\n",
       "        30410,    15,  5222,  6367,     5,  4098,  6199,     3,    15,\n",
       "            7,   311, 30001,    49,     6,  1301,   292,    67,  7251,\n",
       "         8219,    29,     6,   266, 11068, 14449,   266,     7,  5027,\n",
       "           15,     7,    16,   645, 16933,   170,  8837,     6,    67,\n",
       "          292,   311, 19163,     6,    16,  1197,    52, 24054,    29,\n",
       "        16933,    58]], dtype=int32)>"
      ]
     },
     "execution_count": 34,
     "metadata": {},
     "output_type": "execute_result"
    }
   ],
   "source": [
    "summaries"
   ]
  },
  {
   "cell_type": "code",
   "execution_count": 35,
   "metadata": {},
   "outputs": [
    {
     "data": {
      "text/plain": [
       "'<pad> In einer Welt, in der wir viele Dokumente lesen und verstehen müssen, ist automatische Textsynthese eine offensichtliche Forderung. Aber wäre es nicht nützlicher, wenn Sie die Möglichkeit hätten, eine Zusammenfassung eines Textes in einer Sprache zu bekommen, die Sie nicht verstehen, in Ihrer gewünschten Sprache?'"
      ]
     },
     "execution_count": 35,
     "metadata": {},
     "output_type": "execute_result"
    }
   ],
   "source": [
    "tokenizer.decode(summaries[0])"
   ]
  },
  {
   "cell_type": "code",
   "execution_count": null,
   "metadata": {},
   "outputs": [],
   "source": []
  }
 ],
 "metadata": {
  "kernelspec": {
   "display_name": "Python 3",
   "language": "python",
   "name": "python3"
  },
  "language_info": {
   "codemirror_mode": {
    "name": "ipython",
    "version": 3
   },
   "file_extension": ".py",
   "mimetype": "text/x-python",
   "name": "python",
   "nbconvert_exporter": "python",
   "pygments_lexer": "ipython3",
   "version": "3.6.9"
  }
 },
 "nbformat": 4,
 "nbformat_minor": 4
}
