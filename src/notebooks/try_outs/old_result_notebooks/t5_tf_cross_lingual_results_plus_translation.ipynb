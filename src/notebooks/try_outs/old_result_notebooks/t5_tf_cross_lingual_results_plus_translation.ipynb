{
 "cells": [
  {
   "cell_type": "markdown",
   "metadata": {},
   "source": [
    "# Cross Lingual summarization CNN Daily Mail Results\n",
    "We will try out the trained t5 network from the tpu"
   ]
  },
  {
   "cell_type": "code",
   "execution_count": 1,
   "metadata": {},
   "outputs": [],
   "source": [
    "import tensorflow as tf\n",
    "import pandas as pd\n",
    "from transformers import T5Tokenizer, TFT5ForConditionalGeneration\n",
    "import time\n",
    "from rouge_score import rouge_scorer\n",
    "from rouge_score import scoring"
   ]
  },
  {
   "cell_type": "code",
   "execution_count": 2,
   "metadata": {},
   "outputs": [],
   "source": [
    "if not tf.config.list_physical_devices('GPU'):\n",
    "    print(\"Change runtime to \\\"GPU runtime\\\" for faster computations\")"
   ]
  },
  {
   "cell_type": "code",
   "execution_count": 3,
   "metadata": {},
   "outputs": [
    {
     "name": "stdout",
     "output_type": "stream",
     "text": [
      "WARNING:tensorflow:From <ipython-input-3-17bb7203622b>:1: is_gpu_available (from tensorflow.python.framework.test_util) is deprecated and will be removed in a future version.\n",
      "Instructions for updating:\n",
      "Use `tf.config.list_physical_devices('GPU')` instead.\n"
     ]
    },
    {
     "data": {
      "text/plain": [
       "True"
      ]
     },
     "execution_count": 3,
     "metadata": {},
     "output_type": "execute_result"
    }
   ],
   "source": [
    "tf.test.is_gpu_available()"
   ]
  },
  {
   "cell_type": "markdown",
   "metadata": {},
   "source": [
    "## Params"
   ]
  },
  {
   "cell_type": "code",
   "execution_count": 4,
   "metadata": {},
   "outputs": [],
   "source": [
    "BATCH_SIZE = 8\n",
    "\n",
    "SHUFFEL_SIZE = 1024\n",
    "\n",
    "learning_rate = 3e-5\n",
    "\n",
    "model_size = \"t5-base\"\n",
    "\n",
    "MAX_ARTICLE_LEN = 512\n",
    "\n",
    "MAX_HIGHLIGHT_LEN = 150"
   ]
  },
  {
   "cell_type": "markdown",
   "metadata": {},
   "source": [
    "## Model"
   ]
  },
  {
   "cell_type": "code",
   "execution_count": 5,
   "metadata": {},
   "outputs": [
    {
     "data": {
      "application/vnd.jupyter.widget-view+json": {
       "model_id": "f3a37e672d5a4662a5175659bab031a0",
       "version_major": 2,
       "version_minor": 0
      },
      "text/plain": [
       "Downloading:   0%|          | 0.00/792k [00:00<?, ?B/s]"
      ]
     },
     "metadata": {},
     "output_type": "display_data"
    },
    {
     "data": {
      "application/vnd.jupyter.widget-view+json": {
       "model_id": "bf9605ad81494b498ea7510f7d92255c",
       "version_major": 2,
       "version_minor": 0
      },
      "text/plain": [
       "Downloading:   0%|          | 0.00/1.20k [00:00<?, ?B/s]"
      ]
     },
     "metadata": {},
     "output_type": "display_data"
    },
    {
     "data": {
      "application/vnd.jupyter.widget-view+json": {
       "model_id": "d31b8c8920674fc0af6127362987b8a5",
       "version_major": 2,
       "version_minor": 0
      },
      "text/plain": [
       "Downloading:   0%|          | 0.00/892M [00:00<?, ?B/s]"
      ]
     },
     "metadata": {},
     "output_type": "display_data"
    },
    {
     "name": "stderr",
     "output_type": "stream",
     "text": [
      "All model checkpoint layers were used when initializing TFT5ForConditionalGeneration.\n",
      "\n",
      "All the layers of TFT5ForConditionalGeneration were initialized from the model checkpoint at t5-base.\n",
      "If your task is similar to the task the model of the checkpoint was trained on, you can already use TFT5ForConditionalGeneration for predictions without further training.\n"
     ]
    }
   ],
   "source": [
    "tokenizer = T5Tokenizer.from_pretrained(model_size)\n",
    "model = TFT5ForConditionalGeneration.from_pretrained(model_size)\n",
    "\n",
    "task_specific_params = model.config.task_specific_params\n",
    "if task_specific_params is not None:\n",
    "    model.config.update(task_specific_params.get(\"summarization\", {}))\n",
    "    \n",
    "pad_token_id = tokenizer.pad_token_id"
   ]
  },
  {
   "cell_type": "code",
   "execution_count": 6,
   "metadata": {},
   "outputs": [
    {
     "name": "stdout",
     "output_type": "stream",
     "text": [
      "Model: \"tf_t5for_conditional_generation\"\n",
      "_________________________________________________________________\n",
      "Layer (type)                 Output Shape              Param #   \n",
      "=================================================================\n",
      "shared (TFSharedEmbeddings)  multiple                  24674304  \n",
      "_________________________________________________________________\n",
      "encoder (TFT5MainLayer)      multiple                  84954240  \n",
      "_________________________________________________________________\n",
      "decoder (TFT5MainLayer)      multiple                  113275008 \n",
      "=================================================================\n",
      "Total params: 222,903,552\n",
      "Trainable params: 222,903,552\n",
      "Non-trainable params: 0\n",
      "_________________________________________________________________\n"
     ]
    }
   ],
   "source": [
    "val_loss = tf.keras.metrics.Mean(name='val_loss')\n",
    "val_accuracy = tf.keras.metrics.SparseCategoricalAccuracy(name='val_accuracy')\n",
    "\n",
    "model.summary()"
   ]
  },
  {
   "cell_type": "code",
   "execution_count": 8,
   "metadata": {},
   "outputs": [
    {
     "data": {
      "text/plain": [
       "<tensorflow.python.training.tracking.util.CheckpointLoadStatus at 0x7f81f85ceeb8>"
      ]
     },
     "execution_count": 8,
     "metadata": {},
     "output_type": "execute_result"
    }
   ],
   "source": [
    "ckpt_file = \"../models/checkpoint_cross_lingual_plus_translation.ckpt\"\n",
    "model.load_weights(ckpt_file)"
   ]
  },
  {
   "cell_type": "markdown",
   "metadata": {},
   "source": [
    "## Dataset\n",
    "We will load the translated CNN Daily Mail dataset from the tfrecords files"
   ]
  },
  {
   "cell_type": "code",
   "execution_count": 1,
   "metadata": {},
   "outputs": [
    {
     "ename": "NameError",
     "evalue": "name 'tf' is not defined",
     "output_type": "error",
     "traceback": [
      "\u001b[0;31m---------------------------------------------------------------------------\u001b[0m",
      "\u001b[0;31mNameError\u001b[0m                                 Traceback (most recent call last)",
      "\u001b[0;32m<ipython-input-1-a165e2c4406f>\u001b[0m in \u001b[0;36m<module>\u001b[0;34m\u001b[0m\n\u001b[0;32m----> 1\u001b[0;31m \u001b[0men_de_prefix\u001b[0m \u001b[0;34m=\u001b[0m \u001b[0mtf\u001b[0m\u001b[0;34m.\u001b[0m\u001b[0mreshape\u001b[0m\u001b[0;34m(\u001b[0m\u001b[0mtokenizer\u001b[0m\u001b[0;34m(\u001b[0m\u001b[0;34m\"summarize: en_to_de \"\u001b[0m\u001b[0;34m,\u001b[0m \u001b[0mreturn_tensors\u001b[0m\u001b[0;34m=\u001b[0m\u001b[0;34m\"tf\"\u001b[0m\u001b[0;34m)\u001b[0m\u001b[0;34m.\u001b[0m\u001b[0minput_ids\u001b[0m\u001b[0;34m,\u001b[0m \u001b[0;34m(\u001b[0m\u001b[0;34m-\u001b[0m\u001b[0;36m1\u001b[0m\u001b[0;34m,\u001b[0m\u001b[0;34m)\u001b[0m\u001b[0;34m)\u001b[0m\u001b[0;34m\u001b[0m\u001b[0;34m\u001b[0m\u001b[0m\n\u001b[0m\u001b[1;32m      2\u001b[0m \u001b[0mde_en_prefix\u001b[0m \u001b[0;34m=\u001b[0m \u001b[0mtf\u001b[0m\u001b[0;34m.\u001b[0m\u001b[0mreshape\u001b[0m\u001b[0;34m(\u001b[0m\u001b[0mtokenizer\u001b[0m\u001b[0;34m(\u001b[0m\u001b[0;34m\"summarize: de_to_en \"\u001b[0m\u001b[0;34m,\u001b[0m \u001b[0mreturn_tensors\u001b[0m\u001b[0;34m=\u001b[0m\u001b[0;34m\"tf\"\u001b[0m\u001b[0;34m)\u001b[0m\u001b[0;34m.\u001b[0m\u001b[0minput_ids\u001b[0m\u001b[0;34m,\u001b[0m \u001b[0;34m(\u001b[0m\u001b[0;34m-\u001b[0m\u001b[0;36m1\u001b[0m\u001b[0;34m,\u001b[0m\u001b[0;34m)\u001b[0m\u001b[0;34m)\u001b[0m\u001b[0;34m\u001b[0m\u001b[0;34m\u001b[0m\u001b[0m\n\u001b[1;32m      3\u001b[0m \u001b[0men_en_prefix\u001b[0m \u001b[0;34m=\u001b[0m \u001b[0mtf\u001b[0m\u001b[0;34m.\u001b[0m\u001b[0mreshape\u001b[0m\u001b[0;34m(\u001b[0m\u001b[0mtokenizer\u001b[0m\u001b[0;34m(\u001b[0m\u001b[0;34m\"summarize: en_to_en \"\u001b[0m\u001b[0;34m,\u001b[0m \u001b[0mreturn_tensors\u001b[0m\u001b[0;34m=\u001b[0m\u001b[0;34m\"tf\"\u001b[0m\u001b[0;34m)\u001b[0m\u001b[0;34m.\u001b[0m\u001b[0minput_ids\u001b[0m\u001b[0;34m,\u001b[0m \u001b[0;34m(\u001b[0m\u001b[0;34m-\u001b[0m\u001b[0;36m1\u001b[0m\u001b[0;34m,\u001b[0m\u001b[0;34m)\u001b[0m\u001b[0;34m)\u001b[0m\u001b[0;34m\u001b[0m\u001b[0;34m\u001b[0m\u001b[0m\n\u001b[1;32m      4\u001b[0m \u001b[0mde_de_prefix\u001b[0m \u001b[0;34m=\u001b[0m \u001b[0mtf\u001b[0m\u001b[0;34m.\u001b[0m\u001b[0mreshape\u001b[0m\u001b[0;34m(\u001b[0m\u001b[0mtokenizer\u001b[0m\u001b[0;34m(\u001b[0m\u001b[0;34m\"summarize: de_to_de \"\u001b[0m\u001b[0;34m,\u001b[0m \u001b[0mreturn_tensors\u001b[0m\u001b[0;34m=\u001b[0m\u001b[0;34m\"tf\"\u001b[0m\u001b[0;34m)\u001b[0m\u001b[0;34m.\u001b[0m\u001b[0minput_ids\u001b[0m\u001b[0;34m,\u001b[0m \u001b[0;34m(\u001b[0m\u001b[0;34m-\u001b[0m\u001b[0;36m1\u001b[0m\u001b[0;34m,\u001b[0m\u001b[0;34m)\u001b[0m\u001b[0;34m)\u001b[0m\u001b[0;34m\u001b[0m\u001b[0;34m\u001b[0m\u001b[0m\n\u001b[1;32m      5\u001b[0m \u001b[0mtrans_en_de_prefix\u001b[0m \u001b[0;34m=\u001b[0m \u001b[0mtf\u001b[0m\u001b[0;34m.\u001b[0m\u001b[0mreshape\u001b[0m\u001b[0;34m(\u001b[0m\u001b[0mtokenizer\u001b[0m\u001b[0;34m(\u001b[0m\u001b[0;34m\"translate: en_to_de \"\u001b[0m\u001b[0;34m,\u001b[0m \u001b[0mreturn_tensors\u001b[0m\u001b[0;34m=\u001b[0m\u001b[0;34m\"tf\"\u001b[0m\u001b[0;34m)\u001b[0m\u001b[0;34m.\u001b[0m\u001b[0minput_ids\u001b[0m\u001b[0;34m,\u001b[0m \u001b[0;34m(\u001b[0m\u001b[0;34m-\u001b[0m\u001b[0;36m1\u001b[0m\u001b[0;34m,\u001b[0m\u001b[0;34m)\u001b[0m\u001b[0;34m)\u001b[0m\u001b[0;34m\u001b[0m\u001b[0;34m\u001b[0m\u001b[0m\n",
      "\u001b[0;31mNameError\u001b[0m: name 'tf' is not defined"
     ]
    }
   ],
   "source": [
    "en_de_prefix = tf.reshape(tokenizer(\"summarize: en_to_de \", return_tensors=\"tf\").input_ids, (-1,))\n",
    "de_en_prefix = tf.reshape(tokenizer(\"summarize: de_to_en \", return_tensors=\"tf\").input_ids, (-1,))\n",
    "en_en_prefix = tf.reshape(tokenizer(\"summarize: en_to_en \", return_tensors=\"tf\").input_ids, (-1,))\n",
    "de_de_prefix = tf.reshape(tokenizer(\"summarize: de_to_de \", return_tensors=\"tf\").input_ids, (-1,))\n",
    "trans_en_de_prefix = tf.reshape(tokenizer(\"translate: en_to_de \", return_tensors=\"tf\").input_ids, (-1,))\n",
    "trans_de_en_prefix = tf.reshape(tokenizer(\"translate: de_to_en \", return_tensors=\"tf\").input_ids, (-1,))"
   ]
  },
  {
   "cell_type": "code",
   "execution_count": 10,
   "metadata": {},
   "outputs": [
    {
     "data": {
      "text/plain": [
       "9"
      ]
     },
     "execution_count": 10,
     "metadata": {},
     "output_type": "execute_result"
    }
   ],
   "source": [
    "prefix_length = de_de_prefix.shape[0]\n",
    "prefix_length"
   ]
  },
  {
   "cell_type": "code",
   "execution_count": 11,
   "metadata": {},
   "outputs": [],
   "source": [
    "import numpy as np\n",
    "MAX_ARTICLE_LEN = 512\n",
    "MAX_HIGHLIGHT_LEN = 150\n",
    "GLOBAL_BATCH_SIZE = 8\n",
    "\n",
    "def get_tfrecord_dataset(file_name):\n",
    "    features = {\n",
    "        'ger_x': tf.io.FixedLenFeature([MAX_ARTICLE_LEN-8], tf.int64),\n",
    "        'ger_x_mask': tf.io.FixedLenFeature([MAX_ARTICLE_LEN-8], tf.int64),\n",
    "        'ger_y': tf.io.FixedLenFeature([MAX_HIGHLIGHT_LEN], tf.int64),\n",
    "        'ger_y_ids': tf.io.FixedLenFeature([MAX_HIGHLIGHT_LEN], tf.int64),\n",
    "\n",
    "        'en_x': tf.io.FixedLenFeature([MAX_ARTICLE_LEN-8], tf.int64),\n",
    "        'en_x_mask': tf.io.FixedLenFeature([MAX_ARTICLE_LEN-8], tf.int64),\n",
    "        'en_y': tf.io.FixedLenFeature([MAX_HIGHLIGHT_LEN], tf.int64),\n",
    "        'en_y_ids': tf.io.FixedLenFeature([MAX_HIGHLIGHT_LEN], tf.int64),\n",
    "    }\n",
    "\n",
    "    dataset = tf.data.TFRecordDataset(f\"../data/{file_name}.tfrecord\")\n",
    "\n",
    "    # Taken from the TensorFlow models repository: https://github.com/tensorflow/models/blob/befbe0f9fe02d6bc1efb1c462689d069dae23af1/official/nlp/bert/input_pipeline.py#L24\n",
    "    def decode_record(record, features):\n",
    "        \"\"\"Decodes a record to a TensorFlow example.\"\"\"\n",
    "        example = tf.io.parse_single_example(record, features)\n",
    "\n",
    "        # tf.Example only supports tf.int64, but the TPU only supports tf.int32.\n",
    "        # So cast all int64 to int32.\n",
    "        for name in list(example.keys()):\n",
    "            t = example[name]\n",
    "            if t.dtype == tf.int64:\n",
    "                t = tf.cast(t, tf.int32)\n",
    "            example[name] = t\n",
    "        return example\n",
    "\n",
    "\n",
    "    def select_data_from_record(record):\n",
    "        return [\n",
    "            tf.strided_slice(tf.concat([de_de_prefix, record['ger_x']], axis=0), [0], [-1]), tf.concat([tf.ones(8, dtype=tf.int32), record['ger_x_mask']], axis=0), record['ger_y'], record['ger_y_ids'],\n",
    "            tf.strided_slice(tf.concat([en_de_prefix, record['en_x']], axis=0), [0], [-1]), tf.concat([tf.ones(8, dtype=tf.int32), record['en_x_mask']], axis=0), record['ger_y'], record['ger_y_ids'],\n",
    "            tf.strided_slice(tf.concat([de_en_prefix, record['ger_x']], axis=0), [0], [-1]), tf.concat([tf.ones(8, dtype=tf.int32), record['ger_x_mask']], axis=0), record['en_y'], record['en_y_ids'],\n",
    "            tf.strided_slice(tf.concat([en_en_prefix, record['en_x']], axis=0), [0], [-1]), tf.concat([tf.ones(8, dtype=tf.int32), record['en_x_mask']], axis=0), record['en_y'], record['en_y_ids'],\n",
    "        ]\n",
    "    \n",
    "    dataset = dataset.map(lambda record: decode_record(record, features))\n",
    "    dataset = dataset.map(select_data_from_record)\n",
    "    dataset = dataset.shuffle(100)\n",
    "    return dataset.batch(GLOBAL_BATCH_SIZE)\n",
    "\n",
    "test_ds = get_tfrecord_dataset(\"corss_lingual_test_cnn_daily_mail\")"
   ]
  },
  {
   "cell_type": "code",
   "execution_count": 12,
   "metadata": {},
   "outputs": [
    {
     "name": "stdout",
     "output_type": "stream",
     "text": [
      "(8, 512) (8, 512) (8, 150) (8, 150)\n",
      "(8, 512) (8, 512) (8, 150) (8, 150)\n",
      "(8, 512) (8, 512) (8, 150) (8, 150)\n",
      "(8, 512) (8, 512) (8, 150) (8, 150)\n"
     ]
    }
   ],
   "source": [
    "def get_summaries(ds):\n",
    "    for i in range(1,5):\n",
    "        yield ds[(i-1)*4], ds[i*4-3], ds[i*4-2], ds[i*4-1]\n",
    "\n",
    "\n",
    "for ds in test_ds.take(1):\n",
    "    for i in get_summaries(ds):\n",
    "        print(i[0].shape, i[1].shape, i[2].shape, i[3].shape)"
   ]
  },
  {
   "cell_type": "markdown",
   "metadata": {},
   "source": [
    "## Evaluation\n",
    "### Define Rouge Score"
   ]
  },
  {
   "cell_type": "code",
   "execution_count": 14,
   "metadata": {},
   "outputs": [],
   "source": [
    "class RougeScore:\n",
    "    '''\n",
    "    mostly from https://github.com/google-research/text-to-text-transfer-transformer/blob/master/t5/evaluation/metrics.py \n",
    "    '''\n",
    "    \n",
    "    def __init__(self, score_keys=None)-> None:\n",
    "        super().__init__()\n",
    "        if score_keys is None:  \n",
    "            self.score_keys = [\"rouge1\", \"rouge2\", \"rougeLsum\"]\n",
    "        \n",
    "        self.scorer = rouge_scorer.RougeScorer(self.score_keys)\n",
    "        self.aggregator = scoring.BootstrapAggregator()\n",
    "        \n",
    "        \n",
    "    @staticmethod\n",
    "    def prepare_summary(summary):\n",
    "            # Make sure the summary is not bytes-type\n",
    "            # Add newlines between sentences so that rougeLsum is computed correctly.\n",
    "            summary = summary.replace(\" . \", \" .\\n\")\n",
    "            return summary\n",
    "    \n",
    "    def __call__(self, target, prediction):\n",
    "        \"\"\"Computes rouge score.''\n",
    "        Args:\n",
    "        targets: string\n",
    "        predictions: string\n",
    "        \"\"\"\n",
    "\n",
    "        target = self.prepare_summary(target)\n",
    "        prediction = self.prepare_summary(prediction)\n",
    "        \n",
    "        self.aggregator.add_scores(self.scorer.score(target=target, prediction=prediction))\n",
    "\n",
    "        return \n",
    "    \n",
    "    def reset_states(self):\n",
    "        self.rouge_list = []\n",
    "\n",
    "    def result(self):\n",
    "        result = self.aggregator.aggregate()\n",
    "        \n",
    "        for key in self.score_keys:\n",
    "            score_text = \"%s = %.2f, 95%% confidence [%.2f, %.2f]\"%(\n",
    "                key,\n",
    "                result[key].mid.fmeasure*100,\n",
    "                result[key].low.fmeasure*100,\n",
    "                result[key].high.fmeasure*100\n",
    "            )\n",
    "            print(score_text)\n",
    "        \n",
    "        return {key: result[key].mid.fmeasure*100 for key in self.score_keys}"
   ]
  },
  {
   "cell_type": "markdown",
   "metadata": {},
   "source": [
    "### Compute Summaries"
   ]
  },
  {
   "cell_type": "code",
   "execution_count": 37,
   "metadata": {},
   "outputs": [
    {
     "name": "stdout",
     "output_type": "stream",
     "text": [
      "0 : time genreate batch: 15.252158188819886\n",
      "10 : time genreate batch: 165.11613590717315\n",
      "20 : time genreate batch: 165.9109206199646\n"
     ]
    }
   ],
   "source": [
    "predictions = []\n",
    "start_time = time.time()\n",
    "\n",
    "for i, ds_item in enumerate(test_ds): \n",
    "    for (input_ids, input_mask, y, y_ids) in get_summaries(ds_item):\n",
    "        summaries = model.generate(\n",
    "            input_ids=input_ids, \n",
    "            attention_mask=input_mask, \n",
    "            num_beams=4, \n",
    "            length_penalty=0.6,\n",
    "            early_stopping=True, \n",
    "            max_length=150\n",
    "        )\n",
    "\n",
    "        articles = [tokenizer.decode(g, skip_special_tokens=True, clean_up_tokenization_spaces=False) for g in input_ids]\n",
    "\n",
    "        pred = [tokenizer.decode(g, skip_special_tokens=True, clean_up_tokenization_spaces=False) for g in summaries]\n",
    "        real = [tokenizer.decode(g, skip_special_tokens=True, clean_up_tokenization_spaces=False) for g in y]\n",
    "    \n",
    "        for pred_sent, real_sent, article_sent in zip(pred, real, articles):\n",
    "            predictions.append(str(\"article: \" + article_sent + \"\\n\\npred sentence: \" + pred_sent + \"\\n\\nreal sentence: \" + real_sent))\n",
    "    \n",
    "    if (i % 10) == 0:\n",
    "        elapsed = (time.time() - start_time) / 10\n",
    "        print(i,\": time genreate batch:\", elapsed)\n",
    "        start_time = time.time()\n",
    "    if i > 20:\n",
    "        # otherwise it will take ages\n",
    "        break\n",
    "\n",
    "\n",
    "# rouge_score.result()"
   ]
  },
  {
   "cell_type": "markdown",
   "metadata": {},
   "source": [
    "### Lets have a look at some of these predicted summaries"
   ]
  },
  {
   "cell_type": "code",
   "execution_count": 38,
   "metadata": {},
   "outputs": [],
   "source": [
    "import numpy as np\n",
    "len_predictions = len(predictions)\n",
    "\n",
    "def get_random_prediction():\n",
    "    return predictions[np.random.randint(len_predictions)]"
   ]
  },
  {
   "cell_type": "code",
   "execution_count": 39,
   "metadata": {
    "scrolled": true
   },
   "outputs": [
    {
     "name": "stdout",
     "output_type": "stream",
     "text": [
      "article: summarize: ger_to_en Marion \"Suge\" Knight wurde wegen eines nicht näher beschriebenen medizinischen Notfalls ins Krankenhaus gebracht, nachdem ein Richter am Donnerstag entschieden hatte, dass er sich wegen Mordes und versuchten Mordes vor Gericht verantworten muss. Der ehemalige Rap-Musikmogul hatte im Januar mit seinem Pickup zwei Männer angefahren, einen getötet und den anderen schwer verletzt. Die Sprecherin des Sheriffs von Los Angeles, Nicole Nishida, sagte, Knight sei vom Gerichtsgebäude in der Innenstadt in ein Krankenhaus gebracht worden. Weitere Details könnten nicht veröffentlicht werden, sagte sie. Die Eltern von Suge Knight (im Bild links) und seiner Freundin (rechts) trösten sich gegenseitig vor dem Gerichtsgebäude in Los Angeles, nachdem sie am Donnerstag erfahren hatten, dass er sich wegen Mordes vor Gericht verantworten muss. Richter Ronald Coen am Obersten Gerichtshof fällte das Urteil am Donnerstag, nachdem er eine Anhörung abgeschlossen hatte, die sich stark auf Aussagen von Cle Bone' Sloan konzentrierte, der vor einem Compton-Burger-Stand in Los Angeles getroffen wurde. Der Richter reduzierte auch die Kaution von 25 Millionen Dollar auf 10 Millionen Dollar. Am Donnerstagmorgen verließ Knight nach der Anhörung das Gericht. Eine Nachricht an Knights Anwalt Matt Fletcher wurde nicht umgehend zurückgeschickt. Sloan sagte den Ermittlern, er habe Knight angegriffen, sagte aber am Montag aus, er erinnere sich nicht an den Kampf und wolle kein \"Schisser\" sein. Die Staatsanwälte spielten Sloans Aussage der Polizei vor, die eine klare, detaillierte Darstellung der Ereignisse am 29. Januar bot, die zu der tödlichen Begegnung führten. Die Behörden gehen davon aus, dass Knight absichtlich auf die Männer einschlug und dabei Terry Carter, 55, tötete. Die Eltern von Suge Knight verließen am Donnerstag das Gerichtsgebäude in Los Angeles, nachdem ein Richter entschieden hatte, dass ihr Sohn wegen Mordes und Mordversuchs vor Gericht stehen wird. Die älteste Tochter des Opfers\n",
      "\n",
      "pred sentence: Marion \"Suge\" Knight was taken to a hospital for an unspecified medical emergency . The former rap mogul had struck two men in January, killing one and seriously injuring the other . Suge Knight's parents left the Los Angeles courthouse on Thursday morning .\n",
      "\n",
      "real sentence: LA judge reduced bail from $25 million to $10 million for rap producer . On Thursday morning, Knight walked out of court after the hearing . Authorities contend Knight intentionally hit the men, killing Terry Carter, 55, and seriously injuring Cle Bone Sloan . Knight, 49, was a key player in the gangster rap scene that flourished in the 1990s, and his label once listed Dr Dre, Tupac Shakur and Snoop Dogg .\n"
     ]
    }
   ],
   "source": [
    "print(get_random_prediction())"
   ]
  },
  {
   "cell_type": "code",
   "execution_count": 40,
   "metadata": {},
   "outputs": [
    {
     "name": "stdout",
     "output_type": "stream",
     "text": [
      "article: summarize: en_to_ger Ed Miliband has overtaken David Cameron as the most popular political leader for the first time. In a shock new poll that will send shockwaves through Downing Street, the Labour leader has jumped ahead of the Prime Minister in personal approval ratings. The Labour Party has also taken a commanding four point lead over the Tories with just 28 days until polling day, according to the pollsters Survation. Labour leader Ed Miliband has jumped ahead of the Prime Minister in personal approval ratings, a Survation poll has revealed . The revelation comes in the wake of a furious political row over the Labour leader’s personal character – after the Defence Secretary Michael Fallon said Mr Miliband could stab Britain in the back like he did to his brother. Mr Miliband responded by accusing the Tories of dragging the election campaign ‘into the gutter’. The Tories have pinned much of their election hopes on turning the campaign into a straight choice between Mr Cameron and the Labour leader. But the campaign could backfire if Mr Miliband overtakes the Prime Minister in the polls. According to tonight’s Survation poll for the Daily Mirror, with less than a month until the general election, Labour has opened up a four-point gap over the Tories. Labour is up 2 points on 35, the Conservatives down one to 31. Nigel Farage’s Ukip, meanwhile, are down three to 15 with the Lib Dems still struggling on just 9 per cent. The SNP and the Greens are on 4 per cent each. It is the biggest Labour lead in a Survation poll since February and was conducted after the party announced plans to scrap a ‘tax loophole’ used by wealthy ‘non doms’ to lower their tax bills. With less than a month until the general election, Labour has opened up a four-point gap over the Tories. The Tories have pinned much of their election hopes on turning the campaign into a straight choice between Mr Cameron and the Labour leader . According to tonight’s poll, nearly seven out of ten voters back Mr Miliband’s proposal to scrap the non dom tax status. Four out of 10 voters ‘strongly’ support the move – with just 14 per cent opposed. The poll\n",
      "\n",
      "pred sentence: Der Labour-Chef ist in der persönlichen Zustimmungsrate vor dem Premierminister gesprungen. Die Partei hat auch einen beherrschenden Vier-Punkte-Vorsprung über die Tories. Die Enthüllung kommt im Gefolge eines wütenden politischen Streits über den persönlichen Charakter des Labour-Führers.\n",
      "\n",
      "real sentence: Miliband überholt David Cameron als beliebtester politischer Führer. Es ist das erste Mal, dass der Labour-Chef in den Zustimmungsraten vorn liegt.\n"
     ]
    }
   ],
   "source": [
    "print(get_random_prediction())"
   ]
  },
  {
   "cell_type": "code",
   "execution_count": 41,
   "metadata": {},
   "outputs": [
    {
     "name": "stdout",
     "output_type": "stream",
     "text": [
      "article: summarize: en_to_ger Voters are still in the dark' about the scale and depth of spending cuts being planned by all the main parties with just two weeks until polling day, economic experts warned today. Analysts from the Institute for Fiscal Studies said none of the major parties had given 'anything like full details' on how they will tackle the nations' debts after the election. The Tories were accused of giving 'no detail' about their deficit reduction plan, which relies on £30billion of cuts, while Labour has left the door open to borrowing an extra £26billion-a-year. Scroll down for video . The Institute for Fiscal Studies analysed the policies of all the main parties to see how their policies would increase borrowing . The IFS warned that the promise of tackling the deficit in the next Parliament is based on 'almost entirely unspecified spending cuts and tax increases'. The think-tank reached its conclusions after a detailed study of the party manifestos ahead of May's General Election. It accused Tory Chancellor George Osborne and his Labour opponent Ed Balls of failing to spell out exactly where the axe will fall. IFS deputy director Carl Emmerson said: 'There are genuinely big differences between the main parties' fiscal plans. 'The electorate has a real choice, although it can at best see only the broad outlines of that choice. 'Conservative plans involve a significantly larger reduction in borrowing and debt than Labour plans. 'But they are predicated on substantial and almost entirely unspecified spending cuts and tax increases. 'While Labour has been considerably less clear about its overall fiscal ambition, its stated position appears to be consistent with little in the way of further spending cuts after this year.' Chancellor George Osborne and his Labour opponent Ed Balls are accused of not spelling out how they will tackle the deficit . George Osborne received a pre-election boost today as official figures showed he beat his target for reducing annual public sector borrowing for the latest financial year by nearly £3 billion. Borrowing - excluding the effect of bank bailouts - was £87.3 billion for the year to the end of March, down from £98.5 billion in 2013/14, according to the Office for National Statistics (ONS). The result undershot the latest target\n",
      "\n",
      "pred sentence: Das Institut für Fiskalstudien analysierte die Politiken aller großen Parteien, um herauszufinden, wie sie die Schulden der Nation nach der Wahl bekämpfen werden. Die Tories wurden beschuldigt, \"keine Details\" über ihren Defizitreduktionsplan gegeben zu haben. Labour hat die Tür für zusätzliche 26 Milliarden Pfund pro Jahr offen gelassen.\n",
      "\n",
      "real sentence: Das Institute for Fiscal Studies sagt, keine Partei habe \"auch nur annähernd alle Details\" genannt, Labour habe die Tür für zusätzliche 26 Milliarden Pfund pro Jahr offen gelassen. Tories wurde vorgeworfen, \"keine Details\" über Ausgabenkürzungen in Höhe von 30 Milliarden Pfund zu nennen.\n"
     ]
    }
   ],
   "source": [
    "print(get_random_prediction())"
   ]
  },
  {
   "cell_type": "code",
   "execution_count": 42,
   "metadata": {},
   "outputs": [
    {
     "name": "stdout",
     "output_type": "stream",
     "text": [
      "article: summarize: ger_to_ger Der Oberste Gerichtshof von Tennessee verschob Hinrichtungstermine für vier Häftlinge und stoppte damit praktisch alle Hinrichtungen, während die Gerichte entscheiden, ob die derzeitigen Protokolle zur Tötung von Menschen verfassungsgemäß sind. Tennessee hatte zuletzt 2009 einen Gefangenen hingerichtet. Seitdem haben rechtliche Herausforderungen und Probleme bei der Beschaffung tödlicher Injektionsmedikamente neue Hinrichtungen zum Stillstand gebracht. In den Jahren 2013 und 2014 versuchte der Staat, den Prozess mit einer neuen Methode der Giftspritze und der Wiedereinführung des elektrischen Stuhls als Backup anzukurbeln. Der Oberste Gerichtshof von Tennessee hat die Hinrichtungstermine für die letzten vier Männer in der Todeszelle des Bundesstaates freigegeben, da neue Methoden der Giftspritze in Frage gestellt werden. Vor allem wurde der Stromschlag als Sicherungsmethode bezeichnet. Ab Dezember 2013 setzte das Gericht neue Hinrichtungstermine für elf Häftlinge fest. Ein Häftling starb im Gefängnis, und die Hinrichtungstermine für die anderen wurden verschoben, da die neuen Methoden juristisch angefochten werden. Am Freitag verschob das Gericht den letzten der geplanten Hinrichtungstermine. Sie wird neue Termine festlegen, nachdem die rechtlichen Fragen geklärt sind. Bundesstaaten im ganzen Land haben Schwierigkeiten, eine Hinrichtungsmethode zu finden, die rechtlichen Herausforderungen standhält. Und die Beschaffung tödlicher Injektionsmedikamente ist schwieriger geworden. Da sich die Hersteller weigern, Medikamente für Hinrichtungen an Gefängnisse zu verkaufen, wenden sich Gefängnisbeamte in den USA an Mischapotheken, die Medikamente speziell für einzelne Kunden herstellen. Aber diese Versionen sind auch deshalb schwierig zu bekommen, weil Apotheker zögern, sich möglichen Belästigungen auszusetzen. Letzten Monat verabschiedete die American Pharmacists Association eine Richtlinie, die ihre Mitglieder davon abhält, Medikamente für tödliche Injektionen bereitzustellen, was\n",
      "\n",
      "pred sentence: Der Oberste Gerichtshof von Tennessee hat die Hinrichtungstermine für die letzten vier Männer in der Todeszelle des Bundesstaates verschoben. Das Gericht wird neue Termine festlegen, nachdem die rechtlichen Fragen geklärt sind.\n",
      "\n",
      "real sentence: Der Oberste Gerichtshof von Tennessee räumt Hinrichtungstermine für vier Männer: Leroy Hall Jr., 48, Donald Wayne Strouth, 56, Nicholas Todd Sutton, 53, und Abu-Ali Abdur Rahman, 64. Neue Hinrichtungen stockten, als die neuen Methoden der Giftspritze in den Bundesstaaten unter die Lupe genommen wurden.\n"
     ]
    }
   ],
   "source": [
    "print(get_random_prediction())"
   ]
  },
  {
   "cell_type": "code",
   "execution_count": 43,
   "metadata": {},
   "outputs": [
    {
     "name": "stdout",
     "output_type": "stream",
     "text": [
      "article: summarize: en_to_en Obese workers are lazy' and 'unable to fulfil their roles' and as a result are less likely to be hired, a new survey has revealed. Almost half of 1,000 British companies questioned said they are less inclined to recruit an applicant after interview if they are obese or overweight. Among the reasons given were that overweight workers 'are unable to play a full role in the business', 'they're lazy', and 'they wouldn't be able to do the job required', the research shows. Beverley Sunderland, managing director, at Crosslands Employment Solicitors, who commissioned the research, said: 'Our research shows that prejudiced attitudes towards hiring obese workers are rife among British employers.' A survey of 1,000 British companies revealed almost half are less inclined to recruit an obese applicant, fearing 'they're lazy', and 'unable to fulfil their roles as required', because of their weight . The findings come in the wake of a European court case brought by unions and lawyers on behalf of 25st childminder Karsten Kaltoft, 50, who claimed he was sacked by his local authority in Denmark in 2010 for being too fat. In December European judges ruled that obesity qualified as a disability if it 'hinders the full and effective participation of the person... on an equal basis with other workers', when doing their job. Body Mass Index, calculated from a person's weight and height, is accepted as a reliable indicator of obesity. According to the World Health Organisation, the ideal BMI for most adults is between 18.5 and 24.9. If a person's BMI is 25 to 29.9, they are classed as overweight. At between 30 and 39.9 they are obese and 40 or over is very – or morbidly – obese. Doctors say being overweight or obese can increase the risk of health problems, including heart disease, strokes, type 2 diabetes and some cancers. Earlier this year the European Court of Justice's advocate general, Niilo Jaaskinen, who advises the court, suggested that very severe obesity – classified as a BMI of more than 40 – could be considered a disability. But yesterday's ruling does not state\n",
      "\n",
      "pred sentence: Survey of 1,000 British companies reveals prejudiced attitudes towards hiring obese workers are rife among British employers . Almost half said they are less inclined to recruit an applicant after interview if they are obese or overweight . Findings come in the wake of a European court case brought by unions and lawyers on behalf of 25st childminder Karsten Kaltoft .\n",
      "\n",
      "real sentence: Survey of 1,000 firms showed half are less inclined to recruit obese people . Believe they are lazy' and 'unable to fulfil their roles as required Comes after European court ruled obesity is a disability after 25st Danish childminder claimed he was sacked by local authority because he was fat . Specialist furniture such as larger chairs . Parking spaces next to the workplace . Dietary advice to overweight staff . Gym memberships . Opportunities to work from home .\n"
     ]
    }
   ],
   "source": [
    "print(get_random_prediction())"
   ]
  },
  {
   "cell_type": "code",
   "execution_count": 44,
   "metadata": {},
   "outputs": [
    {
     "name": "stdout",
     "output_type": "stream",
     "text": [
      "article: summarize: en_to_en Former NFL cornerback Will Allen and his business partner are facing civil fraud charges from federal regulators over allegations the pair ran a multi-million dollar Ponzi scheme. Theyre accused of reaping more than $31 million in a Ponzi scheme that promised high returns to investors from funding loans to cash-strapped pro athletes. The Securities and Exchange Commission announced the charges Monday against William D. Allen, Susan Daub and their Capital Financial Partners investment firms. Allen, 36, was a cornerback in the NFL from 2001 to 2012, playing for the New York Giants and the Miami Dolphins. Accused: Former NFL cornerback Will Allen and his business partner are facing civil fraud charges from federal regulators over allegations the pair ran a multi-million dollar Ponzi scheme (file photo) He was signed by the New England Patriots in March 2012 but was placed on injured reserve the following August, and he left football in March 2013. Daub, 54, is a financial professional who also lives in Florida, according to the SEC. The SEC said Allen and Daub paid about $20 million to investors but received only around $13 million in loan repayments from athletes. To make up the gap they paid investors with other investors' money rather than actual profits on the investments, in a classic Ponzi scheme, the agency said. The SEC said Allen and Daub misled investors about the terms and even the existence of some of the loans, telling them they could receive interest on the loans of up to 18 percent from the athletes. The pair used some funds from investors to cover personal charges at casinos and nightclubs and to finance other business ventures, the agency alleged. The SEC's criminal complaint quoted the website for Capital Financial as saying 'In many cases, athletes' contracts do not allow them to access their guaranteed money during the off season or early in the season when they may need a significant sum to purchase a house or car, pay the bills, or meet a financial demand. 'By pooling the resources of a network of investors, CFP gives athletes access to money when they need it while providing investors with solid, short-term returns on investment.' The SEC said its lawsuit against Allen and Daub was filed under seal in federal court in Boston last week and unsealed on Sunday. The agency won an asset freeze against them\n",
      "\n",
      "pred sentence: Will Allen and his business partner are facing civil fraud charges from federal regulators over allegations the pair ran a multi-million dollar Ponzi scheme . The Securities and Exchange Commission announced the charges Monday against William D. Allen, Susan Daub and their Capital Financial Partners investment firms . Allen was a cornerback in the NFL from 2001 to 2012, playing for the New York Giants and the Miami Dolphins .\n",
      "\n",
      "real sentence: Former NFL cornerback Will Allen and his business partner Susan Daub are facing civil fraud charges from federal regulators . They allegedly reaped over $31 million in a Ponzi scheme that promised high returns to investors from funding loans to cash-strapped pro athletes . Allen, 36, was a cornerback in the NFL from 2001 to 2012, playing for the New York Giants and the Miami Dolphins . The SEC said Allen and Daub paid about $20 million to investors but received only around $13 million in loan repayments from athletes . To make up the gap they paid investors with other investors' money rather than actual profits on the investments, the agency said .\n",
      "article: summarize: en_to_en Portos win over German giants Bayern Munich has been celebrated in Portugal by their media. Two goals from Ricardo Quaresma and another from Jackson Martinez saw Pep Guardiola's team lose 3-1 in the first leg of their Champions League quarter-final on Wednesday night. Portugal's Record opted for the pun 'Fantasporto' as their headline for the next day, highlighting the club's fantastic performance, while Abola simply write: 'Superb!' Portugal's Record opted for the pun 'Fantasporto' as their headline, while Abola simply write: 'Superb!' Ricardo Quaresma uses the outside of his right foot to score beyond goalkeeper Manuel Neuer . Two goals from Quaresma and another from Jackson Martinez saw Porto beat Bayern Munich 3-1 . Porto gave Bayern a mountain to climb inthe return leg at the Allianz Arena next week on April 21. Julen Lopetegui, manager of Porto, orchestrated the win but acknowledges there is nothing to celebrate just yet. 'We are facing one of the strongest Bayern teams in history,' he said. 'The hardest part will be in Munich. We will need to produce a perfect performance in Germany next week to progress.' They will hope Bayern offer them more gifts after two of Portos goals came from Manuel Neuer giving away a penalty and an error from Dante.\n",
      "\n",
      "pred sentence: Porto beat Bayern Munich 3-1 in the first leg of their Champions League quarter-final on Wednesday night . Two goals from Ricardo Quaresma and another from Jackson Martinez saw Pep Guardiola's side lose 3-1 . The Portuguese record opted for the pun 'Fantasporto' as their headline for the next day, highlighting the club's fantastic performance .\n",
      "\n",
      "real sentence: Porto 3-1 Bayern Munich: Click here to read Ian Ladymans match report . Two goals from Ricardo Quaresma and a third from Jackson Martinez confirmed the win for Porto on Wednesday night . Portuguese newspaper Record opted for the pun 'Fantasporto' Fellow newspaper Abola simply wrote 'Superb! to describe the win .\n",
      "article: summarize: en_to_en President Barack Obama announced today $200 million in additional U.S. humanitarian aid to Iraq, but declined to say whether Washington would provide Apache helicopters, drones and other arms to Baghdad to help with the ongoing fight against ISIS. I think this is why we are having this meeting: to make sure that we are continually improving our coordination to make sure that Iraqi security forces are in a position to succeed in our common mission,' he told a reporter questioning him about military support following his Oval Office discussion with Iraqi Prime Minister Haidar al-Abadi. Mr. Abadi had been expected to seek billions of dollars in drones and other U.S. weapons during his visit. But White House spokesman Josh Earnest later said the Iraqi leader did not make a specific request for additional military support during the meeting. President Barack Obama announced today $200 million in additional U.S. humanitarian aid to Iraq, but declined to say whether Washington would provide Apache helicopters, drones and other arms to Baghdad to help with the ongoing fight against ISIS . 'I think this is why we are having this meeting: to make sure that we are continually improving our coordination to make sure that Iraqi security forces are in a position to succeed in our common mission,' he told a reporter questioning him about military support following his Oval Office discussion with Iraqi Prime Minister Haidar al-Abadi, left . Abadi is on his first trip to Washington since becoming prime minister last September. His meeting with Obama is meant to convey a U.S. stamp of approval for a leader who has sought to be more inclusive than his predecessor in governing Iraq. The Obama administration, which welcomed Abadi's ascension after a tricky relationship with former Prime Minister Nurial-Maliki, may not agree to provide significant additional support. Obama, who was elected on the back of a promise to end the war in Iraq, is limited by public aversion to U.S. entanglement in another regional conflict and congressional constraints on his budget authority. In August, Obama authorized the first U.S. air strikes on Iraq since the 2011 withdrawal of American troops. He has also deployed about 3,000 American military forces to train and advise Iraqi and Kurdish forces to fight Islamic State. Abadi said after the\n",
      "\n",
      "pred sentence: Mr. Abadi had been expected to seek billions of dollars in drones and other U.S. weapons during his visit . But White House spokesman Josh Earnest later said the Iraqi leader did not make a specific request for additional military support during the meeting .\n",
      "\n",
      "real sentence: Iraqi Prime Minister Haidar al-Abadi had been expected to seek billions of dollars in drones and other U.S. weapons during his visit to the Oval Office . But White House spokesman Josh Earnest says the Iraqi leader did not make a specific request for additional military support during the meeting . Asked about military aid by a reporter after his discussion with Mr. Abadi, Obama hedged and said: I think this is why we are having this meeting\n",
      "article: summarize: en_to_ger The England C team is facing the axe after 36 years as part of Greg Dyke’s spending review at the Football Association. FA chairman Dyke must find £30million to fund his masterplan to reform grassroots football with more 3G pitches in urban coaching hubs, and has identified the non-league national team as an area of potential saving. England C, which has operated under different names since it was formed in 1979, is managed by former Barnet boss Paul Fairclough, who selects from players outside the Football League, aged 23 and under. FA chairman Greg Dyke could axe the England C team to save money to help improve grassroots football . The team normally plays only three or four times a season, but some friendly fixtures have attracted attention inside the organisation because of the elaborate travel involved. England won 6-1 in Bermuda, in June 2013, and won 1-0 in Jordan, in March last year. Fairclough’s team also compete in the International Challenge Trophy, a competition for European semi-pro national teams, but did not qualify for the semi-finals of this year’s tournament from a home-and-away qualifying group featuring Turkey, Slovakia and Estonia. They were beaten by Cyprus U21s in friendly in Larnaca, in February, but there are no more fixtures planned and, since a meeting last week, fears have increased about the long-term future for a team which has been known since its formation as the National Game XI, England Semi-Pro and England Non-League. Paul Fairclough (left) is the current manager of the team and he selects non-league players under 23 . Those capped at this level include George Boyd of Burnley, Craig Mackail-Smith of Brighton and Steve Morison of Leeds, who all went on to play at full international level, although not for England. Boyd and Mackail-Smith won caps for Scotland and Morison for Wales. Former Leicester winger Steve Guppy won one senior England cap after playing once for his country at non-league level. Guppy also won one cap for the U21s and one for England B, which could make him the ultimate one-cap wonder. Barnsley manager Lee Johnson was also capped at non-league level. George Boyd (right) played for the England C team before switching allegiances and playing for\n",
      "\n",
      "pred sentence: Der FA-Vorsitzende Greg Dyke muss 30 Millionen Pfund finden, um seinen Masterplan zur Reform des Basisfußballs zu finanzieren. Der ehemalige Barnet-Boss Paul Fairclough wählt Spieler unter 23 Jahren aus. England C spielt normalerweise nur drei oder vier Mal in der Saison.\n",
      "\n",
      "real sentence: Greg Dyke könnte dem englischen C-Team die nötigen 30 Millionen Pfund zur Verfügung stellen, der FA-Vorsitzende braucht das Geld, um seine Pläne an der Basis umzusetzen.\n",
      "article: summarize: en_to_en Gary Caldwell admitted his first taste of management was crazy' following Wigan's battling 2-2 draw against Fulham. The Latics may be heading for relegation but they proved they are ready to go down fighting after twice coming from behind to snatch a point at Craven Cottage. Caldwell, at 32 the youngest boss in the league, only replaced the axed Malky Mackay on Wednesday and must have feared the worst when his side conceded after just three minutes to Ross McCormack's strike. Gary Caldwell admitted his first taste of management was 'crazy' following Wigan's battling 2-2 draw . Wigan's Jason Pearce (right) is congratulated by Pennant (left) as he scores the second equaliser for his side . A stylish Jermaine Pennant free-kick hauled Wigan level, only for a stunning long-range effort from Matt Smith put Fulham back in front. But Jason Pearce's 69th-minute effort, when he tucked in a corner at the far post, earned the Latics a point. 'I have just said to the players that I feel very proud of them considering we only had two days to work,' said former Latics skipper Caldwell. 'It's crazy, absolutely crazy. An all-consuming job. But I loved every minute of it and can't wait for the next one. I've had a lot of managers texting me saying 'welcome to the madhouse' and I can see what they mean.' A point lifted Wigan above Millwall, who they face on Tuesday, on goal difference but both teams are seven points adrift of safety. Matt Smith scores Fulham's second goal to restore their lead against Wigan at Carven Cottage on Friday . Smith slides to his knees as he celebrates putting the home side back in front in the Championship match . Caldwell has not been put in charge to perform a miracle, but he still insists there is plenty to play for. 'We'll try to win every game,' he added. 'There's 12 points to play for and we'll try to win every one and see what\n",
      "\n",
      "pred sentence: Wigan were held to a 2-2 draw by Fulham at Craven Cottage on Friday . Gary Caldwell admitted his first taste of management was crazy' The 32-year-old only replaced the axed Malky Mackay on Wednesday .\n",
      "\n",
      "real sentence: Fulham 2-2 Wigan Athletic: CLICK HERE to read the match report . Latics came from behind twice to stun the Cottagers . Gary Caldwell admitted his first taste of management was crazy\n",
      "article: summarize: en_to_ger Voters are still in the dark' about the scale and depth of spending cuts being planned by all the main parties with just two weeks until polling day, economic experts warned today. Analysts from the Institute for Fiscal Studies said none of the major parties had given 'anything like full details' on how they will tackle the nations' debts after the election. The Tories were accused of giving 'no detail' about their deficit reduction plan, which relies on £30billion of cuts, while Labour has left the door open to borrowing an extra £26billion-a-year. Scroll down for video . The Institute for Fiscal Studies analysed the policies of all the main parties to see how their policies would increase borrowing . The IFS warned that the promise of tackling the deficit in the next Parliament is based on 'almost entirely unspecified spending cuts and tax increases'. The think-tank reached its conclusions after a detailed study of the party manifestos ahead of May's General Election. It accused Tory Chancellor George Osborne and his Labour opponent Ed Balls of failing to spell out exactly where the axe will fall. IFS deputy director Carl Emmerson said: 'There are genuinely big differences between the main parties' fiscal plans. 'The electorate has a real choice, although it can at best see only the broad outlines of that choice. 'Conservative plans involve a significantly larger reduction in borrowing and debt than Labour plans. 'But they are predicated on substantial and almost entirely unspecified spending cuts and tax increases. 'While Labour has been considerably less clear about its overall fiscal ambition, its stated position appears to be consistent with little in the way of further spending cuts after this year.' Chancellor George Osborne and his Labour opponent Ed Balls are accused of not spelling out how they will tackle the deficit . George Osborne received a pre-election boost today as official figures showed he beat his target for reducing annual public sector borrowing for the latest financial year by nearly £3 billion. Borrowing - excluding the effect of bank bailouts - was £87.3 billion for the year to the end of March, down from £98.5 billion in 2013/14, according to the Office for National Statistics (ONS). The result undershot the latest target\n",
      "\n",
      "pred sentence: Das Institut für Fiskalstudien analysierte die Politiken aller großen Parteien, um herauszufinden, wie sie die Schulden der Nation nach der Wahl bekämpfen werden. Die Tories wurden beschuldigt, \"keine Details\" über ihren Defizitreduktionsplan gegeben zu haben. Labour hat die Tür für zusätzliche 26 Milliarden Pfund pro Jahr offen gelassen.\n",
      "\n",
      "real sentence: Das Institute for Fiscal Studies sagt, keine Partei habe \"auch nur annähernd alle Details\" genannt, Labour habe die Tür für zusätzliche 26 Milliarden Pfund pro Jahr offen gelassen. Tories wurde vorgeworfen, \"keine Details\" über Ausgabenkürzungen in Höhe von 30 Milliarden Pfund zu nennen.\n",
      "article: summarize: ger_to_en Englisch unerlässlich: Dieses laminierte Dokument kündigt die neue Krankenpflegeschule des IS an und listet die Sprachzugangsvoraussetzungen für angehende Krankenschwestern auf. Militante Kämpfer, die für die Terrorgruppe Islamischer Staat in Syrien kämpfen, haben angekündigt, dass alle Krankenschwestern, die in Gebieten unter ihrer Kontrolle arbeiten, Englisch sprechen müssen - etwas, das der NHS noch immer nicht eingeführt hat. Die Extremisten enthüllten Pläne zur Eröffnung einer Krankenpflegeschule in der De-facto-Hauptstadt Raqqa des IS und enthüllten auch die strengen Einreisebestimmungen für angehende Mediziner. Dazu gehören Regeln, dass die Antragsteller nicht älter als 25 Jahre sein müssen, bereit sein müssen, überall in dem von den Extremisten kontrollierten Gebiet zu arbeiten, und fließend Englisch sprechen müssen. Letztere Regel hat sogar der NHS noch nicht vollständig eingeführt. Krankenschwestern, die in europäischen Ländern ausgebildet wurden, können dank bürokratischer Regeln, die es dem Pflege- und Hebammenrat verbieten, EU-Kandidaten zu testen, immer noch Patienten ohne formale Sprachkontrollen behandeln. Einzelheiten über die erste Krankenpflegeschule, die im vom IS gehaltenen Gebiet eröffnet wurde, wurden von Raqqa Is Being Slaughtered Silently - einer Aktivistengruppe in der syrischen Stadt, die ein Netzwerk mutiger Informanten nutzt, um die täglichen Gräueltaten der islamischen Extremisten zu dokumentieren - auf Twitter bekannt gegeben. RIBSS teilte ein Foto eines laminierten, auf Arabisch verfassten Dokuments mit Details zur neuen medizinischen Fakultät und den Zugangsvoraussetzungen für angehende Krankenschwestern. Sie besagt, dass alle Kandidaten zwischen 18 und 25 Jahre alt sein müssen, eine Aufnahmeprüfung bestehen, während eines Vorstellungsgesprächs beeindrucken, die weiterführende Schule mit naturwissenschaftlichen Qualifikationen abschließen, bereit sind, in jedes vom IS gehaltene Gebiet zu reisen und bereit sind, nach\n",
      "\n",
      "pred sentence: Islamic State militants announced plans to open a medical school in Raqqa . They also revealed the strict entry requirements for aspiring doctors . Rules mean applicants must not be older than 25 and speak fluent English .\n",
      "\n",
      "real sentence: ISIS has announced that all nurses working for them must speak English . Rule was one of the entry requirements for a new nursing school in Raqqa . NHS has also attempted to introduce English language checks for nurses . But despite the law being approved, a lengthy consultation process means EU-trained nurses are still being employed without English tests .\n",
      "article: summarize: en_to_ger A stunning convertible Ferrari which is almost identical to one that was famously destroyed in cult 1980s film Ferris Buellers Day Off is expected to sell for £10million at auction. The 1961 Ferrari 250 GT SWB California Spider is widely regarded by many as the most beautiful convertible ever made. But it is best known for that infamous scene in the 1986 teen comedy starring Matthew Broderick. The car, in classic Ferrari red, was the pride and joy of the father of Ferris Bueller's best friend Cameron in the movie. That was until the friends take the model out for a spin which results in the convertible accidentally smashing through its glass showroom doors into the ravine below. A stunning Ferrari - which is almost identical to the model driven in cult eighties classic film Ferris Bueller's Day Off is up for auction . The 1961 Ferrari 250 GT SWB California Spider (pictured) is regarded by many as the most beautiful convertible ever made . But its most famous moment came it was used as the car for the 1986 teen comedy Ferris Bueller, starring Matthew Broderick . In the movie, Ferris took best friend Cameron's dad's red model out without permission but the car eventually trashed . You killed the car: In one of the film world's best-known scenes, the beloved Ferrari crashes into the ravine below after Cameron accidentally knocks it off the jack . This car, however, is in significantly better condition and has recently undergone a full restoration by Ferrari in Maranello. One of just 16 in existence, it has a 3-litre V12 engine which develops around 280bhp. It will do 0-60mph in less than 7 seconds and hit a top speed of more than 150mph. It will be sold next month at RM Sotheby's auction in Villa Erba, Italy, and has a guide price of around £8 million. The Ferrari, featuring the distinctive logo on the steering wheel, will be sold next month at RM Sotheby's auction in Villa Erba, Italy, and has a guide price of around £8 million . This car, which has undergone a full restoration by Ferrari in Maranello in northern Italy, is expected to go for much more than its guide price . The convertible\n",
      "\n",
      "pred sentence: Der Ferrari 250 GT SWB California Spider aus den 1980er Jahren gilt von vielen als der schönste Cabrio, der je hergestellt wurde. Er war der Stolz und die Freude des Vaters von Ferris Buellers bestem Freund Cameron in der Teenagerkomödie 1986, in der Matthew Broderick mitspielte. Doch das Modell stürzte versehentlich durch seine glasklaren Schaufenstertüren in die Schlucht unten. Es wird im nächsten Monat bei RM Sotheby 's in Villa Erba, Italien, versteigert.\n",
      "\n",
      "real sentence: Der Ferrari 250 GT SWB California Spider von 1961 gilt vielen als das schönste Cabrio, das je gebaut wurde. Es ist dasselbe Modell, das im 80er-Jahre-Kultfilm Ferris Bueller 's Day Off berühmt in eine Schlucht gestürzt ist. Das Cabrio - das in weniger als 7 Sekunden von 0 auf 100 km / h beschleunigt - wird versteigert und wird voraussichtlich £10 Millionen erreichen.\n",
      "article: summarize: en_to_en Water police have been called in to help with the search of a missing autistic boy, as 11-year-old Luke Shambrook is fascinated' by water but can not swim. Luke has been missing for two nights in a Victorian national park, with temperatures dropping to as low as eight degree Celsius on Saturday night. However, he may not even know he is lost and is known to frequently hide, according to his family. He was last seen leaving Candlebark Campground in Fraser National Park near Lake Eildon at 9.30am on Good Friday. According the Herald Sun, the 11-year-old was reportedly seen walking near the Devils River on Sunday, four kilometres south of his campsite where he was last seen. Search crews have rushed to the location and police remain comfortable that the young boy is still alive. Luke has limited speech and his family says he is probably confused, and he may not even be aware he is lost. Campers are helping rescue teams including the air wing, dog squad, local police and SES volunteers in the search of thick bushland. Scroll down for video . Luke Shambrook was last seen on the national park at 9.30am on Good Friday. It is understood he wandered off and has not been seen since . Police assume Luke has spent 36 hours without food or water and on Saturday night would have experienced temperatures as low as 8 degree Celsius. Police hold hope that Luke has been able to stay reasonably warm as he was last seen wearing a beanie and warm jacket. There was a moment of hope when a beanie was found by the search party, however it was decided it did not belong to Luke. Having met Luke's family during a push to open a special school in Melbourne's southeast, Opposition emergency services spokeman Brad Battin says it's devastating to hear the 11-year-old is missing. He says Luke's parents Tim and Rachel have been updating him on the search and appreciate the efforts of all those out looking for their little boy. 'He's a lovely young kid,' Mr Battin told AAP on Sunday. 'He displays all the characteristics of a child with autism, which means he might not even think he is lost.' Sergeant Greg Paul says the search is focused on an area\n",
      "\n",
      "pred sentence: Luke Shambrook was last seen leaving a campground in Fraser National Park at 9.30am on Good Friday . It is understood he wandered off and has not been seen since . The 11-year-old has limited speech and his family say he may not even be aware he is lost .\n",
      "\n",
      "real sentence: Luke Shambrook was last seen leaving Candlebark Campground on Friday . The 11-year old was camping in the Victorian national park with his family . He has been missing for two nights and temperatures dipped to as low as eight degrees Celsius on Saturday night . There has been an unconfirmed sighting of Luke with police acting quickly . The 11-year-old was reportedly seen walking 4 kms from his campsite . Luke has limited speech and his family says he is probably confused . A large search is being carried by a medley of search and rescue teams . Police also said conditions are favourable for his survival overnight . They have issued an extensive description of Luke\n",
      "article: summarize: ger_to_en Einige Jugendliche erhalten Fahrstunden von ihren Eltern. Andere Jugendliche werden von lizenzierten Lehrern unterrichtet. Aber Malia Obama ist keine durchschnittliche 16-Jährige: Ihre Fahrstunden wurden vom US-Geheimdienst erteilt. Auf die Frage, wer Malia das Autofahren beigebracht habe, sagte First Lady Michelle Obama in einem Interview mit der Starköchin und Talkshow-Moderatorin Rachael Ray, dass es die bewaffneten Agenten seien, die rund um die Uhr für die Sicherheit der Familie sorgen. Berühmte Familie: Malia Obama, im April 2009 mit ihrer Mutter Michelle Obama gesehen, wurde angeblich von Agenten des Secret Service das Autofahren beigebracht. \"Der Secret Service, eigentlich, weil sie mich nicht mit ins Auto lassen würden\", sagte Mrs. Obama in einem Auszug aus dem Interview, das von Rays Programm veröffentlicht wurde. Das vollständige Interview soll am Donnerstag ausgestrahlt werden. Mrs. Obama habe sich in sieben oder acht Jahren nicht selbst gefahren, sagte sie. Sie fügte hinzu, dass Autofahren Malia \"ein Gefühl der Normalität\" verleiht und ihr hilft, sich wie der Rest ihrer Freunde zu fühlen, die ebenfalls Autofahren. \"Und meine Kinder müssen lernen, wie normale Kinder in der Welt zu leben\". Als Ray sagt, dass die Obamas \"so geerdet\" erscheinen, antwortet die First Lady, dass ihre \"Hoffnung nur darin besteht, sicherzustellen, dass sie (ihre Töchter) als funktionierende Erwachsene aus dieser Sache hervorgehen, weißt du?\" Malia fahre auch selbst durch Washington, sagte Frau Obama. \"Sie hat immer Sicherheit, aber damit sie das Autofahren lernen konnte, musste sie alleine fahren\", sagte die First Lady in einem separaten Interview auf \"Live! Mit Kelly und Michael 'Anfang dieser Woche. \"Wenn sie also einmal legal alleine fahren darf, setzt sie sich in ihr Auto\". Berühmte Familie: Auf diesem Aktenfoto vom 7. März 2015 treffen Präsident Barack Obama und Malia Obama in der Air Force One auf dem Luftwaffenstützpunkt Maxwell in Montgomery, Alabama ein.\n",
      "\n",
      "pred sentence: Malia Obama is not an average 16-year-old . Her driving hours were allegedly given to her by the Secret Service .\n",
      "\n",
      "real sentence: Michelle Obama told talk-show host Rachael Ray that Secret Service agents taught her daughter Malia how to drive . Mrs. Obama hasnt driven herself in seven or eight years, she said . She added that driving gives Malia 'a sense of normalcy, helping her feel like the rest of her friends who are also driving .\n"
     ]
    }
   ],
   "source": [
    "for i in range(10):\n",
    "    print(get_random_prediction())"
   ]
  },
  {
   "cell_type": "markdown",
   "metadata": {},
   "source": [
    "## Save results to text file"
   ]
  },
  {
   "cell_type": "code",
   "execution_count": 45,
   "metadata": {},
   "outputs": [],
   "source": [
    "result_path = \"../results/t5_cross_lingual_plus_translate_result.txt\"\n",
    "open(result_path, \"w\")\n",
    "for pred in predictions:\n",
    "    with open(result_path, \"a\") as file:\n",
    "        file.write(pred + \"\\n\")"
   ]
  },
  {
   "cell_type": "markdown",
   "metadata": {},
   "source": [
    "## Load save File"
   ]
  },
  {
   "cell_type": "code",
   "execution_count": 46,
   "metadata": {},
   "outputs": [],
   "source": [
    "data_points = []\n",
    "result_path = \"../results/t5_cross_lingual_plus_translate_result.txt\"\n",
    "file = open(result_path, \"r\")\n",
    "for line in file:\n",
    "    data_points.append(line)"
   ]
  },
  {
   "cell_type": "code",
   "execution_count": 47,
   "metadata": {},
   "outputs": [
    {
     "data": {
      "text/plain": [
       "'real sentence: Tinder zeigt nur die letzten 34 Fotos an - aber Nutzer können problemlos mehr sehen.\\n'"
      ]
     },
     "execution_count": 47,
     "metadata": {},
     "output_type": "execute_result"
    }
   ],
   "source": [
    "data_points[4]"
   ]
  },
  {
   "cell_type": "code",
   "execution_count": 48,
   "metadata": {},
   "outputs": [],
   "source": [
    "class SummaryData():\n",
    "    \n",
    "    def __init__(self):\n",
    "        self.language_tag = ''\n",
    "        self.real_data = ''\n",
    "        self.pred_data = ''        "
   ]
  },
  {
   "cell_type": "code",
   "execution_count": 27,
   "metadata": {},
   "outputs": [
    {
     "data": {
      "text/plain": [
       "{'language_tag': 'ger_to_ger',\n",
       " 'real_data': ' David Messerschmitt, 30, der seine Frau auf dem College kennengelernt hatte, hatte Craigslist laut einer eidesstattlichen Versicherung am Dienstag benutzt, um Männer anzuwerben. Jamyra Gallmon, 21, \"kontaktierte das Opfer über eine männlich klingende E-Mail-Adresse und ging in das Hotel mit der Absicht, ihn auszurauben\". Das Paar geriet am 9. Februar in Streit und sie stach ihm wiederholt in Bauch, Rücken und Leisten. Der Anwalt wurde tot im noblen Hotel in Washington DC aufgefunden, nachdem ihn seine Frau als vermisst gemeldet hatte. Gallmon\\n',\n",
       " 'pred_data': ' Jamyra Gallmon, 21, wurde des Mordes ersten Grades angeklagt, während sie bewaffnet war, weil sie David Messerschmitt, 30, am 9. Februar in Washington, D.C. getötet haben soll. Die Frau gab gegenüber der Polizei zu, dass sie den Anwalt mit einer männlich klingenden E-Mail-Adresse gegründet hatte und in das noble Donovan Hotel ging, um ihn auszurauben. Eine eidesstattliche Versicherung enthüllte am Donnerstag, dass er Sex von Männern über Craigslist angefordert hatte.\\n'}"
      ]
     },
     "execution_count": 27,
     "metadata": {},
     "output_type": "execute_result"
    }
   ],
   "source": [
    "count = 0\n",
    "summary_data = SummaryData()\n",
    "summary_data_list = []\n",
    "for point in data_points:\n",
    "    count += 1\n",
    "    \n",
    "    if count == 1:\n",
    "        summary_data.language_tag = point.split(\" \")[2]\n",
    "    elif count == 3:\n",
    "        summary_data.pred_data = \": \".join(point.split(\":\")[1:])\n",
    "    elif count == 5:\n",
    "        summary_data.real_data = \": \".join(point.split(\":\")[1:])\n",
    "        summary_data_list.append(summary_data)\n",
    "        summary_data = SummaryData()\n",
    "        count = 0\n",
    "summary_data_list[0].__dict__"
   ]
  },
  {
   "cell_type": "code",
   "execution_count": 28,
   "metadata": {},
   "outputs": [],
   "source": [
    "from ast import literal_eval\n",
    "\n",
    "results_en_trans = []\n",
    "results_en_path = \"../results/en_en_results\"\n",
    "file = open(results_en_path, \"r\")\n",
    "for i, line in enumerate(file):\n",
    "    results_en_trans.append(literal_eval(line))\n",
    "    \n",
    "results_ger_trans = []\n",
    "results_ger_path = \"../results/en_en_results\"\n",
    "file = open(results_ger_path, \"r\")\n",
    "for i, line in enumerate(file):\n",
    "    results_ger_trans.append(literal_eval(line))"
   ]
  },
  {
   "cell_type": "code",
   "execution_count": 29,
   "metadata": {},
   "outputs": [
    {
     "data": {
      "text/plain": [
       "{'en_to_en': <__main__.RougeScore at 0x7f80b4509e48>,\n",
       " 'en_to_en_trans': <__main__.RougeScore at 0x7f80b45099b0>,\n",
       " 'en_to_ger': <__main__.RougeScore at 0x7f80b4509be0>,\n",
       " 'ger_to_en': <__main__.RougeScore at 0x7f8084615908>,\n",
       " 'ger_to_ger': <__main__.RougeScore at 0x7f80846156d8>,\n",
       " 'ger_to_ger_trans': <__main__.RougeScore at 0x7f80846159e8>}"
      ]
     },
     "execution_count": 29,
     "metadata": {},
     "output_type": "execute_result"
    }
   ],
   "source": [
    "rouge_scores_dict = dict()\n",
    "rouge_scores_dict['en_to_en'] = RougeScore()\n",
    "rouge_scores_dict['en_to_en_trans'] = RougeScore()\n",
    "\n",
    "rouge_scores_dict['en_to_ger'] = RougeScore()\n",
    "rouge_scores_dict['ger_to_en'] = RougeScore()\n",
    "rouge_scores_dict['ger_to_ger'] = RougeScore()\n",
    "rouge_scores_dict['ger_to_ger_trans'] = RougeScore()\n",
    "\n",
    "rouge_scores_dict"
   ]
  },
  {
   "cell_type": "code",
   "execution_count": 30,
   "metadata": {},
   "outputs": [],
   "source": [
    "for summary_data in summary_data_list:\n",
    "    rouge_scores_dict[summary_data.language_tag](summary_data.real_data, summary_data.pred_data)\n",
    "    "
   ]
  },
  {
   "cell_type": "code",
   "execution_count": 31,
   "metadata": {},
   "outputs": [
    {
     "data": {
      "text/plain": [
       "{'id': 24,\n",
       " 'item_id': 1,\n",
       " 'language_tag': 'en_to_en',\n",
       " 'real_data': 'Beatrice seen watching race on terrace with the Gulf states Crown Prince . Marks 13th holiday since November last year, and fourth in a month . Princess quit her job at Sony Pictures in New York before Christmas . Despite that she is described as working full-time on her fathers website .\\n',\n",
       " 'pred_data': 'Princess Beatrice spotted at Bahrain Grand Prix with long-term boyfriend Dave Clark . Onlooker said 26-year-old was walking behind the Crown Prince of Bahrain . Princes regime accused of violently repressing pro-democracy protests . Sir Jackie Stewart and comedian Rory Bremner watched race from the tower .\\n',\n",
       " 'translated': 'Prinzessin Beatrice beim Großen Preis von Bahrain mit ihrem langjährigen Freund Dave Clark.Beobachter sagten, der 26-Jährige sei hinter dem Kronprinzen von Bahrain hergelaufen.Prinzen-Regime beschuldigt, prodemokratische Proteste gewaltsam zu unterdrücken.Sir Jackie Stewart und Komiker Rory Bremner verfolgten das Rennen vom Tower aus.Es geht um die Frage, wer die Verantwortung trägt.',\n",
       " 'translated_real': 'Beatrice sah Rennen auf der Terrasse mit dem Kronprinzen des Golfstaates. Mark 13. Urlaub seit November letzten Jahres, und vierte in einem Monat. Prinzessin kündigte ihren Job bei Sony Pictures in New York vor Weihnachten. Trotzdem wird sie als Vollzeit-Arbeiterin auf der Website ihres Vaters beschrieben.\\n'}"
      ]
     },
     "execution_count": 31,
     "metadata": {},
     "output_type": "execute_result"
    }
   ],
   "source": [
    "results_ger_trans[0]"
   ]
  },
  {
   "cell_type": "code",
   "execution_count": 32,
   "metadata": {},
   "outputs": [],
   "source": [
    "for item in results_en_trans:\n",
    "    rouge_scores_dict['en_to_en_trans'](item['translated_real'], item['translated'])"
   ]
  },
  {
   "cell_type": "code",
   "execution_count": 33,
   "metadata": {},
   "outputs": [],
   "source": [
    "for item in results_ger_trans:\n",
    "    rouge_scores_dict['ger_to_ger_trans'](item['translated_real'], item['translated'])"
   ]
  },
  {
   "cell_type": "code",
   "execution_count": 34,
   "metadata": {},
   "outputs": [
    {
     "name": "stdout",
     "output_type": "stream",
     "text": [
      "rouge1 = 42.41, 95% confidence [40.04, 44.86]\n",
      "rouge2 = 20.07, 95% confidence [17.70, 22.69]\n",
      "rougeLsum = 39.26, 95% confidence [37.13, 41.63]\n",
      "en_to_en {'rouge1': 42.41134305679392, 'rouge2': 20.065374961983395, 'rougeLsum': 39.26425894255747}\n",
      "\n",
      "rouge1 = 33.23, 95% confidence [32.50, 33.99]\n",
      "rouge2 = 14.30, 95% confidence [13.60, 14.97]\n",
      "rougeLsum = 23.23, 95% confidence [22.54, 23.97]\n",
      "en_to_en_trans {'rouge1': 33.231375771303064, 'rouge2': 14.298427277035335, 'rougeLsum': 23.226494546959657}\n",
      "\n",
      "rouge1 = 33.35, 95% confidence [31.51, 35.20]\n",
      "rouge2 = 12.66, 95% confidence [11.28, 14.42]\n",
      "rougeLsum = 22.88, 95% confidence [21.25, 24.54]\n",
      "en_to_ger {'rouge1': 33.35185694157777, 'rouge2': 12.655929617599487, 'rougeLsum': 22.875681499416785}\n",
      "\n",
      "rouge1 = 37.02, 95% confidence [35.33, 38.71]\n",
      "rouge2 = 13.72, 95% confidence [12.34, 15.22]\n",
      "rougeLsum = 34.52, 95% confidence [32.89, 36.18]\n",
      "ger_to_en {'rouge1': 37.02213087712113, 'rouge2': 13.716584706085392, 'rougeLsum': 34.52148308376297}\n",
      "\n",
      "rouge1 = 34.37, 95% confidence [32.43, 36.27]\n",
      "rouge2 = 15.28, 95% confidence [13.50, 17.12]\n",
      "rougeLsum = 24.51, 95% confidence [22.70, 26.30]\n",
      "ger_to_ger {'rouge1': 34.37400429719608, 'rouge2': 15.28349513084014, 'rougeLsum': 24.51273620412792}\n",
      "\n",
      "rouge1 = 33.28, 95% confidence [32.49, 34.03]\n",
      "rouge2 = 14.31, 95% confidence [13.57, 15.02]\n",
      "rougeLsum = 23.22, 95% confidence [22.55, 23.86]\n",
      "ger_to_ger_trans {'rouge1': 33.282020242368034, 'rouge2': 14.307786795257805, 'rougeLsum': 23.22314531791386}\n",
      "\n"
     ]
    }
   ],
   "source": [
    "for key, rouge_score_item in rouge_scores_dict.items():\n",
    "    print(key, rouge_score_item.result())\n",
    "    print()"
   ]
  },
  {
   "cell_type": "code",
   "execution_count": null,
   "metadata": {},
   "outputs": [],
   "source": []
  },
  {
   "cell_type": "markdown",
   "metadata": {},
   "source": [
    "# Special Example"
   ]
  },
  {
   "cell_type": "code",
   "execution_count": 29,
   "metadata": {},
   "outputs": [],
   "source": [
    "input_text = \"In a world where we have to read and understand a lot of documents automatic text summarization has an obvious demand. To have the option to get a brief summary of a text in your language can be very useful. But would it not be even more useful, if you could have the option to get a summary of a text in a language, you do not understand, in your wished language? Sometimes we don’t want an exact translation, sometimes we just want to know a brief overview of a text in a language we don’t understand. That is the case where Cross-Lingual summarization would be prefered over normal translation. Cross-Lingual summarization can give you a short overview of a text in a language you do not understand.\""
   ]
  },
  {
   "cell_type": "code",
   "execution_count": 30,
   "metadata": {},
   "outputs": [],
   "source": [
    "input_text_test = \"The dramatic growth of data on the internet leads to the need to automatically process and understand the data. A big part of the data is text data in many languages. This overwhelming amount of information causes a demand for automatic text summarization and other Natural Language Processing (NLP) taks.\\n The Field of NLP had some high points in the last couple of years, when the field got revolutionized by Neural Language Models. With publications like Attention is all you need \\cite{vaswani2017attention} or GPT3\\cite{brown2020language} the limits of the field are pushed even further. Because of large data corpuses, scraped from the internet, and advanced models which contain up to 175 Billion parameters like the GPT3 it is possible to generate text, answer questions, summarize text, translate or many other things.\\n In this master thesis we will take a deeper look into summarization. There are extractive and abstractive techniques to summarization. The extractive summary technique tries to find subsets of sentences, which representante the original text well and uses them to summarize the original text \\cite{allahyari2017text}. The abstractive technique uses advanced language models to generate a new text, which should be much shorter than the original one, contain all the key information and preserve the overall meaning.\\n In this master thesis we will use the abstractive technique, because it is closer to a human-like interpretation. It combines the ability to understand what the context of a given text is and the ability to generate fluent and grammatically correct text to that given context.\\n The summarization in one language is an interesting topic but cross lingual approach is even more interesting. The goal of Cross Lingual Summarization is to summarize a text from one language into another language. It combines the ability to summarize and the ability to translate. Where state of the art models perform well on normal summarization, it will be interesting to see how well they perform doing Cross-Lingual Summarization.\""
   ]
  },
  {
   "cell_type": "code",
   "execution_count": 31,
   "metadata": {},
   "outputs": [],
   "source": [
    "x = tokenizer.encode_plus(\"summarize: en_to_ger \" + input_text, max_length=512, return_tensors=\"tf\", padding='max_length', truncation=True)\n",
    "input_ids = tf.reshape(x['input_ids'], (1,-1))\n",
    "attention_mask = tf.reshape(x['attention_mask'], (1,-1))"
   ]
  },
  {
   "cell_type": "code",
   "execution_count": 32,
   "metadata": {},
   "outputs": [
    {
     "name": "stdout",
     "output_type": "stream",
     "text": [
      "(1, 512) (1, 512)\n"
     ]
    }
   ],
   "source": [
    "print(input_ids.shape, attention_mask.shape)"
   ]
  },
  {
   "cell_type": "code",
   "execution_count": 33,
   "metadata": {},
   "outputs": [],
   "source": [
    "summaries = model.generate( \n",
    "    input_ids=input_ids, \n",
    "    attention_mask=attention_mask\n",
    ")"
   ]
  },
  {
   "cell_type": "code",
   "execution_count": 34,
   "metadata": {},
   "outputs": [
    {
     "data": {
      "text/plain": [
       "<tf.Tensor: shape=(1, 74), dtype=int32, numpy=\n",
       "array([[    0,    86,   645,  3779,     6,    16,    74,   558,  2584,\n",
       "            3, 20127,    15,   110,    35,    64, 19163,  3766,     6,\n",
       "          229, 15820,    15,  5027,     7,    63,    29, 19712,   266,\n",
       "        30410,    15,  5222,  6367,     5,  4098,  6199,     3,    15,\n",
       "            7,   311, 30001,    49,     6,  1301,   292,    67,  7251,\n",
       "         8219,    29,     6,   266, 11068, 14449,   266,     7,  5027,\n",
       "           15,     7,    16,   645, 16933,   170,  8837,     6,    67,\n",
       "          292,   311, 19163,     6,    16,  1197,    52, 24054,    29,\n",
       "        16933,    58]], dtype=int32)>"
      ]
     },
     "execution_count": 34,
     "metadata": {},
     "output_type": "execute_result"
    }
   ],
   "source": [
    "summaries"
   ]
  },
  {
   "cell_type": "code",
   "execution_count": 35,
   "metadata": {},
   "outputs": [
    {
     "data": {
      "text/plain": [
       "'<pad> In einer Welt, in der wir viele Dokumente lesen und verstehen müssen, ist automatische Textsynthese eine offensichtliche Forderung. Aber wäre es nicht nützlicher, wenn Sie die Möglichkeit hätten, eine Zusammenfassung eines Textes in einer Sprache zu bekommen, die Sie nicht verstehen, in Ihrer gewünschten Sprache?'"
      ]
     },
     "execution_count": 35,
     "metadata": {},
     "output_type": "execute_result"
    }
   ],
   "source": [
    "tokenizer.decode(summaries[0])"
   ]
  },
  {
   "cell_type": "code",
   "execution_count": null,
   "metadata": {},
   "outputs": [],
   "source": []
  }
 ],
 "metadata": {
  "kernelspec": {
   "display_name": "Python 3",
   "language": "python",
   "name": "python3"
  },
  "language_info": {
   "codemirror_mode": {
    "name": "ipython",
    "version": 3
   },
   "file_extension": ".py",
   "mimetype": "text/x-python",
   "name": "python",
   "nbconvert_exporter": "python",
   "pygments_lexer": "ipython3",
   "version": "3.6.9"
  }
 },
 "nbformat": 4,
 "nbformat_minor": 4
}
