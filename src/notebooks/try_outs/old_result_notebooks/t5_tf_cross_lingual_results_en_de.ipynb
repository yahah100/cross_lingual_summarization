{
 "cells": [
  {
   "cell_type": "markdown",
   "metadata": {},
   "source": [
    "# Cross Lingual summarization CNN Daily Mail Results\n",
    "We will try out the trained t5 network from the tpu"
   ]
  },
  {
   "cell_type": "code",
   "execution_count": 1,
   "metadata": {},
   "outputs": [],
   "source": [
    "import tensorflow as tf\n",
    "import pandas as pd\n",
    "from transformers import T5Tokenizer, TFT5ForConditionalGeneration\n",
    "import time\n",
    "from rouge_score import rouge_scorer\n",
    "from rouge_score import scoring"
   ]
  },
  {
   "cell_type": "code",
   "execution_count": 2,
   "metadata": {},
   "outputs": [],
   "source": [
    "if not tf.config.list_physical_devices('GPU'):\n",
    "    print(\"Change runtime to \\\"GPU runtime\\\" for faster computations\")"
   ]
  },
  {
   "cell_type": "code",
   "execution_count": 3,
   "metadata": {},
   "outputs": [
    {
     "name": "stdout",
     "output_type": "stream",
     "text": [
      "WARNING:tensorflow:From <ipython-input-3-17bb7203622b>:1: is_gpu_available (from tensorflow.python.framework.test_util) is deprecated and will be removed in a future version.\n",
      "Instructions for updating:\n",
      "Use `tf.config.list_physical_devices('GPU')` instead.\n"
     ]
    },
    {
     "data": {
      "text/plain": [
       "True"
      ]
     },
     "execution_count": 3,
     "metadata": {},
     "output_type": "execute_result"
    }
   ],
   "source": [
    "tf.test.is_gpu_available()"
   ]
  },
  {
   "cell_type": "markdown",
   "metadata": {},
   "source": [
    "## Params"
   ]
  },
  {
   "cell_type": "code",
   "execution_count": 4,
   "metadata": {},
   "outputs": [],
   "source": [
    "BATCH_SIZE = 8\n",
    "\n",
    "SHUFFEL_SIZE = 1024\n",
    "\n",
    "learning_rate = 3e-5\n",
    "\n",
    "model_size = \"t5-base\"\n",
    "\n",
    "MAX_ARTICLE_LEN = 512\n",
    "\n",
    "MAX_HIGHLIGHT_LEN = 150"
   ]
  },
  {
   "cell_type": "markdown",
   "metadata": {},
   "source": [
    "## Model"
   ]
  },
  {
   "cell_type": "code",
   "execution_count": 5,
   "metadata": {},
   "outputs": [
    {
     "data": {
      "application/vnd.jupyter.widget-view+json": {
       "model_id": "92184f04b0fc44a69365666ad5464a3a",
       "version_major": 2,
       "version_minor": 0
      },
      "text/plain": [
       "Downloading:   0%|          | 0.00/792k [00:00<?, ?B/s]"
      ]
     },
     "metadata": {},
     "output_type": "display_data"
    },
    {
     "data": {
      "application/vnd.jupyter.widget-view+json": {
       "model_id": "75c24172c6f54aab9e62484af1c7ab9d",
       "version_major": 2,
       "version_minor": 0
      },
      "text/plain": [
       "Downloading:   0%|          | 0.00/1.20k [00:00<?, ?B/s]"
      ]
     },
     "metadata": {},
     "output_type": "display_data"
    },
    {
     "data": {
      "application/vnd.jupyter.widget-view+json": {
       "model_id": "5085f8287ac54d149273acdf07d86d98",
       "version_major": 2,
       "version_minor": 0
      },
      "text/plain": [
       "Downloading:   0%|          | 0.00/892M [00:00<?, ?B/s]"
      ]
     },
     "metadata": {},
     "output_type": "display_data"
    },
    {
     "name": "stderr",
     "output_type": "stream",
     "text": [
      "All model checkpoint layers were used when initializing TFT5ForConditionalGeneration.\n",
      "\n",
      "All the layers of TFT5ForConditionalGeneration were initialized from the model checkpoint at t5-base.\n",
      "If your task is similar to the task the model of the checkpoint was trained on, you can already use TFT5ForConditionalGeneration for predictions without further training.\n"
     ]
    }
   ],
   "source": [
    "tokenizer = T5Tokenizer.from_pretrained(model_size)\n",
    "model = TFT5ForConditionalGeneration.from_pretrained(model_size)\n",
    "\n",
    "task_specific_params = model.config.task_specific_params\n",
    "if task_specific_params is not None:\n",
    "    model.config.update(task_specific_params.get(\"summarization\", {}))\n",
    "    \n",
    "pad_token_id = tokenizer.pad_token_id"
   ]
  },
  {
   "cell_type": "code",
   "execution_count": 6,
   "metadata": {},
   "outputs": [
    {
     "name": "stdout",
     "output_type": "stream",
     "text": [
      "Model: \"tf_t5for_conditional_generation\"\n",
      "_________________________________________________________________\n",
      "Layer (type)                 Output Shape              Param #   \n",
      "=================================================================\n",
      "shared (TFSharedEmbeddings)  multiple                  24674304  \n",
      "_________________________________________________________________\n",
      "encoder (TFT5MainLayer)      multiple                  84954240  \n",
      "_________________________________________________________________\n",
      "decoder (TFT5MainLayer)      multiple                  113275008 \n",
      "=================================================================\n",
      "Total params: 222,903,552\n",
      "Trainable params: 222,903,552\n",
      "Non-trainable params: 0\n",
      "_________________________________________________________________\n"
     ]
    }
   ],
   "source": [
    "val_loss = tf.keras.metrics.Mean(name='val_loss')\n",
    "val_accuracy = tf.keras.metrics.SparseCategoricalAccuracy(name='val_accuracy')\n",
    "\n",
    "model.summary()"
   ]
  },
  {
   "cell_type": "code",
   "execution_count": 7,
   "metadata": {},
   "outputs": [
    {
     "data": {
      "text/plain": [
       "<tensorflow.python.training.tracking.util.CheckpointLoadStatus at 0x7f35e00e6a90>"
      ]
     },
     "execution_count": 7,
     "metadata": {},
     "output_type": "execute_result"
    }
   ],
   "source": [
    "ckpt_file = \"../models/checkpoint_t5_en_de_cross_lingual_plus_translation.ckpt\"\n",
    "model.load_weights(ckpt_file)"
   ]
  },
  {
   "cell_type": "markdown",
   "metadata": {},
   "source": [
    "## Dataset\n",
    "We will load the translated CNN Daily Mail dataset from the tfrecords files"
   ]
  },
  {
   "cell_type": "code",
   "execution_count": 8,
   "metadata": {},
   "outputs": [],
   "source": [
    "en_de_prefix = tf.reshape(tokenizer.encode(\"summarize: en_to_ger \", return_tensors=\"tf\"), (-1,))\n",
    "de_en_prefix = tf.reshape(tokenizer.encode(\"summarize: ger_to_en \", return_tensors=\"tf\"), (-1,))\n",
    "en_en_prefix = tf.reshape(tokenizer.encode(\"summarize: en_to_en \", return_tensors=\"tf\"), (-1,))\n",
    "de_de_prefix = tf.reshape(tokenizer.encode(\"summarize: ger_to_ger \", return_tensors=\"tf\"), (-1,))"
   ]
  },
  {
   "cell_type": "code",
   "execution_count": 9,
   "metadata": {},
   "outputs": [
    {
     "data": {
      "text/plain": [
       "9"
      ]
     },
     "execution_count": 9,
     "metadata": {},
     "output_type": "execute_result"
    }
   ],
   "source": [
    "prefix_length = de_de_prefix.shape[0]\n",
    "prefix_length"
   ]
  },
  {
   "cell_type": "code",
   "execution_count": 10,
   "metadata": {},
   "outputs": [],
   "source": [
    "import numpy as np\n",
    "MAX_ARTICLE_LEN = 512\n",
    "MAX_HIGHLIGHT_LEN = 150\n",
    "GLOBAL_BATCH_SIZE = 8\n",
    "\n",
    "def get_tfrecord_dataset(file_name):\n",
    "    features = {\n",
    "        'ger_x': tf.io.FixedLenFeature([MAX_ARTICLE_LEN-8], tf.int64),\n",
    "        'ger_x_mask': tf.io.FixedLenFeature([MAX_ARTICLE_LEN-8], tf.int64),\n",
    "        'ger_y': tf.io.FixedLenFeature([MAX_HIGHLIGHT_LEN], tf.int64),\n",
    "        'ger_y_ids': tf.io.FixedLenFeature([MAX_HIGHLIGHT_LEN], tf.int64),\n",
    "\n",
    "        'en_x': tf.io.FixedLenFeature([MAX_ARTICLE_LEN-8], tf.int64),\n",
    "        'en_x_mask': tf.io.FixedLenFeature([MAX_ARTICLE_LEN-8], tf.int64),\n",
    "        'en_y': tf.io.FixedLenFeature([MAX_HIGHLIGHT_LEN], tf.int64),\n",
    "        'en_y_ids': tf.io.FixedLenFeature([MAX_HIGHLIGHT_LEN], tf.int64),\n",
    "    }\n",
    "\n",
    "    dataset = tf.data.TFRecordDataset(f\"../data/{file_name}.tfrecord\")\n",
    "\n",
    "    # Taken from the TensorFlow models repository: https://github.com/tensorflow/models/blob/befbe0f9fe02d6bc1efb1c462689d069dae23af1/official/nlp/bert/input_pipeline.py#L24\n",
    "    def decode_record(record, features):\n",
    "        \"\"\"Decodes a record to a TensorFlow example.\"\"\"\n",
    "        example = tf.io.parse_single_example(record, features)\n",
    "\n",
    "        # tf.Example only supports tf.int64, but the TPU only supports tf.int32.\n",
    "        # So cast all int64 to int32.\n",
    "        for name in list(example.keys()):\n",
    "            t = example[name]\n",
    "            if t.dtype == tf.int64:\n",
    "                t = tf.cast(t, tf.int32)\n",
    "            example[name] = t\n",
    "        return example\n",
    "\n",
    "\n",
    "    def select_data_from_record(record):\n",
    "        return [\n",
    "            tf.strided_slice(tf.concat([de_de_prefix, record['ger_x']], axis=0), [0], [-1]), tf.concat([tf.ones(8, dtype=tf.int32), record['ger_x_mask']], axis=0), record['ger_y'], record['ger_y_ids'],\n",
    "            tf.strided_slice(tf.concat([en_de_prefix, record['en_x']], axis=0), [0], [-1]), tf.concat([tf.ones(8, dtype=tf.int32), record['en_x_mask']], axis=0), record['ger_y'], record['ger_y_ids'],\n",
    "            tf.strided_slice(tf.concat([de_en_prefix, record['ger_x']], axis=0), [0], [-1]), tf.concat([tf.ones(8, dtype=tf.int32), record['ger_x_mask']], axis=0), record['en_y'], record['en_y_ids'],\n",
    "            tf.strided_slice(tf.concat([en_en_prefix, record['en_x']], axis=0), [0], [-1]), tf.concat([tf.ones(8, dtype=tf.int32), record['en_x_mask']], axis=0), record['en_y'], record['en_y_ids'],\n",
    "        ]\n",
    "    \n",
    "    dataset = dataset.map(lambda record: decode_record(record, features))\n",
    "    dataset = dataset.map(select_data_from_record)\n",
    "    dataset = dataset.shuffle(100)\n",
    "    return dataset.batch(GLOBAL_BATCH_SIZE)\n",
    "\n",
    "test_ds = get_tfrecord_dataset(\"corss_lingual_test_cnn_daily_mail\")"
   ]
  },
  {
   "cell_type": "code",
   "execution_count": 11,
   "metadata": {},
   "outputs": [
    {
     "name": "stdout",
     "output_type": "stream",
     "text": [
      "(8, 512) (8, 512) (8, 150) (8, 150)\n",
      "(8, 512) (8, 512) (8, 150) (8, 150)\n",
      "(8, 512) (8, 512) (8, 150) (8, 150)\n",
      "(8, 512) (8, 512) (8, 150) (8, 150)\n"
     ]
    }
   ],
   "source": [
    "def get_summaries(ds):\n",
    "    for i in range(1,5):\n",
    "        yield ds[(i-1)*4], ds[i*4-3], ds[i*4-2], ds[i*4-1]\n",
    "\n",
    "\n",
    "for ds in test_ds.take(1):\n",
    "    for i in get_summaries(ds):\n",
    "        print(i[0].shape, i[1].shape, i[2].shape, i[3].shape)"
   ]
  },
  {
   "cell_type": "markdown",
   "metadata": {},
   "source": [
    "## Evaluation\n",
    "### Define Rouge Score"
   ]
  },
  {
   "cell_type": "code",
   "execution_count": 12,
   "metadata": {},
   "outputs": [],
   "source": [
    "class RougeScore:\n",
    "    '''\n",
    "    mostly from https://github.com/google-research/text-to-text-transfer-transformer/blob/master/t5/evaluation/metrics.py \n",
    "    '''\n",
    "    \n",
    "    def __init__(self, score_keys=None)-> None:\n",
    "        super().__init__()\n",
    "        if score_keys is None:  \n",
    "            self.score_keys = [\"rouge1\", \"rouge2\", \"rougeLsum\"]\n",
    "        \n",
    "        self.scorer = rouge_scorer.RougeScorer(self.score_keys)\n",
    "        self.aggregator = scoring.BootstrapAggregator()\n",
    "        \n",
    "        \n",
    "    @staticmethod\n",
    "    def prepare_summary(summary):\n",
    "            # Make sure the summary is not bytes-type\n",
    "            # Add newlines between sentences so that rougeLsum is computed correctly.\n",
    "            summary = summary.replace(\" . \", \" .\\n\")\n",
    "            return summary\n",
    "    \n",
    "    def __call__(self, target, prediction):\n",
    "        \"\"\"Computes rouge score.''\n",
    "        Args:\n",
    "        targets: string\n",
    "        predictions: string\n",
    "        \"\"\"\n",
    "\n",
    "        target = self.prepare_summary(target)\n",
    "        prediction = self.prepare_summary(prediction)\n",
    "        \n",
    "        self.aggregator.add_scores(self.scorer.score(target=target, prediction=prediction))\n",
    "\n",
    "        return \n",
    "    \n",
    "    def reset_states(self):\n",
    "        self.rouge_list = []\n",
    "\n",
    "    def result(self):\n",
    "        result = self.aggregator.aggregate()\n",
    "        \n",
    "        for key in self.score_keys:\n",
    "            score_text = \"%s = %.2f, 95%% confidence [%.2f, %.2f]\"%(\n",
    "                key,\n",
    "                result[key].mid.fmeasure*100,\n",
    "                result[key].low.fmeasure*100,\n",
    "                result[key].high.fmeasure*100\n",
    "            )\n",
    "            print(score_text)\n",
    "        \n",
    "        return {key: result[key].mid.fmeasure*100 for key in self.score_keys}"
   ]
  },
  {
   "cell_type": "markdown",
   "metadata": {},
   "source": [
    "### Compute Summaries"
   ]
  },
  {
   "cell_type": "code",
   "execution_count": 31,
   "metadata": {},
   "outputs": [
    {
     "name": "stdout",
     "output_type": "stream",
     "text": [
      "0 : time genreate batch: 18.250395369529723\n",
      "10 : time genreate batch: 181.13052678108215\n",
      "20 : time genreate batch: 162.7270177602768\n"
     ]
    }
   ],
   "source": [
    "predictions = []\n",
    "start_time = time.time()\n",
    "\n",
    "for i, ds_item in enumerate(test_ds): \n",
    "    for (input_ids, input_mask, y, y_ids) in get_summaries(ds_item):\n",
    "        summaries = model.generate(\n",
    "            input_ids=input_ids, \n",
    "            attention_mask=input_mask, \n",
    "            early_stopping=True, \n",
    "            max_length=150\n",
    "        )\n",
    "\n",
    "        articles = [tokenizer.decode(g, skip_special_tokens=True, clean_up_tokenization_spaces=False) for g in input_ids]\n",
    "\n",
    "        pred = [tokenizer.decode(g, skip_special_tokens=True, clean_up_tokenization_spaces=False) for g in summaries]\n",
    "        real = [tokenizer.decode(g, skip_special_tokens=True, clean_up_tokenization_spaces=False) for g in y]\n",
    "    \n",
    "        for pred_sent, real_sent, article_sent in zip(pred, real, articles):\n",
    "            predictions.append(str(\"article: \" + article_sent + \"\\n\\npred sentence: \" + pred_sent + \"\\n\\nreal sentence: \" + real_sent))\n",
    "    \n",
    "    if (i % 10) == 0:\n",
    "        elapsed = (time.time() - start_time) / 10\n",
    "        print(i,\": time genreate batch:\", elapsed)\n",
    "        start_time = time.time()\n",
    "    if i > 20:\n",
    "#         otherwise it will take ages\n",
    "        break\n",
    "\n",
    "\n",
    "# rouge_score.result()"
   ]
  },
  {
   "cell_type": "markdown",
   "metadata": {},
   "source": [
    "### Lets have a look at some of these predicted summaries"
   ]
  },
  {
   "cell_type": "code",
   "execution_count": 32,
   "metadata": {},
   "outputs": [],
   "source": [
    "import numpy as np\n",
    "len_predictions = len(predictions)\n",
    "\n",
    "def get_random_prediction():\n",
    "    return predictions[np.random.randint(len_predictions)]"
   ]
  },
  {
   "cell_type": "code",
   "execution_count": 33,
   "metadata": {
    "scrolled": true
   },
   "outputs": [
    {
     "name": "stdout",
     "output_type": "stream",
     "text": [
      "article: summarize: en_to_ger Arsenals midfield trio Jack Wilshere, Mikel Arteta and Abou Diaby have all been handed starts for the club's Under 21s game on Tuesday night as they continue their respective recoveries from injury. Steve Gatting's young Gunners take on Stoke City at the Emirates Stadium in a U21 Premier League clash. Teenage winger Serge Gnabry is also in the starting line-up, alongside a host of promising youngsters including Dan Crowley. Jack Wilshere, pictured in first team training last week, starts for Arsenal Under 21s on Tuesday night . Club captain Mikel Arteta (left) is also in the team to play against Stoke City at the Emirates Stadium . Wilshere watched Arsenal beat Liverpool 4-1 in the Premier League from the stands on Saturday afternoon . Iliev, Maitland-Niles, O’Connor, Bielik, Ormonde-Ottewill, Diaby, Arteta, Gnabry, Wilshere, Crowley, Iwobi . Wilshere has been out of action since November after breaking his foot against Manchester United, as has club captain Arteta who picked up an ankle injury at home to Borussia Dortmund. Diaby's fitness troubles have been well documented, with the French midfielder racking up 227 weeks out during his nine-year career with the club. All three featured in last week's practice match against a Brentford development XI, with England international Wilshere scoring in the 4-0 victory. Mathieu Debuchy and Mathieu Flamini also appeared in that game, though both are now closer to first team action with the latter coming on against Liverpool on Saturday. Arsene Wenger said last Thursday: 'They’ve no problem after that coming out of the game. They are back available in training, a bit short still of top competitive level certainly but that’s normal. 'They’ve been out for a long time but I was quite surprised by how fit they looked and the quality of their performance - it was good. Gnabry, who played nine times in the Premier League last season, has been blighted by injuries this term, and is yet to play a\n",
      "\n",
      "pred sentence: Jack Wilshere, Mikel Arteta und Abou Diaby starten für die U21 von Arsenal. Die Gunners treffen am Dienstagabend im Emirates Stadium auf Stoke City. Serge Gnabry, Dan Crowley und Mathieu Debuchy stehen ebenfalls in der Startformation.\n",
      "\n",
      "real sentence: Arsenal trifft in der Barclays U21 Premier League auf Stoke City. Jack Wilshere und Club-Kapitän Mikel Arteta sind seit November raus. Abou Diaby wurde während seiner neunjährigen Verletzungspause beim Club von Verletzungen geplagt. Arteta, Wilshere und Diaby stehen kurz vor der Rückkehr in die erste Mannschaft. Auch der junge Flügelspieler Serge Gnabry ist nach seiner Verletzungspause wieder dabei. LESEN: Arsenals Alex Oxlade-Chamberlain, Calum Chambers, Jack Wilshere und Danny Welbeck halten ihre\n"
     ]
    }
   ],
   "source": [
    "print(get_random_prediction())"
   ]
  },
  {
   "cell_type": "code",
   "execution_count": 34,
   "metadata": {},
   "outputs": [
    {
     "name": "stdout",
     "output_type": "stream",
     "text": [
      "article: summarize: ger_to_ger (CNN) Warren Weinstein, der anscheinend der einzige amerikanische Staatsbürger war, der von al-Qaida als Geisel gehalten wurde, wurde im Januar bei einem US-Drohnenangriff versehentlich getötet. Aber es musste nicht so sein. Ein hochrangiger US-Regierungsvertreter, der mit dem Umgang mit dem Thema vertraut ist, sagte CNN, die US-Regierung habe keine ernsthaften Bemühungen unternommen, über die Freilassung des 73-jährigen Entwicklungsexperten zu verhandeln, weder direkt an al-Qaida noch über Stellvertreter in Pakistan. Ein weiterer hochrangiger US-Regierungsvertreter sagte CNN, Weinsteins Gefangennahme durch Al Kaida habe es den Vereinigten Staaten schwer gemacht zu verhandeln, obwohl Stellvertreter wie die pakistanische Regierung Verbindungen zu Mittelsmännern hätten, die möglicherweise geholfen hätten. Ein hochrangiger pakistanischer Beamter sagte CNN, dass die pakistanische Regierung nach der Entführung Weinsteins ihre Fühler nach Mitgliedern des militanten Haqqani-Netzwerks und den pakistanischen Taliban ausgestreckt habe, die beide mit al-Qaida verbündet sind, um zu sehen, ob diese Gruppen in der Lage sein könnten, irgendeine Art von Verhandlungen über Weinstein einzuleiten. Aus diesen Fühlern sei nichts geworden, so der Beamte. Der hochrangige pakistanische Beamte sagt, dass pakistanische Soldaten, die im vergangenen Jahr Teil einer Militäroffensive im Stammesgebiet Nord-Waziristan nahe der afghanisch-pakistanischen Grenze waren, wo Weinstein angeblich festgehalten wird, von Tür zu Tür gegangen sind, um nach dem Amerikaner zu suchen. Auch aus dieser Suche wurde nichts. Am Donnerstag gab die US-Regierung bekannt, dass Weinstein im Januar bei einer \"Anti-Terror-Operation\" getötet wurde, wie die Regierung Drohnenangriffe der CIA of\n",
      "\n",
      "pred sentence: Warren Weinstein wurde im Januar bei einem US-Drohnenangriff versehentlich getötet. Die US-Regierung hat keine ernsthaften Bemühungen unternommen, über die Freilassung des 73-jährigen Entwicklungsexperten zu verhandeln.\n",
      "\n",
      "real sentence: Es wird angenommen, dass die US-Geisel Warren Weinstein bei einem Anti-Terror-Schlag versehentlich getötet wurde. Peter Bergen: Die USA sollten ihre Geiselpolitik überdenken, um die Chancen auf Freilassung der Gefangenen zu erhöhen.\n"
     ]
    }
   ],
   "source": [
    "print(get_random_prediction())"
   ]
  },
  {
   "cell_type": "code",
   "execution_count": 35,
   "metadata": {},
   "outputs": [
    {
     "name": "stdout",
     "output_type": "stream",
     "text": [
      "article: summarize: ger_to_ger Der Labour-Abgeordnete John Prescott hat Prinz Charles gegen Vorwürfe verteidigt, er versuche, die Regierungspolitik heimlich mit gekritzelten privaten Notizen an Minister zu beeinflussen - und beharrt darauf, er solle \"das Recht haben, so viele verdammte Briefe zu schreiben, wie er will\". Der ehemalige Vizepremier sagte, er sehe kein Problem darin, dass der künftige König an die Minister der Regierung schreibe und beharrte darauf, dass er \"diesem Land viel zu bieten\" habe. Lord Prescotts Intervention erfolgte, nachdem der Oberste Gerichtshof ein früheres Urteil unterstützt hatte, das den Weg für die Veröffentlichung von Prinz Charles \"so genannten\" Black Spider \"-Memos ebnete. Lord Prescott, links, sagte, dass der Prinz von Wales dem Land viel zu bieten habe. Die Briefe wurden zwischen September 2004 und März 2005 verfasst und vom Prinzen an sieben Regierungsministerien geschickt. Lord Prescott, dessen Briefe getrennt von denen veröffentlicht werden sollen, sagte, er sei zwar \"kein glühender Loyalist\", habe aber \"viel Zeit für Charles\", den er als leidenschaftlichen Umweltschützer bezeichnete. Er sagte, während er den Ansichten aller zuhöre, die ihn in politischen Fragen kontaktierten, treffe er seine eigenen Entscheidungen. Der ehemalige Arbeitsminister schrieb im Sunday Mirror: \"Charles hat diesem Land eine Menge zu bieten. \"Und wenn er seinen Untertanen dienen will, indem er jungen Menschen in Arbeit hilft, den Klimawandel bekämpft und nachhaltige Gemeinschaften aufbaut, kann er so viele verdammte Briefe schreiben, wie er will\". Lord Prescott veröffentlichte Auszüge aus zwei Briefen, die er vom Prinzen erhalten hatte - darunter einen, in dem er seiner Trauer über den Tod der Mutter des Labour-Politikers Ausdruck verlieh. Der Labour-Abgeordnete sagte, die Notizen seien \"das Maß des Mannes\". Er sagte: \"Sie zeigen, dass er nichts zu\n",
      "\n",
      "pred sentence: Der ehemalige Vizepremier sagte, er sehe kein Problem darin, dass der zukünftige König an den Minister der Regierung schreibt und beharrt darauf, dass er \"diesem Land viel zu bieten\" habe. Die Briefe wurden zwischen September 2004 und März 2005 verfasst und vom Prinzen an sieben Regierungsministerien geschickt.\n",
      "\n",
      "real sentence: Ex-Vizepremier sagte, es gebe kein Problem mit Charles Schreiben an Minister. Zugegeben, Charles hatte ihm eine Menge Briefe geschickt, während er in der Regierung war. Veröffentlicht zwei, darunter einen Kondolenzbrief über den Tod seiner Mutter. Kommt, nachdem ein Gericht entschied, dass Karls Briefe an Minister veröffentlicht werden sollten.\n"
     ]
    }
   ],
   "source": [
    "print(get_random_prediction())"
   ]
  },
  {
   "cell_type": "code",
   "execution_count": 36,
   "metadata": {},
   "outputs": [
    {
     "name": "stdout",
     "output_type": "stream",
     "text": [
      "article: summarize: ger_to_ger Ian Murray rechnet damit, dass ein vermeintlich leichterer Anlauf im letzten Monat der Meisterschaftssaison den zweiten Platz vor den Rangers sichern kann. Seine Dumbarton-Mannschaft hat es in dieser Legislaturperiode mit seinen beiden ehemaligen Teams in der Liga zu tun bekommen und wird dies in den letzten Wochen des Wahlkampfs noch einmal tun. Doch während Stuart McCalls Männer derzeit das Momentum haben - Hibs und Cowdenbeath schlugen, während Alan Stubbs Männer ebenfalls gegen Raith verloren - wäre Murray nicht überrascht, wenn sich das Kräfteverhältnis bald wieder in Richtung Osterstraße verschieben würde. Dumbarton-Chef Ian Murray glaubt, dass die Rangers sich schwer tun werden, ihr Tempo im Vorfeld aufrecht zu erhalten. Die Rangers - derzeit punktgleich, aber mit einem Spiel weniger - haben noch zwei Spiele gegen Titelgewinner Hearts zu bestreiten, darunter das Spiel am Sonntag in Ibrox, während die Leith-Mannschaft es einmal mehr mit ihren Stadtrivalen zu tun hat. HIBS: 4. April Queen of the South (h) 8. April Dumbarton (a) 12. April Hearts (h) 22. April Livingston (a) 25. April Alloa (h) 2. Mai Falkirk (a) Ranger: 5. April Hearts (h) 9. April Königin des Südens (a) 12. April Raith (h) 15. April Livingston (a) 18. April Dumbarton (a) 25. April Falkirk (h) 2. Mai Hearts (a) \"Rangers haben am letzten Samstag ein gutes Ergebnis gegen Cowdenbeath erzielt, um sich im Wettstreit zu halten und ich denke, es wird eng, aber ich glaube immer noch, dass Hibs den leichteren Anlauf haben\", sagte Murray. \"Sie haben auch schwierige Spiele, darunter eins gegen Hearts, und wenn sie es ernst meinen mit dem zweiten Platz, müssen sie an der Osterstraße an diesem Samstag Gegner wie uns und die Königin des Südens schlagen. Das Derby wird sich von selbst erledigen. Ich den\n",
      "\n",
      "pred sentence: Ian Murray rechnet damit, dass ein leichterer Anlauf im letzten Monat der Meisterschaftssaison den zweiten Platz vor den Rangers sicher sein kann. Die Rangers - derzeit punktgleich, aber mit einem Spiel weniger - haben noch zwei Spiele gegen Titelgewinner Hearts zu bestreiten, darunter das Spiel am Sonntag in Ibrox.\n",
      "\n",
      "real sentence: Dumbarton-Chef Ian Murray glaubt, dass Rangers \"harter Anlauf bedeuten könnte, dass sie den zweiten Platz in der schottischen Meisterschaft an Hibernian verpassen. Rangers stehen schwierige Spiele gegen Hearts und Queen of the South bevor. Murray spielte während seiner Karriere sowohl für Rangers als auch für Hibs.\n"
     ]
    }
   ],
   "source": [
    "print(get_random_prediction())"
   ]
  },
  {
   "cell_type": "code",
   "execution_count": 37,
   "metadata": {},
   "outputs": [
    {
     "name": "stdout",
     "output_type": "stream",
     "text": [
      "article: summarize: en_to_en England captain Alastair Cook completed a much-needed century on the second morning of Englands opening tour match in the West Indies. Cook resumed on 95 and reached three figures with minimal fuss before retiring out. England captain Alastair Cook completed a century on the second morning of Englands opening tour match . A controlled thick edge from the first ball of the day brought him an 11th boundary of the innings and in the following over he punched the ball for two off the back foot. He offered a gentle wave of the bat and a handshake to partner Gary Ballance and walked off on 101 from 200 deliveries. That allowed Ian Bell to arrive at the crease, with batting time more important to the tourists than attempting to force a result in this two-day fixture. Ian Bell plays to the offside during day two of the St Kitts and Nevis Invitational XI versus England tour match .\n",
      "\n",
      "pred sentence: England-Kapitän Alastair Cook vollendete am zweiten Morgen des Eröffnungsspiels Englands auf den Westindischen Inseln ein Jahrhundert. Cook setzte auf 95 fort und erreichte mit minimalem Aufheben dreistellige Werte, bevor er ausschied.\n",
      "\n",
      "real sentence: Alastair Cook completed his century on the second morning of action . England captain resumed on 95 and reached three figures before retiring . That allowed Ian Bell to arrive at the crease as tourists continued to bat .\n"
     ]
    }
   ],
   "source": [
    "print(get_random_prediction())"
   ]
  },
  {
   "cell_type": "code",
   "execution_count": 38,
   "metadata": {},
   "outputs": [
    {
     "name": "stdout",
     "output_type": "stream",
     "text": [
      "article: summarize: ger_to_ger Wissenschaftler glauben, dass sich das Leben auf der Erde vor etwa 3,8 Milliarden Jahren entwickelt hat. Doch obwohl sie in der Lage waren, ein Datum für das Erscheinen des Lebens festzulegen, wissen sie noch lange nicht, wie es aussah. Nun sagen Forscher in den USA und Italien, sie hätten Beweise dafür, dass DNA-ähnliche Fragmente vor vier Milliarden Jahren mit \"Anleitungen\" versehen gewesen sein könnten, die ihr Wachstum in komplexe Lebensformen gelenkt hätten. Scrollen Sie nach unten für ein Video: Wissenschaftler glauben, dass sich das Leben auf der Erde vor etwa 3,8 Milliarden Jahren entwickelt hat, aber sie wissen noch lange nicht, wie es entstanden ist. Nun sagen Forscher in den USA und Italien, sie hätten Beweise dafür, dass DNA-ähnliche Fragmente vor 4 Milliarden Jahren mit \"Anleitungen\" geliefert worden sein könnten, die ihr Wachstum in komplexe Lebensformen gelenkt haben. RNA, die für Ribonukleinsäure steht, ist ein Molekül, das aus einem oder mehreren Nukleotiden besteht. Es ist eines von drei großen biologischen Molekülen, die für alle bekannten Lebensformen unverzichtbar sind, zusammen mit DNA und Proteinen. Die Hauptaufgabe der RNA besteht darin, den genetischen Code zur Erzeugung von Proteinen vom Kern auf das Ribosom zu übertragen. Das verhindert, dass die DNA den Kern verlassen muss, und schützt sie vor Schäden. Es fungiert auch als Ein- und Ausschalter für einige Gene. Die Forscher glauben, dass diese Fragmente ihre angeborenen sich selbst entwickelnden Fähigkeiten nutzten, um lange genug in wiederholte chemische Ketten zu wachsen, um sich in primitives Leben zu entwickeln. Die Studie der Universität Mailand und der University of Colorado Boulder basiert auf einer Entdeckung aus den 1980er Jahren, dass die RNA ihre eigene Struktur chemisch verändern kann. Die RNA ist der DNA ähnlich und übernimmt in unseren Zellen eine Reihe von Aufgaben, darunter die Funktion eines Ein-und Ausschalters für einige Gene. Wissenschaftler glauben, dass die RNA in frühen Stadi\n",
      "\n",
      "pred sentence: Wissenschaftler glauben, dass sich das Leben auf der Erde vor etwa 3.8 Milliarden Jahren entwickelt hat. Doch obwohl sie in der Lage waren, ein Datum für das Erscheinen des Lebens festzulegen, wissen sie noch lange nicht, wie es aussah. RNA, die für Ribonukleinsäure steht, ist ein Molekül, das aus einem oder mehreren Nukleotiden besteht.\n",
      "\n",
      "real sentence: Wissenschaftler sagen, frühe DNA-ähnliche Fragmente leiteten ihr eigenes Wachstum. Sie behaupten, dieser Prozess könne die Bildung chemischer Bindungen vorantreiben. Diese verbinden kurze DNA-Ketten zu langen, damit sich Leben entwickeln kann. Diese Fähigkeit zur Selbstmontage hat sich in der RNA gezeigt.\n",
      "article: summarize: en_to_ger (CNN)A fiery sunset greeted people in Washington Sunday. The deep reddish color caught Seattle native Tim Durkans eye. He photographed a handful of aerial shots of the sunset warming the city's skyline and shared them on CNN iReport. The stunning sunsets were the result of raging wildfires in parts of Siberia. \"The dramatic sunsets began showing up over the weekend and had Seattle locals wondering where the amber-colored haze was originating from,\" Durken said. The fires were started in southeastern Siberia, by farmers burning grass in their fields. But on April 14, it is believed that the flames quickly grew out of control because of strong winds and spread throughout the region, according to CNN affiliate KOMO-TV. As a result, the fires have destroyed dozens of villages in the region. Rescue crews were able to put out the flames. However, the lingering smoke from the widespread fires were picked up by atmospheric winds. The winds carried the smoke from Siberia across the Pacific Ocean and brought it to the Pacific Northwest. Parts of Oregon, Washington and British Columbia are seeing the results of the smoke, wind and solar light combination. The reason people are seeing an intense red sunset is a result of smoke particles filtering out the shorter wavelength colors from the sunlight like greens, blues, yellows and purples, KOMO-TV said. That means colors like red and orange are able to penetrate the air unfiltered. The colors are especially intense during sunrises and sunsets because there is more atmosphere for the light to travel through to get to a persons eye. As the smoke starts to dissipate, air quality will get better and these fiery sunsets will lose their reddish hue.\n",
      "\n",
      "pred sentence: Der atemberaubende rote Sonnenuntergang erwärmt die Skyline von Seattle. Die Farben sind besonders intensiv bei Sonnenaufgängen, weil es mehr Atmosphäre gibt, um Licht zu gelangen.\n",
      "\n",
      "real sentence: Rauch von Großbränden in Sibirien verursachte feurige Sonnenuntergänge im pazifischen Nordwesten. Atmosphärische Winde trugen Rauch von den Waldbränden über den Pazifischen Ozean. Rauchpartikel veränderten die Wellenlängen der Sonne und schufen eine intensivere Farbe.\n",
      "article: summarize: ger_to_en Zum Abschluss der Australian Fashion Week hat ein neuer vernichtender Bericht einige der schlimmsten Bekleidungsmarken, die in Australien und ihren Unternehmen verkauft werden, wegen der anhaltenden Ausbeutung ihrer Arbeiter in Übersee genannt und an den Pranger gestellt. Lowes, Industrie, Best & Less und die Just Group - zu der Just Jeans, Portmans und Dotti gehören - wurden vom Australian Fashion Report 2015 als einige der am schlechtesten abschneidenden Unternehmen eingestuft. Am besten schnitten Etiko, Audrey Blue, Cotton On, H & M und Zara ab. Der Bericht untersuchte die Arbeitsrechtsmanagementsysteme von 59 Unternehmen und 219 in Australien tätigen Marken. Der Australian Fashion Report 2015 hat einige der schlimmsten australischen Bekleidungsmarken und Unternehmen für ihre fortdauernde Ausbeutung ausländischer Arbeitskräfte genannt und angeprangert, darunter Etiko, Audrey Blue, Cotton On, H & M und Zara. Er stellte fest, dass nur zwei der Unternehmen nachweisen konnten, dass sie den Arbeitern in zwei der drei Produktionsphasen ihrer Kleidung einen vollen Lebensunterhalt zahlen. Keines der 59 Unternehmen konnte den Arbeitern bei ihren Rohstofflieferanten einen existenzsichernden Lohn nachweisen. Anders als der gesetzlich festgelegte Mindestlohn in einem Land stellt ein existenzsichernder Lohn sicher, dass ein Arbeitnehmer genug Geld hat, um das Notwendigste - wie Nahrung, Wasser, Strom und Unterkunft - zu decken, und trotzdem etwas für sich und seine Angehörigen übrig hat. In einigen Ländern wie Bangladesch, wo der Mindestlohn bei nur 68 US-Dollar im Monat liegt und der Lebensunterhalt 104 US-Dollar beträgt, kann der Unterschied gemacht werden, indem jedem Arbeiter nur 30 Cent pro T-Shirt gezahlt werden. Lowes, Industrie, Best & Less und die Just Group - zu der Just Jeans, Portmans und Dotti gehören - wurden als einige der am schlechtesten abschneidenden Unternehmen identifiziert. \"Der springende Punkt in unserer Berichtsskala ist, dass man nicht sicher sein kann, dass\n",
      "\n",
      "pred sentence: Die Australian Fashion Week hat einen neuen vernichtenden Bericht über einige der schlimmsten Bekleidungsmarken, die in Australien und ihren Unternehmen verkauft werden. Lowes, Industrie, Best & Less und die Just Group - zu denen Just Jeans, Portmans und Dotti gehören - wurden im Australian Fashion Report 2015 als einige der am schlechtesten abschneidenden Unternehmen eingestuft.\n",
      "\n",
      "real sentence: Australian Fashion Report revealed the Australian-sold brands and companies that ignore the exploitation of their overseas workers . Lowes, Industrie, Best & Less and the Just Group - which includes Just Jeans, Portmans and Dotti - were some of the worst performers . Etiko, Audrey Blue, Cotton On, H&M and Zara had some of the best scores . 75 per cent of companies don't know the source of all their fabrics and inputs .\n",
      "article: summarize: ger_to_en Es ist eine Schande, einen weiteren talentierten jungen Spieler beim Hippie-Crack fotografieren zu sehen. Es mag legal sein, aber es ist immer noch eine Droge. Wenn man Spitzenathlet werden will, will man das nicht im Körper haben. Auf seltsame Weise trägt diese Geschichte vielleicht tatsächlich dazu bei, Jack Grealish auf dem Boden zu halten. Gegen Liverpool war er überragend, aber es war ein Spiel, in dem er es noch nicht geschafft hat. Jack Grealish (links) wurde zum dritten Top-Star, der vor laufender Kamera beim Einatmen von Lachgas erwischt wurde. Grealish spielte für Aston Villa beim FA-Cup-Halbfinalsieg über Liverpool am Sonntag in Wembley. Bei Arsenal änderte Arsene Wenger seine Einstellung komplett. Er sagte, dass wir als Profisportler die Pflicht hätten, auf unseren Körper zu achten. Alkohol wurde als Gift beschrieben, das den Körper verlangsamt, wenn er perfekt abgestimmt werden muss. Man isst, was man zum Tanken braucht, nicht zum Vergnügen. Natürlich gibt es immer noch Spieler, die Spaß haben wollen, aber es muss einen Cut-off-Punkt geben. Wenn ich Jack spielen sehe, überrascht es nicht, dass er voller Zuversicht ist. Er hat eine große Zukunft, aber er muss die richtigen Entscheidungen treffen. So sorgt man dafür, dass man auf den hinteren Seiten steht, nicht auf der Vorderseite. Emre Can vom FC Liverpool beim FA-Cup-Spiel gegen Aston Villa in Wembley.\n",
      "\n",
      "pred sentence: Jack Grealish spielte für Aston Villa beim FA-Cup-Halbfinalsieg gegen Liverpool. Er hat eine große Zukunft, aber er muss die richtigen Entscheidungen treffen.\n",
      "\n",
      "real sentence: Aston Villa teenager Jack Grealish was pictured taking hippy crack' Grealish was in impressive form in Aston Villas win over Liverpool . Villa boss Tim Sherwood has warned Grealish over his future behaviour .\n",
      "article: summarize: en_to_en Rafael Benitez has received fresh criticism of his waistline ahead of Napolis crucial Serie A fixture with Sampdoria this weekend, as the quest for a UEFA Champions League place reaches a crescendo in Italy. The Spaniard has been linked with the managerial job at Sampdoria after it emerged that Sinisa Mihajlovic - the current Blucerchiati boss - is being lined up to replace Benitez at Napoli. But Sampdoria president Massimo Ferrero has taken inspiration from a favourite chant of the Goodison Park and Old Trafford terraces, appearing to quash rumours that a job swap is imminent. Napoli manager Rafael Benitez jokes with Switzerland Gokhan Inler (right) during a training session . Benitez challenges Argentinian forward Gonzalo Higuain during a training session earlier today . 'I could take Benitez, but I'd have to take him to see a dietician first,' Ferrero told Radio Crc. 'Anyway, if Mihajlovic does leave, I've already got a replacement. You all say he's leaving, even if I don't know anything about it. 'As far as I am concerned, he's staying. If he were to leave, I'd know who to replace him with. Paulo Sousa's not going to be Sampdoria's next coach, it will be [Italian comedy actor] Lino Banfi.' Sampdoria travel to face Napoli on Sunday trailing Benitez's side by three points, but Ferrero said he would rather keep hold of the Serbian Mihajlovic, who has guided the Genoa-based club from relegation candidates to European contenders in 18 months. 'Napoli would not be taking a step backwards if they were to get Mihajlovic,' Ferrero said. 'I'm talking from my experience and I can say that Sinisa's a man of great sensitivity, a great professional and a great worker. 'He arrives two hours\n",
      "\n",
      "pred sentence: Napoli trifft am Sonntag in der Serie A auf Sampdoria. Rafael Benitez wird mit dem Job in Verbindung gebracht, nachdem bekannt wurde, dass Sinisa Mihajlovic - der derzeitige Blucerchiati-Boss - an der Reihe ist. Der spanische Präsident Massimo Ferrero beharrt darauf, dass er es lieber behalten würde, den serbischen Manager zu verpflichten.\n",
      "\n",
      "real sentence: Ex-Liverpool boss told he would need to see a dietician before appointment . Benitez was often mocked as a fat Spanish waiter during his Anfield reign . Ferrero addresses talk of job swap with Sinisa Mihajlovic heading to Napoli . Mihajlovic has guided Sampdoria to the brink of European qualification .\n",
      "article: summarize: ger_to_en Fettleibige Arbeitnehmer sind \"faul\" und \"nicht in der Lage, ihrer Rolle gerecht zu werden\" und werden daher seltener eingestellt, hat eine neue Umfrage ergeben. Fast die Hälfte der 1.000 befragten britischen Unternehmen gab an, dass sie weniger geneigt sind, einen Bewerber nach einem Vorstellungsgespräch einzustellen, wenn sie fettleibig oder übergewichtig sind. Als Gründe wurden unter anderem genannt, dass übergewichtige Arbeitnehmer \"nicht in der Lage sind, eine volle Rolle im Geschäft zu spielen\", \"faul sind\" und \"nicht in der Lage wären, die erforderliche Arbeit zu leisten\", wie die Studie zeigt. Beverley Sunderland, Geschäftsführerin bei Crosslands Employment Solicitors, die die Studie in Auftrag gegeben hat, sagte: \"Unsere Forschung zeigt, dass Vorurteile gegenüber der Einstellung fettleibiger Arbeitnehmer unter britischen Arbeitgebern weit verbreitet sind\". Eine Umfrage unter 1.000 britischen Unternehmen ergab, dass fast die Hälfte aufgrund ihres Gewichts weniger geneigt ist, einen fettleibigen Bewerber einzustellen, weil sie \"faul\" und \"nicht in der Lage sind, ihre Rolle wie vorgeschrieben zu erfüllen\". Die Ergebnisse kommen im Gefolge eines europäischen Gerichtsverfahrens, das Gewerkschaften und Anwälte im Namen des 25sten Kinderpflegers Karsten Kaltoft, 50, angestrengt hatten, der 2010 von seiner lokalen Behörde in Dänemark entlassen wurde, weil er zu dick war. Im Dezember entschieden die europäischen Richter, dass Fettleibigkeit als Behinderung gilt, wenn sie \"die volle und effektive Teilhabe der Person behindert... auf gleicher Basis mit anderen Arbeitnehmern, wenn sie ihre Arbeit tun. Der Body Mass Index, der aus dem Gewicht und der Körpergröße einer Person berechnet wird, gilt als zuverlässiger Indikator für Fettleibigkeit. Laut Weltgesundheitsorganisation liegt der ideale BMI für die meisten Erwachsenen zwischen 18,5 und 24,9. Liegt der BMI einer Person zwischen 25 und 29,9, wird sie als übergewichtig eingestuft. Im Alter zwischen 30 und 39,9 Jahren sind sie fettleibig und ab 40 Jahren\n",
      "\n",
      "pred sentence: Fast die Hälfte der 1.000 befragten britischen Unternehmen gab an, dass sie weniger geneigt sind, einen Bewerber nach einem Vorstellungsgespräch einzustellen. Die Studie zeigt, dass übergewichtige Arbeitnehmer \"nicht in der Lage sind, eine volle Rolle im Geschäft zu spielen\".\n",
      "\n",
      "real sentence: Survey of 1,000 firms showed half are less inclined to recruit obese people . Believe they are lazy' and 'unable to fulfil their roles as required Comes after European court ruled obesity is a disability after 25st Danish childminder claimed he was sacked by local authority because he was fat . Specialist furniture such as larger chairs . Parking spaces next to the workplace . Dietary advice to overweight staff . Gym memberships . Opportunities to work from home .\n",
      "article: summarize: en_to_en Ed Miliband has overtaken David Cameron as the most popular political leader for the first time. In a shock new poll that will send shockwaves through Downing Street, the Labour leader has jumped ahead of the Prime Minister in personal approval ratings. The Labour Party has also taken a commanding four point lead over the Tories with just 28 days until polling day, according to the pollsters Survation. Labour leader Ed Miliband has jumped ahead of the Prime Minister in personal approval ratings, a Survation poll has revealed . The revelation comes in the wake of a furious political row over the Labour leader’s personal character – after the Defence Secretary Michael Fallon said Mr Miliband could stab Britain in the back like he did to his brother. Mr Miliband responded by accusing the Tories of dragging the election campaign ‘into the gutter’. The Tories have pinned much of their election hopes on turning the campaign into a straight choice between Mr Cameron and the Labour leader. But the campaign could backfire if Mr Miliband overtakes the Prime Minister in the polls. According to tonight’s Survation poll for the Daily Mirror, with less than a month until the general election, Labour has opened up a four-point gap over the Tories. Labour is up 2 points on 35, the Conservatives down one to 31. Nigel Farage’s Ukip, meanwhile, are down three to 15 with the Lib Dems still struggling on just 9 per cent. The SNP and the Greens are on 4 per cent each. It is the biggest Labour lead in a Survation poll since February and was conducted after the party announced plans to scrap a ‘tax loophole’ used by wealthy ‘non doms’ to lower their tax bills. With less than a month until the general election, Labour has opened up a four-point gap over the Tories. The Tories have pinned much of their election hopes on turning the campaign into a straight choice between Mr Cameron and the Labour leader . According to tonight’s poll, nearly seven out of ten voters back Mr Miliband’s proposal to scrap the non dom tax status. Four out of 10 voters ‘strongly’ support the move – with just 14 per cent opposed. The poll\n",
      "\n",
      "pred sentence: Ed Miliband hat David Cameron in der persönlichen Zustimmungsrate überholt. Labour hat mit nur 28 Tagen bis zum Wahltag einen kommandierenden Vier-Punkte-Vorsprung über die Tories. Die Enthüllung kommt im Gefolge eines wütenden politischen Streits über den persönlichen Charakter des Labour-Chefs. Der Tories haben einen Großteil ihrer Wahlhoffnungen darauf geworfen, die Wahlkampagne in eine direkte Wahl zwischen Herrn Cameron und den Tories zu ziehen.\n",
      "\n",
      "real sentence: Miliband overtakes David Cameron as the most popular political leader . It is the first time that Labour leader has been ahead in approval ratings . Labour Party has also taken a commanding four point lead over the Tories .\n",
      "article: summarize: en_to_ger At 11:20pm, former world champion Ken Doherty potted a final black and extinguished, for now, the dream of Reanne Evans to become the first women player to play the hallowed baize of Sheffields Crucible Theatre in the world snooker championship. In every other respect however, 29-year-old Evans, a single mum from Dudley, was a winner on Thursday night. She advanced the cause of women in sport no end and gave Doherty the fright of his life in an enthralling and attritional match that won't be bettered in this year's qualifying tournament. Snooker's governing body had been criticised in some quarters for allowing Evans a wild card to compete alongside 127 male players for the right to play in the sport's blue-chip event on April 18 - something no female had achieved. Reanne Evans shakes hands with Ken Doherty following his 10-8 victory at Ponds Forge . Evans plays a shot during her world championship qualifying match against Doherty . Doherty, who won the World Championship title back in 1997, took out the first frame 71-15 . Evans had Doherty in all sorts of trouble before the former champion closed out the game 10-8 . Those critics and the bookies who made Doherty a ridiculously short-priced 20/1 on favourite were made to look foolish as Evans had her illustrious opponent on the ropes before finally bowing out 10-8. A gracious Doherty admitted afterwards: 'She played out of her skin. It was good match play snooker and tough all the way through. There was a lot of pressure on this match, a different kind of pressure to what I've ever experienced. 'I don't usually feel sympathy for my opponents but I felt sorry at the end. She played better than me and lost. I don't know how I won that final frame. If it had gone to 9-9, I'd have been a million-to-one to win it.' Evans, cheered on by her eight-year-old daughter Lauren at the Ponds Forge sports centre in Sheffield, admitted she was exhausted after a match\n",
      "\n",
      "pred sentence: Reanne Evans besiegte Ken Doherty in ihrem WM-Qualifikationsspiel am Donnerstagabend in Ponds Forge mit 10-8. Die 29-Jährige ist die erste Frau, die das Crucible Theatre in Sheffield gespielt hat. Die ehemalige Weltmeisterin gewann den ersten Satz 71-15, bevor sie sich 10-8 beugte.\n",
      "\n",
      "real sentence: Reanne Evans traf in der WM-Qualifikation auf Ken Doherty. Doherty gewann 1997 die Weltmeisterschaft. Evans verlor den ersten Frame 71-15 gegen Doherty. Doch der gebürtige Dudley kämpfte sich zurück und führte 4-3. Ken Doherty gelang es jedoch, einen packenden Wettkampf mit 10-8 zu beenden.\n",
      "article: summarize: ger_to_ger Jeremy Clarkson und seine Kollegen von Top Gear waren gerade dabei, ihre lukrativen Kontakte um drei weitere Jahre zu verlängern, aber sie wurden verschrottet, als der Star den Produzenten der Show schlug. James May, 52, enthüllte, dass er den Dreijahresvertrag vorzeitig gefeiert hatte, indem er einen seltenen 200.000 Pfund teuren Ferrari vor Clarksons Entlassung nach einem berüchtigten \"Fracas\" mit Produzent Oisin Tymon bestellte. May sagt, er habe den letzten je georderten Ferrari 458 Speciale - in leuchtendem Orange - bestellt, während auf seinem Schreibtisch der \"Entwurf\" des lukrativen Vertrages \"mit nur wenigen zu lösenden Details\" lag. Doch nachdem Clarkson Tymon wütend über eine warme Mahlzeit geschlagen hatte, wurde das Angebot vom Tisch genommen. Blättern Sie nach unten für Video. Jeremy Clarkson (rechts) und seine Kollegen von Top Gear standen kurz vor einem lukrativen neuen Vertrag, als Clarksons berüchtigte \"Fracas\" das Angebot annahmen. May enthüllte, dass er den Drei-Jahres-Vertrag vorzeitig gefeiert hatte, während der Vertrag noch unter Dach und Fach war, indem er einen 200.000 £teuren Ferrari 458 Speciale in leuchtendem Orange (im Bild) bestellte. Der Moderator sagte, das Trio habe geplant, die Show bis zum Ende des neuen Vertrages fortzusetzen, bevor es \"mit Würde\" gehe. Doch Clarkson, 55, wurde im letzten Monat sensationell von der BBC entlassen, und Richard Hammond, 45, bestätigte gemeinsam mit May, dass er diese Woche nicht zu Top Gear zurückkehren wird. In einer Kolumne für die Sunday Times schrieb May: \"Da standen wir alle drei am Rande eines neuen Dreijahresvertrags, um Top Gear zu produzieren. Danach würden wir es definitiv mit Würde an den Nagel hängen und die Zügel an eine neue\n",
      "\n",
      "pred sentence: Jeremy Clarkson und seine Kollegen von Top Gear waren gerade dabei, ihre lukrativen Kontakte um drei weitere Jahre zu verlängern, aber sie wurden verschrottet, als der Star den Produzenten der Show schlug. May sagt, dass er den Drei-Jahres-Vertrag vorzeitig gefeiert hatte, während der Vertrag noch unter Dach und Fach war.\n",
      "\n",
      "real sentence: James May enthüllt, dass er vorzeitig feierte, indem er £200.000 Ferrari bestellte. Der lukrative Vertrag lag in einem Entwurf vor, in dem nur ein paar Details zu klären waren, aber das Angebot wurde nach Clarksons berüchtigten \"Fracas\" mit dem Produzenten wieder zurückgezogen.\n",
      "article: summarize: en_to_ger At least 34 people were arrested after hundreds of protesters gathered in New York City on Tuesday night to march against police brutality. The march was organized by National Actions to Stop Murder By Police. Many of the protesters cited the deaths of Eric Garner in Staten Island and Walter Scott in South Carolina. The protesters marched from Manhattans Union Square and across the Brooklyn Bridge where they partially blocked traffic. Scroll down for video . Hundreds of protesters gathered in New York City on Tuesday night to march against police brutality . Demonstrators climb on the Brooklyn Bridge during the protest against police brutality . The march was organized by National Actions to Stop Murder By Police . Stephen Davis, the Police Department's chief spokesman, said 34 people had been arrested by early evening . Many of the protesters cited the deaths of Eric Garner in Staten Island and Walter Scott in South Carolina . Organizers say Tuesday's protest was one of 28 being held across the country . Protesters tried to gain accress to the roadways of the Brooklyn Bridge, but they were blocked by police . Police began making arrests around 4:30 p.m. and by late evening at least 34 people had been arrested . Stephen Davis, the Police Department’s chief spokesman, said 34 people had been arrested by 6:40 p.m, reports the New York Times. Police say an off-duty police officer driving home on the bridge was assaulted by two protesters when he got out of his vehicle to investigate. Police say the suspects ran off after he identified himself as a police officer. He was hospitalized with injuries to his face and arm. Mayor Bill de Blasio released a statement condemning the violence - he said it was 'unacceptable and will absolutely not be tolerated.' Traffic was halted as more people gained access to the roads . Protesters were angered by fresh cases of police violence against unarmed black men in the United States . 'And any other person who might use the right to peaceful protest as cover to initiate violence, cause mayhem or incite disorder — whether against the police, the people or property of our great city — should consider themselves on notice that New York City will not stand for it.' Last year, two\n",
      "\n",
      "pred sentence: Hunderte von Demonstranten versammelten sich in der Nacht zum Dienstag in New York City, um gegen die Polizeibrutalität zu demonstrieren. Viele der Protestierenden zitierten den Tod von Eric Garner in Staten Island und Walter Scott in South Carolina. Die Demonsten marschierten vom Union Square in Manhattan und über die Brooklyn Bridge, wo sie teilweise den Verkehr blockierten. Bürgermeister Bill de Blasio verurteilte die Gewalt - er sagte, sie sei \"inakzeptabel und werde absolut nicht toleriert\".\n",
      "\n",
      "real sentence: Die Demonstranten marschierten vom Union Square in Manhattan und über die Brooklyn Bridge, wo sie teilweise den Verkehr blockierten. Sie marschierten vom Union Square in Manhattan und über die Brooklyn Bridge, wo sie teilweise den Verkehr blockierten. Laut Polizei wurde ein Polizeibeamter, der auf der Brücke nach Hause fuhr, von zwei Demonstranten angegriffen, als er aus seinem Fahrzeug stieg, um zu ermitteln.\n"
     ]
    }
   ],
   "source": [
    "for i in range(10):\n",
    "    print(get_random_prediction())"
   ]
  },
  {
   "cell_type": "markdown",
   "metadata": {},
   "source": [
    "## Save results to text file"
   ]
  },
  {
   "cell_type": "code",
   "execution_count": 39,
   "metadata": {},
   "outputs": [],
   "source": [
    "result_path = \"../results/result_02.txt\"\n",
    "open(result_path, \"w\")\n",
    "for pred in predictions:\n",
    "    with open(result_path, \"a\") as file:\n",
    "        file.write(pred + \"\\n\")"
   ]
  },
  {
   "cell_type": "markdown",
   "metadata": {},
   "source": [
    "## Load save File"
   ]
  },
  {
   "cell_type": "code",
   "execution_count": 40,
   "metadata": {},
   "outputs": [],
   "source": [
    "data_points = []\n",
    "result_path = \"../results/result_02.txt\"\n",
    "file = open(result_path, \"r\")\n",
    "for line in file:\n",
    "    data_points.append(line)"
   ]
  },
  {
   "cell_type": "code",
   "execution_count": 42,
   "metadata": {},
   "outputs": [
    {
     "data": {
      "text/plain": [
       "'real sentence: Justizabteilung In einem 7-seitigen Brief an den Sprecher des Repräsentantenhauses, John Boehner, erklärte Lerner, warum der ehemalige IRS-Beamte sich auf den fünften Zusatzartikel berufen durfte. Der mit dem Fall betraute Bundesstaatsanwalt schickte seine Entscheidung am letzten Tag vor Inkrafttreten seines eigenen Rücktritts an das Capitol Hill. Lerner gab bei einer Anhörung 2013 eine eigennützige Eröffnungserklärung ab, weigerte sich aber, Fragen zu stellen, obwohl sie unter Vorladung stand. Die Anhörung konzentrierte sich auf die Gewohnheit\\n'"
      ]
     },
     "execution_count": 42,
     "metadata": {},
     "output_type": "execute_result"
    }
   ],
   "source": [
    "data_points[4]"
   ]
  },
  {
   "cell_type": "code",
   "execution_count": 43,
   "metadata": {},
   "outputs": [],
   "source": [
    "class SummaryData():\n",
    "    \n",
    "    def __init__(self):\n",
    "        self.language_tag = ''\n",
    "        self.real_data = ''\n",
    "        self.pred_data = ''        "
   ]
  },
  {
   "cell_type": "code",
   "execution_count": 44,
   "metadata": {},
   "outputs": [
    {
     "data": {
      "text/plain": [
       "{'language_tag': 'ger_to_ger',\n",
       " 'real_data': ' Justizabteilung In einem 7-seitigen Brief an den Sprecher des Repräsentantenhauses, John Boehner, erklärte Lerner, warum der ehemalige IRS-Beamte sich auf den fünften Zusatzartikel berufen durfte. Der mit dem Fall betraute Bundesstaatsanwalt schickte seine Entscheidung am letzten Tag vor Inkrafttreten seines eigenen Rücktritts an das Capitol Hill. Lerner gab bei einer Anhörung 2013 eine eigennützige Eröffnungserklärung ab, weigerte sich aber, Fragen zu stellen, obwohl sie unter Vorladung stand. Die Anhörung konzentrierte sich auf die Gewohnheit\\n',\n",
       " 'pred_data': ' Der Sprecher des Repräsentantenhauses, John Boehner, teilte mit, dass Lerner sich in den fünften Zusatzartikeln der US-Verfassung einwickeln könne. Lerner steht seit langem im Fadenkreuz der GOP, weil sie die IRS-Abteilung leitete, die mit der Genehmigung von Anträgen gemeinnütziger Gruppen auf steuerfreien Status betraut ist.\\n'}"
      ]
     },
     "execution_count": 44,
     "metadata": {},
     "output_type": "execute_result"
    }
   ],
   "source": [
    "count = 0\n",
    "summary_data = SummaryData()\n",
    "summary_data_list = []\n",
    "for point in data_points:\n",
    "    count += 1\n",
    "    \n",
    "    if count == 1:\n",
    "        summary_data.language_tag = point.split(\" \")[2]\n",
    "    elif count == 3:\n",
    "        summary_data.pred_data = \": \".join(point.split(\":\")[1:])\n",
    "    elif count == 5:\n",
    "        summary_data.real_data = \": \".join(point.split(\":\")[1:])\n",
    "        summary_data_list.append(summary_data)\n",
    "        summary_data = SummaryData()\n",
    "        count = 0\n",
    "summary_data_list[0].__dict__"
   ]
  },
  {
   "cell_type": "code",
   "execution_count": 45,
   "metadata": {},
   "outputs": [],
   "source": [
    "from ast import literal_eval\n",
    "\n",
    "results_en_trans = []\n",
    "results_en_path = \"../results/en_en_results\"\n",
    "file = open(results_en_path, \"r\")\n",
    "for i, line in enumerate(file):\n",
    "    results_en_trans.append(literal_eval(line))\n",
    "    \n",
    "results_ger_trans = []\n",
    "results_ger_path = \"../results/en_en_results\"\n",
    "file = open(results_ger_path, \"r\")\n",
    "for i, line in enumerate(file):\n",
    "    results_ger_trans.append(literal_eval(line))"
   ]
  },
  {
   "cell_type": "code",
   "execution_count": 46,
   "metadata": {},
   "outputs": [
    {
     "data": {
      "text/plain": [
       "{'en_to_en': <__main__.RougeScore at 0x7f358c4bde80>,\n",
       " 'en_to_ger': <__main__.RougeScore at 0x7f358c4bd0f0>,\n",
       " 'ger_to_en': <__main__.RougeScore at 0x7f358c179f28>,\n",
       " 'ger_to_ger': <__main__.RougeScore at 0x7f3574791f28>}"
      ]
     },
     "execution_count": 46,
     "metadata": {},
     "output_type": "execute_result"
    }
   ],
   "source": [
    "rouge_scores_dict = dict()\n",
    "rouge_scores_dict['en_to_en'] = RougeScore()\n",
    "# rouge_scores_dict['en_to_en_trans'] = RougeScore()\n",
    "\n",
    "rouge_scores_dict['en_to_ger'] = RougeScore()\n",
    "rouge_scores_dict['ger_to_en'] = RougeScore()\n",
    "rouge_scores_dict['ger_to_ger'] = RougeScore()\n",
    "# rouge_scores_dict['ger_to_ger_trans'] = RougeScore()\n",
    "\n",
    "rouge_scores_dict"
   ]
  },
  {
   "cell_type": "code",
   "execution_count": 47,
   "metadata": {},
   "outputs": [],
   "source": [
    "for summary_data in summary_data_list:\n",
    "    rouge_scores_dict[summary_data.language_tag](summary_data.real_data, summary_data.pred_data)\n",
    "    "
   ]
  },
  {
   "cell_type": "code",
   "execution_count": 48,
   "metadata": {},
   "outputs": [
    {
     "name": "stdout",
     "output_type": "stream",
     "text": [
      "rouge1 = 11.38, 95% confidence [10.22, 12.38]\n",
      "rouge2 = 3.93, 95% confidence [3.35, 4.59]\n",
      "rougeLsum = 10.62, 95% confidence [9.66, 11.63]\n",
      "en_to_en {'rouge1': 11.377223619372618, 'rouge2': 3.926394264914629, 'rougeLsum': 10.622083612293935}\n",
      "\n",
      "rouge1 = 33.86, 95% confidence [32.31, 35.61]\n",
      "rouge2 = 13.73, 95% confidence [12.44, 15.06]\n",
      "rougeLsum = 23.92, 95% confidence [22.60, 25.24]\n",
      "en_to_ger {'rouge1': 33.85660986812824, 'rouge2': 13.73331925809661, 'rougeLsum': 23.919439511259714}\n",
      "\n",
      "rouge1 = 9.74, 95% confidence [8.84, 10.80]\n",
      "rouge2 = 3.29, 95% confidence [2.75, 3.93]\n",
      "rougeLsum = 9.15, 95% confidence [8.28, 10.19]\n",
      "ger_to_en {'rouge1': 9.741955767604104, 'rouge2': 3.2872073062236495, 'rougeLsum': 9.146500119759168}\n",
      "\n",
      "rouge1 = 31.24, 95% confidence [29.70, 32.88]\n",
      "rouge2 = 12.03, 95% confidence [10.77, 13.52]\n",
      "rougeLsum = 21.48, 95% confidence [20.07, 22.82]\n",
      "ger_to_ger {'rouge1': 31.24288565519981, 'rouge2': 12.032575111047011, 'rougeLsum': 21.48437773872943}\n",
      "\n"
     ]
    }
   ],
   "source": [
    "for key, rouge_score_item in rouge_scores_dict.items():\n",
    "    print(key, rouge_score_item.result())\n",
    "    print()"
   ]
  },
  {
   "cell_type": "code",
   "execution_count": null,
   "metadata": {},
   "outputs": [],
   "source": []
  },
  {
   "cell_type": "markdown",
   "metadata": {},
   "source": [
    "# Special Example"
   ]
  },
  {
   "cell_type": "code",
   "execution_count": 29,
   "metadata": {},
   "outputs": [],
   "source": [
    "input_text = \"In a world where we have to read and understand a lot of documents automatic text summarization has an obvious demand. To have the option to get a brief summary of a text in your language can be very useful. But would it not be even more useful, if you could have the option to get a summary of a text in a language, you do not understand, in your wished language? Sometimes we don’t want an exact translation, sometimes we just want to know a brief overview of a text in a language we don’t understand. That is the case where Cross-Lingual summarization would be prefered over normal translation. Cross-Lingual summarization can give you a short overview of a text in a language you do not understand.\""
   ]
  },
  {
   "cell_type": "code",
   "execution_count": 30,
   "metadata": {},
   "outputs": [],
   "source": [
    "input_text_test = \"The dramatic growth of data on the internet leads to the need to automatically process and understand the data. A big part of the data is text data in many languages. This overwhelming amount of information causes a demand for automatic text summarization and other Natural Language Processing (NLP) taks.\\n The Field of NLP had some high points in the last couple of years, when the field got revolutionized by Neural Language Models. With publications like Attention is all you need \\cite{vaswani2017attention} or GPT3\\cite{brown2020language} the limits of the field are pushed even further. Because of large data corpuses, scraped from the internet, and advanced models which contain up to 175 Billion parameters like the GPT3 it is possible to generate text, answer questions, summarize text, translate or many other things.\\n In this master thesis we will take a deeper look into summarization. There are extractive and abstractive techniques to summarization. The extractive summary technique tries to find subsets of sentences, which representante the original text well and uses them to summarize the original text \\cite{allahyari2017text}. The abstractive technique uses advanced language models to generate a new text, which should be much shorter than the original one, contain all the key information and preserve the overall meaning.\\n In this master thesis we will use the abstractive technique, because it is closer to a human-like interpretation. It combines the ability to understand what the context of a given text is and the ability to generate fluent and grammatically correct text to that given context.\\n The summarization in one language is an interesting topic but cross lingual approach is even more interesting. The goal of Cross Lingual Summarization is to summarize a text from one language into another language. It combines the ability to summarize and the ability to translate. Where state of the art models perform well on normal summarization, it will be interesting to see how well they perform doing Cross-Lingual Summarization.\""
   ]
  },
  {
   "cell_type": "code",
   "execution_count": 31,
   "metadata": {},
   "outputs": [],
   "source": [
    "x = tokenizer.encode_plus(\"summarize: en_to_ger \" + input_text, max_length=512, return_tensors=\"tf\", padding='max_length', truncation=True)\n",
    "input_ids = tf.reshape(x['input_ids'], (1,-1))\n",
    "attention_mask = tf.reshape(x['attention_mask'], (1,-1))"
   ]
  },
  {
   "cell_type": "code",
   "execution_count": 32,
   "metadata": {},
   "outputs": [
    {
     "name": "stdout",
     "output_type": "stream",
     "text": [
      "(1, 512) (1, 512)\n"
     ]
    }
   ],
   "source": [
    "print(input_ids.shape, attention_mask.shape)"
   ]
  },
  {
   "cell_type": "code",
   "execution_count": 33,
   "metadata": {},
   "outputs": [],
   "source": [
    "summaries = model.generate( \n",
    "    input_ids=input_ids, \n",
    "    attention_mask=attention_mask\n",
    ")"
   ]
  },
  {
   "cell_type": "code",
   "execution_count": 34,
   "metadata": {},
   "outputs": [
    {
     "data": {
      "text/plain": [
       "<tf.Tensor: shape=(1, 74), dtype=int32, numpy=\n",
       "array([[    0,    86,   645,  3779,     6,    16,    74,   558,  2584,\n",
       "            3, 20127,    15,   110,    35,    64, 19163,  3766,     6,\n",
       "          229, 15820,    15,  5027,     7,    63,    29, 19712,   266,\n",
       "        30410,    15,  5222,  6367,     5,  4098,  6199,     3,    15,\n",
       "            7,   311, 30001,    49,     6,  1301,   292,    67,  7251,\n",
       "         8219,    29,     6,   266, 11068, 14449,   266,     7,  5027,\n",
       "           15,     7,    16,   645, 16933,   170,  8837,     6,    67,\n",
       "          292,   311, 19163,     6,    16,  1197,    52, 24054,    29,\n",
       "        16933,    58]], dtype=int32)>"
      ]
     },
     "execution_count": 34,
     "metadata": {},
     "output_type": "execute_result"
    }
   ],
   "source": [
    "summaries"
   ]
  },
  {
   "cell_type": "code",
   "execution_count": 35,
   "metadata": {},
   "outputs": [
    {
     "data": {
      "text/plain": [
       "'<pad> In einer Welt, in der wir viele Dokumente lesen und verstehen müssen, ist automatische Textsynthese eine offensichtliche Forderung. Aber wäre es nicht nützlicher, wenn Sie die Möglichkeit hätten, eine Zusammenfassung eines Textes in einer Sprache zu bekommen, die Sie nicht verstehen, in Ihrer gewünschten Sprache?'"
      ]
     },
     "execution_count": 35,
     "metadata": {},
     "output_type": "execute_result"
    }
   ],
   "source": [
    "tokenizer.decode(summaries[0])"
   ]
  },
  {
   "cell_type": "code",
   "execution_count": null,
   "metadata": {},
   "outputs": [],
   "source": []
  }
 ],
 "metadata": {
  "kernelspec": {
   "display_name": "Python 3",
   "language": "python",
   "name": "python3"
  },
  "language_info": {
   "codemirror_mode": {
    "name": "ipython",
    "version": 3
   },
   "file_extension": ".py",
   "mimetype": "text/x-python",
   "name": "python",
   "nbconvert_exporter": "python",
   "pygments_lexer": "ipython3",
   "version": "3.6.9"
  }
 },
 "nbformat": 4,
 "nbformat_minor": 4
}
