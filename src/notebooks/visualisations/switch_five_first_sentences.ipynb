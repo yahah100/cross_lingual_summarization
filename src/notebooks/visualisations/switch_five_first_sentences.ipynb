{
 "cells": [
  {
   "cell_type": "code",
   "execution_count": 1,
   "metadata": {},
   "outputs": [
    {
     "name": "stdout",
     "output_type": "stream",
     "text": [
      "\u001b[33mWARNING: The directory '/root/.cache/pip' or its parent directory is not owned or is not writable by the current user. The cache has been disabled. Check the permissions and owner of that directory. If executing pip with sudo, you may want sudo's -H flag.\u001b[0m\n",
      "Requirement already satisfied: absl-py==0.11.0 in /usr/local/lib/python3.6/dist-packages (from -r requirements.txt (line 1)) (0.11.0)\n",
      "Requirement already satisfied: argon2-cffi==20.1.0 in /usr/local/lib/python3.6/dist-packages (from -r requirements.txt (line 2)) (20.1.0)\n",
      "Requirement already satisfied: asn1crypto==0.24.0 in /usr/lib/python3/dist-packages (from -r requirements.txt (line 3)) (0.24.0)\n",
      "Requirement already satisfied: astunparse==1.6.3 in /usr/local/lib/python3.6/dist-packages (from -r requirements.txt (line 4)) (1.6.3)\n",
      "Requirement already satisfied: async-generator==1.10 in /usr/local/lib/python3.6/dist-packages (from -r requirements.txt (line 5)) (1.10)\n",
      "Requirement already satisfied: attrs==20.3.0 in /usr/local/lib/python3.6/dist-packages (from -r requirements.txt (line 6)) (20.3.0)\n",
      "Requirement already satisfied: backcall==0.2.0 in /usr/local/lib/python3.6/dist-packages (from -r requirements.txt (line 7)) (0.2.0)\n",
      "Requirement already satisfied: bleach==3.2.2 in /usr/local/lib/python3.6/dist-packages (from -r requirements.txt (line 8)) (3.2.2)\n",
      "Collecting blis==0.7.4\n",
      "  Downloading blis-0.7.4-cp36-cp36m-manylinux2014_x86_64.whl (9.8 MB)\n",
      "\u001b[K     |████████████████████████████████| 9.8 MB 6.7 MB/s eta 0:00:01\n",
      "\u001b[?25hRequirement already satisfied: cachetools==4.2.0 in /usr/local/lib/python3.6/dist-packages (from -r requirements.txt (line 10)) (4.2.0)\n",
      "Collecting catalogue==2.0.1\n",
      "  Downloading catalogue-2.0.1-py3-none-any.whl (9.6 kB)\n",
      "Requirement already satisfied: certifi==2020.12.5 in /usr/local/lib/python3.6/dist-packages (from -r requirements.txt (line 12)) (2020.12.5)\n",
      "Requirement already satisfied: cffi==1.14.4 in /usr/local/lib/python3.6/dist-packages (from -r requirements.txt (line 13)) (1.14.4)\n",
      "Requirement already satisfied: chardet==4.0.0 in /usr/local/lib/python3.6/dist-packages (from -r requirements.txt (line 14)) (4.0.0)\n",
      "Collecting click==7.1.2\n",
      "  Downloading click-7.1.2-py2.py3-none-any.whl (82 kB)\n",
      "\u001b[K     |████████████████████████████████| 82 kB 13.3 MB/s eta 0:00:01\n",
      "\u001b[?25hCollecting contextvars==2.4\n",
      "  Downloading contextvars-2.4.tar.gz (9.6 kB)\n",
      "Requirement already satisfied: cryptography==2.1.4 in /usr/lib/python3/dist-packages (from -r requirements.txt (line 17)) (2.1.4)\n",
      "Requirement already satisfied: cycler==0.10.0 in /usr/local/lib/python3.6/dist-packages (from -r requirements.txt (line 18)) (0.10.0)\n",
      "Collecting cymem==2.0.5\n",
      "  Downloading cymem-2.0.5-cp36-cp36m-manylinux2014_x86_64.whl (35 kB)\n",
      "Collecting dataclasses==0.8\n",
      "  Downloading dataclasses-0.8-py3-none-any.whl (19 kB)\n",
      "Requirement already satisfied: decorator==4.4.2 in /usr/local/lib/python3.6/dist-packages (from -r requirements.txt (line 21)) (4.4.2)\n",
      "Requirement already satisfied: defusedxml==0.6.0 in /usr/local/lib/python3.6/dist-packages (from -r requirements.txt (line 22)) (0.6.0)\n",
      "Requirement already satisfied: entrypoints==0.3 in /usr/local/lib/python3.6/dist-packages (from -r requirements.txt (line 23)) (0.3)\n",
      "Collecting filelock==3.0.12\n",
      "  Downloading filelock-3.0.12-py3-none-any.whl (7.6 kB)\n",
      "Requirement already satisfied: flatbuffers==1.12 in /usr/local/lib/python3.6/dist-packages (from -r requirements.txt (line 25)) (1.12)\n",
      "Requirement already satisfied: gast==0.3.3 in /usr/local/lib/python3.6/dist-packages (from -r requirements.txt (line 26)) (0.3.3)\n",
      "Collecting gcloud==0.18.3\n",
      "  Downloading gcloud-0.18.3.tar.gz (454 kB)\n",
      "\u001b[K     |████████████████████████████████| 454 kB 13.4 MB/s eta 0:00:01\n",
      "\u001b[?25hRequirement already satisfied: google-auth==1.24.0 in /usr/local/lib/python3.6/dist-packages (from -r requirements.txt (line 28)) (1.24.0)\n",
      "Requirement already satisfied: google-auth-oauthlib==0.4.2 in /usr/local/lib/python3.6/dist-packages (from -r requirements.txt (line 29)) (0.4.2)\n",
      "Requirement already satisfied: google-pasta==0.2.0 in /usr/local/lib/python3.6/dist-packages (from -r requirements.txt (line 30)) (0.2.0)\n",
      "Collecting googleapis-common-protos==1.53.0\n",
      "  Downloading googleapis_common_protos-1.53.0-py2.py3-none-any.whl (198 kB)\n",
      "\u001b[K     |████████████████████████████████| 198 kB 12.9 MB/s eta 0:00:01\n",
      "\u001b[?25hRequirement already satisfied: grpcio==1.32.0 in /usr/local/lib/python3.6/dist-packages (from -r requirements.txt (line 32)) (1.32.0)\n",
      "Requirement already satisfied: h5py==2.10.0 in /usr/local/lib/python3.6/dist-packages (from -r requirements.txt (line 33)) (2.10.0)\n",
      "Collecting httplib2==0.19.1\n",
      "  Downloading httplib2-0.19.1-py3-none-any.whl (95 kB)\n",
      "\u001b[K     |████████████████████████████████| 95 kB 15.5 MB/s eta 0:00:01\n",
      "\u001b[?25hRequirement already satisfied: idna==2.6 in /usr/lib/python3/dist-packages (from -r requirements.txt (line 35)) (2.6)\n",
      "Collecting immutables==0.15\n",
      "  Downloading immutables-0.15-cp36-cp36m-manylinux1_x86_64.whl (100 kB)\n",
      "\u001b[K     |████████████████████████████████| 100 kB 14.1 MB/s ta 0:00:01\n",
      "\u001b[?25hRequirement already satisfied: importlib-metadata==3.4.0 in /usr/local/lib/python3.6/dist-packages (from -r requirements.txt (line 37)) (3.4.0)\n",
      "Requirement already satisfied: ipykernel==5.1.1 in /usr/local/lib/python3.6/dist-packages (from -r requirements.txt (line 38)) (5.1.1)\n",
      "Requirement already satisfied: ipython==7.16.1 in /usr/local/lib/python3.6/dist-packages (from -r requirements.txt (line 39)) (7.16.1)\n",
      "Requirement already satisfied: ipython-genutils==0.2.0 in /usr/local/lib/python3.6/dist-packages (from -r requirements.txt (line 40)) (0.2.0)\n",
      "Requirement already satisfied: ipywidgets==7.6.3 in /usr/local/lib/python3.6/dist-packages (from -r requirements.txt (line 41)) (7.6.3)\n",
      "Requirement already satisfied: jedi==0.18.0 in /usr/local/lib/python3.6/dist-packages (from -r requirements.txt (line 42)) (0.18.0)\n",
      "Requirement already satisfied: Jinja2==2.11.2 in /usr/local/lib/python3.6/dist-packages (from -r requirements.txt (line 43)) (2.11.2)\n",
      "Collecting joblib==1.0.1\n",
      "  Downloading joblib-1.0.1-py3-none-any.whl (303 kB)\n",
      "\u001b[K     |████████████████████████████████| 303 kB 12.6 MB/s eta 0:00:01\n",
      "\u001b[?25hRequirement already satisfied: jsonschema==3.2.0 in /usr/local/lib/python3.6/dist-packages (from -r requirements.txt (line 45)) (3.2.0)\n",
      "Requirement already satisfied: jupyter==1.0.0 in /usr/local/lib/python3.6/dist-packages (from -r requirements.txt (line 46)) (1.0.0)\n",
      "Requirement already satisfied: jupyter-client==6.1.11 in /usr/local/lib/python3.6/dist-packages (from -r requirements.txt (line 47)) (6.1.11)\n",
      "Requirement already satisfied: jupyter-console==6.2.0 in /usr/local/lib/python3.6/dist-packages (from -r requirements.txt (line 48)) (6.2.0)\n",
      "Requirement already satisfied: jupyter-core==4.7.0 in /usr/local/lib/python3.6/dist-packages (from -r requirements.txt (line 49)) (4.7.0)\n",
      "Requirement already satisfied: jupyter-http-over-ws==0.0.8 in /usr/local/lib/python3.6/dist-packages (from -r requirements.txt (line 50)) (0.0.8)\n",
      "Requirement already satisfied: jupyterlab-pygments==0.1.2 in /usr/local/lib/python3.6/dist-packages (from -r requirements.txt (line 51)) (0.1.2)\n",
      "Requirement already satisfied: jupyterlab-widgets==1.0.0 in /usr/local/lib/python3.6/dist-packages (from -r requirements.txt (line 52)) (1.0.0)\n",
      "Requirement already satisfied: Keras-Preprocessing==1.1.2 in /usr/local/lib/python3.6/dist-packages (from -r requirements.txt (line 53)) (1.1.2)\n",
      "Requirement already satisfied: keyring==10.6.0 in /usr/lib/python3/dist-packages (from -r requirements.txt (line 54)) (10.6.0)\n",
      "Requirement already satisfied: keyrings.alt==3.0 in /usr/lib/python3/dist-packages (from -r requirements.txt (line 55)) (3.0)\n",
      "Requirement already satisfied: kiwisolver==1.3.1 in /usr/local/lib/python3.6/dist-packages (from -r requirements.txt (line 56)) (1.3.1)\n",
      "Requirement already satisfied: Markdown==3.3.3 in /usr/local/lib/python3.6/dist-packages (from -r requirements.txt (line 57)) (3.3.3)\n",
      "Requirement already satisfied: MarkupSafe==1.1.1 in /usr/local/lib/python3.6/dist-packages (from -r requirements.txt (line 58)) (1.1.1)\n",
      "Requirement already satisfied: matplotlib==3.3.3 in /usr/local/lib/python3.6/dist-packages (from -r requirements.txt (line 59)) (3.3.3)\n"
     ]
    },
    {
     "name": "stdout",
     "output_type": "stream",
     "text": [
      "Requirement already satisfied: mistune==0.8.4 in /usr/local/lib/python3.6/dist-packages (from -r requirements.txt (line 60)) (0.8.4)\n",
      "Collecting murmurhash==1.0.5\n",
      "  Downloading murmurhash-1.0.5-cp36-cp36m-manylinux2014_x86_64.whl (20 kB)\n",
      "Requirement already satisfied: nbclient==0.5.1 in /usr/local/lib/python3.6/dist-packages (from -r requirements.txt (line 62)) (0.5.1)\n",
      "Requirement already satisfied: nbconvert==6.0.7 in /usr/local/lib/python3.6/dist-packages (from -r requirements.txt (line 63)) (6.0.7)\n",
      "Requirement already satisfied: nbformat==4.4.0 in /usr/local/lib/python3.6/dist-packages (from -r requirements.txt (line 64)) (4.4.0)\n",
      "Requirement already satisfied: nest-asyncio==1.4.3 in /usr/local/lib/python3.6/dist-packages (from -r requirements.txt (line 65)) (1.4.3)\n",
      "Collecting nltk==3.5\n",
      "  Downloading nltk-3.5.zip (1.4 MB)\n",
      "\u001b[K     |████████████████████████████████| 1.4 MB 13.3 MB/s eta 0:00:01\n",
      "\u001b[?25hRequirement already satisfied: notebook==6.2.0 in /usr/local/lib/python3.6/dist-packages (from -r requirements.txt (line 67)) (6.2.0)\n",
      "Requirement already satisfied: numpy==1.19.5 in /usr/local/lib/python3.6/dist-packages (from -r requirements.txt (line 68)) (1.19.5)\n",
      "Collecting oauth2client==4.1.3\n",
      "  Downloading oauth2client-4.1.3-py2.py3-none-any.whl (98 kB)\n",
      "\u001b[K     |████████████████████████████████| 98 kB 15.2 MB/s eta 0:00:01\n",
      "\u001b[?25hRequirement already satisfied: oauthlib==3.1.0 in /usr/local/lib/python3.6/dist-packages (from -r requirements.txt (line 70)) (3.1.0)\n",
      "Requirement already satisfied: opt-einsum==3.3.0 in /usr/local/lib/python3.6/dist-packages (from -r requirements.txt (line 71)) (3.3.0)\n",
      "Requirement already satisfied: packaging==20.8 in /usr/local/lib/python3.6/dist-packages (from -r requirements.txt (line 72)) (20.8)\n",
      "Collecting pandas==1.1.5\n",
      "  Downloading pandas-1.1.5-cp36-cp36m-manylinux1_x86_64.whl (9.5 MB)\n",
      "\u001b[K     |████████████████████████████████| 9.5 MB 12.1 MB/s eta 0:00:01\n",
      "\u001b[?25hRequirement already satisfied: pandocfilters==1.4.3 in /usr/local/lib/python3.6/dist-packages (from -r requirements.txt (line 74)) (1.4.3)\n",
      "Requirement already satisfied: parso==0.8.1 in /usr/local/lib/python3.6/dist-packages (from -r requirements.txt (line 75)) (0.8.1)\n",
      "Collecting pathy==0.4.0\n",
      "  Downloading pathy-0.4.0-py3-none-any.whl (36 kB)\n",
      "Requirement already satisfied: pexpect==4.8.0 in /usr/local/lib/python3.6/dist-packages (from -r requirements.txt (line 77)) (4.8.0)\n",
      "Requirement already satisfied: pickleshare==0.7.5 in /usr/local/lib/python3.6/dist-packages (from -r requirements.txt (line 78)) (0.7.5)\n",
      "Requirement already satisfied: Pillow==8.1.0 in /usr/local/lib/python3.6/dist-packages (from -r requirements.txt (line 79)) (8.1.0)\n",
      "Collecting preshed==3.0.5\n",
      "  Downloading preshed-3.0.5-cp36-cp36m-manylinux2014_x86_64.whl (126 kB)\n",
      "\u001b[K     |████████████████████████████████| 126 kB 12.8 MB/s eta 0:00:01\n",
      "\u001b[?25hRequirement already satisfied: prometheus-client==0.9.0 in /usr/local/lib/python3.6/dist-packages (from -r requirements.txt (line 81)) (0.9.0)\n",
      "Requirement already satisfied: prompt-toolkit==3.0.13 in /usr/local/lib/python3.6/dist-packages (from -r requirements.txt (line 82)) (3.0.13)\n",
      "Requirement already satisfied: protobuf==3.14.0 in /usr/local/lib/python3.6/dist-packages (from -r requirements.txt (line 83)) (3.14.0)\n",
      "Requirement already satisfied: ptyprocess==0.7.0 in /usr/local/lib/python3.6/dist-packages (from -r requirements.txt (line 84)) (0.7.0)\n",
      "Requirement already satisfied: pyasn1==0.4.8 in /usr/local/lib/python3.6/dist-packages (from -r requirements.txt (line 85)) (0.4.8)\n",
      "Requirement already satisfied: pyasn1-modules==0.2.8 in /usr/local/lib/python3.6/dist-packages (from -r requirements.txt (line 86)) (0.2.8)\n",
      "Requirement already satisfied: pycparser==2.20 in /usr/local/lib/python3.6/dist-packages (from -r requirements.txt (line 87)) (2.20)\n",
      "Requirement already satisfied: pycrypto==2.6.1 in /usr/lib/python3/dist-packages (from -r requirements.txt (line 88)) (2.6.1)\n",
      "Collecting pydantic==1.7.3\n",
      "  Downloading pydantic-1.7.3-cp36-cp36m-manylinux2014_x86_64.whl (9.2 MB)\n",
      "\u001b[K     |████████████████████████████████| 9.2 MB 10.0 MB/s eta 0:00:01\n",
      "\u001b[?25hCollecting pyemd==0.5.1\n",
      "  Downloading pyemd-0.5.1.tar.gz (91 kB)\n",
      "\u001b[K     |████████████████████████████████| 91 kB 14.1 MB/s eta 0:00:01\n",
      "\u001b[?25hRequirement already satisfied: Pygments==2.7.4 in /usr/local/lib/python3.6/dist-packages (from -r requirements.txt (line 91)) (2.7.4)\n",
      "Requirement already satisfied: pygobject==3.26.1 in /usr/lib/python3/dist-packages (from -r requirements.txt (line 92)) (3.26.1)\n",
      "Requirement already satisfied: pyparsing==2.4.7 in /usr/local/lib/python3.6/dist-packages (from -r requirements.txt (line 93)) (2.4.7)\n",
      "Requirement already satisfied: pyrsistent==0.17.3 in /usr/local/lib/python3.6/dist-packages (from -r requirements.txt (line 94)) (0.17.3)\n",
      "Requirement already satisfied: python-apt==1.6.5+ubuntu0.5 in /usr/lib/python3/dist-packages (from -r requirements.txt (line 95)) (1.6.5+ubuntu0.5)\n",
      "Requirement already satisfied: python-dateutil==2.8.1 in /usr/local/lib/python3.6/dist-packages (from -r requirements.txt (line 96)) (2.8.1)\n",
      "Collecting pytz==2021.1\n",
      "  Downloading pytz-2021.1-py2.py3-none-any.whl (510 kB)\n",
      "\u001b[K     |████████████████████████████████| 510 kB 12.3 MB/s eta 0:00:01\n",
      "\u001b[?25hRequirement already satisfied: pyxdg==0.25 in /usr/lib/python3/dist-packages (from -r requirements.txt (line 98)) (0.25)\n",
      "Requirement already satisfied: pyzmq==21.0.1 in /usr/local/lib/python3.6/dist-packages (from -r requirements.txt (line 99)) (21.0.1)\n",
      "Requirement already satisfied: qtconsole==5.0.2 in /usr/local/lib/python3.6/dist-packages (from -r requirements.txt (line 100)) (5.0.2)\n",
      "Requirement already satisfied: QtPy==1.9.0 in /usr/local/lib/python3.6/dist-packages (from -r requirements.txt (line 101)) (1.9.0)\n",
      "Collecting regex==2021.3.17\n",
      "  Downloading regex-2021.3.17-cp36-cp36m-manylinux2014_x86_64.whl (723 kB)\n",
      "\u001b[K     |████████████████████████████████| 723 kB 13.1 MB/s eta 0:00:01\n",
      "\u001b[?25hRequirement already satisfied: requests==2.25.1 in /usr/local/lib/python3.6/dist-packages (from -r requirements.txt (line 103)) (2.25.1)\n",
      "Requirement already satisfied: requests-oauthlib==1.3.0 in /usr/local/lib/python3.6/dist-packages (from -r requirements.txt (line 104)) (1.3.0)\n",
      "Collecting rouge-score==0.0.4\n",
      "  Downloading rouge_score-0.0.4-py2.py3-none-any.whl (22 kB)\n",
      "Requirement already satisfied: rsa==4.7 in /usr/local/lib/python3.6/dist-packages (from -r requirements.txt (line 106)) (4.7)\n",
      "Collecting sacremoses==0.0.43\n",
      "  Downloading sacremoses-0.0.43.tar.gz (883 kB)\n",
      "\u001b[K     |████████████████████████████████| 883 kB 12.9 MB/s eta 0:00:01\n",
      "\u001b[?25hCollecting scipy==1.5.4\n",
      "  Downloading scipy-1.5.4-cp36-cp36m-manylinux1_x86_64.whl (25.9 MB)\n",
      "\u001b[K     |████████████████████████████████| 25.9 MB 14.0 MB/s eta 0:00:01\n",
      "\u001b[?25hCollecting seaborn==0.11.1\n",
      "  Downloading seaborn-0.11.1-py3-none-any.whl (285 kB)\n",
      "\u001b[K     |████████████████████████████████| 285 kB 12.9 MB/s eta 0:00:01\n",
      "\u001b[?25hRequirement already satisfied: SecretStorage==2.3.1 in /usr/lib/python3/dist-packages (from -r requirements.txt (line 110)) (2.3.1)\n",
      "Requirement already satisfied: Send2Trash==1.5.0 in /usr/local/lib/python3.6/dist-packages (from -r requirements.txt (line 111)) (1.5.0)\n",
      "Collecting sentencepiece==0.1.95\n",
      "  Downloading sentencepiece-0.1.95-cp36-cp36m-manylinux2014_x86_64.whl (1.2 MB)\n",
      "\u001b[K     |████████████████████████████████| 1.2 MB 12.7 MB/s eta 0:00:01\n",
      "\u001b[?25hRequirement already satisfied: six==1.15.0 in /usr/local/lib/python3.6/dist-packages (from -r requirements.txt (line 113)) (1.15.0)\n",
      "Collecting smart-open==3.0.0\n",
      "  Downloading smart_open-3.0.0.tar.gz (113 kB)\n",
      "\u001b[K     |████████████████████████████████| 113 kB 12.4 MB/s eta 0:00:01\n",
      "\u001b[?25hCollecting spacy==3.0.5\n",
      "  Downloading spacy-3.0.5-cp36-cp36m-manylinux2014_x86_64.whl (12.8 MB)\n",
      "\u001b[K     |████████████████████████████████| 12.8 MB 9.6 MB/s eta 0:00:01\n",
      "\u001b[?25hCollecting spacy-legacy==3.0.1\n",
      "  Downloading spacy_legacy-3.0.1-py2.py3-none-any.whl (7.0 kB)\n",
      "Collecting srsly==2.4.0\n",
      "  Downloading srsly-2.4.0-cp36-cp36m-manylinux2014_x86_64.whl (456 kB)\n",
      "\u001b[K     |████████████████████████████████| 456 kB 12.3 MB/s eta 0:00:01\n",
      "\u001b[?25hRequirement already satisfied: tensorboard==2.4.1 in /usr/local/lib/python3.6/dist-packages (from -r requirements.txt (line 118)) (2.4.1)\n",
      "Requirement already satisfied: tensorboard-plugin-wit==1.8.0 in /usr/local/lib/python3.6/dist-packages (from -r requirements.txt (line 119)) (1.8.0)\n",
      "Requirement already satisfied: tensorflow-estimator==2.4.0 in /usr/local/lib/python3.6/dist-packages (from -r requirements.txt (line 120)) (2.4.0)\n",
      "Requirement already satisfied: tensorflow-gpu==2.4.1 in /usr/local/lib/python3.6/dist-packages (from -r requirements.txt (line 121)) (2.4.1)\n"
     ]
    },
    {
     "name": "stdout",
     "output_type": "stream",
     "text": [
      "Requirement already satisfied: termcolor==1.1.0 in /usr/local/lib/python3.6/dist-packages (from -r requirements.txt (line 122)) (1.1.0)\n",
      "Requirement already satisfied: terminado==0.9.2 in /usr/local/lib/python3.6/dist-packages (from -r requirements.txt (line 123)) (0.9.2)\n",
      "Requirement already satisfied: testpath==0.4.4 in /usr/local/lib/python3.6/dist-packages (from -r requirements.txt (line 124)) (0.4.4)\n",
      "Collecting thinc==8.0.2\n",
      "  Downloading thinc-8.0.2-cp36-cp36m-manylinux2014_x86_64.whl (1.1 MB)\n",
      "\u001b[K     |████████████████████████████████| 1.1 MB 12.7 MB/s eta 0:00:01\n",
      "\u001b[?25hCollecting tokenizers==0.10.1\n",
      "  Downloading tokenizers-0.10.1-cp36-cp36m-manylinux2010_x86_64.whl (3.2 MB)\n",
      "\u001b[K     |████████████████████████████████| 3.2 MB 12.8 MB/s eta 0:00:01\n",
      "\u001b[?25hCollecting torch==1.8.1\n",
      "  Downloading torch-1.8.1-cp36-cp36m-manylinux1_x86_64.whl (804.1 MB)\n",
      "\u001b[K     |████████████████████████████████| 804.1 MB 13.4 MB/s eta 0:00:01    |▋                               | 16.4 MB 12.0 MB/s eta 0:01:06     |█████▊                          | 144.5 MB 12.4 MB/s eta 0:00:54     |██████▉                         | 172.1 MB 12.0 MB/s eta 0:00:53     |██████████████                  | 349.4 MB 12.1 MB/s eta 0:00:38     |███████████████▉                | 398.0 MB 12.1 MB/s eta 0:00:34     |███████████████████             | 478.8 MB 13.7 MB/s eta 0:00:24     |███████████████████▉            | 498.6 MB 11.9 MB/s eta 0:00:26     |██████████████████████▏         | 557.2 MB 12.4 MB/s eta 0:00:20     |█████████████████████████▋      | 644.1 MB 13.8 MB/s eta 0:00:12     |██████████████████████████████▎ | 761.7 MB 14.1 MB/s eta 0:00:04     |██████████████████████████████▌ | 767.1 MB 14.1 MB/s eta 0:00:03     |██████████████████████████████▋ | 769.2 MB 12.1 MB/s eta 0:00:03\n",
      "\u001b[?25hRequirement already satisfied: tornado==6.1 in /usr/local/lib/python3.6/dist-packages (from -r requirements.txt (line 128)) (6.1)\n",
      "Collecting tqdm==4.59.0\n",
      "  Downloading tqdm-4.59.0-py2.py3-none-any.whl (74 kB)\n",
      "\u001b[K     |████████████████████████████████| 74 kB 14.5 MB/s eta 0:00:01\n",
      "\u001b[?25hRequirement already satisfied: traitlets==4.3.3 in /usr/local/lib/python3.6/dist-packages (from -r requirements.txt (line 130)) (4.3.3)\n",
      "Collecting transformers==4.4.2\n",
      "  Downloading transformers-4.4.2-py3-none-any.whl (2.0 MB)\n",
      "\u001b[K     |████████████████████████████████| 2.0 MB 12.9 MB/s eta 0:00:01\n",
      "\u001b[?25hCollecting typer==0.3.2\n",
      "  Downloading typer-0.3.2-py3-none-any.whl (21 kB)\n",
      "Requirement already satisfied: typing-extensions==3.7.4.3 in /usr/local/lib/python3.6/dist-packages (from -r requirements.txt (line 133)) (3.7.4.3)\n",
      "Requirement already satisfied: urllib3==1.26.2 in /usr/local/lib/python3.6/dist-packages (from -r requirements.txt (line 134)) (1.26.2)\n",
      "Collecting wasabi==0.8.2\n",
      "  Downloading wasabi-0.8.2-py3-none-any.whl (23 kB)\n",
      "Requirement already satisfied: wcwidth==0.2.5 in /usr/local/lib/python3.6/dist-packages (from -r requirements.txt (line 136)) (0.2.5)\n",
      "Requirement already satisfied: webencodings==0.5.1 in /usr/local/lib/python3.6/dist-packages (from -r requirements.txt (line 137)) (0.5.1)\n",
      "Requirement already satisfied: Werkzeug==1.0.1 in /usr/local/lib/python3.6/dist-packages (from -r requirements.txt (line 138)) (1.0.1)\n",
      "Requirement already satisfied: widgetsnbextension==3.5.1 in /usr/local/lib/python3.6/dist-packages (from -r requirements.txt (line 139)) (3.5.1)\n",
      "Requirement already satisfied: wrapt==1.12.1 in /usr/local/lib/python3.6/dist-packages (from -r requirements.txt (line 140)) (1.12.1)\n",
      "Requirement already satisfied: zipp==3.4.0 in /usr/local/lib/python3.6/dist-packages (from -r requirements.txt (line 141)) (3.4.0)\n",
      "Requirement already satisfied: wheel<1.0,>=0.23.0 in /usr/local/lib/python3.6/dist-packages (from astunparse==1.6.3->-r requirements.txt (line 4)) (0.36.2)\n",
      "Requirement already satisfied: setuptools>=40.3.0 in /usr/local/lib/python3.6/dist-packages (from google-auth==1.24.0->-r requirements.txt (line 28)) (51.3.3)\n",
      "Building wheels for collected packages: contextvars, gcloud, nltk, pyemd, sacremoses, smart-open\n",
      "  Building wheel for contextvars (setup.py) ... \u001b[?25ldone\n",
      "\u001b[?25h  Created wheel for contextvars: filename=contextvars-2.4-py3-none-any.whl size=7665 sha256=5e14ef29974501c599b08fe8c3f2f0a8b56539f1c3dfe014f719dc82fa12e05c\n",
      "  Stored in directory: /tmp/pip-ephem-wheel-cache-qobnpu2p/wheels/41/11/53/911724983aa48deb94792432e14e518447212dd6c5477d49d3\n",
      "  Building wheel for gcloud (setup.py) ... \u001b[?25ldone\n",
      "\u001b[?25h  Created wheel for gcloud: filename=gcloud-0.18.3-py3-none-any.whl size=602937 sha256=53d6f03e97e0761744982c95089e2e13d08211cf292f4b844aaa37f636830fb8\n",
      "  Stored in directory: /tmp/pip-ephem-wheel-cache-qobnpu2p/wheels/51/6a/a3/fb437224d1be695ae7634d616c8bd064cc2bc0ce88ecb3e372\n",
      "  Building wheel for nltk (setup.py) ... \u001b[?25ldone\n",
      "\u001b[?25h  Created wheel for nltk: filename=nltk-3.5-py3-none-any.whl size=1434674 sha256=e92f6792216b2e95b325cc4b680a5acd37669da945edfa6b41b77e6ec5dea5c4\n",
      "  Stored in directory: /tmp/pip-ephem-wheel-cache-qobnpu2p/wheels/de/5e/42/64abaeca668161c3e2cecc24f864a8fc421e3d07a104fc8a51\n",
      "  Building wheel for pyemd (setup.py) ... \u001b[?25ldone\n",
      "\u001b[?25h  Created wheel for pyemd: filename=pyemd-0.5.1-cp36-cp36m-linux_x86_64.whl size=374294 sha256=fcfbd1d8e38c8251323fab28fc322c1a563399ceeee24e3d8aea1c1dc6f48b7a\n",
      "  Stored in directory: /tmp/pip-ephem-wheel-cache-qobnpu2p/wheels/f9/f0/23/aefbdde40e915c67830ebecb55be2344a8b6e95fe3ce3ccf96\n",
      "  Building wheel for sacremoses (setup.py) ... \u001b[?25ldone\n",
      "\u001b[?25h  Created wheel for sacremoses: filename=sacremoses-0.0.43-py3-none-any.whl size=893258 sha256=1e26e3a71c79eddcdecb528fc9bcc99dbfd00035db60adf59d8f402859ca918e\n",
      "  Stored in directory: /tmp/pip-ephem-wheel-cache-qobnpu2p/wheels/49/25/98/cdea9c79b2d9a22ccc59540b1784b67f06b633378e97f58da2\n",
      "  Building wheel for smart-open (setup.py) ... \u001b[?25ldone\n",
      "\u001b[?25h  Created wheel for smart-open: filename=smart_open-3.0.0-py3-none-any.whl size=107097 sha256=05b207ba9eb8e08076dbdc2c75ada2f65e213dfa9817aa7fbba5538a666f1290\n",
      "  Stored in directory: /tmp/pip-ephem-wheel-cache-qobnpu2p/wheels/88/2a/d4/f2e9023989d4d4b3574f268657cb6cd23994665a038803f547\n",
      "Successfully built contextvars gcloud nltk pyemd sacremoses smart-open\n",
      "Installing collected packages: blis, catalogue, click, immutables, contextvars, cymem, dataclasses, filelock, httplib2, googleapis-common-protos, oauth2client, gcloud, joblib, murmurhash, regex, tqdm, nltk, pytz, pandas, smart-open, typer, pathy, preshed, pydantic, pyemd, rouge-score, sacremoses, scipy, seaborn, sentencepiece, wasabi, srsly, thinc, spacy-legacy, spacy, tokenizers, torch, transformers\n",
      "Successfully installed blis-0.7.4 catalogue-2.0.1 click-7.1.2 contextvars-2.4 cymem-2.0.5 dataclasses-0.8 filelock-3.0.12 gcloud-0.18.3 googleapis-common-protos-1.53.0 httplib2-0.19.1 immutables-0.15 joblib-1.0.1 murmurhash-1.0.5 nltk-3.5 oauth2client-4.1.3 pandas-1.1.5 pathy-0.4.0 preshed-3.0.5 pydantic-1.7.3 pyemd-0.5.1 pytz-2021.1 regex-2021.3.17 rouge-score-0.0.4 sacremoses-0.0.43 scipy-1.5.4 seaborn-0.11.1 sentencepiece-0.1.95 smart-open-3.0.0 spacy-3.0.5 spacy-legacy-3.0.1 srsly-2.4.0 thinc-8.0.2 tokenizers-0.10.1 torch-1.8.1 tqdm-4.59.0 transformers-4.4.2 typer-0.3.2 wasabi-0.8.2\n",
      "\u001b[33mWARNING: You are using pip version 20.2.4; however, version 21.1 is available.\n",
      "You should consider upgrading via the '/usr/bin/python3 -m pip install --upgrade pip' command.\u001b[0m\n"
     ]
    }
   ],
   "source": [
    "!pip install -r requirements.txt"
   ]
  },
  {
   "cell_type": "code",
   "execution_count": 7,
   "metadata": {},
   "outputs": [
    {
     "name": "stdout",
     "output_type": "stream",
     "text": [
      "2.4.1\n"
     ]
    }
   ],
   "source": [
    "import tensorflow as tf\n",
    "print(tf.__version__)\n",
    "\n",
    "from os import listdir\n",
    "from transformers import ( \n",
    "    T5Tokenizer, \n",
    "    TFT5ForConditionalGeneration\n",
    ")\n",
    "\n",
    "import numpy as np\n",
    "import time\n",
    "import re\n",
    "import pickle\n",
    "\n",
    "# import python files\n",
    "import sys\n",
    "sys.path.append(\"../..\")\n",
    "\n",
    "# spacy \n",
    "from spacy.lang.de import German \n",
    "from spacy.lang.en import English \n",
    "\n",
    "from python_files.language_tokens import LanguageTokens\n",
    "from python_files.model_loader import ModelLoader\n",
    "from python_files.tf_record_loader import TFRecordLoader\n",
    "\n",
    "\n",
    "import matplotlib.pyplot as plt\n",
    "%matplotlib inline\n",
    "import seaborn as sns"
   ]
  },
  {
   "cell_type": "code",
   "execution_count": 8,
   "metadata": {},
   "outputs": [],
   "source": [
    "from python_files.dataset.sueddeutsche import SueddeutscheData\n",
    "from python_files.dataset.tokenize_helper import TokenizeHelper\n",
    "from python_files.dataset.tf_record_writer import TfRecordWriter"
   ]
  },
  {
   "cell_type": "code",
   "execution_count": 9,
   "metadata": {},
   "outputs": [],
   "source": [
    "model_size = \"t5-base\"\n",
    "\n",
    "MAX_ARTICLE_LEN = 512\n",
    "\n",
    "MAX_HIGHLIGHT_LEN = 150\n",
    "\n",
    "BATCH_SIZE = 8\n",
    "\n",
    "root_folder = \"../..\""
   ]
  },
  {
   "cell_type": "code",
   "execution_count": 10,
   "metadata": {},
   "outputs": [
    {
     "data": {
      "text/plain": [
       "[PhysicalDevice(name='/physical_device:GPU:0', device_type='GPU')]"
      ]
     },
     "execution_count": 10,
     "metadata": {},
     "output_type": "execute_result"
    }
   ],
   "source": [
    "tf.config.list_physical_devices('GPU')"
   ]
  },
  {
   "cell_type": "code",
   "execution_count": 11,
   "metadata": {},
   "outputs": [],
   "source": [
    "try:\n",
    "    # Disable all GPUS\n",
    "    tf.config.set_visible_devices([], 'GPU')\n",
    "    visible_devices = tf.config.get_visible_devices()\n",
    "    for device in visible_devices:\n",
    "        assert device.device_type != 'GPU'\n",
    "except:\n",
    "    # Invalid device or cannot modify virtual devices once initialized.\n",
    "    pass"
   ]
  },
  {
   "cell_type": "code",
   "execution_count": 12,
   "metadata": {},
   "outputs": [],
   "source": [
    "tokenizer = T5Tokenizer.from_pretrained(model_size)\n",
    "language_tokens = LanguageTokens(tokenizer, \"tf\")\n",
    "prefix_size = language_tokens.prefix_size\n",
    "language_token_order = [\"de_de\", \"en_de\", \"de_en\", \"en_en\"]"
   ]
  },
  {
   "cell_type": "code",
   "execution_count": 13,
   "metadata": {},
   "outputs": [],
   "source": [
    "def transform(x):\n",
    "    x = \" \".join(x.split(\"; \")[1:])\n",
    "    x = re.sub(\"'(.*)'\", r\"\\1\", x)\n",
    "    return x  # + \"</s>\"\n",
    "\n",
    "def get_sueddeutsche_data(name, language):\n",
    "    if language == \"en\":\n",
    "        highlights_path = \"../../data/sueddeutsche/highlights_{}_{}_cleaned\".format(language, name)\n",
    "        article_path = \"../../data/sueddeutsche/articles_{}_{}_cleaned\".format(language, name)\n",
    "    else:\n",
    "        highlights_path = \"../../data/sueddeutsche/highlights_{}_{}\".format(language, name)\n",
    "        article_path = \"../../data/sueddeutsche/articles_{}_{}\".format(language, name)\n",
    "\n",
    "    articles = [transform(x.rstrip()) for x in open(article_path).readlines()]\n",
    "    highlights = [transform(x.rstrip()) for x in open(highlights_path).readlines()]\n",
    "    assert len(articles) == len(highlights), \"sueddeutsche articles:{} highlights:{}\".format(len(articles),\n",
    "                                                                                             len(highlights))\n",
    "    return articles, highlights"
   ]
  },
  {
   "cell_type": "code",
   "execution_count": 14,
   "metadata": {},
   "outputs": [],
   "source": [
    "de_x, de_y = get_sueddeutsche_data(\"test\", \"de\")\n",
    "en_x, en_y = get_sueddeutsche_data(\"test\", \"en\")"
   ]
  },
  {
   "cell_type": "code",
   "execution_count": 15,
   "metadata": {},
   "outputs": [
    {
     "data": {
      "text/plain": [
       "{'input_ids': [3, 226, 5, 1], 'attention_mask': [1, 1, 1, 1]}"
      ]
     },
     "execution_count": 15,
     "metadata": {},
     "output_type": "execute_result"
    }
   ],
   "source": [
    "tokenizer(\"x.\")"
   ]
  },
  {
   "cell_type": "code",
   "execution_count": 16,
   "metadata": {},
   "outputs": [
    {
     "data": {
      "text/plain": [
       "'.'"
      ]
     },
     "execution_count": 16,
     "metadata": {},
     "output_type": "execute_result"
    }
   ],
   "source": [
    "tokenizer.decode([5])"
   ]
  },
  {
   "cell_type": "code",
   "execution_count": 17,
   "metadata": {},
   "outputs": [],
   "source": [
    "def split_at_values(lst, values):\n",
    "    indices = [i for i, x in enumerate(lst) if x in values]\n",
    "    ret_list = []\n",
    "    for i, (start, end) in enumerate(zip([0, *indices], [*indices, len(lst)])):\n",
    "        if i == 0:\n",
    "            ret_list.append(lst[start:end+1])\n",
    "        else:\n",
    "            ret_list.append(lst[start+1:end+1])\n",
    "    return ret_list"
   ]
  },
  {
   "cell_type": "code",
   "execution_count": 18,
   "metadata": {},
   "outputs": [
    {
     "data": {
      "text/plain": [
       "{'input_ids': [794, 7142, 38, 26, 38, 40, 354, 7664, 26, 3, 40, 1258, 7, 26, 1, 0, 0, 0, 0, 0, 0, 0, 0, 0, 0, 0, 0, 0, 0, 0, 0, 0, 0, 0, 0, 0, 0, 0, 0, 0, 0, 0, 0, 0, 0, 0, 0, 0, 0, 0, 0, 0, 0, 0, 0, 0, 0, 0, 0, 0, 0, 0, 0, 0, 0, 0, 0, 0, 0, 0, 0, 0, 0, 0, 0, 0, 0, 0, 0, 0, 0, 0, 0, 0, 0, 0, 0, 0, 0, 0, 0, 0, 0, 0, 0, 0, 0, 0, 0, 0, 0, 0, 0, 0, 0, 0, 0, 0, 0, 0, 0, 0, 0, 0, 0, 0, 0, 0, 0, 0, 0, 0, 0, 0, 0, 0, 0, 0, 0, 0, 0, 0, 0, 0, 0, 0, 0, 0, 0, 0, 0, 0, 0, 0, 0, 0, 0, 0, 0, 0, 0, 0, 0, 0, 0, 0, 0, 0, 0, 0, 0, 0, 0, 0, 0, 0, 0, 0, 0, 0, 0, 0, 0, 0, 0, 0, 0, 0, 0, 0, 0, 0, 0, 0, 0, 0, 0, 0, 0, 0, 0, 0, 0, 0, 0, 0, 0, 0, 0, 0, 0, 0, 0, 0, 0, 0, 0, 0, 0, 0, 0, 0, 0, 0, 0, 0, 0, 0, 0, 0, 0, 0, 0, 0, 0, 0, 0, 0, 0, 0, 0, 0, 0, 0, 0, 0, 0, 0, 0, 0, 0, 0, 0, 0, 0, 0, 0, 0, 0, 0, 0, 0, 0, 0, 0, 0, 0, 0, 0, 0, 0, 0, 0, 0, 0, 0, 0, 0, 0, 0, 0, 0, 0, 0, 0, 0, 0, 0, 0, 0, 0, 0, 0, 0, 0, 0, 0, 0, 0, 0, 0, 0, 0, 0, 0, 0, 0, 0, 0, 0, 0, 0, 0, 0, 0, 0, 0, 0, 0, 0, 0, 0, 0, 0, 0, 0, 0, 0, 0, 0, 0, 0, 0, 0, 0, 0, 0, 0, 0, 0, 0, 0, 0, 0, 0, 0, 0, 0, 0, 0, 0, 0, 0, 0, 0, 0, 0, 0, 0, 0, 0, 0, 0, 0, 0, 0, 0, 0, 0, 0, 0, 0, 0, 0, 0, 0, 0, 0, 0, 0, 0, 0, 0, 0, 0, 0, 0, 0, 0, 0, 0, 0, 0, 0, 0, 0, 0, 0, 0, 0, 0, 0, 0, 0, 0, 0, 0, 0, 0, 0, 0, 0, 0, 0, 0, 0, 0, 0, 0, 0, 0, 0, 0, 0, 0, 0, 0, 0, 0, 0, 0, 0, 0, 0, 0, 0, 0, 0, 0, 0, 0, 0, 0, 0, 0, 0, 0, 0, 0, 0, 0, 0, 0, 0, 0, 0, 0, 0, 0, 0, 0, 0, 0, 0, 0, 0, 0, 0, 0, 0, 0, 0, 0, 0, 0, 0, 0, 0, 0, 0, 0, 0, 0, 0, 0, 0, 0, 0, 0, 0, 0, 0, 0, 0, 0, 0, 0, 0, 0, 0, 0, 0, 0, 0, 0, 0, 0, 0, 0, 0, 0, 0, 0, 0, 0, 0, 0], 'attention_mask': [1, 1, 1, 1, 1, 1, 1, 1, 1, 1, 1, 1, 1, 1, 1, 0, 0, 0, 0, 0, 0, 0, 0, 0, 0, 0, 0, 0, 0, 0, 0, 0, 0, 0, 0, 0, 0, 0, 0, 0, 0, 0, 0, 0, 0, 0, 0, 0, 0, 0, 0, 0, 0, 0, 0, 0, 0, 0, 0, 0, 0, 0, 0, 0, 0, 0, 0, 0, 0, 0, 0, 0, 0, 0, 0, 0, 0, 0, 0, 0, 0, 0, 0, 0, 0, 0, 0, 0, 0, 0, 0, 0, 0, 0, 0, 0, 0, 0, 0, 0, 0, 0, 0, 0, 0, 0, 0, 0, 0, 0, 0, 0, 0, 0, 0, 0, 0, 0, 0, 0, 0, 0, 0, 0, 0, 0, 0, 0, 0, 0, 0, 0, 0, 0, 0, 0, 0, 0, 0, 0, 0, 0, 0, 0, 0, 0, 0, 0, 0, 0, 0, 0, 0, 0, 0, 0, 0, 0, 0, 0, 0, 0, 0, 0, 0, 0, 0, 0, 0, 0, 0, 0, 0, 0, 0, 0, 0, 0, 0, 0, 0, 0, 0, 0, 0, 0, 0, 0, 0, 0, 0, 0, 0, 0, 0, 0, 0, 0, 0, 0, 0, 0, 0, 0, 0, 0, 0, 0, 0, 0, 0, 0, 0, 0, 0, 0, 0, 0, 0, 0, 0, 0, 0, 0, 0, 0, 0, 0, 0, 0, 0, 0, 0, 0, 0, 0, 0, 0, 0, 0, 0, 0, 0, 0, 0, 0, 0, 0, 0, 0, 0, 0, 0, 0, 0, 0, 0, 0, 0, 0, 0, 0, 0, 0, 0, 0, 0, 0, 0, 0, 0, 0, 0, 0, 0, 0, 0, 0, 0, 0, 0, 0, 0, 0, 0, 0, 0, 0, 0, 0, 0, 0, 0, 0, 0, 0, 0, 0, 0, 0, 0, 0, 0, 0, 0, 0, 0, 0, 0, 0, 0, 0, 0, 0, 0, 0, 0, 0, 0, 0, 0, 0, 0, 0, 0, 0, 0, 0, 0, 0, 0, 0, 0, 0, 0, 0, 0, 0, 0, 0, 0, 0, 0, 0, 0, 0, 0, 0, 0, 0, 0, 0, 0, 0, 0, 0, 0, 0, 0, 0, 0, 0, 0, 0, 0, 0, 0, 0, 0, 0, 0, 0, 0, 0, 0, 0, 0, 0, 0, 0, 0, 0, 0, 0, 0, 0, 0, 0, 0, 0, 0, 0, 0, 0, 0, 0, 0, 0, 0, 0, 0, 0, 0, 0, 0, 0, 0, 0, 0, 0, 0, 0, 0, 0, 0, 0, 0, 0, 0, 0, 0, 0, 0, 0, 0, 0, 0, 0, 0, 0, 0, 0, 0, 0, 0, 0, 0, 0, 0, 0, 0, 0, 0, 0, 0, 0, 0, 0, 0, 0, 0, 0, 0, 0, 0, 0, 0, 0, 0, 0, 0, 0, 0, 0, 0, 0, 0, 0, 0, 0, 0, 0, 0, 0, 0, 0, 0, 0, 0, 0, 0, 0, 0, 0, 0, 0, 0, 0, 0, 0, 0, 0, 0, 0, 0, 0, 0, 0, 0, 0, 0, 0, 0, 0, 0, 0, 0]}"
      ]
     },
     "execution_count": 18,
     "metadata": {},
     "output_type": "execute_result"
    }
   ],
   "source": [
    "tokenizer(\"test sentence asd asljdasd lkasd\", max_length=512-prefix_size, truncation=True, padding='max_length')\n"
   ]
  },
  {
   "cell_type": "code",
   "execution_count": 19,
   "metadata": {},
   "outputs": [],
   "source": [
    "def shift_seq_right(seq):\n",
    "    ones = tf.zeros([1], dtype=tf.int32)\n",
    "    return tf.concat([ones, seq[:-1]], axis=0)\n",
    "\n",
    "def tokenize_highlights(text):\n",
    "    y = tokenizer(text, return_tensors=\"tf\", max_length=150, truncation=True, padding='max_length').input_ids\n",
    "    y = tf.squeeze(y)\n",
    "    y_ids = shift_seq_right(y)\n",
    "\n",
    "    return y, y_ids"
   ]
  },
  {
   "cell_type": "code",
   "execution_count": 35,
   "metadata": {},
   "outputs": [],
   "source": [
    "def switch_first_five_sentences(x):\n",
    "    encode_x = tokenizer(x, max_length=512-prefix_size, truncation=True, padding='max_length')\n",
    "    input_ids = encode_x.input_ids\n",
    "    split_input_ids = split_at_values(input_ids, {5})\n",
    "    list_ids = split_input_ids[5:] + split_input_ids[:5]\n",
    "    ret = []\n",
    "    for item in list_ids:\n",
    "        ret += item\n",
    "    ret = tf.convert_to_tensor(ret)\n",
    "    return ret, tf.convert_to_tensor(encode_x.attention_mask)\n",
    "\n",
    "\n",
    "x_de_list = []\n",
    "x_de_mask_list = []\n",
    "x_en_list = []\n",
    "x_en_mask_list = []\n",
    "y_de_list = [] \n",
    "y_de_ids_list = []\n",
    "y_en_list = [] \n",
    "y_en_ids_list = []\n",
    "for x_de_i, y_de_i, x_en_i, y_en_i in zip(de_x, de_y, en_x, en_y):\n",
    "    x_de, x_de_mask = switch_first_five_sentences(x_de_i)\n",
    "    x_en, x_en_mask = switch_first_five_sentences(x_de_i)\n",
    "    y_de, y_de_ids = tokenize_highlights(y_de_i)\n",
    "    y_en, y_en_ids = tokenize_highlights(y_en_i)\n",
    "    \n",
    "    x_de_list.append(x_de)\n",
    "    x_de_mask_list.append(x_de_mask)\n",
    "    x_en_list.append(x_en)\n",
    "    x_en_mask_list.append(x_en_mask)\n",
    "\n",
    "    y_de_list.append(y_de)\n",
    "    y_de_ids_list.append(y_de_ids)\n",
    "    y_en_list.append(y_en)\n",
    "    y_en_ids_list.append(y_en_ids)"
   ]
  },
  {
   "cell_type": "code",
   "execution_count": 36,
   "metadata": {},
   "outputs": [],
   "source": [
    "test_sueddeutsche_ds = tf.data.Dataset.from_tensor_slices(((x_de_list, x_de_mask_list, y_de_list, y_de_ids_list),(x_en_list, x_en_mask_list, y_en_list, y_en_ids_list)))"
   ]
  },
  {
   "cell_type": "code",
   "execution_count": 37,
   "metadata": {},
   "outputs": [
    {
     "name": "stdout",
     "output_type": "stream",
     "text": [
      "[9] Saved sueddeutsche_multilingual\n",
      "[8] Saved sueddeutsche_multilingual\n",
      "[10] Saved sueddeutsche_multilingual\n",
      "[13] Saved sueddeutsche_multilingual\n",
      "[16] Saved sueddeutsche_multilingual\n",
      "[19] Saved sueddeutsche_multilingual\n",
      "[4] Saved sueddeutsche_multilingual\n",
      "[18] Saved sueddeutsche_multilingual\n",
      "[3] Saved sueddeutsche_multilingual\n",
      "[2] Saved sueddeutsche_multilingual\n",
      "[14] Saved sueddeutsche_multilingual\n",
      "[5] Saved sueddeutsche_multilingual\n",
      "[11] Saved sueddeutsche_multilingual\n",
      "[0] Saved sueddeutsche_multilingual\n",
      "[17] Saved sueddeutsche_multilingual\n",
      "[7] Saved sueddeutsche_multilingual\n",
      "[6] Saved sueddeutsche_multilingual\n",
      "[15] Saved sueddeutsche_multilingual\n",
      "[1] Saved sueddeutsche_multilingual\n",
      "[12] Saved sueddeutsche_multilingual\n"
     ]
    }
   ],
   "source": [
    "tf_record_writer = TfRecordWriter(20)\n",
    "tf_record_writer.write_to_tfrecord_file(test_sueddeutsche_ds, \"../../data/sueddeutsche_test_switch\", \"sueddeutsche_multilingual\")"
   ]
  },
  {
   "cell_type": "markdown",
   "metadata": {},
   "source": [
    "## Write Tokenized Version"
   ]
  },
  {
   "cell_type": "code",
   "execution_count": null,
   "metadata": {},
   "outputs": [],
   "source": []
  },
  {
   "cell_type": "code",
   "execution_count": null,
   "metadata": {},
   "outputs": [],
   "source": []
  },
  {
   "cell_type": "code",
   "execution_count": null,
   "metadata": {},
   "outputs": [],
   "source": []
  },
  {
   "cell_type": "code",
   "execution_count": null,
   "metadata": {},
   "outputs": [],
   "source": []
  }
 ],
 "metadata": {
  "kernelspec": {
   "display_name": "Python 3",
   "language": "python",
   "name": "python3"
  },
  "language_info": {
   "codemirror_mode": {
    "name": "ipython",
    "version": 3
   },
   "file_extension": ".py",
   "mimetype": "text/x-python",
   "name": "python",
   "nbconvert_exporter": "python",
   "pygments_lexer": "ipython3",
   "version": "3.6.9"
  }
 },
 "nbformat": 4,
 "nbformat_minor": 2
}
