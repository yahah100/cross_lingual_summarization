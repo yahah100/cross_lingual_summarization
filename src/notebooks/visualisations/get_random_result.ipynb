{
 "cells": [
  {
   "cell_type": "code",
   "execution_count": 1,
   "metadata": {},
   "outputs": [],
   "source": [
    "import os \n",
    "import pickle\n",
    "import numpy as np"
   ]
  },
  {
   "cell_type": "code",
   "execution_count": 2,
   "metadata": {},
   "outputs": [],
   "source": [
    "root_path = \"../../results/\""
   ]
  },
  {
   "cell_type": "code",
   "execution_count": 25,
   "metadata": {},
   "outputs": [],
   "source": [
    "cdm_result_path = root_path + \"cdm_full_ds/\"\n",
    "sued_result_path = root_path + \"sueddeutsche_full_ds/\"\n",
    "sum_sued_result_path = root_path + \"t5_sum_sued/\"\n",
    "sum_cdm_result_path = root_path + \"t5_sum_cdm/\""
   ]
  },
  {
   "cell_type": "code",
   "execution_count": 26,
   "metadata": {},
   "outputs": [],
   "source": [
    "def get_key(elem):\n",
    "    key = int(elem.split(\".\")[0].split(\"-\")[1])\n",
    "    return key\n",
    "\n",
    "def get_predictions(path):\n",
    "    predictions = []\n",
    "\n",
    "    list_dir = list(os.listdir(path))\n",
    "    list_dir.sort(key=get_key)\n",
    "    for item in list_dir:\n",
    "        with open(path + item, 'rb') as file:\n",
    "            list_items = pickle.load(file)\n",
    "            for l_item in list_items:\n",
    "                predictions.append(l_item)\n",
    "    return predictions"
   ]
  },
  {
   "cell_type": "code",
   "execution_count": 27,
   "metadata": {},
   "outputs": [],
   "source": [
    "suedd_predictions = get_predictions(sued_result_path)"
   ]
  },
  {
   "cell_type": "code",
   "execution_count": 28,
   "metadata": {},
   "outputs": [],
   "source": [
    "cdm_predictions = get_predictions(cdm_result_path)"
   ]
  },
  {
   "cell_type": "code",
   "execution_count": 29,
   "metadata": {},
   "outputs": [],
   "source": [
    "sum_predictions = get_predictions(sum_sued_result_path)\n",
    "sum_cdm_predictions = get_predictions(sum_cdm_result_path)"
   ]
  },
  {
   "cell_type": "code",
   "execution_count": 30,
   "metadata": {},
   "outputs": [],
   "source": [
    "def pick_random(ds):\n",
    "    len_ds = len(ds)\n",
    "    random_ds_point = np.random.randint(len_ds)\n",
    "    item_language_tag = ds[random_ds_point]['language_tag']\n",
    "    while item_language_tag != \"en_en\":\n",
    "        random_ds_point = np.random.randint(len_ds)\n",
    "        item_language_tag = ds[random_ds_point]['language_tag']\n",
    "        \n",
    "    return ds[random_ds_point]"
   ]
  },
  {
   "cell_type": "code",
   "execution_count": 8,
   "metadata": {},
   "outputs": [
    {
     "data": {
      "text/plain": [
       "{'language_tag': 'en_en',\n",
       " 'input_data': 'summarize English to English: There are 709 members of the 19th German Bundestag and the number could rise if the parliament does not bring itself to reform the electoral law. The German Bundestag held its first constituent session on 7 September 1949 in the Federal Parliament building in Bonn. The ultimate goal of post-war politicians was to establish a stable democracy. Over the next four years, MPs met in 282 plenary sessions - many of which never happened again - and passed 545 laws. Today, Germans live in a prosperous and economically successful country. Nevertheless, many citizens are dissatisfied with the work of their Parliament, as a recent study by the European Commission shows. Heinrich Oberreuter, political scientist from Passau and deputy chairman of the German Association for Parliamentary Questions, has been researching German parliamentarism for decades. SZ: Mr. Oberreuter, retired president Paul Löbe opened the first session of the new Bundestag with the words: \"What does the German people hope for from the work of the Bundestag? That we build a stable government, a healthy economy, a new social order in a secure private life, that we lead our fatherland towards a new prosperity and prosperity. \" Are we allowed to say, 70 years later, \"Mission accomplished?\" Heinrich Oberreuter: That can be said without reservation from todays point of view. At that time it was a question of building a republic and economic and social order. This was a success story that could neither be expected nor hoped for during the founding period of the Federal Republic of Germany. One consequence of this construction success, however, was the pluralization of interests in society. Eventually, not all the interests of the welfare state could be perfectly satisfied. The country was no longer in need and the needs of the people differed. And so the Bundestag also faces new challenges. What challenges do you think? The first is to regain confidence. Seventy years ago, we were in a very bad situation when it came to public assessments of Members abilities. This has developed later demoscopically pleasing upwards. Today, it is back to the low levels of the 1950s. Trust is needed. Parliament must show that it can satisfy social and economic interests. The second challenge is to provide answers to complex international developments. Some developments even exceed the competence of experts. In addition to the everyday',\n",
       " 'real_data': 'The Bundestag is facing great challenges in the anniversary year. Political scientist Heinrich Oberreuter on record size, loss of confidence and a dominant government.',\n",
       " 'pred_data': 'There are 709 members of the 19th German Bundestag and the number could rise if the parliament does not bring itself to reform the electoral law.'}"
      ]
     },
     "execution_count": 8,
     "metadata": {},
     "output_type": "execute_result"
    }
   ],
   "source": [
    "pick_random(suedd_predictions)"
   ]
  },
  {
   "cell_type": "code",
   "execution_count": 9,
   "metadata": {},
   "outputs": [
    {
     "data": {
      "text/plain": [
       "{'language_tag': 'en_en',\n",
       " 'input_data': 'summarize English to English: Donald Trump is once again having harsh words for people who want to flee gang wars and poverty in the US. US President Donald Trump has announced the deportation of millions of undocumented immigrants living in the country. Customs and Border Protection (ICE) will begin work as early as next week, Trump wrote on Twitter Monday evening (local time). They\\'re removed as quickly as they come in. He also praised Mexico. The southern neighbor is doing \"a very good job\" stopping people on their way to the United States, he said. There are an estimated eleven million undocumented people living in the United States, most of them indocumentados (people without documents) from Latin America. Under Trump, authorities are stepping up their crackdown. The Republican has repeatedly pressed Mexico to stop refugees from its Central American neighbors before they reach the US border. He had recently threatened the country with punitive tariffs to force a crackdown on migrants. The US president also wrote that Guatemala was preparing to sign an agreement that would classify it as a safe third country. The US had recently proposed that Guatemala could receive asylum seekers from neighbouring countries as a safe third country. Human rights group Human Rights First called the assumption that Guatemala is able to protect refugees when its own citizens flee violence and poverty \"simply ridiculous.\" Thousands are fleeing rampant gang violence from countries such as Honduras, Guatemala and El Salvador',\n",
       " 'real_data': 'The US president announced on Twitter that ICE will begin its investigation as early as next week. He has praise for Mexico.',\n",
       " 'pred_data': 'The US president is once again having harsh words for people who want to flee gang wars and poverty in the US.'}"
      ]
     },
     "execution_count": 9,
     "metadata": {},
     "output_type": "execute_result"
    }
   ],
   "source": [
    "pick_random(suedd_predictions)"
   ]
  },
  {
   "cell_type": "code",
   "execution_count": 10,
   "metadata": {},
   "outputs": [
    {
     "data": {
      "text/plain": [
       "{'language_tag': 'en_en',\n",
       " 'input_data': \"summarize English to English: FBI director James Comey has caused huge offense to a key U.S. ally by using language that suggested that Poland was an accomplice in the Holocaust. Poles are waiting to see if Comey would issue an apology — something that hadnt happened by late Monday. Polish Foreign Minister Grzegorz Schetyna said he expected him to say sorry so the matter can be settled. Comey said last week, 'In their minds, the murderers and accomplices of Germany, and Poland, and Hungary, and so many, many other places didn't do something evil. 'They convinced themselves it was the right thing to do, the thing they had to do. That's what people do. And that should truly frighten us.' FBI director James Comey, pictured at a news conference last month, has caused huge offense to a U.S. ally by using language to suggest that Poles were accomplices in the Holocaust . Comey's comments are particularly offensive to Poles not only because they had no role in running Auschwitz and other death camps where Jews were murdered during World War II, but because they were themselves victims of the Third Reich. In all, 6 million Polish citizens were killed during the war, about half of them Jewish and the other half Christians, with many Polish priests, members of the intelligentsia and political resistance killed in Auschwitz and elsewhere. Poland also had a committed anti-Nazi resistance movement and Polish fighters fought alongside the Allies throughout the war. Poles see themselves as heroes of the war who have never been properly recognized, making comments like Comey's hurt even more. Comey originally delivered the remarks on Wednesday at the U.S. Holocaust Memorial Museum in arguing for the importance of Holocaust education. The speech was adapted for an article published in The Washington Post on Thursday. U.S. Ambassador Stephen Mull attends ceremonies marking the 72nd anniversary of the Warsaw Ghetto Uprising, in front of the monument to the Heroes of the Ghetto, in Warsaw, Poland, on Sunday, April 19, 2015 . The Polish reaction was swift. On Sunday, the U.S. ambassador to Poland, Stephen Mull, was called to the Foreign Ministry in a formal act of protest on the 72nd anniversary of the Warsaw Ghetto\",\n",
       " 'real_data': 'FBI director James Comey suggested in remarks last week that Poles were accomplices during the holocaust . Comeys comments are offensive to Poles as they had no role in running death camps and were themselves victims of the Third Reich . Poles see themselves as heroes of the war who have never been properly recognized, making the comments yet more hurtful . The remarks came shortly before the 72nd anniversary of the Warsaw Ghetto Uprising, which was commemorated on Sunday . The U.S. ambassador to Poland, Stephen Mull, was called to the Foreign Ministry in a formal act of protest . The incident echoes a gaffe by President Obama in 2012 when',\n",
       " 'pred_data': \"Comey originally delivered the remarks on Wednesday at the U.S. Holocaust Memorial Museum in arguing for the importance of Holocaust education . Polish Foreign Minister Grzegorz Schetyna said he expected him to say sorry so the matter can be settled . Comey's comments are particularly offensive to Poles because they had no role in running Auschwitz and other death camps where Jews were murdered during World War II .\"}"
      ]
     },
     "execution_count": 10,
     "metadata": {},
     "output_type": "execute_result"
    }
   ],
   "source": [
    "pick_random(cdm_predictions)"
   ]
  },
  {
   "cell_type": "code",
   "execution_count": 9,
   "metadata": {},
   "outputs": [],
   "source": [
    "def get_prediction(ds, rand_point):\n",
    "    return_str = \"\"\n",
    "    return_str +=  '\\t\\t\\\\textbf{Article English:} ' + ds[rand_point + (8*3)]['input_data'] + \" \\\\\\\\\\n\\t\\t\\\\hline\\n\"\n",
    "    return_str +=  '\\t\\t\\\\textbf{Real data German:} ' + ds[rand_point]['real_data'] + \" \\\\\\\\\\n\\\\hline\\n\"\n",
    "    return_str +=  '\\t\\t\\\\textbf{Predicted DEtoDE:} ' + ds[rand_point + (8*0)]['pred_data'] + \" \\\\\\\\\\n\\t\\t\\\\hline\\n\"\n",
    "    return_str +=  '\\t\\t\\\\textbf{Predicted ENtoDE:} ' + ds[rand_point + (8*1)]['pred_data'] + \" \\\\\\\\\\n\\\\hline\\n\"\n",
    "    \n",
    "    return_str +=  '\\t\\t\\\\textbf{Real data English:} ' + ds[rand_point + (8*2)]['real_data'] + \"\\\\\\\\\\n\\t\\t\\\\hline\\n\"\n",
    "    return_str +=  '\\t\\t\\\\textbf{Predicted DEtoEN:} ' + ds[rand_point + (8*2)]['pred_data'] + \" \\\\\\\\\\n\\t\\t\\\\hline\\n\"\n",
    "    return_str +=  '\\t\\t\\\\textbf{Predicted ENtoEN:} ' + ds[rand_point + (8*3)]['pred_data'] + \" \\\\\\\\\\n\\t\\t\\\\hline\\n\"\n",
    "    return return_str\n",
    "    \n",
    "def pick_full_example(ds):\n",
    "    len_ds = len(ds)\n",
    "    random_ds_point = np.random.randint(len_ds)\n",
    "    item_language_tag = ds[random_ds_point]['language_tag']\n",
    "    while item_language_tag != \"de_de\":\n",
    "        random_ds_point = np.random.randint(len_ds)\n",
    "        item_language_tag = ds[random_ds_point]['language_tag']\n",
    "        \n",
    "    return get_prediction(ds, random_ds_point)\n",
    "# print(pick_full_example(suedd_predictions))"
   ]
  },
  {
   "cell_type": "code",
   "execution_count": 12,
   "metadata": {},
   "outputs": [
    {
     "name": "stdout",
     "output_type": "stream",
     "text": [
      "\t\t\\textbf{Article English:} summarize English to English: The Human Resources and Finance Director of the Employment Agency is regarded as direct and spirited - and drives change processes forward. This seems to have become too much for some in the authority. When the Federal Employment Agency (BA) introduced its new board member Valerie Holsboer in a press release on 31 March 2017, the former boss of an employers \"association was described as\" an experienced negotiator. \" At the time, this referred to difficult collective bargaining. But now, just over two years after becoming the first woman to serve on BAs board, the 42-year-old has to prove her negotiating skills on her own. Because her chair on BAs three-man board is shaking violently. Bild am Sonntag reported at the weekend that the lawyer was to be removed at the next meeting of BA's board of directors on July 12. The Board of Directors is the powerful supervisory body of the Nuremberg authority it proposes the Executive Board to the Federal Government. The Board of Directors consists of one-third employer and employee representatives and delegates from federal and state ministries as well as municipalities. The three board members of the Federal Agency can also be roughly assigned to one \"bank\": employer, employee plus one member from the Federal Employment Agency itself. Headwinds from Holsboer's own camp, which is responsible for human resources and finance on the Executive Board, are on the employers \"side in this reading prior to her move to Nuremberg, she was chief executive of the Federal Association of Catering Systems. Which makes it all the more surprising that the headwind seems to come from Holsboer's own camp. BA's chief executive, Peter Clever, is said to have told her that she would be voted out of office the employee side no longer supports her either. Clever, a member of the executive board of the employers \"association BDA, was not available for comment, nor was Annelie Buntenbach, a board member of the German Trade Union Confederation and BA vice-chairman. The 61-year-old Christiane Schönefeld, head of the North Rhine-Westphalia regional directorate, is seen as a possible successor. Board members said Holsboer's approach to the central question of how the BA should be set up in times of low but entrenched unemployment was not strategic and \\\\\n",
      "\t\t\\hline\n",
      "\t\t\\textbf{Real data German:} Die Personal- und Finanzvorständin der Arbeitsagentur gilt als direkt und temperamentvoll - und treibt Veränderungsprozesse voran. Das ist offenbar einigen in der Behörde zu viel geworden. \\\\\n",
      "\\hline\n",
      "\t\t\\textbf{Predicted DEtoDE:} Die Personal- und Finanzvorständin der Arbeitsagentur gilt als direkt und temperamentvoll - und treibt Veränderungsprozesse voran. Das ist offenbar einigen in der Behörde zu viel geworden. \\\\\n",
      "\t\t\\hline\n",
      "\t\t\\textbf{Predicted ENtoDE:} Die Personal- und Finanzdirektorin der Arbeitsagentur gilt als direkt und leidenschaftlich - und treibt Veränderungsprozesse voran. Einige in der Behörde scheint das zu viel geworden zu sein. \\\\\n",
      "\\hline\n",
      "\t\t\\textbf{Real data English:} The Human Resources and Finance Director of the Employment Agency is regarded as direct and spirited - and drives change processes forward. This seems to have become too much for some in the authority.\\\\\n",
      "\t\t\\hline\n",
      "\t\t\\textbf{Predicted DEtoEN:} The head of personnel and finance at the Employment Agency is seen as direct and temperamental - and is pushing for change. Some in the authority have apparently become too much. \\\\\n",
      "\t\t\\hline\n",
      "\t\t\\textbf{Predicted ENtoEN:} The Human Resources and Finance Director of the Employment Agency is regarded as direct and spirited - and drives change processes forward. This seems to have become too much for some in the authority. \\\\\n",
      "\t\t\\hline\n",
      "\n"
     ]
    }
   ],
   "source": [
    "print(pick_full_example(suedd_predictions))"
   ]
  },
  {
   "cell_type": "code",
   "execution_count": 13,
   "metadata": {},
   "outputs": [
    {
     "name": "stdout",
     "output_type": "stream",
     "text": [
      "\t\t\\textbf{Article English:} summarize English to English: Münster in Westphalia is full of ancient sights: the cathedral from the 13th century, the castle from the 18th century and the football stadium of 1926. It was here that Prussia played Münster when the club finished second in the German championship in 1951 and when it competed in the founding season of the Bundesliga in 1963 / 64. Prussia Münster still plays in this stadium today. In the near future, the half-dilapidated Prussian stadium is to be rebuilt on the spot and made fit for the future, so that another legacy can be ticked off: the now 28-year-old dream of returning to the second division. Already this summer, SC Prussias football team, which is not worth seeing, was retreaded in this remarkable city with a new coach, twelve new players and new promotion hopes for the ninth consecutive season in the third division. It opens on Friday as a guest of TSV 1860 Munich. Founding member of the Bundesliga, this sounds more like impoverished nobility in Münsters case, because they have never played in the Bundesliga since immediate relegation in 1964. The second league was also a long time ago: 1991. The Münsterans have been playing in the single-track third league since 2011. When depressed representatives of insolvent traditional clubs complain again and again that the third league is a kind of pathway to the dead because of insufficient TV income, the Münsterans must be commended for having arranged themselves reasonably comfortably. In eight seasons they have never been worse than 12th - but never better than fourth. Of course, the Westphalians would have liked to have escaped to the second division, but every new attempt went wrong. Indeed, Munster are the last remaining team to play consistently in the third division since 2011. SV Wehen Wiesbaden had faithfully accompanied the Prussians in these eight years, but has just made the leap to the second division. Now Münster is the last constant in a league in which through traffic is reminiscent of a busy central station. So now the ninth attempt. To this end, the Münster-based club are banking on coach Sven Hübscher, 40, who last coached Werder Bremen's second team for almost one and a half years. He took up his job in Bremen shortly before the inevitable relegation from the third division \\\\\n",
      "\t\t\\hline\n",
      "\t\t\\textbf{Real data German:} Drittligist Preußen Münster startet ambitioniert in die Spielzeit und vertraut weiter auf Trainer Sven Hübscher. \\\\\n",
      "\\hline\n",
      "\t\t\\textbf{Predicted DEtoDE:} Der SC Preußen kehrt nach 28 Jahren in die zweite Liga zurück. \\\\\n",
      "\t\t\\hline\n",
      "\t\t\\textbf{Predicted ENtoDE:} Der SC Preußen Münster feiert die neunte Bundesliga-Saison in Serie - mit einem neuen Trainer und zwölf neuen Spielern. \\\\\n",
      "\\hline\n",
      "\t\t\\textbf{Real data English:} Third division Prussia Münster starts the season ambitious and continues to rely on coach Sven Hübscher.\\\\\n",
      "\t\t\\hline\n",
      "\t\t\\textbf{Predicted DEtoEN:} SC Preußen Münster is returning to the second division with a new coach, 12 new players and new promotion opportunities. \\\\\n",
      "\t\t\\hline\n",
      "\t\t\\textbf{Predicted ENtoEN:} Prussia Münster is the last remaining team to play consistently in the third division since 2011. \\\\\n",
      "\t\t\\hline\n",
      "\n"
     ]
    }
   ],
   "source": [
    "print(pick_full_example(suedd_predictions))"
   ]
  },
  {
   "cell_type": "code",
   "execution_count": 12,
   "metadata": {},
   "outputs": [
    {
     "name": "stdout",
     "output_type": "stream",
     "text": [
      "\t\t\\textbf{Article English:} summarize English to English: The shooting of African-American, father-of-four Walter Scott by a white cop has provoked a torrent of anger and grief from celebrities on social media. Mr Scott, 50, was gunned down by Officer Michael Slager on Saturday morning in Charleston, South Carolina, when he ran from the cop. Pop star and member of Destinys Child, Michelle Williams, wrote: 'Once again... #WalterScott' and added a broken heart. Singer Janelle Monáe said: 'This brought tears to my eyes. #WalterScott reminds me of my uncle, family. Can only imagine the pain his fam feels.' Rapper Big Boi simply tweeted an image of a black square with the words: '#WalterScott'. Scroll down for video . Destiny's Child member Michelle Williams tweeted about her grief over the shooting of father-of-four Walter Scott in South Carolina on Saturday . A number of celebrities joined a torrent of outrage from Twitter users over the shooting on Walter Scott. Rapper Big Boi simply published a black square with the words: #WalterScott . Singer Janelle Monae also added her condolences on Twitter following the shooting of the father-of-four . Musician Questlove shared his anger with followers through his posts after it emerged that Scott had been running from the cop with his back turned when he was shot dead . Mr Scott, 50, was gunned down by Officer Michael Slager on Saturday morning in Charleston, South Carolina and pronounced dead at the scene . Musician Questlove wrote: 'I believe in waiting to hear everything before casting opinion. But allow me the preemptive...uh...shot of \"I feared for my life\" my ass.' He went on: 'Can you imagine the amount of murders that went down before the age and development of cell phone videos? this didn't start this year.' The star added: 'i was numb, now I'm angry. i rarely cuss here out of respect. but I'm angry as f***. good night.' Actor Isaiah Washington tweeted: 'Okay, watching the #WalterScott video was horrible, but I think the brave person who \\\\\n",
      "\t\t\\hline\n",
      "\t\t\\textbf{Real data German:} Der 50-jährige Scott wurde am Samstagmorgen in Charleston, South Carolina, von Offizier Michael Slager niedergeschossen. Sängerin Janelle Monáe sagte: \"Das hat mir Tränen in die Augen getrieben. # WalterScott erinnert mich an meinen Onkel, meine Familie. Kann sich nur vorstellen, welchen Schmerz seine Familie empfindet. Rapper Big Boi twitterte einfach ein Bild eines schwarzen Quadrats mit den Worten: \"# WalterScott\" Slager wurde des Mordes angeklagt und könnte die Todesstrafe drohen. \\\\\n",
      "\\hline\n",
      "\t\t\\textbf{Predicted DEtoDE:} Walter Scott, 50, wurde am Samstagmorgen in Charleston, South Carolina, von Offizier Michael Slager erschossen. Prominente in den sozialen Medien lösten eine Flut von Wut und Trauer aus. Rapper Big Boi twitterte einfach ein Bild eines schwarzen Quadrats mit den Worten \"# WalterScott\". \\\\\n",
      "\t\t\\hline\n",
      "\t\t\\textbf{Predicted ENtoDE:} Walter Scott, 50, wurde am Samstagmorgen in Charleston, South Carolina, von Offizier Michael Slager erschossen. Popstar und Mitglied von Destiny 's Child, Michelle Williams, schrieb: \"Einmal wieder... # WalterScott\" und fügte ein gebrochenes Herz hinzu. Rapper Big Boi twitterte einfach ein Bild eines schwarzen Quadrats mit den Worten: \"# WalterScott\". \\\\\n",
      "\\hline\n",
      "\t\t\\textbf{Real data English:} Mr Scott, 50, was gunned down by Officer Michael Slager on Saturday morning in Charleston, South Carolina . Singer Janelle Monáe said: This brought tears to my eyes. #WalterScott reminds me of my uncle, family. Can only imagine the pain his fam feels . Rapper Big Boi simply tweeted an image of a black square with the words: '#WalterScott Slager has been charged with murder and could face the death penalty .\\\\\n",
      "\t\t\\hline\n",
      "\t\t\\textbf{Predicted DEtoEN:} Walter Scott, 50, was shot dead by white officer Michael Slager on Saturday . Prominents have flooded social media with anger and grief over the shooting . Rapper Big Boi posted a picture of a black quadrangle with the words # WalterScott \\\\\n",
      "\t\t\\hline\n",
      "\t\t\\textbf{Predicted ENtoEN:} Walter Scott, 50, was gunned down by Officer Michael Slager on Saturday . Pop star and member of Destiny's Child, Michelle Williams, tweeted about her grief . Singer Janelle Monae said: This brought tears to my eyes. #WalterScott reminds me of my uncle, family. Can only imagine the pain his fam feels \\\\\n",
      "\t\t\\hline\n",
      "\n"
     ]
    }
   ],
   "source": [
    "print(pick_full_example(cdm_predictions))"
   ]
  },
  {
   "cell_type": "code",
   "execution_count": 13,
   "metadata": {},
   "outputs": [
    {
     "name": "stdout",
     "output_type": "stream",
     "text": [
      "\t\t\\textbf{Article English:} summarize English to English: A professor testifying in a cold-case trial in Southern California said Thursday that she was intimidated into identifying her rapist to the man now charged with killing him in 1995. Norma Esparza, who pleaded guilty to voluntary manslaughter in the case and agreed to testify, said from the stand that her ex-boyfriend, Gianni Van, now 45, was outraged when he heard about the assault and demanded that she find and point out Gonzalo Ramirez at the bar where she met him. Van is now charged with the murder of Ramirez. Prosecutors allege Van and friends kidnapped and beat Ramirez and left him by the roadside. I was intimidated': Norma Esparza, pictured here during a press conference in 2013, testified Thursday at the murder trial of ex-boyfriend, Gianni Van, 45, who is charged with killing a man in 1995 she claims raped her. She says Van intimidated her into identifying the murder victim, Gonzalo Ramirez . Accused: Gianni Van, 45, (left) is accused of the 1995 murder of Gonzalo Ramirez (right), whose blindfolded, bloodied body was found on the side of an Irvine, California road having suffered 30 blows with a cleaver . 'We were sitting around a booth next to an entrance or exit, and at some point I see Gonzalo Ramirez walk by,' Esparza said of the night in 1995, according to the Orange County Register. 'When I see him, I cringe,' she said, showing how she reacted by bending her head down and putting her face in her hands. 'I didn't want to see him again.' Esparza, testifying in the trial's second day, said she was 'broken' by the assault, that Van was directing his anger not just at her attacker but at her, and that she did not know what Van and his friends would do once she pointed out Ramirez. 'He would just insult me,' she said. 'He would rant and just be explosive.' Revenge? Prosecutors say Van killed Ramirez as \\\\\n",
      "\t\t\\hline\n",
      "\t\t\\textbf{Real data German:} Norma Esparza, 40, muss sechs Jahre ins Staatsgefängnis, nachdem sie sich in einem reduzierten Anklagepunkt des freiwilligen Totschlags schuldig bekannt hat. Sie ist eine von vier Personen, die des Mordes an Gonzalo Ramirez, 24, angeklagt sind, von dem sie behauptet, er habe sie vergewaltigt. Als Professorin in Genf wurde sie 2012 bei ihrer Rückkehr in die USA für eine akademische Konferenz verhaftet. Sie sagt, ihr Ex-Freund, Gianni Van, habe sie gezwungen, Ramirez zu identifi \\\\\n",
      "\\hline\n",
      "\t\t\\textbf{Predicted DEtoDE:} Norma Esparza, die sich in dem Fall des freiwilligen Totschlags schuldig bekannte und sich bereit erklärte, auszusagen, sagte, ihr Ex-Freund Gianni Van sei empört gewesen, als er von dem Übergriff gehört habe, und habe verlangt, Gonzalo Ramirez in der Bar zu finden und ihn darauf hinzuweisen. Van wird des Mordes an Ramirez im Jahr 1995 angeklagt. \\\\\n",
      "\t\t\\hline\n",
      "\t\t\\textbf{Predicted ENtoDE:} Norma Esparza sagte am Donnerstag aus, dass ihr Ex-Freund Gianni Van, 45, sie einschüchterte, um Gonzalo Ramirez zu identifizieren, den sie beschuldigt, 1995 vergewaltigt zu haben. Esparza, die sich des freiwilligen Totschlags in dem Fall schuldig bekannte und sich bereit erklärte, aussagen zu dürfen, sagte, sie sei empört gewesen, als er von der Übergriffe hörte und verlangte, dass sie Ramirez in der Bar finden und auf ihn hinweisen müsse. \\\\\n",
      "\\hline\n",
      "\t\t\\textbf{Real data English:} Norma Esparza, 40, is facing six years in state prison after pleading guilty to a reduced charge of voluntary manslaughter . She is one of four people accused of the 1995 killing of Gonzalo Ramirez, 24, who she claims raped her . A professor in Geneva, she was arrested in the cold case murder tin 2012 when she re-entered the U.S. for an academic conference . She says her ex-boyfriend, Gianni Van, forced her to identify Ramirez and then coerced her to keep the murder secret for almost two decades . Esparza is now testifying at Van's murder\\\\\n",
      "\t\t\\hline\n",
      "\t\t\\textbf{Predicted DEtoEN:} Norma Esparza, who pleaded guilty in the case of voluntary manslaughter, said on Thursday that her ex-boyfriend Gianni Van, 45, was upset when he heard about the rape . Van is now charged with murdering Gonzalo Ramirez, who was found with a bloodied corpse on the street in 1995 . \\\\\n",
      "\t\t\\hline\n",
      "\t\t\\textbf{Predicted ENtoEN:} Norma Esparza, who pleaded guilty to voluntary manslaughter in the case and agreed to testify, said from the stand that her ex-boyfriend, Gianni Van, was outraged when he heard about the assault . He demanded that she find and point out Gonzalo Ramirez at the bar where she met him . Van is now charged with the murder of Ramirez . \\\\\n",
      "\t\t\\hline\n",
      "\n"
     ]
    }
   ],
   "source": [
    "print(pick_full_example(cdm_predictions))"
   ]
  },
  {
   "cell_type": "code",
   "execution_count": 21,
   "metadata": {},
   "outputs": [
    {
     "name": "stdout",
     "output_type": "stream",
     "text": [
      "\t\t\\textbf{Article English:} summarize English to English: The coalition factions of the CDU / CSU and SPD have confirmed that they will abolish the solidarity surcharge for 90 percent of taxpayers as of 1 January 2021. This was agreed by the executive committee of the parliamentary group in Berlin. Employees are to be relieved by approximately ten billion euros per year. A joint paper by the two groups stresses that this is \"a first step.\" In addition, the better tax deductibility of research and development expenditure agreed by the Federal Government is to be introduced indefinitely. The government groups also want to ensure that the effect of the so-called \"Cold Progression\" on taxpayers is offset. There should be a rate adjustment on income tax. The stipulations are an indication that corresponding government projects should pass the Bundestag with a majority of the Union and the SPD without major problems. The leaders of the parliamentary groups met for the first time after the European elections, which were heavy losses for the Union and the SPD, and the resignation of SPD leader Andrea Nahles. On Thursday, both sides had already stressed the readiness for further cooperation in the grand coalition and stability. \\\\\n",
      "\t\t\\hline\n",
      "\t\t\\textbf{Real data German:} CDU/CSU und SPD betonen die Stabilität der Regierung - und setzen ein Vorhaben aus dem Koalitionsvertrag um. \\\\\n",
      "\\hline\n",
      "\t\t\\textbf{Predicted DEtoDE:} Die Koalitionsfraktionen von CDU/CSU und SPD haben bekräftigt, den Solidaritätszuschlag zum 1. Januar 2021 für 90 Prozent der Steuerzahler abzuschaffen. \\\\\n",
      "\t\t\\hline\n",
      "\t\t\\textbf{Predicted ENtoDE:} Die Koalitionsfraktionen CDU / CSU und SPD wollen den Solidaritätszuschlag für 90 Prozent der Steuerzahler abschaffen. \\\\\n",
      "\\hline\n",
      "\t\t\\textbf{Real data English:} The CDU / CSU and SPD emphasise the stability of the government - and implement a project from the coalition agreement.\\\\\n",
      "\t\t\\hline\n",
      "\t\t\\textbf{Predicted DEtoEN:} The coalitions of the CDU/CSU and the SPD have confirmed that they will abolish the Solidarity Measure for 90 percent of taxpayers from 1 January 2021. \\\\\n",
      "\t\t\\hline\n",
      "\t\t\\textbf{Predicted ENtoEN:} The coalition factions of the CDU / CSU and SPD have confirmed that they will abolish the solidarity surcharge for 90 percent of taxpayers as of 1 January 2021. \\\\\n",
      "\t\t\\hline\n",
      "\n"
     ]
    }
   ],
   "source": [
    "input_text_en = \" The coalition factions of the CDU / CSU and SPD have confirmed that they will abolish the solidarity surcharge for 90 percent of taxpayers as of 1 January 2021. This was agreed by the executive committee of the parliamentary group in Berlin. Employees are to be relieved by approximately ten billion euros per year. A joint paper by the two groups stresses that this is \\\"a first step.\\\" In addition, the better tax deductibility of research and development expenditure agreed by the Federal Government is to be introduced indefinitely. The government groups also want to ensure that the effect of the so-called \\\"Cold Progression\\\" on taxpayers is offset. There should be a rate adjustment on income tax. The stipulations are an indication that corresponding government projects should pass the Bundestag with a majority of the Union and the SPD without major problems. The leaders of the parliamentary groups met for the first time after the European elections, which were heavy losses for the Union and the SPD, and the resignation of SPD leader Andrea Nahles. On Thursday, both sides had already stressed the readiness for further cooperation in the grand coalition and stability.\"\n",
    "ds_point = -1\n",
    "for i, item in enumerate(sum_predictions):\n",
    "\n",
    "    if item['input_data'] == \"summarize English to English:\" + input_text_en:\n",
    "        ds_point = i - (8*3)\n",
    "        \n",
    "print(get_prediction(sum_predictions, ds_point))"
   ]
  },
  {
   "cell_type": "code",
   "execution_count": 10,
   "metadata": {},
   "outputs": [
    {
     "name": "stdout",
     "output_type": "stream",
     "text": [
      "\t\t\\textbf{Article English:} summarize English to English: For 29.99 euros to Antalya, for 39.99 euros to Djerba or Jerez de la Frontera - if you fly Condor, you will fly very cheaply with a bit of luck. On the website, the holiday airline advertises the low fares under the label \"short flights\" - so not so far away and for a few days in the sun, its cheap. The concept is not new, but now a political discussion is unfolding about prices, which could be dangerous for the company. Does Condor, which has just been kept afloat by a state loan of EUR 380 million, offer flights at a dumping rate? And how is that compatible with the climate pact? \" To make fighting prices and market winning strategies with tax money, is an nonsense, \"says the deputy chairman of the FDP parliamentary group Michael Theurer.\" The Bundestag must get access to all documents, so that the members of parliament can get an idea of whether the loan has been misused, \"the politician said. Distortion of competition with government clay and cross-subsidisation of cheap tickets is unacceptable. \" Following the bankruptcy of the tour operator Thomas Cook, to which Condor belongs, the Federal Government and the Land of Hesse had agreed to guarantee a KfW loan. Condor needs the money for the coming winter, when holiday airlines traditionally make losses, which they over-compensate in the summer when things are going well. The bankruptcy of the parent company eliminated the cash cushion for the low-income period. Condor got the loan and is in a protective shield procedure, a variant of insolvency, in which the company can go through insolvency proceedings in self-administration after three months. Also the Condor competition grumbles already audibly that it must now take on a state-supported airline, which wants to gain market share by low prices. With Tuifly the flight to Heraklion costs at least 93.74 euros, with Condor on the other hand only 39.99 euros. Lufthansa offshoot Eurowings offers many European destinations for prices starting from 29.99 euros, Heraklion is available from 49.99 euros. However, Eurowings does not receive any state aid and normally only a small part of the capacity is offered in single seat sales at \\\\\n",
      "\t\t\\hline\n",
      "\t\t\\textbf{Real data German:} Die Ferienfluggesellschaft erhält einen Staatskredit und wirbt nun mit Schnäppchenpreisen um Kunden. Das ärgert die Konkurrenz - und bringt die Bundesregierung in eine heikle Situation. \\\\\n",
      "\\hline\n",
      "\t\t\\textbf{Predicted DEtoDE:} Die Ferienfluggesellschaft Condor fliegt mit einem Staatskredit von 380 Millionen Euro über Wasser günstige Flüge zum Dumpingtarif an - und wie verträgt sich das mit dem Klimapakt? \\\\\n",
      "\t\t\\hline\n",
      "\t\t\\textbf{Predicted ENtoDE:} Die Ferienflieger Condor hat ein staatliches Darlehen in Höhe von 380 Millionen Euro erworben. Die Fraktion FDP kritisiert dies als Unsinn. \\\\\n",
      "\\hline\n",
      "\t\t\\textbf{Real data English:} The holiday airline has been given a government loan and is now courting customers with bargain prices. This annoys the competition - and puts the federal government in a delicate situation.\\\\\n",
      "\t\t\\hline\n",
      "\t\t\\textbf{Predicted DEtoEN:} Condor wants to fly low-cost flights to Antalya, Djerba or Jerez de la Frontera for 29.99 euros - and is now facing a political debate about the prices that could be dangerous for the company. \\\\\n",
      "\t\t\\hline\n",
      "\t\t\\textbf{Predicted ENtoEN:} Condor, which has just been kept afloat by a state loan of EUR 380 million, wants to compete with a state-supported airline. \\\\\n",
      "\t\t\\hline\n",
      "\n"
     ]
    }
   ],
   "source": [
    "input_text_de = \" Für 29,99 Euro nach Antalya, für 39,99 Euro nach Djerba oder Jerez de la Frontera - wer Condor fliegt, fliegt mit ein bisschen Glück gerade sehr günstig. Auf der Website bewirbt die Ferienfluggesellschaft die Niedrigtarife unter dem Label \\\"Kurzfliegen\\\" - also nicht so weit weg und mal kurz für ein paar Tage in die Sonne, es ist ja günstig. Neu ist das Konzept nicht, aber nun entfaltet sich eine politische Diskussion um die Preise, die für das Unternehmen gefährlich werden könnte. Bietet Condor, gerade mit einem Staatskredit von 380 Millionen Euro über Wasser gehalten, Flüge zum Dumpingtarif an? Und wie verträgt sich das mit dem Klimapakt? \\\"Kampfpreise und Marktgewinnungsstrategien mit Steuergeld zu machen, ist ein Unding\\\", sagt der stellvertretende Vorsitzende der FDP-Bundestagsfraktion Michael Theurer. \\\"Der Bundestag muss Zugang zu sämtlichen Unterlagen bekommen, damit sich die Abgeordneten ein Bild davon machen können, ob eine Zweckentfremdung des Kredits vorliegt\\\", so der Politiker. \\\"Eine Wettbewerbsverzerrung mit Staatsknete und eine Quersubventionierung von Billigtickets sind inakzeptabel.\\\" Die Bundesregierung und das Land Hessen hatten nach der Pleite des Reiseveranstalters Thomas Cook, zu dem Condor gehört, zugesagt, für einen KfW-Kredit zu bürgen. Das Geld braucht Condor für den kommenden Winter, in dem Ferien-Airlines traditionell Verluste machen, die sie, wenn es gut läuft, im Sommer überkompensieren. Durch die Pleite der Muttergesellschaft war das Cash-Polster für die aufkommensschwache Zeit weg. Condor bekam den Kredit und befindet sich in einem Schutzschirmverfahren, einer Variante der Insolvenz, bei der das Unternehmen nach drei Monaten ein Insolvenzverfahren in Eigenverwaltung durchlaufen kann. Auch die Condor-Konkurrenz murrt schon vernehmlich, dass sie es nun mit einer staatlich unterstützten Fluggesellschaft aufnehmen muss, die über Billigpreise Marktanteile gewinnen wolle. Bei Tuifly kostet der Flug nach Heraklion mindestens 93,74 Euro, bei Condor dagegen nur 39,99 Euro. Lufthansa-Ableger Eurowings bietet viele europäische Ziele für Preise ab 29,99 Euro an, Heraklion gibt es ab 49,99 Euro. Allerdings erhält Eurowings keine Staatshilfen, und normalerweise wird nur ein kleiner Teil der Kapazität im Einzelplatzverkauf zu diesen Einstiegspreisen angeboten. Bei Condor aber geht es auch um die Kontingente, die die Airline an Reiseveranstalter verkaufen will, nachdem ihr durch die Thomas-Cook-Pleite 20 Prozent der Kunden verloren gegangen sind. Die Veranstalter greifen derzeit gerne die Billigkontingente ab, so ein Insider, und decken sich damit für den Winter ein. \\\"Das ist nicht vergleichbar mit den Vorjahren\\\", sagt er. Condor-Vertriebschef Paul Schwaiger hofft, die hohe Nachfrage der anderen Veranstalter werde die Lücke schließen. Zu spüren bekommen dies nun Konkurrenten wie Eurowings, Tuifly oder Sun Express. Heikle Situation für die Bundesregierung \\\"Alle Airlines bieten derzeit attraktive Angebote für Flüge in der Nebensaison, um diese auszulasten, so auch Condor\\\", teilte Condor mit. Bei den Günstigtarifen handele es sich um eine lang geplante Preisaktion, die sich mit der Insolvenz der Thomas Cook überschnitten habe und nicht mehr gestoppt werden konnte. Sie sei am 3. Oktober ausgelaufen. Die günstigen Angebote für Einzelplätze waren aber auch danach noch verfügbar. Den Reiseveranstaltern werden dem Vernehmen nach ebenfalls weiterhin günstige Angebote unterbreitet. Ein Beobachter weist darauf hin, dass auch Air Berlin nach dem Insolvenzantrag im August 2017 versucht habe, der Konkurrenz Marktanteile abzunehmen. Für die Bundesregierung ist die Situation politisch heikel. Gerade erst hat sie im Klimapakt beschlossen, die Luftverkehrsabgabe zu erhöhen, um das Fliegen zu verteuern und zu verhindern, dass die Fluggesellschaften zu billige Tickets verkaufen, die die wahren (Umwelt-)Kosten der Reisen nicht widerspiegeln. Die Union hatte darüber hinaus ernsthaft erwogen, den Airlines Mindestpreise von rund 50 Euro vorzuschreiben. Ins Klimapaket der Bundesregierung wurde diese Forderung letztlich aber nicht übernommen. Hingegen soll die Steuer nach einem Referentenentwurf des Bundesfinanzministeriums erhöht werden - um 2,93 Euro für Strecken innerhalb Deutschlands und Europas (Distanzklasse 1) und um 16,45 Euro für Langstrecken (Distanzklasse 3). Bei einem Langstreckenflug sind damit künftig 58,63 Euro fällig, bei Kurzstrecken 10,43 Euro. Insgesamt soll die Steuer die Branche mit rund 500 Millionen Euro belasten.\"\n",
    "input_text_en = \" For 29.99 euros to Antalya, for 39.99 euros to Djerba or Jerez de la Frontera - if you fly Condor, you will fly very cheaply with a bit of luck. On the website, the holiday airline advertises the low fares under the label \\\"short flights\\\" - so not so far away and for a few days in the sun, its cheap. The concept is not new, but now a political discussion is unfolding about prices, which could be dangerous for the company. Does Condor, which has just been kept afloat by a state loan of EUR 380 million, offer flights at a dumping rate? And how is that compatible with the climate pact? \\\" To make fighting prices and market winning strategies with tax money, is an nonsense, \\\"says the deputy chairman of the FDP parliamentary group Michael Theurer.\\\" The Bundestag must get access to all documents, so that the members of parliament can get an idea of whether the loan has been misused, \\\"the politician said. Distortion of competition with government clay and cross-subsidisation of cheap tickets is unacceptable. \\\" Following the bankruptcy of the tour operator Thomas Cook, to which Condor belongs, the Federal Government and the Land of Hesse had agreed to guarantee a KfW loan. Condor needs the money for the coming winter, when holiday airlines traditionally make losses, which they over-compensate in the summer when things are going well. The bankruptcy of the parent company eliminated the cash cushion for the low-income period. Condor got the loan and is in a protective shield procedure, a variant of insolvency, in which the company can go through insolvency proceedings in self-administration after three months. Also the Condor competition grumbles already audibly that it must now take on a state-supported airline, which wants to gain market share by low prices. With Tuifly the flight to Heraklion costs at least 93.74 euros, with Condor on the other hand only 39.99 euros. Lufthansa offshoot Eurowings offers many European destinations for prices starting from 29.99 euros, Heraklion is available from 49.99 euros. However, Eurowings does not receive any state aid and normally only a small part of the capacity is offered in single seat sales at\"\n",
    "ds_point = -1\n",
    "for i, item in enumerate(sum_predictions):\n",
    "\n",
    "    if item['input_data'] == \"summarize English to English:\" + input_text_en:\n",
    "        ds_point = i - (8*3)\n",
    "        \n",
    "print(get_prediction(sum_predictions, ds_point))"
   ]
  },
  {
   "cell_type": "code",
   "execution_count": 41,
   "metadata": {},
   "outputs": [
    {
     "name": "stdout",
     "output_type": "stream",
     "text": [
      "78\n",
      "44642\n",
      "\t\t\\textbf{Article English:} summarize English to English: The shooting of African-American, father-of-four Walter Scott by a white cop has provoked a torrent of anger and grief from celebrities on social media. Mr Scott, 50, was gunned down by Officer Michael Slager on Saturday morning in Charleston, South Carolina, when he ran from the cop. Pop star and member of Destinys Child, Michelle Williams, wrote: 'Once again... #WalterScott' and added a broken heart. Singer Janelle Monáe said: 'This brought tears to my eyes. #WalterScott reminds me of my uncle, family. Can only imagine the pain his fam feels.' Rapper Big Boi simply tweeted an image of a black square with the words: '#WalterScott'. Scroll down for video . Destiny's Child member Michelle Williams tweeted about her grief over the shooting of father-of-four Walter Scott in South Carolina on Saturday . A number of celebrities joined a torrent of outrage from Twitter users over the shooting on Walter Scott. Rapper Big Boi simply published a black square with the words: #WalterScott . Singer Janelle Monae also added her condolences on Twitter following the shooting of the father-of-four . Musician Questlove shared his anger with followers through his posts after it emerged that Scott had been running from the cop with his back turned when he was shot dead . Mr Scott, 50, was gunned down by Officer Michael Slager on Saturday morning in Charleston, South Carolina and pronounced dead at the scene . Musician Questlove wrote: 'I believe in waiting to hear everything before casting opinion. But allow me the preemptive...uh...shot of \"I feared for my life\" my ass.' He went on: 'Can you imagine the amount of murders that went down before the age and development of cell phone videos? this didn't start this year.' The star added: 'i was numb, now I'm angry. i rarely cuss here out of respect. but I'm angry as f***. good night.' Actor Isaiah Washington tweeted: 'Okay, watching the #WalterScott video was horrible, but I think the brave person who \\\\\n",
      "\t\t\\hline\n",
      "\t\t\\textbf{Real data German:} Der 50-jährige Scott wurde am Samstagmorgen in Charleston, South Carolina, von Offizier Michael Slager niedergeschossen. Sängerin Janelle Monáe sagte: \"Das hat mir Tränen in die Augen getrieben. # WalterScott erinnert mich an meinen Onkel, meine Familie. Kann sich nur vorstellen, welchen Schmerz seine Familie empfindet. Rapper Big Boi twitterte einfach ein Bild eines schwarzen Quadrats mit den Worten: \"# WalterScott\" Slager wurde des Mordes angeklagt und könnte die Todesstrafe drohen. \\\\\n",
      "\\hline\n",
      "\t\t\\textbf{Predicted DEtoDE:} Der 50-jährige Scott wurde am Samstagmorgen in Charleston, South Carolina, von Offizier Michael Slager niedergeschossen, als er vor ihm weglief. Popstar Michelle Williams twitterte: \"Wieder einmal... # WalterScott\" Sängerin Janelle Monae sagte: \"Das hat mir Tränen in die Augen getrieben. # WalterScott erinnert mich an meinen Onkel, meine Familie. Kann sich nur vorstellen, welchen Schmerz seine Familie empfindet \" \\\\\n",
      "\t\t\\hline\n",
      "\t\t\\textbf{Predicted ENtoDE:} Scott, 50, wurde am Samstagmorgen in Charleston, South Carolina, von einem Polizisten erschossen. Popstar und Mitglied von Destiny 's Child, Michelle Williams, schrieb: \"Einmal wieder... #WalterScott\" und fügte ein gebrochenes Herz hinzu. Singer Janelle Monáe sagte: \"Das erinnert mich an meinen Onkel, seine Familie\". Rapper Big Boi twitterte einfach ein Bild eines schwarzen Quadrats mit den Worten: \"#WalterScott\". \\\\\n",
      "\\hline\n",
      "\t\t\\textbf{Real data English:} Mr Scott, 50, was gunned down by Officer Michael Slager on Saturday morning in Charleston, South Carolina . Singer Janelle Monáe said: This brought tears to my eyes. #WalterScott reminds me of my uncle, family. Can only imagine the pain his fam feels . Rapper Big Boi simply tweeted an image of a black square with the words: '#WalterScott Slager has been charged with murder and could face the death penalty .\\\\\n",
      "\t\t\\hline\n",
      "\t\t\\textbf{Predicted DEtoEN:} The 50-year-old was shot by officer Michael Slager in Charleston, South Carolina . Rapper Big Boi posted a picture of a black square with the words # WalterScott' Singer Janelle Monae said: 'I can only imagine the pain his family feels \\\\\n",
      "\t\t\\hline\n",
      "\t\t\\textbf{Predicted ENtoEN:} Mr Scott, 50, was gunned down by Officer Michael Slager on Saturday morning . Singer Janelle Monae said: This brought tears to my eyes. #WalterScott reminds me of my uncle, family. Can only imagine the pain his fam feels' Rapper Big Boi simply tweeted an image of a black square with the words: '#WalterScott \\\\\n",
      "\t\t\\hline\n",
      "\n"
     ]
    }
   ],
   "source": [
    "input_text_en = \"summarize English to English: The shooting of African-American, father-of-four\"\n",
    "\n",
    "print(len(input_text_en))\n",
    "ds_point = -1\n",
    "for i, item in enumerate(sum_cdm_predictions):\n",
    "#     print(item['input_data'][:len(input_text_en)], len(item['input_data'][:len(input_text_en)]))\n",
    "    if item['input_data'][:len(input_text_en)] == input_text_en:\n",
    "        ds_point = i - (8*3)  \n",
    "\n",
    "print(ds_point)\n",
    "print(get_prediction(sum_cdm_predictions, ds_point))"
   ]
  },
  {
   "cell_type": "code",
   "execution_count": null,
   "metadata": {},
   "outputs": [],
   "source": []
  },
  {
   "cell_type": "code",
   "execution_count": null,
   "metadata": {},
   "outputs": [],
   "source": []
  }
 ],
 "metadata": {
  "kernelspec": {
   "display_name": "Python 3",
   "language": "python",
   "name": "python3"
  },
  "language_info": {
   "codemirror_mode": {
    "name": "ipython",
    "version": 3
   },
   "file_extension": ".py",
   "mimetype": "text/x-python",
   "name": "python",
   "nbconvert_exporter": "python",
   "pygments_lexer": "ipython3",
   "version": "3.6.9"
  }
 },
 "nbformat": 4,
 "nbformat_minor": 2
}
